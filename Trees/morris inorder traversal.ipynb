{
 "cells": [
  {
   "cell_type": "code",
   "execution_count": null,
   "id": "d4a8a034",
   "metadata": {},
   "outputs": [],
   "source": [
    "def morrisInorder(root):\n",
    "    ans = []\n",
    "    curr = root\n",
    "\n",
    "    while curr:\n",
    "        if not curr.left:\n",
    "            ans.append(curr.val)\n",
    "            curr = curr.right\n",
    "        else:\n",
    "            # Find the inorder predecessor (rightmost in left subtree)\n",
    "            Ip = curr.left\n",
    "            while Ip.right and Ip.right != curr:\n",
    "                Ip = Ip.right\n",
    "            \n",
    "            if not Ip.right:\n",
    "                # Make a temporary thread to current\n",
    "                Ip.right = curr\n",
    "                curr = curr.left\n",
    "            else:\n",
    "                # Thread already exists; remove it\n",
    "                Ip.right = None\n",
    "                ans.append(curr.val)\n",
    "                curr = curr.right\n",
    "\n",
    "    return ans\n"
   ]
  }
 ],
 "metadata": {
  "language_info": {
   "name": "python"
  }
 },
 "nbformat": 4,
 "nbformat_minor": 5
}
