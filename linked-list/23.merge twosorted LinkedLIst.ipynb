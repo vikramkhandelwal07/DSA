{
 "cells": [
  {
   "cell_type": "code",
   "execution_count": null,
   "id": "7fb041a8",
   "metadata": {},
   "outputs": [],
   "source": [
    "class Node:\n",
    "    def __init__(self, val=0, next=None):\n",
    "        self.val = val\n",
    "        self.next = next\n",
    "\n",
    "def mergeSortedList(head1, head2):\n",
    "    if not head1:\n",
    "        return head2\n",
    "    if not head2:\n",
    "        return head1\n",
    "\n",
    "    temp1 = head1\n",
    "    temp2 = head2\n",
    "    dummy = Node(-1)\n",
    "    dummyNode = dummy\n",
    "\n",
    "    while temp1 and temp2:\n",
    "        if temp1.val < temp2.val:\n",
    "            dummyNode.next = Node(temp1.val)\n",
    "            temp1 = temp1.next\n",
    "        else:\n",
    "            dummyNode.next = Node(temp2.val)\n",
    "            temp2 = temp2.next\n",
    "        dummyNode = dummyNode.next\n",
    "\n",
    "    while temp1:\n",
    "        dummyNode.next = Node(temp1.val)\n",
    "        dummyNode = dummyNode.next\n",
    "        temp1 = temp1.next\n",
    "\n",
    "    while temp2:\n",
    "        dummyNode.next = Node(temp2.val)\n",
    "        dummyNode = dummyNode.next\n",
    "        temp2 = temp2.next\n",
    "\n",
    "    return dummy.next\n"
   ]
  },
  {
   "cell_type": "code",
   "execution_count": null,
   "id": "3151ab4a",
   "metadata": {},
   "outputs": [],
   "source": [
    "def mergeSortedList(head1, head2):\n",
    "    dummy = Node(-1)\n",
    "    current = dummy\n",
    "\n",
    "    while head1 and head2:\n",
    "        if head1.val < head2.val:\n",
    "            current.next = head1\n",
    "            head1 = head1.next\n",
    "        else:\n",
    "            current.next = head2\n",
    "            head2 = head2.next\n",
    "        current = current.next\n",
    "\n",
    "    # Attach remaining nodes\n",
    "    if head1:\n",
    "        current.next = head1\n",
    "    else:\n",
    "        current.next = head2\n",
    "\n",
    "    return dummy.next\n"
   ]
  }
 ],
 "metadata": {
  "language_info": {
   "name": "python"
  }
 },
 "nbformat": 4,
 "nbformat_minor": 5
}
