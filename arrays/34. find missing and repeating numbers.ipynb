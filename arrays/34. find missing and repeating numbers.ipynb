{
 "cells": [
  {
   "cell_type": "code",
   "execution_count": 1,
   "id": "1217e392",
   "metadata": {},
   "outputs": [
    {
     "name": "stdout",
     "output_type": "stream",
     "text": [
      "(3, 4)\n"
     ]
    }
   ],
   "source": [
    "def findMissingAndRepeating(nums):\n",
    "    n = len(nums)\n",
    "    missing = -1\n",
    "    repeating = -1\n",
    "    \n",
    "    for i in range(n):\n",
    "        cnt = 0\n",
    "        for j in range(n):\n",
    "            if nums[j] == i:\n",
    "                cnt += 1\n",
    "        if cnt == 2:\n",
    "            repeating = i\n",
    "        elif cnt == 0:\n",
    "            missing = i\n",
    "\n",
    "    return (repeating, missing)\n",
    "\n",
    "# Example usage\n",
    "nums = [0, 1, 2, 3, 3, 5]\n",
    "print(findMissingAndRepeating(nums))  # Output: (3, 4)\n"
   ]
  },
  {
   "cell_type": "code",
   "execution_count": null,
   "id": "5c798ffb",
   "metadata": {},
   "outputs": [],
   "source": []
  }
 ],
 "metadata": {
  "kernelspec": {
   "display_name": "Python 3",
   "language": "python",
   "name": "python3"
  },
  "language_info": {
   "codemirror_mode": {
    "name": "ipython",
    "version": 3
   },
   "file_extension": ".py",
   "mimetype": "text/x-python",
   "name": "python",
   "nbconvert_exporter": "python",
   "pygments_lexer": "ipython3",
   "version": "3.12.0"
  }
 },
 "nbformat": 4,
 "nbformat_minor": 5
}
