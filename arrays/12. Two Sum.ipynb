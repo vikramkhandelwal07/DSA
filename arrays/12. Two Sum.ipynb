{
 "cells": [
  {
   "cell_type": "markdown",
   "metadata": {},
   "source": [
    "## brute force \n",
    "- simple ek element lo aur sabke sath + karke dekho jo match karta hai wo answer\n",
    "- TC - O(N^2)\n"
   ]
  },
  {
   "cell_type": "code",
   "execution_count": 1,
   "metadata": {},
   "outputs": [
    {
     "name": "stdout",
     "output_type": "stream",
     "text": [
      "[0, 1]\n"
     ]
    }
   ],
   "source": [
    "def twoSum(nums,target):\n",
    "  n = len(nums)\n",
    "  for i in range(n):\n",
    "    for j in range(i+1,n):\n",
    "      if nums[i] + nums[j] == target:\n",
    "        return [i,j]\n",
    "      \n",
    "      \n",
    "nums = [2,7,11,15]\n",
    "target = 9\n",
    "result = twoSum(nums, target)\n",
    "print(result)"
   ]
  },
  {
   "cell_type": "markdown",
   "metadata": {},
   "source": [
    "## better ya best \n",
    "- hi hai ye bss with dict hai and agar without dictionary bola toh we can use below approach\n"
   ]
  },
  {
   "cell_type": "code",
   "execution_count": null,
   "metadata": {},
   "outputs": [
    {
     "name": "stdout",
     "output_type": "stream",
     "text": [
      "[0, 1]\n"
     ]
    }
   ],
   "source": [
    "# TC - O(N)\n",
    "# SC - O(N)\n",
    "def twoSum(nums, target):\n",
    "        hashMap = {}\n",
    "\n",
    "        for i,num in enumerate(nums):\n",
    "            complement = target - num\n",
    "            if complement in hashMap:\n",
    "                return [hashMap[complement], i]\n",
    "            hashMap[num] = i\n",
    "\n",
    "        return []\n",
    "      \n",
    "nums = [2,7,11,15]\n",
    "target = 9\n",
    "result = twoSum(nums, target)\n",
    "print(result)"
   ]
  },
  {
   "cell_type": "markdown",
   "metadata": {},
   "source": [
    "## best ya better hi hai isme just without using dict hai\n",
    "- using two pointers first sort the array and then using two pointer you can calculate the sum"
   ]
  },
  {
   "cell_type": "code",
   "execution_count": null,
   "metadata": {},
   "outputs": [
    {
     "name": "stdout",
     "output_type": "stream",
     "text": [
      "[0, 5]\n"
     ]
    }
   ],
   "source": [
    "# TC - O(N)\n",
    "# SC - O(1)\n",
    "def twoSum(nums, target):\n",
    "  \n",
    "  nums = sorted(nums)\n",
    "  left = 0\n",
    "  right = len(nums)-1\n",
    "  for i in range(len(nums)):\n",
    "    if nums[left] + nums[right] == target:\n",
    "      return [left, right]\n",
    "    elif nums[left] + nums[right] < target:\n",
    "      left+=1\n",
    "    else:\n",
    "      right-=1\n",
    "  \n",
    "nums = [2,7,11,15]\n",
    "target = 17\n",
    "result = twoSum(nums, target)\n",
    "print(result)  "
   ]
  },
  {
   "cell_type": "code",
   "execution_count": null,
   "metadata": {},
   "outputs": [],
   "source": []
  },
  {
   "cell_type": "code",
   "execution_count": null,
   "metadata": {},
   "outputs": [],
   "source": []
  },
  {
   "cell_type": "code",
   "execution_count": null,
   "metadata": {},
   "outputs": [],
   "source": []
  }
 ],
 "metadata": {
  "kernelspec": {
   "display_name": "Python 3",
   "language": "python",
   "name": "python3"
  },
  "language_info": {
   "codemirror_mode": {
    "name": "ipython",
    "version": 3
   },
   "file_extension": ".py",
   "mimetype": "text/x-python",
   "name": "python",
   "nbconvert_exporter": "python",
   "pygments_lexer": "ipython3",
   "version": "3.12.0"
  }
 },
 "nbformat": 4,
 "nbformat_minor": 2
}
