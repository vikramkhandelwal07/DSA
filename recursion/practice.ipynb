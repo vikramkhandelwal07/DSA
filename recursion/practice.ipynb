{
 "cells": [
  {
   "cell_type": "code",
   "execution_count": 1,
   "metadata": {},
   "outputs": [
    {
     "name": "stdout",
     "output_type": "stream",
     "text": [
      "\n",
      "vikram vikram vikram vikram vikram \n"
     ]
    }
   ],
   "source": [
    "def printName(name,N):\n",
    "    if N == 0:\n",
    "        print(\"\")\n",
    "    else:\n",
    "        printName(name,N-1)\n",
    "        print(name,end= ' ')\n",
    "    return \"\"    \n",
    "\n",
    "\n",
    "name = input(\"enter the name\")\n",
    "N = int(input(\"enter the number of times:\"))\n",
    "result = printName(name,N)\n",
    "print(result)\n",
    "\n"
   ]
  },
  {
   "cell_type": "code",
   "execution_count": null,
   "metadata": {},
   "outputs": [
    {
     "name": "stdout",
     "output_type": "stream",
     "text": [
      "1\n",
      "2\n",
      "3\n",
      "4\n",
      "5\n",
      "\n",
      "\n"
     ]
    }
   ],
   "source": [
    "def printNumber(i,N):\n",
    "  if i > N:\n",
    "    print(\"\")\n",
    "  else:\n",
    "    print(i)\n",
    "    printNumber(i+1,N)\n",
    "  return \"\"\n",
    "\n",
    "x = printNumber(1,5)\n",
    "print(x)"
   ]
  },
  {
   "cell_type": "code",
   "execution_count": 3,
   "metadata": {},
   "outputs": [
    {
     "name": "stdout",
     "output_type": "stream",
     "text": [
      "5\n",
      "4\n",
      "3\n",
      "2\n",
      "1\n",
      "\n",
      "\n"
     ]
    }
   ],
   "source": [
    "def reverseNumber(N):\n",
    "  if N == 0:\n",
    "    print(\"\")\n",
    "  else:\n",
    "    print(N)\n",
    "    reverseNumber(N-1)\n",
    "  return \"\"\n",
    "\n",
    "output = reverseNumber(5)\n",
    "print(output)"
   ]
  },
  {
   "cell_type": "markdown",
   "metadata": {},
   "source": []
  },
  {
   "cell_type": "code",
   "execution_count": 5,
   "metadata": {},
   "outputs": [
    {
     "name": "stdout",
     "output_type": "stream",
     "text": [
      "120\n"
     ]
    }
   ],
   "source": [
    "def factorial(N):\n",
    "  if N == 1:\n",
    "    return 1\n",
    "  else:\n",
    "    return N * factorial(N-1)\n",
    "  \n",
    "output = factorial(5)\n",
    "print(output)"
   ]
  },
  {
   "cell_type": "markdown",
   "metadata": {},
   "source": [
    "reverse an array using recurison"
   ]
  },
  {
   "cell_type": "code",
   "execution_count": null,
   "metadata": {},
   "outputs": [],
   "source": [
    "def swapArray(array, l,r):\n",
    "  if l >= r:\n",
    "    return array\n",
    "  else:\n",
    "    array[l],array[r] = array[r],array[l]\n",
    "    swapArray(array,l+1,r-1)\n",
    "    return array\n",
    "  return \"\"\n",
    "      "
   ]
  },
  {
   "cell_type": "code",
   "execution_count": 16,
   "metadata": {},
   "outputs": [
    {
     "name": "stdout",
     "output_type": "stream",
     "text": [
      "[6, 5, 4, 3, 2, 1]\n"
     ]
    }
   ],
   "source": [
    "array=[1,2,3,4,5,6]\n",
    "n=len(array)\n",
    "output = swapArray(array,0,n-1)\n",
    "print(output)"
   ]
  },
  {
   "cell_type": "code",
   "execution_count": null,
   "metadata": {},
   "outputs": [],
   "source": []
  }
 ],
 "metadata": {
  "kernelspec": {
   "display_name": "Python 3",
   "language": "python",
   "name": "python3"
  },
  "language_info": {
   "codemirror_mode": {
    "name": "ipython",
    "version": 3
   },
   "file_extension": ".py",
   "mimetype": "text/x-python",
   "name": "python",
   "nbconvert_exporter": "python",
   "pygments_lexer": "ipython3",
   "version": "3.12.0"
  }
 },
 "nbformat": 4,
 "nbformat_minor": 2
}
