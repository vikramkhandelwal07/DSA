{
 "cells": [
  {
   "cell_type": "markdown",
   "metadata": {},
   "source": [
    "# print Names N times"
   ]
  },
  {
   "cell_type": "code",
   "execution_count": 7,
   "metadata": {},
   "outputs": [
    {
     "name": "stdout",
     "output_type": "stream",
     "text": [
      "\n",
      "vik vik vik vik \n"
     ]
    }
   ],
   "source": [
    "def printName(name,N):\n",
    "    if N == 0:\n",
    "        print(\"\")\n",
    "    else:\n",
    "        printName(name,N-1)\n",
    "        print(name,end= ' ')\n",
    "    return \"\"    \n",
    "\n",
    "\n",
    "name = input(\"enter the name\")\n",
    "N = int(input(\"enter the number of times:\"))\n",
    "result = printName(name,N)\n",
    "print(result)\n",
    "\n"
   ]
  },
  {
   "cell_type": "code",
   "execution_count": 22,
   "metadata": {},
   "outputs": [],
   "source": [
    "# class defination\n",
    "class Solution:\n",
    "    \n",
    "    def printName(self, name, N, i=1):\n",
    "        if i > N:\n",
    "            return\n",
    "        else:\n",
    "            print(name,end=\" \")\n",
    "            self.printName(name, N, i+1)\n",
    "            \n",
    "    \n",
    "    def printByBacktracking(self, i):\n",
    "        if i < 1:\n",
    "            return \n",
    "        self.printByBacktracking(i-1)  # Recursive call with decreasing i\n",
    "        print(i)"
   ]
  },
  {
   "cell_type": "code",
   "execution_count": null,
   "metadata": {},
   "outputs": [],
   "source": [
    "# driver code\n",
    "\n",
    "obj = Solution()\n",
    "name = input(\"Enter the name: \")\n",
    "N = int(input(\"Enter the number: \"))\n",
    "obj.printByBacktracking(N, N)"
   ]
  },
  {
   "cell_type": "code",
   "execution_count": 23,
   "metadata": {},
   "outputs": [
    {
     "name": "stdout",
     "output_type": "stream",
     "text": [
      "1\n",
      "2\n",
      "3\n",
      "4\n",
      "5\n"
     ]
    }
   ],
   "source": [
    "# driver code for backtracking\n",
    "obj = Solution()\n",
    "N = int(input(\"Enter the number: \"))\n",
    "obj.printByBacktracking(N)"
   ]
  },
  {
   "cell_type": "code",
   "execution_count": null,
   "metadata": {},
   "outputs": [],
   "source": []
  }
 ],
 "metadata": {
  "kernelspec": {
   "display_name": "Python 3",
   "language": "python",
   "name": "python3"
  },
  "language_info": {
   "codemirror_mode": {
    "name": "ipython",
    "version": 3
   },
   "file_extension": ".py",
   "mimetype": "text/x-python",
   "name": "python",
   "nbconvert_exporter": "python",
   "pygments_lexer": "ipython3",
   "version": "3.12.0"
  }
 },
 "nbformat": 4,
 "nbformat_minor": 2
}
