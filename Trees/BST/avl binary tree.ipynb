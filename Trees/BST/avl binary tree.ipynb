{
 "cells": [
  {
   "cell_type": "code",
   "execution_count": 1,
   "metadata": {},
   "outputs": [
    {
     "name": "stdout",
     "output_type": "stream",
     "text": [
      "30 20 10 25 40 50 "
     ]
    }
   ],
   "source": [
    "class Node:\n",
    "    def __init__(self, key):\n",
    "        self.key = key\n",
    "        self.left = None\n",
    "        self.right = None\n",
    "        self.height = 1\n",
    "\n",
    "class AVLTree:\n",
    "    def get_height(self, node):\n",
    "        return node.height if node else 0\n",
    "\n",
    "    def get_balance(self, node):\n",
    "        return self.get_height(node.left) - self.get_height(node.right) if node else 0\n",
    "\n",
    "    def rotate_right(self, y):\n",
    "        x = y.left\n",
    "        T2 = x.right\n",
    "        x.right = y\n",
    "        y.left = T2\n",
    "        y.height = 1 + max(self.get_height(y.left), self.get_height(y.right))\n",
    "        x.height = 1 + max(self.get_height(x.left), self.get_height(x.right))\n",
    "        return x\n",
    "\n",
    "    def rotate_left(self, x):\n",
    "        y = x.right\n",
    "        T2 = y.left\n",
    "        y.left = x\n",
    "        x.right = T2\n",
    "        x.height = 1 + max(self.get_height(x.left), self.get_height(x.right))\n",
    "        y.height = 1 + max(self.get_height(y.left), self.get_height(y.right))\n",
    "        return y\n",
    "\n",
    "    def insert(self, root, key):\n",
    "        if not root:\n",
    "            return Node(key)\n",
    "        if key < root.key:\n",
    "            root.left = self.insert(root.left, key)\n",
    "        else:\n",
    "            root.right = self.insert(root.right, key)\n",
    "        \n",
    "        root.height = 1 + max(self.get_height(root.left), self.get_height(root.right))\n",
    "        balance = self.get_balance(root)\n",
    "        \n",
    "        if balance > 1 and key < root.left.key:\n",
    "            return self.rotate_right(root)\n",
    "        if balance < -1 and key > root.right.key:\n",
    "            return self.rotate_left(root)\n",
    "        if balance > 1 and key > root.left.key:\n",
    "            root.left = self.rotate_left(root.left)\n",
    "            return self.rotate_right(root)\n",
    "        if balance < -1 and key < root.right.key:\n",
    "            root.right = self.rotate_right(root.right)\n",
    "            return self.rotate_left(root)\n",
    "        \n",
    "        return root\n",
    "\n",
    "    def pre_order(self, root):\n",
    "        if root:\n",
    "            print(root.key, end=' ')\n",
    "            self.pre_order(root.left)\n",
    "            self.pre_order(root.right)\n",
    "\n",
    "# Example Usage\n",
    "tree = AVLTree()\n",
    "root = None\n",
    "keys = [10, 20, 30, 40, 50, 25]\n",
    "for key in keys:\n",
    "    root = tree.insert(root, key)\n",
    "\n",
    "tree.pre_order(root)  # Output: 30 20 10 25 40 50"
   ]
  },
  {
   "cell_type": "code",
   "execution_count": null,
   "metadata": {},
   "outputs": [],
   "source": []
  }
 ],
 "metadata": {
  "kernelspec": {
   "display_name": "Python 3",
   "language": "python",
   "name": "python3"
  },
  "language_info": {
   "codemirror_mode": {
    "name": "ipython",
    "version": 3
   },
   "file_extension": ".py",
   "mimetype": "text/x-python",
   "name": "python",
   "nbconvert_exporter": "python",
   "pygments_lexer": "ipython3",
   "version": "3.12.0"
  }
 },
 "nbformat": 4,
 "nbformat_minor": 2
}
