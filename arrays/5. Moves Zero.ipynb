{
 "cells": [
  {
   "cell_type": "code",
   "execution_count": null,
   "metadata": {},
   "outputs": [],
   "source": []
  },
  {
   "cell_type": "markdown",
   "metadata": {},
   "source": [
    "# 283. Move Zeroes\n",
    "\n",
    "Given an integer array nums, move all 0's to the end of it while maintaining the relative order of the non-zero elements.\n",
    "\n",
    "Note that you must do this in-place without making a copy of the array."
   ]
  },
  {
   "cell_type": "code",
   "execution_count": 2,
   "metadata": {},
   "outputs": [
    {
     "name": "stdout",
     "output_type": "stream",
     "text": [
      "[1, 3, 12, 0, 0]\n"
     ]
    }
   ],
   "source": [
    "def moveZeroes(nums) -> None:\n",
    "        \"\"\"\n",
    "        Do not return anything, modify nums in-place instead.\n",
    "        \"\"\"\n",
    "        for i in range(len(nums)):\n",
    "            if nums[i] == 0:\n",
    "                nums.remove(nums[i])\n",
    "                nums.append(0)\n",
    "\n",
    "        return nums \n",
    "    \n",
    "nums = [0,1,0,3,12]\n",
    "res = moveZeroes(nums)\n",
    "print(res)"
   ]
  },
  {
   "cell_type": "code",
   "execution_count": 7,
   "metadata": {},
   "outputs": [
    {
     "name": "stdout",
     "output_type": "stream",
     "text": [
      "[1, 1, 3, 12, 0, 0]\n"
     ]
    }
   ],
   "source": [
    "def moveZeroes(nums) -> None:\n",
    "  \"\"\"\n",
    "  Do not return anything, modify nums in-place instead.\n",
    "  \"\"\"\n",
    "  j=-1\n",
    "  for i in range(len(nums)):\n",
    "    if nums[i] == 0:\n",
    "      j = i\n",
    "      break\n",
    "    \n",
    "  i = j+1\n",
    "  for i in range(j+1,len(nums)):\n",
    "    if nums[i] != 0:\n",
    "      # swap\n",
    "      nums[i],nums[j] = nums[j],nums[i]\n",
    "      j+=1\n",
    "      \n",
    "  return nums \n",
    "    \n",
    "nums = [1,0,1,0,3,12]\n",
    "res = moveZeroes(nums)\n",
    "print(res)"
   ]
  },
  {
   "cell_type": "code",
   "execution_count": null,
   "metadata": {},
   "outputs": [],
   "source": []
  }
 ],
 "metadata": {
  "kernelspec": {
   "display_name": "Python 3",
   "language": "python",
   "name": "python3"
  },
  "language_info": {
   "codemirror_mode": {
    "name": "ipython",
    "version": 3
   },
   "file_extension": ".py",
   "mimetype": "text/x-python",
   "name": "python",
   "nbconvert_exporter": "python",
   "pygments_lexer": "ipython3",
   "version": "3.12.0"
  }
 },
 "nbformat": 4,
 "nbformat_minor": 2
}
