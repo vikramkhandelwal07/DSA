{
 "cells": [
  {
   "cell_type": "code",
   "execution_count": null,
   "id": "674963a5",
   "metadata": {},
   "outputs": [],
   "source": [
    "class ListNode:\n",
    "    def __init__(self, val=0, next=None):\n",
    "        self.val = val\n",
    "        self.next = next\n",
    "\n",
    "def rotate(head, k):\n",
    "    if not head or not head.next or k == 0:\n",
    "        return head\n",
    "\n",
    "    # Find length and tail\n",
    "    tail = head\n",
    "    length = 1\n",
    "    while tail.next:\n",
    "        tail = tail.next\n",
    "        length += 1\n",
    "\n",
    "    k = k % length\n",
    "    if k == 0:\n",
    "        return head\n",
    "\n",
    "    # Make it circular\n",
    "    tail.next = head\n",
    "\n",
    "    # Find new tail (length - k)th node\n",
    "    steps_to_new_tail = length - k\n",
    "    new_tail = head\n",
    "    for _ in range(steps_to_new_tail - 1):\n",
    "        new_tail = new_tail.next\n",
    "\n",
    "    new_head = new_tail.next\n",
    "    new_tail.next = None\n",
    "\n",
    "    return new_head\n"
   ]
  }
 ],
 "metadata": {
  "language_info": {
   "name": "python"
  }
 },
 "nbformat": 4,
 "nbformat_minor": 5
}
