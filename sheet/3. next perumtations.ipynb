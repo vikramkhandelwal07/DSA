{
 "cells": [
  {
   "cell_type": "code",
   "execution_count": 1,
   "id": "b185e2a4",
   "metadata": {},
   "outputs": [
    {
     "name": "stdout",
     "output_type": "stream",
     "text": [
      "[1, 2, 3]\n",
      "[1, 3, 2]\n",
      "[2, 1, 3]\n",
      "[2, 3, 1]\n",
      "[3, 1, 2]\n",
      "[3, 2, 1]\n"
     ]
    }
   ],
   "source": [
    "from itertools import permutations\n",
    "\n",
    "def generate_permutations(arr):\n",
    "    return list(permutations(arr))\n",
    "\n",
    "# Example\n",
    "arr = [1, 2, 3]\n",
    "perms = (generate_permutations(arr))\n",
    "for p in perms:\n",
    "    print(list(p))\n"
   ]
  },
  {
   "cell_type": "code",
   "execution_count": 5,
   "id": "41a35ae5",
   "metadata": {},
   "outputs": [
    {
     "name": "stdout",
     "output_type": "stream",
     "text": [
      "[1, 2, 3]\n",
      "[1, 3, 2]\n",
      "[2, 1, 3]\n",
      "[2, 3, 1]\n",
      "[3, 2, 1]\n",
      "[3, 1, 2]\n"
     ]
    }
   ],
   "source": [
    "def generate_permutations(arr):\n",
    "  result = []\n",
    "\n",
    "  def backtrack(start):\n",
    "    if start == len(arr):\n",
    "      result.append(arr[:])\n",
    "      return\n",
    "    for i in range(start, len(arr)):\n",
    "      arr[start], arr[i] = arr[i], arr[start]  # swap\n",
    "      backtrack(start + 1)\n",
    "      arr[start], arr[i] = arr[i], arr[start]  # backtrack\n",
    "\n",
    "  backtrack(0)\n",
    "  return result\n",
    "\n",
    "# Example usage\n",
    "arr = [1, 2, 3]\n",
    "permutations = generate_permutations(arr)\n",
    "for perm in permutations:\n",
    "    print(perm)\n"
   ]
  },
  {
   "cell_type": "code",
   "execution_count": 13,
   "id": "6eada8c3",
   "metadata": {},
   "outputs": [],
   "source": [
    "def nextPermutation(nums):\n",
    "  n = len(nums)\n",
    "  index = -1\n",
    "  \n",
    "  for i in range(n-2,-1,-1):\n",
    "    if nums[i] < nums[i+1]:\n",
    "      index = i\n",
    "      break\n",
    "  \n",
    "  if index == -1:\n",
    "    nums.reverse()\n",
    "    return \n",
    "\n",
    "  for i in range(n-1,index,-1):\n",
    "    if nums[i] > nums[index]:\n",
    "      nums[i] , nums[index] = nums[index] , nums[i]\n",
    "      break\n",
    "  \n",
    "  nums[index+1:] = reversed(nums[index+1:])\n",
    "  \n",
    "  return nums"
   ]
  },
  {
   "cell_type": "code",
   "execution_count": 15,
   "id": "da3e116c",
   "metadata": {},
   "outputs": [
    {
     "name": "stdout",
     "output_type": "stream",
     "text": [
      "[1, 3, 4, 5, 2]\n"
     ]
    }
   ],
   "source": [
    "nums = [1,3,4,2,5]\n",
    "print(nextPermutation(nums))"
   ]
  },
  {
   "cell_type": "code",
   "execution_count": null,
   "id": "f6d2e08b",
   "metadata": {},
   "outputs": [],
   "source": []
  }
 ],
 "metadata": {
  "kernelspec": {
   "display_name": "Python 3",
   "language": "python",
   "name": "python3"
  },
  "language_info": {
   "codemirror_mode": {
    "name": "ipython",
    "version": 3
   },
   "file_extension": ".py",
   "mimetype": "text/x-python",
   "name": "python",
   "nbconvert_exporter": "python",
   "pygments_lexer": "ipython3",
   "version": "3.12.0"
  }
 },
 "nbformat": 4,
 "nbformat_minor": 5
}
