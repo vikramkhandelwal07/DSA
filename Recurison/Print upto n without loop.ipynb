{
 "cells": [
  {
   "cell_type": "markdown",
   "metadata": {},
   "source": [
    "# Print 1 To N Without Loop\n",
    "\n",
    "## Print numbers from 1 to n without the help of loops. You only need to complete the function printNos() that takes N as parameter and prints number from 1 to N recursively.\n",
    "\n",
    "Don't print newline, it will be added by the driver code.\n",
    "\n",
    "Examples\n",
    "\n",
    "1.Input: n = 10\n",
    "Output: 1 2 3 4 5 6 7 8 9 10\n",
    "\n",
    "2.Input: n = 5\n",
    "    Output: 1 2 3 4 5\n",
    "\n",
    "Expected Time Complexity: O(n).\n",
    "\n",
    "Expected Auxiliary Space: O(n) (Recursive)."
   ]
  },
  {
   "cell_type": "code",
   "execution_count": 1,
   "metadata": {},
   "outputs": [],
   "source": [
    "class Soultion:\n",
    "    def printNos(self,N):\n",
    "        if N == 0:\n",
    "            return 0\n",
    "        self.printNos(N - 1)\n",
    "        print(N,end=\" \")"
   ]
  },
  {
   "cell_type": "code",
   "execution_count": 3,
   "metadata": {},
   "outputs": [
    {
     "name": "stdout",
     "output_type": "stream",
     "text": [
      "1 2 3 4 5 6 7 8 9 10 "
     ]
    }
   ],
   "source": [
    "obj = Soultion()\n",
    "obj.printNos(10)"
   ]
  },
  {
   "cell_type": "code",
   "execution_count": null,
   "metadata": {},
   "outputs": [],
   "source": []
  }
 ],
 "metadata": {
  "kernelspec": {
   "display_name": "Python 3",
   "language": "python",
   "name": "python3"
  },
  "language_info": {
   "codemirror_mode": {
    "name": "ipython",
    "version": 3
   },
   "file_extension": ".py",
   "mimetype": "text/x-python",
   "name": "python",
   "nbconvert_exporter": "python",
   "pygments_lexer": "ipython3",
   "version": "3.12.0"
  }
 },
 "nbformat": 4,
 "nbformat_minor": 2
}
