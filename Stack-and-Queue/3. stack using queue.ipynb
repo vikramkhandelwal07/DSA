{
 "cells": [
  {
   "cell_type": "markdown",
   "metadata": {},
   "source": [
    "# Implementing stack using queue"
   ]
  },
  {
   "cell_type": "code",
   "execution_count": null,
   "metadata": {},
   "outputs": [],
   "source": []
  },
  {
   "cell_type": "code",
   "execution_count": 1,
   "metadata": {},
   "outputs": [
    {
     "name": "stdout",
     "output_type": "stream",
     "text": [
      "Stack: [1, 2, 3, 4]\n",
      "Top element: 1\n",
      "Is empty: False\n"
     ]
    }
   ],
   "source": [
    "from collections import deque\n",
    "\n",
    "class Stack:\n",
    "  def __init__(self):\n",
    "    self.queue = deque()\n",
    "    \n",
    "  def push(self, data):\n",
    "    self.queue.append(data)\n",
    "    for _ in range(len(self.queue) - 1):\n",
    "      self.queue.append(self.queue.popleft())\n",
    "    \n",
    "  def pop(self):\n",
    "    if self.is_empty():\n",
    "      print(\"Stack Underflow: Cannot pop, stack is empty.\")\n",
    "      return -1\n",
    "    return self.queue.popleft()\n",
    "    \n",
    "  def top_element(self):\n",
    "    if self.is_empty():\n",
    "      print(\"Stack is empty.\")\n",
    "      return None\n",
    "    return self.queue[0]\n",
    "  \n",
    "  def is_empty(self):\n",
    "    return len(self.queue) == 0\n",
    "  \n",
    "  def display(self):\n",
    "    if self.is_empty():\n",
    "      print(\"Stack is empty.\")\n",
    "    else:\n",
    "      print(\"Stack:\", list(self.queue))\n",
    "\n",
    "# Example usage\n",
    "if __name__ == \"__main__\":\n",
    "  s = Stack()\n",
    "  s.push(4)\n",
    "  s.push(3)\n",
    "  s.push(2)\n",
    "  s.push(1)\n",
    "  s.display()\n",
    "  print(\"Top element:\", s.top_element())\n",
    "  print(\"Is empty:\", s.is_empty())\n"
   ]
  },
  {
   "cell_type": "code",
   "execution_count": null,
   "metadata": {},
   "outputs": [],
   "source": []
  }
 ],
 "metadata": {
  "kernelspec": {
   "display_name": "Python 3",
   "language": "python",
   "name": "python3"
  },
  "language_info": {
   "codemirror_mode": {
    "name": "ipython",
    "version": 3
   },
   "file_extension": ".py",
   "mimetype": "text/x-python",
   "name": "python",
   "nbconvert_exporter": "python",
   "pygments_lexer": "ipython3",
   "version": "3.12.0"
  }
 },
 "nbformat": 4,
 "nbformat_minor": 2
}
