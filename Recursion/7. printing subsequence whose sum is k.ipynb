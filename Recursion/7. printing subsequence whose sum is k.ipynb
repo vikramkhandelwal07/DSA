{
 "cells": [
  {
   "cell_type": "markdown",
   "metadata": {},
   "source": [
    "## printing subsequence whose sum is k"
   ]
  },
  {
   "cell_type": "code",
   "execution_count": 4,
   "metadata": {},
   "outputs": [
    {
     "name": "stdout",
     "output_type": "stream",
     "text": [
      "[1, 1]\n",
      "[2]\n"
     ]
    }
   ],
   "source": [
    "def subSequenceWithsum_K(index, array, k, nums, sum_):\n",
    "    if index == len(nums):\n",
    "        if sum_ == k:  \n",
    "            print(array)\n",
    "        return\n",
    "\n",
    "    # Include the current element in the subsequence\n",
    "    array.append(nums[index])\n",
    "    sum_ += nums[index]\n",
    "    subSequenceWithsum_K(index + 1, array, k, nums, sum_)\n",
    "\n",
    "    # Backtrack and exclude the current element\n",
    "    array.pop()\n",
    "    sum_ -= nums[index]\n",
    "    subSequenceWithsum_K(index + 1, array, k, nums, sum_)\n",
    "\n",
    "\n",
    "nums = [1, 2, 1] \n",
    "k = 2  \n",
    "array = []  \n",
    "sum_ = 0\n",
    "subSequenceWithsum_K(0, array, k, nums, sum_)\n"
   ]
  },
  {
   "cell_type": "markdown",
   "metadata": {},
   "source": [
    "## print any subsequence whose sum is k\n",
    "\n",
    "-  technique to print only one answer\n",
    "f()\n",
    "``` python\n",
    "{\n",
    "  base case\n",
    "  cond --> satisfy:\n",
    "    return True\n",
    "  else:\n",
    "  condition not satisfy\n",
    "    return false\n",
    "}\n",
    "```"
   ]
  },
  {
   "cell_type": "code",
   "execution_count": 7,
   "metadata": {},
   "outputs": [
    {
     "name": "stdout",
     "output_type": "stream",
     "text": [
      "[1, 1]\n"
     ]
    },
    {
     "data": {
      "text/plain": [
       "True"
      ]
     },
     "execution_count": 7,
     "metadata": {},
     "output_type": "execute_result"
    }
   ],
   "source": [
    "def subSequenceWithsum_K(index, array, k, nums, sum_):\n",
    "  if index == len(nums):\n",
    "    if sum_ == k:  \n",
    "      print(array)\n",
    "      return True\n",
    "    return False\n",
    "\n",
    "  # Include the current element in the subsequence\n",
    "  array.append(nums[index])\n",
    "  sum_ += nums[index]\n",
    "  if (subSequenceWithsum_K(index + 1, array, k, nums, sum_)) == True:\n",
    "    return True\n",
    "\n",
    "  # Backtrack and exclude the current element\n",
    "  array.pop()\n",
    "  sum_ -= nums[index]\n",
    "  if (subSequenceWithsum_K(index + 1, array, k, nums, sum_)) == True:\n",
    "    return True\n",
    "\n",
    "  return False\n",
    "  \n",
    "nums = [1, 2, 1] \n",
    "k = 2  \n",
    "array = []  \n",
    "sum_ = 0\n",
    "subSequenceWithsum_K(0, array, k, nums, sum_)\n"
   ]
  },
  {
   "cell_type": "markdown",
   "metadata": {},
   "source": [
    "## count the number of subsequence with sum = k\n",
    "```python\n",
    "f()\n",
    "{\n",
    "  base case\n",
    "    return 1 if condition satisfy\n",
    "    else return 0\n",
    "  l = ()\n",
    "  r = ()\n",
    "  return l + r\n",
    "}"
   ]
  },
  {
   "cell_type": "code",
   "execution_count": 11,
   "metadata": {},
   "outputs": [
    {
     "data": {
      "text/plain": [
       "2"
      ]
     },
     "execution_count": 11,
     "metadata": {},
     "output_type": "execute_result"
    }
   ],
   "source": [
    "def subSequenceWithsum_K(index, k, nums, sum_):\n",
    "  if index == len(nums):\n",
    "    if sum_ == k:  \n",
    "      return 1\n",
    "    return 0\n",
    "\n",
    "  array.append(nums[index])\n",
    "  sum_ += nums[index]\n",
    "  l = (subSequenceWithsum_K(index + 1, k, nums, sum_))\n",
    "\n",
    "  array.pop()\n",
    "  sum_ -= nums[index]\n",
    "  r = (subSequenceWithsum_K(index + 1, k, nums, sum_))\n",
    "\n",
    "  return l + r\n",
    "  \n",
    "nums = [1, 2, 1] \n",
    "k = 2  \n",
    "sum_ = 0\n",
    "subSequenceWithsum_K(0, k, nums, sum_)\n"
   ]
  },
  {
   "cell_type": "code",
   "execution_count": 10,
   "metadata": {},
   "outputs": [
    {
     "name": "stdout",
     "output_type": "stream",
     "text": [
      "[1, 1]\n",
      "[2]\n"
     ]
    },
    {
     "data": {
      "text/plain": [
       "2"
      ]
     },
     "execution_count": 10,
     "metadata": {},
     "output_type": "execute_result"
    }
   ],
   "source": [
    "def subSequenceWithsum_K(index, array, k, nums, sum_):\n",
    "  if index == len(nums):\n",
    "    if sum_ == k:  \n",
    "      print(array)\n",
    "      return 1\n",
    "    return 0\n",
    "\n",
    "  array.append(nums[index])\n",
    "  sum_ += nums[index]\n",
    "  l = (subSequenceWithsum_K(index + 1, array, k, nums, sum_))\n",
    "\n",
    "  array.pop()\n",
    "  sum_ -= nums[index]\n",
    "  r = (subSequenceWithsum_K(index + 1, array, k, nums, sum_))\n",
    "\n",
    "  return l + r\n",
    "  \n",
    "nums = [1, 2, 1] \n",
    "k = 2  \n",
    "array = []  \n",
    "sum_ = 0\n",
    "subSequenceWithsum_K(0, array, k, nums, sum_)\n"
   ]
  },
  {
   "cell_type": "code",
   "execution_count": null,
   "metadata": {},
   "outputs": [],
   "source": []
  }
 ],
 "metadata": {
  "kernelspec": {
   "display_name": "Python 3",
   "language": "python",
   "name": "python3"
  },
  "language_info": {
   "codemirror_mode": {
    "name": "ipython",
    "version": 3
   },
   "file_extension": ".py",
   "mimetype": "text/x-python",
   "name": "python",
   "nbconvert_exporter": "python",
   "pygments_lexer": "ipython3",
   "version": "3.12.0"
  }
 },
 "nbformat": 4,
 "nbformat_minor": 2
}
