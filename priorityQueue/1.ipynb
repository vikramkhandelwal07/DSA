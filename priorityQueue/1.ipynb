{
 "cells": [
  {
   "cell_type": "code",
   "execution_count": 1,
   "metadata": {},
   "outputs": [
    {
     "name": "stdout",
     "output_type": "stream",
     "text": [
      "(1, 'Task A')\n",
      "(2, 'Task B')\n",
      "(3, 'Task C')\n"
     ]
    }
   ],
   "source": [
    "import heapq\n",
    "\n",
    "pq = []\n",
    "# Add elements (priority, value)\n",
    "heapq.heappush(pq, (3, \"Task C\"))  # Priority 3\n",
    "heapq.heappush(pq, (1, \"Task A\"))  # Priority 1\n",
    "heapq.heappush(pq, (2, \"Task B\"))  # Priority 2\n",
    "\n",
    "# Remove elements (smallest priority first)\n",
    "while pq:\n",
    "    print(heapq.heappop(pq))  # Output: (1, \"Task A\"), (2, \"Task B\"), (3, \"Task C\")"
   ]
  },
  {
   "cell_type": "code",
   "execution_count": null,
   "metadata": {},
   "outputs": [],
   "source": []
  }
 ],
 "metadata": {
  "kernelspec": {
   "display_name": "Python 3",
   "language": "python",
   "name": "python3"
  },
  "language_info": {
   "codemirror_mode": {
    "name": "ipython",
    "version": 3
   },
   "file_extension": ".py",
   "mimetype": "text/x-python",
   "name": "python",
   "nbconvert_exporter": "python",
   "pygments_lexer": "ipython3",
   "version": "3.12.0"
  }
 },
 "nbformat": 4,
 "nbformat_minor": 2
}
