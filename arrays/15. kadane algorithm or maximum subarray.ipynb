{
 "cells": [
  {
   "cell_type": "markdown",
   "metadata": {},
   "source": [
    "## brute"
   ]
  },
  {
   "cell_type": "code",
   "execution_count": null,
   "metadata": {},
   "outputs": [
    {
     "name": "stdout",
     "output_type": "stream",
     "text": [
      "sum of maximum subarray: 6\n"
     ]
    }
   ],
   "source": [
    "# TC - O(N^3)\n",
    "# SC - O(1)\n",
    "\n",
    "def maxSubArray(nums):\n",
    "  n = len(nums)\n",
    "  maxi = -10**5\n",
    "  for i in range(n):\n",
    "    for j in range(i,n):\n",
    "      sum_ = 0\n",
    "      for k in range(i,j+1):\n",
    "        sum_ += nums[k]\n",
    "      maxi = max(maxi, sum_)  \n",
    "      \n",
    "  return maxi\n",
    "\n",
    "nums = [-2,1,-3,4,-1,2,1,-5,4]\n",
    "output = maxSubArray(nums)\n",
    "print(\"sum of maximum subarray:\",output)"
   ]
  },
  {
   "cell_type": "markdown",
   "metadata": {},
   "source": [
    "## Better Approach"
   ]
  },
  {
   "cell_type": "code",
   "execution_count": 1,
   "metadata": {},
   "outputs": [
    {
     "name": "stdout",
     "output_type": "stream",
     "text": [
      "sum of maximum subarray: 6\n"
     ]
    }
   ],
   "source": [
    "# TC - O(N^2)\n",
    "# SC - O(1)\n",
    "\n",
    "def maxSubArray(nums):\n",
    "  n = len(nums)\n",
    "  maxi = -10**5\n",
    "  for i in range(n):\n",
    "    sum_ = 0\n",
    "    for j in range(i,n):\n",
    "      sum_ += nums[j]\n",
    "      maxi = max(maxi, sum_)  \n",
    "      \n",
    "  return maxi\n",
    "\n",
    "nums = [-2,1,-3,4,-1,2,1,-5,4]\n",
    "output = maxSubArray(nums)\n",
    "print(\"sum of maximum subarray:\",output)"
   ]
  },
  {
   "cell_type": "markdown",
   "metadata": {},
   "source": [
    "## Optimal Kadane Algorithm"
   ]
  },
  {
   "cell_type": "code",
   "execution_count": 7,
   "metadata": {},
   "outputs": [
    {
     "name": "stdout",
     "output_type": "stream",
     "text": [
      "sum of maximum subarray: 6\n"
     ]
    }
   ],
   "source": [
    "# TC - O(N^2)\n",
    "# SC - O(1)\n",
    "import sys\n",
    "def maxSubArray(nums):\n",
    "  maxi = -sys.maxsize-1\n",
    "  sum_ = 0\n",
    "  for i in range(len(nums)):\n",
    "    sum_ += nums[i]\n",
    "    if sum_ > maxi:\n",
    "      maxi = sum_\n",
    "    if sum_ < 0:\n",
    "      sum_ = 0\n",
    "  if maxi < 0: maxi = 0\n",
    "  return maxi\n",
    "\n",
    "nums = [-2,1,-3,4,-1,2,1,-5,4]\n",
    "output = maxSubArray(nums)\n",
    "print(\"sum of maximum subarray:\",output)"
   ]
  },
  {
   "cell_type": "markdown",
   "metadata": {},
   "source": [
    "follow up question also print the subarrays with maximum sum"
   ]
  },
  {
   "cell_type": "code",
   "execution_count": 4,
   "metadata": {},
   "outputs": [
    {
     "name": "stdout",
     "output_type": "stream",
     "text": [
      "The subarray is: [4, -1, 2, 1]\n",
      "Sum of maximum subarray: 6\n"
     ]
    }
   ],
   "source": [
    "import sys\n",
    "\n",
    "def maxSubArray(nums):\n",
    "    maxi = -sys.maxsize - 1\n",
    "    sum_ = 0\n",
    "    start = 0\n",
    "    ansStart, ansEnd = 0, 0\n",
    "\n",
    "    for i in range(len(nums)):\n",
    "        if sum_ == 0:\n",
    "            start = i\n",
    "        sum_ += nums[i]\n",
    "        if sum_ > maxi:\n",
    "            maxi = sum_\n",
    "            ansStart = start\n",
    "            ansEnd = i\n",
    "        if sum_ < 0:\n",
    "            sum_ = 0\n",
    "\n",
    "    if maxi < 0:\n",
    "        return 0\n",
    "\n",
    "    print(f\"The subarray is: {nums[ansStart:ansEnd+1]}\")\n",
    "    return maxi\n",
    "\n",
    "nums = [-2, 1, -3, 4, -1, 2, 1, -5, 4]\n",
    "output = maxSubArray(nums)\n",
    "print(\"Sum of maximum subarray:\", output)\n"
   ]
  },
  {
   "cell_type": "code",
   "execution_count": null,
   "metadata": {},
   "outputs": [],
   "source": []
  },
  {
   "cell_type": "code",
   "execution_count": null,
   "metadata": {},
   "outputs": [],
   "source": []
  }
 ],
 "metadata": {
  "kernelspec": {
   "display_name": "Python 3",
   "language": "python",
   "name": "python3"
  },
  "language_info": {
   "codemirror_mode": {
    "name": "ipython",
    "version": 3
   },
   "file_extension": ".py",
   "mimetype": "text/x-python",
   "name": "python",
   "nbconvert_exporter": "python",
   "pygments_lexer": "ipython3",
   "version": "3.12.0"
  }
 },
 "nbformat": 4,
 "nbformat_minor": 2
}
