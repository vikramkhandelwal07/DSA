{
 "cells": [
  {
   "cell_type": "code",
   "execution_count": null,
   "metadata": {},
   "outputs": [
    {
     "name": "stdout",
     "output_type": "stream",
     "text": [
      "1\n",
      "3\n",
      "-1\n"
     ]
    }
   ],
   "source": [
    "class TreeNode:\n",
    "    def __init__(self, val=0, left=None, right=None):\n",
    "        self.val = val\n",
    "        self.left = left\n",
    "        self.right = right\n",
    "\n",
    "class Solution:\n",
    "  def kthAncestor(self, root, n, k):\n",
    "    self.ancestor = None  \n",
    "    self.k = k\n",
    "\n",
    "    def helper(node):\n",
    "      if not node:\n",
    "        return -1\n",
    "        \n",
    "      if node.val == n:\n",
    "        return 0  \n",
    "      \n",
    "      left_depth = helper(node.left)\n",
    "      right_depth = helper(node.right)\n",
    "      curr_depth = max(left_depth, right_depth) + 1  \n",
    "\n",
    "      if curr_depth == self.k:\n",
    "        self.ancestor = node  \n",
    "      \n",
    "      return curr_depth\n",
    "    helper(root)\n",
    "    return self.ancestor.val if self.ancestor else -1  \n",
    "\n",
    "# Example Usage\n",
    "# Constructing the tree:\n",
    "#         1\n",
    "#        / \\\n",
    "#       2   3\n",
    "#      / \\   \\\n",
    "#     4   5   6\n",
    "root = TreeNode(1)\n",
    "root.left = TreeNode(2)\n",
    "root.right = TreeNode(3)\n",
    "root.left.left = TreeNode(4)\n",
    "root.left.right = TreeNode(5)\n",
    "root.right.right = TreeNode(6)\n",
    "\n",
    "sol = Solution()\n",
    "print(sol.kthAncestor(root, 4, 2))  # Output: 1 (2nd ancestor of 4 is 1)\n",
    "print(sol.kthAncestor(root, 5, 1))  # Output: 2 (1st ancestor of 5 is 2)\n",
    "print(sol.kthAncestor(root, 6, 3))  # Output: -1 (No 3rd ancestor for 6)\n"
   ]
  },
  {
   "cell_type": "code",
   "execution_count": null,
   "metadata": {},
   "outputs": [],
   "source": []
  }
 ],
 "metadata": {
  "kernelspec": {
   "display_name": "Python 3",
   "language": "python",
   "name": "python3"
  },
  "language_info": {
   "codemirror_mode": {
    "name": "ipython",
    "version": 3
   },
   "file_extension": ".py",
   "mimetype": "text/x-python",
   "name": "python",
   "nbconvert_exporter": "python",
   "pygments_lexer": "ipython3",
   "version": "3.12.0"
  }
 },
 "nbformat": 4,
 "nbformat_minor": 2
}
