{
 "cells": [
  {
   "cell_type": "code",
   "execution_count": 8,
   "id": "3fe3b187",
   "metadata": {},
   "outputs": [
    {
     "name": "stdout",
     "output_type": "stream",
     "text": [
      "0\n"
     ]
    }
   ],
   "source": [
    "def maxProd(nums):\n",
    "    if not nums:\n",
    "        return 0\n",
    "    n = len(nums)\n",
    "    maxProd = nums[0]\n",
    "    for i in range(n):\n",
    "        prod = 1\n",
    "        for j in range(i, n):\n",
    "            prod *= nums[j]\n",
    "            maxProd = max(prod, maxProd)\n",
    "    return maxProd\n",
    "\n",
    "nums = [-2, 0, -1]\n",
    "print(maxProd(nums))  # Output: 0\n"
   ]
  },
  {
   "cell_type": "code",
   "execution_count": 10,
   "id": "ed405ee7",
   "metadata": {},
   "outputs": [
    {
     "name": "stdout",
     "output_type": "stream",
     "text": [
      "0\n"
     ]
    }
   ],
   "source": [
    "import sys\n",
    "def maxProd(nums):\n",
    "    n = len(nums)\n",
    "    maxi = -sys.maxsize-1\n",
    "    pre = 1\n",
    "    suf = 1\n",
    "    for i in range(n):\n",
    "        if pre == 0:\n",
    "            pre = 1\n",
    "        if suf == 0:\n",
    "            suf = 1\n",
    "        pre = pre * nums[i]\n",
    "        suf = suf * nums[n-i-1]\n",
    "        maxi = max(maxi,max(pre,suf))\n",
    "    return maxi\n",
    "\n",
    "\n",
    "nums = [-2, 0, -1]\n",
    "print(maxProd(nums))  # Output: 0"
   ]
  },
  {
   "cell_type": "code",
   "execution_count": 1,
   "id": "b3cd3727",
   "metadata": {},
   "outputs": [
    {
     "name": "stdout",
     "output_type": "stream",
     "text": [
      "0\n"
     ]
    }
   ],
   "source": [
    "import sys\n",
    "def maxProd(nums):\n",
    "    n = len(nums)\n",
    "    maxi = -sys.maxsize-1\n",
    "    pre = 1\n",
    "    suf = 1\n",
    "    for i in range(n):\n",
    "        if pre == 0:\n",
    "            pre = 1\n",
    "        if suf == 0:\n",
    "            suf = 1\n",
    "        pre = pre * nums[i]\n",
    "        suf = suf * nums[n-i-1]\n",
    "        maxi = max(maxi,max(pre,suf))\n",
    "    return maxi\n",
    "\n",
    "\n",
    "nums = [-2, 0, -1]\n",
    "print(maxProd(nums))  # Output: 0"
   ]
  },
  {
   "cell_type": "code",
   "execution_count": null,
   "id": "1fb68964",
   "metadata": {},
   "outputs": [],
   "source": []
  }
 ],
 "metadata": {
  "kernelspec": {
   "display_name": "Python 3",
   "language": "python",
   "name": "python3"
  },
  "language_info": {
   "codemirror_mode": {
    "name": "ipython",
    "version": 3
   },
   "file_extension": ".py",
   "mimetype": "text/x-python",
   "name": "python",
   "nbconvert_exporter": "python",
   "pygments_lexer": "ipython3",
   "version": "3.12.0"
  }
 },
 "nbformat": 4,
 "nbformat_minor": 5
}
