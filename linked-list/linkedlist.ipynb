{
 "cells": [
  {
   "cell_type": "code",
   "execution_count": 8,
   "metadata": {},
   "outputs": [
    {
     "name": "stdout",
     "output_type": "stream",
     "text": [
      "449-->4-->\n"
     ]
    }
   ],
   "source": [
    "class Node:\n",
    "  def __init__(self, data = None, next = None):\n",
    "    self.data = data\n",
    "    self.next = next\n",
    "    \n",
    "    \n",
    "class linkedList:\n",
    "  def __init__(self):\n",
    "    self.head = None\n",
    "    \n",
    "  # for insertion at beginning\n",
    "  def insertAtBeginning(self,data):\n",
    "    node = Node(data,self.head)\n",
    "    self.head = node\n",
    "  \n",
    "  def show(self):\n",
    "    if self.head is None:\n",
    "      print(\"Linkedlist is empty\")\n",
    "      return\n",
    "\n",
    "    itr = self.head\n",
    "    llstr = ''\n",
    "    \n",
    "    \n",
    "    while itr:\n",
    "      llstr += str(itr.data) + '-->'\n",
    "      itr = itr.next\n",
    "    print(llstr)  \n",
    "    \n",
    "l1 = linkedList()\n",
    "l1.insertAtBeginning(4)\n",
    "l1.insertAtBeginning(449)\n",
    "l1.show()\n",
    "\n",
    "    "
   ]
  },
  {
   "cell_type": "code",
   "execution_count": null,
   "metadata": {},
   "outputs": [],
   "source": []
  }
 ],
 "metadata": {
  "kernelspec": {
   "display_name": "Python 3",
   "language": "python",
   "name": "python3"
  },
  "language_info": {
   "codemirror_mode": {
    "name": "ipython",
    "version": 3
   },
   "file_extension": ".py",
   "mimetype": "text/x-python",
   "name": "python",
   "nbconvert_exporter": "python",
   "pygments_lexer": "ipython3",
   "version": "3.12.0"
  }
 },
 "nbformat": 4,
 "nbformat_minor": 2
}
