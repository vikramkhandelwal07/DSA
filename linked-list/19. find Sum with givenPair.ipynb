{
 "cells": [
  {
   "cell_type": "code",
   "execution_count": null,
   "id": "2fad416b",
   "metadata": {},
   "outputs": [
    {
     "name": "stdout",
     "output_type": "stream",
     "text": [
      "[1, 2, 3, 4, 2, 3]\n"
     ]
    }
   ],
   "source": []
  },
  {
   "cell_type": "markdown",
   "id": "8abed708",
   "metadata": {},
   "source": [
    "### brute Force"
   ]
  },
  {
   "cell_type": "code",
   "execution_count": 6,
   "id": "d35e32c7",
   "metadata": {},
   "outputs": [],
   "source": [
    "class DllNode:\n",
    "    def __init__(self, val=0):\n",
    "        self.val = val\n",
    "        self.prev = None\n",
    "        self.next = None\n",
    "\n",
    "def finSumPair(head, target):\n",
    "    curr1 = head\n",
    "    ans = []\n",
    "    while curr1:\n",
    "        curr2 = curr1.next\n",
    "        while curr2:\n",
    "            if curr1.val + curr2.val == target:\n",
    "                ans.append([curr1.val, curr2.val])\n",
    "            curr2 = curr2.next\n",
    "        curr1 = curr1.next\n",
    "    return ans\n",
    "\n",
    "def finSumPairOptimised(head, target):\n",
    "    left = head\n",
    "    right = head\n",
    "    while right.next:\n",
    "        right = right.next  # go to tail\n",
    "\n",
    "    ans = []\n",
    "    while left != right and left.prev != right:\n",
    "        total = left.val + right.val\n",
    "        if total == target:\n",
    "            ans.append([left.val, right.val])\n",
    "            left = left.next\n",
    "            right = right.prev\n",
    "        elif total < target:\n",
    "            left = left.next\n",
    "        else:\n",
    "            right = right.prev\n",
    "    return ans\n",
    "\n"
   ]
  },
  {
   "cell_type": "code",
   "execution_count": 7,
   "id": "cd2b9993",
   "metadata": {},
   "outputs": [
    {
     "name": "stdout",
     "output_type": "stream",
     "text": [
      "Brute-force pairs: [[1, 7], [2, 6], [3, 5]]\n",
      "Optimised pairs: [[1, 7], [2, 6], [3, 5]]\n"
     ]
    }
   ],
   "source": [
    "def create_dll(arr):\n",
    "    if not arr:\n",
    "        return None\n",
    "    head = DllNode(arr[0])\n",
    "    curr = head\n",
    "    for val in arr[1:]:\n",
    "        node = DllNode(val)\n",
    "        curr.next = node\n",
    "        node.prev = curr\n",
    "        curr = node\n",
    "    return head\n",
    "\n",
    "# Test Example\n",
    "arr = [1, 2, 3, 4, 5, 6, 7]  # Must be sorted for optimised version\n",
    "target = 8\n",
    "head = create_dll(arr)\n",
    "\n",
    "print(\"Brute-force pairs:\", finSumPair(head, target))\n",
    "print(\"Optimised pairs:\", finSumPairOptimised(head, target))\n"
   ]
  },
  {
   "cell_type": "code",
   "execution_count": null,
   "id": "acc7ca3a",
   "metadata": {},
   "outputs": [],
   "source": []
  }
 ],
 "metadata": {
  "kernelspec": {
   "display_name": "Python 3",
   "language": "python",
   "name": "python3"
  },
  "language_info": {
   "codemirror_mode": {
    "name": "ipython",
    "version": 3
   },
   "file_extension": ".py",
   "mimetype": "text/x-python",
   "name": "python",
   "nbconvert_exporter": "python",
   "pygments_lexer": "ipython3",
   "version": "3.12.0"
  }
 },
 "nbformat": 4,
 "nbformat_minor": 5
}
