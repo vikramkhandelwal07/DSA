{
 "cells": [
  {
   "cell_type": "code",
   "execution_count": 1,
   "id": "73fb5e44",
   "metadata": {},
   "outputs": [
    {
     "data": {
      "text/plain": [
       "True"
      ]
     },
     "execution_count": 1,
     "metadata": {},
     "output_type": "execute_result"
    }
   ],
   "source": [
    "def isIsomorphic(s,t):\n",
    "    if len(s) != len(t):\n",
    "        return False\n",
    "    mappingST = {}\n",
    "    mappingTS = {}\n",
    "    for cs, ct in zip(s,t):\n",
    "        if mappingST.get(cs,ct) != ct or mappingTS.get(ct,cs) != cs:\n",
    "            return False\n",
    "        mappingST[cs] = ct\n",
    "        mappingTS[ct] = cs\n",
    "    \n",
    "    return True\n",
    "\n",
    "s , t = \"egg\", \"add\"\n",
    "isIsomorphic(s,t)"
   ]
  },
  {
   "cell_type": "code",
   "execution_count": null,
   "id": "550c77c9",
   "metadata": {},
   "outputs": [],
   "source": []
  }
 ],
 "metadata": {
  "kernelspec": {
   "display_name": "Python 3",
   "language": "python",
   "name": "python3"
  },
  "language_info": {
   "codemirror_mode": {
    "name": "ipython",
    "version": 3
   },
   "file_extension": ".py",
   "mimetype": "text/x-python",
   "name": "python",
   "nbconvert_exporter": "python",
   "pygments_lexer": "ipython3",
   "version": "3.12.0"
  }
 },
 "nbformat": 4,
 "nbformat_minor": 5
}
