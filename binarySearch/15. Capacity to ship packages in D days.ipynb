{
 "cells": [
  {
   "cell_type": "markdown",
   "metadata": {},
   "source": [
    "## 15.  ( 1011 ) Capacity To Ship Packages Within D Days\n",
    "\n",
    "## Problem Statement\n",
    "\n",
    "A conveyor belt has packages that must be shipped from one port to another within `days` days.\n",
    "\n",
    "The `i`th package on the conveyor belt has a weight of `weights[i]`. Each day, we load the ship with packages on the conveyor belt (in the order given by `weights`). We may not load more weight than the maximum weight capacity of the ship.\n",
    "\n",
    "Return the least weight capacity of the ship that will result in all the packages on the conveyor belt being shipped within `days` days.\n",
    "\n",
    "\n",
    "### Example 1\n",
    "\n",
    "**Input**:  \n",
    "```\n",
    "weights = [1,2,3,4,5,6,7,8,9,10], days = 5\n",
    "```\n",
    "\n",
    "**Output**:  \n",
    "```\n",
    "15\n",
    "```\n",
    "\n",
    "**Explanation**:  \n",
    "A ship capacity of 15 is the minimum to ship all the packages in 5 days like this:  \n",
    "1st day: 1, 2, 3, 4, 5  \n",
    "2nd day: 6, 7  \n",
    "3rd day: 8  \n",
    "4th day: 9  \n",
    "5th day: 10\n",
    "\n",
    "Note that the cargo must be shipped in the order given, so using a ship of capacity 14 and splitting the packages into parts like (2, 3, 4, 5), (1, 6, 7), (8), (9), (10) is not allowed.\n",
    "\n",
    "---\n",
    "\n",
    "### Example 2\n",
    "\n",
    "**Input**:  \n",
    "```\n",
    "weights = [3,2,2,4,1,4], days = 3\n",
    "```\n",
    "\n",
    "**Output**:  \n",
    "```\n",
    "6\n",
    "```\n",
    "\n",
    "**Explanation**:  \n",
    "A ship capacity of 6 is the minimum to ship all the packages in 3 days like this:  \n",
    "1st day: 3, 2  \n",
    "2nd day: 2, 4  \n",
    "3rd day: 1, 4\n",
    "\n",
    "---\n",
    "\n",
    "### Example 3\n",
    "\n",
    "**Input**:  \n",
    "```\n",
    "weights = [1,2,3,1,1], days = 4\n",
    "```\n",
    "\n",
    "**Output**:  \n",
    "```\n",
    "3\n",
    "```\n",
    "\n",
    "**Explanation**:  \n",
    "1st day: 1  \n",
    "2nd day: 2  \n",
    "3rd day: 3  \n",
    "4th day: 1, 1\n",
    "```\n"
   ]
  },
  {
   "cell_type": "code",
   "execution_count": 1,
   "metadata": {},
   "outputs": [],
   "source": [
    "from typing import List\n",
    "\n",
    "class Solution:\n",
    "  def shipWithinDays(self, weights: List[int], days: int) -> int:\n",
    "    # Function to calculate the number of days needed for a given capacity\n",
    "    # logic which is little bit difficult\n",
    "    def calculateDays(weights, capacity):\n",
    "      requiredDays = 1\n",
    "      load = 0\n",
    "      for weight in weights:\n",
    "        if load + weight > capacity:\n",
    "            requiredDays += 1\n",
    "            load = weight\n",
    "        else:\n",
    "            load += weight\n",
    "      return requiredDays\n",
    "\n",
    "    low = max(weights)\n",
    "    high = sum(weights)\n",
    "    ans = high\n",
    "\n",
    "    while low <= high:\n",
    "      mid = (low + high) // 2\n",
    "      if calculateDays(weights, mid) <= days:\n",
    "        ans = mid  \n",
    "        high = mid - 1  \n",
    "      else:\n",
    "        low = mid + 1  \n",
    "\n",
    "    return ans\n"
   ]
  },
  {
   "cell_type": "code",
   "execution_count": 2,
   "metadata": {},
   "outputs": [
    {
     "data": {
      "text/plain": [
       "15"
      ]
     },
     "execution_count": 2,
     "metadata": {},
     "output_type": "execute_result"
    }
   ],
   "source": [
    "weights = [1,2,3,4,5,6,7,8,9,10]\n",
    "days = 5\n",
    "obj1 = Solution()\n",
    "obj1.shipWithinDays(weights,days)"
   ]
  },
  {
   "cell_type": "code",
   "execution_count": null,
   "metadata": {},
   "outputs": [],
   "source": []
  }
 ],
 "metadata": {
  "kernelspec": {
   "display_name": "Python 3",
   "language": "python",
   "name": "python3"
  },
  "language_info": {
   "codemirror_mode": {
    "name": "ipython",
    "version": 3
   },
   "file_extension": ".py",
   "mimetype": "text/x-python",
   "name": "python",
   "nbconvert_exporter": "python",
   "pygments_lexer": "ipython3",
   "version": "3.12.0"
  }
 },
 "nbformat": 4,
 "nbformat_minor": 2
}
