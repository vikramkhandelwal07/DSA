{
 "cells": [
  {
   "cell_type": "code",
   "execution_count": null,
   "metadata": {},
   "outputs": [
    {
     "name": "stdout",
     "output_type": "stream",
     "text": [
      "Your upperbound for the el 8 is at index: 8\n"
     ]
    }
   ],
   "source": [
    "def upperbound(nums,x,n):\n",
    "  low = 0\n",
    "  high = n-1\n",
    "  ans = n\n",
    "  while low <= high:\n",
    "    mid = (low+high)//2\n",
    "    if nums[mid] > x:\n",
    "      ans = mid \n",
    "      high = mid -1\n",
    "    else :\n",
    "      low = mid+1\n",
    "      \n",
    "  return ans\n",
    "\n",
    "nums = [2, 3, 4, 5, 6, 7, 8, 8, 8, 9, 56]\n",
    "x = 8\n",
    "n = len(nums)\n",
    "output = upperbound(nums,x,n)\n",
    "print(f\"Your upperbound for the el {x} is at index:\",output)"
   ]
  },
  {
   "cell_type": "code",
   "execution_count": null,
   "metadata": {},
   "outputs": [],
   "source": []
  }
 ],
 "metadata": {
  "kernelspec": {
   "display_name": "Python 3",
   "language": "python",
   "name": "python3"
  },
  "language_info": {
   "codemirror_mode": {
    "name": "ipython",
    "version": 3
   },
   "file_extension": ".py",
   "mimetype": "text/x-python",
   "name": "python",
   "nbconvert_exporter": "python",
   "pygments_lexer": "ipython3",
   "version": "3.12.0"
  }
 },
 "nbformat": 4,
 "nbformat_minor": 2
}
