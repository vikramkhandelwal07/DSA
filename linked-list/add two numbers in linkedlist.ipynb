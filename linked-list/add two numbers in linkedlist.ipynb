{
 "cells": [
  {
   "cell_type": "code",
   "execution_count": 1,
   "metadata": {},
   "outputs": [
    {
     "name": "stdout",
     "output_type": "stream",
     "text": [
      "Doubly Linked List 1 Initially:\n",
      "5 <-> 6 <-> 8 <-> 4\n",
      "Doubly Linked List 2 Initially:\n",
      "8 <-> 5 <-> 2 <-> 6\n",
      "Resultant Doubly Linked List:\n",
      "3 <-> 2 <-> 1 <-> 1 <-> 1\n"
     ]
    }
   ],
   "source": [
    "class Node:\n",
    "    def __init__(self, value):\n",
    "        self.value = value\n",
    "        self.next = None\n",
    "        self.prev = None\n",
    "\n",
    "\n",
    "def arrayToLinkedList(nums):\n",
    "    if not nums:\n",
    "        return None\n",
    "    \n",
    "    head = Node(nums[0])\n",
    "    current = head\n",
    "    for number in nums[1:]:\n",
    "        new_node = Node(number)\n",
    "        current.next = new_node\n",
    "        new_node.prev = current\n",
    "        current = new_node\n",
    "    return head\n",
    "\n",
    "\n",
    "def print_list(head):\n",
    "    current = head\n",
    "    while current:\n",
    "        print(f\"{current.value}\", end=\" <-> \" if current.next else \"\")\n",
    "        current = current.next\n",
    "    print()\n",
    "\n",
    "\n",
    "def addTwoNumbers(l1, l2):\n",
    "    dummyNode = Node(-1)\n",
    "    current = dummyNode\n",
    "    carry = 0\n",
    "\n",
    "    while l1 or l2 or carry:\n",
    "        sum = carry\n",
    "        if l1:\n",
    "            sum += l1.value\n",
    "            l1 = l1.next\n",
    "        if l2:\n",
    "            sum += l2.value\n",
    "            l2 = l2.next\n",
    "        \n",
    "        carry = sum // 10\n",
    "        new_node = Node(sum % 10)\n",
    "        current.next = new_node\n",
    "        current = current.next\n",
    "\n",
    "    return dummyNode.next\n",
    "\n",
    "\n",
    "arr1 = [5, 6, 8, 4]  # Numbers in reverse order represent 4865\n",
    "arr2 = [8, 5, 2, 6]  # Numbers in reverse order represent 6258\n",
    "\n",
    "head1 = arrayToLinkedList(arr1)\n",
    "head2 = arrayToLinkedList(arr2)\n",
    "\n",
    "print(\"Doubly Linked List 1 Initially:\")\n",
    "print_list(head1)\n",
    "\n",
    "print(\"Doubly Linked List 2 Initially:\")\n",
    "print_list(head2)\n",
    "\n",
    "head3 = addTwoNumbers(head1, head2)\n",
    "\n",
    "print(\"Resultant Doubly Linked List:\")\n",
    "print_list(head3)\n"
   ]
  },
  {
   "cell_type": "code",
   "execution_count": null,
   "metadata": {},
   "outputs": [],
   "source": []
  }
 ],
 "metadata": {
  "kernelspec": {
   "display_name": "Python 3",
   "language": "python",
   "name": "python3"
  },
  "language_info": {
   "codemirror_mode": {
    "name": "ipython",
    "version": 3
   },
   "file_extension": ".py",
   "mimetype": "text/x-python",
   "name": "python",
   "nbconvert_exporter": "python",
   "pygments_lexer": "ipython3",
   "version": "3.12.0"
  }
 },
 "nbformat": 4,
 "nbformat_minor": 2
}
