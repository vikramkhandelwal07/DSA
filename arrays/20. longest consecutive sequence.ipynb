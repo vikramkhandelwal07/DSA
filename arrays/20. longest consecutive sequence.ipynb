{
 "cells": [
  {
   "cell_type": "markdown",
   "metadata": {},
   "source": [
    "## longest consecutive sequence "
   ]
  },
  {
   "cell_type": "markdown",
   "metadata": {},
   "source": [
    "## brute TC- O(N^2)"
   ]
  },
  {
   "cell_type": "code",
   "execution_count": 4,
   "metadata": {},
   "outputs": [
    {
     "name": "stdout",
     "output_type": "stream",
     "text": [
      "4\n"
     ]
    }
   ],
   "source": [
    "def ls(nums,number):\n",
    "  for i in range(len(nums)):\n",
    "    if nums[i] == number:\n",
    "      return True\n",
    "  \n",
    "  return False\n",
    "\n",
    "\n",
    "def longestSequence(nums):\n",
    "  longest = 0\n",
    "  n = len(nums)\n",
    "  \n",
    "  for i in range(n):\n",
    "    x = nums[i]\n",
    "    cnt = 1\n",
    "    while ls(nums,x+1) == True:\n",
    "      x = x+1\n",
    "      cnt +=1\n",
    "  \n",
    "  \n",
    "  longest = max(cnt , longest)\n",
    "  \n",
    "  return longest+1\n",
    "      \n",
    "nums = [100,4,200,1,3,2]\n",
    "o = longestSequence(nums)\n",
    "print(o)\n"
   ]
  },
  {
   "cell_type": "code",
   "execution_count": 4,
   "metadata": {},
   "outputs": [
    {
     "name": "stdout",
     "output_type": "stream",
     "text": [
      "0\n"
     ]
    }
   ],
   "source": [
    "def longestSuccessiveElements(nums):\n",
    "    nums = sorted(set(nums)) \n",
    "    longest = 0\n",
    "    current_streak = 1\n",
    "\n",
    "    for i in range(1, len(nums)):\n",
    "        if nums[i] == nums[i - 1] + 1:\n",
    "            current_streak += 1\n",
    "            longest = max(longest, current_streak)\n",
    "        else:\n",
    "            current_streak = 1  \n",
    "\n",
    "    return longest\n",
    "\n",
    "\n",
    "nums = []\n",
    "o = longestSuccessiveElements(nums)\n",
    "print(o)  \n"
   ]
  },
  {
   "cell_type": "code",
   "execution_count": null,
   "metadata": {},
   "outputs": [],
   "source": [
    "def longestSuccessiveElements(nums):\n",
    "    num_set = set(nums)\n",
    "    longest = 0\n",
    "\n",
    "    for num in num_set:\n",
    "        if num - 1 not in num_set:\n",
    "            current_num = num\n",
    "            current_streak = 1\n",
    "\n",
    "            while current_num + 1 in num_set:\n",
    "                current_num += 1\n",
    "                current_streak += 1\n",
    "\n",
    "            longest = max(longest, current_streak)\n",
    "\n",
    "    return longest\n",
    "\n",
    "\n",
    "nums = [100, 4, 200, 1, 3, 2, 2, 3, 3, 4]\n",
    "o = longestSuccessiveElements(nums)\n",
    "print(o)  # Output: 4\n"
   ]
  }
 ],
 "metadata": {
  "kernelspec": {
   "display_name": "Python 3",
   "language": "python",
   "name": "python3"
  },
  "language_info": {
   "codemirror_mode": {
    "name": "ipython",
    "version": 3
   },
   "file_extension": ".py",
   "mimetype": "text/x-python",
   "name": "python",
   "nbconvert_exporter": "python",
   "pygments_lexer": "ipython3",
   "version": "3.12.0"
  }
 },
 "nbformat": 4,
 "nbformat_minor": 2
}
