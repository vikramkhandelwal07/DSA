{
 "cells": [
  {
   "cell_type": "markdown",
   "metadata": {},
   "source": [
    "## 875. Koko Eating Bananas\n",
    "\n",
    "Koko loves to eat bananas. There are n piles of bananas, the ith pile has piles[i] bananas. The guards have gone and will come back in h hours.\n",
    "\n",
    "Koko can decide her bananas-per-hour eating speed of k. Each hour, she chooses some pile of bananas and eats k bananas from that pile. If the pile has less than k bananas, she eats all of them instead and will not eat any more bananas during this hour.\n",
    "\n",
    "Koko likes to eat slowly but still wants to finish eating all the bananas before the guards return.\n",
    "\n",
    "Return the minimum integer k such that she can eat all the bananas within h hours.\n",
    "\n",
    "`Example` 1:\n",
    "- Input: piles = [3,6,7,11], h = 8\n",
    "- Output: 4\n",
    "  \n",
    "`Example` 2:\n",
    "- Input: piles = [30,11,23,4,20], h = 5\n",
    "- Output: 30\n",
    "  \n",
    "`Example` 3:\n",
    "- Input: piles = [30,11,23,4,20], h = 6\n",
    "- Output: 23"
   ]
  },
  {
   "cell_type": "code",
   "execution_count": 5,
   "metadata": {},
   "outputs": [],
   "source": [
    "import math\n",
    "def totalTime(nums,k):\n",
    "  n = len(nums)\n",
    "  hours = 0\n",
    "  for num in nums:\n",
    "    hours += math.ceil(num/k)\n",
    "  return hours\n",
    "\n",
    "def minEatingSpeed(nums,h):\n",
    "  low = 1\n",
    "  high = max(nums)\n",
    "  ans = high\n",
    "  while (low<=high):\n",
    "    mid = (low+high)//2\n",
    "    totalhours = totalTime(nums,mid)\n",
    "    if totalhours <=h:\n",
    "      ans = mid\n",
    "      high = mid -1\n",
    "    else:\n",
    "      low = mid +1\n",
    "  \n",
    "  return ans\n",
    "    "
   ]
  },
  {
   "cell_type": "code",
   "execution_count": 6,
   "metadata": {},
   "outputs": [
    {
     "data": {
      "text/plain": [
       "4"
      ]
     },
     "execution_count": 6,
     "metadata": {},
     "output_type": "execute_result"
    }
   ],
   "source": [
    "nums = [3,6,7,11] \n",
    "h = 8\n",
    "minEatingSpeed(nums,h)"
   ]
  },
  {
   "cell_type": "code",
   "execution_count": null,
   "metadata": {},
   "outputs": [],
   "source": []
  }
 ],
 "metadata": {
  "kernelspec": {
   "display_name": "Python 3",
   "language": "python",
   "name": "python3"
  },
  "language_info": {
   "codemirror_mode": {
    "name": "ipython",
    "version": 3
   },
   "file_extension": ".py",
   "mimetype": "text/x-python",
   "name": "python",
   "nbconvert_exporter": "python",
   "pygments_lexer": "ipython3",
   "version": "3.12.0"
  }
 },
 "nbformat": 4,
 "nbformat_minor": 2
}
