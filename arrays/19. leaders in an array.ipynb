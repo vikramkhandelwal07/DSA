{
 "cells": [
  {
   "cell_type": "markdown",
   "metadata": {},
   "source": [
    "everything on the right should be smaller than the leader"
   ]
  },
  {
   "cell_type": "code",
   "execution_count": 6,
   "metadata": {},
   "outputs": [
    {
     "name": "stdout",
     "output_type": "stream",
     "text": [
      "[22, 12, 6]\n"
     ]
    }
   ],
   "source": [
    "def leaders(nums):\n",
    "    leaderArray = []\n",
    "    n = len(nums)\n",
    "    for i in range(n):\n",
    "        if i == n - 1 or nums[i] > max(nums[i+1:]):\n",
    "            leaderArray.append(nums[i])\n",
    "    return leaderArray\n",
    "\n",
    "arr = [10, 22, 12, 3, 0, 6]\n",
    "x = leaders(arr)\n",
    "print(x)\n"
   ]
  },
  {
   "cell_type": "markdown",
   "metadata": {},
   "source": [
    "## Brute"
   ]
  },
  {
   "cell_type": "code",
   "execution_count": 4,
   "metadata": {},
   "outputs": [
    {
     "name": "stdout",
     "output_type": "stream",
     "text": [
      "[17, 5, 2]\n"
     ]
    }
   ],
   "source": [
    "def leaders(nums):\n",
    "  ans = []\n",
    "  n = len(nums)\n",
    "  for i in range(n):\n",
    "    leader = True\n",
    "    for j in range(i+1, n):\n",
    "      if nums[j] > nums[i]:\n",
    "        leader = False\n",
    "        break\n",
    "    if leader:\n",
    "      ans.append(nums[i])\n",
    "\n",
    "  return ans\n",
    "    \n",
    "      \n",
    "nums = [16, 17, 4, 3, 5, 2]\n",
    "output = leaders(nums)\n",
    "print(output)\n",
    "      "
   ]
  },
  {
   "cell_type": "markdown",
   "metadata": {},
   "source": [
    "## Optimal\n",
    "- backtracking of array piche se aayenge and then check karenge uske right mai ki usse koi bada hai kya "
   ]
  },
  {
   "cell_type": "code",
   "execution_count": 16,
   "metadata": {},
   "outputs": [
    {
     "name": "stdout",
     "output_type": "stream",
     "text": [
      "[2, 5, 17]\n"
     ]
    }
   ],
   "source": [
    "import sys\n",
    "def leaders(nums):\n",
    "    ans = []\n",
    "    n = len(nums)\n",
    "    maxi = -sys.maxsize - 1\n",
    "    \n",
    "    for i in range(n - 1, -1, -1):\n",
    "      if nums[i] > maxi:\n",
    "        ans.append(nums[i])\n",
    "        maxi = nums[i]\n",
    "    return ans\n",
    "  \n",
    "nums = [16, 17, 4, 3, 5, 2]\n",
    "output = leaders(nums)\n",
    "print(output)"
   ]
  },
  {
   "cell_type": "code",
   "execution_count": 9,
   "metadata": {},
   "outputs": [
    {
     "name": "stdout",
     "output_type": "stream",
     "text": [
      "[6, 12, 22]\n"
     ]
    }
   ],
   "source": [
    "import sys\n",
    "def leaders(nums):\n",
    "  n = len(nums)\n",
    "  ans = []\n",
    "  maxi = -sys.maxsize -1\n",
    "  for i in range(n-1,-1,-1):\n",
    "    if nums[i] > maxi:\n",
    "      ans.append(nums[i])\n",
    "      maxi = nums[i]\n",
    "      \n",
    "  return ans\n",
    "arr = [10, 22, 12, 3, 0, 6]\n",
    "x = leaders(arr)\n",
    "print(x)"
   ]
  },
  {
   "cell_type": "code",
   "execution_count": null,
   "metadata": {},
   "outputs": [],
   "source": []
  }
 ],
 "metadata": {
  "kernelspec": {
   "display_name": "Python 3",
   "language": "python",
   "name": "python3"
  },
  "language_info": {
   "codemirror_mode": {
    "name": "ipython",
    "version": 3
   },
   "file_extension": ".py",
   "mimetype": "text/x-python",
   "name": "python",
   "nbconvert_exporter": "python",
   "pygments_lexer": "ipython3",
   "version": "3.12.0"
  }
 },
 "nbformat": 4,
 "nbformat_minor": 2
}
