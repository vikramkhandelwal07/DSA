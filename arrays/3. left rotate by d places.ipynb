{
 "cells": [
  {
   "cell_type": "markdown",
   "metadata": {},
   "source": [
    "# Left rotate by D places \n"
   ]
  },
  {
   "cell_type": "code",
   "execution_count": 11,
   "metadata": {},
   "outputs": [
    {
     "name": "stdout",
     "output_type": "stream",
     "text": [
      "[5, 6, 7, 1, 2, 3, 4]\n"
     ]
    }
   ],
   "source": [
    "def rotateArray(nums,k):\n",
    "  n = len(nums)\n",
    "  k = k % n\n",
    "  newNums = nums[-k:] + nums[:-k]\n",
    "  return newNums\n",
    "\n",
    "\n",
    "arr = [1, 2, 3, 4, 5, 6, 7]\n",
    "n = len(arr)\n",
    "d = int(input(\"Enter number of elements to rotate: \"))\n",
    "result = rotateArray(arr, d)\n",
    "print(result)"
   ]
  },
  {
   "cell_type": "code",
   "execution_count": 5,
   "metadata": {},
   "outputs": [
    {
     "name": "stdout",
     "output_type": "stream",
     "text": [
      "[5, 6, 7, 1, 2, 3, 4]\n"
     ]
    }
   ],
   "source": [
    "def rotateArray(nums,k):\n",
    "  n = len(nums)\n",
    "  k = k % n\n",
    "  \n",
    "  def reverse(start,end):\n",
    "    while start < end:\n",
    "      nums[start], nums[end] = nums[end], nums[start]\n",
    "      start+=1\n",
    "      end-=1\n",
    "\n",
    "  reverse(0,n-1)\n",
    "  reverse(0,k-1)\n",
    "  reverse(k,n-1)\n",
    "  \n",
    "  return nums\n",
    "\n",
    "\n",
    "arr = [1, 2, 3, 4, 5, 6, 7]\n",
    "n = len(arr)\n",
    "d = int(input(\"Enter number of elements to rotate: \"))\n",
    "result = rotateArray(arr, d)\n",
    "print(result)"
   ]
  },
  {
   "cell_type": "code",
   "execution_count": 3,
   "metadata": {},
   "outputs": [
    {
     "name": "stdout",
     "output_type": "stream",
     "text": [
      "[4, 5, 6, 7, 1, 2, 3]\n"
     ]
    }
   ],
   "source": [
    "def rotateArray(arr, n, d):\n",
    "    # To handle cases where d is greater than n\n",
    "    d = d % n\n",
    "    # Slice and concatenate the array\n",
    "    return arr[d:] + arr[:d]\n",
    "\n",
    "arr = [1, 2, 3, 4, 5, 6, 7]\n",
    "n = len(arr)\n",
    "d = int(input(\"Enter number of elements to rotate: \"))\n",
    "result = rotateArray(arr, n, d)\n",
    "print(result)\n"
   ]
  },
  {
   "cell_type": "code",
   "execution_count": null,
   "metadata": {},
   "outputs": [],
   "source": [
    "\n",
    "def rotate( nums) -> None:\n",
    "    n = len(nums)\n",
    "    k = k % n \n",
    "    temp = nums[-k:]\n",
    "    print(temp)\n",
    "\n",
    "\n",
    "    for i in range(n - 1, k - 1, -1):\n",
    "        nums[i] = nums[i - k]\n",
    "        print(nums[i])\n",
    "\n",
    "       \n",
    "    nums[:k] = temp\n",
    "\n",
    "arr = [1, 2, 3, 4, 5,6,7]\n",
    "n = len(arr)\n",
    "d = int(input(\"Enter number of elements to rotate: \"))\n",
    "result = rotate(arr, n, d)\n",
    "print(result)"
   ]
  },
  {
   "cell_type": "code",
   "execution_count": null,
   "metadata": {},
   "outputs": [],
   "source": [
    "arr = [1, 2, 3, 4, 5, 6, 7]\n",
    "d = 3\n",
    "n= len(arr)\n",
    "temp = arr[0:d]\n",
    "print(temp)\n",
    "for i in range(d,n):\n",
    "  arr[i-d] = arr[i]\n",
    "\n",
    "j = 0\n",
    "for i in range(n-d,n):\n",
    "  arr[i] = temp[j]\n",
    "  j +=1\n",
    "\n",
    "\n",
    "\n",
    "print(arr) "
   ]
  },
  {
   "cell_type": "code",
   "execution_count": null,
   "metadata": {},
   "outputs": [
    {
     "name": "stdout",
     "output_type": "stream",
     "text": [
      "[1, 2, 3]\n",
      "[4, 5, 6, 7, 1, 2, 3]\n"
     ]
    }
   ],
   "source": [
    "arr = [1, 2, 3, 4, 5, 6, 7]\n",
    "d = 3\n",
    "n= len(arr)\n",
    "temp = arr[0:d]\n",
    "print(temp)\n",
    "for i in range(d,n):\n",
    "  arr[i-d] = arr[i]\n",
    "  \n",
    "\n",
    "for i in range(n-d,n):\n",
    "  arr[i] = temp[i-(n-d)]\n",
    "  # temp[i-(n-d)] : reason bcoz we are standing at n-d and if we substract n-d we get 0 ,1 2 \n",
    "  # so humko ek naya variable nhi lena padega\n",
    "  j +=1\n",
    "\n",
    "\n",
    "\n",
    "print(arr) "
   ]
  },
  {
   "cell_type": "code",
   "execution_count": 27,
   "metadata": {},
   "outputs": [
    {
     "name": "stdout",
     "output_type": "stream",
     "text": [
      "Rotated Array [4, 5, 6, 7, 1, 2, 3]\n"
     ]
    }
   ],
   "source": [
    "def rotateArray(arr,n,k):\n",
    "  k = k % n\n",
    "  temp = arr[:k]\n",
    "  for i in range(k,n):\n",
    "    arr[i-k] = arr[i]\n",
    "  arr[k+1:] = temp\n",
    "  return arr\n",
    "\n",
    "\n",
    "arr = [1, 2, 3, 4, 5,6,7]\n",
    "n = len(arr)\n",
    "k = int(input(\"Enter number of elements to rotate: \"))\n",
    "result = rotateArray(arr, n, k)\n",
    "print(\"Rotated Array\",result)"
   ]
  },
  {
   "cell_type": "code",
   "execution_count": 31,
   "metadata": {},
   "outputs": [
    {
     "name": "stdout",
     "output_type": "stream",
     "text": [
      "Rotated Array [5, 6, 7, 1, 2, 3, 4]\n"
     ]
    }
   ],
   "source": [
    "from typing import List\n",
    "\n",
    "\n",
    "def rotateArray(nums: List[int], n: int ,k: int ) :\n",
    "  \n",
    "  n = len(nums)\n",
    "  k %= n\n",
    "  nums.reverse()\n",
    "  nums[:k] = reversed(nums[:k])\n",
    "  nums[k:] = reversed(nums[k:])\n",
    "  \n",
    "  return nums\n",
    "\n",
    "\n",
    "arr = [1, 2, 3, 4, 5,6,7]\n",
    "n = len(arr)\n",
    "k = int(input(\"Enter number of elements to rotate: \"))\n",
    "result = rotateArray(arr, n, k)\n",
    "print(\"Rotated Array\",result)"
   ]
  },
  {
   "cell_type": "code",
   "execution_count": null,
   "metadata": {},
   "outputs": [],
   "source": []
  }
 ],
 "metadata": {
  "kernelspec": {
   "display_name": "Python 3",
   "language": "python",
   "name": "python3"
  },
  "language_info": {
   "codemirror_mode": {
    "name": "ipython",
    "version": 3
   },
   "file_extension": ".py",
   "mimetype": "text/x-python",
   "name": "python",
   "nbconvert_exporter": "python",
   "pygments_lexer": "ipython3",
   "version": "3.12.0"
  }
 },
 "nbformat": 4,
 "nbformat_minor": 2
}
