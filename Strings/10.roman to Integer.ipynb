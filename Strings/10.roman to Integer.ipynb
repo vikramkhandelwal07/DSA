{
 "cells": [
  {
   "cell_type": "code",
   "execution_count": 1,
   "id": "6d765cfd",
   "metadata": {},
   "outputs": [
    {
     "data": {
      "text/plain": [
       "1994"
      ]
     },
     "execution_count": 1,
     "metadata": {},
     "output_type": "execute_result"
    }
   ],
   "source": [
    "def romanToInt(s):\n",
    "    roman = {\n",
    "            \"I\" : 1,\n",
    "            \"V\" : 5,\n",
    "            \"X\" : 10,\n",
    "            \"L\" :50,\n",
    "            \"C\" :100,\n",
    "            \"D\" :500,\n",
    "            \"M\" :1000\n",
    "        }\n",
    "    res = 0\n",
    "    \n",
    "    for i in range(len(s)):\n",
    "        if i + 1 < len(s) and roman[s[i]] < roman[s[i+1]]:\n",
    "                res -= roman[s[i]]\n",
    "        else:\n",
    "            res += roman[s[i]]\n",
    "            \n",
    "    return res\n",
    "\n",
    "s =\"MCMXCIV\"\n",
    "romanToInt(s)"
   ]
  },
  {
   "cell_type": "code",
   "execution_count": 2,
   "id": "0e57ce0c",
   "metadata": {},
   "outputs": [
    {
     "data": {
      "text/plain": [
       "'MMMDCCXLIX'"
      ]
     },
     "execution_count": 2,
     "metadata": {},
     "output_type": "execute_result"
    }
   ],
   "source": [
    "def intToRoman(num):\n",
    "    symList = [[\"M\",1000], [\"CM\", 900],[\"D\", 500],[\"CD\", 400],[\"C\",100],[\"XC\",90],[\"L\",50],[\"XL\",40],[\"X\",10],[\"IX\", 9],[\"V\", 5], [\"IV\", 4], [\"I\", 1]]\n",
    "    \n",
    "    res = \"\"\n",
    "    for sym , val in symList:\n",
    "        if num // val:\n",
    "            count = num // val\n",
    "            res += sym* count\n",
    "            num = num % val\n",
    "        \n",
    "    return res \n",
    "\n",
    "num = 3749\n",
    "intToRoman(num)"
   ]
  },
  {
   "cell_type": "code",
   "execution_count": null,
   "id": "f72b9120",
   "metadata": {},
   "outputs": [],
   "source": []
  }
 ],
 "metadata": {
  "kernelspec": {
   "display_name": "Python 3",
   "language": "python",
   "name": "python3"
  },
  "language_info": {
   "codemirror_mode": {
    "name": "ipython",
    "version": 3
   },
   "file_extension": ".py",
   "mimetype": "text/x-python",
   "name": "python",
   "nbconvert_exporter": "python",
   "pygments_lexer": "ipython3",
   "version": "3.12.0"
  }
 },
 "nbformat": 4,
 "nbformat_minor": 5
}
