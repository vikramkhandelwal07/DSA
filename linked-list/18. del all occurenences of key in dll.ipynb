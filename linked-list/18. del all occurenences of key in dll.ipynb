{
 "cells": [
  {
   "cell_type": "code",
   "execution_count": null,
   "id": "fada2521",
   "metadata": {},
   "outputs": [],
   "source": [
    "class Node:\n",
    "    def __init__(self, val):\n",
    "        self.val = val\n",
    "        self.prev = None\n",
    "        self.next = None\n",
    "\n",
    "def deleteAllOccurrences(head, key):\n",
    "    curr = head\n",
    "    while curr:\n",
    "        if curr.val == key:\n",
    "            if curr.prev:\n",
    "                curr.prev.next = curr.next\n",
    "            else:\n",
    "                head = curr.next  # Update head if first node is deleted\n",
    "            if curr.next:\n",
    "                curr.next.prev = curr.prev\n",
    "        curr = curr.next\n",
    "\n",
    "    return head\n"
   ]
  },
  {
   "cell_type": "code",
   "execution_count": 4,
   "id": "1e268b76",
   "metadata": {},
   "outputs": [
    {
     "name": "stdout",
     "output_type": "stream",
     "text": [
      "Original DLL:\n",
      "1 <-> 2 <-> 3 <-> 2 <-> 4 <-> None\n",
      "After deleting 2:\n",
      "1 <-> 3 <-> 4 <-> None\n"
     ]
    }
   ],
   "source": [
    "def printList(head):\n",
    "    while head:\n",
    "        print(head.val, end=' <-> ')\n",
    "        head = head.next\n",
    "    print('None')\n",
    "\n",
    "# Create doubly linked list: 1 <-> 2 <-> 3 <-> 2 <-> 4\n",
    "a = Node(1)\n",
    "b = Node(2)\n",
    "c = Node(3)\n",
    "d = Node(2)\n",
    "e = Node(4)\n",
    "a.next = b; b.prev = a\n",
    "b.next = c; c.prev = b\n",
    "c.next = d; d.prev = c\n",
    "d.next = e; e.prev = d\n",
    "\n",
    "print(\"Original DLL:\")\n",
    "printList(a)\n",
    "\n",
    "head = deleteAllOccurrences(a, 2)\n",
    "\n",
    "print(\"After deleting 2:\")\n",
    "printList(head)\n"
   ]
  },
  {
   "cell_type": "code",
   "execution_count": null,
   "id": "9542ba79",
   "metadata": {},
   "outputs": [],
   "source": []
  }
 ],
 "metadata": {
  "kernelspec": {
   "display_name": "Python 3",
   "language": "python",
   "name": "python3"
  },
  "language_info": {
   "codemirror_mode": {
    "name": "ipython",
    "version": 3
   },
   "file_extension": ".py",
   "mimetype": "text/x-python",
   "name": "python",
   "nbconvert_exporter": "python",
   "pygments_lexer": "ipython3",
   "version": "3.12.0"
  }
 },
 "nbformat": 4,
 "nbformat_minor": 5
}
