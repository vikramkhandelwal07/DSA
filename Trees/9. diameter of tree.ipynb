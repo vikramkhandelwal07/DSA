{
 "cells": [
  {
   "cell_type": "markdown",
   "metadata": {},
   "source": [
    "- TC - O(n^2)\n",
    "- SC - O(n) for diameter optimised"
   ]
  },
  {
   "cell_type": "code",
   "execution_count": null,
   "metadata": {},
   "outputs": [],
   "source": [
    "class TreeNode:\n",
    "    def __init__(self, val=0, left=None, right=None):\n",
    "        self.val = val\n",
    "        self.left = left\n",
    "        self.right = right\n",
    "\n",
    "class Solution:\n",
    "    def height(self, root):\n",
    "        if not root:\n",
    "            return 0  \n",
    "        \n",
    "        lh = self.height(root.left)\n",
    "        rh = self.height(root.right)\n",
    "        \n",
    "        return max(lh, rh) + 1\n",
    "\n",
    "    def diameter(self, root):\n",
    "        if not root:\n",
    "            return 0  \n",
    "\n",
    "        lh = self.height(root.left)\n",
    "        rh = self.height(root.right)\n",
    "\n",
    "        ldiam = self.diameter(root.left)\n",
    "        rdiam = self.diameter(root.right)\n",
    "\n",
    "        # Return the maximum of the three: \n",
    "        # 1. Diameter of left subtree\n",
    "        # 2. Diameter of right subtree\n",
    "        # 3. Longest path that passes through root (lh + rh+1)\n",
    "        return max(ldiam, rdiam, lh + rh + 1)\n",
    "    \n",
    "    \n",
    "    def diameterOptimised(self, root):\n",
    "        def helper(node):\n",
    "            if not node:\n",
    "                return 0, 0  # (height, diameter)\n",
    "            \n",
    "            leftHeight, leftDiameter = helper(node.left)\n",
    "            rightHeight, rightDiameter = helper(node.right)\n",
    "            \n",
    "            # Corrected height calculation\n",
    "            currentHeight = max(leftHeight, rightHeight) + 1  \n",
    "            \n",
    "            # Diameter is the longest path passing through the node\n",
    "            currentDiameter = leftHeight + rightHeight +1\n",
    "            \n",
    "            # Maximum of all possible diameters\n",
    "            maxDiameter = max(currentDiameter, leftDiameter, rightDiameter)\n",
    "            \n",
    "            return currentHeight, maxDiameter\n",
    "        \n",
    "        return helper(root)[1]"
   ]
  },
  {
   "cell_type": "code",
   "execution_count": 17,
   "metadata": {},
   "outputs": [
    {
     "name": "stdout",
     "output_type": "stream",
     "text": [
      "Height of Tree: 3\n",
      "Diameter of Tree: 5\n",
      "Diameter of Tree: 5\n"
     ]
    }
   ],
   "source": [
    "root = TreeNode(1)\n",
    "root.left = TreeNode(2)\n",
    "root.right = TreeNode(3)\n",
    "root.left.left = TreeNode(4)\n",
    "root.left.right = TreeNode(5)\n",
    "root.right.right = TreeNode(6)\n",
    "\n",
    "sol = Solution()\n",
    "print(\"Height of Tree:\", sol.height(root))  # Output: 3\n",
    "print(\"Diameter of Tree:\", sol.diameter(root))  # Output: 5\n",
    "print(\"Diameter of Tree:\", sol.diameterOptimised(root))  # Output: 5\n"
   ]
  }
 ],
 "metadata": {
  "kernelspec": {
   "display_name": "Python 3",
   "language": "python",
   "name": "python3"
  },
  "language_info": {
   "codemirror_mode": {
    "name": "ipython",
    "version": 3
   },
   "file_extension": ".py",
   "mimetype": "text/x-python",
   "name": "python",
   "nbconvert_exporter": "python",
   "pygments_lexer": "ipython3",
   "version": "3.12.0"
  }
 },
 "nbformat": 4,
 "nbformat_minor": 2
}
