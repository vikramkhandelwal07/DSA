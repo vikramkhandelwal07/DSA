{
 "cells": [
  {
   "cell_type": "markdown",
   "metadata": {},
   "source": [
    "## Brute Force \n",
    "- TC - O(n^3)"
   ]
  },
  {
   "cell_type": "code",
   "execution_count": 14,
   "metadata": {},
   "outputs": [],
   "source": [
    "def ThreeSum(nums):\n",
    "    n = len(nums)\n",
    "    ls = []\n",
    "    for i in range(n):\n",
    "      for j in range(i + 1, n):\n",
    "        for k in range(j + 1, n):\n",
    "          if nums[i] + nums[j] + nums[k] == 0:\n",
    "            temp = sorted([nums[i], nums[j], nums[k]])\n",
    "            if temp not in ls:  # Avoid duplicates\n",
    "              ls.append(temp)\n",
    "    return sorted(ls)\n"
   ]
  },
  {
   "cell_type": "code",
   "execution_count": 15,
   "metadata": {},
   "outputs": [
    {
     "name": "stdout",
     "output_type": "stream",
     "text": [
      "[[-1, -1, 2], [-1, 0, 1]]\n"
     ]
    }
   ],
   "source": [
    "nums = [-1,0,1,2,-1,-4]\n",
    "o = ThreeSum(nums)\n",
    "print(o)"
   ]
  },
  {
   "cell_type": "markdown",
   "metadata": {},
   "source": [
    "## Best"
   ]
  },
  {
   "cell_type": "code",
   "execution_count": null,
   "metadata": {},
   "outputs": [
    {
     "name": "stdout",
     "output_type": "stream",
     "text": [
      "[[-1, -1, 2], [-1, 0, 1]]\n"
     ]
    }
   ],
   "source": [
    "def triplet(n, arr):\n",
    "    if n < 3:\n",
    "        return []  # Return empty list for invalid input\n",
    "\n",
    "    ans = []\n",
    "    arr.sort()\n",
    "    for i in range(n):\n",
    "        # Remove duplicates:\n",
    "        if i != 0 and arr[i] == arr[i - 1]:\n",
    "            continue\n",
    "\n",
    "        # Two-pointer technique:\n",
    "        j = i + 1\n",
    "        k = n - 1\n",
    "        while j < k:\n",
    "            total_sum = arr[i] + arr[j] + arr[k]\n",
    "            if total_sum < 0:\n",
    "                j += 1\n",
    "            elif total_sum > 0:\n",
    "                k -= 1\n",
    "            else:\n",
    "                temp = [arr[i], arr[j], arr[k]]\n",
    "                ans.append(temp)\n",
    "                j += 1\n",
    "                k -= 1\n",
    "                # Skip duplicates:\n",
    "                while j < k and arr[j] == arr[j - 1]:\n",
    "                    j += 1\n",
    "                while j < k and arr[k] == arr[k + 1]:\n",
    "                    k -= 1\n",
    "\n",
    "    return ans\n",
    "\n",
    "arr = [-1, 0, 1, 2, -1, -4]\n",
    "n = len(arr)\n",
    "ans = triplet(n, arr)\n",
    "print(ans)\n"
   ]
  },
  {
   "cell_type": "code",
   "execution_count": null,
   "metadata": {},
   "outputs": [],
   "source": []
  }
 ],
 "metadata": {
  "kernelspec": {
   "display_name": "Python 3",
   "language": "python",
   "name": "python3"
  },
  "language_info": {
   "codemirror_mode": {
    "name": "ipython",
    "version": 3
   },
   "file_extension": ".py",
   "mimetype": "text/x-python",
   "name": "python",
   "nbconvert_exporter": "python",
   "pygments_lexer": "ipython3",
   "version": "3.12.0"
  }
 },
 "nbformat": 4,
 "nbformat_minor": 2
}
