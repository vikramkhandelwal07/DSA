{
 "cells": [
  {
   "cell_type": "code",
   "execution_count": 1,
   "id": "88e724c3",
   "metadata": {},
   "outputs": [],
   "source": [
    "def valid(s):\n",
    "    if len(s) == 0:\n",
    "        return \"\"\n",
    "    cnt = 0\n",
    "    res = []\n",
    "    for c in s:\n",
    "        if c == \"(\":\n",
    "            if cnt > 0:\n",
    "                res.append(c)\n",
    "            cnt +=1\n",
    "        else:\n",
    "            cnt -=1\n",
    "            if cnt > 0:\n",
    "                res.append(c)\n",
    "    return \"\".join(res)\n",
    "            \n",
    "                \n",
    "        "
   ]
  },
  {
   "cell_type": "code",
   "execution_count": null,
   "id": "b635b27d",
   "metadata": {},
   "outputs": [],
   "source": []
  }
 ],
 "metadata": {
  "kernelspec": {
   "display_name": "Python 3",
   "language": "python",
   "name": "python3"
  },
  "language_info": {
   "codemirror_mode": {
    "name": "ipython",
    "version": 3
   },
   "file_extension": ".py",
   "mimetype": "text/x-python",
   "name": "python",
   "nbconvert_exporter": "python",
   "pygments_lexer": "ipython3",
   "version": "3.12.0"
  }
 },
 "nbformat": 4,
 "nbformat_minor": 5
}
