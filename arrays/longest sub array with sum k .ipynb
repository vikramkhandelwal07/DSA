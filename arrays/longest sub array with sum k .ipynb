{
 "cells": [
  {
   "cell_type": "markdown",
   "metadata": {},
   "source": [
    "- TC - O(n^2)\n",
    "- SC - O(1)"
   ]
  },
  {
   "cell_type": "code",
   "execution_count": 2,
   "metadata": {},
   "outputs": [
    {
     "name": "stdout",
     "output_type": "stream",
     "text": [
      "4\n"
     ]
    }
   ],
   "source": [
    "def lenOfLongestSubarr(arr, k):\n",
    "  length = 0\n",
    "  for i in range(len(arr)):       \n",
    "    s = 0\n",
    "    for j in range(i,len(arr)):\n",
    "      s +=arr[j]          \n",
    "      if (s==k):\n",
    "        length = max(length, j-i+1)          \n",
    "    \n",
    "  return length\n",
    "  \n",
    "arr = [10, 5, 2, 7, 1, 9]\n",
    "k = 15\n",
    "res=lenOfLongestSubarr(arr, k)\n",
    "print(res)"
   ]
  },
  {
   "cell_type": "code",
   "execution_count": null,
   "metadata": {},
   "outputs": [],
   "source": []
  }
 ],
 "metadata": {
  "kernelspec": {
   "display_name": "Python 3",
   "language": "python",
   "name": "python3"
  },
  "language_info": {
   "codemirror_mode": {
    "name": "ipython",
    "version": 3
   },
   "file_extension": ".py",
   "mimetype": "text/x-python",
   "name": "python",
   "nbconvert_exporter": "python",
   "pygments_lexer": "ipython3",
   "version": "3.12.0"
  }
 },
 "nbformat": 4,
 "nbformat_minor": 2
}
