{
 "cells": [
  {
   "cell_type": "code",
   "execution_count": 2,
   "id": "549f0c0a",
   "metadata": {},
   "outputs": [
    {
     "data": {
      "text/plain": [
       "[1, 2, 3, 5, 5]"
      ]
     },
     "execution_count": 2,
     "metadata": {},
     "output_type": "execute_result"
    }
   ],
   "source": [
    "arr = [1,2,3,4,5]\n",
    "\n",
    "arr[-2] += 1\n",
    "arr\n"
   ]
  },
  {
   "cell_type": "code",
   "execution_count": 1,
   "id": "ce7f0916",
   "metadata": {},
   "outputs": [],
   "source": [
    "def plusOne(digits):\n",
    "  n = len(digits)\n",
    "  for i in range(n - 1, -1, -1):\n",
    "    if digits[i] < 9:\n",
    "      digits[i] += 1\n",
    "      return digits\n",
    "    digits[i] = 0\n",
    "  return [1] + digits\n",
    "\n",
    "\n",
    "\n"
   ]
  },
  {
   "cell_type": "code",
   "execution_count": null,
   "id": "e6f02c39",
   "metadata": {},
   "outputs": [],
   "source": []
  },
  {
   "cell_type": "code",
   "execution_count": null,
   "id": "b02fab7b",
   "metadata": {},
   "outputs": [],
   "source": []
  }
 ],
 "metadata": {
  "kernelspec": {
   "display_name": "Python 3",
   "language": "python",
   "name": "python3"
  },
  "language_info": {
   "codemirror_mode": {
    "name": "ipython",
    "version": 3
   },
   "file_extension": ".py",
   "mimetype": "text/x-python",
   "name": "python",
   "nbconvert_exporter": "python",
   "pygments_lexer": "ipython3",
   "version": "3.12.0"
  }
 },
 "nbformat": 4,
 "nbformat_minor": 5
}
