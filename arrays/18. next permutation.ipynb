{
 "cells": [
  {
   "cell_type": "markdown",
   "metadata": {},
   "source": [
    "## Brute \n",
    "- generate all the permutatuion using recursion in sorted manner\n",
    "- find the permutation next to the given permuatation\n",
    "- TC - N! * N \n",
    "- these cannot be practically possilbe because for an array size of 15 there are 10^12 combinations so these will take very long time\n",
    "- just tell this to interviewer and skip on to better\n",
    "\n",
    "## Better\n",
    "- can use inbuilt libraries like itertools and can use inbuilt function of this library\n",
    "- "
   ]
  },
  {
   "cell_type": "markdown",
   "metadata": {},
   "source": [
    "## Best\n",
    "- 1. longer prefix match same as og dictionary and find the breakpoint where arr[i] < arr[i+1]\n",
    "- 2. take number which is just greater than that number : smallest big number\n",
    "- 3. try to place the remaining in sorted in ascending order\n"
   ]
  },
  {
   "cell_type": "code",
   "execution_count": null,
   "metadata": {},
   "outputs": [
    {
     "name": "stdout",
     "output_type": "stream",
     "text": [
      "[1, 3, 2]\n"
     ]
    }
   ],
   "source": [
    "def nextPermutation(nums):\n",
    "  \"\"\"\n",
    "  Do not return anything, modify nums in-place instead.\n",
    "  \"\"\"\n",
    "  n = len(nums)\n",
    "  index = -1\n",
    "  # finding the longest prefix match index i.e. the breakpoint \n",
    "  for i in range(n - 2, -1, -1):\n",
    "    if nums[i] < nums[i + 1]:\n",
    "      index = i\n",
    "      break\n",
    "    # if no point than the given array is last so just revrse and gove the first array\n",
    "  if index == -1:\n",
    "    nums.reverse()\n",
    "    return\n",
    "    \n",
    "  for i in range(n - 1, index, -1):\n",
    "    if nums[i] > nums[index]:\n",
    "      nums[i], nums[index] = nums[index], nums[i]  \n",
    "      break\n",
    "\n",
    "  nums[index + 1:] = reversed(nums[index + 1:])\n",
    "  return nums\n",
    "\n",
    "nums = [1,2,3]\n",
    "output = nextPermutation(nums)\n",
    "print(output)"
   ]
  },
  {
   "cell_type": "code",
   "execution_count": null,
   "metadata": {},
   "outputs": [],
   "source": []
  },
  {
   "cell_type": "code",
   "execution_count": null,
   "metadata": {},
   "outputs": [],
   "source": []
  }
 ],
 "metadata": {
  "kernelspec": {
   "display_name": "Python 3",
   "language": "python",
   "name": "python3"
  },
  "language_info": {
   "codemirror_mode": {
    "name": "ipython",
    "version": 3
   },
   "file_extension": ".py",
   "mimetype": "text/x-python",
   "name": "python",
   "nbconvert_exporter": "python",
   "pygments_lexer": "ipython3",
   "version": "3.12.0"
  }
 },
 "nbformat": 4,
 "nbformat_minor": 2
}
