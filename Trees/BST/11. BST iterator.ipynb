{
 "cells": [
  {
   "cell_type": "code",
   "execution_count": 1,
   "id": "dfc53a88",
   "metadata": {},
   "outputs": [],
   "source": [
    "# Definition for a binary tree node.\n",
    "# class TreeNode:\n",
    "#     def __init__(self, val=0, left=None, right=None):\n",
    "#         self.val = val\n",
    "#         self.left = left\n",
    "#         self.right = right\n",
    "\n",
    "class BSTIterator:\n",
    "    def __init__(self, root):\n",
    "        self.stack = []\n",
    "        self._push_left(root)\n",
    "\n",
    "    def _push_left(self, node):\n",
    "        while node:\n",
    "            self.stack.append(node)\n",
    "            node = node.left\n",
    "\n",
    "    def next(self) -> int:\n",
    "        node = self.stack.pop()\n",
    "        if node.right:\n",
    "            self._push_left(node.right)\n",
    "        return node.val\n",
    "\n",
    "    def hasNext(self) -> bool:\n",
    "        return len(self.stack) > 0\n"
   ]
  },
  {
   "cell_type": "code",
   "execution_count": null,
   "id": "ceb95190",
   "metadata": {},
   "outputs": [],
   "source": [
    "\n"
   ]
  },
  {
   "cell_type": "code",
   "execution_count": null,
   "id": "38bd97e4",
   "metadata": {},
   "outputs": [],
   "source": []
  }
 ],
 "metadata": {
  "kernelspec": {
   "display_name": "Python 3",
   "language": "python",
   "name": "python3"
  },
  "language_info": {
   "codemirror_mode": {
    "name": "ipython",
    "version": 3
   },
   "file_extension": ".py",
   "mimetype": "text/x-python",
   "name": "python",
   "nbconvert_exporter": "python",
   "pygments_lexer": "ipython3",
   "version": "3.12.0"
  }
 },
 "nbformat": 4,
 "nbformat_minor": 5
}
