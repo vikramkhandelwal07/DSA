{
 "cells": [
  {
   "cell_type": "markdown",
   "metadata": {},
   "source": [
    "# NGE Without circular array "
   ]
  },
  {
   "cell_type": "code",
   "execution_count": null,
   "metadata": {},
   "outputs": [],
   "source": [
    "def nextGreaterElement(nums):\n",
    "  n = len(nums)\n",
    "  nge = [-1]*n\n",
    "  stack = []\n",
    "  \n",
    "  for i in range(n):\n",
    "    while stack and nums[stack[-1]] < nums[i]:\n",
    "      nge[stack.pop()] = nums[i]\n",
    "      \n",
    "    stack.append(i)\n",
    "      \n",
    "  return nge\n",
    "\n",
    "    "
   ]
  },
  {
   "cell_type": "code",
   "execution_count": 3,
   "metadata": {},
   "outputs": [
    {
     "data": {
      "text/plain": [
       "[5, 5, 5, -1, -1]"
      ]
     },
     "execution_count": 3,
     "metadata": {},
     "output_type": "execute_result"
    }
   ],
   "source": [
    "nums = [4, 2, 1, 5, 3] # ans = [5,5,5,-1,-1]\n",
    "nextGreaterElement(nums)"
   ]
  },
  {
   "cell_type": "markdown",
   "metadata": {},
   "source": [
    "# NGE 1 leetcode"
   ]
  },
  {
   "cell_type": "markdown",
   "metadata": {},
   "source": [
    "# Next Greater Element I\n",
    "\n",
    "## Problem Statement\n",
    "The **next greater element** of an element `x` in an array is the first greater element that appears to the right of `x` in the same array.\n",
    "\n",
    "You are given two distinct **0-indexed** integer arrays, `nums1` and `nums2`, where `nums1` is a **subset** of `nums2`.\n",
    "\n",
    "For each `nums1[i]`, find the index `j` such that `nums1[i] == nums2[j]`, and determine the **next greater element** of `nums2[j]` in `nums2`. If there is **no next greater element**, then the answer for this query is `-1`.\n",
    "\n",
    "Return an array `ans` of length `nums1.length` where `ans[i]` is the **next greater element** as described above.\n",
    "\n",
    "---\n",
    "\n",
    "## Examples\n",
    "\n",
    "### Example 1:\n",
    "**Input:**  \n",
    "`nums1 = [4,1,2]`  \n",
    "`nums2 = [1,3,4,2]`  \n",
    "**Output:**  \n",
    "`[-1, 3, -1]`  \n",
    "**Explanation:**  \n",
    "- `4` is in `nums2 = [1,3,4,2]`. There is no next greater element, so the answer is `-1`.  \n",
    "- `1` is in `nums2 = [1,3,4,2]`. The next greater element is `3`.  \n",
    "- `2` is in `nums2 = [1,3,4,2]`. There is no next greater element, so the answer is `-1`.  \n",
    "\n",
    "---\n",
    "\n",
    "### Example 2:\n",
    "**Input:**  \n",
    "`nums1 = [2,4]`  \n",
    "`nums2 = [1,2,3,4]`  \n",
    "**Output:**  \n",
    "`[3, -1]`  \n",
    "**Explanation:**  \n",
    "- `2` is in `nums2 = [1,2,3,4]`. The next greater element is `3`.  \n",
    "- `4` is in `nums2 = [1,2,3,4]`. There is no next greater element, so the answer is `-1`.  \n",
    "\n",
    "---\n",
    "\n",
    "## Constraints:\n",
    "- `1 <= nums1.length <= nums2.length <= 1000`\n",
    "- `0 <= nums1[i], nums2[i] <= 10^4`\n",
    "- All integers in `nums1` and `nums2` are **unique**.\n",
    "- All integers in `nums1` also appear in `nums2`.\n",
    "\n",
    "---\n",
    "\n",
    "## Follow-up:\n",
    "- Can you solve this problem in **O(nums1.length + nums2.length)** time complexity?\n"
   ]
  },
  {
   "cell_type": "code",
   "execution_count": 2,
   "metadata": {},
   "outputs": [
    {
     "data": {
      "text/plain": [
       "[-1, 3, -1]"
      ]
     },
     "execution_count": 2,
     "metadata": {},
     "output_type": "execute_result"
    }
   ],
   "source": [
    "def nextgreaterElement(nums1,nums2):\n",
    "  nge_map = {}\n",
    "  stack = []\n",
    "  \n",
    "  for num in nums2:\n",
    "    while stack and stack[-1] < num:\n",
    "      nge_map[stack.pop()] = num\n",
    "    stack.append(num)\n",
    "  \n",
    "  for num in stack:\n",
    "    nge_map[num] = -1\n",
    "    \n",
    "  return [nge_map[num] for num in nums1]\n",
    "\n",
    "\n",
    "nums1 = [4,1,2]\n",
    "nums2 = [1,3,4,2]\n",
    "nextgreaterElement(nums1,nums2)"
   ]
  },
  {
   "cell_type": "code",
   "execution_count": 1,
   "metadata": {},
   "outputs": [
    {
     "data": {
      "text/plain": [
       "[5, 5, 5, -1, -1]"
      ]
     },
     "execution_count": 1,
     "metadata": {},
     "output_type": "execute_result"
    }
   ],
   "source": [
    "def nge1(arr):\n",
    "    n = len(arr)\n",
    "    nge = [-1] * n\n",
    "    stack = []\n",
    "    \n",
    "    for i in range(n-1, -1, -1):\n",
    "        while stack and stack[-1] <= arr[i]:\n",
    "            stack.pop()\n",
    "        if stack:\n",
    "            nge[i] = stack[-1]\n",
    "        # else: nge[i] already -1\n",
    "        stack.append(arr[i])\n",
    "    \n",
    "    return nge\n",
    "\n",
    "nums = [4, 2, 1, 5, 3] # ans = [5,5,5,-1,-1]\n",
    "nge1(nums)"
   ]
  },
  {
   "cell_type": "code",
   "execution_count": null,
   "metadata": {},
   "outputs": [],
   "source": []
  }
 ],
 "metadata": {
  "kernelspec": {
   "display_name": "Python 3",
   "language": "python",
   "name": "python3"
  },
  "language_info": {
   "codemirror_mode": {
    "name": "ipython",
    "version": 3
   },
   "file_extension": ".py",
   "mimetype": "text/x-python",
   "name": "python",
   "nbconvert_exporter": "python",
   "pygments_lexer": "ipython3",
   "version": "3.12.0"
  }
 },
 "nbformat": 4,
 "nbformat_minor": 2
}
