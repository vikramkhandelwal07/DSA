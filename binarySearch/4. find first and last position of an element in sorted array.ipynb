{
 "cells": [
  {
   "cell_type": "code",
   "execution_count": 1,
   "metadata": {},
   "outputs": [
    {
     "name": "stdout",
     "output_type": "stream",
     "text": [
      "[3, 5]\n"
     ]
    }
   ],
   "source": [
    "# lower bound\n",
    "def Lowerbound(nums,target,n):\n",
    "  low = 0\n",
    "  high = n-1\n",
    "  ans = n\n",
    "  while low <= high:\n",
    "    mid = (low+high)//2\n",
    "    if nums[mid] >= target:\n",
    "      ans = mid \n",
    "      high = mid -1\n",
    "      \n",
    "    else :\n",
    "      low = mid+1\n",
    "      \n",
    "  return ans \n",
    "# upperbound\n",
    "def upperbound(nums,target,n):\n",
    "  low = 0\n",
    "  high = n-1\n",
    "  ans = n\n",
    "  while low <= high:\n",
    "    mid = (low+high)//2\n",
    "    if nums[mid] > target:\n",
    "      ans = mid \n",
    "      high = mid -1\n",
    "      \n",
    "    else :\n",
    "      low = mid+1\n",
    "      \n",
    "  return ans\n",
    "\n",
    "def searchRange(nums, target):\n",
    "  lb = Lowerbound(nums,target,n)\n",
    "  if (lb == n or nums[lb]!= target):\n",
    "    return [-1,-1]\n",
    "  else:\n",
    "    return [lb,upperbound(nums,target,n)]\n",
    "  \n",
    "        \n",
    "nums = [5,7,7,8,8,10]\n",
    "target = 8\n",
    "n = len(nums)\n",
    "output = searchRange(nums,target)\n",
    "print(output)"
   ]
  },
  {
   "cell_type": "code",
   "execution_count": null,
   "metadata": {},
   "outputs": [],
   "source": []
  }
 ],
 "metadata": {
  "kernelspec": {
   "display_name": "Python 3",
   "language": "python",
   "name": "python3"
  },
  "language_info": {
   "codemirror_mode": {
    "name": "ipython",
    "version": 3
   },
   "file_extension": ".py",
   "mimetype": "text/x-python",
   "name": "python",
   "nbconvert_exporter": "python",
   "pygments_lexer": "ipython3",
   "version": "3.12.0"
  }
 },
 "nbformat": 4,
 "nbformat_minor": 2
}
