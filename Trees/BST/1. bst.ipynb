{
 "cells": [
  {
   "cell_type": "markdown",
   "metadata": {},
   "source": [
    "# Binary Search Tree"
   ]
  },
  {
   "cell_type": "code",
   "execution_count": null,
   "metadata": {},
   "outputs": [],
   "source": [
    "class BST:\n",
    "  def __init__(self,value):\n",
    "    self.value = value\n",
    "    self.left = None\n",
    "    self.right = None\n",
    "  \n",
    "  def insert(self, value):\n",
    "    if value < self.value:\n",
    "      if self.left is None:\n",
    "        self.left = BST(value)\n",
    "      else:\n",
    "        self.left.insert(value)\n",
    "    else:\n",
    "      if self.right is None:\n",
    "        self.right = BST(value)\n",
    "      else:\n",
    "        self.right.insert(value)\n",
    "        \n",
    "  def inorder(self):\n",
    "    if self.left:\n",
    "      self.left.inorder()\n",
    "    print(self.value, end=\" \")\n",
    "    if self.right:\n",
    "      self.right.inorder()\n"
   ]
  },
  {
   "cell_type": "code",
   "execution_count": null,
   "metadata": {},
   "outputs": [
    {
     "name": "stdout",
     "output_type": "stream",
     "text": [
      "2 5 7 10 12 15 18 "
     ]
    }
   ],
   "source": [
    "def BSTfromArray(arr):\n",
    "  if not arr:\n",
    "    return None\n",
    "  root = BST(arr[0])\n",
    "  for val in arr[1:]:\n",
    "    root.insert(val)\n",
    "  return root\n",
    "\n",
    "arr = [10, 5, 15, 2, 7, 12, 18]\n",
    "bst_root = BSTfromArray(arr)\n",
    "\n",
    "# Inorder traversal (should print sorted order)\n",
    "bst_root.inorder()"
   ]
  },
  {
   "cell_type": "markdown",
   "metadata": {},
   "source": [
    "## Search in BST \n",
    "- TC - `O(H)`"
   ]
  },
  {
   "cell_type": "code",
   "execution_count": 12,
   "metadata": {},
   "outputs": [
    {
     "data": {
      "text/plain": [
       "False"
      ]
     },
     "execution_count": 12,
     "metadata": {},
     "output_type": "execute_result"
    }
   ],
   "source": [
    "def search(root, key):\n",
    "  if not root:\n",
    "    return False\n",
    "  if root.value == key:\n",
    "    return True\n",
    "  if root.value > key:\n",
    "    return search(root.left,key)\n",
    "  else:\n",
    "    return search(root.right,key)\n",
    "  \n",
    "search(bst_root,11)  "
   ]
  },
  {
   "cell_type": "markdown",
   "metadata": {},
   "source": [
    "## Delete a Node\n",
    "\n",
    "- Three Cases\n",
    "1. No child leaf node - straight away return null\n",
    "2. one child - connect with child node\n",
    "3. two Children - find inorder sucessor i.e left most node of the right subtree"
   ]
  },
  {
   "cell_type": "code",
   "execution_count": 14,
   "metadata": {},
   "outputs": [],
   "source": [
    "def findInorderSuccessor(root):\n",
    "    while root.left:\n",
    "        root = root.left\n",
    "    return root\n",
    "\n",
    "def delete(root, val):\n",
    "    if root is None:\n",
    "        return root\n",
    "\n",
    "    if root.value < val:\n",
    "        root.right = delete(root.right, val)\n",
    "    elif root.value > val:\n",
    "        root.left = delete(root.left, val)\n",
    "    else:\n",
    "        # Case 1: Leaf Node\n",
    "        if root.left is None and root.right is None:\n",
    "            return None\n",
    "        # Case 2: One Child\n",
    "        if root.left is None:\n",
    "            return root.right\n",
    "        if root.right is None:\n",
    "            return root.left\n",
    "        # Case 3: Two Children\n",
    "        inorder_successor = findInorderSuccessor(root.right)\n",
    "        root.value = inorder_successor.value\n",
    "        root.right = delete(root.right, inorder_successor.value)\n",
    "\n",
    "    return root"
   ]
  },
  {
   "cell_type": "code",
   "execution_count": 15,
   "metadata": {},
   "outputs": [
    {
     "name": "stdout",
     "output_type": "stream",
     "text": [
      "Inorder before deletion:\n",
      "2 5 7 10 12 15 18 \n",
      "Deleting 10...\n",
      "Inorder after deletion:\n",
      "2 5 7 12 15 18 "
     ]
    }
   ],
   "source": [
    "arr = [10, 5, 15, 2, 7, 12, 18]\n",
    "bst_root = BST(arr[0])\n",
    "for num in arr[1:]:\n",
    "    bst_root.insert(num)\n",
    "\n",
    "print(\"Inorder before deletion:\")\n",
    "bst_root.inorder()\n",
    "print(\"\\nDeleting 10...\")\n",
    "bst_root = delete(bst_root, 10)\n",
    "print(\"Inorder after deletion:\")\n",
    "bst_root.inorder()"
   ]
  },
  {
   "cell_type": "markdown",
   "metadata": {},
   "source": [
    "## Print in Range"
   ]
  },
  {
   "cell_type": "code",
   "execution_count": 17,
   "metadata": {},
   "outputs": [],
   "source": [
    "def printInRange(root, k1, k2):\n",
    "  if not root:\n",
    "    return\n",
    "  \n",
    "  # If root value is greater than k2, search in left subtree\n",
    "  if root.value > k2:\n",
    "    printInRange(root.left, k1, k2)\n",
    "  \n",
    "  # If root value is within the range, print and check both subtrees\n",
    "  elif k1 <= root.value <= k2:\n",
    "    printInRange(root.left, k1, k2)\n",
    "    print(root.value, end=\" \")\n",
    "    printInRange(root.right, k1, k2)\n",
    "  \n",
    "  # If root value is smaller than k1, search in right subtree\n",
    "  else:\n",
    "    printInRange(root.right, k1, k2)\n"
   ]
  },
  {
   "cell_type": "code",
   "execution_count": 18,
   "metadata": {},
   "outputs": [
    {
     "name": "stdout",
     "output_type": "stream",
     "text": [
      "\n",
      "Values in range [5, 15]:\n",
      "5 7 10 12 15 "
     ]
    }
   ],
   "source": [
    "# Creating BST\n",
    "arr = [10, 5, 15, 2, 7, 12, 18]\n",
    "bst_root = BST(arr[0])\n",
    "for num in arr[1:]:\n",
    "    bst_root.insert(num)\n",
    "\n",
    "print(\"\\nValues in range [5, 15]:\")\n",
    "printInRange(bst_root, 5, 15)  # Expected output: 5 7 10 12 15\n"
   ]
  },
  {
   "cell_type": "markdown",
   "metadata": {},
   "source": [
    "## Print Root2leaf"
   ]
  },
  {
   "cell_type": "code",
   "execution_count": 24,
   "metadata": {},
   "outputs": [],
   "source": [
    "def printRoot2Leaf(root, path=[]):\n",
    "  if not root:\n",
    "      return\n",
    "\n",
    "  # Append the current node to the path\n",
    "  path.append(root.value)\n",
    "\n",
    "  # If leaf node, print the path\n",
    "  if not root.left and not root.right:\n",
    "      print(\" -> \".join(map(str, path)))\n",
    "\n",
    "  # Recur for left and right subtrees\n",
    "  printRoot2Leaf(root.left, path[:])  # Pass a copy of the path\n",
    "  printRoot2Leaf(root.right, path[:]) # Pass a copy of the path\n",
    "\n"
   ]
  },
  {
   "cell_type": "code",
   "execution_count": 25,
   "metadata": {},
   "outputs": [
    {
     "name": "stdout",
     "output_type": "stream",
     "text": [
      "10 -> 5 -> 2\n",
      "10 -> 5 -> 7\n",
      "10 -> 15 -> 12\n",
      "10 -> 15 -> 18\n"
     ]
    }
   ],
   "source": [
    "printRoot2Leaf(bst_root)"
   ]
  },
  {
   "cell_type": "code",
   "execution_count": null,
   "metadata": {},
   "outputs": [],
   "source": []
  }
 ],
 "metadata": {
  "kernelspec": {
   "display_name": "Python 3",
   "language": "python",
   "name": "python3"
  },
  "language_info": {
   "codemirror_mode": {
    "name": "ipython",
    "version": 3
   },
   "file_extension": ".py",
   "mimetype": "text/x-python",
   "name": "python",
   "nbconvert_exporter": "python",
   "pygments_lexer": "ipython3",
   "version": "3.12.0"
  }
 },
 "nbformat": 4,
 "nbformat_minor": 2
}
