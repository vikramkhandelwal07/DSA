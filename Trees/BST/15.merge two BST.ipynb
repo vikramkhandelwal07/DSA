{
 "cells": [
  {
   "cell_type": "code",
   "execution_count": 2,
   "id": "5a6550fb",
   "metadata": {},
   "outputs": [],
   "source": [
    "class BstIterator:\n",
    "    def __init__(self, root):\n",
    "        self.stack = []\n",
    "        self._pushLeft(root)\n",
    "    \n",
    "    def _pushLeft(self, node):\n",
    "        while node:\n",
    "            self.stack.append(node)\n",
    "            node = node.left\n",
    "    \n",
    "    def hasNext(self):\n",
    "        return bool(self.stack)\n",
    "    \n",
    "    def next(self):\n",
    "        node = self.stack.pop()\n",
    "        self._pushLeft(node.right)\n",
    "        return node.val\n",
    "\n",
    "def mergeBstsToList(root1, root2) -> list[int]:\n",
    "    itr1 = BstIterator(root1)\n",
    "    itr2 = BstIterator(root2)\n",
    "    result = []\n",
    "\n",
    "    val1 = itr1.next() if itr1.hasNext() else None\n",
    "    val2 = itr2.next() if itr2.hasNext() else None\n",
    "\n",
    "    while val1 is not None or val2 is not None:\n",
    "        if val2 is None or (val1 is not None and val1 <= val2):\n",
    "            result.append(val1)\n",
    "            val1 = itr1.next() if itr1.hasNext() else None\n",
    "        else:\n",
    "            result.append(val2)\n",
    "            val2 = itr2.next() if itr2.hasNext() else None\n",
    "\n",
    "    return result\n"
   ]
  },
  {
   "cell_type": "code",
   "execution_count": null,
   "id": "7b018bfa",
   "metadata": {},
   "outputs": [],
   "source": []
  }
 ],
 "metadata": {
  "kernelspec": {
   "display_name": "Python 3",
   "language": "python",
   "name": "python3"
  },
  "language_info": {
   "codemirror_mode": {
    "name": "ipython",
    "version": 3
   },
   "file_extension": ".py",
   "mimetype": "text/x-python",
   "name": "python",
   "nbconvert_exporter": "python",
   "pygments_lexer": "ipython3",
   "version": "3.12.0"
  }
 },
 "nbformat": 4,
 "nbformat_minor": 5
}
