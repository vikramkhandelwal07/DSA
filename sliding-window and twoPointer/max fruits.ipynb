{
 "cells": [
  {
   "cell_type": "markdown",
   "metadata": {},
   "source": [
    "### Problem: Fruit Into Baskets\n",
    "\n",
    "#### Difficulty\n",
    "Medium\n",
    "\n",
    "#### Accuracy\n",
    "47.98%\n",
    "\n",
    "#### Submissions\n",
    "77K+\n",
    "\n",
    "#### Points\n",
    "4\n",
    "\n",
    "---\n",
    "\n",
    "You are visiting a farm that has a single row of fruit trees arranged from left to right. The trees are represented by an integer array `arr[]`, where `arr[i]` is the type of fruit the `i-th` tree produces.\n",
    "\n",
    "#### Objective\n",
    "You want to collect as much fruit as possible. However, the owner has some strict rules that you must follow:\n",
    "\n",
    "1. You only have **two baskets**, and each basket can only hold a single type of fruit. There is no limit on the amount of fruit each basket can hold.\n",
    "2. Starting from any tree of your choice, you must pick exactly **one fruit from every tree** (including the start tree) while moving to the right. The picked fruits must fit in one of the baskets.\n",
    "3. Once you reach a tree with fruit that cannot fit in your baskets, you must stop.\n",
    "\n",
    "---\n",
    "\n",
    "#### Task\n",
    "Given the integer array of fruits, return the **maximum number of fruits** you can pick.\n",
    "\n",
    "---\n",
    "\n",
    "#### Examples\n",
    "\n",
    "**Input:**  \n",
    "`arr[] = [2, 1, 2]`  \n",
    "**Output:**  \n",
    "`3`  \n",
    "**Explanation:**  \n",
    "We can pick one fruit from all three trees. Please note that the type of fruits is the same in the 1st and 3rd baskets.\n",
    "\n",
    "**Input:**  \n",
    "`arr[] = [3, 1, 2, 2, 2, 2]`  \n",
    "**Output:**  \n",
    "`5`  \n",
    "**Explanation:**  \n",
    "It's optimal to pick from the last 5 trees. Please note that we do not pick the first basket as we would have to stop at the third tree, resulting in only 2 fruits collected.\n",
    "\n",
    "---\n",
    "\n",
    "#### Constraints\n",
    "- `1 ≤ arr.size() ≤ 10^5`\n",
    "- `1 ≤ arr[i] ≤ n`\n"
   ]
  },
  {
   "cell_type": "markdown",
   "metadata": {},
   "source": [
    "- TC O(n^2)\n",
    "- SC O(3) "
   ]
  },
  {
   "cell_type": "code",
   "execution_count": 1,
   "metadata": {},
   "outputs": [
    {
     "data": {
      "text/plain": [
       "5"
      ]
     },
     "execution_count": 1,
     "metadata": {},
     "output_type": "execute_result"
    }
   ],
   "source": [
    "def totalFruits(arr):\n",
    "  # Code here\n",
    "  n = len(arr)\n",
    "  maxlength = 0\n",
    "  for i in range(n):\n",
    "    set1 = set()\n",
    "    for j in range(i,n):\n",
    "      set1.add(arr[j])\n",
    "        \n",
    "      if len(set1) <=2:\n",
    "        maxlength = max(maxlength,j-i+1)\n",
    "      else:\n",
    "        break\n",
    "        \n",
    "  return maxlength\n",
    "\n",
    "arr= [3, 1, 2, 2, 2, 2]\n",
    "totalFruits(arr)"
   ]
  },
  {
   "cell_type": "markdown",
   "metadata": {},
   "source": [
    "- TC-O(n+n)\n",
    "- SC-O(3)"
   ]
  },
  {
   "cell_type": "code",
   "execution_count": 14,
   "metadata": {},
   "outputs": [
    {
     "data": {
      "text/plain": [
       "5"
      ]
     },
     "execution_count": 14,
     "metadata": {},
     "output_type": "execute_result"
    }
   ],
   "source": [
    "def totalFruits(nums):\n",
    "  n= len(nums)\n",
    "  l = 0\n",
    "  r = 0\n",
    "  maxlength  = 0\n",
    "  fruits = {}\n",
    "  \n",
    "  while r < n:\n",
    "    fruits[nums[r]] = fruits.get(nums[r],0) + 1\n",
    "    \n",
    "    while len(fruits) > 2:\n",
    "      fruits[nums[l]] -=1\n",
    "      if fruits[nums[l]] == 0:\n",
    "        del fruits[nums[l]]\n",
    "      l+=1\n",
    "    \n",
    "    maxlength = max(maxlength,r-l+1)\n",
    "    r+=1\n",
    "    \n",
    "    \n",
    "  return maxlength\n",
    "\n",
    "nums= [3, 1, 2, 2, 2, 2]\n",
    "totalFruits(arr)   "
   ]
  },
  {
   "cell_type": "markdown",
   "metadata": {},
   "source": [
    "- TC-O(n+n)\n",
    "- SC-O(3)"
   ]
  },
  {
   "cell_type": "code",
   "execution_count": 16,
   "metadata": {},
   "outputs": [
    {
     "data": {
      "text/plain": [
       "5"
      ]
     },
     "execution_count": 16,
     "metadata": {},
     "output_type": "execute_result"
    }
   ],
   "source": [
    "def totalFruits(nums):\n",
    "  n= len(nums)\n",
    "  l = 0\n",
    "  r = 0\n",
    "  maxlength  = 0\n",
    "  fruits = {}\n",
    "  \n",
    "  while r < n:\n",
    "    fruits[nums[r]] = fruits.get(nums[r],0) + 1\n",
    "    \n",
    "    if len(fruits) > 2:\n",
    "      fruits[nums[l]] -=1\n",
    "      if fruits[nums[l]] == 0:\n",
    "        del fruits[nums[l]]\n",
    "      l+=1\n",
    "    \n",
    "    maxlength = max(maxlength,r-l+1)\n",
    "    r+=1\n",
    "    \n",
    "    \n",
    "  return maxlength\n",
    "\n",
    "nums= [3, 1, 2, 2, 2, 2]\n",
    "totalFruits(arr)   "
   ]
  },
  {
   "cell_type": "code",
   "execution_count": null,
   "metadata": {},
   "outputs": [],
   "source": []
  },
  {
   "cell_type": "code",
   "execution_count": 15,
   "metadata": {},
   "outputs": [
    {
     "name": "stdout",
     "output_type": "stream",
     "text": [
      "{1: 2, 2: 4, 3: 7, 4: 8}\n"
     ]
    }
   ],
   "source": [
    "dict1 = {\n",
    "  1:2,\n",
    "  2:4,\n",
    "  3:6,\n",
    "  4:8\n",
    "}\n",
    "dict1[3] = dict1.get(3,0)+1\n",
    "print(dict1)"
   ]
  },
  {
   "cell_type": "code",
   "execution_count": null,
   "metadata": {},
   "outputs": [],
   "source": []
  }
 ],
 "metadata": {
  "kernelspec": {
   "display_name": "Python 3",
   "language": "python",
   "name": "python3"
  },
  "language_info": {
   "codemirror_mode": {
    "name": "ipython",
    "version": 3
   },
   "file_extension": ".py",
   "mimetype": "text/x-python",
   "name": "python",
   "nbconvert_exporter": "python",
   "pygments_lexer": "ipython3",
   "version": "3.12.0"
  }
 },
 "nbformat": 4,
 "nbformat_minor": 2
}
