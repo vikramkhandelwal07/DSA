{
 "cells": [
  {
   "cell_type": "markdown",
   "id": "6a276493",
   "metadata": {},
   "source": [
    "- TC - O(2n)\n",
    "- SC - O(1)"
   ]
  },
  {
   "cell_type": "code",
   "execution_count": 1,
   "id": "118f74bd",
   "metadata": {},
   "outputs": [],
   "source": [
    "class ListNode:\n",
    "    def __init__(self, val=0, next=None):\n",
    "        self.val = val\n",
    "        self.next = next\n",
    "\n",
    "def reverseLl(head):\n",
    "    prev = None\n",
    "    current = head\n",
    "    while current:\n",
    "        front = current.next\n",
    "        current.next = prev\n",
    "        prev = current\n",
    "        current = front\n",
    "    return prev  # This is the new head of the reversed segment\n",
    "\n",
    "def getKthNode(temp, k):\n",
    "    k -= 1\n",
    "    while temp is not None and k > 0:\n",
    "        k -= 1\n",
    "        temp = temp.next\n",
    "    return temp\n",
    "\n",
    "def kReverse(head, k):\n",
    "    temp = head\n",
    "    prevLast = None\n",
    "    newHead = None\n",
    "\n",
    "    while temp:\n",
    "        kthNode = getKthNode(temp, k)\n",
    "        if not kthNode:\n",
    "            if prevLast:\n",
    "                prevLast.next = temp\n",
    "            break\n",
    "\n",
    "        nextNode = kthNode.next\n",
    "        kthNode.next = None\n",
    "\n",
    "        reversedHead = reverseLl(temp)\n",
    "\n",
    "        if not newHead:\n",
    "            newHead = reversedHead\n",
    "\n",
    "        if prevLast:\n",
    "            prevLast.next = reversedHead\n",
    "\n",
    "        prevLast = temp\n",
    "        temp = nextNode\n",
    "\n",
    "    return newHead if newHead else head\n"
   ]
  },
  {
   "cell_type": "code",
   "execution_count": 2,
   "id": "e9219a6f",
   "metadata": {},
   "outputs": [
    {
     "name": "stdout",
     "output_type": "stream",
     "text": [
      "3 -> 2 -> 1 -> 6 -> 5 -> 4 -> 7 -> None\n"
     ]
    }
   ],
   "source": [
    "\n",
    "# Helper to create and print linked list\n",
    "def create_linked_list(lst):\n",
    "    dummy = ListNode()\n",
    "    tail = dummy\n",
    "    for val in lst:\n",
    "        tail.next = ListNode(val)\n",
    "        tail = tail.next\n",
    "    return dummy.next\n",
    "\n",
    "def print_linked_list(head):\n",
    "    while head:\n",
    "        print(head.val, end=\" -> \")\n",
    "        head = head.next\n",
    "    print(\"None\")\n",
    "\n",
    "# Example\n",
    "head = create_linked_list([1, 2, 3, 4, 5, 6, 7])\n",
    "k = 3\n",
    "reversed_head = kReverse(head, k)\n",
    "print_linked_list(reversed_head)\n"
   ]
  },
  {
   "cell_type": "code",
   "execution_count": null,
   "id": "03518ae4",
   "metadata": {},
   "outputs": [],
   "source": []
  }
 ],
 "metadata": {
  "kernelspec": {
   "display_name": "Python 3",
   "language": "python",
   "name": "python3"
  },
  "language_info": {
   "codemirror_mode": {
    "name": "ipython",
    "version": 3
   },
   "file_extension": ".py",
   "mimetype": "text/x-python",
   "name": "python",
   "nbconvert_exporter": "python",
   "pygments_lexer": "ipython3",
   "version": "3.12.0"
  }
 },
 "nbformat": 4,
 "nbformat_minor": 5
}
