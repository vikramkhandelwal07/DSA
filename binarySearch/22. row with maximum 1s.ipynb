{
 "cells": [
  {
   "cell_type": "code",
   "execution_count": 6,
   "metadata": {},
   "outputs": [
    {
     "name": "stdout",
     "output_type": "stream",
     "text": [
      "2\n"
     ]
    }
   ],
   "source": [
    "\n",
    "arr = [[0,1,1,1], [0,0,1,1], [1,1,1,1], [0,0,0,0]]\n",
    "\n",
    "maxi = max(arr)\n",
    "n = len(arr)\n",
    "for i in range(n):\n",
    "  if arr[i] == maxi:\n",
    "    print(i)"
   ]
  },
  {
   "cell_type": "code",
   "execution_count": 8,
   "metadata": {},
   "outputs": [
    {
     "data": {
      "text/plain": [
       "2"
      ]
     },
     "execution_count": 8,
     "metadata": {},
     "output_type": "execute_result"
    }
   ],
   "source": [
    "def rowWithMax1s( arr):\n",
    "  maxi = max(arr)\n",
    "  n = len(arr)\n",
    "  for i in range(n):\n",
    "    if arr[i] == maxi:\n",
    "      return i\n",
    "    \n",
    "arr = [[0,1,1,1], [0,0,1,1], [1,1,1,1], [0,0,0,0]]\n",
    "rowWithMax1s(arr)"
   ]
  },
  {
   "cell_type": "code",
   "execution_count": 9,
   "metadata": {},
   "outputs": [
    {
     "name": "stdout",
     "output_type": "stream",
     "text": [
      "The row with maximum no. of 1's is: 0\n"
     ]
    }
   ],
   "source": [
    "\n",
    "\n",
    "\n",
    "def lowerBound(arr, n, x):\n",
    "    low = 0\n",
    "    high = n - 1\n",
    "    ans = n\n",
    "\n",
    "    while low <= high:\n",
    "        mid = (low + high) // 2\n",
    "        # maybe an answer\n",
    "        if arr[mid] >= x:\n",
    "            ans = mid\n",
    "            # look for smaller index on the left\n",
    "            high = mid - 1\n",
    "        else:\n",
    "            low = mid + 1  # look on the right\n",
    "    return ans\n",
    "\n",
    "def rowWithMax1s(matrix, n, m):\n",
    "    cnt_max = 0\n",
    "    index = -1\n",
    "\n",
    "    # traverse the rows:\n",
    "    for i in range(n):\n",
    "        # get the number of 1's:\n",
    "        cnt_ones = m - lowerBound(matrix[i], m, 1)\n",
    "        if cnt_ones > cnt_max:\n",
    "            cnt_max = cnt_ones\n",
    "            index = i\n",
    "    return index\n",
    "\n",
    "matrix = [[1, 1, 1], [0, 0, 1], [0, 0, 0]]\n",
    "n = 3\n",
    "m = 3\n",
    "print(\"The row with maximum no. of 1's is:\", rowWithMax1s(matrix, n, m))\n",
    "\n"
   ]
  },
  {
   "cell_type": "code",
   "execution_count": 10,
   "metadata": {},
   "outputs": [
    {
     "data": {
      "text/plain": [
       "4"
      ]
     },
     "execution_count": 10,
     "metadata": {},
     "output_type": "execute_result"
    }
   ],
   "source": [
    "len(max(arr))"
   ]
  },
  {
   "cell_type": "code",
   "execution_count": null,
   "metadata": {},
   "outputs": [],
   "source": []
  }
 ],
 "metadata": {
  "kernelspec": {
   "display_name": "Python 3",
   "language": "python",
   "name": "python3"
  },
  "language_info": {
   "codemirror_mode": {
    "name": "ipython",
    "version": 3
   },
   "file_extension": ".py",
   "mimetype": "text/x-python",
   "name": "python",
   "nbconvert_exporter": "python",
   "pygments_lexer": "ipython3",
   "version": "3.12.0"
  }
 },
 "nbformat": 4,
 "nbformat_minor": 2
}
