{
 "cells": [
  {
   "cell_type": "code",
   "execution_count": 4,
   "id": "49a2a3f7",
   "metadata": {},
   "outputs": [
    {
     "data": {
      "text/plain": [
       "3"
      ]
     },
     "execution_count": 4,
     "metadata": {},
     "output_type": "execute_result"
    }
   ],
   "source": [
    "\n",
    "def maxDepth(s):\n",
    "    cnt = 0\n",
    "    depth = 0\n",
    "    for ch in s:\n",
    "        if ch == \"(\":\n",
    "            cnt+=1\n",
    "            depth = max(cnt,depth)\n",
    "        elif ch == \")\":\n",
    "            cnt -=1\n",
    "        \n",
    "    return depth\n",
    "\n",
    "s = \"(1+(2*3)+((8)/4))+1\"\n",
    "maxDepth(s)\n",
    "    "
   ]
  },
  {
   "cell_type": "code",
   "execution_count": null,
   "id": "5c6bbfa1",
   "metadata": {},
   "outputs": [],
   "source": []
  }
 ],
 "metadata": {
  "kernelspec": {
   "display_name": "Python 3",
   "language": "python",
   "name": "python3"
  },
  "language_info": {
   "codemirror_mode": {
    "name": "ipython",
    "version": 3
   },
   "file_extension": ".py",
   "mimetype": "text/x-python",
   "name": "python",
   "nbconvert_exporter": "python",
   "pygments_lexer": "ipython3",
   "version": "3.12.0"
  }
 },
 "nbformat": 4,
 "nbformat_minor": 5
}
