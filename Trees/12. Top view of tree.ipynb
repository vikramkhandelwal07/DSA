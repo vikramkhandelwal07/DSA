{
 "cells": [
  {
   "cell_type": "markdown",
   "metadata": {},
   "source": [
    "1. we will use a dictionary\n",
    "2. we will calculate horizontal distance \n",
    "3. we will calculate this using level order traversal.\n"
   ]
  },
  {
   "cell_type": "code",
   "execution_count": 13,
   "metadata": {},
   "outputs": [],
   "source": [
    "from collections import deque\n",
    "\n",
    "class TreeNode:\n",
    "  def __init__(self, val = 0, left = None, right = None):\n",
    "    self.val = val\n",
    "    self.left = left\n",
    "    self.right = right\n",
    "    \n",
    "class Solution:\n",
    "  def topViewOfTree(self,root):\n",
    "    if not root:\n",
    "      return []\n",
    "    \n",
    "    hd_map ={}\n",
    "    min_hd = 0\n",
    "    max_hd = 0\n",
    "    queue = deque([(root,0)])\n",
    "    \n",
    "    while queue:\n",
    "      node, hd = queue.popleft()\n",
    "      \n",
    "      if hd not in hd_map:\n",
    "        hd_map[hd] = node.val\n",
    "        min_hd = min(min_hd, hd)\n",
    "        max_hd = max(max_hd, hd)\n",
    "      \n",
    "      if node.left:\n",
    "        queue.append((node.left,hd-1))\n",
    "        \n",
    "      if node.right:\n",
    "        queue.append((node.right,hd+1))\n",
    "        \n",
    "    return [hd_map[key] for key in range(min_hd,max_hd+1)]\n",
    "  \n",
    "        \n",
    "    "
   ]
  },
  {
   "cell_type": "code",
   "execution_count": 14,
   "metadata": {},
   "outputs": [
    {
     "name": "stdout",
     "output_type": "stream",
     "text": [
      "[4, 2, 1, 3, 7]\n"
     ]
    }
   ],
   "source": [
    "# ---- Test Cases ----\n",
    "root = TreeNode(1)\n",
    "root.left = TreeNode(2)\n",
    "root.right = TreeNode(3)\n",
    "root.left.left = TreeNode(4)\n",
    "root.left.right = TreeNode(5)\n",
    "root.right.left = TreeNode(6)\n",
    "root.right.right = TreeNode(7)\n",
    "\n",
    "sol = Solution()\n",
    "print(sol.topViewOfTree(root))  # Expected Output: [4, 2, 1, 3, 7]"
   ]
  },
  {
   "cell_type": "code",
   "execution_count": null,
   "metadata": {},
   "outputs": [],
   "source": []
  }
 ],
 "metadata": {
  "kernelspec": {
   "display_name": "Python 3",
   "language": "python",
   "name": "python3"
  },
  "language_info": {
   "codemirror_mode": {
    "name": "ipython",
    "version": 3
   },
   "file_extension": ".py",
   "mimetype": "text/x-python",
   "name": "python",
   "nbconvert_exporter": "python",
   "pygments_lexer": "ipython3",
   "version": "3.12.0"
  }
 },
 "nbformat": 4,
 "nbformat_minor": 2
}
