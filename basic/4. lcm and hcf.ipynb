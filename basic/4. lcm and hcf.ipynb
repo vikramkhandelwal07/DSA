{
 "cells": [
  {
   "cell_type": "code",
   "execution_count": 13,
   "metadata": {},
   "outputs": [
    {
     "name": "stdout",
     "output_type": "stream",
     "text": [
      "(2460.0, 1)\n"
     ]
    }
   ],
   "source": [
    "def hcfAndLcm(a,b):\n",
    "    A = a\n",
    "    B = b\n",
    "    hcf = 0\n",
    "    lcm = 0\n",
    "    while b !=0:\n",
    "        a, b = b , a % b\n",
    "    hcf = abs(a)\n",
    "    lcm = (A*B)/hcf\n",
    "    \n",
    "    return lcm , hcf\n",
    "\n",
    "print(hcfAndLcm(123,20))"
   ]
  },
  {
   "cell_type": "markdown",
   "metadata": {},
   "source": [
    "# Lcm and Gcd\n",
    "\n",
    "#### by using euclidean algo \n",
    "- 1 gcd(a,b) = gcd(a-b,b) given a > b using this approach we have solved it but there is a catch it can take too many steps\n",
    "- 2 for eg (52,10) -->(42,10)-->(32,10)-->(22,10)-->(12,10)-->(2,10) i.e(10,2)-->(8,2)-->(6,2)-->(4,2)-->(2,2)-->(0,2)\n",
    "- 3 after one turns to be zero the remaining number is the gcd\n",
    "- 4 to avoid this substraction we can directly divide the bigger number by smaller 52%10 = 2 so it becomes (2,10) and similar ahead"
   ]
  },
  {
   "cell_type": "code",
   "execution_count": 2,
   "metadata": {},
   "outputs": [],
   "source": [
    "class Solution:\n",
    "    def lcmAndGcd(self, A , B):\n",
    "        # code here\n",
    "        og_A = A\n",
    "        og_B = B\n",
    "        hcf = 0\n",
    "        \n",
    "        while(A>0 and B>0):\n",
    "            if A > B:\n",
    "                A = A % B\n",
    "            else :\n",
    "             B = B % A\n",
    "        \n",
    "        if A == 0:\n",
    "            hcf = B\n",
    "        else:\n",
    "            hcf = A\n",
    "        # formula of lcm\n",
    "        lcm = int((og_A*og_B)/hcf)\n",
    "        return lcm, hcf"
   ]
  },
  {
   "cell_type": "code",
   "execution_count": 4,
   "metadata": {},
   "outputs": [
    {
     "name": "stdout",
     "output_type": "stream",
     "text": [
      "(450, 3)\n"
     ]
    }
   ],
   "source": [
    "obj = Solution()\n",
    "print(obj.lcmAndGcd(6,225))"
   ]
  },
  {
   "cell_type": "code",
   "execution_count": null,
   "metadata": {},
   "outputs": [],
   "source": []
  }
 ],
 "metadata": {
  "kernelspec": {
   "display_name": "Python 3",
   "language": "python",
   "name": "python3"
  },
  "language_info": {
   "codemirror_mode": {
    "name": "ipython",
    "version": 3
   },
   "file_extension": ".py",
   "mimetype": "text/x-python",
   "name": "python",
   "nbconvert_exporter": "python",
   "pygments_lexer": "ipython3",
   "version": "3.12.0"
  }
 },
 "nbformat": 4,
 "nbformat_minor": 2
}
