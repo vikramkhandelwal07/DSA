{
 "cells": [
  {
   "cell_type": "code",
   "execution_count": 1,
   "metadata": {},
   "outputs": [],
   "source": [
    "class Node:\n",
    "    def __init__(self, value):\n",
    "        self.value = value\n",
    "        self.next = None\n",
    "\n",
    "def array_to_linkedlist(array):\n",
    "    if not array:  # Handle empty array\n",
    "        return None\n",
    "    head = Node(array[0])\n",
    "    current = head\n",
    "    for value in array[1:]:\n",
    "        current.next = Node(value)\n",
    "        # print(current.next)\n",
    "        current = current.next\n",
    "    return head\n",
    "\n",
    "def display_linkedlist(head):\n",
    "    current = head\n",
    "    while current:\n",
    "        print(current.value, end=\" -> \")\n",
    "        current = current.next"
   ]
  },
  {
   "cell_type": "code",
   "execution_count": 3,
   "metadata": {},
   "outputs": [
    {
     "name": "stdout",
     "output_type": "stream",
     "text": [
      "head: 1\n",
      "1 -> 2 -> 3 -> 4 -> 5 -> 6 -> 7 -> "
     ]
    }
   ],
   "source": [
    "# Example usage\n",
    "array = [1, 2, 3, 4, 5,6,7]\n",
    "head = array_to_linkedlist(array)\n",
    "\n",
    "print(\"head:\",head.value)\n",
    "display_linkedlist(head)\n"
   ]
  },
  {
   "cell_type": "code",
   "execution_count": null,
   "metadata": {},
   "outputs": [],
   "source": []
  }
 ],
 "metadata": {
  "kernelspec": {
   "display_name": "Python 3",
   "language": "python",
   "name": "python3"
  },
  "language_info": {
   "codemirror_mode": {
    "name": "ipython",
    "version": 3
   },
   "file_extension": ".py",
   "mimetype": "text/x-python",
   "name": "python",
   "nbconvert_exporter": "python",
   "pygments_lexer": "ipython3",
   "version": "3.12.0"
  }
 },
 "nbformat": 4,
 "nbformat_minor": 2
}
