{
 "cells": [
  {
   "cell_type": "code",
   "execution_count": null,
   "id": "450d8400",
   "metadata": {},
   "outputs": [
    {
     "ename": "TypeError",
     "evalue": "unsupported operand type(s) for *: 'set' and 'int'",
     "output_type": "error",
     "traceback": [
      "\u001b[1;31m---------------------------------------------------------------------------\u001b[0m",
      "\u001b[1;31mTypeError\u001b[0m                                 Traceback (most recent call last)",
      "Cell \u001b[1;32mIn[1], line 1\u001b[0m\n\u001b[1;32m----> 1\u001b[0m hashdict \u001b[38;5;241m=\u001b[39m \u001b[43m{\u001b[49m\u001b[38;5;241;43m0\u001b[39;49m\u001b[43m}\u001b[49m\u001b[38;5;241;43m*\u001b[39;49m\u001b[38;5;241;43m256\u001b[39;49m\n\u001b[0;32m      2\u001b[0m \u001b[38;5;28mprint\u001b[39m(hashdict)\n",
      "\u001b[1;31mTypeError\u001b[0m: unsupported operand type(s) for *: 'set' and 'int'"
     ]
    }
   ],
   "source": []
  },
  {
   "cell_type": "code",
   "execution_count": 11,
   "id": "b3bcc77f",
   "metadata": {},
   "outputs": [
    {
     "data": {
      "text/plain": [
       "'BANC'"
      ]
     },
     "execution_count": 11,
     "metadata": {},
     "output_type": "execute_result"
    }
   ],
   "source": [
    "import sys\n",
    "\n",
    "def minWindow(s, t):\n",
    "    n = len(s)\n",
    "    m = len(t)\n",
    "    min_len = sys.maxsize\n",
    "    start_index = -1\n",
    "\n",
    "    # Count characters in t\n",
    "    t_map = [0] * 256\n",
    "    for c in t:\n",
    "        t_map[ord(c)] += 1\n",
    "\n",
    "    for i in range(n):\n",
    "        # Copy of target map for each new starting point\n",
    "        curr_map = t_map[:]\n",
    "        count = 0\n",
    "\n",
    "        for j in range(i, n):\n",
    "            ch = s[j]\n",
    "            if curr_map[ord(ch)] > 0:\n",
    "                curr_map[ord(ch)] -= 1\n",
    "                count += 1\n",
    "\n",
    "            if count == m:\n",
    "                window_len = j - i + 1\n",
    "                if window_len < min_len:\n",
    "                    min_len = window_len\n",
    "                    start_index = i\n",
    "                break  # Found a valid window starting at i\n",
    "\n",
    "    if start_index == -1:\n",
    "        return \"\"\n",
    "    else:\n",
    "        return s[start_index:start_index + min_len]\n",
    "s = \"ADOBECODEBANC\"\n",
    "t = \"ABC\"\n",
    "minWindow(s,t)\n"
   ]
  },
  {
   "cell_type": "code",
   "execution_count": 15,
   "id": "18c18e7b",
   "metadata": {},
   "outputs": [
    {
     "name": "stdout",
     "output_type": "stream",
     "text": [
      "BANC\n"
     ]
    }
   ],
   "source": [
    "import sys\n",
    "\n",
    "def minWindow(s, t):\n",
    "    n = len(s)\n",
    "    m = len(t)\n",
    "    if m == 0 or n == 0:\n",
    "        return \"\"\n",
    "\n",
    "    # frequency map of characters in t\n",
    "    target = [0] * 256\n",
    "    for c in t:\n",
    "        target[ord(c)] += 1\n",
    "\n",
    "    # counts of current window\n",
    "    window = [0] * 256\n",
    "\n",
    "    required = sum(1 for count in target if count > 0)  # number of unique chars to match\n",
    "    count = 0\n",
    "\n",
    "    min_len = sys.maxsize\n",
    "    start = 0\n",
    "\n",
    "    l = 0\n",
    "    for r in range(n):\n",
    "        char_r = ord(s[r])\n",
    "        window[char_r] += 1\n",
    "\n",
    "        if target[char_r] > 0 and window[char_r] == target[char_r]:\n",
    "            count += 1\n",
    "\n",
    "        while count == required:\n",
    "            # update minimum\n",
    "            if r - l + 1 < min_len:\n",
    "                min_len = r - l + 1\n",
    "                start = l\n",
    "\n",
    "            char_l = ord(s[l])\n",
    "            window[char_l] -= 1\n",
    "\n",
    "            if target[char_l] > 0 and window[char_l] < target[char_l]:\n",
    "                count -= 1\n",
    "\n",
    "            l += 1\n",
    "\n",
    "    if min_len == sys.maxsize:\n",
    "        return \"\"\n",
    "    else:\n",
    "        return s[start:start + min_len]\n",
    "\n",
    "\n",
    "# Example\n",
    "s = \"ADOBECODEBANC\"\n",
    "t = \"ABC\"\n",
    "print(minWindow(s, t))   # Output: BANC\n"
   ]
  },
  {
   "cell_type": "code",
   "execution_count": null,
   "id": "392ac2e0",
   "metadata": {},
   "outputs": [],
   "source": []
  }
 ],
 "metadata": {
  "kernelspec": {
   "display_name": "Python 3",
   "language": "python",
   "name": "python3"
  },
  "language_info": {
   "codemirror_mode": {
    "name": "ipython",
    "version": 3
   },
   "file_extension": ".py",
   "mimetype": "text/x-python",
   "name": "python",
   "nbconvert_exporter": "python",
   "pygments_lexer": "ipython3",
   "version": "3.12.0"
  }
 },
 "nbformat": 4,
 "nbformat_minor": 5
}
