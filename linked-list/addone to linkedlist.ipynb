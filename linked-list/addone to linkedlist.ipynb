{
 "cells": [
  {
   "cell_type": "markdown",
   "metadata": {},
   "source": [
    "## Optimal \n",
    "- O(n)\n",
    "- O(n) stack space"
   ]
  },
  {
   "cell_type": "code",
   "execution_count": 4,
   "metadata": {},
   "outputs": [
    {
     "name": "stdout",
     "output_type": "stream",
     "text": [
      "Original List:\n",
      "9 -> 9 -> 9 -> 9 -> None\n",
      "List After Adding One:\n",
      "1 -> 0 -> 0 -> 0 -> 0 -> None\n"
     ]
    }
   ],
   "source": [
    "class Node:\n",
    "    def __init__(self, data):\n",
    "        self.data = data\n",
    "        self.next = None\n",
    "\n",
    "class Solution:\n",
    "    def addOneHelper(self, node):\n",
    "        # Base case: If the node is None, return a carry of 1 (for adding 1 to the list)\n",
    "        if not node:\n",
    "            return 1\n",
    "        \n",
    "        # Recursively call for the next node\n",
    "        carry = self.addOneHelper(node.next)\n",
    "        \n",
    "        # Add the carry to the current node's data\n",
    "        node.data += carry\n",
    "        if node.data < 10:\n",
    "            return 0\n",
    "        node.data = 0\n",
    "        return 1  \n",
    "\n",
    "    def addOne(self, head):\n",
    "        # Add one using the helper function\n",
    "        carry = self.addOneHelper(head)\n",
    "        \n",
    "        # If there's still a carry after processing all nodes, create a new head\n",
    "        if carry:\n",
    "            newNode = Node(1)\n",
    "            newNode.next = head\n",
    "            head = newNode\n",
    "        \n",
    "        return head\n",
    "\n",
    "# Helper function to print the linked list\n",
    "def printList(head):\n",
    "    current = head\n",
    "    while current:\n",
    "        print(current.data, end=\" -> \")\n",
    "        current = current.next\n",
    "    print(\"None\")\n",
    "\n",
    "# Example usage\n",
    "# Create a linked list: 9 -> 9 -> 9 -> 9 (representing 9999)\n",
    "head = Node(9)\n",
    "head.next = Node(9)\n",
    "head.next.next = Node(9)\n",
    "head.next.next.next = Node(9)\n",
    "\n",
    "sol = Solution()\n",
    "print(\"Original List:\")\n",
    "printList(head)\n",
    "\n",
    "head = sol.addOne(head)\n",
    "\n",
    "print(\"List After Adding One:\")\n",
    "printList(head)\n"
   ]
  },
  {
   "cell_type": "markdown",
   "metadata": {},
   "source": [
    "## Brute Force\n",
    "- O(3n)\n",
    "- O(1)"
   ]
  },
  {
   "cell_type": "code",
   "execution_count": 3,
   "metadata": {},
   "outputs": [],
   "source": [
    "def addOne(head):\n",
    "  # Helper function to reverse a linked list\n",
    "  def reversell(head):\n",
    "      if not head or not head.next:\n",
    "          return head\n",
    "      current = head\n",
    "      prev = None \n",
    "      while current:\n",
    "          front = current.next\n",
    "          current.next = prev\n",
    "          prev = current\n",
    "          current = front\n",
    "      return prev\n",
    "  \n",
    "  # Step 1: Reverse the linked list\n",
    "  head = reversell(head)\n",
    "  \n",
    "  # Step 2: Add one to the reversed list\n",
    "  carry = 1\n",
    "  current = head\n",
    "  while current or carry:\n",
    "      current.data += carry\n",
    "      carry = current.data // 10\n",
    "      current.data %= 10\n",
    "      # Move to the next node\n",
    "      if not current.next and carry > 0:\n",
    "          current.next = Node(carry)  # Create a new node if carry remains\n",
    "          carry = 0\n",
    "      current = current.next\n",
    "  \n",
    "  # Step 3: Reverse the list back to its original order\n",
    "  head = reversell(head)\n",
    "  \n",
    "  return head"
   ]
  },
  {
   "cell_type": "code",
   "execution_count": null,
   "metadata": {},
   "outputs": [],
   "source": []
  }
 ],
 "metadata": {
  "kernelspec": {
   "display_name": "Python 3",
   "language": "python",
   "name": "python3"
  },
  "language_info": {
   "codemirror_mode": {
    "name": "ipython",
    "version": 3
   },
   "file_extension": ".py",
   "mimetype": "text/x-python",
   "name": "python",
   "nbconvert_exporter": "python",
   "pygments_lexer": "ipython3",
   "version": "3.12.0"
  }
 },
 "nbformat": 4,
 "nbformat_minor": 2
}
