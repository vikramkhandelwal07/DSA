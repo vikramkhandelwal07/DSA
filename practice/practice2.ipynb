{
 "cells": [
  {
   "cell_type": "markdown",
   "metadata": {},
   "source": [
    "### `Problem 1`: Write a program that will give you in hand monthly salary after deduction on CTC - HRA(10%), DA(5%), PF(3%) and taxes deduction as below:\n",
    "\n",
    "> Salary(Lakhs) : Tax(%)\n",
    "\n",
    "*   Below 5 : 0%\n",
    "*   5-10 : 10%\n",
    "*   10-20 : 20%\n",
    "*   aboove 20 : 30%"
   ]
  },
  {
   "cell_type": "code",
   "execution_count": null,
   "metadata": {},
   "outputs": [],
   "source": [
    "salary = int(input(\"Enter your salary: \"))\n",
    "tax = 0\n",
    "\n",
    "if salary <= 500000:\n",
    "    tax = 0\n",
    "elif salary <= 1000000:\n",
    "    tax = 0.1\n",
    "elif salary <= 2000000:\n",
    "    tax = 0.2\n",
    "else:\n",
    "    tax = 0.3\n",
    "\n",
    "deduction = (0.18 + tax) * salary\n",
    "handSalary = salary - deduction\n",
    "\n",
    "print(\"Salary after deduction is:\", handSalary)\n"
   ]
  },
  {
   "cell_type": "markdown",
   "metadata": {},
   "source": [
    "### `Problem 2`: Write a program that take a user input of three angles and will find out whether it can form a triangle or not."
   ]
  },
  {
   "cell_type": "code",
   "execution_count": null,
   "metadata": {},
   "outputs": [],
   "source": [
    "a = int(input())\n",
    "b = int(input())\n",
    "c = int(input())\n",
    "if (a+b+c==180):\n",
    "  print(\"it can form a triangle\")"
   ]
  },
  {
   "cell_type": "markdown",
   "metadata": {},
   "source": [
    "### `Problem 3`: Write a program that will take user input of cost price and selling price and determines whether its a loss or a profit."
   ]
  },
  {
   "cell_type": "code",
   "execution_count": null,
   "metadata": {},
   "outputs": [],
   "source": [
    "cp = int(input())\n",
    "sp = int(input())\n",
    "\n",
    "if sp == cp :\n",
    "  print(\"Price is equal\")\n",
    "elif (sp > cp):\n",
    "  print(f\"profit of rs {sp - cp}\")\n",
    "else:\n",
    "  print(f\"loss of rs {cp - sp}\")"
   ]
  },
  {
   "cell_type": "markdown",
   "metadata": {},
   "source": [
    "### `Problem 9`: Write a program that keeps on accepting a number from the user until the user enters Zero. Display the sum and average of all the numbers."
   ]
  },
  {
   "cell_type": "code",
   "execution_count": 12,
   "metadata": {},
   "outputs": [
    {
     "name": "stdout",
     "output_type": "stream",
     "text": [
      "Value entered: 2\n",
      "Sum is: 2\n",
      "Average is: 2.0\n",
      "Value entered: 3\n",
      "Sum is: 5\n",
      "Average is: 2.5\n",
      "Value entered: 4\n",
      "Sum is: 9\n",
      "Average is: 3.0\n"
     ]
    }
   ],
   "source": [
    "sum = 0\n",
    "count = 0\n",
    "avg = 0\n",
    "\n",
    "while True:\n",
    "    a = int(input(\"Enter a value (enter 0 to stop): \"))\n",
    "    if a == 0:\n",
    "        break  \n",
    "    sum += a\n",
    "    count += 1\n",
    "    avg = sum / count  \n",
    "    print(\"Value entered:\", a)\n",
    "    print(\"Sum is:\", sum)\n",
    "    print(\"Average is:\", avg)\n"
   ]
  },
  {
   "cell_type": "code",
   "execution_count": 2,
   "metadata": {},
   "outputs": [
    {
     "name": "stdout",
     "output_type": "stream",
     "text": [
      "5\n"
     ]
    }
   ],
   "source": [
    "nums = [1,4,3,2]\n",
    "print(sum(nums[:2]))"
   ]
  },
  {
   "cell_type": "code",
   "execution_count": null,
   "metadata": {},
   "outputs": [],
   "source": []
  }
 ],
 "metadata": {
  "kernelspec": {
   "display_name": "Python 3",
   "language": "python",
   "name": "python3"
  },
  "language_info": {
   "codemirror_mode": {
    "name": "ipython",
    "version": 3
   },
   "file_extension": ".py",
   "mimetype": "text/x-python",
   "name": "python",
   "nbconvert_exporter": "python",
   "pygments_lexer": "ipython3",
   "version": "3.12.0"
  }
 },
 "nbformat": 4,
 "nbformat_minor": 2
}
