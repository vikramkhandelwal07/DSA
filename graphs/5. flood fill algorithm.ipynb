{
 "cells": [
  {
   "cell_type": "markdown",
   "id": "3ca17a53",
   "metadata": {},
   "source": [
    "#### TC - O(n*m)\n",
    "#### SC - O(n*m) + O(n*m) "
   ]
  },
  {
   "cell_type": "code",
   "execution_count": 1,
   "id": "3da52528",
   "metadata": {},
   "outputs": [],
   "source": [
    "from collections import deque\n",
    "from typing import List\n",
    "\n",
    "class Solution:\n",
    "    def floodFill(self, image: List[List[int]], sr: int, sc: int, color: int) -> List[List[int]]:\n",
    "        initial = image[sr][sc]\n",
    "        if initial == color:\n",
    "            return image\n",
    "\n",
    "        directions = [(0,1), (1,0), (0,-1), (-1,0)]\n",
    "        n = len(image)\n",
    "        m = len(image[0])\n",
    "\n",
    "        def BFS(sr,sc):\n",
    "            queue = deque()\n",
    "            queue.append((sr,sc))\n",
    "            image[sr][sc] = color\n",
    "\n",
    "            while queue:\n",
    "                r,c = queue.popleft()\n",
    "                for dr,dc in directions:\n",
    "                    nr, nc = r + dr, c + dc\n",
    "                    if 0 <= nr < n and 0 <= nc < m and image[nr][nc] == initial:\n",
    "                        image[nr][nc] = color\n",
    "                        queue.append((nr, nc))\n",
    "\n",
    "\n",
    "        BFS(sr, sc)\n",
    "        return image\n",
    "\n",
    "\n",
    "\n",
    "\n",
    "        "
   ]
  },
  {
   "cell_type": "code",
   "execution_count": 2,
   "id": "74951cc0",
   "metadata": {},
   "outputs": [
    {
     "name": "stdout",
     "output_type": "stream",
     "text": [
      "[2, 2, 2]\n",
      "[2, 2, 0]\n",
      "[2, 0, 1]\n"
     ]
    }
   ],
   "source": [
    "# Example usage\n",
    "image = [\n",
    "    [1, 1, 1],\n",
    "    [1, 1, 0],\n",
    "    [1, 0, 1]\n",
    "]\n",
    "sr = 1  # starting row\n",
    "sc = 1  # starting column\n",
    "new_color = 2\n",
    "\n",
    "sol = Solution()\n",
    "new_image = sol.floodFill(image, sr, sc, new_color)\n",
    "\n",
    "# Print the result\n",
    "for row in new_image:\n",
    "    print(row)"
   ]
  },
  {
   "cell_type": "code",
   "execution_count": null,
   "id": "e836be12",
   "metadata": {},
   "outputs": [],
   "source": []
  },
  {
   "cell_type": "code",
   "execution_count": null,
   "id": "4c60d2b8",
   "metadata": {},
   "outputs": [],
   "source": []
  }
 ],
 "metadata": {
  "kernelspec": {
   "display_name": "Python 3",
   "language": "python",
   "name": "python3"
  },
  "language_info": {
   "codemirror_mode": {
    "name": "ipython",
    "version": 3
   },
   "file_extension": ".py",
   "mimetype": "text/x-python",
   "name": "python",
   "nbconvert_exporter": "python",
   "pygments_lexer": "ipython3",
   "version": "3.12.0"
  }
 },
 "nbformat": 4,
 "nbformat_minor": 5
}
