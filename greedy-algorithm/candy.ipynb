{
 "cells": [
  {
   "cell_type": "markdown",
   "metadata": {},
   "source": [
    "There are n children standing in a line. Each child is assigned a rating value given in the integer array ratings.\n",
    "\n",
    "You are giving candies to these children subjected to the following requirements:\n",
    "\n",
    "Each child must have at least one candy.\n",
    "Children with a higher rating get more candies than their neighbors.\n",
    "Return the minimum number of candies you need to have to distribute the candies to the children.\n",
    "\n",
    " \n",
    "\n",
    "Example 1:\n",
    "\n",
    "Input: ratings = [1,0,2]\n",
    "Output: 5\n",
    "Explanation: You can allocate to the first, second and third child with 2, 1, 2 candies respectively.\n",
    "Example 2:\n",
    "\n",
    "Input: ratings = [1,2,2]\n",
    "Output: 4\n",
    "Explanation: You can allocate to the first, second and third child with 1, 2, 1 candies respectively.\n",
    "The third child gets 1 candy because it satisfies the above two conditions.\n"
   ]
  },
  {
   "cell_type": "markdown",
   "metadata": {},
   "source": [
    "TC-O(3n)\n",
    "SC-O(2n)"
   ]
  },
  {
   "cell_type": "code",
   "execution_count": 2,
   "metadata": {},
   "outputs": [
    {
     "name": "stdout",
     "output_type": "stream",
     "text": [
      "4\n"
     ]
    }
   ],
   "source": [
    "def candy(ratings):\n",
    "    n = len(ratings)\n",
    "    left = [1] * n  \n",
    "    right = [1] * n  \n",
    "\n",
    "    # Left-to-right pass\n",
    "    for i in range(1, n):\n",
    "        if ratings[i] > ratings[i-1]:\n",
    "            left[i] = left[i-1] + 1\n",
    "\n",
    "    for i in range(n-2, -1, -1):  \n",
    "        if ratings[i] > ratings[i+1]:\n",
    "            right[i] = right[i+1] + 1\n",
    "\n",
    "    total = 0\n",
    "    for i in range(n):\n",
    "        total += max(left[i], right[i])\n",
    "\n",
    "    return total\n",
    "\n",
    "# Test the function\n",
    "ratings = [1, 2, 2]\n",
    "print(candy(ratings))  # Output: 4\n"
   ]
  },
  {
   "cell_type": "markdown",
   "metadata": {},
   "source": [
    "TC-O(2n)\n",
    "SC- O(n)"
   ]
  },
  {
   "cell_type": "code",
   "execution_count": 3,
   "metadata": {},
   "outputs": [
    {
     "name": "stdout",
     "output_type": "stream",
     "text": [
      "4\n"
     ]
    }
   ],
   "source": [
    "def candy(ratings):\n",
    "    n = len(ratings)\n",
    "    left = [1] * n  \n",
    "    right = [1] * n  \n",
    "\n",
    "    # Left-to-right pass\n",
    "    for i in range(1, n):\n",
    "        if ratings[i] > ratings[i-1]:\n",
    "            left[i] = left[i-1] + 1\n",
    "\n",
    "    current = 1 \n",
    "    right = 1\n",
    "    total = 0\n",
    "    for i in range(n-2, -1, -1):  \n",
    "      if ratings[i] > ratings[i+1]:\n",
    "        current = right + 1\n",
    "        right = current\n",
    "      else:\n",
    "        current = 1\n",
    "      total = total +max(left[i], right)\n",
    "      \n",
    "    total = total + max(1,  left[n-1])\n",
    "\n",
    "    # total = 0\n",
    "    # for i in range(n):\n",
    "    #     total += max(left[i], right[i])\n",
    "\n",
    "    return total\n",
    "\n",
    "# Test the function\n",
    "ratings = [1, 2, 2]\n",
    "print(candy(ratings))  # Output: 4\n"
   ]
  },
  {
   "cell_type": "markdown",
   "metadata": {},
   "source": [
    "## slope concept"
   ]
  },
  {
   "cell_type": "code",
   "execution_count": 4,
   "metadata": {},
   "outputs": [
    {
     "ename": "KeyboardInterrupt",
     "evalue": "",
     "output_type": "error",
     "traceback": [
      "\u001b[1;31m---------------------------------------------------------------------------\u001b[0m",
      "\u001b[1;31mKeyboardInterrupt\u001b[0m                         Traceback (most recent call last)",
      "Cell \u001b[1;32mIn[4], line 29\u001b[0m\n\u001b[0;32m     26\u001b[0m   \u001b[38;5;28;01mreturn\u001b[39;00m total\n\u001b[0;32m     28\u001b[0m ratings \u001b[38;5;241m=\u001b[39m [\u001b[38;5;241m1\u001b[39m, \u001b[38;5;241m2\u001b[39m, \u001b[38;5;241m2\u001b[39m]\n\u001b[1;32m---> 29\u001b[0m \u001b[38;5;28mprint\u001b[39m(\u001b[43mcandy\u001b[49m\u001b[43m(\u001b[49m\u001b[43mratings\u001b[49m\u001b[43m)\u001b[49m) \n",
      "Cell \u001b[1;32mIn[4], line 5\u001b[0m, in \u001b[0;36mcandy\u001b[1;34m(ratings)\u001b[0m\n\u001b[0;32m      3\u001b[0m total \u001b[38;5;241m=\u001b[39m \u001b[38;5;241m1\u001b[39m\n\u001b[0;32m      4\u001b[0m i \u001b[38;5;241m=\u001b[39m \u001b[38;5;241m1\u001b[39m\n\u001b[1;32m----> 5\u001b[0m \u001b[38;5;28;01mwhile\u001b[39;00m (i \u001b[38;5;241m<\u001b[39m n):\n\u001b[0;32m      6\u001b[0m   \u001b[38;5;28;01mif\u001b[39;00m ratings[i] \u001b[38;5;241m==\u001b[39m ratings[i\u001b[38;5;241m-\u001b[39m\u001b[38;5;241m1\u001b[39m]:\n\u001b[0;32m      7\u001b[0m     total \u001b[38;5;241m+\u001b[39m\u001b[38;5;241m=\u001b[39m\u001b[38;5;241m1\u001b[39m\n",
      "\u001b[1;31mKeyboardInterrupt\u001b[0m: "
     ]
    }
   ],
   "source": [
    "def candy(ratings):\n",
    "  n = len(ratings)\n",
    "  total = 1\n",
    "  i = 1\n",
    "  while (i < n):\n",
    "    if ratings[i] == ratings[i-1]:\n",
    "      total +=1\n",
    "      i+=1\n",
    "      continue\n",
    "    peak = 1\n",
    "    \n",
    "  while (i < n ) and (ratings[i] > ratings[i-1]):\n",
    "    peak +=1\n",
    "    total +=peak\n",
    "    i+=1\n",
    "    \n",
    "  down = 1\n",
    "  while (i < n and ratings[i] < ratings[i-1]):\n",
    "    total +=down\n",
    "    i+=1\n",
    "    down+=1\n",
    "    \n",
    "    if down > peak:\n",
    "      total += down - peak\n",
    "      \n",
    "  return total\n",
    "    \n",
    "ratings = [1, 2, 2]\n",
    "print(candy(ratings)) "
   ]
  },
  {
   "cell_type": "code",
   "execution_count": 5,
   "metadata": {},
   "outputs": [
    {
     "name": "stdout",
     "output_type": "stream",
     "text": [
      "4\n"
     ]
    }
   ],
   "source": [
    "def candy(ratings):\n",
    "    n = len(ratings)\n",
    "    if n == 0:\n",
    "        return 0\n",
    "\n",
    "    # Initialize candies for each child with 1\n",
    "    candies = [1] * n\n",
    "\n",
    "    # Forward pass: handle increasing sequences\n",
    "    for i in range(1, n):\n",
    "        if ratings[i] > ratings[i - 1]:\n",
    "            candies[i] = candies[i - 1] + 1\n",
    "\n",
    "    # Backward pass: handle decreasing sequences\n",
    "    for i in range(n - 2, -1, -1):\n",
    "        if ratings[i] > ratings[i + 1]:\n",
    "            candies[i] = max(candies[i], candies[i + 1] + 1)\n",
    "\n",
    "    return sum(candies)\n",
    "\n",
    "# Example usage\n",
    "ratings = [1, 2, 2]\n",
    "print(candy(ratings))  # Output: 4\n"
   ]
  },
  {
   "cell_type": "code",
   "execution_count": 6,
   "metadata": {},
   "outputs": [
    {
     "name": "stdout",
     "output_type": "stream",
     "text": [
      "4\n"
     ]
    }
   ],
   "source": [
    "\n",
    "def candy(ratings):\n",
    "  n = len(ratings)\n",
    "  total_candies = n\n",
    "  i = 1\n",
    "\n",
    "  while i < n:\n",
    "    if ratings[i] == ratings[i - 1]:\n",
    "      i += 1\n",
    "      continue\n",
    "\n",
    "    current_peak = 0\n",
    "    while i < n and ratings[i] > ratings[i - 1]:\n",
    "      current_peak += 1\n",
    "      total_candies += current_peak\n",
    "      i += 1\n",
    "        \n",
    "    if i == n:\n",
    "      return total_candies\n",
    "\n",
    "    current_valley = 0\n",
    "    while i < n and ratings[i] < ratings[i - 1]:\n",
    "      current_valley += 1\n",
    "      total_candies += current_valley\n",
    "      i += 1\n",
    "\n",
    "    total_candies -= min(current_peak, current_valley)\n",
    "\n",
    "  return total_candies\n",
    "\n",
    "\n",
    "ratings = [1, 2, 2]\n",
    "print(candy(ratings)) "
   ]
  },
  {
   "cell_type": "code",
   "execution_count": null,
   "metadata": {},
   "outputs": [],
   "source": []
  }
 ],
 "metadata": {
  "kernelspec": {
   "display_name": "Python 3",
   "language": "python",
   "name": "python3"
  },
  "language_info": {
   "codemirror_mode": {
    "name": "ipython",
    "version": 3
   },
   "file_extension": ".py",
   "mimetype": "text/x-python",
   "name": "python",
   "nbconvert_exporter": "python",
   "pygments_lexer": "ipython3",
   "version": "3.12.0"
  }
 },
 "nbformat": 4,
 "nbformat_minor": 2
}
