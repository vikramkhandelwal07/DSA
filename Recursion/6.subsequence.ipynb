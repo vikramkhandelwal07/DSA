{
 "cells": [
  {
   "cell_type": "markdown",
   "metadata": {},
   "source": [
    "## printing all the subsequence\n",
    "- TC - O(2^n x n)\n",
    "- SC - O(n)"
   ]
  },
  {
   "cell_type": "code",
   "execution_count": 1,
   "metadata": {},
   "outputs": [
    {
     "name": "stdout",
     "output_type": "stream",
     "text": [
      "[3, 1, 2]\n",
      "[3, 1]\n",
      "[3, 2]\n",
      "[3]\n",
      "[1, 2]\n",
      "[1]\n",
      "[2]\n",
      "[]\n"
     ]
    }
   ],
   "source": [
    "def subseq(index,arr,nums):\n",
    "  if index >= len(nums):\n",
    "        print(arr)\n",
    "        return\n",
    "\n",
    "  arr.append(nums[index])\n",
    "  subseq(index+1, arr,nums)\n",
    "\n",
    "  arr.pop()\n",
    "  subseq(index+1, arr,nums)\n",
    "\n",
    "nums = [3,1,2]\n",
    "index=0\n",
    "subseq(index, [ ] ,nums)"
   ]
  },
  {
   "cell_type": "markdown",
   "metadata": {},
   "source": []
  },
  {
   "cell_type": "code",
   "execution_count": 2,
   "metadata": {},
   "outputs": [
    {
     "name": "stdout",
     "output_type": "stream",
     "text": [
      "[3, 1, 2]\n",
      "[3, 1]\n",
      "[3, 2]\n",
      "[3]\n",
      "[1, 2]\n",
      "[1]\n",
      "[2]\n",
      "[]\n"
     ]
    }
   ],
   "source": [
    "def subseq(index, arr, nums):\n",
    "    \"\"\"\n",
    "    Function to generate all subsequences of a given list using recursion.\n",
    "\n",
    "    Args:\n",
    "    - index (int): The current index in the list `nums` being processed.\n",
    "    - arr (list): The current subsequence being formed.\n",
    "    - nums (list): The input list for which subsequences are to be generated.\n",
    "\n",
    "    Returns:\n",
    "    - None: Prints all possible subsequences of the input list.\n",
    "    \"\"\"\n",
    "    # Base case: if we've processed all elements in the input list\n",
    "    if index == len(nums):\n",
    "        print(arr)  # Print the current subsequence\n",
    "        return\n",
    "\n",
    "    # Include the current element in the subsequence\n",
    "    arr.append(nums[index])  # Add the current element to the subsequence\n",
    "    subseq(index + 1, arr, nums)  # Recurse to the next element\n",
    "\n",
    "    # Backtrack: Exclude the current element from the subsequence\n",
    "    arr.pop()  # Remove the last added element to backtrack\n",
    "    subseq(index + 1, arr, nums)  # Recurse to the next element without including it\n",
    "\n",
    "\n",
    "\n",
    "\n",
    "nums = [3, 1, 2]\n",
    "subseq(0, [], nums)\n"
   ]
  },
  {
   "cell_type": "code",
   "execution_count": 4,
   "metadata": {},
   "outputs": [
    {
     "name": "stdout",
     "output_type": "stream",
     "text": [
      "[3, 1, 2]\n",
      "[3, 1]\n",
      "[3, 2]\n",
      "[3]\n",
      "[1, 2]\n",
      "[1]\n",
      "[2]\n",
      "[]\n"
     ]
    }
   ],
   "source": [
    "def subseq(nums):\n",
    "  def helper(index, arr):\n",
    "    if index == len(nums):\n",
    "      print(arr)\n",
    "      return\n",
    "    arr.append(nums[index])\n",
    "    helper(index + 1, arr)\n",
    "    arr.pop()\n",
    "    helper(index + 1, arr)\n",
    "\n",
    "  helper(0, [])\n",
    "\n",
    "nums = [3, 1, 2]\n",
    "subseq(nums)\n"
   ]
  },
  {
   "cell_type": "code",
   "execution_count": null,
   "metadata": {},
   "outputs": [],
   "source": []
  }
 ],
 "metadata": {
  "kernelspec": {
   "display_name": "Python 3",
   "language": "python",
   "name": "python3"
  },
  "language_info": {
   "codemirror_mode": {
    "name": "ipython",
    "version": 3
   },
   "file_extension": ".py",
   "mimetype": "text/x-python",
   "name": "python",
   "nbconvert_exporter": "python",
   "pygments_lexer": "ipython3",
   "version": "3.12.0"
  }
 },
 "nbformat": 4,
 "nbformat_minor": 2
}
