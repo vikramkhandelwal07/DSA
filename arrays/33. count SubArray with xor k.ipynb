{
 "cells": [
  {
   "cell_type": "markdown",
   "id": "4f192284",
   "metadata": {},
   "source": [
    "x = XR^k"
   ]
  },
  {
   "cell_type": "code",
   "execution_count": 8,
   "id": "2d5a1b66",
   "metadata": {},
   "outputs": [
    {
     "name": "stdout",
     "output_type": "stream",
     "text": [
      "4\n"
     ]
    }
   ],
   "source": [
    "def xorSubArray(nums, k):\n",
    "    n = len(nums)\n",
    "    cnt = 0\n",
    "    for i in range(n):\n",
    "        xor1 = 0\n",
    "        for j in range(i, n):\n",
    "            xor1 ^= nums[j]  \n",
    "            if xor1 == k:\n",
    "                cnt += 1\n",
    "    return cnt\n",
    "\n",
    "nums = [4, 2, 2, 4, 6]\n",
    "print(xorSubArray(nums, k=6))\n"
   ]
  },
  {
   "cell_type": "code",
   "execution_count": 1,
   "id": "8154c5ef",
   "metadata": {},
   "outputs": [
    {
     "name": "stdout",
     "output_type": "stream",
     "text": [
      "4\n"
     ]
    }
   ],
   "source": [
    "def xorSubArray(nums,k):\n",
    "    n = len(nums)\n",
    "    cnt = 0\n",
    "    hashMap = {0:1}\n",
    "    xr= 0\n",
    "    for i in range(n):\n",
    "        xr = xr ^ nums[i]\n",
    "        x = xr^k\n",
    "        cnt+=hashMap.get(x,0)\n",
    "        hashMap[xr] = hashMap.get(xr,0) + 1\n",
    "    return cnt\n",
    "nums = [4, 2, 2, 4, 6]\n",
    "print(xorSubArray(nums, k=6))"
   ]
  },
  {
   "cell_type": "code",
   "execution_count": null,
   "id": "c78dd269",
   "metadata": {},
   "outputs": [],
   "source": []
  }
 ],
 "metadata": {
  "kernelspec": {
   "display_name": "Python 3",
   "language": "python",
   "name": "python3"
  },
  "language_info": {
   "codemirror_mode": {
    "name": "ipython",
    "version": 3
   },
   "file_extension": ".py",
   "mimetype": "text/x-python",
   "name": "python",
   "nbconvert_exporter": "python",
   "pygments_lexer": "ipython3",
   "version": "3.12.0"
  }
 },
 "nbformat": 4,
 "nbformat_minor": 5
}
