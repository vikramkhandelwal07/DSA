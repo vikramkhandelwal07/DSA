{
 "cells": [
  {
   "cell_type": "markdown",
   "metadata": {},
   "source": [
    "## Print name n times\n",
    "TC - O(n),\n",
    "SC - O(n) sc is stack space"
   ]
  },
  {
   "cell_type": "code",
   "execution_count": 1,
   "metadata": {},
   "outputs": [
    {
     "name": "stdout",
     "output_type": "stream",
     "text": [
      "vikram\n",
      "vikram\n",
      "vikram\n",
      "vikram\n",
      "vikram\n"
     ]
    }
   ],
   "source": [
    "def printName(i,n):\n",
    "  if i > n:\n",
    "    return \n",
    "  print(\"vikram\")\n",
    "  printName(i+1,n)\n",
    "  \n",
    "printName(1,5)"
   ]
  },
  {
   "cell_type": "markdown",
   "metadata": {},
   "source": [
    "## print linearly from 1 to n"
   ]
  },
  {
   "cell_type": "code",
   "execution_count": 1,
   "metadata": {},
   "outputs": [
    {
     "name": "stdout",
     "output_type": "stream",
     "text": [
      "1\n",
      "2\n",
      "3\n",
      "4\n",
      "5\n"
     ]
    }
   ],
   "source": [
    "def printNumbers(i,n):\n",
    "  if i > n:\n",
    "    return \n",
    "  print(i)\n",
    "  printNumbers(i+1,n)\n",
    "  \n",
    "printNumbers(1,5)"
   ]
  },
  {
   "cell_type": "markdown",
   "metadata": {},
   "source": [
    "## Print N - 1"
   ]
  },
  {
   "cell_type": "code",
   "execution_count": 2,
   "metadata": {},
   "outputs": [
    {
     "name": "stdout",
     "output_type": "stream",
     "text": [
      "5\n",
      "4\n",
      "3\n",
      "2\n",
      "1\n"
     ]
    }
   ],
   "source": [
    "def PrintNumbersInReverse(n,i=1):\n",
    "  if n < i:\n",
    "    return \n",
    "  print(n)\n",
    "  PrintNumbersInReverse(n-1,1)\n",
    "  \n",
    "PrintNumbersInReverse(5,1)"
   ]
  },
  {
   "cell_type": "markdown",
   "metadata": {},
   "source": [
    "#### little bit of backtracking"
   ]
  },
  {
   "cell_type": "code",
   "execution_count": 3,
   "metadata": {},
   "outputs": [
    {
     "name": "stdout",
     "output_type": "stream",
     "text": [
      "1\n",
      "2\n",
      "3\n",
      "4\n",
      "5\n"
     ]
    }
   ],
   "source": [
    "def f(i,n):\n",
    "  if i < 1:\n",
    "    return\n",
    "  f(i-1,n)\n",
    "  print(i)\n",
    "\n",
    "f(5,5)\n",
    "# isme u maked sure that last guy is executed at the first by keeping it after the function call so it is called as backtracking\n"
   ]
  },
  {
   "cell_type": "code",
   "execution_count": 4,
   "metadata": {},
   "outputs": [
    {
     "name": "stdout",
     "output_type": "stream",
     "text": [
      "5\n",
      "4\n",
      "3\n",
      "2\n",
      "1\n"
     ]
    }
   ],
   "source": [
    "def backtrack(i, n):\n",
    "    if i > n:\n",
    "        return\n",
    "    backtrack(i+1, n)\n",
    "    print(i)\n",
    "\n",
    "backtrack(1, 5)"
   ]
  },
  {
   "cell_type": "code",
   "execution_count": null,
   "metadata": {},
   "outputs": [],
   "source": []
  }
 ],
 "metadata": {
  "kernelspec": {
   "display_name": "Python 3",
   "language": "python",
   "name": "python3"
  },
  "language_info": {
   "codemirror_mode": {
    "name": "ipython",
    "version": 3
   },
   "file_extension": ".py",
   "mimetype": "text/x-python",
   "name": "python",
   "nbconvert_exporter": "python",
   "pygments_lexer": "ipython3",
   "version": "3.12.0"
  }
 },
 "nbformat": 4,
 "nbformat_minor": 2
}
