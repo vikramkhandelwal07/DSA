{
 "cells": [
  {
   "cell_type": "markdown",
   "metadata": {},
   "source": [
    "## Brute Force\n",
    "- TC - O(n^2)\n",
    "- SC - O(N) for returning the answer"
   ]
  },
  {
   "cell_type": "code",
   "execution_count": 19,
   "metadata": {},
   "outputs": [
    {
     "name": "stdout",
     "output_type": "stream",
     "text": [
      "[2, -1, 2]\n",
      "[8, -1, 8, 2, 3]\n",
      "[10, 12, -1, 11, 12]\n"
     ]
    }
   ],
   "source": [
    "def nextGreaterElement(nums):\n",
    "    n = len(nums)\n",
    "    nge = [-1] * n \n",
    "\n",
    "    for i in range(n):  \n",
    "        for j in range(i + 1, i + n):  \n",
    "            ind = j % n  \n",
    "            if nums[ind] > nums[i]:  \n",
    "                nge[i] = nums[ind]\n",
    "                break  \n",
    "\n",
    "    return nge\n",
    "\n",
    "print(nextGreaterElement([1, 2, 1]))  # Output: [2, -1, 2]\n",
    "print(nextGreaterElement([3, 8, 4, 1, 2]))  # Output: [8, -1, 8, 2, 3]\n",
    "print(nextGreaterElement([2,10,12,1,11])) # output: [10,12,-1,11,12]\n"
   ]
  },
  {
   "cell_type": "markdown",
   "metadata": {},
   "source": [
    "## Optimised code"
   ]
  },
  {
   "cell_type": "code",
   "execution_count": 23,
   "metadata": {},
   "outputs": [
    {
     "name": "stdout",
     "output_type": "stream",
     "text": [
      "[2, -1, 2]\n",
      "[8, -1, 8, 2, 3]\n",
      "[10, 12, -1, 11, 12]\n"
     ]
    }
   ],
   "source": [
    "def nextGreaterElements(nums):\n",
    "    n = len(nums)\n",
    "    nge = [-1] * n  \n",
    "    stack = []  # Stack to store indices\n",
    "\n",
    "    for i in range(2 * n):  # Traverse twice to simulate circular behavior\n",
    "        while stack and nums[stack[-1]] < nums[i % n]:  \n",
    "            nge[stack.pop()] = nums[i % n]  \n",
    "        if i < n:  # Store index only for the first pass\n",
    "            stack.append(i % n)\n",
    "    \n",
    "    return nge\n",
    "\n",
    "# Test Cases\n",
    "print(nextGreaterElements([1, 2, 1]))  # Output: [2, -1, 2]\n",
    "print(nextGreaterElements([3, 8, 4, 1, 2]))  # Output: [8, -1, 8, 2, 3]\n",
    "print(nextGreaterElements([2, 10, 12, 1, 11]))  # Output: [10, 12, -1, 11, 12]\n"
   ]
  },
  {
   "cell_type": "code",
   "execution_count": null,
   "metadata": {},
   "outputs": [],
   "source": []
  },
  {
   "cell_type": "code",
   "execution_count": null,
   "metadata": {},
   "outputs": [],
   "source": []
  }
 ],
 "metadata": {
  "kernelspec": {
   "display_name": "Python 3",
   "language": "python",
   "name": "python3"
  },
  "language_info": {
   "codemirror_mode": {
    "name": "ipython",
    "version": 3
   },
   "file_extension": ".py",
   "mimetype": "text/x-python",
   "name": "python",
   "nbconvert_exporter": "python",
   "pygments_lexer": "ipython3",
   "version": "3.12.0"
  }
 },
 "nbformat": 4,
 "nbformat_minor": 2
}
