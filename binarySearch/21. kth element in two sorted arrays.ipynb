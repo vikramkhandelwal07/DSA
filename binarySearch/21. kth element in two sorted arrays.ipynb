{
 "cells": [
  {
   "cell_type": "code",
   "execution_count": null,
   "metadata": {},
   "outputs": [],
   "source": [
    "def kthElement(a, b, m, n, k):\n",
    "    if m > n:\n",
    "        return kthElement(b, a, n, m, k)\n",
    "\n",
    "    left = k  # length of left half\n",
    "\n",
    "    # apply binary search:\n",
    "    low = max(0, k - n)\n",
    "    high = min(k, m)\n",
    "    while low <= high:\n",
    "        \n",
    "        mid1 = (low + high) // 2\n",
    "        mid2 = left - mid1\n",
    "        # calculate l1, l2, r1, and r2\n",
    "        l1 = float('-inf')\n",
    "        l2 = float('-inf')\n",
    "        r1 = float('inf')\n",
    "        r2 = float('inf')\n",
    "        if mid1 < m:\n",
    "            r1 = a[mid1]\n",
    "        if mid2 < n:\n",
    "            r2 = b[mid2]\n",
    "        if mid1 - 1 >= 0:\n",
    "            l1 = a[mid1 - 1]\n",
    "        if mid2 - 1 >= 0:\n",
    "            l2 = b[mid2 - 1]\n",
    "\n",
    "        if l1 <= r2 and l2 <= r1:\n",
    "            return max(l1, l2)\n",
    "\n",
    "        # eliminate the halves:\n",
    "        elif l1 > r2:\n",
    "            high = mid1 - 1\n",
    "        else:\n",
    "            low = mid1 + 1\n",
    "\n",
    "    return 0  # dummy statement\n",
    "            \n",
    "            \n",
    "a = [2, 3, 6, 7, 9]\n",
    "b = [1, 4, 8, 10]\n",
    "print(\"The k-th element of two sorted arrays is:\", kthElement(a, b, len(a), len(b), 5))"
   ]
  },
  {
   "cell_type": "markdown",
   "metadata": {},
   "source": []
  }
 ],
 "metadata": {
  "kernelspec": {
   "display_name": "Python 3",
   "language": "python",
   "name": "python3"
  },
  "language_info": {
   "name": "python",
   "version": "3.12.0"
  }
 },
 "nbformat": 4,
 "nbformat_minor": 2
}
