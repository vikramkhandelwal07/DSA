{
 "cells": [
  {
   "cell_type": "markdown",
   "metadata": {},
   "source": [
    "# left rotate the array by one place"
   ]
  },
  {
   "cell_type": "code",
   "execution_count": 2,
   "metadata": {},
   "outputs": [
    {
     "name": "stdout",
     "output_type": "stream",
     "text": [
      "[2, 3, 4, 5, 1]\n"
     ]
    }
   ],
   "source": [
    "def rotateArray(arr):\n",
    "    temp = arr[0]\n",
    "    for i in range(1,len(arr)):\n",
    "        arr[i-1] =  arr[i]\n",
    "        \n",
    "    arr[len(arr)-1] = temp\n",
    "    \n",
    "    return arr\n",
    "\n",
    "arr = [1,2,3,4,5]\n",
    "result = rotateArray(arr)\n",
    "print(result)\n",
    "\n"
   ]
  },
  {
   "cell_type": "code",
   "execution_count": null,
   "metadata": {},
   "outputs": [],
   "source": []
  }
 ],
 "metadata": {
  "kernelspec": {
   "display_name": "Python 3",
   "language": "python",
   "name": "python3"
  },
  "language_info": {
   "codemirror_mode": {
    "name": "ipython",
    "version": 3
   },
   "file_extension": ".py",
   "mimetype": "text/x-python",
   "name": "python",
   "nbconvert_exporter": "python",
   "pygments_lexer": "ipython3",
   "version": "3.12.0"
  }
 },
 "nbformat": 4,
 "nbformat_minor": 2
}
