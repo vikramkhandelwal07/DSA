{
 "cells": [
  {
   "cell_type": "code",
   "execution_count": 2,
   "metadata": {},
   "outputs": [
    {
     "name": "stdout",
     "output_type": "stream",
     "text": [
      "Doubly Linked List  Initially:\n",
      "1 <-> 2 <-> 3 <-> 4 <-> 5 <-> 6 <-> 7\n",
      "1 <-> 3 <-> 5 <-> 7 <-> 2 <-> 4 <-> 6\n"
     ]
    }
   ],
   "source": [
    "class Node:\n",
    "    def __init__(self, value):\n",
    "        self.value = value\n",
    "        self.next = None\n",
    "        self.prev = None\n",
    "\n",
    "\n",
    "def arrayToLinkedList(nums):\n",
    "    if not nums:\n",
    "        return None\n",
    "    \n",
    "    head = Node(nums[0])\n",
    "    current = head\n",
    "    for number in nums[1:]:\n",
    "        new_node = Node(number)\n",
    "        current.next = new_node\n",
    "        new_node.prev = current\n",
    "        current = new_node\n",
    "    return head\n",
    "\n",
    "\n",
    "def print_list(head):\n",
    "    current = head\n",
    "    while current:\n",
    "        print(f\"{current.value}\", end=\" <-> \" if current.next else \"\")\n",
    "        current = current.next\n",
    "    print()\n",
    "\n",
    "def oddEvenList(head):\n",
    "  if not head or not head.next:  \n",
    "      return head\n",
    "  \n",
    "  arr = []  \n",
    "  current = head\n",
    "\n",
    "  while current and current.next:  \n",
    "      arr.append(current.value)\n",
    "      current = current.next.next\n",
    "\n",
    "  if current:  \n",
    "      arr.append(current.value)\n",
    "\n",
    "  current = head.next  \n",
    "  while current and current.next:\n",
    "      arr.append(current.value)\n",
    "      current = current.next.next\n",
    "\n",
    "  if current:  \n",
    "      arr.append(current.value)\n",
    "\n",
    "  current = head\n",
    "  for value in arr:\n",
    "      current.value = value\n",
    "      current = current.next\n",
    "\n",
    "  return head\n",
    "\n",
    "\n",
    "\n",
    "\n",
    "arr1 = [1,2,3,4,5,6,7]  \n",
    "head1 = arrayToLinkedList(arr1)\n",
    "print(\"Doubly Linked List  Initially:\")\n",
    "print_list(head1)\n",
    "\n",
    "output = oddEvenList(head1)\n",
    "\n",
    "print_list(output)\n",
    "\n",
    "\n",
    "\n"
   ]
  },
  {
   "cell_type": "code",
   "execution_count": null,
   "metadata": {},
   "outputs": [],
   "source": []
  }
 ],
 "metadata": {
  "kernelspec": {
   "display_name": "Python 3",
   "language": "python",
   "name": "python3"
  },
  "language_info": {
   "codemirror_mode": {
    "name": "ipython",
    "version": 3
   },
   "file_extension": ".py",
   "mimetype": "text/x-python",
   "name": "python",
   "nbconvert_exporter": "python",
   "pygments_lexer": "ipython3",
   "version": "3.12.0"
  }
 },
 "nbformat": 4,
 "nbformat_minor": 2
}
