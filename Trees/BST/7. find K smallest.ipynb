{
 "cells": [
  {
   "cell_type": "code",
   "execution_count": null,
   "id": "60de3b4b",
   "metadata": {},
   "outputs": [],
   "source": [
    "def kSmallest(root,k):\n",
    "    count = 0\n",
    "    curr = root\n",
    "    \n",
    "    while curr:\n",
    "        if not curr.left:\n",
    "            count+=1\n",
    "            if count == k:\n",
    "                return curr.val\n",
    "            curr = curr.right\n",
    "        else:\n",
    "            # Find inorder predecessor\n",
    "            pred = curr.left\n",
    "            while pred.right and pred.right != curr:\n",
    "                pred = pred.right\n",
    "            \n",
    "            if not pred.right:\n",
    "                pred.right = curr\n",
    "                curr = curr.left\n",
    "            else:\n",
    "                pred.right = None\n",
    "                count += 1\n",
    "                if count == k:\n",
    "                    return curr.val\n",
    "                curr = curr.right\n",
    "                \n",
    "    return None "
   ]
  }
 ],
 "metadata": {
  "language_info": {
   "name": "python"
  }
 },
 "nbformat": 4,
 "nbformat_minor": 5
}
