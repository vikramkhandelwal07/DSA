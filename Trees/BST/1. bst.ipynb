{
 "cells": [
  {
   "cell_type": "markdown",
   "metadata": {},
   "source": []
  },
  {
   "cell_type": "code",
   "execution_count": null,
   "metadata": {},
   "outputs": [],
   "source": [
    "class BST:\n",
    "  def __init__(self,value):\n",
    "    self.value = value\n",
    "    self.left = None\n",
    "    self.right = None\n",
    "  \n",
    "  def insert(self, value):\n",
    "    if value < self.value:\n",
    "      if self.left is None:\n",
    "        self.left = BST(value)\n",
    "      else:\n",
    "        self.left.insert(value)\n",
    "    else:\n",
    "      if self.right is None:\n",
    "        self.right = BST(value)\n",
    "      else:\n",
    "        self.right.insert(value)\n",
    "        \n",
    "  def inorder(self):\n",
    "    if self.left:\n",
    "      self.left.inorder()\n",
    "    print(self.value, end=\" \")\n",
    "    if self.right:\n",
    "      self.right.inorder()\n",
    "\n",
    "\n",
    "\n"
   ]
  },
  {
   "cell_type": "code",
   "execution_count": 9,
   "metadata": {},
   "outputs": [
    {
     "name": "stdout",
     "output_type": "stream",
     "text": [
      "2 5 7 10 12 15 18 "
     ]
    }
   ],
   "source": [
    "def BSTfromArray(arr):\n",
    "  if not arr:\n",
    "    return None\n",
    "  root = BST(arr[0])\n",
    "  for val in arr[1:]:\n",
    "    root.insert(val)\n",
    "  return root\n",
    "\n",
    "\n",
    "arr = [10, 5, 15, 2, 7, 12, 18]\n",
    "bst_root = BSTfromArray(arr)\n",
    "\n",
    "# Inorder traversal (should print sorted order)\n",
    "bst_root.inorder()"
   ]
  },
  {
   "cell_type": "markdown",
   "metadata": {},
   "source": [
    "## Search in BST \n",
    "- TC - `O(H)`"
   ]
  },
  {
   "cell_type": "code",
   "execution_count": 12,
   "metadata": {},
   "outputs": [
    {
     "data": {
      "text/plain": [
       "False"
      ]
     },
     "execution_count": 12,
     "metadata": {},
     "output_type": "execute_result"
    }
   ],
   "source": [
    "def search(root, key):\n",
    "  if not root:\n",
    "    return False\n",
    "  if root.value == key:\n",
    "    return True\n",
    "  if root.value > key:\n",
    "    return search(root.left,key)\n",
    "  else:\n",
    "    return search(root.right,key)\n",
    "  \n",
    "search(bst_root,11)  "
   ]
  },
  {
   "cell_type": "code",
   "execution_count": null,
   "metadata": {},
   "outputs": [],
   "source": [
    "\n"
   ]
  },
  {
   "cell_type": "code",
   "execution_count": null,
   "metadata": {},
   "outputs": [],
   "source": []
  }
 ],
 "metadata": {
  "kernelspec": {
   "display_name": "Python 3",
   "language": "python",
   "name": "python3"
  },
  "language_info": {
   "codemirror_mode": {
    "name": "ipython",
    "version": 3
   },
   "file_extension": ".py",
   "mimetype": "text/x-python",
   "name": "python",
   "nbconvert_exporter": "python",
   "pygments_lexer": "ipython3",
   "version": "3.12.0"
  }
 },
 "nbformat": 4,
 "nbformat_minor": 2
}
