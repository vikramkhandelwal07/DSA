{
 "cells": [
  {
   "cell_type": "markdown",
   "metadata": {},
   "source": [
    "## 131 Palindrome Partitioning"
   ]
  },
  {
   "cell_type": "markdown",
   "metadata": {},
   "source": [
    "- TC (O( (2^n) *k*(n/2) ))\n",
    "- SC (k*x)"
   ]
  },
  {
   "cell_type": "code",
   "execution_count": null,
   "metadata": {},
   "outputs": [],
   "source": [
    "from typing import List\n",
    "class Solution:\n",
    "  def partition(self, s: str) -> List[List[str]]:\n",
    "    res = []\n",
    "    path = []\n",
    "\n",
    "    def partionerHelper(index):\n",
    "      if index == len(s):\n",
    "        res.append(path[:])\n",
    "        return\n",
    "      for i in range(index ,len(s)):\n",
    "        if isPalindrome(s, index, i):\n",
    "          path.append(s[index:i + 1])\n",
    "          partionerHelper(i + 1)\n",
    "          path.pop()\n",
    "\n",
    "    def isPalindrome(s: str, start: int, end: int) -> bool:\n",
    "      while start <= end:\n",
    "        if s[start] != s[end]:\n",
    "          return False\n",
    "        start += 1\n",
    "        end -= 1\n",
    "      return True\n",
    "\n",
    "    partionerHelper(0)\n",
    "    return res "
   ]
  },
  {
   "cell_type": "code",
   "execution_count": 3,
   "metadata": {},
   "outputs": [
    {
     "name": "stdout",
     "output_type": "stream",
     "text": [
      "The Palindromic partitions are :-\n",
      " [ [ a a b b ] [ a a bb ] [ aa b b ] [ aa bb ] ]\n"
     ]
    }
   ],
   "source": [
    "if __name__ == \"__main__\":\n",
    "    s = \"aabb\"\n",
    "    obj = Solution()\n",
    "    ans = obj.partition(s)\n",
    "    print(\"The Palindromic partitions are :-\")\n",
    "    print(\" [ \", end=\"\")\n",
    "    for i in ans:\n",
    "        print(\"[ \", end=\"\")\n",
    "        for j in i:\n",
    "            print(j, end=\" \")\n",
    "        print(\"] \", end=\"\")\n",
    "    print(\"]\")\n"
   ]
  },
  {
   "cell_type": "code",
   "execution_count": null,
   "metadata": {},
   "outputs": [],
   "source": []
  }
 ],
 "metadata": {
  "kernelspec": {
   "display_name": "Python 3",
   "language": "python",
   "name": "python3"
  },
  "language_info": {
   "codemirror_mode": {
    "name": "ipython",
    "version": 3
   },
   "file_extension": ".py",
   "mimetype": "text/x-python",
   "name": "python",
   "nbconvert_exporter": "python",
   "pygments_lexer": "ipython3",
   "version": "3.12.0"
  }
 },
 "nbformat": 4,
 "nbformat_minor": 2
}
