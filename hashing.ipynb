{
 "cells": [
  {
   "cell_type": "markdown",
   "metadata": {},
   "source": [
    "## `Hashing`:"
   ]
  },
  {
   "cell_type": "markdown",
   "metadata": {},
   "source": [
    "- pre storing and fetching\n"
   ]
  },
  {
   "cell_type": "code",
   "execution_count": 1,
   "metadata": {},
   "outputs": [
    {
     "name": "stdout",
     "output_type": "stream",
     "text": [
      "Frequency of 1: 1\n",
      "Frequency of 2: 1\n",
      "Program completed.\n"
     ]
    }
   ],
   "source": [
    "def get_integer_input(prompt):\n",
    "    return int(input(prompt))\n",
    "\n",
    "def get_list_input(prompt, size):\n",
    "    return [int(num) for num in input(prompt).split()]\n",
    "\n",
    "n = get_integer_input(\"Enter the size of the array: \")\n",
    "arr = get_list_input(f\"Enter {n} integers separated by spaces: \", n)\n",
    "\n",
    "hash_map = [0] * 13\n",
    "for num in arr:\n",
    "    if 0 <= num <= 12:\n",
    "        hash_map[num] += 1\n",
    "\n",
    "q = get_integer_input(\"Enter the number of queries: \")\n",
    "\n",
    "for i in range(q):\n",
    "    number = get_integer_input(f\"Query {i+1}: Enter a number to check its frequency: \")\n",
    "    if 0 <= number <= 12:\n",
    "        print(f\"Frequency of {number}: {hash_map[number]}\")\n",
    "    else:\n",
    "        print(f\"Frequency of {number}: 0\")\n",
    "\n",
    "print(\"Program completed.\")\n"
   ]
  },
  {
   "cell_type": "code",
   "execution_count": 17,
   "metadata": {},
   "outputs": [
    {
     "name": "stdout",
     "output_type": "stream",
     "text": [
      "abahcvdsjhvsdjcvsdjccsc\n",
      "Queries: ['a', 'c', 'm']\n",
      "Character frequencies: [2, 1, 5, 3, 0, 0, 0, 2, 0, 3, 0, 0, 0, 0, 0, 0, 0, 0, 4, 0, 0, 3, 0, 0, 0, 0]\n",
      "Frequency of 'a': 2\n",
      "Frequency of 'c': 5\n",
      "Frequency of 'm': 0\n"
     ]
    }
   ],
   "source": [
    "s = input(\"Enter the string: \").lower()\n",
    "print(s)\n",
    "\n",
    "hash_map = [0] * 26\n",
    "\n",
    "for ch in s:\n",
    "    if 'a' <= ch <= 'z':  \n",
    "        index = ord(ch) - ord('a')\n",
    "        hash_map[index] += 1\n",
    "\n",
    "n = int(input(\"Enter the number of queries: \"))\n",
    "array_of_queries = []\n",
    "\n",
    "for i in range(n):\n",
    "    query = input(f\"Enter query {i + 1}: \").lower()\n",
    "    array_of_queries.append(query)\n",
    "\n",
    "print(\"Queries:\", array_of_queries)\n",
    "print(\"Character frequencies:\", hash_map)\n",
    "\n",
    "for query in array_of_queries:\n",
    "    if len(query) == 1 and 'a' <= query <= 'z': \n",
    "        index = ord(query) - ord('a')\n",
    "        print(f\"Frequency of '{query}': {hash_map[index]}\")\n",
    "    else:\n",
    "        print(f\"Invalid query '{query}'. Please enter a single lowercase letter.\")\n"
   ]
  },
  {
   "cell_type": "code",
   "execution_count": null,
   "metadata": {},
   "outputs": [],
   "source": []
  }
 ],
 "metadata": {
  "kernelspec": {
   "display_name": "Python 3",
   "language": "python",
   "name": "python3"
  },
  "language_info": {
   "codemirror_mode": {
    "name": "ipython",
    "version": 3
   },
   "file_extension": ".py",
   "mimetype": "text/x-python",
   "name": "python",
   "nbconvert_exporter": "python",
   "pygments_lexer": "ipython3",
   "version": "3.12.0"
  }
 },
 "nbformat": 4,
 "nbformat_minor": 2
}
