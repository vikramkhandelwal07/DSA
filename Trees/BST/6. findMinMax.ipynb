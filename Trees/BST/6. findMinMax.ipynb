{
 "cells": [
  {
   "cell_type": "code",
   "execution_count": 1,
   "id": "d3fadc26",
   "metadata": {},
   "outputs": [],
   "source": [
    "class Solution:\n",
    "    def findMin(self, root):\n",
    "        if not root:\n",
    "            return None\n",
    "        while root.left:\n",
    "            root = root.left\n",
    "        return root.val\n",
    "\n",
    "    def findMax(self, root):\n",
    "        if not root:\n",
    "            return None\n",
    "        while root.right:\n",
    "            root = root.right\n",
    "        return root.val\n"
   ]
  },
  {
   "cell_type": "code",
   "execution_count": null,
   "id": "fa3ef568",
   "metadata": {},
   "outputs": [],
   "source": []
  }
 ],
 "metadata": {
  "kernelspec": {
   "display_name": "Python 3",
   "language": "python",
   "name": "python3"
  },
  "language_info": {
   "codemirror_mode": {
    "name": "ipython",
    "version": 3
   },
   "file_extension": ".py",
   "mimetype": "text/x-python",
   "name": "python",
   "nbconvert_exporter": "python",
   "pygments_lexer": "ipython3",
   "version": "3.12.0"
  }
 },
 "nbformat": 4,
 "nbformat_minor": 5
}
