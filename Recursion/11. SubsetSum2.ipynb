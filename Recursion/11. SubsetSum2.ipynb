{
 "cells": [
  {
   "cell_type": "code",
   "execution_count": 2,
   "metadata": {},
   "outputs": [
    {
     "name": "stdout",
     "output_type": "stream",
     "text": [
      "The unique subsets are \n",
      "[ [ 1 2 ][ 2 ][ 1 ][ 1 2 2 ][ 2 2 ][ ]]"
     ]
    }
   ],
   "source": [
    "from typing import List\n",
    "class Solution:\n",
    "    def subsetsWithDup(self, nums: List[int]) -> List[List[int]]:\n",
    "        ans = []\n",
    "        res = set()\n",
    "        def fun(index: int, ds: List[int]):\n",
    "            if index == len(nums):\n",
    "                ds.sort()\n",
    "                res.add(tuple(ds))\n",
    "                return\n",
    "            ds.append(nums[index])\n",
    "            fun(index + 1, ds)\n",
    "            ds.pop()\n",
    "            fun(index + 1, ds)\n",
    "        fun(0, [])\n",
    "        for it in res:\n",
    "            ans.append(list(it))\n",
    "        return ans\n",
    "\n",
    "\n",
    "\n",
    "\n",
    "if __name__ == \"__main__\":\n",
    "    nums = [1, 2, 2]\n",
    "    obj = Solution()\n",
    "    ans = obj.subsetsWithDup(nums)\n",
    "    print(\"The unique subsets are \")\n",
    "    print(\"[ \", end=\"\")\n",
    "    for i in range(len(ans)):\n",
    "        print(\"[ \", end=\"\")\n",
    "        for j in range(len(ans[i])):\n",
    "            print(ans[i][j], end=\" \")\n",
    "        print(\"]\", end=\"\")\n",
    "        \n",
    "    print(\"]\", end=\"\")"
   ]
  },
  {
   "cell_type": "code",
   "execution_count": null,
   "metadata": {},
   "outputs": [],
   "source": []
  }
 ],
 "metadata": {
  "kernelspec": {
   "display_name": "Python 3",
   "language": "python",
   "name": "python3"
  },
  "language_info": {
   "codemirror_mode": {
    "name": "ipython",
    "version": 3
   },
   "file_extension": ".py",
   "mimetype": "text/x-python",
   "name": "python",
   "nbconvert_exporter": "python",
   "pygments_lexer": "ipython3",
   "version": "3.12.0"
  }
 },
 "nbformat": 4,
 "nbformat_minor": 2
}
