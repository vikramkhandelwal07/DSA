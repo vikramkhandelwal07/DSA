{
 "cells": [
  {
   "cell_type": "code",
   "execution_count": 1,
   "id": "1217e392",
   "metadata": {},
   "outputs": [
    {
     "name": "stdout",
     "output_type": "stream",
     "text": [
      "(3, 4)\n"
     ]
    }
   ],
   "source": [
    "def findMissingAndRepeating(nums):\n",
    "    n = len(nums)\n",
    "    missing = -1\n",
    "    repeating = -1\n",
    "    \n",
    "    for i in range(n):\n",
    "        cnt = 0\n",
    "        for j in range(n):\n",
    "            if nums[j] == i:\n",
    "                cnt += 1\n",
    "        if cnt == 2:\n",
    "            repeating = i\n",
    "        elif cnt == 0:\n",
    "            missing = i\n",
    "\n",
    "    return (repeating, missing)\n",
    "\n",
    "# Example usage\n",
    "nums = [0, 1, 2, 3, 3, 5]\n",
    "print(findMissingAndRepeating(nums))  # Output: (3, 4)\n"
   ]
  },
  {
   "cell_type": "code",
   "execution_count": 5,
   "id": "5c798ffb",
   "metadata": {},
   "outputs": [
    {
     "name": "stdout",
     "output_type": "stream",
     "text": [
      "(4, 3)\n"
     ]
    }
   ],
   "source": [
    "def findMissingAndRepeating2(nums):\n",
    "    n = len(nums)\n",
    "    hashArray = [0] * (n)\n",
    "    missing = -1\n",
    "    repeating = -1\n",
    "\n",
    "    for num in nums:\n",
    "        hashArray[num] += 1\n",
    "\n",
    "    for i in range(len(hashArray)):\n",
    "        if hashArray[i] == 2:\n",
    "            repeating = i\n",
    "        elif hashArray[i] == 0:\n",
    "            missing = i\n",
    "\n",
    "    return (missing, repeating)\n",
    "\n",
    "\n",
    "# Example usage\n",
    "nums = [0, 1, 2, 3, 3, 5]\n",
    "print(findMissingAndRepeating2(nums))  # Output: (4, 3)\n"
   ]
  },
  {
   "cell_type": "code",
   "execution_count": 7,
   "id": "ab5c7b58",
   "metadata": {},
   "outputs": [
    {
     "name": "stdout",
     "output_type": "stream",
     "text": [
      "(4, 3)\n"
     ]
    }
   ],
   "source": [
    "def missingArray(nums):\n",
    "    n = len(nums)\n",
    "    # S, Sn, S2, S2n\n",
    "    Sn = (n*(n+1))/2\n",
    "    S2n = (n*(n+1)*(2*n+1))/6\n",
    "    S = 0\n",
    "    S2 = 0\n",
    "    for i in range(n):\n",
    "        S += nums[i]\n",
    "        S2 += nums[i]**2\n",
    "        \n",
    "    val1 = S - Sn # x-y\n",
    "    val2 = S2 -S2n \n",
    "    val2 = val2/val1 # x + y\n",
    "    \n",
    "    x = (val1+ val2)/2\n",
    "    y = x - val1\n",
    "    \n",
    "    return (x,y)  \n",
    "\n",
    "# Example usage\n",
    "nums = [0, 1, 2, 3, 3, 5]\n",
    "print(findMissingAndRepeating2(nums))\n",
    "    "
   ]
  },
  {
   "cell_type": "code",
   "execution_count": null,
   "id": "f7db4da0",
   "metadata": {},
   "outputs": [],
   "source": []
  }
 ],
 "metadata": {
  "kernelspec": {
   "display_name": "Python 3",
   "language": "python",
   "name": "python3"
  },
  "language_info": {
   "codemirror_mode": {
    "name": "ipython",
    "version": 3
   },
   "file_extension": ".py",
   "mimetype": "text/x-python",
   "name": "python",
   "nbconvert_exporter": "python",
   "pygments_lexer": "ipython3",
   "version": "3.12.0"
  }
 },
 "nbformat": 4,
 "nbformat_minor": 5
}
