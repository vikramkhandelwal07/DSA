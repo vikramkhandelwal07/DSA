{
 "cells": [
  {
   "cell_type": "code",
   "execution_count": 2,
   "id": "835a636c",
   "metadata": {},
   "outputs": [],
   "source": [
    "from collections import deque\n",
    "from typing import List\n",
    "\n",
    "class Solution:\n",
    "    def orangesRotting(self, grid: List[List[int]]) -> int:\n",
    "        n = len(grid)\n",
    "        m = len(grid[0])\n",
    "        queue = deque()\n",
    "        time = 0\n",
    "        fresh = 0\n",
    "\n",
    "        # Step 1: Find all rotten oranges and count fresh ones\n",
    "        for r in range(n):\n",
    "            for c in range(m):\n",
    "                if grid[r][c] == 2:\n",
    "                    queue.append((r, c, 0))  # (row, col, time)\n",
    "                elif grid[r][c] == 1:\n",
    "                    fresh += 1\n",
    "\n",
    "        directions = [(0,1), (1,0), (0,-1), (-1,0)]\n",
    "\n",
    "        # Step 2: BFS to rot adjacent fresh oranges\n",
    "        while queue:\n",
    "            r, c, t = queue.popleft()\n",
    "            time = max(time, t)\n",
    "            for dr, dc in directions:\n",
    "                nr, nc = r + dr, c + dc\n",
    "                if 0 <= nr < n and 0 <= nc < m and grid[nr][nc] == 1:\n",
    "                    grid[nr][nc] = 2\n",
    "                    fresh -= 1\n",
    "                    queue.append((nr, nc, t + 1))\n",
    "\n",
    "        return time if fresh == 0 else -1\n"
   ]
  },
  {
   "cell_type": "code",
   "execution_count": 3,
   "id": "586741a7",
   "metadata": {},
   "outputs": [
    {
     "name": "stdout",
     "output_type": "stream",
     "text": [
      "4\n"
     ]
    }
   ],
   "source": [
    "grid = [\n",
    "    [2, 1, 1],\n",
    "    [1, 1, 0],\n",
    "    [0, 1, 1]\n",
    "]\n",
    "\n",
    "sol = Solution()\n",
    "print(sol.orangesRotting(grid))  # Output: 4\n"
   ]
  },
  {
   "cell_type": "code",
   "execution_count": null,
   "id": "2d604d76",
   "metadata": {},
   "outputs": [],
   "source": []
  }
 ],
 "metadata": {
  "kernelspec": {
   "display_name": "Python 3",
   "language": "python",
   "name": "python3"
  },
  "language_info": {
   "codemirror_mode": {
    "name": "ipython",
    "version": 3
   },
   "file_extension": ".py",
   "mimetype": "text/x-python",
   "name": "python",
   "nbconvert_exporter": "python",
   "pygments_lexer": "ipython3",
   "version": "3.12.0"
  }
 },
 "nbformat": 4,
 "nbformat_minor": 5
}
