{
 "cells": [
  {
   "cell_type": "markdown",
   "id": "05f0cb70",
   "metadata": {},
   "source": [
    "## Bubble Sort"
   ]
  },
  {
   "cell_type": "code",
   "execution_count": null,
   "id": "c52074fb",
   "metadata": {},
   "outputs": [
    {
     "name": "stdout",
     "output_type": "stream",
     "text": [
      "[199, 98, 76, 65, 32, 23, 11, 3, 2]\n"
     ]
    }
   ],
   "source": [
    "def BubbleSort(nums):\n",
    "    n = len(nums)\n",
    "    for i in range(n):\n",
    "        for j in range(0, n - i - 1):\n",
    "            if nums[j] < nums[j + 1]:  \n",
    "                nums[j], nums[j + 1] = nums[j + 1], nums[j]\n",
    "    return nums\n",
    "\n",
    "# driver code\n",
    "arr = [76, 23, 199, 3, 98, 65, 32, 11, 2]\n",
    "output = BubbleSort(arr)\n",
    "print(output)\n"
   ]
  },
  {
   "cell_type": "markdown",
   "id": "c8cfe79a",
   "metadata": {},
   "source": [
    "## SelectionSort"
   ]
  },
  {
   "cell_type": "code",
   "execution_count": null,
   "id": "06fb29b7",
   "metadata": {},
   "outputs": [
    {
     "name": "stdout",
     "output_type": "stream",
     "text": [
      "[2, 3, 11, 23, 32, 65, 76, 98, 199]\n"
     ]
    }
   ],
   "source": [
    "def selectionSort(nums):\n",
    "  n = len(nums)\n",
    "  for i in range(n):\n",
    "    mini = i\n",
    "    for j in range(i+1,n):\n",
    "      if nums[j] < nums[mini]:\n",
    "        nums[j], nums[mini] = nums[mini], nums[j]\n",
    "  return nums\n",
    "\n",
    "\n",
    "# driver code\n",
    "arr = [76, 23, 199, 3, 98, 65, 32, 11, 2]\n",
    "output = selectionSort(arr)\n",
    "print(output)"
   ]
  },
  {
   "cell_type": "markdown",
   "id": "2374fe00",
   "metadata": {},
   "source": [
    "## InsertionSort"
   ]
  },
  {
   "cell_type": "code",
   "execution_count": null,
   "id": "cc6cd0f6",
   "metadata": {},
   "outputs": [],
   "source": [
    "def InsertionSort(nums):\n",
    "  n = len(nums)\n",
    "  for i in range(1,n):\n",
    "    key = nums[i]\n",
    "    j = i - 1\n",
    "    while (j >= 0 and nums[j] > key):\n",
    "      nums[j+1] = nums[j]\n",
    "      j-=1\n",
    "    nums[j+1] = key\n",
    "  return nums\n",
    " "
   ]
  },
  {
   "cell_type": "code",
   "execution_count": 2,
   "id": "5c0447ad",
   "metadata": {},
   "outputs": [
    {
     "name": "stdout",
     "output_type": "stream",
     "text": [
      "Your array after insertion sort is: [2, 3, 3, 11, 23, 32, 65, 76, 98, 98, 199]\n"
     ]
    }
   ],
   "source": [
    "arr = [76,23,199,3,3,98,98,65,32,11,2]\n",
    "result = InsertionSort(arr)\n",
    "print(\"Your array after insertion sort is:\", result)"
   ]
  },
  {
   "cell_type": "markdown",
   "id": "396437cc",
   "metadata": {},
   "source": [
    "## MergeSort"
   ]
  },
  {
   "cell_type": "code",
   "execution_count": null,
   "id": "b4c01bf6",
   "metadata": {},
   "outputs": [
    {
     "name": "stdout",
     "output_type": "stream",
     "text": [
      "[2, 3, 3, 11, 23, 32, 65, 76, 98, 98, 199]\n"
     ]
    }
   ],
   "source": [
    "def merge(nums,low,mid,high):\n",
    "  left = low\n",
    "  right = mid+1\n",
    "  temp = []\n",
    "  \n",
    "  while left <= mid and right <= high:\n",
    "    if nums[left] <= nums[right]:\n",
    "      temp.append(nums[left])\n",
    "      left+=1\n",
    "    else:\n",
    "      temp.append(nums[right])\n",
    "      right+=1\n",
    "  \n",
    "  while (left <= mid):\n",
    "    temp.append(nums[left])\n",
    "    left+=1\n",
    "  \n",
    "  while (right <= high):\n",
    "    temp.append(nums[right])\n",
    "    right+=1\n",
    "  \n",
    "  for i in range(len(temp)):\n",
    "    nums[low+i] = temp[i]\n",
    "\n",
    "\n",
    "def mergeSort(nums,low,high):\n",
    "  \n",
    "  if low < high:\n",
    "    mid = ( low + high ) // 2\n",
    "    mergeSort(nums, low, mid)\n",
    "    mergeSort(nums,mid+1,high)\n",
    "    merge(nums,low,mid,high)\n",
    "  return nums\n",
    "# driver code\n",
    "# Example usage\n",
    "arr = [76, 23, 199, 3, 3, 98, 98, 65, 32, 11, 2]\n",
    "low = 0\n",
    "high = len(arr) - 1\n",
    "result = mergeSort(arr, low, high)\n",
    "print(result)"
   ]
  },
  {
   "cell_type": "markdown",
   "id": "c5693f3e",
   "metadata": {},
   "source": [
    "## QuickSort"
   ]
  },
  {
   "cell_type": "code",
   "execution_count": 12,
   "id": "13879b5e",
   "metadata": {},
   "outputs": [
    {
     "name": "stdout",
     "output_type": "stream",
     "text": [
      "Your array after quicksort is: [2, 3, 3, 11, 23, 32, 65, 76, 98, 98, 199]\n"
     ]
    }
   ],
   "source": [
    "def partition(nums,low,high):\n",
    "  pivot = nums[low]\n",
    "  i = low\n",
    "  j = high\n",
    "  \n",
    "  while i < j:\n",
    "    while i <= high and nums[i] <= pivot:\n",
    "      i+=1\n",
    "    while j > low and nums[j] > pivot:\n",
    "      j-=1\n",
    "    if i < j:\n",
    "      nums[i], nums[j] = nums[j], nums[i]\n",
    "      \n",
    "  nums[j],nums[low] = nums[low], nums[j]\n",
    "  return j\n",
    "\n",
    "def quickSort(nums,low,high):\n",
    "  if low < high:\n",
    "    partitionIndex = partition(nums,low,high)\n",
    "    quickSort(nums, low, partitionIndex-1)\n",
    "    quickSort(nums,partitionIndex+1,high)\n",
    "  \n",
    "  return nums\n",
    "\n",
    "# Example usage\n",
    "arr = [76, 23, 199, 3, 3, 98, 98, 65, 32, 11, 2]\n",
    "low = 0\n",
    "high = len(arr) - 1\n",
    "quickSort(arr, low, high)\n",
    "print(\"Your array after quicksort is:\", arr)\n"
   ]
  },
  {
   "cell_type": "code",
   "execution_count": null,
   "id": "ec9a5f19",
   "metadata": {},
   "outputs": [],
   "source": []
  }
 ],
 "metadata": {
  "kernelspec": {
   "display_name": "Python 3",
   "language": "python",
   "name": "python3"
  },
  "language_info": {
   "codemirror_mode": {
    "name": "ipython",
    "version": 3
   },
   "file_extension": ".py",
   "mimetype": "text/x-python",
   "name": "python",
   "nbconvert_exporter": "python",
   "pygments_lexer": "ipython3",
   "version": "3.12.0"
  }
 },
 "nbformat": 4,
 "nbformat_minor": 5
}
