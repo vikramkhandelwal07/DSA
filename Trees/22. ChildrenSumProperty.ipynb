{
 "cells": [
  {
   "cell_type": "code",
   "execution_count": 1,
   "id": "f1cd5d7a",
   "metadata": {},
   "outputs": [],
   "source": [
    "def childrenSumProperty(root):\n",
    "    if not root:\n",
    "        return\n",
    "    child = 0\n",
    "    if root.left:\n",
    "        child += root.left.value\n",
    "    if root.right:\n",
    "        child += root.right.value\n",
    "    \n",
    "    if child >= root.value:\n",
    "        root.value = child\n",
    "    else:\n",
    "        if root.left:\n",
    "            root.left.value = root.value\n",
    "        elif root.right:\n",
    "            root.right.value = root.value\n",
    "    childrenSumProperty(root.left)\n",
    "    childrenSumProperty(root.right)\n",
    "\n",
    "    tot = 0\n",
    "    if root.left:\n",
    "        tot += root.left.val\n",
    "    if root.right:\n",
    "        tot += root.right.val\n",
    "\n",
    "    # If either left or right child\n",
    "    # exists, update the current node's\n",
    "    # value with the total sum.\n",
    "    if root.left or root.right:\n",
    "        root.val = tot"
   ]
  },
  {
   "cell_type": "code",
   "execution_count": null,
   "id": "7b83595a",
   "metadata": {},
   "outputs": [],
   "source": []
  }
 ],
 "metadata": {
  "kernelspec": {
   "display_name": "Python 3",
   "language": "python",
   "name": "python3"
  },
  "language_info": {
   "codemirror_mode": {
    "name": "ipython",
    "version": 3
   },
   "file_extension": ".py",
   "mimetype": "text/x-python",
   "name": "python",
   "nbconvert_exporter": "python",
   "pygments_lexer": "ipython3",
   "version": "3.12.0"
  }
 },
 "nbformat": 4,
 "nbformat_minor": 5
}
