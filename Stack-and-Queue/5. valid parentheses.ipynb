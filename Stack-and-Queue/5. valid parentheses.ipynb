{
 "cells": [
  {
   "cell_type": "markdown",
   "metadata": {},
   "source": [
    "# Valid Parentheses Problem\n",
    "\n",
    "## Problem Statement\n",
    "Given a string `s` containing just the characters `'('`, `')'`, `'{'`, `'}'`, `'['`, and `']'`, determine if the input string is **valid**.\n",
    "\n",
    "A string is considered **valid** if:\n",
    "1. Open brackets must be closed by the same type of brackets.\n",
    "2. Open brackets must be closed in the correct order.\n",
    "3. Every close bracket has a corresponding open bracket of the same type.\n",
    "\n",
    "---\n",
    "\n",
    "## Examples\n",
    "\n",
    "### Example 1:\n",
    "**Input:**  \n",
    "`s = \"()\"`  \n",
    "**Output:**  \n",
    "`true`\n",
    "\n",
    "### Example 2:\n",
    "**Input:**  \n",
    "`s = \"()[]{}\"`  \n",
    "**Output:**  \n",
    "`true`\n",
    "\n",
    "### Example 3:\n",
    "**Input:**  \n",
    "`s = \"(]\"`  \n",
    "**Output:**  \n",
    "`false`\n",
    "\n",
    "### Example 4:\n",
    "**Input:**  \n",
    "`s = \"([])\"`  \n",
    "**Output:**  \n",
    "`true`\n",
    "\n",
    "---\n",
    "\n",
    "## Constraints:\n",
    "- `1 <= s.length <= 10^4`\n",
    "- `s` consists only of the characters `'()[]{}'`.\n",
    "\n",
    "---\n"
   ]
  },
  {
   "cell_type": "markdown",
   "metadata": {},
   "source": [
    "- Time Complexity: `O(n)`, since we iterate through the string once.\n",
    "- Space Complexity: `O(n)` in the worst case (when all brackets are open)."
   ]
  },
  {
   "cell_type": "code",
   "execution_count": 2,
   "metadata": {},
   "outputs": [
    {
     "name": "stdout",
     "output_type": "stream",
     "text": [
      "True\n",
      "False\n"
     ]
    }
   ],
   "source": [
    "def isValid(s):\n",
    "  stack = []\n",
    "  for ch in s:\n",
    "    if ch in \"({[\":\n",
    "      stack.append(ch)\n",
    "    else:\n",
    "      if len(stack) == 0:\n",
    "        return False\n",
    "      el = stack[-1]\n",
    "      stack.pop()\n",
    "      if not ((ch == ')' and el == '(') or (ch == ']' and el == '[') or (ch == '}' and el == '{')):\n",
    "        return False\n",
    "  return len(stack) == 0  \n",
    "\n",
    "print(isValid(\"([]{})\"))  # True\n",
    "print(isValid(\"([)]\"))    # False\n"
   ]
  },
  {
   "cell_type": "markdown",
   "metadata": {},
   "source": [
    "## Optimised Code"
   ]
  },
  {
   "cell_type": "code",
   "execution_count": 3,
   "metadata": {},
   "outputs": [
    {
     "name": "stdout",
     "output_type": "stream",
     "text": [
      "True\n",
      "False\n",
      "True\n",
      "False\n"
     ]
    }
   ],
   "source": [
    "def isValid(s):\n",
    "    stack = []\n",
    "    bracket_map = {')': '(', ']': '[', '}': '{'}  # Dictionary for mapping closing → opening\n",
    "\n",
    "    for ch in s:\n",
    "        if ch in bracket_map.values():  # If it's an opening bracket, push to stack\n",
    "            stack.append(ch)\n",
    "        else:  # It's a closing bracket\n",
    "            if not stack or stack.pop() != bracket_map[ch]:  \n",
    "                return False  # Stack is empty or mismatch found\n",
    "    \n",
    "    return len(stack) == 0  # Valid if stack is empty\n",
    "\n",
    "# Testing the function\n",
    "print(isValid(\"([]{})\"))  # True\n",
    "print(isValid(\"([)]\"))    # False\n",
    "print(isValid(\"{[]}\"))    # True\n",
    "print(isValid(\"((()))[\")) # False\n"
   ]
  },
  {
   "cell_type": "code",
   "execution_count": 3,
   "metadata": {},
   "outputs": [
    {
     "name": "stdout",
     "output_type": "stream",
     "text": [
      "True\n",
      "False\n"
     ]
    }
   ],
   "source": [
    "def valid(s):\n",
    "    if not s:\n",
    "        return True\n",
    "    stack  = []\n",
    "    for ch in s:\n",
    "        if ch in \"({[\":\n",
    "           stack.append(ch)\n",
    "        else:\n",
    "            if len(stack) == 0:\n",
    "                return False\n",
    "            el = stack[-1]\n",
    "            stack.pop()\n",
    "        \n",
    "            if not ((el == \"(\" and ch == \")\" ) or (el == \"[\" and ch == \"]\") or (el == \"{\" and ch == \"}\") ):\n",
    "                return False\n",
    "    return len(stack) == 0\n",
    "\n",
    "print(valid(\"([]{})\"))  # True\n",
    "print(valid(\"([)]\"))  \n"
   ]
  },
  {
   "cell_type": "code",
   "execution_count": null,
   "metadata": {},
   "outputs": [],
   "source": []
  }
 ],
 "metadata": {
  "kernelspec": {
   "display_name": "Python 3",
   "language": "python",
   "name": "python3"
  },
  "language_info": {
   "codemirror_mode": {
    "name": "ipython",
    "version": 3
   },
   "file_extension": ".py",
   "mimetype": "text/x-python",
   "name": "python",
   "nbconvert_exporter": "python",
   "pygments_lexer": "ipython3",
   "version": "3.12.0"
  }
 },
 "nbformat": 4,
 "nbformat_minor": 2
}
