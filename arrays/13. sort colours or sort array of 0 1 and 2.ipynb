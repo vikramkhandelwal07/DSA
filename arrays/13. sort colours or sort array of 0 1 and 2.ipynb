{
 "cells": [
  {
   "cell_type": "markdown",
   "metadata": {},
   "source": [
    "## Brute \n",
    "- merge sort"
   ]
  },
  {
   "cell_type": "code",
   "execution_count": 7,
   "metadata": {},
   "outputs": [
    {
     "name": "stdout",
     "output_type": "stream",
     "text": [
      "After sorting: [0, 0, 1, 1, 2, 2]\n"
     ]
    }
   ],
   "source": [
    "def sortColoursMerge(nums, low, mid, high):\n",
    "    temp = []\n",
    "    left = low\n",
    "    right = mid + 1\n",
    "    \n",
    "    # Merge the two halves\n",
    "    while left <= mid and right <= high:\n",
    "        if nums[left] <= nums[right]:\n",
    "            temp.append(nums[left])\n",
    "            left += 1\n",
    "        else:\n",
    "            temp.append(nums[right])\n",
    "            right += 1\n",
    "    \n",
    "    # Copy remaining elements of the left half, if any\n",
    "    while left <= mid:\n",
    "        temp.append(nums[left])\n",
    "        left += 1\n",
    "\n",
    "    # Copy remaining elements of the right half, if any\n",
    "    while right <= high:\n",
    "        temp.append(nums[right])\n",
    "        right += 1\n",
    "\n",
    "    # Copy sorted elements back into the original array\n",
    "    for i in range(len(temp)):\n",
    "        nums[low + i] = temp[i]\n",
    "\n",
    "def MergeSort(nums, low, high):\n",
    "    if low < high:\n",
    "        mid = (low + high) // 2\n",
    "        MergeSort(nums, low, mid)\n",
    "        MergeSort(nums, mid + 1, high)\n",
    "        sortColoursMerge(nums, low, mid, high)\n",
    "\n",
    "    return nums\n",
    "  \n",
    "nums = [2, 0, 2, 1, 1, 0]\n",
    "low = 0 \n",
    "high = len(nums) - 1\n",
    "result = MergeSort(nums, low, high)\n",
    "print(\"After sorting:\", result)\n"
   ]
  },
  {
   "cell_type": "markdown",
   "metadata": {},
   "source": [
    "## better \n",
    "- since i know array only has 0 1 and 2 so i will traverse the loop once and then create 3 variable cnt1 cnt2 and cnt3 and then overwrite the original array\n",
    "- "
   ]
  },
  {
   "cell_type": "code",
   "execution_count": null,
   "metadata": {},
   "outputs": [
    {
     "name": "stdout",
     "output_type": "stream",
     "text": [
      "After sorting: [0, 0, 1, 1, 2, 2]\n"
     ]
    }
   ],
   "source": [
    "# TC - O(2N)\n",
    "# SC - O(1)\n",
    "def SortColors(nums):\n",
    "  cnt1 = 0\n",
    "  cnt2 = 0\n",
    "  cnt0 = 0 \n",
    "  for i in range(len(nums)):\n",
    "    if nums[i] == 0 :\n",
    "      cnt0 +=1\n",
    "    elif nums[i] == 1:\n",
    "      cnt1 +=1\n",
    "    else:\n",
    "      cnt2 +=1\n",
    "      \n",
    "  for i in range(cnt0):\n",
    "    nums[i] = 0\n",
    "  for i in range(cnt0,cnt0+cnt1):\n",
    "    nums[i] = 1\n",
    "  for i in range(cnt0+cnt1, cnt0+cnt1+cnt2):\n",
    "    nums[i] = 2\n",
    "  return nums\n",
    "\n",
    "\n",
    "nums = [2, 0, 2, 1, 1, 0]\n",
    "result = SortColors(nums)\n",
    "print(\"After sorting:\", result)\n"
   ]
  },
  {
   "cell_type": "markdown",
   "metadata": {},
   "source": [
    "## Optimal - DUTCH NATIONAL FLAG ALGORITHM"
   ]
  },
  {
   "cell_type": "markdown",
   "metadata": {},
   "source": [
    "This algorithm contains 3 pointers i.e. low, mid, and high, and 3 main rules.  The rules are the following:\n",
    "\n",
    "- arr[0….low-1] contains 0. [Extreme left part]\n",
    "- arr[low….mid-1] contains 1.\n",
    "- arr[high+1….n-1] contains 2. [Extreme right part], n = size of the array"
   ]
  },
  {
   "attachments": {
    "image.png": {
     "image/png": "[encoded data removed]"
    }
   },
   "cell_type": "markdown",
   "metadata": {},
   "source": [
    "![image.png](attachment:image.png)\n",
    "\n",
    "- First, we will run a loop that will continue until mid <= high.\n",
    "- There can be three different values of mid pointer i.e. arr[mid]\n",
    "- If arr[mid] == 0, we will swap arr[low] and arr[mid] and will increment both low and mid. Now the subarray from index 0 to (low-1) only contains 0.\n",
    "- If arr[mid] == 1, we will just increment the mid pointer and then the index (mid-1) will point to 1 as it should according to the rules.\n",
    "- If arr[mid] == 2, we will swap arr[mid] and arr[high] and will decrement high. Now the subarray from index high+1 to (n-1) only contains 2.\n",
    "- In this step, we will do nothing to the mid-pointer as even after swapping, the subarray from mid to high(after decrementing high) might be unsorted. So, we will check the value of mid again in the next iteration.\n",
    "- Finally, our array should be sorted."
   ]
  },
  {
   "cell_type": "code",
   "execution_count": 17,
   "metadata": {},
   "outputs": [
    {
     "name": "stdout",
     "output_type": "stream",
     "text": [
      "After sorting: [0, 0, 1, 1, 2, 2]\n"
     ]
    }
   ],
   "source": [
    "def sortArray(arr):\n",
    "    low = 0\n",
    "    mid = 0\n",
    "    high = len(arr) - 1\n",
    "\n",
    "    while mid <= high:\n",
    "        if arr[mid] == 0:\n",
    "            arr[low], arr[mid] = arr[mid], arr[low]\n",
    "            low += 1\n",
    "            mid += 1\n",
    "        elif arr[mid] == 1:\n",
    "            mid += 1\n",
    "        else:\n",
    "            arr[mid], arr[high] = arr[high], arr[mid]\n",
    "            high -= 1\n",
    "    return arr\n",
    "n = 6\n",
    "arr = [0, 2, 1, 2, 0, 1]\n",
    "result = sortArray(arr)\n",
    "print(\"After sorting:\",arr)\n"
   ]
  },
  {
   "cell_type": "code",
   "execution_count": null,
   "metadata": {},
   "outputs": [],
   "source": []
  }
 ],
 "metadata": {
  "kernelspec": {
   "display_name": "Python 3",
   "language": "python",
   "name": "python3"
  },
  "language_info": {
   "codemirror_mode": {
    "name": "ipython",
    "version": 3
   },
   "file_extension": ".py",
   "mimetype": "text/x-python",
   "name": "python",
   "nbconvert_exporter": "python",
   "pygments_lexer": "ipython3",
   "version": "3.12.0"
  }
 },
 "nbformat": 4,
 "nbformat_minor": 2
}
