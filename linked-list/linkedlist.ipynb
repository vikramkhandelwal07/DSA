{
 "cells": [
  {
   "cell_type": "code",
   "execution_count": 8,
   "metadata": {},
   "outputs": [
    {
     "name": "stdout",
     "output_type": "stream",
     "text": [
      "449-->4-->\n"
     ]
    }
   ],
   "source": [
    "class Node:\n",
    "  def __init__(self, data = None, next = None):\n",
    "    self.data = data\n",
    "    self.next = next\n",
    "    \n",
    "    \n",
    "class linkedList:\n",
    "  def __init__(self):\n",
    "    self.head = None\n",
    "    \n",
    "  # for insertion at beginning\n",
    "  def insertAtBeginning(self,data):\n",
    "    node = Node(data,self.head)\n",
    "    self.head = node\n",
    "  \n",
    "  def show(self):\n",
    "    if self.head is None:\n",
    "      print(\"Linkedlist is empty\")\n",
    "      return\n",
    "\n",
    "    itr = self.head\n",
    "    llstr = ''\n",
    "    \n",
    "    \n",
    "    while itr:\n",
    "      llstr += str(itr.data) + '-->'\n",
    "      itr = itr.next\n",
    "    print(llstr)  \n",
    "    \n",
    "l1 = linkedList()\n",
    "l1.insertAtBeginning(4)\n",
    "l1.insertAtBeginning(449)\n",
    "l1.show()\n",
    "\n",
    "    "
   ]
  },
  {
   "cell_type": "code",
   "execution_count": 1,
   "metadata": {},
   "outputs": [],
   "source": [
    "class Node:\n",
    "  def __init__(self,data =None, next = None):\n",
    "    self.data  = data\n",
    "    self.next = next\n",
    "    \n",
    "class SingleLinkedList:\n",
    "  \n",
    "  def __init__(self):\n",
    "    self.head = None\n",
    "  \n",
    "  def isEmpty(self):\n",
    "    if self.head == None  :\n",
    "      return True\n",
    "    else:\n",
    "      return \"ll is not empty\"\n",
    "    \n",
    "  def insertAtBeginning(self,data):\n",
    "    n = Node(data,self.head)\n",
    "    self.head = n\n",
    "      \n",
    "  "
   ]
  },
  {
   "cell_type": "code",
   "execution_count": 3,
   "metadata": {},
   "outputs": [],
   "source": [
    "n1 = Node()\n",
    "n1.data = 0\n"
   ]
  },
  {
   "cell_type": "code",
   "execution_count": 4,
   "metadata": {},
   "outputs": [
    {
     "data": {
      "text/plain": [
       "True"
      ]
     },
     "execution_count": 4,
     "metadata": {},
     "output_type": "execute_result"
    }
   ],
   "source": [
    "sll = SingleLinkedList()\n",
    "sll.isEmpty()"
   ]
  },
  {
   "cell_type": "code",
   "execution_count": 6,
   "metadata": {},
   "outputs": [
    {
     "name": "stdout",
     "output_type": "stream",
     "text": [
      "<__main__.Node object at 0x0000026C3F9CC8C0>\n",
      "None\n"
     ]
    }
   ],
   "source": [
    "class Node:\n",
    "  def __init__(self,data):\n",
    "    self.data = data\n",
    "    self.next = None\n",
    "\n",
    "\n",
    "class LinkedList:\n",
    "  \n",
    "  def __init__(self):\n",
    "    self.head = None\n",
    "    \n",
    "  def append(self,data):\n",
    "    new_node = Node(4)\n",
    "    if not self.head:\n",
    "      self.head = new_node\n",
    "    else:\n",
    "      current = self.head\n",
    "      while current.next:\n",
    "        current = current.next\n",
    "      current.next = new_node\n",
    "      \n",
    "  def display(self):\n",
    "    current = self.head\n",
    "    while current:\n",
    "      print(current.data ,)\n",
    "  "
   ]
  },
  {
   "cell_type": "code",
   "execution_count": 3,
   "metadata": {},
   "outputs": [
    {
     "name": "stdout",
     "output_type": "stream",
     "text": [
      "1 -> 2 -> 3 -> 4 -> 5 -> None\n"
     ]
    }
   ],
   "source": [
    "class Node:\n",
    "    def __init__(self, value):\n",
    "        self.value = value\n",
    "        self.next = None\n",
    "\n",
    "class LinkedList:\n",
    "    def __init__(self):\n",
    "        self.head = None\n",
    "\n",
    "    def append(self, value):\n",
    "        new_node = Node(value)\n",
    "        if not self.head:  # If the list is empty\n",
    "            self.head = new_node\n",
    "        else:\n",
    "            current = self.head\n",
    "            while current.next:  # Traverse to the end of the list\n",
    "                current = current.next\n",
    "            current.next = new_node\n",
    "\n",
    "    def display(self):\n",
    "        current = self.head\n",
    "        while current:\n",
    "            print(current.value, end=\" -> \")\n",
    "            current = current.next\n",
    "        print(\"None\")\n",
    "\n",
    "# Convert array to linked list\n",
    "def array_to_linkedlist(array):\n",
    "    linked_list = LinkedList()\n",
    "    for value in array:\n",
    "        linked_list.append(value)\n",
    "    return linked_list\n",
    "\n",
    "# Example usage\n",
    "array = [1, 2, 3, 4, 5]\n",
    "linked_list = array_to_linkedlist(array)\n",
    "linked_list.display()\n"
   ]
  },
  {
   "cell_type": "code",
   "execution_count": 28,
   "metadata": {},
   "outputs": [
    {
     "name": "stdout",
     "output_type": "stream",
     "text": [
      "head: <__main__.Node object at 0x0000020CD308E7E0>\n",
      "1 -> 2 -> 3 -> 4 -> 5 -> displaying linkedlist None\n",
      "length of ll is 5\n",
      "printing if element is there or not: True\n"
     ]
    }
   ],
   "source": [
    "class Node:\n",
    "    def __init__(self, value):\n",
    "        self.value = value\n",
    "        self.next = None\n",
    "\n",
    "def array_to_linkedlist(array):\n",
    "    if not array:  # Handle empty array\n",
    "        return None\n",
    "    head = Node(array[0])\n",
    "    current = head\n",
    "    for value in array[1:]:\n",
    "        current.next = Node(value)\n",
    "        # print(current.next)\n",
    "        current = current.next\n",
    "    return head\n",
    "\n",
    "def display_linkedlist(head):\n",
    "    current = head\n",
    "    while current:\n",
    "        print(current.value, end=\" -> \")\n",
    "        current = current.next\n",
    "\n",
    "def lengthofLinkedList(head):\n",
    "    cnt = 0\n",
    "    current = head\n",
    "    while current:\n",
    "        current = current.next\n",
    "        cnt+=1\n",
    "    return cnt\n",
    "\n",
    "def searchInLinkedList(element):\n",
    "    current = head\n",
    "    while(current):\n",
    "        if current.value == element:\n",
    "            return True\n",
    "        current = current.next\n",
    "    return False   \n",
    "\n",
    "# Example usage\n",
    "array = [1, 2, 3, 4, 5]\n",
    "head = array_to_linkedlist(array)\n",
    "print(\"head:\",head)\n",
    "\n",
    "print(\"displaying linkedlist\",display_linkedlist(head))\n",
    "print(\"length of ll is\",lengthofLinkedList(head))\n",
    "print(\"printing if element is there or not:\",searchInLinkedList(4))"
   ]
  },
  {
   "cell_type": "code",
   "execution_count": 6,
   "metadata": {},
   "outputs": [
    {
     "name": "stdout",
     "output_type": "stream",
     "text": [
      "None\n"
     ]
    }
   ],
   "source": [
    "def array_to_linkedlist(array):\n",
    "    if not array:  # Handle empty array\n",
    "        return None\n",
    "    head = Node(array[0])\n",
    "    current = head\n",
    "    print(current.next)\n",
    "    \n",
    "array = [1, 2, 3, 4, 5]\n",
    "head = array_to_linkedlist(array)\n",
    "# display_linkedlist(head)"
   ]
  },
  {
   "cell_type": "code",
   "execution_count": null,
   "metadata": {},
   "outputs": [],
   "source": []
  }
 ],
 "metadata": {
  "kernelspec": {
   "display_name": "Python 3",
   "language": "python",
   "name": "python3"
  },
  "language_info": {
   "codemirror_mode": {
    "name": "ipython",
    "version": 3
   },
   "file_extension": ".py",
   "mimetype": "text/x-python",
   "name": "python",
   "nbconvert_exporter": "python",
   "pygments_lexer": "ipython3",
   "version": "3.12.0"
  }
 },
 "nbformat": 4,
 "nbformat_minor": 2
}
