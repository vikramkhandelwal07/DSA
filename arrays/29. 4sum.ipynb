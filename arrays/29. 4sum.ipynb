{
 "cells": [
  {
   "cell_type": "markdown",
   "id": "fed06858",
   "metadata": {},
   "source": [
    "## 4Sum"
   ]
  },
  {
   "cell_type": "markdown",
   "id": "71833078",
   "metadata": {},
   "source": [
    "### Brute"
   ]
  },
  {
   "cell_type": "code",
   "execution_count": 5,
   "id": "89ae19e5",
   "metadata": {},
   "outputs": [
    {
     "name": "stdout",
     "output_type": "stream",
     "text": [
      "[[-2, -1, 1, 2], [-1, 0, 0, 1], [-2, 0, 0, 2]]\n"
     ]
    }
   ],
   "source": [
    "def fourSum(nums, target):\n",
    "    ans = set()\n",
    "    n = len(nums)\n",
    "    for i in range(n):\n",
    "        for j in range(i+1, n):\n",
    "            for k in range(j+1,n):\n",
    "                for l in range(k+1,n):\n",
    "                    Sum = nums[i] + nums[j] + nums[k] + nums[l]\n",
    "                    if Sum == target:\n",
    "                        temp = tuple(sorted([nums[i], nums[j], nums[k], nums[l]]))\n",
    "                        ans.add(temp)\n",
    "    return [list(t) for t in ans]\n",
    "\n",
    "nums = [1,0,-1,0,-2,2]\n",
    "target = 0\n",
    "x = fourSum(nums,target)\n",
    "print(x)\n"
   ]
  },
  {
   "cell_type": "markdown",
   "id": "accb01ac",
   "metadata": {},
   "source": [
    "### Better"
   ]
  },
  {
   "cell_type": "code",
   "execution_count": 2,
   "id": "e09f403a",
   "metadata": {},
   "outputs": [
    {
     "name": "stdout",
     "output_type": "stream",
     "text": [
      "[[-2, -1, 1, 2], [-1, 0, 0, 1], [-2, 0, 0, 2]]\n"
     ]
    }
   ],
   "source": [
    "def fourSumBetter(nums, target):\n",
    "    n = len(nums)\n",
    "    ans = set()\n",
    "    for i in range(n):\n",
    "        for j in range(i + 1, n):\n",
    "            hashSet = set()\n",
    "            for k in range(j + 1, n):\n",
    "                rem = target - (nums[i] + nums[j] + nums[k])\n",
    "                if rem in hashSet:\n",
    "                    temp = tuple(sorted([nums[i], nums[j], nums[k], rem]))\n",
    "                    ans.add(temp)\n",
    "                hashSet.add(nums[k])\n",
    "    return [list(t) for t in ans]\n",
    "\n",
    "nums = [1, 0, -1, 0, -2, 2]\n",
    "target = 0\n",
    "x = fourSumBetter(nums, target)\n",
    "print(x)\n"
   ]
  },
  {
   "cell_type": "markdown",
   "id": "7c080c09",
   "metadata": {},
   "source": [
    "## Optimal"
   ]
  },
  {
   "cell_type": "code",
   "execution_count": 8,
   "id": "5cf69d2c",
   "metadata": {},
   "outputs": [
    {
     "name": "stdout",
     "output_type": "stream",
     "text": [
      "[[-2, -1, 1, 2], [-2, 0, 0, 2], [-1, 0, 0, 1]]\n"
     ]
    }
   ],
   "source": [
    "def fourSumOptimal(nums, target):\n",
    "    n = len(nums)\n",
    "    nums.sort()\n",
    "    if n < 4:\n",
    "        return []\n",
    "    ans = []\n",
    "\n",
    "    for a in range(n):\n",
    "        if a > 0 and nums[a] == nums[a - 1]:\n",
    "            continue\n",
    "        for b in range(a + 1, n):\n",
    "            if b > a + 1 and nums[b] == nums[b - 1]:\n",
    "                continue\n",
    "\n",
    "            c = b + 1\n",
    "            d = n - 1\n",
    "            while c < d:\n",
    "                totalSum = nums[a] + nums[b] + nums[c] + nums[d]\n",
    "                if totalSum < target:\n",
    "                    c += 1\n",
    "                elif totalSum > target:\n",
    "                    d -= 1\n",
    "                else:\n",
    "                    ans.append([nums[a], nums[b], nums[c], nums[d]])\n",
    "                    c += 1\n",
    "                    d -= 1\n",
    "                    while c < d and nums[c] == nums[c - 1]:\n",
    "                        c += 1\n",
    "                    while c < d and nums[d] == nums[d + 1]:\n",
    "                        d -= 1\n",
    "\n",
    "    return ans\n",
    "\n",
    "nums = [1, 0, -1, 0, -2, 2]\n",
    "target = 0\n",
    "x = fourSumOptimal(nums, target)\n",
    "print(x)\n"
   ]
  },
  {
   "cell_type": "code",
   "execution_count": null,
   "id": "3cb9ba95",
   "metadata": {},
   "outputs": [],
   "source": []
  },
  {
   "cell_type": "code",
   "execution_count": null,
   "id": "2f434e68",
   "metadata": {},
   "outputs": [],
   "source": []
  }
 ],
 "metadata": {
  "kernelspec": {
   "display_name": "Python 3",
   "language": "python",
   "name": "python3"
  },
  "language_info": {
   "codemirror_mode": {
    "name": "ipython",
    "version": 3
   },
   "file_extension": ".py",
   "mimetype": "text/x-python",
   "name": "python",
   "nbconvert_exporter": "python",
   "pygments_lexer": "ipython3",
   "version": "3.12.0"
  }
 },
 "nbformat": 4,
 "nbformat_minor": 5
}
