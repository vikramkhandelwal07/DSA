{
 "cells": [
  {
   "cell_type": "code",
   "execution_count": 8,
   "id": "0332553d",
   "metadata": {},
   "outputs": [
    {
     "name": "stdout",
     "output_type": "stream",
     "text": [
      "Nodes at distance 3 from target 2: [6, 7]\n"
     ]
    }
   ],
   "source": [
    "from collections import deque\n",
    "\n",
    "class Node:\n",
    "    def __init__(self, value):\n",
    "        self.value = value\n",
    "        self.left = None\n",
    "        self.right = None\n",
    "\n",
    "def markParents(root, parentMap):\n",
    "    queue = deque([root])\n",
    "    while queue:\n",
    "        node = queue.popleft()\n",
    "        if node.left:\n",
    "            parentMap[node.left] = node\n",
    "            queue.append(node.left)\n",
    "        if node.right:\n",
    "            parentMap[node.right] = node\n",
    "            queue.append(node.right)\n",
    "\n",
    "def nodesAtDistanceK(root, target, k):\n",
    "    if not root:\n",
    "        return []\n",
    "\n",
    "    parentMap = {}\n",
    "    markParents(root, parentMap)\n",
    "\n",
    "    visited = set()\n",
    "    queue = deque()\n",
    "    \n",
    "    queue.append(target)\n",
    "    visited.add(target)\n",
    "    level = 0\n",
    "\n",
    "    while queue:\n",
    "        if level == k:\n",
    "            break\n",
    "        for _ in range(len(queue)):\n",
    "            node = queue.popleft()\n",
    "            for neighbor in (node.left, node.right, parentMap.get(node)):\n",
    "                if neighbor and neighbor not in visited:\n",
    "                    visited.add(neighbor)\n",
    "                    queue.append(neighbor)\n",
    "        level += 1\n",
    "\n",
    "    return [node.value for node in queue]\n",
    "\n",
    "# Binary Tree Setup\n",
    "root = Node(1)\n",
    "root.left = Node(2)\n",
    "root.right = Node(3)\n",
    "root.left.left = Node(4)\n",
    "root.left.right = Node(5)\n",
    "root.right.left = Node(6)\n",
    "root.right.right = Node(7)\n",
    "\n",
    "target = root.left  # Node 2\n",
    "k = 3\n",
    "\n",
    "result = nodesAtDistanceK(root, target, k)\n",
    "print(f\"Nodes at distance {k} from target {target.value}: {result}\")\n"
   ]
  },
  {
   "cell_type": "code",
   "execution_count": null,
   "id": "be7da175",
   "metadata": {},
   "outputs": [],
   "source": []
  }
 ],
 "metadata": {
  "kernelspec": {
   "display_name": "Python 3",
   "language": "python",
   "name": "python3"
  },
  "language_info": {
   "codemirror_mode": {
    "name": "ipython",
    "version": 3
   },
   "file_extension": ".py",
   "mimetype": "text/x-python",
   "name": "python",
   "nbconvert_exporter": "python",
   "pygments_lexer": "ipython3",
   "version": "3.12.0"
  }
 },
 "nbformat": 4,
 "nbformat_minor": 5
}
