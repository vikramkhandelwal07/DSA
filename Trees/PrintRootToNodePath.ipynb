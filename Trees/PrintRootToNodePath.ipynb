{
 "cells": [
  {
   "cell_type": "code",
   "execution_count": null,
   "id": "cde7a912",
   "metadata": {},
   "outputs": [],
   "source": [
    "def rootToNode(root, x):\n",
    "    def helper(node, ds, x):\n",
    "        if not node:\n",
    "            return False\n",
    "        \n",
    "        ds.append(node.value)\n",
    "        \n",
    "        if node.value == x:\n",
    "            return True\n",
    "        \n",
    "        if helper(node.left, ds, x) or helper(node.right, ds, x):\n",
    "            return True\n",
    "        \n",
    "        ds.pop()  # backtrack if x not found in this path\n",
    "        return False\n",
    "    \n",
    "    ds = []\n",
    "    helper(root, ds, x)\n",
    "    return ds\n"
   ]
  },
  {
   "cell_type": "code",
   "execution_count": null,
   "id": "dbbdb0d1",
   "metadata": {},
   "outputs": [],
   "source": []
  }
 ],
 "metadata": {
  "kernelspec": {
   "display_name": "Python 3",
   "language": "python",
   "name": "python3"
  },
  "language_info": {
   "codemirror_mode": {
    "name": "ipython",
    "version": 3
   },
   "file_extension": ".py",
   "mimetype": "text/x-python",
   "name": "python",
   "nbconvert_exporter": "python",
   "pygments_lexer": "ipython3",
   "version": "3.12.0"
  }
 },
 "nbformat": 4,
 "nbformat_minor": 5
}
