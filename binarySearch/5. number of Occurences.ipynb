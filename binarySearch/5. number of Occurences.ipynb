{
 "cells": [
  {
   "cell_type": "code",
   "execution_count": null,
   "metadata": {},
   "outputs": [],
   "source": [
    "def Lowerbound(arr,target,n):\n",
    "    low = 0\n",
    "    high = n-1\n",
    "    ans = n\n",
    "    while low <= high:\n",
    "        mid = (low+high)//2\n",
    "        if arr[mid] >= target:\n",
    "            ans = mid \n",
    "            high = mid -1\n",
    "        \n",
    "        else :\n",
    "            low = mid+1\n",
    "        \n",
    "    return ans \n",
    "# upperbound\n",
    "def upperbound(arr,target,n):\n",
    "    low = 0\n",
    "    high = n-1\n",
    "    ans = n\n",
    "    while low <= high:\n",
    "        mid = (low+high)//2\n",
    "        if arr[mid] > target:\n",
    "            ans = mid \n",
    "            high = mid -1\n",
    "        \n",
    "        else :\n",
    "            low = mid+1\n",
    "    return ans\n",
    "\n",
    "\n",
    "class Solution:\n",
    "    def countFreq(self, arr, target):\n",
    "        #code here\n",
    "        n = len(arr)\n",
    "        lb = Lowerbound(arr,target,n)\n",
    "        if (lb == n or arr[lb]!= target):\n",
    "            return 0\n",
    "        else:\n",
    "            return upperbound(arr,target,n)-lb"
   ]
  },
  {
   "cell_type": "code",
   "execution_count": null,
   "metadata": {},
   "outputs": [],
   "source": []
  }
 ],
 "metadata": {
  "kernelspec": {
   "display_name": "Python 3",
   "language": "python",
   "name": "python3"
  },
  "language_info": {
   "name": "python",
   "version": "3.12.0"
  }
 },
 "nbformat": 4,
 "nbformat_minor": 2
}
