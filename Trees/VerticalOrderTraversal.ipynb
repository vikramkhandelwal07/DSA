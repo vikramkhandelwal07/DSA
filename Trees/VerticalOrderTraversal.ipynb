{
 "cells": [
  {
   "cell_type": "code",
   "execution_count": 2,
   "id": "df6461ba",
   "metadata": {},
   "outputs": [],
   "source": [
    "class Node:\n",
    "  def __init__(self,value):\n",
    "    self.value = value\n",
    "    self.left = None\n",
    "    self.right = None\n"
   ]
  },
  {
   "cell_type": "code",
   "execution_count": null,
   "id": "bede5445",
   "metadata": {},
   "outputs": [],
   "source": [
    "from collections import defaultdict, deque\n",
    "\n",
    "def verticalTraversal(root):\n",
    "    nodes = defaultdict(lambda: defaultdict(list))\n",
    "    \n",
    "    todo = deque([(root, (0, 0))])\n",
    "    \n",
    "    while todo:\n",
    "        temp, (x, y) = todo.popleft()\n",
    "        nodes[x][y].add(temp.value)\n",
    "        \n",
    "        if temp.left:\n",
    "            todo.append((temp.left, (x-1, y+1)))\n",
    "        if temp.right:\n",
    "            todo.append((temp.right, (x+1, y+1)))\n",
    "    \n",
    "    ans = []\n",
    "    for x in sorted(nodes.keys()):  # Columns in left-to-right order\n",
    "        col = []\n",
    "        for y in sorted(nodes[x].keys()):  # Rows in top-to-bottom order\n",
    "            col.extend(sorted(nodes[x][y]))  # sort same-level nodes\n",
    "        ans.append(col)\n",
    "    return ans\n"
   ]
  },
  {
   "cell_type": "code",
   "execution_count": 10,
   "id": "8808e723",
   "metadata": {},
   "outputs": [
    {
     "name": "stdout",
     "output_type": "stream",
     "text": [
      "Vertical Traversal: \n",
      "4 \n",
      "2 5 \n",
      "1 9 10 6 \n",
      "3 \n",
      "10 \n",
      "\n"
     ]
    }
   ],
   "source": [
    "# Helper function to\n",
    "# print the result\n",
    "def printResult(result):\n",
    "    for level in result:\n",
    "        for node in level:\n",
    "            print(node, end=\" \")\n",
    "        print()\n",
    "    print()\n",
    "\n",
    "if __name__ == \"__main__\":\n",
    "    # Creating a sample binary tree\n",
    "    root = Node(1)\n",
    "    root.left = Node(2)\n",
    "    root.left.left = Node(4)\n",
    "    root.left.right = Node(10)\n",
    "    root.left.left.right = Node(5)\n",
    "    root.left.left.right.right = Node(6)\n",
    "    root.right = Node(3)\n",
    "    root.right.right = Node(10)\n",
    "    root.right.left = Node(9)\n",
    "\n",
    "    # Get the Vertical traversal\n",
    "    vertical = verticalTraversal(root)\n",
    "\n",
    "    # Print the result\n",
    "    print(\"Vertical Traversal: \")\n",
    "    printResult(vertical)"
   ]
  },
  {
   "cell_type": "code",
   "execution_count": null,
   "id": "61dca7d5",
   "metadata": {},
   "outputs": [],
   "source": []
  },
  {
   "cell_type": "code",
   "execution_count": null,
   "id": "3c8610e7",
   "metadata": {},
   "outputs": [],
   "source": []
  }
 ],
 "metadata": {
  "kernelspec": {
   "display_name": "Python 3",
   "language": "python",
   "name": "python3"
  },
  "language_info": {
   "codemirror_mode": {
    "name": "ipython",
    "version": 3
   },
   "file_extension": ".py",
   "mimetype": "text/x-python",
   "name": "python",
   "nbconvert_exporter": "python",
   "pygments_lexer": "ipython3",
   "version": "3.12.0"
  }
 },
 "nbformat": 4,
 "nbformat_minor": 5
}
