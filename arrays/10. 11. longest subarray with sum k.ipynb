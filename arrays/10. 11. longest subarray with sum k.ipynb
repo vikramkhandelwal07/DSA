{
 "cells": [
  {
   "cell_type": "markdown",
   "metadata": {},
   "source": [
    "this is the better approach for an array having only positive and best approach for array having negative and positive both"
   ]
  },
  {
   "cell_type": "code",
   "execution_count": null,
   "metadata": {},
   "outputs": [
    {
     "name": "stdout",
     "output_type": "stream",
     "text": [
      "The length of the longest subarray is: 3\n"
     ]
    }
   ],
   "source": [
    "\n",
    "def getLongestSubarray(a, k): \n",
    "    n = len(a) # size of the array.\n",
    "\n",
    "    length = 0\n",
    "    for i in range(n): # starting index\n",
    "        for j in range(i, n): # ending index\n",
    "            # add all the elements of\n",
    "            # subarray = a[i...j]:\n",
    "            s = 0\n",
    "            for K in range(i, j+1):\n",
    "                s += a[K]\n",
    "\n",
    "            if s == k:\n",
    "                length = max(length, j - i + 1)\n",
    "    return length\n",
    "\n",
    "if __name__ == \"__main__\":\n",
    "\ta = [2, 3, 5, 1, 9]\n",
    "\tk = 10\n",
    "\n",
    "\tlength = getLongestSubarray(a, k)\n",
    "\tprint(f\"The length of the longest subarray is: {length}\")"
   ]
  },
  {
   "cell_type": "markdown",
   "metadata": {},
   "source": [
    "- this is the best approach for array having positive negatives both\n",
    "using dictionary we go ahead and check whether the sum - k exist in dict and \n",
    "- if yes the rem is  the length of subarray\n",
    "- and if not then we add that sum in dict for checking it further when we move more ahead\n"
   ]
  },
  {
   "cell_type": "code",
   "execution_count": null,
   "metadata": {},
   "outputs": [
    {
     "name": "stdout",
     "output_type": "stream",
     "text": [
      "{2: 0, 5: 1, 10: 2, 11: 3}\n",
      "The length of the longest subarray is: 3\n"
     ]
    }
   ],
   "source": [
    "from typing import List\n",
    "\n",
    "def longestSubArray(nums,k):\n",
    "  n = len(nums)\n",
    "  preSummap = {}\n",
    "  sum_ = 0\n",
    "  maxi = 0  \n",
    "  for i in range(n):\n",
    "    sum_ += nums[i]\n",
    "    \n",
    "    if sum_ == k :\n",
    "      maxi = max(maxi, i+1)\n",
    "      \n",
    "    rem = sum_ - k\n",
    "    \n",
    "    if rem in preSummap:\n",
    "      length = i - preSummap[rem]\n",
    "      maxi = max(maxi , length)\n",
    "      \n",
    "    if rem not in preSummap:\n",
    "      preSummap[sum_] = i\n",
    "    print(preSummap)  \n",
    "  return maxi\n",
    "nums = [2, 3, 5, 1, 9]\n",
    "k = 10\n",
    "\n",
    "length = longestSubArray(nums, k)\n",
    "print(f\"The length of the longest subarray is: {length}\")\n"
   ]
  },
  {
   "cell_type": "markdown",
   "metadata": {},
   "source": [
    "- now for best in case of positive and zero hum kya karenge ki hum left se right jayenge and then we will check at each i is the sum is greater than k \n",
    "- if yes than hum left se ek ek trim karenge ....so it is like pehle aage jao and piche ka kat do aur barabar kardo sum ke ...\n",
    "- go ahead trim from the left , go ahead trim from the left\n",
    "- we will be using two pointer\n"
   ]
  },
  {
   "cell_type": "code",
   "execution_count": null,
   "metadata": {},
   "outputs": [
    {
     "name": "stdout",
     "output_type": "stream",
     "text": [
      "4\n"
     ]
    }
   ],
   "source": [
    "# TC - O(2N) because andar wala while loop har bar pura nahi chal raha hai ...thoda hi chalta hai like one or two places in each pass and overall you can assume it to be moving N times at worst case\n",
    "# SC - O(1)\n",
    "def longestSubArray(nums , k):\n",
    "  left = 0\n",
    "  right = 0\n",
    "  n= len(nums)\n",
    "  Sum = nums[0]\n",
    "  maxLength = 0\n",
    " \n",
    "  while right < n:\n",
    "    while (left <= right and Sum > k):\n",
    "      Sum -= nums[left]\n",
    "      left +=1\n",
    "    if Sum == k:\n",
    "      maxLength = max(maxLength,right-left+1)\n",
    "    right +=1\n",
    "    if (right < n) :\n",
    "      Sum += nums[right]\n",
    "  \n",
    "  return maxLength\n",
    "\n",
    "\n",
    "arr = [10, 5, 2, 7, 1, 9]\n",
    "k = 15\n",
    "result = longestSubArray(arr, k)\n",
    "print(result)"
   ]
  },
  {
   "cell_type": "code",
   "execution_count": null,
   "metadata": {},
   "outputs": [],
   "source": []
  }
 ],
 "metadata": {
  "kernelspec": {
   "display_name": "Python 3",
   "language": "python",
   "name": "python3"
  },
  "language_info": {
   "codemirror_mode": {
    "name": "ipython",
    "version": 3
   },
   "file_extension": ".py",
   "mimetype": "text/x-python",
   "name": "python",
   "nbconvert_exporter": "python",
   "pygments_lexer": "ipython3",
   "version": "3.12.0"
  }
 },
 "nbformat": 4,
 "nbformat_minor": 2
}
