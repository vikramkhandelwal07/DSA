{
 "cells": [
  {
   "cell_type": "code",
   "execution_count": 2,
   "metadata": {},
   "outputs": [],
   "source": [
    "from collections import deque\n",
    "class TreeNode:\n",
    "  def __init__(self,val = 0, left = None, right = None):\n",
    "    self.val = val\n",
    "    self.left = left\n",
    "    self.right = right\n",
    "    \n",
    "class Solution:\n",
    "  def kthLevel(self,root,k):\n",
    "    if not root:\n",
    "      return None\n",
    "    level = 1\n",
    "    queue = deque([root])\n",
    "    while queue:\n",
    "      size = len(queue)\n",
    "      for i in range(size):\n",
    "        node = queue.popleft()\n",
    "        if level == k:\n",
    "          print(node.val, end=\" \")\n",
    "        if node.left:\n",
    "          queue.append(node.left)\n",
    "        if node.right:\n",
    "          queue.append(node.right)\n",
    "          \n",
    "      print()\n",
    "      level +=1\n",
    "      \n",
    "      \n"
   ]
  },
  {
   "cell_type": "code",
   "execution_count": 6,
   "metadata": {},
   "outputs": [
    {
     "name": "stdout",
     "output_type": "stream",
     "text": [
      "2 3\n",
      "None\n"
     ]
    }
   ],
   "source": [
    "# Example Usage:\n",
    "# Constructing the tree:\n",
    "#         1\n",
    "#        / \\\n",
    "#       2   3\n",
    "#      / \\   \\\n",
    "#     4   5   6\n",
    "root = TreeNode(1)\n",
    "root.left = TreeNode(2)\n",
    "root.right = TreeNode(3)\n",
    "root.left.left = TreeNode(4)\n",
    "root.left.right = TreeNode(5)\n",
    "root.right.right = TreeNode(6)\n",
    "\n",
    "sol = Solution()\n",
    "print(sol.kthLevel(root,2))\n"
   ]
  },
  {
   "cell_type": "code",
   "execution_count": 4,
   "metadata": {},
   "outputs": [],
   "source": [
    "from collections import deque\n",
    "\n",
    "class TreeNode:\n",
    "    def __init__(self, val=0, left=None, right=None):\n",
    "        self.val = val\n",
    "        self.left = left\n",
    "        self.right = right\n",
    "\n",
    "class Solution:\n",
    "    def kthLevel(self, root, k):\n",
    "        if not root:\n",
    "            return \n",
    "        \n",
    "        queue = deque([root])\n",
    "        level = 1\n",
    "        \n",
    "        while queue:\n",
    "            if level == k:\n",
    "                print(\" \".join(str(node.val) for node in queue))\n",
    "                return\n",
    "            \n",
    "            for _ in range(len(queue)):  # Process all nodes at the current level\n",
    "                node = queue.popleft()\n",
    "                if node.left:\n",
    "                    queue.append(node.left)\n",
    "                if node.right:\n",
    "                    queue.append(node.right)\n",
    "            \n",
    "            level += 1\n"
   ]
  },
  {
   "cell_type": "code",
   "execution_count": 5,
   "metadata": {},
   "outputs": [
    {
     "name": "stdout",
     "output_type": "stream",
     "text": [
      "4 5 6\n",
      "None\n"
     ]
    }
   ],
   "source": [
    "# Example Usage:\n",
    "# Constructing the tree:\n",
    "#         1\n",
    "#        / \\\n",
    "#       2   3\n",
    "#      / \\   \\\n",
    "#     4   5   6\n",
    "root = TreeNode(1)\n",
    "root.left = TreeNode(2)\n",
    "root.right = TreeNode(3)\n",
    "root.left.left = TreeNode(4)\n",
    "root.left.right = TreeNode(5)\n",
    "root.right.right = TreeNode(6)\n",
    "\n",
    "sol = Solution()\n",
    "print(sol.kthLevel(root,3))\n"
   ]
  },
  {
   "cell_type": "code",
   "execution_count": 7,
   "metadata": {},
   "outputs": [],
   "source": [
    "from collections import deque\n",
    "\n",
    "class TreeNode:\n",
    "    def __init__(self, val=0, left=None, right=None):\n",
    "        self.val = val\n",
    "        self.left = left\n",
    "        self.right = right\n",
    "\n",
    "class Solution:\n",
    "    def kthLevel(self, root, k):\n",
    "        if not root:\n",
    "            return []\n",
    "        \n",
    "        queue = deque([root])\n",
    "        level = 1\n",
    "        \n",
    "        while queue:\n",
    "            if level == k:\n",
    "                return [node.val for node in queue]  # Return the values instead of printing\n",
    "            \n",
    "            for _ in range(len(queue)):  # Process all nodes at the current level\n",
    "                node = queue.popleft()\n",
    "                if node.left:\n",
    "                    queue.append(node.left)\n",
    "                if node.right:\n",
    "                    queue.append(node.right)\n",
    "            \n",
    "            level += 1\n",
    "        \n",
    "        return []  # Return an empty list if k is greater than the depth of the tree\n"
   ]
  },
  {
   "cell_type": "code",
   "execution_count": 8,
   "metadata": {},
   "outputs": [
    {
     "name": "stdout",
     "output_type": "stream",
     "text": [
      "[4, 5, 6]\n"
     ]
    }
   ],
   "source": [
    "# Example Usage:\n",
    "# Constructing the tree:\n",
    "#         1\n",
    "#        / \\\n",
    "#       2   3\n",
    "#      / \\   \\\n",
    "#     4   5   6\n",
    "root = TreeNode(1)\n",
    "root.left = TreeNode(2)\n",
    "root.right = TreeNode(3)\n",
    "root.left.left = TreeNode(4)\n",
    "root.left.right = TreeNode(5)\n",
    "root.right.right = TreeNode(6)\n",
    "\n",
    "sol = Solution()\n",
    "print(sol.kthLevel(root,3))\n"
   ]
  },
  {
   "cell_type": "markdown",
   "metadata": {},
   "source": [
    "## Recursive code"
   ]
  },
  {
   "cell_type": "code",
   "execution_count": null,
   "metadata": {},
   "outputs": [
    {
     "name": "stdout",
     "output_type": "stream",
     "text": [
      "[4, 5, 6]\n"
     ]
    }
   ],
   "source": [
    "class TreeNode:\n",
    "    def __init__(self, val=0, left=None, right=None):\n",
    "        self.val = val\n",
    "        self.left = left\n",
    "        self.right = right\n",
    "\n",
    "class Solution:\n",
    "    def kthLevel(self, root, k, level=1):\n",
    "        if not root:\n",
    "            return []\n",
    "        \n",
    "        if level == k:\n",
    "            return [root.val]  # Return a list with the current node's value\n",
    "        \n",
    "        left_values = self.kthLevel(root.left, k, level + 1)\n",
    "        right_values = self.kthLevel(root.right, k, level + 1)\n",
    "        \n",
    "        return left_values + right_values  # Concatenate results from left and right subtrees\n",
    "\n",
    "# Sample Tree:\n",
    "#        1\n",
    "#       / \\\n",
    "#      2   3\n",
    "#     /|    \\\n",
    "#    4 5     6\n",
    "\n",
    "root = TreeNode(1)\n",
    "root.left = TreeNode(2)\n",
    "root.right = TreeNode(3)\n",
    "root.left.left = TreeNode(4)\n",
    "root.left.right = TreeNode(5)\n",
    "root.right.right = TreeNode(6)\n",
    "\n",
    "sol = Solution()\n",
    "print(sol.kthLevel(root, 3))  # Output: [4, 5, 6]\n"
   ]
  },
  {
   "cell_type": "code",
   "execution_count": null,
   "metadata": {},
   "outputs": [],
   "source": []
  }
 ],
 "metadata": {
  "kernelspec": {
   "display_name": "Python 3",
   "language": "python",
   "name": "python3"
  },
  "language_info": {
   "codemirror_mode": {
    "name": "ipython",
    "version": 3
   },
   "file_extension": ".py",
   "mimetype": "text/x-python",
   "name": "python",
   "nbconvert_exporter": "python",
   "pygments_lexer": "ipython3",
   "version": "3.12.0"
  }
 },
 "nbformat": 4,
 "nbformat_minor": 2
}
