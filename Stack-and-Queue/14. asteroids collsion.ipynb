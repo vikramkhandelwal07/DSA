{
 "cells": [
  {
   "cell_type": "code",
   "execution_count": null,
   "metadata": {},
   "outputs": [],
   "source": []
  },
  {
   "cell_type": "code",
   "execution_count": 3,
   "metadata": {},
   "outputs": [
    {
     "name": "stdout",
     "output_type": "stream",
     "text": [
      "Array after collision: [5, 10]\n",
      "Array after collision: [10]\n",
      "Array after collision: [-2, -1, 1, 2]\n"
     ]
    }
   ],
   "source": [
    "def collision(asteroids):\n",
    "  stack = []\n",
    "  \n",
    "  for asteroid in asteroids:\n",
    "    while stack and stack[-1] > 0 and asteroid < 0:\n",
    "      if stack[-1] < abs(asteroid):  # Stack asteroid explodes\n",
    "        stack.pop()\n",
    "        continue\n",
    "      elif stack[-1] == abs(asteroid):  # Both explode\n",
    "        stack.pop()\n",
    "      break  # Current asteroid explodes\n",
    "    else:\n",
    "      stack.append(asteroid)  # Surviving asteroid\n",
    "\n",
    "  return stack\n",
    "\n",
    "# Test cases\n",
    "print(f\"Array after collision: {collision([5,10,-5])}\")   # Output: [5,10]\n",
    "print(f\"Array after collision: {collision([10,2,-5])}\")   # Output: [10]\n",
    "print(f\"Array after collision: {collision([-2,-1,1,2])}\") # Output: [-2,-1,1,2]\n"
   ]
  },
  {
   "cell_type": "code",
   "execution_count": null,
   "metadata": {},
   "outputs": [],
   "source": []
  }
 ],
 "metadata": {
  "kernelspec": {
   "display_name": "Python 3",
   "language": "python",
   "name": "python3"
  },
  "language_info": {
   "codemirror_mode": {
    "name": "ipython",
    "version": 3
   },
   "file_extension": ".py",
   "mimetype": "text/x-python",
   "name": "python",
   "nbconvert_exporter": "python",
   "pygments_lexer": "ipython3",
   "version": "3.12.0"
  }
 },
 "nbformat": 4,
 "nbformat_minor": 2
}
