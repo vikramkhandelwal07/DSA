{
 "cells": [
  {
   "cell_type": "code",
   "execution_count": null,
   "metadata": {},
   "outputs": [
    {
     "name": "stdout",
     "output_type": "stream",
     "text": [
      "[35, 35, 1, 10, 34, 1, 12]\n"
     ]
    }
   ],
   "source": [
    "# rotate array by 1 place left\n",
    "# brute\n",
    "def arrayrotate(arr):\n",
    "  x = arr[0]\n",
    "  arr.remove(x)\n",
    "  arr.append(x)\n",
    "  \n",
    "  return arr\n",
    "\n",
    "arr = [12, 35, 35, 1, 10, 34 ,1]\n",
    "result = arrayrotate(arr)\n",
    "print(result)\n",
    "  "
   ]
  },
  {
   "cell_type": "code",
   "execution_count": 9,
   "metadata": {},
   "outputs": [
    {
     "name": "stdout",
     "output_type": "stream",
     "text": [
      "[3, 4, 5, 6, 7, 8, 1]\n"
     ]
    }
   ],
   "source": [
    "#  rotate array by 1 place left\n",
    "# brute\n",
    "def arrayrotate(arr):\n",
    " for i in range(len(arr)):\n",
    "   \n",
    "   arr.append(arr[0])\n",
    "   arr.remove(arr[0])\n",
    "   \n",
    "   return arr\n",
    "arr = [1,3,4,5,6,7,8]\n",
    "result = arrayrotate(arr)\n",
    "print(result)\n",
    "  "
   ]
  },
  {
   "cell_type": "code",
   "execution_count": null,
   "metadata": {},
   "outputs": [
    {
     "name": "stdout",
     "output_type": "stream",
     "text": [
      "[3, 4, 5, 6, 7, 8, 3]\n"
     ]
    }
   ],
   "source": [
    "def arrayrotate(arr):\n",
    "  temp = arr[0]\n",
    "  for i in range(1,len(arr)):\n",
    "    arr[i-1] = arr[i]\n",
    "  arr[len(arr)-1] = temp\n",
    "  \n",
    "  return arr\n",
    "  \n",
    "  \n",
    "arr = [1,3,4,5,6,7,8]\n",
    "result = arrayrotate(arr)\n",
    "print(result) "
   ]
  },
  {
   "cell_type": "code",
   "execution_count": null,
   "metadata": {},
   "outputs": [],
   "source": [
    "def rotateArray(arr,d):\n",
    "  "
   ]
  }
 ],
 "metadata": {
  "kernelspec": {
   "display_name": "Python 3",
   "language": "python",
   "name": "python3"
  },
  "language_info": {
   "codemirror_mode": {
    "name": "ipython",
    "version": 3
   },
   "file_extension": ".py",
   "mimetype": "text/x-python",
   "name": "python",
   "nbconvert_exporter": "python",
   "pygments_lexer": "ipython3",
   "version": "3.12.0"
  }
 },
 "nbformat": 4,
 "nbformat_minor": 2
}
