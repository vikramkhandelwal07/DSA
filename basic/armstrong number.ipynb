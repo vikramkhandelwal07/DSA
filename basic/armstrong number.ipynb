{
 "cells": [
  {
   "cell_type": "markdown",
   "metadata": {},
   "source": [
    "# armstrong number "
   ]
  },
  {
   "cell_type": "code",
   "execution_count": 8,
   "metadata": {},
   "outputs": [
    {
     "name": "stdout",
     "output_type": "stream",
     "text": [
      "is an Armstrong number\n"
     ]
    }
   ],
   "source": [
    "class Solution:\n",
    "    def isArmstrong(self, x):\n",
    "        original_x = x  # Store the original value of x\n",
    "        sum_ = 0\n",
    "        while x > 0:\n",
    "            digit = x % 10\n",
    "            sum_ += digit ** 3  # Add the cube of the digit\n",
    "            x = x // 10  # Move to the next digit\n",
    "        \n",
    "        # Compare the sum of cubes with the original number\n",
    "        if sum_ == original_x:\n",
    "            return \"is an Armstrong number\"\n",
    "        else:\n",
    "            return \"not an Armstrong number\"\n",
    "\n",
    "obj = Solution()\n",
    "n = int(input(\"Enter the number: \"))\n",
    "print(obj.isArmstrong(n))\n"
   ]
  },
  {
   "cell_type": "code",
   "execution_count": null,
   "metadata": {},
   "outputs": [],
   "source": []
  }
 ],
 "metadata": {
  "kernelspec": {
   "display_name": "Python 3",
   "language": "python",
   "name": "python3"
  },
  "language_info": {
   "codemirror_mode": {
    "name": "ipython",
    "version": 3
   },
   "file_extension": ".py",
   "mimetype": "text/x-python",
   "name": "python",
   "nbconvert_exporter": "python",
   "pygments_lexer": "ipython3",
   "version": "3.12.0"
  }
 },
 "nbformat": 4,
 "nbformat_minor": 2
}
