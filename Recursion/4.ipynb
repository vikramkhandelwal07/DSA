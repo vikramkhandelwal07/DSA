{
 "cells": [
  {
   "cell_type": "markdown",
   "metadata": {},
   "source": [
    "#### reverse simple"
   ]
  },
  {
   "cell_type": "code",
   "execution_count": 1,
   "metadata": {},
   "outputs": [
    {
     "data": {
      "text/plain": [
       "[5, 4, 3, 2, 1]"
      ]
     },
     "execution_count": 1,
     "metadata": {},
     "output_type": "execute_result"
    }
   ],
   "source": [
    "def reverse(nums):\n",
    "  i = 0\n",
    "  n = len(nums)\n",
    "  j = n-1\n",
    "  while ( i < j):\n",
    "    nums[i],nums[j] = nums[j],nums[i]\n",
    "    i+=1\n",
    "    j-=1\n",
    "  return nums\n",
    "\n",
    "nums = [1,2,3,4,5]\n",
    "reverse(nums)"
   ]
  },
  {
   "cell_type": "markdown",
   "metadata": {},
   "source": [
    "#### Reverse an Array using Recursion"
   ]
  },
  {
   "cell_type": "code",
   "execution_count": 8,
   "metadata": {},
   "outputs": [
    {
     "data": {
      "text/plain": [
       "[3, 1, 3, 5, 4, 2]"
      ]
     },
     "execution_count": 8,
     "metadata": {},
     "output_type": "execute_result"
    }
   ],
   "source": [
    "def reverseArrayRecursion(l,r,nums):\n",
    "  if l < r:\n",
    "    nums[l],nums[r] = nums[r],nums[l]\n",
    "    reverseArrayRecursion(l+1,r-1,nums)\n",
    "  \n",
    "  return nums\n",
    "\n",
    "\n",
    "nums = [2,4,5,3,1,3]\n",
    "l = 0\n",
    "n = len(nums)\n",
    "r = n-1\n",
    "reverseArrayRecursion(l,r,nums)"
   ]
  },
  {
   "cell_type": "markdown",
   "metadata": {},
   "source": [
    "#### check if the string is palindrome or not"
   ]
  },
  {
   "cell_type": "code",
   "execution_count": 16,
   "metadata": {},
   "outputs": [
    {
     "data": {
      "text/plain": [
       "True"
      ]
     },
     "execution_count": 16,
     "metadata": {},
     "output_type": "execute_result"
    }
   ],
   "source": [
    "def checkPalindrome(s):\n",
    "  if s == s[::-1]:\n",
    "    return True\n",
    "  else:\n",
    "    return False\n",
    "\n",
    "checkPalindrome(\"haah\")"
   ]
  },
  {
   "cell_type": "code",
   "execution_count": 22,
   "metadata": {},
   "outputs": [
    {
     "data": {
      "text/plain": [
       "True"
      ]
     },
     "execution_count": 22,
     "metadata": {},
     "output_type": "execute_result"
    }
   ],
   "source": [
    "def checkPalindrome(i,s):\n",
    "  if i > len(s)//2:\n",
    "    return True\n",
    "  if s[i] != s[len(s)-i-1]:\n",
    "    return False\n",
    "  return checkPalindrome(i+1,s)\n",
    "\n",
    "checkPalindrome(0,\"madsm\")\n",
    "checkPalindrome(0,\"madam\")"
   ]
  },
  {
   "cell_type": "code",
   "execution_count": null,
   "metadata": {},
   "outputs": [],
   "source": []
  }
 ],
 "metadata": {
  "kernelspec": {
   "display_name": "Python 3",
   "language": "python",
   "name": "python3"
  },
  "language_info": {
   "codemirror_mode": {
    "name": "ipython",
    "version": 3
   },
   "file_extension": ".py",
   "mimetype": "text/x-python",
   "name": "python",
   "nbconvert_exporter": "python",
   "pygments_lexer": "ipython3",
   "version": "3.12.0"
  }
 },
 "nbformat": 4,
 "nbformat_minor": 2
}
