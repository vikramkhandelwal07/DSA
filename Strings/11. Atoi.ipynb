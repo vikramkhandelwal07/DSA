{
 "cells": [
  {
   "cell_type": "code",
   "execution_count": null,
   "id": "03b2dc62",
   "metadata": {},
   "outputs": [
    {
     "ename": "",
     "evalue": "",
     "output_type": "error",
     "traceback": [
      "\u001b[1;31mFailed to start the Kernel. \n",
      "\u001b[1;31mThe kernel died. Error: ... View Jupyter <a href='command:jupyter.viewOutput'>log</a> for further details."
     ]
    }
   ],
   "source": [
    "def Atoi(s):\n",
    "    if not s:\n",
    "        return 0\n",
    "    \n",
    "    INT_MIN = -2**31 \n",
    "    INT_MAX = 2**31 -1\n",
    "    \n",
    "    i = 0\n",
    "    n = len(s)\n",
    "    \n",
    "    while i < n and s[i] == \" \":\n",
    "        i+=1\n",
    "    if i == n:\n",
    "        return 0\n",
    "    \n",
    "    sign = 1\n",
    "    if s[i] == \"+\":\n",
    "        i+=1\n",
    "    elif s[i] == \"-\":\n",
    "        sign = -1 \n",
    "        i+=1\n",
    "    \n",
    "    res = 0\n",
    "    while i < n and s[i].isdigit():\n",
    "        digit = int(s[i])\n",
    "        res  = res*10 + digit\n",
    "        \n",
    "        if sign * res <= INT_MIN:\n",
    "            return INT_MIN\n",
    "        if sign * res >= INT_MAX:\n",
    "            return INT_MAX\n",
    "        i+=1\n",
    "    return res * sign\n",
    "\n",
    "            "
   ]
  },
  {
   "cell_type": "code",
   "execution_count": null,
   "id": "6a7db6cb",
   "metadata": {},
   "outputs": [],
   "source": []
  }
 ],
 "metadata": {
  "kernelspec": {
   "display_name": "Python 3",
   "language": "python",
   "name": "python3"
  },
  "language_info": {
   "name": "python",
   "version": "3.12.0"
  }
 },
 "nbformat": 4,
 "nbformat_minor": 5
}
