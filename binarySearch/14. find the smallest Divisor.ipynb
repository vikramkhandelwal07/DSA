{
 "cells": [
  {
   "cell_type": "markdown",
   "metadata": {},
   "source": [
    "# 1283. Find the Smallest Divisor Given a Threshold\n",
    "\n",
    "## Problem Statement\n",
    "\n",
    "Given an array of integers `nums` and an integer `threshold`, we will choose a positive integer divisor, divide all the array by it, and sum the division's result. Find the smallest divisor such that the result mentioned above is less than or equal to `threshold`.\n",
    "\n",
    "Each result of the division is rounded to the nearest integer greater than or equal to that element. (For example: \\( \\lceil 7/3 \\rceil = 3 \\) and \\( \\lceil 10/2 \\rceil = 5 \\)).\n",
    "\n",
    "The test cases are generated so that there will be an answer.\n",
    "\n",
    "## Examples\n",
    "\n",
    "### Example 1\n",
    "\n",
    "**Input**: nums = [1,2,5,9], threshold = 6  \n",
    "**Output**: 5  \n",
    "**Explanation**: We can get a sum to 17 (1+2+5+9) if the divisor is 1. If the divisor is 4, we can get a sum of 7 (1+1+2+3), and if the divisor is 5, the sum will be 5 (1+1+1+2).  \n",
    "\n",
    "### Example 2\n",
    "\n",
    "**Input**: nums = [44,22,33,11,1], threshold = 5  \n",
    "**Output**: 44\n",
    "```\n"
   ]
  },
  {
   "cell_type": "code",
   "execution_count": 5,
   "metadata": {},
   "outputs": [],
   "source": [
    "\n",
    "import math\n",
    "\n",
    "\n",
    "def smallestDivisor( nums, threshold):\n",
    "  def calculateSum(nums, divisor):\n",
    "    sum_ = 0\n",
    "    for number in nums:\n",
    "      sum_ += math.ceil(number / divisor)\n",
    "    return sum_\n",
    "\n",
    "  low = 1\n",
    "  high = max(nums)\n",
    "  k = high\n",
    "\n",
    "  while low <= high:\n",
    "    mid = (low + high) // 2\n",
    "    if calculateSum(nums, mid) <= threshold:\n",
    "      k = mid  # Update the smallest valid divisor\n",
    "      high = mid - 1\n",
    "    else:\n",
    "      low = mid + 1\n",
    "\n",
    "  return k\n"
   ]
  },
  {
   "cell_type": "code",
   "execution_count": 6,
   "metadata": {},
   "outputs": [
    {
     "data": {
      "text/plain": [
       "5"
      ]
     },
     "execution_count": 6,
     "metadata": {},
     "output_type": "execute_result"
    }
   ],
   "source": [
    "nums = [1,2,5,9]\n",
    "threshold = 6\n",
    "smallestDivisor(nums,threshold)"
   ]
  },
  {
   "cell_type": "code",
   "execution_count": null,
   "metadata": {},
   "outputs": [],
   "source": []
  },
  {
   "cell_type": "code",
   "execution_count": null,
   "metadata": {},
   "outputs": [],
   "source": []
  }
 ],
 "metadata": {
  "kernelspec": {
   "display_name": "Python 3",
   "language": "python",
   "name": "python3"
  },
  "language_info": {
   "codemirror_mode": {
    "name": "ipython",
    "version": 3
   },
   "file_extension": ".py",
   "mimetype": "text/x-python",
   "name": "python",
   "nbconvert_exporter": "python",
   "pygments_lexer": "ipython3",
   "version": "3.12.0"
  }
 },
 "nbformat": 4,
 "nbformat_minor": 2
}
