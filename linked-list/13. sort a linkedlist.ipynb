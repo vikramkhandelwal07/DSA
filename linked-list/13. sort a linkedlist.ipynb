{
 "cells": [
  {
   "cell_type": "code",
   "execution_count": 1,
   "metadata": {},
   "outputs": [],
   "source": [
    "class Node:\n",
    "    def __init__(self, value):\n",
    "        self.value = value\n",
    "        self.next = None\n",
    "\n",
    "def array_to_linkedlist(array):\n",
    "    if not array:  # Handle empty array\n",
    "        return None\n",
    "    head = Node(array[0])\n",
    "    current = head\n",
    "    for value in array[1:]:\n",
    "        current.next = Node(value)\n",
    "        # print(current.next)\n",
    "        current = current.next\n",
    "    return head\n",
    "\n",
    "def display_linkedlist(head):\n",
    "    current = head\n",
    "    while current:\n",
    "        print(current.value, end=\" -> \")\n",
    "        current = current.next\n"
   ]
  },
  {
   "cell_type": "markdown",
   "metadata": {},
   "source": [
    "## Brute force\n",
    "- TC O(n+nlogn+n)\n",
    "- SC O(n)"
   ]
  },
  {
   "cell_type": "code",
   "execution_count": 2,
   "metadata": {},
   "outputs": [],
   "source": [
    "def sortLinkedList(head):\n",
    "  current = head\n",
    "  array = []\n",
    "  while current:\n",
    "    array.append(current.value)\n",
    "    current = current.next\n",
    "    \n",
    "  array = sorted(array)\n",
    "  current = head\n",
    "  for num in array:\n",
    "    current.value = num\n",
    "    current = current.next\n",
    "  \n",
    "  return head"
   ]
  },
  {
   "cell_type": "code",
   "execution_count": 6,
   "metadata": {},
   "outputs": [
    {
     "name": "stdout",
     "output_type": "stream",
     "text": [
      "head: 1\n",
      "1 -> 1 -> 2 -> 4 -> 5 -> 6 -> "
     ]
    }
   ],
   "source": [
    "\n",
    "array = [1, 2, 4, 1, 6, 5]\n",
    "head = array_to_linkedlist(array)\n",
    "\n",
    "print(\"head:\",head.value)\n",
    "\n",
    "head = sortLinkedList(head)\n",
    "display_linkedlist(head)"
   ]
  },
  {
   "cell_type": "markdown",
   "metadata": {},
   "source": [
    "## Optimal Code using merge sort"
   ]
  },
  {
   "cell_type": "code",
   "execution_count": null,
   "metadata": {},
   "outputs": [],
   "source": []
  },
  {
   "cell_type": "code",
   "execution_count": 15,
   "metadata": {},
   "outputs": [
    {
     "name": "stdout",
     "output_type": "stream",
     "text": [
      "Original Linked List: 3 -> 2 -> 5 -> 4 -> 1 -> None\n",
      "Sorted Linked List: 1 -> 2 -> 3 -> 4 -> 5 -> None\n"
     ]
    }
   ],
   "source": [
    "\n",
    "\n",
    "class Node:\n",
    "    def __init__(self, data):\n",
    "        self.data = data\n",
    "        self.next = None\n",
    "\n",
    "def display_linkedlist(head):\n",
    "    while head:\n",
    "        print(head.data, end=\" -> \")\n",
    "        head = head.next\n",
    "    print(\"None\")\n",
    "\n",
    "def findMiddle(head):\n",
    "    slow, fast = head, head\n",
    "    prev = None  \n",
    "    while fast and fast.next:\n",
    "        prev = slow\n",
    "        slow = slow.next\n",
    "        fast = fast.next.next\n",
    "    if prev:\n",
    "        prev.next = None  \n",
    "    return slow\n",
    "\n",
    "def mergeTwoSortedLinkedLists(list1, list2):\n",
    "    dummyNode = Node(-1)\n",
    "    temp = dummyNode\n",
    "\n",
    "    while list1 and list2:\n",
    "        if list1.data <= list2.data:\n",
    "            temp.next = list1\n",
    "            list1 = list1.next\n",
    "        else:\n",
    "            temp.next = list2\n",
    "            list2 = list2.next\n",
    "        temp = temp.next\n",
    "\n",
    "    temp.next = list1 if list1 else list2\n",
    "    return dummyNode.next\n",
    "\n",
    "def SortedListMergeSort(head):\n",
    "    if not head or not head.next:\n",
    "        return head\n",
    "\n",
    "    middle = findMiddle(head)\n",
    "    leftHalf = SortedListMergeSort(head)\n",
    "    rightHalf = SortedListMergeSort(middle)\n",
    "\n",
    "    return mergeTwoSortedLinkedLists(leftHalf, rightHalf)\n",
    "\n",
    "# Create the linked list\n",
    "head = Node(3)\n",
    "head.next = Node(2)\n",
    "head.next.next = Node(5)\n",
    "head.next.next.next = Node(4)\n",
    "head.next.next.next.next = Node(1)\n",
    "\n",
    "print(\"Original Linked List: \", end=\"\")\n",
    "display_linkedlist(head)\n",
    "\n",
    "# Sort the linked list\n",
    "head = SortedListMergeSort(head)\n",
    "\n",
    "print(\"Sorted Linked List: \", end=\"\")\n",
    "display_linkedlist(head)\n"
   ]
  },
  {
   "cell_type": "code",
   "execution_count": null,
   "metadata": {},
   "outputs": [],
   "source": []
  },
  {
   "cell_type": "code",
   "execution_count": null,
   "metadata": {},
   "outputs": [],
   "source": []
  }
 ],
 "metadata": {
  "kernelspec": {
   "display_name": "Python 3",
   "language": "python",
   "name": "python3"
  },
  "language_info": {
   "codemirror_mode": {
    "name": "ipython",
    "version": 3
   },
   "file_extension": ".py",
   "mimetype": "text/x-python",
   "name": "python",
   "nbconvert_exporter": "python",
   "pygments_lexer": "ipython3",
   "version": "3.12.0"
  }
 },
 "nbformat": 4,
 "nbformat_minor": 2
}
