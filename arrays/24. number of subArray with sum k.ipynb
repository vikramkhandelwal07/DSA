{
 "cells": [
  {
   "cell_type": "code",
   "execution_count": 4,
   "metadata": {},
   "outputs": [
    {
     "name": "stdout",
     "output_type": "stream",
     "text": [
      "2\n"
     ]
    }
   ],
   "source": [
    "def NoOfSubArray(nums, k):\n",
    "    n = len(nums)\n",
    "    dic1 = {0: 1} \n",
    "    preSum = 0\n",
    "    cnt = 0\n",
    "\n",
    "    for i in range(n):\n",
    "        preSum += nums[i]\n",
    "        rem = preSum - k\n",
    "\n",
    "        if rem in dic1:\n",
    "            cnt += dic1[rem]\n",
    "\n",
    "        if preSum in dic1:\n",
    "            dic1[preSum] += 1\n",
    "        else:\n",
    "            dic1[preSum] = 1\n",
    "\n",
    "    return cnt\n",
    "\n",
    "nums = [1, 1, 1]\n",
    "k = 2\n",
    "o = NoOfSubArray(nums, k)\n",
    "print(o)  \n"
   ]
  },
  {
   "cell_type": "code",
   "execution_count": null,
   "metadata": {},
   "outputs": [],
   "source": []
  }
 ],
 "metadata": {
  "kernelspec": {
   "display_name": "Python 3",
   "language": "python",
   "name": "python3"
  },
  "language_info": {
   "codemirror_mode": {
    "name": "ipython",
    "version": 3
   },
   "file_extension": ".py",
   "mimetype": "text/x-python",
   "name": "python",
   "nbconvert_exporter": "python",
   "pygments_lexer": "ipython3",
   "version": "3.12.0"
  }
 },
 "nbformat": 4,
 "nbformat_minor": 2
}
