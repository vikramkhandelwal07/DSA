{
 "cells": [
  {
   "cell_type": "markdown",
   "metadata": {},
   "source": [
    "geneally 4 types of problems in this topic\n",
    "#### 1st. constant k"
   ]
  },
  {
   "cell_type": "code",
   "execution_count": 1,
   "metadata": {},
   "outputs": [
    {
     "name": "stdout",
     "output_type": "stream",
     "text": [
      "15\n"
     ]
    }
   ],
   "source": [
    "\n",
    "def maxSum(nums,k):\n",
    "  n = len(nums)\n",
    "  l = 0\n",
    "  r = k-1\n",
    "  maxSumation = 0\n",
    "  while r <=n:\n",
    "    summation = sum(nums[l:r+1])\n",
    "    if summation > maxSumation:\n",
    "      maxSumation = summation\n",
    "    else:\n",
    "      l+=1\n",
    "      r+=1\n",
    "  \n",
    "  return maxSumation \n",
    "\n",
    "nums = [-1,2,3,3,4,5,-1]\n",
    "k = 4\n",
    "result = maxSum(nums,k)\n",
    "print(result)\n"
   ]
  },
  {
   "cell_type": "markdown",
   "metadata": {},
   "source": [
    "2nd longest subarray/subString where `<condition>`\n",
    "- brute force\n",
    "- better\n",
    "- optimal\n"
   ]
  },
  {
   "cell_type": "markdown",
   "metadata": {},
   "source": [
    "- longest subarray with sum<=k\n",
    "- TC-O(2N)\n",
    "- SC-O(1)"
   ]
  },
  {
   "cell_type": "code",
   "execution_count": 3,
   "metadata": {},
   "outputs": [
    {
     "name": "stdout",
     "output_type": "stream",
     "text": [
      "3\n"
     ]
    }
   ],
   "source": [
    "def longestSubarray(nums,k):\n",
    "  l = 0\n",
    "  r = 0\n",
    "  n = len(nums)\n",
    "  summation = 0\n",
    "  maxlength = 0\n",
    "  while r <n:\n",
    "    summation +=nums[r]\n",
    "    while summation > k:\n",
    "      summation -= nums[l]\n",
    "      l+=1\n",
    "    if summation <= k :\n",
    "      maxlength = max(maxlength,r-l+1)\n",
    "    r+=1\n",
    "    \n",
    "  return maxlength \n",
    "    \n",
    "\n",
    "nums = [2,5,1,10,12]\n",
    "k = 15\n",
    "output = longestSubarray(nums,k)\n",
    "print(output)"
   ]
  },
  {
   "cell_type": "code",
   "execution_count": 4,
   "metadata": {},
   "outputs": [
    {
     "name": "stdout",
     "output_type": "stream",
     "text": [
      "v\n",
      "i\n",
      "k\n",
      "r\n",
      "a\n",
      "m\n"
     ]
    }
   ],
   "source": [
    "s = \"vikram\"\n",
    "for ch in s:\n",
    "  print(ch)"
   ]
  },
  {
   "cell_type": "markdown",
   "metadata": {},
   "source": [
    "so humne kya socha ki ek humko 3 length mil gayi hai so why reduce it further to 2 or something less so hum kya karenge rather tahn going l+=1 again and again mai sirf ek hi bar +1 karunga so that meri utni length toh bani rahe \n",
    "- but ye sirf ye question jhaa sirf length puchi hai agar max element pucha hota toh hume pura wo while loop ke sath hi karna padta iss question mai esa pucha tha agar durse questions mai kuch alag pucha hotoh kuch alag bhi akrna pad sakta hai \n"
   ]
  },
  {
   "cell_type": "markdown",
   "metadata": {},
   "source": [
    "- longest subarray with sum<=k\n",
    "- TC-O(N)\n",
    "- SC-O(1)"
   ]
  },
  {
   "cell_type": "code",
   "execution_count": 1,
   "metadata": {},
   "outputs": [
    {
     "name": "stdout",
     "output_type": "stream",
     "text": [
      "3\n"
     ]
    }
   ],
   "source": [
    "def longestSubarray(nums,k):\n",
    "  l = 0\n",
    "  r = 0\n",
    "  n = len(nums)\n",
    "  summation = 0\n",
    "  maxlength = 0\n",
    "  while r <n:\n",
    "    summation +=nums[r]\n",
    "    if summation > k: #just changed while with if\n",
    "      summation -= nums[l]\n",
    "      l+=1\n",
    "    if summation <= k :\n",
    "      maxlength = max(maxlength,r-l+1)\n",
    "    r+=1\n",
    "    \n",
    "  return maxlength \n",
    "    \n",
    "\n",
    "nums = [2,5,1,10,12]\n",
    "k = 15\n",
    "output = longestSubarray(nums,k)\n",
    "print(output)"
   ]
  },
  {
   "cell_type": "markdown",
   "metadata": {},
   "source": [
    "- 3nd number subarray/subString where `<condition>` and these are also solved using 2nd type problem\n",
    "- 4th finding the shortest/minimum window  where `<condition>`\n"
   ]
  },
  {
   "cell_type": "code",
   "execution_count": 1,
   "metadata": {},
   "outputs": [
    {
     "data": {
      "text/plain": [
       "14"
      ]
     },
     "execution_count": 1,
     "metadata": {},
     "output_type": "execute_result"
    }
   ],
   "source": [
    "arr =[ 2,3,4,5]\n",
    "sum(arr)"
   ]
  },
  {
   "cell_type": "code",
   "execution_count": null,
   "metadata": {},
   "outputs": [],
   "source": []
  }
 ],
 "metadata": {
  "kernelspec": {
   "display_name": "Python 3",
   "language": "python",
   "name": "python3"
  },
  "language_info": {
   "codemirror_mode": {
    "name": "ipython",
    "version": 3
   },
   "file_extension": ".py",
   "mimetype": "text/x-python",
   "name": "python",
   "nbconvert_exporter": "python",
   "pygments_lexer": "ipython3",
   "version": "3.12.0"
  }
 },
 "nbformat": 4,
 "nbformat_minor": 2
}
