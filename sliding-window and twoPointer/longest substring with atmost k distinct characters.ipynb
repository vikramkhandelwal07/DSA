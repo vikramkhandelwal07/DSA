{
 "cells": [
  {
   "cell_type": "code",
   "execution_count": 8,
   "metadata": {},
   "outputs": [
    {
     "name": "stdout",
     "output_type": "stream",
     "text": [
      "5\n"
     ]
    }
   ],
   "source": [
    "def longestSubstrings(s, k):\n",
    "    mpp = {}\n",
    "    n = len(s)\n",
    "    maxlength = 0\n",
    "    l = 0\n",
    "\n",
    "    for r in range(n):\n",
    "        mpp[s[r]] = mpp.get(s[r], 0) + 1\n",
    "\n",
    "        if len(mpp) > k:\n",
    "            mpp[s[l]] -= 1\n",
    "            if mpp[s[l]] == 0:\n",
    "                del mpp[s[l]]\n",
    "            l += 1  \n",
    "\n",
    "        maxlength = max(maxlength, r - l + 1)\n",
    "\n",
    "    return maxlength\n",
    "\n",
    "# Test\n",
    "s = \"baaacabbccacadd\"\n",
    "k = 2\n",
    "print(longestSubstrings(s, k))  \n"
   ]
  },
  {
   "cell_type": "code",
   "execution_count": null,
   "metadata": {},
   "outputs": [],
   "source": [
    "\n",
    "    "
   ]
  }
 ],
 "metadata": {
  "kernelspec": {
   "display_name": "Python 3",
   "language": "python",
   "name": "python3"
  },
  "language_info": {
   "codemirror_mode": {
    "name": "ipython",
    "version": 3
   },
   "file_extension": ".py",
   "mimetype": "text/x-python",
   "name": "python",
   "nbconvert_exporter": "python",
   "pygments_lexer": "ipython3",
   "version": "3.12.0"
  }
 },
 "nbformat": 4,
 "nbformat_minor": 2
}
