{
 "cells": [
  {
   "cell_type": "markdown",
   "metadata": {},
   "source": [
    "# Left rotate by D places \n"
   ]
  },
  {
   "cell_type": "code",
   "execution_count": 13,
   "metadata": {},
   "outputs": [
    {
     "name": "stdout",
     "output_type": "stream",
     "text": [
      "[4, 5, 6, 7, 1, 2, 3]\n"
     ]
    }
   ],
   "source": [
    "def rotateArray(arr, n, d):\n",
    "    # To handle cases where d is greater than n\n",
    "    d = d % n\n",
    "    # Slice and concatenate the array\n",
    "    return arr[d:] + arr[:d]\n",
    "\n",
    "arr = [1, 2, 3, 4, 5,6,7]\n",
    "n = len(arr)\n",
    "d = int(input(\"Enter number of elements to rotate: \"))\n",
    "result = rotateArray(arr, n, d)\n",
    "print(result)\n"
   ]
  },
  {
   "cell_type": "code",
   "execution_count": 17,
   "metadata": {},
   "outputs": [
    {
     "name": "stdout",
     "output_type": "stream",
     "text": [
      "[5, 6, 7]\n",
      "[1, 2, 3, 4, 5, 6, 7]\n",
      "4\n",
      "3\n",
      "2\n",
      "1\n",
      "None\n"
     ]
    }
   ],
   "source": [
    "\n",
    "def rotate( num) -> None:\n",
    "    n = len(nums)\n",
    "    k = k % n  # To handle cases where k > n\n",
    "\n",
    "        # Step 1: Store the last 'k' elements in a temporary array\n",
    "    temp = nums[-k:]\n",
    "    print(temp)\n",
    "\n",
    "        # Step 2: Shift the remaining elements to the right\n",
    "    for i in range(n - 1, k - 1, -1):\n",
    "        nums[i] = nums[i - k]\n",
    "        ptint(nums[i])\n",
    "\n",
    "       \n",
    "    nums[:k] = temp\n",
    "\n",
    "arr = [1, 2, 3, 4, 5,6,7]\n",
    "n = len(arr)\n",
    "d = int(input(\"Enter number of elements to rotate: \"))\n",
    "result = rotate(arr, n, d)\n",
    "print(result)"
   ]
  },
  {
   "cell_type": "code",
   "execution_count": null,
   "metadata": {},
   "outputs": [],
   "source": []
  }
 ],
 "metadata": {
  "kernelspec": {
   "display_name": "Python 3",
   "language": "python",
   "name": "python3"
  },
  "language_info": {
   "codemirror_mode": {
    "name": "ipython",
    "version": 3
   },
   "file_extension": ".py",
   "mimetype": "text/x-python",
   "name": "python",
   "nbconvert_exporter": "python",
   "pygments_lexer": "ipython3",
   "version": "3.12.0"
  }
 },
 "nbformat": 4,
 "nbformat_minor": 2
}
