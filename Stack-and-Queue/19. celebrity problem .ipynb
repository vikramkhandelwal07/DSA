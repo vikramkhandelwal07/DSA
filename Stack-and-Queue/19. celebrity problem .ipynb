{
 "cells": [
  {
   "cell_type": "markdown",
   "metadata": {},
   "source": [
    "- TC - O(n^2) + O(N)\n",
    "- SC - O(2n)"
   ]
  },
  {
   "cell_type": "code",
   "execution_count": 9,
   "metadata": {},
   "outputs": [
    {
     "name": "stdout",
     "output_type": "stream",
     "text": [
      "1\n"
     ]
    }
   ],
   "source": [
    "def celeb(matrix):\n",
    "    n = len(matrix)\n",
    "    knowMe = [0] * n  \n",
    "    iknow = [0] * n  \n",
    "    \n",
    "    for i in range(n):\n",
    "      for j in range(n):\n",
    "        if matrix[i][j] == 1:\n",
    "          knowMe[j] += 1  \n",
    "          iknow[i] += 1   \n",
    "  \n",
    "    for i in range(n):\n",
    "      if iknow[i] == 0 and knowMe[i] == n - 1:\n",
    "        return i\n",
    "    \n",
    "    return -1  \n",
    "\n",
    "matrix1 = [\n",
    "    [0, 1, 0],  \n",
    "    [0, 0, 0],  \n",
    "    [0, 1, 0]   \n",
    "]\n",
    "print(celeb(matrix1))  # Expected Output: 1\n"
   ]
  },
  {
   "cell_type": "code",
   "execution_count": 10,
   "metadata": {},
   "outputs": [
    {
     "name": "stdout",
     "output_type": "stream",
     "text": [
      "Test Case 1: Pass\n",
      "Test Case 2: Pass\n",
      "Test Case 3: Pass\n",
      "Test Case 4: Pass\n",
      "Test Case 5: Pass\n"
     ]
    }
   ],
   "source": [
    "def test_celebrity():\n",
    "    test_cases = [\n",
    "        # Case 1: Celebrity at index 1\n",
    "        ([[0, 1, 0], \n",
    "          [0, 0, 0], \n",
    "          [0, 1, 0]], 1), \n",
    "\n",
    "        # Case 2: Celebrity at index 2\n",
    "        ([[0, 1, 1], \n",
    "          [0, 0, 1], \n",
    "          [0, 0, 0]], 2),  \n",
    "\n",
    "        # Case 3: No celebrity (everyone knows someone)\n",
    "        ([[0, 1, 0], \n",
    "          [1, 0, 0], \n",
    "          [0, 1, 0]], -1),  \n",
    "\n",
    "        # Case 4: Single person (trivially a celebrity)\n",
    "        ([[0]], 0),  \n",
    "\n",
    "        # Case 5: All know each other (no celebrity)\n",
    "        ([[0, 1, 1], \n",
    "          [1, 0, 1], \n",
    "          [1, 1, 0]], -1)\n",
    "    ]\n",
    "\n",
    "    for i, (matrix, expected) in enumerate(test_cases):\n",
    "        result = celeb(matrix)\n",
    "        print(f\"Test Case {i + 1}: {'Pass' if result == expected else 'Fail'}\")\n",
    "\n",
    "# Run the test cases\n",
    "test_celebrity()\n"
   ]
  },
  {
   "cell_type": "markdown",
   "metadata": {},
   "source": [
    "- Time Complexity: O(N)\n",
    "- O(N) for the candidate selection loop.\n",
    "- O(N) for the verification loop.\n",
    "- Space Complexity: O(1)\n",
    "- Uses only a few integer variables."
   ]
  },
  {
   "cell_type": "code",
   "execution_count": 18,
   "metadata": {},
   "outputs": [
    {
     "name": "stdout",
     "output_type": "stream",
     "text": [
      "1\n"
     ]
    }
   ],
   "source": [
    "def celebrity(matrix):\n",
    "  n = len(matrix)\n",
    "  top = 0\n",
    "  bottom = n - 1\n",
    "  \n",
    "  while top < bottom:\n",
    "    if matrix[top][bottom] == 1:\n",
    "      top += 1 \n",
    "    else:\n",
    "      bottom -= 1  \n",
    "\n",
    "  candidate = top\n",
    "  for i in range(n):\n",
    "    if i != candidate:\n",
    "      if matrix[candidate][i] == 1 or matrix[i][candidate] == 0:\n",
    "        return -1  \n",
    "\n",
    "  return candidate  \n",
    "\n",
    "\n",
    "matrix1 = [\n",
    "    [0, 1, 0],  \n",
    "    [0, 0, 0],  \n",
    "    [0, 1, 0]   \n",
    "]\n",
    "print(celebrity(matrix1))  # Expected Output: 1\n"
   ]
  },
  {
   "cell_type": "code",
   "execution_count": null,
   "metadata": {},
   "outputs": [],
   "source": []
  }
 ],
 "metadata": {
  "kernelspec": {
   "display_name": "Python 3",
   "language": "python",
   "name": "python3"
  },
  "language_info": {
   "codemirror_mode": {
    "name": "ipython",
    "version": 3
   },
   "file_extension": ".py",
   "mimetype": "text/x-python",
   "name": "python",
   "nbconvert_exporter": "python",
   "pygments_lexer": "ipython3",
   "version": "3.12.0"
  }
 },
 "nbformat": 4,
 "nbformat_minor": 2
}
