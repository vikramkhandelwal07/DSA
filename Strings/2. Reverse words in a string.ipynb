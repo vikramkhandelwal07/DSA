{
 "cells": [
  {
   "cell_type": "code",
   "execution_count": 1,
   "id": "53f56716",
   "metadata": {},
   "outputs": [
    {
     "data": {
      "text/plain": [
       "'color in blue is sky'"
      ]
     },
     "execution_count": 1,
     "metadata": {},
     "output_type": "execute_result"
    }
   ],
   "source": [
    "def reverseWord(s):\n",
    "    arr = s.split()\n",
    "    arr.reverse()\n",
    "    return \" \".join(arr)\n",
    "\n",
    "\n",
    "s = \"sky is blue in color\"\n",
    "reverseWord(s)"
   ]
  },
  {
   "cell_type": "code",
   "execution_count": null,
   "id": "141489cc",
   "metadata": {},
   "outputs": [],
   "source": []
  }
 ],
 "metadata": {
  "kernelspec": {
   "display_name": "Python 3",
   "language": "python",
   "name": "python3"
  },
  "language_info": {
   "codemirror_mode": {
    "name": "ipython",
    "version": 3
   },
   "file_extension": ".py",
   "mimetype": "text/x-python",
   "name": "python",
   "nbconvert_exporter": "python",
   "pygments_lexer": "ipython3",
   "version": "3.12.0"
  }
 },
 "nbformat": 4,
 "nbformat_minor": 5
}
