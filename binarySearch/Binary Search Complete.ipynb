{
 "cells": [
  {
   "cell_type": "code",
   "execution_count": 7,
   "id": "709c0d23",
   "metadata": {},
   "outputs": [
    {
     "name": "stdout",
     "output_type": "stream",
     "text": [
      "your target element 56 is at index: 8\n"
     ]
    }
   ],
   "source": [
    "def binarySearch(nums,target):\n",
    "    n = len(nums)\n",
    "    low = 0\n",
    "    high = n-1\n",
    "    while low <= high:\n",
    "        mid = low + ((high-low)//2)\n",
    "        if nums[mid] == target:\n",
    "            return mid\n",
    "        elif nums[mid] < target:\n",
    "            low = mid + 1\n",
    "        else:\n",
    "            high = mid - 1\n",
    "    return -1\n",
    "\n",
    "\n",
    "nums = [2,3,4,5,6,7,8,9,56]\n",
    "target = 56\n",
    "output = binarySearch(nums,target)\n",
    "print(f\"your target element {target} is at index:\",output)\n",
    "    "
   ]
  },
  {
   "cell_type": "markdown",
   "id": "0fe87340",
   "metadata": {},
   "source": [
    "## LowerBound"
   ]
  },
  {
   "cell_type": "code",
   "execution_count": 10,
   "id": "9b789128",
   "metadata": {},
   "outputs": [
    {
     "name": "stdout",
     "output_type": "stream",
     "text": [
      "Your lowerbound for the el 8 is at index: 3 --> 8 \n"
     ]
    }
   ],
   "source": [
    "def lowerBound(nums,x,n):\n",
    "    ans = n\n",
    "    low = 0\n",
    "    high = n - 1\n",
    "    while low <= high:\n",
    "        mid =  (low + high)//2\n",
    "        if nums[mid] >= x:\n",
    "            ans = mid\n",
    "            high = mid - 1\n",
    "        else:\n",
    "            low = mid + 1\n",
    "    return ans\n",
    "\n",
    "nums = [2, 3, 7, 8, 8, 8,  9, 10, 56]\n",
    "x = 8\n",
    "n = len(nums)\n",
    "output = lowerBound(nums,x,n)\n",
    "print(f\"Your lowerbound for the el {x} is at index: {output} --> {nums[output]} \")"
   ]
  },
  {
   "cell_type": "markdown",
   "id": "135ce47b",
   "metadata": {},
   "source": [
    "## UpperBound"
   ]
  },
  {
   "cell_type": "code",
   "execution_count": 12,
   "id": "f2b2eaa2",
   "metadata": {},
   "outputs": [
    {
     "name": "stdout",
     "output_type": "stream",
     "text": [
      "Your lowerbound for the el 8 is at index: 6 --> 9 \n"
     ]
    }
   ],
   "source": [
    "def upperBound(nums,x,n):\n",
    "    n = len(nums)\n",
    "    low = 0\n",
    "    high = n - 1\n",
    "    ans = n\n",
    "    while low <= high:\n",
    "        mid = (low+high) //2\n",
    "        if nums[mid] > x:\n",
    "            ans = mid\n",
    "            high = mid - 1\n",
    "        else:\n",
    "            low = mid + 1\n",
    "            \n",
    "    return ans \n",
    "\n",
    "nums = [2, 3, 7, 8, 8, 8,  9, 10, 56]\n",
    "x = 8\n",
    "n = len(nums)\n",
    "output = upperBound(nums,x,n)\n",
    "print(f\"Your lowerbound for the el {x} is at index: {output} --> {nums[output]} \")"
   ]
  },
  {
   "cell_type": "markdown",
   "id": "a850f588",
   "metadata": {},
   "source": [
    "## Pivot Element"
   ]
  },
  {
   "cell_type": "code",
   "execution_count": 13,
   "id": "0696f344",
   "metadata": {},
   "outputs": [
    {
     "name": "stdout",
     "output_type": "stream",
     "text": [
      "The pivot is at index: 3\n"
     ]
    }
   ],
   "source": [
    "def pivot(nums):\n",
    "    n = len(nums)\n",
    "    low = 0\n",
    "    high = n - 1\n",
    "    \n",
    "    if nums[low] < nums[high]:\n",
    "        return 0\n",
    "    \n",
    "    while low <=high:\n",
    "        mid = (low+high)//2\n",
    "        if mid < n - 1 and nums[mid] > nums[mid+1]:\n",
    "            return mid+1\n",
    "        if mid > 0 and nums[mid] < nums[mid-1]:\n",
    "            return mid\n",
    "        \n",
    "        if nums[mid] > nums[low]:\n",
    "            low = mid +1\n",
    "        else:\n",
    "            high =  mid - 1\n",
    "            \n",
    "    return 0\n",
    "\n",
    "\n",
    "nums = [6, 7, 8, 1, 2, 3, 4, 5]  \n",
    "pivot = pivot(nums)\n",
    "print(f\"The pivot is at index: {pivot}\")"
   ]
  },
  {
   "cell_type": "markdown",
   "id": "066701e5",
   "metadata": {},
   "source": [
    "## SquareRoot"
   ]
  },
  {
   "cell_type": "code",
   "execution_count": 1,
   "id": "1e0bc1c3",
   "metadata": {},
   "outputs": [
    {
     "data": {
      "text/plain": [
       "7"
      ]
     },
     "execution_count": 1,
     "metadata": {},
     "output_type": "execute_result"
    }
   ],
   "source": [
    "def squareRoot(n):\n",
    "    ans = 0\n",
    "    low = 0\n",
    "    high = n - 1\n",
    "    while low <= high:\n",
    "        mid = (low+high)//2\n",
    "        if mid * mid > n:\n",
    "            high = mid-1\n",
    "        else:\n",
    "            ans = mid\n",
    "            low = mid + 1\n",
    "    return ans\n",
    "\n",
    "squareRoot(55)"
   ]
  },
  {
   "cell_type": "code",
   "execution_count": null,
   "id": "dc0a90ec",
   "metadata": {},
   "outputs": [],
   "source": []
  }
 ],
 "metadata": {
  "kernelspec": {
   "display_name": "Python 3",
   "language": "python",
   "name": "python3"
  },
  "language_info": {
   "codemirror_mode": {
    "name": "ipython",
    "version": 3
   },
   "file_extension": ".py",
   "mimetype": "text/x-python",
   "name": "python",
   "nbconvert_exporter": "python",
   "pygments_lexer": "ipython3",
   "version": "3.12.0"
  }
 },
 "nbformat": 4,
 "nbformat_minor": 5
}
