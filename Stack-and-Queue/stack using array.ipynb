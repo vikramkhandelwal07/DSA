{
 "cells": [
  {
   "cell_type": "markdown",
   "metadata": {},
   "source": [
    "geneally 4 types of problems in this topic\n",
    "#### 1st. constant k"
   ]
  },
  {
   "cell_type": "code",
   "execution_count": 8,
   "metadata": {},
   "outputs": [
    {
     "name": "stdout",
     "output_type": "stream",
     "text": [
      "15\n"
     ]
    }
   ],
   "source": [
    "\n",
    "def maxSum(nums,k):\n",
    "  n = len(nums)\n",
    "  l = 0\n",
    "  r = k-1\n",
    "  maxSumation = 0\n",
    "  while r <=n:\n",
    "    summation = sum(nums[l:r+1])\n",
    "    if summation > maxSumation:\n",
    "      maxSumation = summation\n",
    "    else:\n",
    "      l+=1\n",
    "      r+=1\n",
    "  \n",
    "  return maxSumation \n",
    "\n",
    "nums = [-1,2,3,3,4,5,-1]\n",
    "k = 4\n",
    "result = maxSum(nums,k)\n",
    "print(result)\n"
   ]
  },
  {
   "cell_type": "code",
   "execution_count": 6,
   "metadata": {},
   "outputs": [
    {
     "data": {
      "text/plain": [
       "7"
      ]
     },
     "execution_count": 6,
     "metadata": {},
     "output_type": "execute_result"
    }
   ],
   "source": [
    "nums = [-1,2,3,3,4,5,-1]\n",
    "sum(nums[0:4])\n"
   ]
  },
  {
   "cell_type": "markdown",
   "metadata": {},
   "source": [
    "2nd longest subarray/subString where `<condition>`\n",
    "- brute force\n",
    "- better\n",
    "- optimal\n"
   ]
  },
  {
   "cell_type": "markdown",
   "metadata": {},
   "source": [
    "- longest subarray with sum<=k"
   ]
  },
  {
   "cell_type": "code",
   "execution_count": null,
   "metadata": {},
   "outputs": [],
   "source": []
  }
 ],
 "metadata": {
  "kernelspec": {
   "display_name": "Python 3",
   "language": "python",
   "name": "python3"
  },
  "language_info": {
   "codemirror_mode": {
    "name": "ipython",
    "version": 3
   },
   "file_extension": ".py",
   "mimetype": "text/x-python",
   "name": "python",
   "nbconvert_exporter": "python",
   "pygments_lexer": "ipython3",
   "version": "3.12.0"
  }
 },
 "nbformat": 4,
 "nbformat_minor": 2
}
