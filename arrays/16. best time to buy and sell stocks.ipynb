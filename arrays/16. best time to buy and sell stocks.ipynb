{
 "cells": [
  {
   "cell_type": "code",
   "execution_count": 5,
   "metadata": {},
   "outputs": [
    {
     "name": "stdout",
     "output_type": "stream",
     "text": [
      "profit of rs: 5\n"
     ]
    }
   ],
   "source": [
    "def maxProfit(prices):\n",
    "  min_price = float('inf')\n",
    "  max_profit = 0\n",
    "\n",
    "  for price in prices:\n",
    "    if price < min_price:\n",
    "      min_price = price\n",
    "    elif price - min_price > max_profit:\n",
    "      max_profit = price - min_price\n",
    "\n",
    "  return max_profit\n",
    "prices = [7,1,5,3,6,4]\n",
    "output = maxProfit(prices)\n",
    "print(\"profit of rs:\",output)\n"
   ]
  },
  {
   "cell_type": "code",
   "execution_count": null,
   "metadata": {},
   "outputs": [],
   "source": []
  }
 ],
 "metadata": {
  "kernelspec": {
   "display_name": "Python 3",
   "language": "python",
   "name": "python3"
  },
  "language_info": {
   "codemirror_mode": {
    "name": "ipython",
    "version": 3
   },
   "file_extension": ".py",
   "mimetype": "text/x-python",
   "name": "python",
   "nbconvert_exporter": "python",
   "pygments_lexer": "ipython3",
   "version": "3.12.0"
  }
 },
 "nbformat": 4,
 "nbformat_minor": 2
}
