{
 "cells": [
  {
   "cell_type": "markdown",
   "metadata": {},
   "source": [
    "# Remove duplcate from array"
   ]
  },
  {
   "cell_type": "code",
   "execution_count": 8,
   "metadata": {},
   "outputs": [
    {
     "name": "stdout",
     "output_type": "stream",
     "text": [
      "2\n",
      "[1, 1, 2]\n",
      "[1, 2]\n"
     ]
    }
   ],
   "source": [
    "from typing import List\n",
    "array = []\n",
    "def removeDuplicates(nums: list[int]) -> int:\n",
    "        \n",
    "        for i in range(len(nums)):\n",
    "            if nums[i] not in array:\n",
    "                array.append(nums[i])\n",
    "                \n",
    "        return len(array)\n",
    "    \n",
    "nums = [1,1,2]\n",
    "result = removeDuplicates(nums)\n",
    "print(result)\n",
    "print(nums)\n",
    "print(array)"
   ]
  },
  {
   "cell_type": "code",
   "execution_count": null,
   "metadata": {},
   "outputs": [
    {
     "name": "stdout",
     "output_type": "stream",
     "text": [
      "2\n",
      "2\n"
     ]
    }
   ],
   "source": [
    "def removeDuplicates(nums: List[int]) -> int:\n",
    "        j=1\n",
    "        for i in range(1,len(nums)):\n",
    "            if nums[i]!=nums[i-1]:\n",
    "                nums[j]=nums[i]\n",
    "                j=j+1\n",
    "        return j\n",
    "      \n",
    "nums = [1,1,2]\n",
    "result = removeDuplicates(nums)\n",
    "print(result)\n",
    "# op\n",
    "result=set(nums)\n",
    "print(len(result))\n",
    "\n"
   ]
  },
  {
   "cell_type": "code",
   "execution_count": 12,
   "metadata": {},
   "outputs": [
    {
     "data": {
      "text/plain": [
       "10"
      ]
     },
     "execution_count": 12,
     "metadata": {},
     "output_type": "execute_result"
    }
   ],
   "source": [
    "nums =[1,2,3,4,5,6,7,8,9,10,1,2,3,4,5,6,7,8,9,10]\n",
    "result = set(nums)\n",
    "len(result)"
   ]
  },
  {
   "cell_type": "code",
   "execution_count": null,
   "metadata": {},
   "outputs": [],
   "source": []
  }
 ],
 "metadata": {
  "kernelspec": {
   "display_name": "Python 3",
   "language": "python",
   "name": "python3"
  },
  "language_info": {
   "codemirror_mode": {
    "name": "ipython",
    "version": 3
   },
   "file_extension": ".py",
   "mimetype": "text/x-python",
   "name": "python",
   "nbconvert_exporter": "python",
   "pygments_lexer": "ipython3",
   "version": "3.12.0"
  }
 },
 "nbformat": 4,
 "nbformat_minor": 2
}
