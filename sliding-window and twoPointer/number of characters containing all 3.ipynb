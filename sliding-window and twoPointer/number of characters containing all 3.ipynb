{
 "cells": [
  {
   "cell_type": "code",
   "execution_count": 6,
   "metadata": {},
   "outputs": [
    {
     "name": "stdout",
     "output_type": "stream",
     "text": [
      "[0, 0, 0]\n"
     ]
    }
   ],
   "source": [
    "hash = [0]*3\n",
    "print(hash)"
   ]
  },
  {
   "cell_type": "code",
   "execution_count": 5,
   "metadata": {},
   "outputs": [
    {
     "ename": "SyntaxError",
     "evalue": "cannot assign to function call here. Maybe you meant '==' instead of '='? (1309515485.py, line 1)",
     "output_type": "error",
     "traceback": [
      "\u001b[1;36m  Cell \u001b[1;32mIn[5], line 1\u001b[1;36m\u001b[0m\n\u001b[1;33m    hash({3}) = {0}\u001b[0m\n\u001b[1;37m    ^\u001b[0m\n\u001b[1;31mSyntaxError\u001b[0m\u001b[1;31m:\u001b[0m cannot assign to function call here. Maybe you meant '==' instead of '='?\n"
     ]
    }
   ],
   "source": []
  },
  {
   "cell_type": "code",
   "execution_count": 12,
   "metadata": {},
   "outputs": [
    {
     "data": {
      "text/plain": [
       "10"
      ]
     },
     "execution_count": 12,
     "metadata": {},
     "output_type": "execute_result"
    }
   ],
   "source": [
    "def numberOfSubstrings(s):\n",
    "  n = len(s)\n",
    "  cnt = 0\n",
    "  for i in range(n):\n",
    "    hash = [0]*3\n",
    "    for j in range(i,n):\n",
    "      hash[ord(s[j]) - ord(\"a\")] =1\n",
    "      if hash[0] + hash[1] + hash[2]  == 3:\n",
    "        cnt = cnt + (n-j)\n",
    "        break\n",
    "  \n",
    "  \n",
    "  return cnt\n",
    "\n",
    "s =\"abcabc\"\n",
    "numberOfSubstrings(s)"
   ]
  },
  {
   "cell_type": "code",
   "execution_count": 10,
   "metadata": {},
   "outputs": [
    {
     "data": {
      "text/plain": [
       "97"
      ]
     },
     "execution_count": 10,
     "metadata": {},
     "output_type": "execute_result"
    }
   ],
   "source": [
    "def numberOfSubstrings(s):\n",
    "  n = len(s)\n",
    "  cnt = 0\n",
    "  l =0\n",
    "  r = 0\n",
    "  for r in range(n):\n",
    "    hash = [0]*3\n",
    "    \n",
    "  \n",
    "  \n",
    "  return cnt\n",
    "\n",
    "s =\"abcabc\"\n",
    "numberOfSubstrings(s)"
   ]
  },
  {
   "cell_type": "code",
   "execution_count": null,
   "metadata": {},
   "outputs": [],
   "source": []
  }
 ],
 "metadata": {
  "kernelspec": {
   "display_name": "Python 3",
   "language": "python",
   "name": "python3"
  },
  "language_info": {
   "codemirror_mode": {
    "name": "ipython",
    "version": 3
   },
   "file_extension": ".py",
   "mimetype": "text/x-python",
   "name": "python",
   "nbconvert_exporter": "python",
   "pygments_lexer": "ipython3",
   "version": "3.12.0"
  }
 },
 "nbformat": 4,
 "nbformat_minor": 2
}
