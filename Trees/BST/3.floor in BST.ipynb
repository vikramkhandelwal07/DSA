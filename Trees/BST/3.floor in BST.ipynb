{
 "cells": [
  {
   "cell_type": "code",
   "execution_count": 1,
   "id": "1845243b",
   "metadata": {},
   "outputs": [],
   "source": [
    "def floorBST(root,key):\n",
    "    floor = -1\n",
    "    while root:\n",
    "        if root.val == key:\n",
    "            return root.value\n",
    "    \n",
    "        if key > root.value:\n",
    "            floor = root.value\n",
    "            root = root.right\n",
    "        else:\n",
    "            root = root.left\n",
    "            \n",
    "    return floor\n"
   ]
  },
  {
   "cell_type": "code",
   "execution_count": null,
   "id": "410ef573",
   "metadata": {},
   "outputs": [],
   "source": []
  }
 ],
 "metadata": {
  "kernelspec": {
   "display_name": "Python 3",
   "language": "python",
   "name": "python3"
  },
  "language_info": {
   "codemirror_mode": {
    "name": "ipython",
    "version": 3
   },
   "file_extension": ".py",
   "mimetype": "text/x-python",
   "name": "python",
   "nbconvert_exporter": "python",
   "pygments_lexer": "ipython3",
   "version": "3.12.0"
  }
 },
 "nbformat": 4,
 "nbformat_minor": 5
}
