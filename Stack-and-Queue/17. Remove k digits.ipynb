{
 "cells": [
  {
   "cell_type": "markdown",
   "metadata": {},
   "source": [
    "### Remove k digits"
   ]
  },
  {
   "cell_type": "code",
   "execution_count": null,
   "metadata": {},
   "outputs": [],
   "source": [
    "def removeKdigits(nums,k):\n",
    "  stack = []\n",
    "  \n"
   ]
  },
  {
   "cell_type": "code",
   "execution_count": 1,
   "metadata": {},
   "outputs": [
    {
     "name": "stdout",
     "output_type": "stream",
     "text": [
      "1234\n"
     ]
    }
   ],
   "source": [
    "arr = [1, 2, 3, 4]\n",
    "num = int(\"\".join(map(str, arr)))\n",
    "print(num)  # Output: 1234\n"
   ]
  },
  {
   "cell_type": "markdown",
   "metadata": {},
   "source": [
    "- Time Complexity: O(N)\n",
    "- Space Complexity: O(N)"
   ]
  },
  {
   "cell_type": "code",
   "execution_count": 13,
   "metadata": {},
   "outputs": [],
   "source": [
    "def removeKdigits(num, k):\n",
    "  stack = []\n",
    "  \n",
    "  for digit in num:\n",
    "      while k > 0 and stack and stack[-1] > digit:\n",
    "          stack.pop()\n",
    "          k -= 1\n",
    "      stack.append(digit)\n",
    "  \n",
    "  # Remove remaining k digits from the end if needed\n",
    "  stack = stack[:len(stack) - k]\n",
    "\n",
    "  # Convert stack to string and remove leading zeros\n",
    "  result = \"\".join(stack).lstrip(\"0\")\n",
    "\n",
    "  return result if result else \"0\"\n"
   ]
  },
  {
   "cell_type": "code",
   "execution_count": 15,
   "metadata": {},
   "outputs": [
    {
     "name": "stdout",
     "output_type": "stream",
     "text": [
      "1219\n",
      "200\n",
      "0\n"
     ]
    }
   ],
   "source": [
    "num = \"1432219\"\n",
    "removeKdigits(num,3)\n",
    "print(removeKdigits(\"1432219\", 3))  # Output: \"1219\"\n",
    "print(removeKdigits(\"10200\", 1))    # Output: \"200\"\n",
    "print(removeKdigits(\"10\", 2))       # Output: \"0\"\n"
   ]
  },
  {
   "cell_type": "code",
   "execution_count": null,
   "metadata": {},
   "outputs": [],
   "source": []
  }
 ],
 "metadata": {
  "kernelspec": {
   "display_name": "Python 3",
   "language": "python",
   "name": "python3"
  },
  "language_info": {
   "codemirror_mode": {
    "name": "ipython",
    "version": 3
   },
   "file_extension": ".py",
   "mimetype": "text/x-python",
   "name": "python",
   "nbconvert_exporter": "python",
   "pygments_lexer": "ipython3",
   "version": "3.12.0"
  }
 },
 "nbformat": 4,
 "nbformat_minor": 2
}
