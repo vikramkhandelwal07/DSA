{
 "cells": [
  {
   "cell_type": "markdown",
   "metadata": {},
   "source": [
    "#### max consecutives one or longest subarray with atmost k zeros"
   ]
  },
  {
   "cell_type": "markdown",
   "metadata": {},
   "source": [
    "### Problem: Max Consecutive Ones III\n",
    "\n",
    "#### Difficulty\n",
    "Medium\n",
    "\n",
    "---\n",
    "\n",
    "#### Task\n",
    "Given a binary array `nums` and an integer `k`, return the **maximum number of consecutive 1's** in the array if you can flip at most `k` 0's to 1's.\n",
    "\n",
    "---\n",
    "\n",
    "#### Examples\n",
    "\n",
    "**Example 1:**  \n",
    "**Input:**  \n",
    "`nums = [1,1,1,0,0,0,1,1,1,1,0], k = 2`  \n",
    "**Output:**  \n",
    "`6`  \n",
    "**Explanation:**  \n",
    "After flipping the bolded numbers, the array becomes:  \n",
    "`[1,1,1,0,0,1,1,1,1,1,1]`  \n",
    "The longest subarray is:  \n",
    "`[1,1,1,0,0,1,1,1,1,1,1]`, which has 6 consecutive 1's.\n",
    "\n",
    "---\n",
    "\n",
    "**Example 2:**  \n",
    "**Input:**  \n",
    "`nums = [0,0,1,1,0,0,1,1,1,0,1,1,0,0,0,1,1,1,1], k = 3`  \n",
    "**Output:**  \n",
    "`10`  \n",
    "**Explanation:**  \n",
    "After flipping the bolded numbers, the array becomes:  \n",
    "`[0,0,1,1,1,1,1,1,1,1,1,1,0,0,0,1,1,1,1]`  \n",
    "The longest subarray is:  \n",
    "`[1,1,1,1,1,1,1,1,1,1]`, which has 10 consecutive 1's.\n",
    "\n",
    "---\n",
    "\n",
    "#### Constraints\n",
    "- `1 ≤ nums.length ≤ 10^5`\n",
    "- `nums[i]` is either `0` or `1`.\n",
    "- `0 ≤ k ≤ nums.length`.\n"
   ]
  },
  {
   "cell_type": "code",
   "execution_count": null,
   "metadata": {},
   "outputs": [],
   "source": []
  },
  {
   "cell_type": "code",
   "execution_count": 1,
   "metadata": {},
   "outputs": [
    {
     "data": {
      "text/plain": [
       "10"
      ]
     },
     "execution_count": 1,
     "metadata": {},
     "output_type": "execute_result"
    }
   ],
   "source": [
    "# TC- O(N^2)\n",
    "# SC - O(1)\n",
    "def maximumConsecutiveOnes(nums,k):\n",
    "  n = len(nums)\n",
    "  maxlength = 0\n",
    "  for i in range(n):\n",
    "    zeroCount = 0\n",
    "    for j in range(i,n):\n",
    "      if nums[j] == 0:\n",
    "        zeroCount +=1\n",
    "      if zeroCount <= k:\n",
    "        length = j -i +1\n",
    "        maxlength = max(maxlength,length)\n",
    "      else:\n",
    "        break\n",
    "  \n",
    "  return maxlength\n",
    "        \n",
    "\n",
    "nums = [0,0,1,1,0,0,1,1,1,0,1,1,0,0,0,1,1,1,1]\n",
    "k = 3\n",
    "maximumConsecutiveOnes(nums,k)\n"
   ]
  },
  {
   "cell_type": "markdown",
   "metadata": {},
   "source": [
    "- TC-O(n)\n",
    "- SC-O(1)"
   ]
  },
  {
   "cell_type": "code",
   "execution_count": 2,
   "metadata": {},
   "outputs": [
    {
     "name": "stdout",
     "output_type": "stream",
     "text": [
      "10\n"
     ]
    }
   ],
   "source": [
    "def maximumConsecutiveOnes(nums, k):\n",
    "  n = len(nums)\n",
    "  max_length = 0\n",
    "  zero_count = 0\n",
    "  l = 0\n",
    "  for r in range(n):\n",
    "    if nums[r] == 0:\n",
    "      zero_count += 1\n",
    "    while zero_count > k:\n",
    "      if nums[l] == 0:\n",
    "        zero_count -= 1\n",
    "      l += 1\n",
    "      \n",
    "      max_length = max(max_length, r - l + 1)\n",
    "  \n",
    "  return max_length\n",
    "\n",
    "nums = [0, 0, 1, 1, 0, 0, 1, 1, 1, 0, 1, 1, 0, 0, 0, 1, 1, 1, 1]\n",
    "k = 3\n",
    "print(maximumConsecutiveOnes(nums, k))  # Output: 10\n"
   ]
  },
  {
   "cell_type": "code",
   "execution_count": 3,
   "metadata": {},
   "outputs": [
    {
     "name": "stdout",
     "output_type": "stream",
     "text": [
      "10\n"
     ]
    }
   ],
   "source": [
    "def maximumConsecutiveOnes(nums, k):\n",
    "  n = len(nums)\n",
    "  l = 0\n",
    "  r = 0\n",
    "  maxlength = 0\n",
    "  zeros = 0\n",
    "  for r in range(n):\n",
    "    if nums[r] == 0:\n",
    "      zeros+=1\n",
    "    if zeros > k:\n",
    "      if nums[l] == 0:\n",
    "        zeros-=1\n",
    "      l+=1\n",
    "    if zeros <=k:\n",
    "      maxlength =  max(maxlength,r-l+1)\n",
    "  \n",
    "  return maxlength\n",
    "\n",
    "nums = [0, 0, 1, 1, 0, 0, 1, 1, 1, 0, 1, 1, 0, 0, 0, 1, 1, 1, 1]\n",
    "k = 3\n",
    "print(maximumConsecutiveOnes(nums, k))  # Output: 10\n"
   ]
  },
  {
   "cell_type": "code",
   "execution_count": null,
   "metadata": {},
   "outputs": [],
   "source": []
  }
 ],
 "metadata": {
  "kernelspec": {
   "display_name": "Python 3",
   "language": "python",
   "name": "python3"
  },
  "language_info": {
   "codemirror_mode": {
    "name": "ipython",
    "version": 3
   },
   "file_extension": ".py",
   "mimetype": "text/x-python",
   "name": "python",
   "nbconvert_exporter": "python",
   "pygments_lexer": "ipython3",
   "version": "3.12.0"
  }
 },
 "nbformat": 4,
 "nbformat_minor": 2
}
