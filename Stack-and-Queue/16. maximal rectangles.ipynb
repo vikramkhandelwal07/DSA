{
 "cells": [
  {
   "cell_type": "markdown",
   "metadata": {},
   "source": [
    "## Maximal Rectangles"
   ]
  },
  {
   "cell_type": "code",
   "execution_count": 3,
   "metadata": {},
   "outputs": [
    {
     "name": "stdout",
     "output_type": "stream",
     "text": [
      "6\n"
     ]
    }
   ],
   "source": [
    "def maximalRectangle(matrix):\n",
    "    if not matrix:\n",
    "        return 0 \n",
    "    \n",
    "    rows = len(matrix)\n",
    "    cols = len(matrix[0])\n",
    "    heights = [0] * (cols + 1)  # Extra 0 at the end as a sentinel\n",
    "    maxArea = 0\n",
    "    \n",
    "    for row in matrix:\n",
    "        for i in range(cols):\n",
    "            heights[i] = heights[i] + 1 if row[i] == \"1\" else 0  # Fix row indexing\n",
    "            \n",
    "        stack = []\n",
    "        for i in range(len(heights)):  # Include the extra column\n",
    "            while stack and heights[i] < heights[stack[-1]]:\n",
    "                h = heights[stack.pop()]\n",
    "                w = i if not stack else i - stack[-1] - 1\n",
    "                maxArea = max(maxArea, h * w)\n",
    "            stack.append(i)\n",
    "    \n",
    "    return maxArea\n",
    "\n",
    "# Test Case\n",
    "matrix = [\n",
    "    [\"1\", \"0\", \"1\", \"0\", \"0\"],\n",
    "    [\"1\", \"0\", \"1\", \"1\", \"1\"],\n",
    "    [\"1\", \"1\", \"1\", \"1\", \"1\"],\n",
    "    [\"1\", \"0\", \"0\", \"1\", \"0\"]\n",
    "]\n",
    "\n",
    "print(maximalRectangle(matrix))  # Output: 6\n"
   ]
  },
  {
   "cell_type": "code",
   "execution_count": null,
   "metadata": {},
   "outputs": [],
   "source": []
  }
 ],
 "metadata": {
  "kernelspec": {
   "display_name": "Python 3",
   "language": "python",
   "name": "python3"
  },
  "language_info": {
   "codemirror_mode": {
    "name": "ipython",
    "version": 3
   },
   "file_extension": ".py",
   "mimetype": "text/x-python",
   "name": "python",
   "nbconvert_exporter": "python",
   "pygments_lexer": "ipython3",
   "version": "3.12.0"
  }
 },
 "nbformat": 4,
 "nbformat_minor": 2
}
