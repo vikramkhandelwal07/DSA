{
 "cells": [
  {
   "cell_type": "code",
   "execution_count": 3,
   "metadata": {},
   "outputs": [
    {
     "name": "stdout",
     "output_type": "stream",
     "text": [
      "The element pushed is 4\n",
      "The element pushed is 14\n",
      "The element pushed is 24\n",
      "The element pushed is 34\n",
      "The peek of the queue before deleting any element 4\n",
      "The size of the queue before deletion 4\n",
      "The first element to be deleted 4\n",
      "The peek of the queue after deleting an element 14\n",
      "The size of the queue after deleting an element 3\n"
     ]
    }
   ],
   "source": [
    "\n",
    "class Queue:\n",
    "    def __init__(self):\n",
    "        self.start = -1\n",
    "        self.end = -1\n",
    "        self.currSize = 0\n",
    "        self.maxSize = 16\n",
    "        self.arr = [0] * self.maxSize\n",
    "\n",
    "\n",
    "    def push(self, newElement: int) -> None:\n",
    "        if self.currSize == self.maxSize:\n",
    "            print(\"Queue is full\\nExiting...\")\n",
    "            exit(1)\n",
    "        if (self.end == -1):\n",
    "            self.start = 0\n",
    "            self.end = 0\n",
    "        else:\n",
    "            self.end = (self.end + 1) % self.maxSize\n",
    "        self.arr[self.end] = newElement\n",
    "        print(\"The element pushed is\", newElement)\n",
    "        self.currSize += 1\n",
    "\n",
    "\n",
    "    def pop(self) -> int:\n",
    "        if self.start == -1:\n",
    "            print(\"Queue Empty\\nExiting...\")\n",
    "        popped = self.arr[self.start]\n",
    "        if self.currSize == 1:\n",
    "            self.start = -1\n",
    "            self.end = -1\n",
    "        else:\n",
    "            self.start = (self.start + 1) % self.maxSize\n",
    "        self.currSize -= 1\n",
    "        return popped\n",
    "\n",
    "\n",
    "    def top(self) -> int:\n",
    "        if self.start == -1:\n",
    "            print(\"Queue is Empty\")\n",
    "            exit(1)\n",
    "        return self.arr[self.start]\n",
    "\n",
    "\n",
    "    def size(self) -> int:\n",
    "        return self.currSize\n",
    "\n",
    "\n",
    "q = Queue()\n",
    "q.push(4)\n",
    "q.push(14)\n",
    "q.push(24)\n",
    "q.push(34)\n",
    "print(\"The peek of the queue before deleting any element\", q.top())\n",
    "print(\"The size of the queue before deletion\", q.size())\n",
    "print(\"The first element to be deleted\", q.pop())\n",
    "print(\"The peek of the queue after deleting an element\", q.top())\n",
    "print(\"The size of the queue after deleting an element\", q.size())\n"
   ]
  },
  {
   "cell_type": "code",
   "execution_count": null,
   "metadata": {},
   "outputs": [],
   "source": []
  }
 ],
 "metadata": {
  "kernelspec": {
   "display_name": "Python 3",
   "language": "python",
   "name": "python3"
  },
  "language_info": {
   "codemirror_mode": {
    "name": "ipython",
    "version": 3
   },
   "file_extension": ".py",
   "mimetype": "text/x-python",
   "name": "python",
   "nbconvert_exporter": "python",
   "pygments_lexer": "ipython3",
   "version": "3.12.0"
  }
 },
 "nbformat": 4,
 "nbformat_minor": 2
}
