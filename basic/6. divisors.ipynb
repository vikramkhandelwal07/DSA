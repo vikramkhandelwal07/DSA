{
 "cells": [
  {
   "cell_type": "code",
   "execution_count": 8,
   "id": "14093f02",
   "metadata": {},
   "outputs": [
    {
     "data": {
      "text/plain": [
       "[1, 2, 3, 4, 6, 9, 12, 18, 36]"
      ]
     },
     "execution_count": 8,
     "metadata": {},
     "output_type": "execute_result"
    }
   ],
   "source": [
    "def divisors(num):\n",
    "    ans = set()\n",
    "    for i in range(1, int(num ** 0.5) + 1):\n",
    "        if num % i == 0:\n",
    "            ans.add(i)\n",
    "            ans.add(num // i)\n",
    "    return sorted(ans)\n",
    "\n",
    "num = 36\n",
    "divisors(num)\n"
   ]
  },
  {
   "cell_type": "code",
   "execution_count": null,
   "id": "9ed5b88b",
   "metadata": {},
   "outputs": [],
   "source": []
  }
 ],
 "metadata": {
  "kernelspec": {
   "display_name": "Python 3",
   "language": "python",
   "name": "python3"
  },
  "language_info": {
   "codemirror_mode": {
    "name": "ipython",
    "version": 3
   },
   "file_extension": ".py",
   "mimetype": "text/x-python",
   "name": "python",
   "nbconvert_exporter": "python",
   "pygments_lexer": "ipython3",
   "version": "3.12.0"
  }
 },
 "nbformat": 4,
 "nbformat_minor": 5
}
