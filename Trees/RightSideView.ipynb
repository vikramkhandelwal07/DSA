{
 "cells": [
  {
   "cell_type": "code",
   "execution_count": 1,
   "id": "014d903d",
   "metadata": {},
   "outputs": [],
   "source": [
    "def rightView(root):\n",
    "    def helper(node, level, ds):\n",
    "        if not node:\n",
    "            return\n",
    "        \n",
    "        if level == len(ds):\n",
    "            ds.append(node.value)\n",
    "        \n",
    "        helper(node.right, level + 1, ds)\n",
    "        helper(node.left, level + 1, ds)\n",
    "\n",
    "    result = []\n",
    "    helper(root, 0, result)\n",
    "    return result\n"
   ]
  },
  {
   "cell_type": "code",
   "execution_count": null,
   "id": "743756e8",
   "metadata": {},
   "outputs": [],
   "source": []
  }
 ],
 "metadata": {
  "kernelspec": {
   "display_name": "Python 3",
   "language": "python",
   "name": "python3"
  },
  "language_info": {
   "codemirror_mode": {
    "name": "ipython",
    "version": 3
   },
   "file_extension": ".py",
   "mimetype": "text/x-python",
   "name": "python",
   "nbconvert_exporter": "python",
   "pygments_lexer": "ipython3",
   "version": "3.12.0"
  }
 },
 "nbformat": 4,
 "nbformat_minor": 5
}
