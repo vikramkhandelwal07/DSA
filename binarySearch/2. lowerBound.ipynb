{
 "cells": [
  {
   "cell_type": "code",
   "execution_count": 2,
   "metadata": {},
   "outputs": [
    {
     "name": "stdout",
     "output_type": "stream",
     "text": [
      "Your lowerbound for the el 8 is at index: 3 --> 8 \n"
     ]
    }
   ],
   "source": [
    "def Lowerbound(nums,x,n):\n",
    "  low = 0\n",
    "  high = n-1\n",
    "  ans = n\n",
    "  while low <= high:\n",
    "    mid = (low+high)//2\n",
    "    if nums[mid] >= x:\n",
    "      ans = mid \n",
    "      high = mid -1\n",
    "      \n",
    "    else :\n",
    "      low = mid+1\n",
    "      \n",
    "  return ans \n",
    "\n",
    "nums = [2, 3, 7, 8, 8, 8,  9, 10, 56]\n",
    "x = 8\n",
    "n = len(nums)\n",
    "output = Lowerbound(nums,x,n)\n",
    "print(f\"Your lowerbound for the el {x} is at index: {output} --> {nums[output]} \")"
   ]
  },
  {
   "cell_type": "code",
   "execution_count": null,
   "metadata": {},
   "outputs": [],
   "source": []
  }
 ],
 "metadata": {
  "kernelspec": {
   "display_name": "Python 3",
   "language": "python",
   "name": "python3"
  },
  "language_info": {
   "codemirror_mode": {
    "name": "ipython",
    "version": 3
   },
   "file_extension": ".py",
   "mimetype": "text/x-python",
   "name": "python",
   "nbconvert_exporter": "python",
   "pygments_lexer": "ipython3",
   "version": "3.12.0"
  }
 },
 "nbformat": 4,
 "nbformat_minor": 2
}
