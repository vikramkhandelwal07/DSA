{
 "cells": [
  {
   "cell_type": "markdown",
   "metadata": {},
   "source": [
    "# Prime Number\n",
    "A prime number is a positive integer that is divisible by exactly 2 integers, 1 and the number itself.\n",
    "\n",
    "\n",
    "\n",
    "You are given a number 'n'.\n",
    "\n",
    "\n",
    "\n",
    "Find out whether 'n' is prime or not.\n",
    "\n",
    "\n",
    "\n",
    "Example :\n",
    "Input: 'n' = 5\n",
    "\n",
    "Output: YES\n",
    "\n",
    "Explanation: 5 is only divisible by 1 and 5. 2, 3 and 4 do not divide 5."
   ]
  },
  {
   "cell_type": "code",
   "execution_count": 1,
   "metadata": {},
   "outputs": [
    {
     "name": "stdout",
     "output_type": "stream",
     "text": [
      "NO\n"
     ]
    }
   ],
   "source": [
    "import math\n",
    "\n",
    "n = int(input())  \n",
    "count = 0\n",
    "\n",
    "\n",
    "for i in range(1, int(math.sqrt(n)) + 1):\n",
    "    if n % i == 0:\n",
    "        # If i divides n, then i and n//i are both divisors\n",
    "        count += 1\n",
    "        if i != n // i:\n",
    "            count += 1\n",
    "\n",
    "if count == 2:\n",
    "    print(\"YES\")\n",
    "else:\n",
    "    print(\"NO\")\n"
   ]
  },
  {
   "cell_type": "code",
   "execution_count": null,
   "metadata": {},
   "outputs": [],
   "source": []
  }
 ],
 "metadata": {
  "kernelspec": {
   "display_name": "Python 3",
   "language": "python",
   "name": "python3"
  },
  "language_info": {
   "codemirror_mode": {
    "name": "ipython",
    "version": 3
   },
   "file_extension": ".py",
   "mimetype": "text/x-python",
   "name": "python",
   "nbconvert_exporter": "python",
   "pygments_lexer": "ipython3",
   "version": "3.12.0"
  }
 },
 "nbformat": 4,
 "nbformat_minor": 2
}
