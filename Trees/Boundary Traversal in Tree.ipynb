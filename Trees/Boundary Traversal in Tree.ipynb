{
 "cells": [
  {
   "cell_type": "code",
   "execution_count": 3,
   "id": "a92ec4cf",
   "metadata": {},
   "outputs": [],
   "source": [
    "class TreeNode:\n",
    "    def __init__(self, value=0, left=None, right=None):\n",
    "        self.value = value\n",
    "        self.left = left\n",
    "        self.right = right\n",
    "\n",
    "def isleaf(root):\n",
    "    return not root.left and not root.right\n",
    "\n",
    "def leftBoundary(root, ans):\n",
    "    curr = root.left\n",
    "    while curr:\n",
    "        if not isleaf(curr):\n",
    "            ans.append(curr.value)\n",
    "        if curr.left:\n",
    "            curr = curr.left\n",
    "        else:\n",
    "            curr = curr.right\n",
    "\n",
    "def rightBoundary(root, ans):\n",
    "    curr = root.right\n",
    "    temp = []\n",
    "    while curr:\n",
    "        if not isleaf(curr):\n",
    "            temp.append(curr.value)\n",
    "        if curr.right:\n",
    "            curr = curr.right\n",
    "        else:\n",
    "            curr = curr.left\n",
    "    # add in reverse\n",
    "    for i in range(len(temp)-1, -1, -1):\n",
    "        ans.append(temp[i])\n",
    "\n",
    "def addLeaves(root, ans):\n",
    "    if isleaf(root):\n",
    "        ans.append(root.value)\n",
    "        return\n",
    "    if root.left:\n",
    "        addLeaves(root.left, ans)\n",
    "    if root.right:\n",
    "        addLeaves(root.right, ans)\n",
    "\n",
    "def boundaryTraversal(root):\n",
    "    ans = []\n",
    "    if not root:\n",
    "        return []\n",
    "    if not isleaf(root):\n",
    "        ans.append(root.value)\n",
    "    addLeaves(root, ans) if isleaf(root) else (\n",
    "        leftBoundary(root, ans),\n",
    "        addLeaves(root, ans),\n",
    "        rightBoundary(root, ans)\n",
    "    )\n",
    "    return ans\n"
   ]
  },
  {
   "cell_type": "code",
   "execution_count": 4,
   "id": "267af870",
   "metadata": {},
   "outputs": [
    {
     "name": "stdout",
     "output_type": "stream",
     "text": [
      "Boundary Traversal: [1, 2, 4, 8, 9, 6, 7, 3]\n"
     ]
    }
   ],
   "source": [
    "if __name__ == \"__main__\":\n",
    "    # Example tree:\n",
    "    #         1\n",
    "    #       /   \\\n",
    "    #      2     3\n",
    "    #     / \\   / \\\n",
    "    #    4   5 6   7\n",
    "    #       / \\\n",
    "    #      8   9\n",
    "\n",
    "    root = TreeNode(1)\n",
    "    root.left = TreeNode(2)\n",
    "    root.right = TreeNode(3)\n",
    "    root.left.left = TreeNode(4)\n",
    "    root.left.right = TreeNode(5)\n",
    "    root.right.left = TreeNode(6)\n",
    "    root.right.right = TreeNode(7)\n",
    "    root.left.right.left = TreeNode(8)\n",
    "    root.left.right.right = TreeNode(9)\n",
    "\n",
    "    result = boundaryTraversal(root)\n",
    "    print(\"Boundary Traversal:\", result)\n"
   ]
  },
  {
   "cell_type": "code",
   "execution_count": null,
   "id": "97608431",
   "metadata": {},
   "outputs": [],
   "source": []
  }
 ],
 "metadata": {
  "kernelspec": {
   "display_name": "Python 3",
   "language": "python",
   "name": "python3"
  },
  "language_info": {
   "codemirror_mode": {
    "name": "ipython",
    "version": 3
   },
   "file_extension": ".py",
   "mimetype": "text/x-python",
   "name": "python",
   "nbconvert_exporter": "python",
   "pygments_lexer": "ipython3",
   "version": "3.12.0"
  }
 },
 "nbformat": 4,
 "nbformat_minor": 5
}
