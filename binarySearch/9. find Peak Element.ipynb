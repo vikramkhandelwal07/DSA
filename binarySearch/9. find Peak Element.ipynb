{
 "cells": [
  {
   "cell_type": "markdown",
   "metadata": {},
   "source": [
    "## 162. Find Peak Element\n",
    "\n",
    "- A peak element is an element that is strictly greater than its neighbors.\n",
    "- Given a 0-indexed integer array nums, find a peak element, and return its index. If the array contains multiple peaks, return the index to any of the peaks.\n",
    "- You may imagine that nums[-1] = nums[n] = -∞. In other words, an element is always considered to be strictly greater than a neighbor that is outside the array.\n",
    "- You must write an algorithm that runs in O(log n) time.\n",
    "\n",
    "`Example 1`:\n",
    "- Input: nums = [1,2,3,1]\n",
    "- Output: 2\n",
    "- Explanation: 3 is a peak element and your function should return the index number 2.\n",
    "\n",
    "`Example 2`:\n",
    "- Input: nums = [1,2,1,3,5,6,4]\n",
    "- Output: 5\n",
    "- Explanation: Your function can return either index number 1 where the peak element is 2, or index number - where the peak element is 6."
   ]
  },
  {
   "cell_type": "code",
   "execution_count": 9,
   "metadata": {},
   "outputs": [],
   "source": [
    "def FindPeakElement(nums):\n",
    "  n = len(nums)\n",
    "  if n == 1:\n",
    "      return 0\n",
    "  if nums[0] > nums[1]:\n",
    "      return 0\n",
    "  if nums[n - 1] > nums[n - 2]:\n",
    "      return n - 1\n",
    "  \n",
    "  low = 1\n",
    "  high = n - 2\n",
    "  \n",
    "  while low <= high:\n",
    "      mid = (low + high) // 2\n",
    "      if nums[mid] > nums[mid - 1] and nums[mid] > nums[mid + 1]:\n",
    "          return mid\n",
    "      if nums[mid] < nums[mid + 1]:\n",
    "          low = mid + 1\n",
    "      else:\n",
    "          high = mid - 1\n",
    "  \n",
    "  return -1  "
   ]
  },
  {
   "cell_type": "code",
   "execution_count": 10,
   "metadata": {},
   "outputs": [
    {
     "name": "stdout",
     "output_type": "stream",
     "text": [
      "1\n"
     ]
    }
   ],
   "source": [
    "nums = [3,4,3,2,1]\n",
    "output = FindPeakElement(nums)\n",
    "print(output)"
   ]
  },
  {
   "cell_type": "code",
   "execution_count": null,
   "metadata": {},
   "outputs": [],
   "source": []
  }
 ],
 "metadata": {
  "kernelspec": {
   "display_name": "Python 3",
   "language": "python",
   "name": "python3"
  },
  "language_info": {
   "codemirror_mode": {
    "name": "ipython",
    "version": 3
   },
   "file_extension": ".py",
   "mimetype": "text/x-python",
   "name": "python",
   "nbconvert_exporter": "python",
   "pygments_lexer": "ipython3",
   "version": "3.12.0"
  }
 },
 "nbformat": 4,
 "nbformat_minor": 2
}
