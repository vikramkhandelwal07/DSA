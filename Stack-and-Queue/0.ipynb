{
 "cells": [
  {
   "cell_type": "markdown",
   "id": "6aae6c28",
   "metadata": {},
   "source": [
    "## InfixToPostfix\n",
    "\n",
    "- TC - O(n) + O(n)\n",
    "- SC - O(n) + O(n)"
   ]
  },
  {
   "cell_type": "code",
   "execution_count": 30,
   "id": "c4ddcab9",
   "metadata": {},
   "outputs": [
    {
     "name": "stdout",
     "output_type": "stream",
     "text": [
      "Infix:    A+B*(C^D-E)\n",
      "Postfix:  ABCD^E-*+\n"
     ]
    }
   ],
   "source": [
    "def infixToPostfix(s):\n",
    "    precedence = {\n",
    "        '^': 3,\n",
    "        '*': 2,\n",
    "        '/': 2,\n",
    "        '+': 1,\n",
    "        '-': 1\n",
    "    }\n",
    "    \n",
    "    output = []\n",
    "    stack = []\n",
    "    \n",
    "    for ch in s:\n",
    "        if ch.isalnum():\n",
    "            output.append(ch)\n",
    "            \n",
    "        elif ch == \"(\":\n",
    "            stack.append(ch)\n",
    "            \n",
    "        elif ch == \")\":\n",
    "            while stack and stack[-1] != \"(\":\n",
    "                output.append(stack.pop())\n",
    "            stack.pop() \n",
    "             \n",
    "        else: #else mai operator aayega \n",
    "            while stack and stack[-1] != \"(\" and precedence.get(stack[-1],0)  >= precedence.get(ch,0):\n",
    "                output.append(stack.pop())\n",
    "            stack.append(ch)\n",
    "            \n",
    "    while stack:\n",
    "        output.append(stack.pop())\n",
    "        \n",
    "    return \"\".join(output)\n",
    "             \n",
    "\n",
    "expr = \"A+B*(C^D-E)\"\n",
    "print(\"Infix:   \", expr)\n",
    "print(\"Postfix: \", infixToPostfix(expr))        \n",
    "            "
   ]
  },
  {
   "cell_type": "markdown",
   "id": "c368247f",
   "metadata": {},
   "source": [
    "## Infix to Prefix"
   ]
  },
  {
   "cell_type": "code",
   "execution_count": 37,
   "id": "936933ff",
   "metadata": {},
   "outputs": [
    {
     "name": "stdout",
     "output_type": "stream",
     "text": [
      "Infix:  F+D-C*(B+A)\n",
      "Prefix:  -+FD*C+BA\n"
     ]
    }
   ],
   "source": [
    "def changeBrackets(s):\n",
    "    result = []\n",
    "    for ch in s:\n",
    "        if ch == \")\":\n",
    "            result.append(\"(\")\n",
    "        elif ch == \"(\":\n",
    "            result.append(\")\")\n",
    "        else:\n",
    "            result.append(ch)\n",
    "    return ''.join(result)\n",
    "\n",
    "def infixToPrefix(s):\n",
    "    precedence = {\n",
    "        '^': 3,\n",
    "        '*': 2, \n",
    "        '/': 2,\n",
    "        '+': 1, \n",
    "        '-': 1\n",
    "    }\n",
    "    \n",
    "    stack = []\n",
    "    ans = []\n",
    "    \n",
    "    s = s[::-1]\n",
    "    s = changeBrackets(s)\n",
    "    \n",
    "    for ch in s:        \n",
    "        if ch.isalnum():\n",
    "            ans.append(ch)\n",
    "        elif ch == \"(\":\n",
    "            stack.append(ch)\n",
    "        elif ch == \")\":\n",
    "            while stack and stack[-1] != \"(\":\n",
    "                ans.append(stack.pop())\n",
    "            if stack:  \n",
    "                stack.pop()  \n",
    "        else:  # Operator\n",
    "            while (stack and stack[-1] != \"(\" and \n",
    "                   precedence.get(stack[-1], 0) > precedence.get(ch, 0)):\n",
    "                ans.append(stack.pop())\n",
    "            stack.append(ch)\n",
    "    \n",
    "    while stack:\n",
    "        ans.append(stack.pop())\n",
    "\n",
    "    result = \"\".join(ans[::-1])    \n",
    "    return result\n",
    "\n",
    "expr = \"F+D-C*(B+A)\"\n",
    "print(\"Infix: \", expr)\n",
    "print(\"Prefix: \", infixToPrefix(expr))"
   ]
  },
  {
   "cell_type": "code",
   "execution_count": null,
   "id": "140f9ade",
   "metadata": {},
   "outputs": [
    {
     "name": "stdout",
     "output_type": "stream",
     "text": [
      "Infix expression: F+D-C*(B+A)\n",
      "Prefix Expression: -+FD*C+BA\n"
     ]
    }
   ],
   "source": [
    "def is_operator(c):\n",
    "    return not (c.isalpha() or c.isdigit())\n",
    "\n",
    "def get_priority(c):\n",
    "    if c == '-' or c == '+':\n",
    "        return 1\n",
    "    elif c == '*' or c == '/':\n",
    "        return 2\n",
    "    elif c == '^':\n",
    "        return 3\n",
    "    return 0\n",
    "\n",
    "def infix_to_postfix(infix):\n",
    "    infix = '(' + infix + ')'\n",
    "    l = len(infix)\n",
    "    char_stack = []\n",
    "    output = \"\"\n",
    "    \n",
    "    for i in range(l):\n",
    "        if infix[i].isalpha() or infix[i].isdigit():\n",
    "            output += infix[i]\n",
    "        elif infix[i] == '(':\n",
    "            char_stack.append('(')\n",
    "        elif infix[i] == ')':\n",
    "            while char_stack[-1] != '(':\n",
    "                output += char_stack.pop()\n",
    "            char_stack.pop()\n",
    "        else:\n",
    "            if char_stack and is_operator(char_stack[-1]):\n",
    "                if infix[i] == '^':\n",
    "                    while (char_stack and \n",
    "                           get_priority(infix[i]) <= get_priority(char_stack[-1])):\n",
    "                        output += char_stack.pop()\n",
    "                else:\n",
    "                    while (char_stack and \n",
    "                           get_priority(infix[i]) < get_priority(char_stack[-1])):\n",
    "                        output += char_stack.pop()\n",
    "            # Push current operator on stack\n",
    "            char_stack.append(infix[i])\n",
    "    \n",
    "    while char_stack:\n",
    "        output += char_stack.pop()\n",
    "    \n",
    "    return output\n",
    "\n",
    "def infix_to_prefix(infix):\n",
    "    # Reverse string\n",
    "    # Replace ( with ) and vice versa\n",
    "    # Get postfix\n",
    "    # Reverse postfix\n",
    "    \n",
    "    l = len(infix)\n",
    "    # Reverse infix\n",
    "    infix = infix[::-1]\n",
    "    \n",
    "    # Replace ( with ) and vice versa\n",
    "    infix_list = list(infix)\n",
    "    for i in range(l):\n",
    "        if infix_list[i] == '(':\n",
    "            infix_list[i] = ')'\n",
    "        elif infix_list[i] == ')':\n",
    "            infix_list[i] = '('\n",
    "    \n",
    "    infix = ''.join(infix_list)\n",
    "    prefix = infix_to_postfix(infix)\n",
    "    \n",
    "    # Reverse postfix\n",
    "    prefix = prefix[::-1]\n",
    "    return prefix\n",
    "\n",
    "def main():\n",
    "    s = \"F+D-C*(B+A)\"\n",
    "    print(f\"Infix expression: {s}\")\n",
    "    print(f\"Prefix Expression: {infix_to_prefix(s)}\")\n",
    "\n",
    "if __name__ == \"__main__\":\n",
    "    main()"
   ]
  },
  {
   "cell_type": "markdown",
   "id": "4d98707b",
   "metadata": {},
   "source": [
    "## Postfix to Infix"
   ]
  },
  {
   "cell_type": "code",
   "execution_count": null,
   "id": "89cc490b",
   "metadata": {},
   "outputs": [
    {
     "name": "stdout",
     "output_type": "stream",
     "text": [
      "Postfix:  ABC*+D-\n",
      "Infix:    ((A+(B*C))-D)\n"
     ]
    }
   ],
   "source": [
    "def postfix_to_infix(s):\n",
    "    stack = []\n",
    "    for ch in s:\n",
    "        if ch.isalnum():\n",
    "            stack.append(ch)\n",
    "        else:\n",
    "            if len(stack) < 2:\n",
    "                raise ValueError(\"Invalid postfix expression\")\n",
    "            t1 = stack.pop()\n",
    "            t2 = stack.pop()\n",
    "            res = f\"({t2}{ch}{t1})\"\n",
    "            stack.append(res)\n",
    "    if len(stack) != 1:\n",
    "        raise ValueError(\"Invalid postfix expression\")\n",
    "    return stack[0]\n",
    "\n",
    "expr = \"ABC*+D-\"\n",
    "print(\"Postfix: \", expr)\n",
    "print(\"Infix:   \", postfix_to_infix(expr))"
   ]
  },
  {
   "cell_type": "markdown",
   "id": "502b638f",
   "metadata": {},
   "source": [
    "## Prefix to Infix"
   ]
  },
  {
   "cell_type": "code",
   "execution_count": 41,
   "id": "a8c9ddc8",
   "metadata": {},
   "outputs": [
    {
     "name": "stdout",
     "output_type": "stream",
     "text": [
      "Prefix:  *+PQ-MN\n",
      "Infix:   ((P+Q)*(M-N))\n"
     ]
    }
   ],
   "source": [
    "def prefixToInfix(s):\n",
    "    stack = []\n",
    "    for ch in s[::-1]:\n",
    "        if ch.isalnum():\n",
    "            stack.append(ch)\n",
    "        else:\n",
    "            if len(stack) < 2:\n",
    "                raise ValueError(\"Invalid prefix expression\")\n",
    "            t1 = stack.pop()\n",
    "            t2 = stack.pop()\n",
    "            res = f\"({t1}{ch}{t2})\"\n",
    "            stack.append(res)\n",
    "    if len(stack) != 1:\n",
    "        raise ValueError(\"Invalid prefix expression\")\n",
    "    return stack[0]\n",
    "\n",
    "prefix = \"*+PQ-MN\"\n",
    "print(\"Prefix: \", prefix)\n",
    "print(\"Infix:  \", prefixToInfix(prefix))\n",
    "\n"
   ]
  },
  {
   "cell_type": "markdown",
   "id": "6debe265",
   "metadata": {},
   "source": [
    "## Postfix to prefix"
   ]
  },
  {
   "cell_type": "code",
   "execution_count": 44,
   "id": "ccdb719e",
   "metadata": {},
   "outputs": [
    {
     "data": {
      "text/plain": [
       "'/-AB*+DEF'"
      ]
     },
     "execution_count": 44,
     "metadata": {},
     "output_type": "execute_result"
    }
   ],
   "source": [
    "def postfixToPrefix(s):\n",
    "    stack = []\n",
    "    for ch in s:\n",
    "        if ch.isalnum():\n",
    "            stack.append(ch)\n",
    "        # it is an operator\n",
    "        else:\n",
    "            if len(stack) < 2:\n",
    "                raise ValueError(\"invalid postfix expression\")\n",
    "            t1 = stack.pop()\n",
    "            t2 = stack.pop()\n",
    "            res = f\"{ch}{t2}{t1}\"\n",
    "            stack.append(res)\n",
    "    \n",
    "    if len(stack) !=1:\n",
    "       raise ValueError(\"Invalid postfix expression\")\n",
    "    return stack[0] \n",
    "\n",
    "postfix = \"AB-DE+F*/\"\n",
    "postfixToPrefix(postfix)"
   ]
  },
  {
   "cell_type": "markdown",
   "id": "fd3bd31e",
   "metadata": {},
   "source": [
    "## prefix to postfix"
   ]
  },
  {
   "cell_type": "code",
   "execution_count": 47,
   "id": "d5fce3be",
   "metadata": {},
   "outputs": [
    {
     "data": {
      "text/plain": [
       "'AB-DE+F*/'"
      ]
     },
     "execution_count": 47,
     "metadata": {},
     "output_type": "execute_result"
    }
   ],
   "source": [
    "def prefixToPostfix(s):\n",
    "    stack = []\n",
    "    for ch in s[::-1]:\n",
    "        if ch.isalnum():\n",
    "            stack.append(ch)\n",
    "        else:\n",
    "            if len(stack) <2 :\n",
    "                raise ValueError(\"invalid prefix expression\")\n",
    "            t1 = stack.pop()\n",
    "            t2 = stack.pop()\n",
    "            res = f\"{t1}{t2}{ch}\"\n",
    "            stack.append(res)\n",
    "            \n",
    "    if len(stack)!= 1:\n",
    "        raise ValueError(\"invalid prefix expression\")\n",
    "    return stack[0]\n",
    "\n",
    "prefix = \"/-AB*+DEF\"\n",
    "prefixToPostfix(prefix)"
   ]
  },
  {
   "cell_type": "code",
   "execution_count": 1,
   "id": "276dadb9",
   "metadata": {},
   "outputs": [],
   "source": [
    "def nextgreaterElement(arr):\n",
    "    n = len(arr)\n",
    "    nge = [-1]*n\n",
    "    \n",
    "    stack = []\n",
    "    for i in range(n-1,-1,-1):\n",
    "        while stack and stack[-1] <= arr[i]:\n",
    "            stack.pop()\n",
    "        if stack:\n",
    "            nge[i] = stack[-1]\n",
    "        # else: nge[i] already -1\n",
    "        stack.append(arr[i])\n",
    "    \n",
    "    return nge"
   ]
  },
  {
   "cell_type": "code",
   "execution_count": null,
   "id": "0e3ff042",
   "metadata": {},
   "outputs": [],
   "source": []
  }
 ],
 "metadata": {
  "kernelspec": {
   "display_name": "Python 3",
   "language": "python",
   "name": "python3"
  },
  "language_info": {
   "codemirror_mode": {
    "name": "ipython",
    "version": 3
   },
   "file_extension": ".py",
   "mimetype": "text/x-python",
   "name": "python",
   "nbconvert_exporter": "python",
   "pygments_lexer": "ipython3",
   "version": "3.12.0"
  }
 },
 "nbformat": 4,
 "nbformat_minor": 5
}
