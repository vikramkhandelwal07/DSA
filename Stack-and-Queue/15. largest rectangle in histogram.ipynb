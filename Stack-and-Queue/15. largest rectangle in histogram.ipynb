{
 "cells": [
  {
   "cell_type": "markdown",
   "metadata": {},
   "source": [
    "## Brute Force\n",
    "- TC - O(5n)\n",
    "- SC - O(2n)"
   ]
  },
  {
   "cell_type": "code",
   "execution_count": 9,
   "metadata": {},
   "outputs": [
    {
     "name": "stdout",
     "output_type": "stream",
     "text": [
      "10\n",
      "4\n"
     ]
    }
   ],
   "source": [
    "def findNse(nums):\n",
    "    n = len(nums)\n",
    "    nse = [n] * n  # Store indices, not values\n",
    "    stack = []\n",
    "    \n",
    "    for i in range(n):\n",
    "        while stack and nums[stack[-1]] > nums[i]:\n",
    "            nse[stack.pop()] = i  # Store index, not value\n",
    "        stack.append(i)\n",
    "    \n",
    "    return nse\n",
    "\n",
    "def findPse(nums):\n",
    "    n = len(nums)\n",
    "    pse = [-1] * n  # Store indices, not values\n",
    "    stack = []\n",
    "    \n",
    "    for i in range(n-1, -1, -1):\n",
    "        while stack and nums[stack[-1]] > nums[i]: \n",
    "            pse[stack.pop()] = i  # Store index, not value\n",
    "        stack.append(i)\n",
    "    \n",
    "    return pse\n",
    "\n",
    "def largestRectangle(nums):\n",
    "    n = len(nums)\n",
    "    nse = findNse(nums)\n",
    "    pse = findPse(nums)\n",
    "    maxi = 0\n",
    "    \n",
    "    for i in range(n):\n",
    "        width = nse[i] - pse[i] - 1\n",
    "        maxi = max(maxi, nums[i] * width)\n",
    "    \n",
    "    return maxi\n",
    "\n",
    "nums = [2,1,5,6,2,3]\n",
    "print(f\"{largestRectangle(nums)}\")\n",
    "heights = [2,4]\n",
    "print(f\"{largestRectangle(heights)}\")\n"
   ]
  },
  {
   "cell_type": "markdown",
   "metadata": {},
   "source": [
    "## Optimal Code"
   ]
  },
  {
   "cell_type": "code",
   "execution_count": 12,
   "metadata": {},
   "outputs": [
    {
     "name": "stdout",
     "output_type": "stream",
     "text": [
      "10\n",
      "4\n"
     ]
    }
   ],
   "source": [
    "def largestRectangleArea(nums):\n",
    "    stack = []\n",
    "    maxArea = 0\n",
    "    n = len(nums)\n",
    "    \n",
    "    for i in range(n):\n",
    "        while stack and nums[stack[-1]] > nums[i]:\n",
    "            element = stack.pop()\n",
    "            height = nums[element]  \n",
    "            nse = i  # Current index is the next smaller element\n",
    "            pse = stack[-1] if stack else -1  # Previous smaller index\n",
    "            maxArea = max(maxArea, height * (nse - pse - 1))\n",
    "        stack.append(i)\n",
    "    \n",
    "    # Process remaining elements in stack\n",
    "    while stack:\n",
    "        element = stack.pop()\n",
    "        height = nums[element]\n",
    "        nse = n  # Since no smaller element exists, assume end of array\n",
    "        pse = stack[-1] if stack else -1\n",
    "        maxArea = max(maxArea, height * (nse - pse - 1))\n",
    "    \n",
    "    return maxArea\n",
    "\n",
    "# Test cases\n",
    "nums = [2, 1, 5, 6, 2, 3]\n",
    "print(largestRectangleArea(nums))  # Output: 10\n",
    "\n",
    "heights = [2, 4]\n",
    "print(largestRectangleArea(heights))  # Output: 4\n"
   ]
  },
  {
   "cell_type": "code",
   "execution_count": 15,
   "metadata": {},
   "outputs": [
    {
     "name": "stdout",
     "output_type": "stream",
     "text": [
      "The largest area in the histogram is 10\n",
      "The largest area in the histogram is 25\n",
      "4\n"
     ]
    }
   ],
   "source": [
    "def largestRectangleArea(nums):\n",
    "    stack = []\n",
    "    maxA = 0\n",
    "    n = len(nums)\n",
    "\n",
    "    for i in range(n + 1): \n",
    "        while stack and (i == n or nums[stack[-1]] >= nums[i]):\n",
    "            height = nums[stack.pop()]\n",
    "            width = i if not stack else i - stack[-1] - 1\n",
    "            maxA = max(maxA, width * height)\n",
    "        stack.append(i)\n",
    "    \n",
    "    return maxA\n",
    "\n",
    "# Example usage\n",
    "nums = [2, 1, 5, 6, 2, 3, 1]\n",
    "print(f\"The largest area in the histogram is {largestRectangleArea(nums)}\")\n",
    "nums = [3, 2, 10, 11, 5, 10, 6, 3]\n",
    "print(f\"The largest area in the histogram is {largestRectangleArea(nums)}\")\n",
    "heights = [2, 4]\n",
    "print(largestRectangleArea(heights))\n"
   ]
  },
  {
   "cell_type": "code",
   "execution_count": null,
   "metadata": {},
   "outputs": [],
   "source": []
  }
 ],
 "metadata": {
  "kernelspec": {
   "display_name": "Python 3",
   "language": "python",
   "name": "python3"
  },
  "language_info": {
   "codemirror_mode": {
    "name": "ipython",
    "version": 3
   },
   "file_extension": ".py",
   "mimetype": "text/x-python",
   "name": "python",
   "nbconvert_exporter": "python",
   "pygments_lexer": "ipython3",
   "version": "3.12.0"
  }
 },
 "nbformat": 4,
 "nbformat_minor": 2
}
