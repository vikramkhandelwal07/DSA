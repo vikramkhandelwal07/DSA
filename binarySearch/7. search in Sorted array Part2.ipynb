{
 "cells": [
  {
   "cell_type": "code",
   "execution_count": 3,
   "metadata": {},
   "outputs": [],
   "source": [
    "def search(nums,target):\n",
    "  n = len(nums)\n",
    "  low = 0\n",
    "  high = n -1\n",
    "  while low <= high:\n",
    "    mid = (low+high)//2\n",
    "    if nums[mid] == target:\n",
    "      return True\n",
    "    if nums[low] == nums[mid] and nums[mid] == nums[high]:\n",
    "      low+=1\n",
    "      high -=1\n",
    "      continue\n",
    "    \n",
    "    # left sorted\n",
    "    if nums[low] <= nums[mid]:\n",
    "      if (nums[low] <= target and target <= nums[mid]):\n",
    "        high = mid-1\n",
    "      else:\n",
    "        low = mid+1\n",
    "    \n",
    "    # right Sorted  \n",
    "    else:\n",
    "      if nums[mid] <= target and target <= nums[high]:\n",
    "        low = mid+1\n",
    "      else:\n",
    "        high = mid - 1\n",
    "        \n",
    "  \n",
    "  return False"
   ]
  },
  {
   "cell_type": "code",
   "execution_count": 5,
   "metadata": {},
   "outputs": [
    {
     "name": "stdout",
     "output_type": "stream",
     "text": [
      "True\n"
     ]
    }
   ],
   "source": [
    "nums = [2,5,6,0,0,1,2]\n",
    "target = 0\n",
    "output = search(nums,target)\n",
    "print(output)\n"
   ]
  },
  {
   "cell_type": "code",
   "execution_count": null,
   "metadata": {},
   "outputs": [],
   "source": []
  }
 ],
 "metadata": {
  "kernelspec": {
   "display_name": "Python 3",
   "language": "python",
   "name": "python3"
  },
  "language_info": {
   "codemirror_mode": {
    "name": "ipython",
    "version": 3
   },
   "file_extension": ".py",
   "mimetype": "text/x-python",
   "name": "python",
   "nbconvert_exporter": "python",
   "pygments_lexer": "ipython3",
   "version": "3.12.0"
  }
 },
 "nbformat": 4,
 "nbformat_minor": 2
}
