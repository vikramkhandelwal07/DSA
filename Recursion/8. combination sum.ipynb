{
 "cells": [
  {
   "cell_type": "markdown",
   "metadata": {},
   "source": [
    "## Combination sum\n",
    "- `TC- (2^t * k)`\n",
    "- `SC - (k * x)`"
   ]
  },
  {
   "cell_type": "code",
   "execution_count": 1,
   "metadata": {},
   "outputs": [],
   "source": [
    "def combinationSum(candidates,target):\n",
    "  ans = []\n",
    "  def findCombination(index,target,ds):\n",
    "    if index == len(candidates):\n",
    "      if target == 0:\n",
    "        ans.append(list(ds))\n",
    "      return\n",
    "\n",
    "    if candidates[index] <= target:\n",
    "      ds.append(candidates[index])\n",
    "      findCombination(index,target-candidates[index],ds)\n",
    "      ds.pop()\n",
    "      \n",
    "    findCombination(index+1,target,ds)\n",
    "    \n",
    "  findCombination(0,target,[])\n",
    "  return ans\n"
   ]
  },
  {
   "cell_type": "code",
   "execution_count": 3,
   "metadata": {},
   "outputs": [
    {
     "data": {
      "text/plain": [
       "[[2, 2, 3], [7]]"
      ]
     },
     "execution_count": 3,
     "metadata": {},
     "output_type": "execute_result"
    }
   ],
   "source": [
    "candidates = [2, 3, 6, 7]\n",
    "target = 7\n",
    "combinationSum(candidates,target)"
   ]
  },
  {
   "cell_type": "code",
   "execution_count": 15,
   "metadata": {},
   "outputs": [],
   "source": [
    "def combinationSum1(candidates,target):\n",
    "  ans = []\n",
    "  def FindCombination1(index,target,ds):\n",
    "    if index == len(candidates):\n",
    "      if target == 0:\n",
    "        ans.append(list(ds))\n",
    "      return\n",
    "\n",
    "    if candidates[index]<= target:\n",
    "      ds.append(candidates[index])\n",
    "      FindCombination1(index,target-candidates[index],ds)\n",
    "      ds.pop()\n",
    "  \n",
    "    FindCombination1(index+1,target,ds)    \n",
    "  FindCombination1(0,target,[])\n",
    "  return ans"
   ]
  },
  {
   "cell_type": "code",
   "execution_count": 18,
   "metadata": {},
   "outputs": [
    {
     "data": {
      "text/plain": [
       "[[2, 2, 3], [7]]"
      ]
     },
     "execution_count": 18,
     "metadata": {},
     "output_type": "execute_result"
    }
   ],
   "source": [
    "candidates = [2, 3, 6, 7]\n",
    "target = 7\n",
    "combinationSum1(candidates,target)\n"
   ]
  },
  {
   "cell_type": "code",
   "execution_count": null,
   "metadata": {},
   "outputs": [],
   "source": []
  }
 ],
 "metadata": {
  "kernelspec": {
   "display_name": "Python 3",
   "language": "python",
   "name": "python3"
  },
  "language_info": {
   "codemirror_mode": {
    "name": "ipython",
    "version": 3
   },
   "file_extension": ".py",
   "mimetype": "text/x-python",
   "name": "python",
   "nbconvert_exporter": "python",
   "pygments_lexer": "ipython3",
   "version": "3.12.0"
  }
 },
 "nbformat": 4,
 "nbformat_minor": 2
}
