{
 "cells": [
  {
   "cell_type": "code",
   "execution_count": 1,
   "metadata": {},
   "outputs": [
    {
     "name": "stdout",
     "output_type": "stream",
     "text": [
      "Nums: [3, 1, 2, 4]\n",
      "NGE: [4, 2, 4, None]\n",
      "NSE: [1, None, None, None]\n",
      "PGE: [None, 3, 3, None]\n",
      "PSE: [None, None, 1, 2]\n"
     ]
    }
   ],
   "source": [
    "def findNGE(nums):\n",
    "    \"\"\"Next Greater Element (NGE) - First greater element on the right\"\"\"\n",
    "    n = len(nums)\n",
    "    nge = [n] * n  # Default value as 'n' (out of bounds index)\n",
    "    stack = []\n",
    "    \n",
    "    for i in range(n):\n",
    "        while stack and nums[stack[-1]] < nums[i]:\n",
    "            nge[stack.pop()] = i\n",
    "        stack.append(i)\n",
    "    \n",
    "    return nge\n",
    "\n",
    "def findNSE(nums):\n",
    "    \"\"\"Next Smaller Element (NSE) - First smaller element on the right\"\"\"\n",
    "    n = len(nums)\n",
    "    nse = [n] * n  # Default value as 'n' (out of bounds index)\n",
    "    stack = []\n",
    "    \n",
    "    for i in range(n):\n",
    "        while stack and nums[stack[-1]] > nums[i]:\n",
    "            nse[stack.pop()] = i\n",
    "        stack.append(i)\n",
    "    \n",
    "    return nse\n",
    "\n",
    "def findPGE(nums):\n",
    "    \"\"\"Previous Greater Element (PGE) - First greater element on the left\"\"\"\n",
    "    n = len(nums)\n",
    "    pge = [-1] * n  # Default value as '-1' (out of bounds index)\n",
    "    stack = []\n",
    "    \n",
    "    for i in range(n):\n",
    "        while stack and nums[stack[-1]] < nums[i]:\n",
    "            stack.pop()\n",
    "        pge[i] = stack[-1] if stack else -1\n",
    "        stack.append(i)\n",
    "    \n",
    "    return pge\n",
    "\n",
    "def findPSE(nums):\n",
    "    \"\"\"Previous Smaller Element (PSE) - First smaller element on the left\"\"\"\n",
    "    n = len(nums)\n",
    "    pse = [-1] * n  # Default value as '-1' (out of bounds index)\n",
    "    stack = []\n",
    "    \n",
    "    for i in range(n):\n",
    "        while stack and nums[stack[-1]] > nums[i]:\n",
    "            stack.pop()\n",
    "        pse[i] = stack[-1] if stack else -1\n",
    "        stack.append(i)\n",
    "    \n",
    "    return pse\n",
    "\n",
    "# Example Usage\n",
    "nums = [3, 1, 2, 4]\n",
    "\n",
    "nge = findNGE(nums)\n",
    "nse = findNSE(nums)\n",
    "pge = findPGE(nums)\n",
    "pse = findPSE(nums)\n",
    "\n",
    "print(f\"Nums: {nums}\")\n",
    "print(f\"NGE: {[nums[i] if i < len(nums) else None for i in nge]}\")\n",
    "print(f\"NSE: {[nums[i] if i < len(nums) else None for i in nse]}\")\n",
    "print(f\"PGE: {[nums[i] if i >= 0 else None for i in pge]}\")\n",
    "print(f\"PSE: {[nums[i] if i >= 0 else None for i in pse]}\")\n"
   ]
  },
  {
   "cell_type": "code",
   "execution_count": null,
   "metadata": {},
   "outputs": [],
   "source": [
    "\n"
   ]
  }
 ],
 "metadata": {
  "kernelspec": {
   "display_name": "Python 3",
   "language": "python",
   "name": "python3"
  },
  "language_info": {
   "codemirror_mode": {
    "name": "ipython",
    "version": 3
   },
   "file_extension": ".py",
   "mimetype": "text/x-python",
   "name": "python",
   "nbconvert_exporter": "python",
   "pygments_lexer": "ipython3",
   "version": "3.12.0"
  }
 },
 "nbformat": 4,
 "nbformat_minor": 2
}
