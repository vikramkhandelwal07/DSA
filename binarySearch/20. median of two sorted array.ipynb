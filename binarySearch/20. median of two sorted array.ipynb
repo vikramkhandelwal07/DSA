{
 "cells": [
  {
   "cell_type": "markdown",
   "metadata": {},
   "source": [
    "## Brute Force\n",
    "\n",
    "`TC - O(n1+ n2)`\n",
    "\n",
    "`SC - O(n1+n2)`"
   ]
  },
  {
   "cell_type": "code",
   "execution_count": 1,
   "metadata": {},
   "outputs": [],
   "source": [
    "from typing import List\n",
    "\n",
    "class Solution:\n",
    "  def findMedianSortedArrays(self, nums1: List[int], nums2: List[int]) -> float:\n",
    "      n1, n2 = len(nums1), len(nums2)\n",
    "      nums = []\n",
    "      i = 0\n",
    "      j = 0\n",
    "      while i < n1 and j < n2:\n",
    "          if nums1[i] <= nums2[j]:\n",
    "              nums.append(nums1[i])\n",
    "              i += 1\n",
    "          else:\n",
    "              nums.append(nums2[j])\n",
    "              j += 1\n",
    "\n",
    "      while i < n1:\n",
    "          nums.append(nums1[i])\n",
    "          i += 1\n",
    "\n",
    "      while j < n2:\n",
    "          nums.append(nums2[j])\n",
    "          j += 1\n",
    "\n",
    "      n = n1 + n2\n",
    "      if n % 2 == 1:  \n",
    "          return nums[n // 2]\n",
    "      else: \n",
    "          return (nums[n // 2] + nums[n // 2 - 1]) / 2\n"
   ]
  },
  {
   "cell_type": "code",
   "execution_count": 2,
   "metadata": {},
   "outputs": [
    {
     "name": "stdout",
     "output_type": "stream",
     "text": [
      "The median of two sorted arrays is 6.0\n"
     ]
    }
   ],
   "source": [
    "\n",
    "\n",
    "\n",
    "def median(a, b):\n",
    "    n1, n2 = len(a), len(b)\n",
    "    n = n1 + n2  \n",
    "    ind2 = n // 2\n",
    "    ind1 = ind2 - 1\n",
    "    cnt = 0\n",
    "    ind1el, ind2el = -1, -1\n",
    "\n",
    "    i, j = 0, 0\n",
    "    while i < n1 and j < n2:\n",
    "        if a[i] < b[j]:\n",
    "            if cnt == ind1:\n",
    "                ind1el = a[i]\n",
    "            if cnt == ind2:\n",
    "                ind2el = a[i]\n",
    "            cnt += 1\n",
    "            i += 1\n",
    "        else:\n",
    "            if cnt == ind1:\n",
    "                ind1el = b[j]\n",
    "            if cnt == ind2:\n",
    "                ind2el = b[j]\n",
    "            cnt += 1\n",
    "            j += 1\n",
    "\n",
    "    while i < n1:\n",
    "        if cnt == ind1:\n",
    "            ind1el = a[i]\n",
    "        if cnt == ind2:\n",
    "            ind2el = a[i]\n",
    "        cnt += 1\n",
    "        i += 1\n",
    "    while j < n2:\n",
    "        if cnt == ind1:\n",
    "            ind1el = b[j]\n",
    "        if cnt == ind2:\n",
    "            ind2el = b[j]\n",
    "        cnt += 1\n",
    "        j += 1\n",
    "\n",
    "    if n % 2 == 1:\n",
    "        return float(ind2el)\n",
    "\n",
    "    return float(ind1el + ind2el) / 2.0\n",
    "\n",
    "\n",
    "a = [1, 4, 7, 10, 12]\n",
    "b = [2, 3, 6, 15]\n",
    "median(a,b)\n",
    "print(\"The median of two sorted arrays is\", \"{:.1f}\".format(median(a, b)))\n",
    "\n"
   ]
  },
  {
   "cell_type": "code",
   "execution_count": 3,
   "metadata": {},
   "outputs": [
    {
     "name": "stdout",
     "output_type": "stream",
     "text": [
      "The median of two sorted arrays is 6.0\n"
     ]
    }
   ],
   "source": [
    "def median(a, b):\n",
    "    n1, n2 = len(a), len(b)\n",
    "    if n1 > n2:\n",
    "        return median(b, a)\n",
    "\n",
    "    n = n1 + n2  # total length\n",
    "    left = (n1 + n2 + 1) // 2  # length of left half\n",
    "    # apply binary search:\n",
    "    low, high = 0, n1\n",
    "    while low <= high:\n",
    "        mid1 = (low + high) // 2\n",
    "        mid2 = left - mid1\n",
    "        # calculate l1, l2, r1, and r2;\n",
    "        l1, l2, r1, r2 = float('-inf'), float('-inf'), float('inf'), float('inf')\n",
    "        if mid1 < n1:\n",
    "            r1 = a[mid1]\n",
    "        if mid2 < n2:\n",
    "            r2 = b[mid2]\n",
    "        if mid1 - 1 >= 0:\n",
    "            l1 = a[mid1 - 1]\n",
    "        if mid2 - 1 >= 0:\n",
    "            l2 = b[mid2 - 1]\n",
    "\n",
    "        if l1 <= r2 and l2 <= r1:\n",
    "            if n % 2 == 1:\n",
    "                return max(l1, l2)\n",
    "            else:\n",
    "                return (float(max(l1, l2)) + float(min(r1, r2))) / 2.0\n",
    "\n",
    "        # eliminate the halves:\n",
    "        elif l1 > r2:\n",
    "            high = mid1 - 1\n",
    "        else:\n",
    "            low = mid1 + 1\n",
    "    return 0  # dummy statement\n",
    "\n",
    "\n",
    "a = [1, 4, 7, 10, 12]\n",
    "b = [2, 3, 6, 15]\n",
    "print(\"The median of two sorted arrays is {:.1f}\".format(median(a, b)))\n",
    "\n"
   ]
  },
  {
   "cell_type": "code",
   "execution_count": null,
   "metadata": {},
   "outputs": [],
   "source": []
  }
 ],
 "metadata": {
  "kernelspec": {
   "display_name": "Python 3",
   "language": "python",
   "name": "python3"
  },
  "language_info": {
   "codemirror_mode": {
    "name": "ipython",
    "version": 3
   },
   "file_extension": ".py",
   "mimetype": "text/x-python",
   "name": "python",
   "nbconvert_exporter": "python",
   "pygments_lexer": "ipython3",
   "version": "3.12.0"
  }
 },
 "nbformat": 4,
 "nbformat_minor": 2
}
