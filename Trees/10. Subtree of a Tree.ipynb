{
 "cells": [
  {
   "cell_type": "markdown",
   "metadata": {},
   "source": [
    "**Subtree of a Tree**\n"
   ]
  },
  {
   "cell_type": "markdown",
   "metadata": {},
   "source": [
    "- find subroot in the tree\n",
    "- check identical (subroot and tree Structure)\n",
    "\n",
    "- and then check for non identical \n",
    "1. node.val != subroot.data\n",
    "2. node == null or subroot == null\n",
    "3. left subtree is non identical\n",
    "4. right subtree is non identical"
   ]
  },
  {
   "cell_type": "code",
   "execution_count": 1,
   "metadata": {},
   "outputs": [
    {
     "name": "stdout",
     "output_type": "stream",
     "text": [
      "True\n",
      "False\n"
     ]
    }
   ],
   "source": [
    "# Definition for a binary tree node.\n",
    "class TreeNode:\n",
    "  def __init__(self, val=0, left=None, right=None):\n",
    "    self.val = val\n",
    "    self.left = left\n",
    "    self.right = right\n",
    "\n",
    "class Solution:\n",
    "  def isIdentical(self, node, subRoot):\n",
    "    if not node and not subRoot:\n",
    "      return True\n",
    "    if not node or not subRoot or node.val != subRoot.val:\n",
    "      return False\n",
    "    \n",
    "    return self.isIdentical(node.left, subRoot.left) and self.isIdentical(node.right, subRoot.right)\n",
    "\n",
    "  def isSubtree(self, root, subRoot):\n",
    "    if not root:\n",
    "      return False  # Should return False, not None\n",
    "      \n",
    "    if root.val == subRoot.val:\n",
    "      if self.isIdentical(root, subRoot):\n",
    "        return True\n",
    "      \n",
    "    return self.isSubtree(root.left, subRoot) or self.isSubtree(root.right, subRoot)\n",
    "\n",
    "\n",
    "\n",
    "root = TreeNode(3)\n",
    "root.left = TreeNode(4)\n",
    "root.right = TreeNode(5)\n",
    "root.left.left = TreeNode(1)\n",
    "root.left.right = TreeNode(2)\n",
    "\n",
    "subRoot = TreeNode(4)\n",
    "subRoot.left = TreeNode(1)\n",
    "subRoot.right = TreeNode(2)\n",
    "\n",
    "sol = Solution()\n",
    "\n",
    "print(sol.isSubtree(root, subRoot))  \n",
    "\n",
    "subRoot2 = TreeNode(4)\n",
    "subRoot2.left = TreeNode(1)\n",
    "subRoot2.right = TreeNode(3)  \n",
    "\n",
    "print(sol.isSubtree(root, subRoot2)) \n"
   ]
  },
  {
   "cell_type": "code",
   "execution_count": null,
   "metadata": {},
   "outputs": [],
   "source": []
  }
 ],
 "metadata": {
  "kernelspec": {
   "display_name": "Python 3",
   "language": "python",
   "name": "python3"
  },
  "language_info": {
   "codemirror_mode": {
    "name": "ipython",
    "version": 3
   },
   "file_extension": ".py",
   "mimetype": "text/x-python",
   "name": "python",
   "nbconvert_exporter": "python",
   "pygments_lexer": "ipython3",
   "version": "3.12.0"
  }
 },
 "nbformat": 4,
 "nbformat_minor": 2
}
