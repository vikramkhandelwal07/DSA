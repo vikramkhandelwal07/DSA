{
 "cells": [
  {
   "cell_type": "markdown",
   "metadata": {},
   "source": [
    "#### Brute force that somesort of came to my mind"
   ]
  },
  {
   "cell_type": "code",
   "execution_count": 2,
   "metadata": {},
   "outputs": [],
   "source": [
    "class Node:\n",
    "    def __init__(self, value):\n",
    "        self.value = value\n",
    "        self.next = None\n",
    "        self.prev = None\n",
    "\n",
    "def arrayToLinkedList(nums):\n",
    "    if not nums:\n",
    "        return None\n",
    "    \n",
    "    head = Node(nums[0])\n",
    "    current = head\n",
    "    for number in nums[1:]:\n",
    "        new_node = Node(number)\n",
    "        current.next = new_node\n",
    "        new_node.prev = current\n",
    "        current = new_node\n",
    "    return head\n",
    "\n",
    "def print_list(head):\n",
    "    current = head\n",
    "    while current:\n",
    "        print(f\"{current.value}\", end=\" <-> \" if current.next else \"\")\n",
    "        current = current.next\n",
    "    print()"
   ]
  },
  {
   "cell_type": "markdown",
   "metadata": {},
   "source": [
    "#### Brute force "
   ]
  },
  {
   "cell_type": "code",
   "execution_count": 3,
   "metadata": {},
   "outputs": [],
   "source": [
    "def removeNthFromEnd(head,target):\n",
    "  if not head:\n",
    "    return\n",
    "  current = head\n",
    "  cnt = 0\n",
    "  while current:\n",
    "    current = current.next\n",
    "    cnt+=1\n",
    "  \n",
    "  current = head\n",
    "  positionToRemove = cnt - target\n",
    "  \n",
    "  if positionToRemove == 0:\n",
    "    return head.next\n",
    "  \n",
    "  for i in range(positionToRemove-1):\n",
    "    current = current.next\n",
    "    \n",
    "  if current.next:\n",
    "    current.next = current.next.next\n",
    "    \n",
    "  return head"
   ]
  },
  {
   "cell_type": "code",
   "execution_count": 5,
   "metadata": {},
   "outputs": [
    {
     "name": "stdout",
     "output_type": "stream",
     "text": [
      "Doubly Linked List  Initially:\n",
      "1 <-> 2 <-> 3 <-> 4 <-> 5 <-> 6 <-> 7 <-> 8 <-> 9 <-> 10\n",
      "list after removing 5 using brute force\n",
      "1 <-> 2 <-> 3 <-> 4 <-> 5 <-> 7 <-> 8 <-> 9 <-> 10\n"
     ]
    }
   ],
   "source": [
    "arr1 = [1,2,3,4,5,6,7,8,9,10]  \n",
    "head1 = arrayToLinkedList(arr1)\n",
    "print(\"Doubly Linked List  Initially:\")\n",
    "print_list(head1)\n",
    "target = 5\n",
    "output = removeNthFromEnd(head1,target)\n",
    "print(f\"list after removing {target} using brute force\")\n",
    "\n",
    "print_list(output)"
   ]
  },
  {
   "cell_type": "markdown",
   "metadata": {},
   "source": [
    "#### Optimal\n"
   ]
  },
  {
   "cell_type": "markdown",
   "metadata": {},
   "source": [
    "- first is fast pointer isko pehle hi jitna value n ka utna hi tu usko aage bhej dega and then tu durse pointer ko phir iske sath simultaneously aage badhayega jab tak tera first last tak nahi poch jata and eventually tera second jo node ko delete karna hai ispe hi rukhega "
   ]
  },
  {
   "cell_type": "code",
   "execution_count": 6,
   "metadata": {},
   "outputs": [],
   "source": [
    "def removeNthFromEnd(head,n):\n",
    "  dummy = Node(0)\n",
    "  dummy.next = head\n",
    "  first = dummy \n",
    "  second = dummy\n",
    "\n",
    "  # Move the `first` pointer `n + 1` steps ahead\n",
    "  for _ in range(n + 1):\n",
    "      first = first.next\n",
    "\n",
    "  # Move `first` to the end, maintaining the gap with `second`\n",
    "  while first:\n",
    "      first = first.next\n",
    "      second = second.next\n",
    "\n",
    "  # Remove the nth node from the end\n",
    "  second.next = second.next.next\n",
    "  return dummy.next\n"
   ]
  },
  {
   "cell_type": "code",
   "execution_count": 7,
   "metadata": {},
   "outputs": [
    {
     "name": "stdout",
     "output_type": "stream",
     "text": [
      "Doubly Linked List  Initially:\n",
      "1 <-> 2 <-> 3 <-> 4 <-> 5 <-> 6 <-> 7 <-> 8 <-> 9 <-> 10\n",
      "list after removing 5 using brute force\n",
      "1 <-> 2 <-> 3 <-> 4 <-> 5 <-> 7 <-> 8 <-> 9 <-> 10\n"
     ]
    }
   ],
   "source": [
    "arr1 = [1,2,3,4,5,6,7,8,9,10]  \n",
    "head1 = arrayToLinkedList(arr1)\n",
    "print(\"Doubly Linked List  Initially:\")\n",
    "print_list(head1)\n",
    "target = 5\n",
    "output = removeNthFromEnd(head1,target)\n",
    "print(f\"list after removing {target} using brute force\")\n",
    "\n",
    "print_list(output)"
   ]
  },
  {
   "cell_type": "code",
   "execution_count": null,
   "metadata": {},
   "outputs": [],
   "source": []
  }
 ],
 "metadata": {
  "kernelspec": {
   "display_name": "Python 3",
   "language": "python",
   "name": "python3"
  },
  "language_info": {
   "codemirror_mode": {
    "name": "ipython",
    "version": 3
   },
   "file_extension": ".py",
   "mimetype": "text/x-python",
   "name": "python",
   "nbconvert_exporter": "python",
   "pygments_lexer": "ipython3",
   "version": "3.12.0"
  }
 },
 "nbformat": 4,
 "nbformat_minor": 2
}
