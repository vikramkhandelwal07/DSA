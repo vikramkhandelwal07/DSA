{
 "cells": [
  {
   "cell_type": "code",
   "execution_count": 1,
   "id": "f3a2d83e",
   "metadata": {},
   "outputs": [],
   "source": [
    "from collections import deque\n",
    "def maxWidthOfTree(root):\n",
    "    if not root:\n",
    "        return 0\n",
    "    ans = 0\n",
    "    q = deque()\n",
    "    q.append((root,0))\n",
    "    while q:\n",
    "        size = len(q)\n",
    "        mmin = q[0][1]\n",
    "        first , last = None,None\n",
    "        for i in range(size):\n",
    "            node , idx = q.popleft()\n",
    "            currid = idx-mmin\n",
    "            \n",
    "            if i == 0:\n",
    "                first = currid\n",
    "            if i == size-1:\n",
    "                last = currid\n",
    "            \n",
    "            if node.left:\n",
    "                q.append((node.left, currid * 2 + 1))\n",
    "            if node.right:\n",
    "                q.append((node.right, currid * 2 + 2))\n",
    "            \n",
    "        ans = max(ans, last - first + 1)\n",
    "    return ans\n",
    "    \n"
   ]
  },
  {
   "cell_type": "code",
   "execution_count": null,
   "id": "e34e497a",
   "metadata": {},
   "outputs": [],
   "source": []
  }
 ],
 "metadata": {
  "kernelspec": {
   "display_name": "Python 3",
   "language": "python",
   "name": "python3"
  },
  "language_info": {
   "codemirror_mode": {
    "name": "ipython",
    "version": 3
   },
   "file_extension": ".py",
   "mimetype": "text/x-python",
   "name": "python",
   "nbconvert_exporter": "python",
   "pygments_lexer": "ipython3",
   "version": "3.12.0"
  }
 },
 "nbformat": 4,
 "nbformat_minor": 5
}
