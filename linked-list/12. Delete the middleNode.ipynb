{
 "cells": [
  {
   "cell_type": "code",
   "execution_count": 1,
   "id": "598d87fa",
   "metadata": {},
   "outputs": [
    {
     "name": "stdout",
     "output_type": "stream",
     "text": [
      "Original List:\n",
      "10 -> 20 -> 30 -> 40 -> 50 -> None\n",
      "List after deleting middle node:\n",
      "10 -> 20 -> 40 -> 50 -> None\n"
     ]
    }
   ],
   "source": [
    "class Node:\n",
    "    def __init__(self, data):\n",
    "        self.data = data\n",
    "        self.next = None\n",
    "\n",
    "def deleteMiddle(head):\n",
    "    if head is None or head.next is None:\n",
    "        return None  # No middle to delete\n",
    "\n",
    "    slow, fast, prev = head, head, None\n",
    "    while fast and fast.next:\n",
    "        prev = slow\n",
    "        slow = slow.next\n",
    "        fast = fast.next.next\n",
    "    \n",
    "    prev.next = slow.next\n",
    "    return head\n",
    "\n",
    "def printList(head):\n",
    "    while head:\n",
    "        print(head.data, end=\" -> \")\n",
    "        head = head.next\n",
    "    print(\"None\")\n",
    "\n",
    "# Example usage\n",
    "head = Node(10)\n",
    "head.next = Node(20)\n",
    "head.next.next = Node(30)\n",
    "head.next.next.next = Node(40)\n",
    "head.next.next.next.next = Node(50)\n",
    "\n",
    "print(\"Original List:\")\n",
    "printList(head)\n",
    "\n",
    "head = deleteMiddle(head)\n",
    "\n",
    "print(\"List after deleting middle node:\")\n",
    "printList(head)\n"
   ]
  },
  {
   "cell_type": "code",
   "execution_count": null,
   "id": "7214c3df",
   "metadata": {},
   "outputs": [],
   "source": []
  }
 ],
 "metadata": {
  "kernelspec": {
   "display_name": "Python 3",
   "language": "python",
   "name": "python3"
  },
  "language_info": {
   "codemirror_mode": {
    "name": "ipython",
    "version": 3
   },
   "file_extension": ".py",
   "mimetype": "text/x-python",
   "name": "python",
   "nbconvert_exporter": "python",
   "pygments_lexer": "ipython3",
   "version": "3.12.0"
  }
 },
 "nbformat": 4,
 "nbformat_minor": 5
}
