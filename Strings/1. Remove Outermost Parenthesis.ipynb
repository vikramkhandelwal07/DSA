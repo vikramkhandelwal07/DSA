{
 "cells": [
  {
   "cell_type": "code",
   "execution_count": null,
   "id": "db21ccf7",
   "metadata": {},
   "outputs": [
    {
     "data": {
      "text/plain": [
       "'()()()'"
      ]
     },
     "execution_count": 1,
     "metadata": {},
     "output_type": "execute_result"
    }
   ],
   "source": [
    "def removeOuterParenthesis(s):\n",
    "    res = []\n",
    "    cnt = 0\n",
    "    for c in s :\n",
    "        if c == \"(\":\n",
    "            if cnt > 0:\n",
    "                res.append(c)\n",
    "            cnt+=1\n",
    "        elif c == \")\":\n",
    "            cnt-=1\n",
    "            if cnt > 0:\n",
    "                res.append(c)\n",
    "    return \"\".join(res)\n",
    "\n",
    "s =\"(()())(())\"\n",
    "removeOuterParenthesis(s)"
   ]
  },
  {
   "cell_type": "code",
   "execution_count": null,
   "id": "4fc357eb",
   "metadata": {},
   "outputs": [],
   "source": []
  }
 ],
 "metadata": {
  "kernelspec": {
   "display_name": "Python 3",
   "language": "python",
   "name": "python3"
  },
  "language_info": {
   "codemirror_mode": {
    "name": "ipython",
    "version": 3
   },
   "file_extension": ".py",
   "mimetype": "text/x-python",
   "name": "python",
   "nbconvert_exporter": "python",
   "pygments_lexer": "ipython3",
   "version": "3.12.0"
  }
 },
 "nbformat": 4,
 "nbformat_minor": 5
}
