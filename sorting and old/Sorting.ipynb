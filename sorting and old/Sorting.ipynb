{
 "cells": [
  {
   "cell_type": "markdown",
   "metadata": {},
   "source": [
    "## Selection Sort\n"
   ]
  },
  {
   "cell_type": "code",
   "execution_count": null,
   "metadata": {},
   "outputs": [
    {
     "name": "stdout",
     "output_type": "stream",
     "text": [
      "[2, 3, 11, 23, 32, 65, 76, 98, 199]\n"
     ]
    }
   ],
   "source": [
    "#  time complexity is O(n^2)\n",
    "def selectionSort(arr):\n",
    "  n = len(arr)\n",
    "  for i in range(n):\n",
    "    mini = i\n",
    "    for j in range(i+1,n):\n",
    "      if arr[j] < arr[mini]:\n",
    "        arr[j], arr[mini] = arr[mini],arr[j]\n",
    "  return arr\n",
    "\n",
    "arr = [76,23,199,3,98,65,32,11,2]\n",
    "output = selectionSort(arr)\n",
    "print(output)"
   ]
  },
  {
   "cell_type": "markdown",
   "metadata": {},
   "source": [
    "## Bubble Sort"
   ]
  },
  {
   "cell_type": "code",
   "execution_count": null,
   "metadata": {},
   "outputs": [
    {
     "name": "stdout",
     "output_type": "stream",
     "text": [
      "[2, 3, 3, 11, 23, 32, 65, 76, 98, 98, 199]\n"
     ]
    }
   ],
   "source": [
    "# time complexity O(n^2)\n",
    "def BubbleSort(arr):\n",
    "  n = len(arr)\n",
    "  for i in range(n):\n",
    "    for j in range(n,i,-1):\n",
    "      if arr[j] < arr[j+1]:\n",
    "        arr[j], arr[j+1] = arr[j+1], arr[j]\n",
    "  return arr\n",
    "\n",
    "\n",
    "arr = [76,23,199,3,3,98,98,65,32,11,2]\n",
    "output = selectionSort(arr)\n",
    "print(output)"
   ]
  },
  {
   "cell_type": "code",
   "execution_count": null,
   "metadata": {},
   "outputs": [
    {
     "name": "stdout",
     "output_type": "stream",
     "text": [
      "[2, 3, 3, 11, 23, 32, 65, 76, 98, 98, 199]\n"
     ]
    }
   ],
   "source": [
    "# time complexity O(n^2)-for worst and avg\n",
    "# for best - O(n)\n",
    "# \n",
    "def BubbleSort(arr):\n",
    "  n = len(arr)\n",
    "  for i in range(n):\n",
    "    didSwap = 0\n",
    "    for j in range(n,i,-1):\n",
    "      if arr[j] < arr[j+1]:\n",
    "        arr[j], arr[j+1] = arr[j+1], arr[j]\n",
    "        didSwap = 1\n",
    "    \n",
    "    if didSwap == 0:\n",
    "      break\n",
    "  return arr\n",
    "\n",
    "# some improvement in algo\n",
    "arr = [76,23,199,3,3,98,98,65,32,11,2]\n",
    "output = selectionSort(arr)\n",
    "print(output)"
   ]
  },
  {
   "cell_type": "markdown",
   "metadata": {},
   "source": [
    "## Insertion Sort\n"
   ]
  },
  {
   "cell_type": "code",
   "execution_count": null,
   "metadata": {},
   "outputs": [
    {
     "name": "stdout",
     "output_type": "stream",
     "text": [
      "Your array after insertion sort is: [76, 2, 3, 3, 11, 23, 32, 65, 98, 98, 199]\n"
     ]
    }
   ],
   "source": [
    "# time complexity O(n^2)\n",
    "# best case O(n )\n",
    "def insertionSort(arr):\n",
    "    n = len(arr)\n",
    "    for i in range(1, n):  # Start from 1 since the first element is already considered sorted\n",
    "        key = arr[i]\n",
    "        j = i - 1\n",
    "        while j >=0 and arr[j] > key:\n",
    "            arr[j + 1] = arr[j]\n",
    "            j -= 1\n",
    "        arr[j + 1] = key\n",
    "    return arr\n",
    "\n",
    "# Driver code\n",
    "arr = [76,23,199,3,3,98,98,65,32,11,2]\n",
    "result = insertionSort(arr)\n",
    "print(\"Your array after insertion sort is:\", result)\n",
    "   "
   ]
  },
  {
   "cell_type": "markdown",
   "metadata": {},
   "source": [
    "## Merge Sort\n",
    "- Divide and merge\n",
    "- time complexity O(N*logN)"
   ]
  },
  {
   "cell_type": "code",
   "execution_count": null,
   "metadata": {},
   "outputs": [
    {
     "name": "stdout",
     "output_type": "stream",
     "text": [
      "Your array after mergesort is: [2, 3, 3, 11, 23, 32, 65, 76, 98, 98, 199]\n"
     ]
    }
   ],
   "source": [
    "\n",
    "\n",
    "def merge(arr, low, mid, high):\n",
    "    temp = []\n",
    "    left = low\n",
    "    right = mid + 1\n",
    "\n",
    "    # Merge two halves into the temp array\n",
    "    while left <= mid and right <= high:\n",
    "        if arr[left] <= arr[right]:\n",
    "            temp.append(arr[left])\n",
    "            left += 1\n",
    "        else:\n",
    "            temp.append(arr[right])\n",
    "            right += 1\n",
    "\n",
    "    # Copy remaining elements of left half, if any\n",
    "    while left <= mid:\n",
    "        temp.append(arr[left])\n",
    "        left += 1\n",
    "\n",
    "    # Copy remaining elements of right half, if any\n",
    "    while right <= high:\n",
    "        temp.append(arr[right])\n",
    "        right += 1\n",
    "\n",
    "    # Copy the sorted temp array back to the original array\n",
    "    for i in range(len(temp)):\n",
    "        arr[low + i] = temp[i]\n",
    "\n",
    "\n",
    "def mergeSort(arr, low, high):\n",
    "    if low < high:  # Base case: when low is not less than high, return\n",
    "        mid = (low + high) // 2\n",
    "        mergeSort(arr, low, mid)\n",
    "        mergeSort(arr, mid + 1, high)\n",
    "        merge(arr, low, mid, high)\n",
    "    return arr\n",
    "\n",
    "\n",
    "# Example usage\n",
    "arr = [76, 23, 199, 3, 3, 98, 98, 65, 32, 11, 2]\n",
    "low = 0\n",
    "high = len(arr) - 1\n",
    "result = mergeSort(arr, low, high)\n",
    "print(\"Your array after mergesort is:\", result)\n"
   ]
  },
  {
   "cell_type": "markdown",
   "metadata": {},
   "source": [
    "## QuickSort\n",
    "- pick a pivot and place it in it's correct place in the sorted array\n",
    "- smaller on the left larger on the right."
   ]
  },
  {
   "cell_type": "code",
   "execution_count": 7,
   "metadata": {},
   "outputs": [
    {
     "name": "stdout",
     "output_type": "stream",
     "text": [
      "Your array after quicksort is: [2, 3, 3, 11, 23, 32, 65, 76, 98, 98, 199]\n"
     ]
    }
   ],
   "source": [
    "def partition(arr, low, high):\n",
    "    pivot = arr[low]\n",
    "    i = low\n",
    "    j = high\n",
    "\n",
    "    while i < j:\n",
    "        # Find the first element greater than the pivot\n",
    "        while i <= high and arr[i] <= pivot:\n",
    "            i += 1\n",
    "        # Find the first element smaller than or equal to the pivot\n",
    "        while j >= low and arr[j] > pivot:\n",
    "            j -= 1\n",
    "        # Swap elements if i < j\n",
    "        if i < j:\n",
    "            arr[i], arr[j] = arr[j], arr[i]\n",
    "\n",
    "    # Place pivot in the correct position\n",
    "    arr[low], arr[j] = arr[j], arr[low]\n",
    "    return j\n",
    "\n",
    "\n",
    "def quickSort(arr, low, high):\n",
    "    if low < high:\n",
    "        # Partition the array and get the pivot index\n",
    "        partitionIndex = partition(arr, low, high)\n",
    "        # Sort the left and right subarrays\n",
    "        quickSort(arr, low, partitionIndex - 1)\n",
    "        quickSort(arr, partitionIndex + 1, high)\n",
    "\n",
    "\n",
    "# Example usage\n",
    "arr = [76, 23, 199, 3, 3, 98, 98, 65, 32, 11, 2]\n",
    "low = 0\n",
    "high = len(arr) - 1\n",
    "quickSort(arr, low, high)\n",
    "print(\"Your array after quicksort is:\", arr)\n"
   ]
  },
  {
   "cell_type": "code",
   "execution_count": 2,
   "metadata": {},
   "outputs": [
    {
     "name": "stdout",
     "output_type": "stream",
     "text": [
      "Your array after quicksort is: [2, 3, 3, 11, 23, 32, 65, 76, 98, 98, 199]\n"
     ]
    }
   ],
   "source": [
    "def partition(arr, low, high):\n",
    "    pivot = arr[low]  \n",
    "    i = low + 1 \n",
    "    j = high\n",
    "\n",
    "    while True:\n",
    "        while i <= j and arr[i] <= pivot:\n",
    "            i += 1\n",
    "        while i <= j and arr[j] > pivot:\n",
    "            j -= 1\n",
    "        if i > j:\n",
    "            break\n",
    "        arr[i], arr[j] = arr[j], arr[i]\n",
    "\n",
    "    arr[low], arr[j] = arr[j], arr[low]\n",
    "    return j\n",
    "\n",
    "\n",
    "def quickSort(arr, low, high):\n",
    "    while low < high:\n",
    "        partitionIndex = partition(arr, low, high)\n",
    "\n",
    "\n",
    "        if partitionIndex - low < high - partitionIndex:\n",
    "            quickSort(arr, low, partitionIndex - 1)\n",
    "            low = partitionIndex + 1  # Tail-call optimization for the right par\n",
    "            \n",
    "        else:\n",
    "            quickSort(arr, partitionIndex + 1, high)\n",
    "            high = partitionIndex - 1  # Tail-call optimization for the left part\n",
    "            \n",
    "\n",
    "arr = [76, 23, 199, 3, 3, 98, 98, 65, 32, 11, 2]\n",
    "quickSort(arr, 0, len(arr) - 1)\n",
    "print(\"Your array after quicksort is:\", arr)\n"
   ]
  },
  {
   "cell_type": "code",
   "execution_count": null,
   "metadata": {},
   "outputs": [],
   "source": []
  }
 ],
 "metadata": {
  "kernelspec": {
   "display_name": "Python 3",
   "language": "python",
   "name": "python3"
  },
  "language_info": {
   "codemirror_mode": {
    "name": "ipython",
    "version": 3
   },
   "file_extension": ".py",
   "mimetype": "text/x-python",
   "name": "python",
   "nbconvert_exporter": "python",
   "pygments_lexer": "ipython3",
   "version": "3.12.0"
  }
 },
 "nbformat": 4,
 "nbformat_minor": 2
}
