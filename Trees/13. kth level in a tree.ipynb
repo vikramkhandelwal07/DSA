{
 "cells": [
  {
   "cell_type": "code",
   "execution_count": null,
   "metadata": {},
   "outputs": [],
   "source": [
    "from collections import deque\n",
    "class TreeNode:\n",
    "  def __init__(self,val = 0, left = None, right = None):\n",
    "    self.val = val\n",
    "    self.left = left\n",
    "    self.right = right\n",
    "    \n",
    "class Solution:\n",
    "  def kthLevel(self,root,k):\n",
    "    if not root:\n",
    "      return None\n",
    "    level = 1\n",
    "    queue = deque([root])\n",
    "    while queue:\n",
    "      size = len(queue)\n",
    "      for i in range(size):\n",
    "        node = queue.popleft()\n",
    "        if level == k:\n",
    "          print(node.val, end=\" \")\n",
    "        if node.left:\n",
    "          queue.append(node.left)\n",
    "        if node.right:\n",
    "          queue.append(node.right)\n",
    "          \n",
    "      print()\n",
    "      level +=1\n",
    "      \n",
    "      \n"
   ]
  },
  {
   "cell_type": "code",
   "execution_count": 7,
   "metadata": {},
   "outputs": [
    {
     "name": "stdout",
     "output_type": "stream",
     "text": [
      "\n",
      "\n",
      "\n",
      "None\n"
     ]
    }
   ],
   "source": [
    "# Example Usage:\n",
    "# Constructing the tree:\n",
    "#         1\n",
    "#        / \\\n",
    "#       2   3\n",
    "#      / \\   \\\n",
    "#     4   5   6\n",
    "root = TreeNode(1)\n",
    "root.left = TreeNode(2)\n",
    "root.right = TreeNode(3)\n",
    "root.left.left = TreeNode(4)\n",
    "root.left.right = TreeNode(5)\n",
    "root.right.right = TreeNode(6)\n",
    "\n",
    "sol = Solution()\n",
    "print(sol.kthLevel(root,4))\n"
   ]
  },
  {
   "cell_type": "code",
   "execution_count": null,
   "metadata": {},
   "outputs": [],
   "source": []
  }
 ],
 "metadata": {
  "kernelspec": {
   "display_name": "Python 3",
   "language": "python",
   "name": "python3"
  },
  "language_info": {
   "codemirror_mode": {
    "name": "ipython",
    "version": 3
   },
   "file_extension": ".py",
   "mimetype": "text/x-python",
   "name": "python",
   "nbconvert_exporter": "python",
   "pygments_lexer": "ipython3",
   "version": "3.12.0"
  }
 },
 "nbformat": 4,
 "nbformat_minor": 2
}
