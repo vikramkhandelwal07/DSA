{
 "cells": [
  {
   "cell_type": "markdown",
   "metadata": {},
   "source": [
    "geneally 4 types of problems in this topic\n",
    "#### 1st. constant k"
   ]
  },
  {
   "cell_type": "code",
   "execution_count": 8,
   "metadata": {},
   "outputs": [
    {
     "name": "stdout",
     "output_type": "stream",
     "text": [
      "15\n"
     ]
    }
   ],
   "source": []
  },
  {
   "cell_type": "code",
   "execution_count": 6,
   "metadata": {},
   "outputs": [
    {
     "data": {
      "text/plain": [
       "7"
      ]
     },
     "execution_count": 6,
     "metadata": {},
     "output_type": "execute_result"
    }
   ],
   "source": [
    "nums = [-1,2,3,3,4,5,-1]\n",
    "sum(nums[0:4])\n"
   ]
  },
  {
   "cell_type": "markdown",
   "metadata": {},
   "source": [
    "2nd longest subarray/subString where `<condition>`\n",
    "- brute force\n",
    "- better\n",
    "- optimal\n"
   ]
  },
  {
   "cell_type": "markdown",
   "metadata": {},
   "source": [
    "- longest subarray with sum<=k"
   ]
  },
  {
   "cell_type": "code",
   "execution_count": 10,
   "metadata": {},
   "outputs": [
    {
     "ename": "IndexError",
     "evalue": "list index out of range",
     "output_type": "error",
     "traceback": [
      "\u001b[1;31m---------------------------------------------------------------------------\u001b[0m",
      "\u001b[1;31mIndexError\u001b[0m                                Traceback (most recent call last)",
      "Cell \u001b[1;32mIn[10], line 23\u001b[0m\n\u001b[0;32m     21\u001b[0m nums \u001b[38;5;241m=\u001b[39m [\u001b[38;5;241m2\u001b[39m,\u001b[38;5;241m5\u001b[39m,\u001b[38;5;241m1\u001b[39m,\u001b[38;5;241m10\u001b[39m,\u001b[38;5;241m12\u001b[39m]\n\u001b[0;32m     22\u001b[0m k \u001b[38;5;241m=\u001b[39m \u001b[38;5;241m15\u001b[39m\n\u001b[1;32m---> 23\u001b[0m output \u001b[38;5;241m=\u001b[39m \u001b[43mlongestSubarray\u001b[49m\u001b[43m(\u001b[49m\u001b[43mnums\u001b[49m\u001b[43m,\u001b[49m\u001b[43mk\u001b[49m\u001b[43m)\u001b[49m\n\u001b[0;32m     24\u001b[0m \u001b[38;5;28mprint\u001b[39m(output)\n",
      "Cell \u001b[1;32mIn[10], line 8\u001b[0m, in \u001b[0;36mlongestSubarray\u001b[1;34m(nums, k)\u001b[0m\n\u001b[0;32m      6\u001b[0m maxlength \u001b[38;5;241m=\u001b[39m \u001b[38;5;241m0\u001b[39m\n\u001b[0;32m      7\u001b[0m \u001b[38;5;28;01mwhile\u001b[39;00m r \u001b[38;5;241m<\u001b[39m\u001b[38;5;241m=\u001b[39mn:\n\u001b[1;32m----> 8\u001b[0m   summation \u001b[38;5;241m+\u001b[39m\u001b[38;5;241m=\u001b[39m\u001b[43mnums\u001b[49m\u001b[43m[\u001b[49m\u001b[43mr\u001b[49m\u001b[43m]\u001b[49m\n\u001b[0;32m      9\u001b[0m   \u001b[38;5;28;01mwhile\u001b[39;00m summation \u001b[38;5;241m>\u001b[39m k:\n\u001b[0;32m     10\u001b[0m     summation \u001b[38;5;241m-\u001b[39m\u001b[38;5;241m=\u001b[39m nums[l]\n",
      "\u001b[1;31mIndexError\u001b[0m: list index out of range"
     ]
    }
   ],
   "source": [
    "def longestSubarray(nums,k):\n",
    "  l = 0\n",
    "  r = 0\n",
    "  n = len(nums)\n",
    "  summation = 0\n",
    "  maxlength = 0\n",
    "  while r <=n:\n",
    "    summation +=nums[r]\n",
    "    while summation > k:\n",
    "      summation -= nums[l]\n",
    "      l+=1\n",
    "    \n",
    "    if summation <= k :\n",
    "      maxlength = max(maxlength,r-l+1)\n",
    "     \n",
    "    r+=1\n",
    "    \n",
    "  return maxlength \n",
    "    \n",
    "\n",
    "nums = [2,5,1,10,12]\n",
    "k = 15\n",
    "output = longestSubarray(nums,k)\n",
    "print(output)"
   ]
  },
  {
   "cell_type": "code",
   "execution_count": null,
   "metadata": {},
   "outputs": [],
   "source": []
  }
 ],
 "metadata": {
  "kernelspec": {
   "display_name": "Python 3",
   "language": "python",
   "name": "python3"
  },
  "language_info": {
   "codemirror_mode": {
    "name": "ipython",
    "version": 3
   },
   "file_extension": ".py",
   "mimetype": "text/x-python",
   "name": "python",
   "nbconvert_exporter": "python",
   "pygments_lexer": "ipython3",
   "version": "3.12.0"
  }
 },
 "nbformat": 4,
 "nbformat_minor": 2
}
