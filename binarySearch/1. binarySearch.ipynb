{
 "cells": [
  {
   "cell_type": "markdown",
   "metadata": {},
   "source": [
    "## Binary Search \n",
    "- TC - O($\\log_2 n$)\n",
    "- always used where the array is sorted\n"
   ]
  },
  {
   "cell_type": "code",
   "execution_count": null,
   "metadata": {},
   "outputs": [
    {
     "name": "stdout",
     "output_type": "stream",
     "text": [
      "your target element 56 is at index: 8\n"
     ]
    }
   ],
   "source": [
    "## Iterative Code\n",
    "\n",
    "def BinarySearch(nums,target):\n",
    "  n= len(nums)\n",
    "  low = 0\n",
    "  high = n-1\n",
    "  while low <= high:\n",
    "    mid = low + ((high-low)//2)\n",
    "    if nums[mid] == target:\n",
    "      return mid \n",
    "    elif nums[mid] < target:\n",
    "      low = mid+1\n",
    "    else:\n",
    "      high = mid-1\n",
    "      \n",
    "  return -1\n",
    "\n",
    "nums = [2,3,4,5,6,7,8,9,56]\n",
    "target = 56\n",
    "output = BinarySearch(nums,target)\n",
    "print(f\"your target element {target} is at index:\",output)\n"
   ]
  },
  {
   "cell_type": "markdown",
   "metadata": {},
   "source": [
    "## Recursive Code of Binary Search"
   ]
  },
  {
   "cell_type": "code",
   "execution_count": null,
   "metadata": {},
   "outputs": [
    {
     "name": "stdout",
     "output_type": "stream",
     "text": [
      "Your target element 8 is at index: 6\n"
     ]
    }
   ],
   "source": [
    "def RecursiveBinarySearch(nums, low, high, target):\n",
    "  if low <= high:\n",
    "    mid = (low + high) // 2\n",
    "    if nums[mid] == target:\n",
    "      return mid  \n",
    "    elif nums[mid] < target:\n",
    "      return RecursiveBinarySearch(nums, mid + 1, high, target)  \n",
    "    else:\n",
    "      return RecursiveBinarySearch(nums, low, mid - 1, target)\n",
    "  return -1 \n",
    "\n",
    "nums = [2, 3, 4, 5, 6, 7, 8, 9, 56]\n",
    "target = 8\n",
    "low = 0\n",
    "high = len(nums) - 1\n",
    "output = RecursiveBinarySearch(nums, low, high, target)\n",
    "if output != -1:\n",
    "    print(f\"Your target element {target} is at index: {output}\")\n",
    "else:\n",
    "    print(f\"Your target element {target} is not in the list.\")\n"
   ]
  },
  {
   "cell_type": "code",
   "execution_count": null,
   "metadata": {},
   "outputs": [],
   "source": []
  }
 ],
 "metadata": {
  "kernelspec": {
   "display_name": "Python 3",
   "language": "python",
   "name": "python3"
  },
  "language_info": {
   "codemirror_mode": {
    "name": "ipython",
    "version": 3
   },
   "file_extension": ".py",
   "mimetype": "text/x-python",
   "name": "python",
   "nbconvert_exporter": "python",
   "pygments_lexer": "ipython3",
   "version": "3.12.0"
  }
 },
 "nbformat": 4,
 "nbformat_minor": 2
}
