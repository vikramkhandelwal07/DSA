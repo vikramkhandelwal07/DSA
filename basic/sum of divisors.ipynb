{
 "cells": [
  {
   "cell_type": "markdown",
   "metadata": {},
   "source": [
    "# Sum of all Divisors upto N number"
   ]
  },
  {
   "cell_type": "markdown",
   "metadata": {},
   "source": [
    "Sum of all divisors from 1 to n\n",
    "Difficulty: Easy\n",
    "Given a positive integer N., The task is to find the value of Σi from 1 to N F(i) where function F(i) for the number i is defined as the sum of all divisors of i.\n",
    "\n",
    "Example 1:\n",
    "\n",
    "Input:\n",
    "N = 4\n",
    "Output:\n",
    "15\n",
    "Explanation:\n",
    "F(1) = 1\n",
    "\n",
    "F(2) = 1 + 2 = 3\n",
    "\n",
    "F(3) = 1 + 3 = 4\n",
    "\n",
    "F(4) = 1 + 2 + 4 = 7\n",
    "\n",
    "ans = F(1) + F(2) + F(3) + F(4)\n",
    "    = 1 + 3 + 4 + 7\n",
    "    = 15\n",
    "\n",
    "Example 2:\n",
    "\n",
    "Input:\n",
    "N = 5\n",
    "Output:\n",
    "21\n",
    "Explanation:\n",
    "F(1) = 1\n",
    "\n",
    "F(2) = 1 + 2 = 3\n",
    "\n",
    "F(3) = 1 + 3 = 4\n",
    "\n",
    "F(4) = 1 + 2 + 4 = 7\n",
    "\n",
    "F(5) = 1 + 5 = 6\n",
    "\n",
    "ans = F(1) + F(2) + F(3) + F(4) + F(5)\n",
    "    = 1 + 3 + 4 + 7 + 6\n",
    "    = 21\n",
    "Your Task:  \n",
    "\n",
    "You don't need to read input or print anything. Your task is to complete the function sumOfDivisors() which takes an integer N as an input parameter and returns an integer.\n",
    "\n",
    "Expected Time Complexity: O(N)\n",
    "Expected Auxiliary Space: O(1)\n",
    "\n",
    "Constraints:\n",
    "1 <= N <= 106"
   ]
  },
  {
   "cell_type": "code",
   "execution_count": 7,
   "metadata": {},
   "outputs": [
    {
     "name": "stdout",
     "output_type": "stream",
     "text": [
      "Sum of divisors: 21\n"
     ]
    }
   ],
   "source": [
    "class Solution:\n",
    "    def sumOfDivisors(self, N):\n",
    "        if N <=0:\n",
    "            return 0\n",
    "        div_sum =0\n",
    "        for i in range(1,N+1):\n",
    "            k = N//i\n",
    "            div_sum+= i*k\n",
    "        \n",
    "        return div_sum\n",
    "    \n",
    "\n",
    "\n",
    "# Create an instance of the Solution class\n",
    "obj = Solution()\n",
    "\n",
    "# Test the method with an input value\n",
    "N = int(input(\"Enter the number: \"))\n",
    "print(\"Sum of divisors:\", obj.sumOfDivisors(N))\n",
    "\n",
    "# isme k ka matlab hai ki agar N ko i se divide karenge toh wo k times aayega between 1 to N as a divisor of any number \n",
    "# for eg agar i = 2 hai and N = 6 hai so N//i i.e 6//2 = 3 matlab --> 2 as factor 3 baar ayega 2 , 4 , 6 mai "
   ]
  },
  {
   "cell_type": "markdown",
   "metadata": {},
   "source": [
    "For N = 6:\n",
    "\n",
    " When i = 1, k = 6 // 1 = 6. So, div_sum += 1 * 6 (since 1 is a divisor of all numbers).\n",
    " \n",
    " When i = 2, k = 6 // 2 = 3. So, div_sum += 2 * 3 (since 2 is a divisor of 2, 4, and 6).\n",
    "\n",
    " When i = 3, k = 6 // 3 = 2. So, div_sum += 3 * 2 (since 3 is a divisor of 3 and 6).\n",
    "\n",
    " When i = 4, k = 6 // 4 = 1. So, div_sum += 4 * 1 (since 4 is a divisor of 4).\n",
    " \n",
    " When i = 5, k = 6 // 5 = 1. So, div_sum += 5 * 1 (since 5 is a divisor of 5).\n",
    "\n",
    " When i = 6, k = 6 // 6 = 1. So, div_sum += 6 * 1 (since 6 is a divisor of 6)."
   ]
  },
  {
   "cell_type": "code",
   "execution_count": null,
   "metadata": {},
   "outputs": [],
   "source": []
  }
 ],
 "metadata": {
  "kernelspec": {
   "display_name": "Python 3",
   "language": "python",
   "name": "python3"
  },
  "language_info": {
   "codemirror_mode": {
    "name": "ipython",
    "version": 3
   },
   "file_extension": ".py",
   "mimetype": "text/x-python",
   "name": "python",
   "nbconvert_exporter": "python",
   "pygments_lexer": "ipython3",
   "version": "3.12.0"
  }
 },
 "nbformat": 4,
 "nbformat_minor": 2
}
