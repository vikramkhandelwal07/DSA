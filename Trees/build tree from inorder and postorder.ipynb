{
 "cells": [
  {
   "cell_type": "code",
   "execution_count": 1,
   "id": "5f764a84",
   "metadata": {},
   "outputs": [],
   "source": [
    "def buildTree(postorder,inorder):\n",
    "    if not postorder and not inorder:\n",
    "        return None\n",
    "    \n",
    "    idxMap = {val: idx for indx,val in enumerate(inorder)}\n",
    "    \n",
    "    def helper(postleft,postright,inleft,inright):\n",
    "        if inleft > inright:\n",
    "            return None\n",
    "        \n",
    "        rootVal = postorder.pop()\n",
    "        root = TreeNode(rootVal)\n",
    "        inRootIdx = idxMap[rootVal]\n",
    "       \n",
    "        root.right = helper(inRootIdx+1,inright)\n",
    "        root.left = helper(inleft,inRootIdx-1)\n",
    "        return root\n",
    "    return helper(0,len(inorder) - 1)"
   ]
  },
  {
   "cell_type": "code",
   "execution_count": null,
   "id": "49a46a0e",
   "metadata": {},
   "outputs": [],
   "source": []
  }
 ],
 "metadata": {
  "kernelspec": {
   "display_name": "Python 3",
   "language": "python",
   "name": "python3"
  },
  "language_info": {
   "codemirror_mode": {
    "name": "ipython",
    "version": 3
   },
   "file_extension": ".py",
   "mimetype": "text/x-python",
   "name": "python",
   "nbconvert_exporter": "python",
   "pygments_lexer": "ipython3",
   "version": "3.12.0"
  }
 },
 "nbformat": 4,
 "nbformat_minor": 5
}
