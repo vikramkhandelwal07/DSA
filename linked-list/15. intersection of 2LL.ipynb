{
 "cells": [
  {
   "cell_type": "code",
   "execution_count": null,
   "id": "bb200c70",
   "metadata": {},
   "outputs": [],
   "source": [
    "def getIntersectionNode(headA,headB):\n",
    "    hashA = {}\n",
    "    hashB = {}\n",
    "    one = headA\n",
    "    two = headB\n",
    "    while one and two:\n",
    "        if one in hashB:\n",
    "            return one\n",
    "        hashA[one] = one.val\n",
    "        if two in hashA:\n",
    "            return two\n",
    "        hashB[two] = two.val\n",
    "        \n",
    "        one = one.next\n",
    "        two = two.next\n",
    "        \n",
    "        \n",
    "    while one:\n",
    "        if one in hashB:\n",
    "            return one\n",
    "        hashA[one] = one.val\n",
    "        one = one.next\n",
    "        \n",
    "    while two:\n",
    "        if two in hashA:\n",
    "            return two\n",
    "        hashB[two] = two.val\n",
    "        two = two.next\n",
    "        \n",
    "    return None\n",
    "    \n",
    "        "
   ]
  }
 ],
 "metadata": {
  "language_info": {
   "name": "python"
  }
 },
 "nbformat": 4,
 "nbformat_minor": 5
}
