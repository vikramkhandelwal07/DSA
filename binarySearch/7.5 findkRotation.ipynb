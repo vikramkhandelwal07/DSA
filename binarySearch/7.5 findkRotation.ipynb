{
 "cells": [
  {
   "cell_type": "code",
   "execution_count": 2,
   "id": "da1e4d8c",
   "metadata": {},
   "outputs": [
    {
     "name": "stdout",
     "output_type": "stream",
     "text": [
      "The array is rotated 4 times.\n"
     ]
    }
   ],
   "source": [
    "import sys\n",
    "def findKRotation(arr):\n",
    "    low = 0\n",
    "    high = len(arr) - 1\n",
    "    ans = float('inf')\n",
    "    index = -1\n",
    "    while low <= high:\n",
    "        mid = (low + high) // 2\n",
    "        # If search space is already sorted,\n",
    "        # then arr[low] will always be\n",
    "        # the minimum in that search space\n",
    "        if arr[low] <= arr[high]:\n",
    "            if arr[low] < ans:\n",
    "                index = low\n",
    "                ans = arr[low]\n",
    "            break\n",
    "\n",
    "        # If left part is sorted\n",
    "        if arr[low] <= arr[mid]:\n",
    "            # Keep the minimum\n",
    "            if arr[low] < ans:\n",
    "                index = low\n",
    "                ans = arr[low]\n",
    "\n",
    "            # Eliminate left half\n",
    "            low = mid + 1\n",
    "        else:  # If right part is sorted\n",
    "            # Keep the minimum\n",
    "            if arr[mid] < ans:\n",
    "                index = mid\n",
    "                ans = arr[mid]\n",
    "\n",
    "            # Eliminate right half\n",
    "            high = mid - 1\n",
    "\n",
    "    return index\n",
    "\n",
    "if __name__ == \"__main__\":\n",
    "    arr = [4, 5, 6, 7, 0, 1, 2, 3]\n",
    "    ans = findKRotation(arr)\n",
    "    print(\"The array is rotated\", ans, \"times.\")"
   ]
  },
  {
   "cell_type": "code",
   "execution_count": null,
   "id": "5ba4b00a",
   "metadata": {},
   "outputs": [],
   "source": []
  }
 ],
 "metadata": {
  "kernelspec": {
   "display_name": "Python 3",
   "language": "python",
   "name": "python3"
  },
  "language_info": {
   "codemirror_mode": {
    "name": "ipython",
    "version": 3
   },
   "file_extension": ".py",
   "mimetype": "text/x-python",
   "name": "python",
   "nbconvert_exporter": "python",
   "pygments_lexer": "ipython3",
   "version": "3.12.0"
  }
 },
 "nbformat": 4,
 "nbformat_minor": 5
}
