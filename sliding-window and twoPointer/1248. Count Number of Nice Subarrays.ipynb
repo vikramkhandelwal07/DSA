{
 "cells": [
  {
   "cell_type": "code",
   "execution_count": null,
   "id": "d849ac70",
   "metadata": {},
   "outputs": [
    {
     "data": {
      "text/plain": [
       "2"
      ]
     },
     "execution_count": 3,
     "metadata": {},
     "output_type": "execute_result"
    }
   ],
   "source": [
    "def numberOfSubarrays(nums,k):\n",
    "    def atmost(k):\n",
    "        n = len(nums)\n",
    "        l = 0\n",
    "        r = 0\n",
    "        cnt = 0\n",
    "        Sum = 0\n",
    "        for r in range(n):\n",
    "            Sum += (nums[r]% 2)\n",
    "            while Sum > k:\n",
    "                Sum -= (nums[l]% 2)\n",
    "                l +=1\n",
    "            cnt += (r-l+1)\n",
    "        return cnt\n",
    "    return atmost(k) - atmost(k-1)\n",
    "\n",
    "nums = [1,1,2,1,1]\n",
    "k = 3\n",
    "numberOfSubarrays(nums,k)"
   ]
  },
  {
   "cell_type": "code",
   "execution_count": null,
   "id": "b5c35493",
   "metadata": {},
   "outputs": [],
   "source": []
  }
 ],
 "metadata": {
  "kernelspec": {
   "display_name": "Python 3",
   "language": "python",
   "name": "python3"
  },
  "language_info": {
   "codemirror_mode": {
    "name": "ipython",
    "version": 3
   },
   "file_extension": ".py",
   "mimetype": "text/x-python",
   "name": "python",
   "nbconvert_exporter": "python",
   "pygments_lexer": "ipython3",
   "version": "3.12.0"
  }
 },
 "nbformat": 4,
 "nbformat_minor": 5
}
