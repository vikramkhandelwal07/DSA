{
 "cells": [
  {
   "cell_type": "markdown",
   "id": "634b077d",
   "metadata": {},
   "source": [
    "### Brute Force"
   ]
  },
  {
   "cell_type": "code",
   "execution_count": 5,
   "id": "4b7d999c",
   "metadata": {},
   "outputs": [
    {
     "name": "stdout",
     "output_type": "stream",
     "text": [
      "5\n"
     ]
    }
   ],
   "source": [
    "def largestSubArray(nums):\n",
    "    n = len(nums)\n",
    "    maxlength = 0\n",
    "    SubArray = []\n",
    "    for i in range(n):\n",
    "        for j in range(i+1,n):\n",
    "            subarray = nums[i:j+1]\n",
    "            SubArray.append(subarray)\n",
    "            \n",
    "    for num in SubArray:\n",
    "        if sum(num) == 0:\n",
    "            length = len(num)\n",
    "            maxlength = max(length,maxlength)\n",
    "    return maxlength\n",
    "array = [9, -3, 3, -1, 6, -5]\n",
    "x = largestSubArray(array)\n",
    "print(x)\n",
    "            "
   ]
  },
  {
   "cell_type": "code",
   "execution_count": 7,
   "id": "e66c6f9d",
   "metadata": {},
   "outputs": [
    {
     "name": "stdout",
     "output_type": "stream",
     "text": [
      "5\n"
     ]
    }
   ],
   "source": [
    "def largestSubArray(nums):\n",
    "    n = len(nums)\n",
    "    maxlength = 0\n",
    "    for i in range(n):\n",
    "        Sum = 0\n",
    "        for j in range(i,n):\n",
    "            Sum += nums[j]\n",
    "            if Sum == 0:\n",
    "                maxlength = max(maxlength, j-i+1)\n",
    "    return maxlength\n",
    "array = [9, -3, 3, -1, 6, -5]\n",
    "x = largestSubArray(array)\n",
    "print(x)\n",
    "            "
   ]
  },
  {
   "cell_type": "markdown",
   "id": "8db0a29b",
   "metadata": {},
   "source": [
    "### optimal"
   ]
  },
  {
   "cell_type": "code",
   "execution_count": 5,
   "id": "eb4eb2d7",
   "metadata": {},
   "outputs": [
    {
     "name": "stdout",
     "output_type": "stream",
     "text": [
      "4\n"
     ]
    }
   ],
   "source": [
    "def maxSubArray(nums):\n",
    "    n = len(nums)\n",
    "    mpp = {} \n",
    "    maxlength = 0\n",
    "    Sum = 0\n",
    "    for i in range(n):\n",
    "        Sum += nums[i]\n",
    "        if Sum == 0:\n",
    "            maxlength = i + 1\n",
    "        elif Sum in mpp:\n",
    "            maxlength = max(maxlength, i - mpp[Sum])\n",
    "        else:\n",
    "            mpp[Sum] = i\n",
    "    return maxlength\n",
    "\n",
    "nums = [1, 2, -2, 4, -4]\n",
    "print(maxSubArray(nums))  \n",
    "\n"
   ]
  },
  {
   "cell_type": "code",
   "execution_count": null,
   "id": "4cc413a4",
   "metadata": {},
   "outputs": [],
   "source": []
  }
 ],
 "metadata": {
  "kernelspec": {
   "display_name": "Python 3",
   "language": "python",
   "name": "python3"
  },
  "language_info": {
   "codemirror_mode": {
    "name": "ipython",
    "version": 3
   },
   "file_extension": ".py",
   "mimetype": "text/x-python",
   "name": "python",
   "nbconvert_exporter": "python",
   "pygments_lexer": "ipython3",
   "version": "3.12.0"
  }
 },
 "nbformat": 4,
 "nbformat_minor": 5
}
