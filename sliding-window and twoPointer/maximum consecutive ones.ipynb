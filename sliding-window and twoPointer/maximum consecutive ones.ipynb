{
 "cells": [
  {
   "cell_type": "markdown",
   "metadata": {},
   "source": [
    "#### max consecutives one or longest subarray with atmost k zeros"
   ]
  },
  {
   "cell_type": "code",
   "execution_count": null,
   "metadata": {},
   "outputs": [],
   "source": []
  },
  {
   "cell_type": "code",
   "execution_count": 1,
   "metadata": {},
   "outputs": [
    {
     "data": {
      "text/plain": [
       "10"
      ]
     },
     "execution_count": 1,
     "metadata": {},
     "output_type": "execute_result"
    }
   ],
   "source": [
    "# TC- O(N^2)\n",
    "# SC - O(1)\n",
    "def maximumConsecutiveOnes(nums,k):\n",
    "  n = len(nums)\n",
    "  maxlength = 0\n",
    "  for i in range(n):\n",
    "    zeroCount = 0\n",
    "    for j in range(i,n):\n",
    "      if nums[j] == 0:\n",
    "        zeroCount +=1\n",
    "      if zeroCount <= k:\n",
    "        length = j -i +1\n",
    "        maxlength = max(maxlength,length)\n",
    "      else:\n",
    "        break\n",
    "  \n",
    "  return maxlength\n",
    "        \n",
    "\n",
    "nums = [0,0,1,1,0,0,1,1,1,0,1,1,0,0,0,1,1,1,1]\n",
    "k = 3\n",
    "maximumConsecutiveOnes(nums,k)\n"
   ]
  },
  {
   "cell_type": "markdown",
   "metadata": {},
   "source": [
    "- TC-O(n)\n",
    "- SC-O(1)"
   ]
  },
  {
   "cell_type": "code",
   "execution_count": 2,
   "metadata": {},
   "outputs": [
    {
     "name": "stdout",
     "output_type": "stream",
     "text": [
      "10\n"
     ]
    }
   ],
   "source": [
    "def maximumConsecutiveOnes(nums, k):\n",
    "  n = len(nums)\n",
    "  max_length = 0\n",
    "  zero_count = 0\n",
    "  l = 0\n",
    "  for r in range(n):\n",
    "    if nums[r] == 0:\n",
    "      zero_count += 1\n",
    "    while zero_count > k:\n",
    "      if nums[l] == 0:\n",
    "        zero_count -= 1\n",
    "      l += 1\n",
    "      \n",
    "      max_length = max(max_length, r - l + 1)\n",
    "  \n",
    "  return max_length\n",
    "\n",
    "nums = [0, 0, 1, 1, 0, 0, 1, 1, 1, 0, 1, 1, 0, 0, 0, 1, 1, 1, 1]\n",
    "k = 3\n",
    "print(maximumConsecutiveOnes(nums, k))  # Output: 10\n"
   ]
  },
  {
   "cell_type": "code",
   "execution_count": 3,
   "metadata": {},
   "outputs": [
    {
     "name": "stdout",
     "output_type": "stream",
     "text": [
      "10\n"
     ]
    }
   ],
   "source": [
    "def maximumConsecutiveOnes(nums, k):\n",
    "  n = len(nums)\n",
    "  l = 0\n",
    "  r = 0\n",
    "  maxlength = 0\n",
    "  zeros = 0\n",
    "  for r in range(n):\n",
    "    if nums[r] == 0:\n",
    "      zeros+=1\n",
    "    if zeros > k:\n",
    "      if nums[l] == 0:\n",
    "        zeros-=1\n",
    "      l+=1\n",
    "    if zeros <=k:\n",
    "      maxlength =  max(maxlength,r-l+1)\n",
    "  \n",
    "  return maxlength\n",
    "\n",
    "nums = [0, 0, 1, 1, 0, 0, 1, 1, 1, 0, 1, 1, 0, 0, 0, 1, 1, 1, 1]\n",
    "k = 3\n",
    "print(maximumConsecutiveOnes(nums, k))  # Output: 10\n"
   ]
  },
  {
   "cell_type": "code",
   "execution_count": null,
   "metadata": {},
   "outputs": [],
   "source": []
  }
 ],
 "metadata": {
  "kernelspec": {
   "display_name": "Python 3",
   "language": "python",
   "name": "python3"
  },
  "language_info": {
   "codemirror_mode": {
    "name": "ipython",
    "version": 3
   },
   "file_extension": ".py",
   "mimetype": "text/x-python",
   "name": "python",
   "nbconvert_exporter": "python",
   "pygments_lexer": "ipython3",
   "version": "3.12.0"
  }
 },
 "nbformat": 4,
 "nbformat_minor": 2
}
