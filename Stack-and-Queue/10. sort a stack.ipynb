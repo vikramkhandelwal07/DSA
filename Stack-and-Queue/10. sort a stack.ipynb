{
 "cells": [
  {
   "cell_type": "code",
   "execution_count": 1,
   "metadata": {},
   "outputs": [
    {
     "name": "stdout",
     "output_type": "stream",
     "text": [
      "Original Stack: [3, 1, 4, 1, 5, 9, 2, 6, 5, 3, 5]\n",
      "Sorted Stack (Descending Order): [1, 1, 2, 3, 3, 4, 5, 5, 5, 6, 9]\n"
     ]
    }
   ],
   "source": [
    "def is_empty(stack):\n",
    "    # Returns True if stack is empty\n",
    "    return len(stack) == 0\n",
    "\n",
    "def push(stack, value):\n",
    "    # Pushes a value onto the stack\n",
    "    stack.append(value)\n",
    "\n",
    "def pop(stack):\n",
    "    # Pops the top value from the stack and returns it\n",
    "    if not is_empty(stack):\n",
    "        return stack.pop()\n",
    "    return None\n",
    "\n",
    "def top(stack):\n",
    "    # Returns the top value without removing it from the stack\n",
    "    if not is_empty(stack):\n",
    "        return stack[-1]\n",
    "    return None\n",
    "\n",
    "def insert_sorted(stack, element):\n",
    "    \"\"\"Helper function to insert an element into a sorted stack\"\"\"\n",
    "    if is_empty(stack) or element > top(stack):\n",
    "        push(stack, element)\n",
    "        return\n",
    "    \n",
    "    # Remove the top element, recursively call to insert the element\n",
    "    temp = pop(stack)\n",
    "    insert_sorted(stack, element)\n",
    "    \n",
    "    # Push the popped element back\n",
    "    push(stack, temp)\n",
    "\n",
    "def sort_stack(stack):\n",
    "    \"\"\"Sorts the stack in descending order using recursion\"\"\"\n",
    "    if not is_empty(stack):\n",
    "        # Pop the top element\n",
    "        temp = pop(stack)\n",
    "        \n",
    "        # Recursively sort the remaining stack\n",
    "        sort_stack(stack)\n",
    "        \n",
    "        # Insert the popped element in the sorted stack\n",
    "        insert_sorted(stack, temp)\n",
    "\n",
    "# Example usage\n",
    "stack = [3, 1, 4, 1, 5, 9, 2, 6, 5, 3, 5]\n",
    "print(\"Original Stack:\", stack)\n",
    "sort_stack(stack)\n",
    "print(\"Sorted Stack (Descending Order):\", stack)\n"
   ]
  },
  {
   "cell_type": "code",
   "execution_count": null,
   "metadata": {},
   "outputs": [],
   "source": [
    "\n"
   ]
  }
 ],
 "metadata": {
  "kernelspec": {
   "display_name": "Python 3",
   "language": "python",
   "name": "python3"
  },
  "language_info": {
   "codemirror_mode": {
    "name": "ipython",
    "version": 3
   },
   "file_extension": ".py",
   "mimetype": "text/x-python",
   "name": "python",
   "nbconvert_exporter": "python",
   "pygments_lexer": "ipython3",
   "version": "3.12.0"
  }
 },
 "nbformat": 4,
 "nbformat_minor": 2
}
