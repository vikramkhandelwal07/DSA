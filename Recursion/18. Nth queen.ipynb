{
 "cells": [
  {
   "cell_type": "markdown",
   "metadata": {},
   "source": [
    "## Nth queen"
   ]
  },
  {
   "cell_type": "code",
   "execution_count": null,
   "metadata": {},
   "outputs": [],
   "source": [
    "from typing import List\n",
    "class Solution:\n",
    "  def solve(self, col, board, ans, leftrow, upperDiagonal, lowerDiagonal, n):\n",
    "    if col == n:\n",
    "      ans.append(board[:])\n",
    "      return\n",
    "\n",
    "    for row in range(n):\n",
    "      if leftrow[row] == 0 and lowerDiagonal[row+col] == 0 and upperDiagonal[n-1+col-row] == 0:\n",
    "        board[row] = board[row][:col] + 'Q' + board[row][col+1:]\n",
    "        leftrow[row] = 1\n",
    "        lowerDiagonal[row+col] = 1\n",
    "        upperDiagonal[n-1+col-row] = 1\n",
    "        self.solve(col+1, board, ans, leftrow,upperDiagonal, lowerDiagonal, n)\n",
    "        board[row] = board[row][:col] + '.' + board[row][col+1:]\n",
    "        leftrow[row] = 0\n",
    "        lowerDiagonal[row+col] = 0\n",
    "        upperDiagonal[n-1+col-row] = 0\n",
    "\n",
    "\n",
    "  def solveNQueens(self, n: int) -> List[List[str]]:\n",
    "      ans = []\n",
    "      board = ['.'*n for _ in range(n)]\n",
    "      leftrow = [0]*n\n",
    "      upperDiagonal = [0]*(2*n-1)\n",
    "      lowerDiagonal = [0]*(2*n-1)\n",
    "      self.solve(0, board, ans, leftrow, upperDiagonal, lowerDiagonal, n)\n",
    "      return ans\n",
    "\n",
    "\n",
    "\n"
   ]
  },
  {
   "cell_type": "code",
   "execution_count": 16,
   "metadata": {},
   "outputs": [
    {
     "name": "stdout",
     "output_type": "stream",
     "text": [
      "Arrangement 1\n",
      "..Q.\n",
      "\n",
      "Q...\n",
      "\n",
      "...Q\n",
      "\n",
      ".Q..\n",
      "\n",
      "Arrangement 2\n",
      ".Q..\n",
      "\n",
      "...Q\n",
      "\n",
      "Q...\n",
      "\n",
      "..Q.\n",
      "\n"
     ]
    }
   ],
   "source": [
    "\n",
    "if __name__ == '__main__':\n",
    "  n = 4\n",
    "  obj = Solution()\n",
    "  ans = obj.solveNQueens(n)\n",
    "  for i in range(len(ans)):\n",
    "    print(\"Arrangement\", i+1)\n",
    "    for j in range(len(ans[0])):\n",
    "        print(ans[i][j] )\n",
    "        print()"
   ]
  },
  {
   "cell_type": "code",
   "execution_count": null,
   "metadata": {},
   "outputs": [],
   "source": []
  }
 ],
 "metadata": {
  "kernelspec": {
   "display_name": "Python 3",
   "language": "python",
   "name": "python3"
  },
  "language_info": {
   "codemirror_mode": {
    "name": "ipython",
    "version": 3
   },
   "file_extension": ".py",
   "mimetype": "text/x-python",
   "name": "python",
   "nbconvert_exporter": "python",
   "pygments_lexer": "ipython3",
   "version": "3.12.0"
  }
 },
 "nbformat": 4,
 "nbformat_minor": 2
}
