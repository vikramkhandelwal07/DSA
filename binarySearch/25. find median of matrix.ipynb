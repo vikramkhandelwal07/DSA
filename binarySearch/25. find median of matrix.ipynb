{
 "cells": [
  {
   "cell_type": "markdown",
   "metadata": {},
   "source": [
    "TC - O(log(10^9)) X O(M(logN))"
   ]
  },
  {
   "cell_type": "code",
   "execution_count": 2,
   "metadata": {},
   "outputs": [
    {
     "name": "stdout",
     "output_type": "stream",
     "text": [
      "The median element is: 11\n"
     ]
    }
   ],
   "source": [
    "                                    \n",
    "                         \n",
    "def upperBound(arr, x, n):\n",
    "    low = 0\n",
    "    high = n - 1\n",
    "    ans = n\n",
    "\n",
    "    while low <= high:\n",
    "        mid = (low + high) // 2\n",
    "        # maybe an answer\n",
    "        if arr[mid] > x:\n",
    "            ans = mid\n",
    "            # look for a smaller index on the left\n",
    "            high = mid - 1\n",
    "        else:\n",
    "            low = mid + 1  # look on the right\n",
    "\n",
    "    return ans\n",
    "\n",
    "def countSmallEqual(matrix, m, n, x):\n",
    "    cnt = 0\n",
    "    for i in range(m):\n",
    "        cnt += upperBound(matrix[i], x, n)\n",
    "    return cnt\n",
    "\n",
    "def median(matrix, m, n):\n",
    "    low = float('inf')\n",
    "    high = float('-inf')\n",
    "\n",
    "    # point low and high to the right elements\n",
    "    for i in range(m):\n",
    "        low = min(low, matrix[i][0])\n",
    "        high = max(high, matrix[i][n - 1])\n",
    "\n",
    "    req = (n * m) // 2\n",
    "    while low <= high:\n",
    "        mid = (low + high) // 2\n",
    "        smallEqual = countSmallEqual(matrix, m, n, mid)\n",
    "        if smallEqual <= req:\n",
    "            low = mid + 1\n",
    "        else:\n",
    "            high = mid - 1\n",
    "\n",
    "    return low\n",
    "\n",
    "if __name__ == \"__main__\":\n",
    "    matrix = [\n",
    "        [1, 2, 3, 4, 5],\n",
    "        [8, 9, 11, 12, 13],\n",
    "        [21, 23, 25, 27, 29]\n",
    "    ]\n",
    "    m = len(matrix)\n",
    "    n = len(matrix[0])\n",
    "    ans = median(matrix, m, n)\n",
    "    print(\"The median element is:\", ans)\n",
    "                                    \n",
    "                                "
   ]
  },
  {
   "cell_type": "code",
   "execution_count": null,
   "metadata": {},
   "outputs": [],
   "source": [
    "\n"
   ]
  }
 ],
 "metadata": {
  "kernelspec": {
   "display_name": "Python 3",
   "language": "python",
   "name": "python3"
  },
  "language_info": {
   "codemirror_mode": {
    "name": "ipython",
    "version": 3
   },
   "file_extension": ".py",
   "mimetype": "text/x-python",
   "name": "python",
   "nbconvert_exporter": "python",
   "pygments_lexer": "ipython3",
   "version": "3.12.0"
  }
 },
 "nbformat": 4,
 "nbformat_minor": 2
}
