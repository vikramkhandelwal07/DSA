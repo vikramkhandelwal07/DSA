{
 "cells": [
  {
   "cell_type": "markdown",
   "metadata": {},
   "source": [
    "## Preorder Recurisve and Iterative\n",
    "- TC - O(N)\n",
    "- SC - O(N)"
   ]
  },
  {
   "cell_type": "code",
   "execution_count": 1,
   "metadata": {},
   "outputs": [
    {
     "name": "stdout",
     "output_type": "stream",
     "text": [
      "Preorder Traversal:\n",
      "[1, 2, 4, 8, 9, 5, 10, 11, 3, 6, 12, 7, 13, 14]\n"
     ]
    }
   ],
   "source": [
    "class Node:\n",
    "    def __init__(self, val):\n",
    "        self.value = val\n",
    "        self.left = None\n",
    "        self.right = None\n",
    "\n",
    "\n",
    "def preorder(root, arr):\n",
    "    if not root:\n",
    "        return\n",
    "    arr.append(root.value)\n",
    "    preorder(root.left, arr)\n",
    "    preorder(root.right, arr)\n",
    "\n",
    "\n",
    "def preOrder(root):\n",
    "    arr = []\n",
    "    preorder(root, arr)\n",
    "    return arr\n",
    "\n",
    "\n",
    "if __name__ == \"__main__\":\n",
    "    root = Node(1)\n",
    "    root.left = Node(2)\n",
    "    root.right = Node(3)\n",
    "    root.left.left = Node(4)\n",
    "    root.left.right = Node(5)\n",
    "    root.right.left = Node(6)\n",
    "    root.right.right = Node(7)\n",
    "    root.left.left.left = Node(8)\n",
    "    root.left.left.right = Node(9)\n",
    "    root.left.right.left = Node(10)\n",
    "    root.left.right.right = Node(11)\n",
    "    root.right.left.right = Node(12)\n",
    "    root.right.right.left = Node(13)\n",
    "    root.right.right.right = Node(14)\n",
    "\n",
    "    result = preOrder(root)\n",
    "\n",
    "    print(\"Preorder Traversal:\")\n",
    "    print(result)\n"
   ]
  },
  {
   "cell_type": "markdown",
   "metadata": {},
   "source": [
    "## iterative preorder"
   ]
  },
  {
   "cell_type": "code",
   "execution_count": 2,
   "metadata": {},
   "outputs": [],
   "source": [
    "class TreeNode:\n",
    "  def __init__(self,value):\n",
    "    self.value = value\n",
    "    self.left = None\n",
    "    self.right = None\n",
    "\n",
    "def preOrder(root):\n",
    "  ans = []\n",
    "  if root is None:\n",
    "    return ans\n",
    "  stack = []\n",
    "  stack.append(root)\n",
    "  \n",
    "  while stack:\n",
    "    root = stack.pop()\n",
    "    ans.append(root.value)\n",
    "\n",
    "    if root.right:\n",
    "      stack.append(root.right)\n",
    "    if root.left:\n",
    "      stack.append(root.left)\n",
    "      \n",
    "  return ans\n",
    "\n",
    "\n"
   ]
  },
  {
   "cell_type": "code",
   "execution_count": 4,
   "metadata": {},
   "outputs": [
    {
     "name": "stdout",
     "output_type": "stream",
     "text": [
      "Preorder Traversal: 1 2 3 4 5 6 7 \n"
     ]
    }
   ],
   "source": [
    "root = TreeNode(1)\n",
    "root.left = TreeNode(2)\n",
    "root.right = TreeNode(7)\n",
    "root.left.left = TreeNode(3)\n",
    "root.left.right = TreeNode(4)\n",
    "root.left.right.left = TreeNode(5)\n",
    "root.left.right.right = TreeNode(6)\n",
    "\n",
    "result = preOrder(root)\n",
    "\n",
    "print(\"Preorder Traversal:\", end=\" \")\n",
    "for val in result:\n",
    "    print(val, end=\" \")\n",
    "print()"
   ]
  },
  {
   "cell_type": "code",
   "execution_count": null,
   "metadata": {},
   "outputs": [],
   "source": []
  }
 ],
 "metadata": {
  "kernelspec": {
   "display_name": "Python 3",
   "language": "python",
   "name": "python3"
  },
  "language_info": {
   "codemirror_mode": {
    "name": "ipython",
    "version": 3
   },
   "file_extension": ".py",
   "mimetype": "text/x-python",
   "name": "python",
   "nbconvert_exporter": "python",
   "pygments_lexer": "ipython3",
   "version": "3.12.0"
  }
 },
 "nbformat": 4,
 "nbformat_minor": 2
}
