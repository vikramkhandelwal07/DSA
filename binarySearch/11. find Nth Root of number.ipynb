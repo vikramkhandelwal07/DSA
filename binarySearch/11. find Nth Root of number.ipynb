{
 "cells": [
  {
   "cell_type": "code",
   "execution_count": 2,
   "metadata": {},
   "outputs": [
    {
     "data": {
      "text/plain": [
       "3"
      ]
     },
     "execution_count": 2,
     "metadata": {},
     "output_type": "execute_result"
    }
   ],
   "source": [
    "\n",
    "def nthRoot(n,m):\n",
    "    low = 1\n",
    "    high = m\n",
    "    while low <= high:\n",
    "        mid = (low + high) // 2\n",
    "        power = mid ** n\n",
    "        \n",
    "        if power == m:\n",
    "            return mid  \n",
    "        elif power < m:\n",
    "            low = mid + 1 \n",
    "        else:\n",
    "            high = mid - 1  \n",
    "    \n",
    "    return -1 \n",
    "  \n",
    "n = 2\n",
    "m = 9\n",
    "nthRoot(n,m) "
   ]
  },
  {
   "cell_type": "code",
   "execution_count": null,
   "metadata": {},
   "outputs": [],
   "source": []
  }
 ],
 "metadata": {
  "kernelspec": {
   "display_name": "Python 3",
   "language": "python",
   "name": "python3"
  },
  "language_info": {
   "codemirror_mode": {
    "name": "ipython",
    "version": 3
   },
   "file_extension": ".py",
   "mimetype": "text/x-python",
   "name": "python",
   "nbconvert_exporter": "python",
   "pygments_lexer": "ipython3",
   "version": "3.12.0"
  }
 },
 "nbformat": 4,
 "nbformat_minor": 2
}
