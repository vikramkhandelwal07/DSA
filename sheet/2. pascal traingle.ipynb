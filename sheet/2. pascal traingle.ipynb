{
 "cells": [
  {
   "cell_type": "markdown",
   "id": "1b83bb52",
   "metadata": {},
   "source": [
    "## Pascal triangle Type 1\n",
    "- In this case, we are given the row number r and the column number c, and we need to find out the element at position (r,c). "
   ]
  },
  {
   "cell_type": "code",
   "execution_count": 7,
   "id": "d714d287",
   "metadata": {},
   "outputs": [
    {
     "name": "stdout",
     "output_type": "stream",
     "text": [
      "The element at position (r,c) is: 6\n"
     ]
    }
   ],
   "source": [
    "def nCr(n,r):\n",
    "  res = 1\n",
    "  for i in range(r):\n",
    "    res *= (n-i)\n",
    "    res //= (i+1)\n",
    "    \n",
    "  return res\n",
    "\n",
    "def pascalTriangle(r,c):\n",
    "  element = nCr(r-1,c-1)\n",
    "  \n",
    "  return element\n",
    "\n",
    "r = 5 # row number\n",
    "c = 3 # col number\n",
    "element = pascalTriangle(r, c)\n",
    "print(f\"The element at position (r,c) is: {element}\")\n"
   ]
  },
  {
   "cell_type": "markdown",
   "id": "1e4b7b0c",
   "metadata": {},
   "source": [
    "## type 2 \n",
    "where u have to return the entire row of given nth value in triangle"
   ]
  },
  {
   "cell_type": "code",
   "execution_count": 8,
   "id": "8cce9274",
   "metadata": {},
   "outputs": [
    {
     "name": "stdout",
     "output_type": "stream",
     "text": [
      "[1, 13, 78, 286, 715, 1287, 1716, 1716, 1287, 715, 286, 78, 13, 1]\n"
     ]
    }
   ],
   "source": [
    "def pascalTriangle(n):\n",
    "    ans = 1\n",
    "    result = [1]\n",
    "\n",
    "    for i in range(1, n):\n",
    "        ans = ans * (n - i)\n",
    "        ans = ans // i\n",
    "        result.append(ans)\n",
    "    \n",
    "    return result\n",
    "\n",
    "\n",
    "n = 14\n",
    "print(pascalTriangle(n))"
   ]
  },
  {
   "cell_type": "markdown",
   "id": "2d189e34",
   "metadata": {},
   "source": [
    "## type 3 \n",
    "complete triangle"
   ]
  },
  {
   "cell_type": "code",
   "execution_count": 11,
   "id": "3354c5b5",
   "metadata": {},
   "outputs": [],
   "source": [
    "def generateRows(row):\n",
    "  ans = 1\n",
    "  ansRow = [1]\n",
    "  for col in range(1,row):\n",
    "    ans *= row-col\n",
    "    ans //= col\n",
    "    ansRow.append(ans)\n",
    "    \n",
    "  return ansRow\n",
    "\n",
    "def pascalTriangle(numRows):\n",
    "  ans = []\n",
    "  n = numRows\n",
    "  for row in range(1,n+1):\n",
    "    ans.append(generateRows(row))\n",
    "    \n",
    "  return ans"
   ]
  },
  {
   "cell_type": "code",
   "execution_count": 13,
   "id": "37ba1cf3",
   "metadata": {},
   "outputs": [
    {
     "data": {
      "text/plain": [
       "[[1],\n",
       " [1, 1],\n",
       " [1, 2, 1],\n",
       " [1, 3, 3, 1],\n",
       " [1, 4, 6, 4, 1],\n",
       " [1, 5, 10, 10, 5, 1],\n",
       " [1, 6, 15, 20, 15, 6, 1],\n",
       " [1, 7, 21, 35, 35, 21, 7, 1],\n",
       " [1, 8, 28, 56, 70, 56, 28, 8, 1],\n",
       " [1, 9, 36, 84, 126, 126, 84, 36, 9, 1]]"
      ]
     },
     "execution_count": 13,
     "metadata": {},
     "output_type": "execute_result"
    }
   ],
   "source": [
    "pascalTriangle(10)"
   ]
  },
  {
   "cell_type": "code",
   "execution_count": null,
   "id": "544cab1f",
   "metadata": {},
   "outputs": [],
   "source": []
  }
 ],
 "metadata": {
  "kernelspec": {
   "display_name": "Python 3",
   "language": "python",
   "name": "python3"
  },
  "language_info": {
   "codemirror_mode": {
    "name": "ipython",
    "version": 3
   },
   "file_extension": ".py",
   "mimetype": "text/x-python",
   "name": "python",
   "nbconvert_exporter": "python",
   "pygments_lexer": "ipython3",
   "version": "3.12.0"
  }
 },
 "nbformat": 4,
 "nbformat_minor": 5
}
