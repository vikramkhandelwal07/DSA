{
 "cells": [
  {
   "cell_type": "markdown",
   "metadata": {},
   "source": [
    "TC - O(N)"
   ]
  },
  {
   "cell_type": "code",
   "execution_count": 3,
   "metadata": {},
   "outputs": [
    {
     "name": "stdout",
     "output_type": "stream",
     "text": [
      "6\n"
     ]
    }
   ],
   "source": [
    "class TreeNode:\n",
    "  \n",
    "  def __init__(self, val = 0, left = None, right = None):\n",
    "    self.val = val\n",
    "    self.left = left\n",
    "    self.right = right\n",
    "  \n",
    "  def CountNodes(self,root):\n",
    "    if not root:\n",
    "      return 0\n",
    "    lc = self.CountNodes(root.left)\n",
    "    rc = self.CountNodes(root.right)\n",
    "    \n",
    "    return lc + rc +1\n",
    "  \n",
    "# Example Tree:\n",
    "#         1\n",
    "#        / \\\n",
    "#       2   3\n",
    "#      / \\   \\\n",
    "#     4   5   6\n",
    "\n",
    "root = TreeNode(1)\n",
    "root.left = TreeNode(2)\n",
    "root.right = TreeNode(3)\n",
    "root.left.left = TreeNode(4)\n",
    "root.left.right = TreeNode(5)\n",
    "root.right.right = TreeNode(6)\n",
    "\n",
    "tree = TreeNode()\n",
    "print(tree.CountNodes(root))   "
   ]
  },
  {
   "cell_type": "markdown",
   "metadata": {},
   "source": [
    "TC - O(logn * logn) only for complete binary tree"
   ]
  },
  {
   "cell_type": "code",
   "execution_count": 7,
   "metadata": {},
   "outputs": [
    {
     "name": "stdout",
     "output_type": "stream",
     "text": [
      "6\n"
     ]
    }
   ],
   "source": [
    "class TreeNode:\n",
    "    def __init__(self, val=0, left=None, right=None):\n",
    "        self.val = val\n",
    "        self.left = left\n",
    "        self.right = right\n",
    "\n",
    "class Solution:\n",
    "    def cn(self, root):\n",
    "        if not root:\n",
    "            return 0\n",
    "\n",
    "        l, r = 0, 0\n",
    "        left, right = root, root\n",
    "\n",
    "        # Compute left depth\n",
    "        while left:\n",
    "            left = left.left\n",
    "            l += 1\n",
    "\n",
    "        # Compute right depth\n",
    "        while right:\n",
    "            right = right.right\n",
    "            r += 1\n",
    "\n",
    "        # If it's a perfect binary tree, return the formula count\n",
    "        if l == r:\n",
    "            return (1 << l) - 1  # 2^l - 1\n",
    "\n",
    "        # Otherwise, recurse normally\n",
    "        return 1 + self.cn(root.left) + self.cn(root.right)\n",
    "\n",
    "# Example Tree:\n",
    "#         1\n",
    "#        / \\\n",
    "#       2   3\n",
    "#      / \\   \\\n",
    "#     4   5   6\n",
    "\n",
    "root = TreeNode(1)\n",
    "root.left = TreeNode(2)\n",
    "root.right = TreeNode(3)\n",
    "root.left.left = TreeNode(4)\n",
    "root.left.right = TreeNode(5)\n",
    "root.right.left = TreeNode(6)\n",
    "\n",
    "sol = Solution()\n",
    "print(sol.cn(root))  # Output: 6 ✅\n"
   ]
  },
  {
   "cell_type": "code",
   "execution_count": null,
   "metadata": {},
   "outputs": [],
   "source": []
  }
 ],
 "metadata": {
  "kernelspec": {
   "display_name": "Python 3",
   "language": "python",
   "name": "python3"
  },
  "language_info": {
   "codemirror_mode": {
    "name": "ipython",
    "version": 3
   },
   "file_extension": ".py",
   "mimetype": "text/x-python",
   "name": "python",
   "nbconvert_exporter": "python",
   "pygments_lexer": "ipython3",
   "version": "3.12.0"
  }
 },
 "nbformat": 4,
 "nbformat_minor": 2
}
