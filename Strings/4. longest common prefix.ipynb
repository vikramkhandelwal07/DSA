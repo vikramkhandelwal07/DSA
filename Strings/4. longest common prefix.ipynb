{
 "cells": [
  {
   "cell_type": "code",
   "execution_count": 7,
   "id": "98cabbb6",
   "metadata": {},
   "outputs": [
    {
     "name": "stdout",
     "output_type": "stream",
     "text": [
      "do\n"
     ]
    }
   ],
   "source": [
    "def longestCommonPrefix(arr):\n",
    "    if not arr:\n",
    "        return \"\"\n",
    "    ans = \"\"\n",
    "    \n",
    "    for i in range(len(arr[0])):\n",
    "        ch = arr[0][i]\n",
    "        \n",
    "        for word in arr:\n",
    "            if i >= len(word) or word[i] !=ch:\n",
    "                return ans\n",
    "        ans +=ch\n",
    "        \n",
    "    return ans\n",
    "words = [\"dog\", \"dodge\", \"do\"]\n",
    "print(longestCommonPrefix(words))  # Output: \"do\"\n",
    "    \n",
    "    "
   ]
  },
  {
   "cell_type": "code",
   "execution_count": null,
   "id": "1d5e96fe",
   "metadata": {},
   "outputs": [],
   "source": []
  }
 ],
 "metadata": {
  "kernelspec": {
   "display_name": "Python 3",
   "language": "python",
   "name": "python3"
  },
  "language_info": {
   "codemirror_mode": {
    "name": "ipython",
    "version": 3
   },
   "file_extension": ".py",
   "mimetype": "text/x-python",
   "name": "python",
   "nbconvert_exporter": "python",
   "pygments_lexer": "ipython3",
   "version": "3.12.0"
  }
 },
 "nbformat": 4,
 "nbformat_minor": 5
}
