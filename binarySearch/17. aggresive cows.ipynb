{
 "cells": [
  {
   "cell_type": "markdown",
   "metadata": {},
   "source": [
    "# Binary search on Answers Type-2"
   ]
  },
  {
   "cell_type": "markdown",
   "metadata": {},
   "source": [
    "## Finding min(max) or max(min)"
   ]
  },
  {
   "cell_type": "markdown",
   "metadata": {},
   "source": [
    "#### aggresive Cows - min dist between two cows should be maximum"
   ]
  },
  {
   "cell_type": "markdown",
   "metadata": {},
   "source": [
    "#### linear Search TC - O(max-min)*O(n) + Nlogn == O(n^2) approx"
   ]
  },
  {
   "cell_type": "code",
   "execution_count": 1,
   "metadata": {},
   "outputs": [
    {
     "data": {
      "text/plain": [
       "3"
      ]
     },
     "execution_count": 1,
     "metadata": {},
     "output_type": "execute_result"
    }
   ],
   "source": [
    "def canWePlaceCows(arr,dist,cows):\n",
    "  countCows = 1\n",
    "  last = arr[0]\n",
    "  for num in arr:\n",
    "    if num - last >= dist:\n",
    "      countCows+=1\n",
    "      last = num\n",
    "    \n",
    "    if countCows >= cows:\n",
    "      return True\n",
    "    else:\n",
    "      False\n",
    "\n",
    "\n",
    "def CowsDistance(arr,cows):\n",
    "  n = len(arr)\n",
    "  arr = sorted(arr)\n",
    "  for i in range(max(arr)-min(arr)):\n",
    "    if canWePlaceCows(arr,i,cows) == True:\n",
    "      continue\n",
    "    else:\n",
    "      return i -1\n",
    "  \n",
    "arr = [0,3,4,7,10]\n",
    "cows = 4\n",
    "CowsDistance(arr,cows)"
   ]
  },
  {
   "cell_type": "markdown",
   "metadata": {},
   "source": [
    "`1`  `2`  `3`  4  5  6  7  8  9  10\n",
    "- so here upto 3 is possible and uske bad it is not possible so we can use BS where a part of range is possible and a part of range is not possible  "
   ]
  },
  {
   "cell_type": "markdown",
   "metadata": {},
   "source": [
    "## Bs TC - O(NlogN) + O(log base2 N)*logN\n",
    "## SC - O(1)"
   ]
  },
  {
   "cell_type": "code",
   "execution_count": 4,
   "metadata": {},
   "outputs": [
    {
     "data": {
      "text/plain": [
       "3"
      ]
     },
     "execution_count": 4,
     "metadata": {},
     "output_type": "execute_result"
    }
   ],
   "source": [
    "def canWePlaceCows(arr,dist,cows):\n",
    "  countCows = 1\n",
    "  last = arr[0]\n",
    "  for num in arr:\n",
    "    if num - last >= dist:\n",
    "      countCows+=1\n",
    "      last = num\n",
    "    \n",
    "    if countCows >= cows:\n",
    "      return True\n",
    "    else:\n",
    "      False\n",
    "\n",
    "\n",
    "def CowsDistance(arr,cows):\n",
    "  n = len(arr)\n",
    "  arr = sorted(arr)\n",
    "  low = 1\n",
    "  high = max(arr)\n",
    "  # ans = -1\n",
    "  while (low <= high):\n",
    "    mid = (low+high)//2\n",
    "    if canWePlaceCows(arr,mid,cows) == True:\n",
    "      # ans = mid\n",
    "      low = mid+1\n",
    "    else:\n",
    "      high = mid -1\n",
    "  \n",
    "  \n",
    "  return high\n",
    "# ans ko store karne ki koi jarurat nahi hai ...opposite polarity \n",
    "# low was on possible index and high was on not possible answer so after BS due to reverse polarity the high will end up at possible and low will end up at impossible\n",
    "\n",
    "\n",
    "arr = [0,3,4,7,10]\n",
    "cows = 4\n",
    "CowsDistance(arr,cows)"
   ]
  },
  {
   "cell_type": "code",
   "execution_count": null,
   "metadata": {},
   "outputs": [],
   "source": []
  },
  {
   "cell_type": "code",
   "execution_count": null,
   "metadata": {},
   "outputs": [],
   "source": [
    " "
   ]
  }
 ],
 "metadata": {
  "kernelspec": {
   "display_name": "Python 3",
   "language": "python",
   "name": "python3"
  },
  "language_info": {
   "codemirror_mode": {
    "name": "ipython",
    "version": 3
   },
   "file_extension": ".py",
   "mimetype": "text/x-python",
   "name": "python",
   "nbconvert_exporter": "python",
   "pygments_lexer": "ipython3",
   "version": "3.12.0"
  }
 },
 "nbformat": 4,
 "nbformat_minor": 2
}
