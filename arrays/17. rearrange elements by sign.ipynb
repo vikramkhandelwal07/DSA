{
 "cells": [
  {
   "cell_type": "code",
   "execution_count": null,
   "metadata": {},
   "outputs": [
    {
     "name": "stdout",
     "output_type": "stream",
     "text": [
      "[3, -2, 1, -5, 2, -4]\n"
     ]
    }
   ],
   "source": [
    "# TC - O(N+N/2)\n",
    "# SC - O(n)\n",
    "def rearrangeArray(nums):\n",
    "  n = len(nums)\n",
    "  positive = []\n",
    "  negative = []\n",
    "  for num in nums:\n",
    "    if num >= 0:\n",
    "      positive.append(num)\n",
    "    else:\n",
    "      negative.append(num)\n",
    "      \n",
    "  for i in range(n//2):\n",
    "    nums[2*i] = positive[i]\n",
    "    nums[2*i +1 ] = negative[i]\n",
    "    \n",
    "  return nums\n",
    "    \n",
    "nums = [3,1,-2,-5,2,-4]\n",
    "output = rearrangeArray(nums)\n",
    "print(output)"
   ]
  },
  {
   "cell_type": "code",
   "execution_count": null,
   "metadata": {},
   "outputs": [
    {
     "name": "stdout",
     "output_type": "stream",
     "text": [
      "[3, -2, 1, -5, 2, -4]\n"
     ]
    }
   ],
   "source": [
    "# TC - O(N)\n",
    "# SC - O(N)\n",
    "def rearrangeArray(nums):\n",
    "  n = len(nums)\n",
    "  answer = [0]*n\n",
    "  posIndx = 0\n",
    "  negIndx = 1\n",
    "  for i in range(n):\n",
    "    if nums[i] < 0:\n",
    "      answer[negIndx] = nums[i]\n",
    "      negIndx +=2\n",
    "    else:\n",
    "      answer[posIndx] = nums[i]\n",
    "      posIndx +=2\n",
    "  return answer\n",
    "nums = [3,1,-2,-5,2,-4]\n",
    "output = rearrangeArray(nums)\n",
    "print(output)\n"
   ]
  },
  {
   "cell_type": "markdown",
   "metadata": {},
   "source": [
    "### variety 2 : pos and neg are not equal\n",
    "- isme brute force pe hi waps jana hai ....kyuki iska aur koi aacha solution nahi hai\n"
   ]
  },
  {
   "cell_type": "code",
   "execution_count": null,
   "metadata": {},
   "outputs": [
    {
     "name": "stdout",
     "output_type": "stream",
     "text": [
      "[3, -2, 1, -5, 2, -4, -9, -9]\n"
     ]
    }
   ],
   "source": [
    "# TC - O(2n)\n",
    "# SC - O(N)\n",
    "def rearrangeArray(nums):\n",
    "  n = len(nums)\n",
    "  positive = []\n",
    "  negative = []\n",
    "  for i in range(n):\n",
    "    if nums[i] >= 0:\n",
    "      positive.append(nums[i])\n",
    "    else:\n",
    "      negative.append(nums[i])\n",
    "  \n",
    "  if len(positive) > len(negative):\n",
    "    for i in range(len(negative)):\n",
    "      \n",
    "      nums[2*i] = positive[i]\n",
    "      nums[2*i +1 ] = negative[i]\n",
    "    index = len(negative)*2\n",
    "    for i in range(len(negative),len(positive)):\n",
    "      nums[index] = positive[i]\n",
    "      index+=1\n",
    "      \n",
    "  else:\n",
    "    for i in range(len(positive)):\n",
    "      \n",
    "      nums[2*i] = positive[i]\n",
    "      nums[2*i +1 ] = negative[i]\n",
    "    index = len(positive)*2\n",
    "    for i in range(len(positive),len(negative)):\n",
    "      nums[index] = negative[i]\n",
    "      index+=1\n",
    "        \n",
    "  return nums\n",
    "    \n",
    "nums = [3,1,-2,-5,2,-4,-9,-9]\n",
    "output = rearrangeArray(nums)\n",
    "print(output)"
   ]
  },
  {
   "cell_type": "code",
   "execution_count": null,
   "metadata": {},
   "outputs": [],
   "source": []
  }
 ],
 "metadata": {
  "kernelspec": {
   "display_name": "Python 3",
   "language": "python",
   "name": "python3"
  },
  "language_info": {
   "codemirror_mode": {
    "name": "ipython",
    "version": 3
   },
   "file_extension": ".py",
   "mimetype": "text/x-python",
   "name": "python",
   "nbconvert_exporter": "python",
   "pygments_lexer": "ipython3",
   "version": "3.12.0"
  }
 },
 "nbformat": 4,
 "nbformat_minor": 2
}
