{
 "cells": [
  {
   "cell_type": "code",
   "execution_count": 1,
   "id": "fad0fee2",
   "metadata": {},
   "outputs": [],
   "source": [
    "def maxProfit(prices):\n",
    "  minPrice = float('inf')\n",
    "  maxProfit = 0\n",
    "  \n",
    "  for price in prices:\n",
    "    if price < minPrice:\n",
    "      minPrice = price\n",
    "    elif price - minPrice > maxProfit:\n",
    "      maxProfit = price - minPrice\n",
    "    \n",
    "  return maxProfit"
   ]
  },
  {
   "cell_type": "code",
   "execution_count": 2,
   "id": "beed6216",
   "metadata": {},
   "outputs": [
    {
     "name": "stdout",
     "output_type": "stream",
     "text": [
      "5\n"
     ]
    }
   ],
   "source": [
    "prices = [7,1,5,3,6,4]\n",
    "print(maxProfit(prices))"
   ]
  },
  {
   "cell_type": "code",
   "execution_count": null,
   "id": "39d853f3",
   "metadata": {},
   "outputs": [],
   "source": []
  }
 ],
 "metadata": {
  "kernelspec": {
   "display_name": "Python 3",
   "language": "python",
   "name": "python3"
  },
  "language_info": {
   "codemirror_mode": {
    "name": "ipython",
    "version": 3
   },
   "file_extension": ".py",
   "mimetype": "text/x-python",
   "name": "python",
   "nbconvert_exporter": "python",
   "pygments_lexer": "ipython3",
   "version": "3.12.0"
  }
 },
 "nbformat": 4,
 "nbformat_minor": 5
}
