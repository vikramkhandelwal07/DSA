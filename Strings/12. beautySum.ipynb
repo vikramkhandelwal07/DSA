{
 "cells": [
  {
   "cell_type": "code",
   "execution_count": 2,
   "id": "3d8886c0",
   "metadata": {},
   "outputs": [
    {
     "data": {
      "text/plain": [
       "17"
      ]
     },
     "execution_count": 2,
     "metadata": {},
     "output_type": "execute_result"
    }
   ],
   "source": [
    "from collections import defaultdict\n",
    "\n",
    "\n",
    "def beautySum(s):\n",
    "    n = len(s)\n",
    "    beauty= 0\n",
    "    for i in range(n):\n",
    "        hMap = defaultdict(int)\n",
    "        for j in range(i,n):\n",
    "            hMap[s[j]] +=1\n",
    "            beauty += max(hMap.values()) - min(hMap.values())\n",
    "    \n",
    "    return beauty\n",
    "\n",
    "s = \"aabcbaa\"\n",
    "beautySum(s)"
   ]
  },
  {
   "cell_type": "code",
   "execution_count": null,
   "id": "fe7b0b4f",
   "metadata": {},
   "outputs": [],
   "source": []
  }
 ],
 "metadata": {
  "kernelspec": {
   "display_name": "Python 3",
   "language": "python",
   "name": "python3"
  },
  "language_info": {
   "codemirror_mode": {
    "name": "ipython",
    "version": 3
   },
   "file_extension": ".py",
   "mimetype": "text/x-python",
   "name": "python",
   "nbconvert_exporter": "python",
   "pygments_lexer": "ipython3",
   "version": "3.12.0"
  }
 },
 "nbformat": 4,
 "nbformat_minor": 5
}
