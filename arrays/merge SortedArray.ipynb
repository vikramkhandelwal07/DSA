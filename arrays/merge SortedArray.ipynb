{
 "cells": [
  {
   "cell_type": "code",
   "execution_count": 9,
   "id": "a6f9e975",
   "metadata": {},
   "outputs": [],
   "source": [
    "def mergeArray(nums1,m,nums2,n):\n",
    "  i = m-1\n",
    "  j = n-1\n",
    "  k = m+n-1\n",
    "  while i>= 0 and j>=0:\n",
    "    if nums1[i] > nums2[j]:\n",
    "      nums1[k] =  nums1[i]\n",
    "      i-=1\n",
    "    else:\n",
    "      nums1[k] = nums2[j]\n",
    "      j-=1\n",
    "    k-=1\n",
    "    \n",
    "  while j >= 0:\n",
    "    nums1[k] = nums2[j]\n",
    "    j -= 1\n",
    "    k -= 1\n",
    "    \n",
    "  return nums1"
   ]
  },
  {
   "cell_type": "code",
   "execution_count": 10,
   "id": "bc83fe67",
   "metadata": {},
   "outputs": [
    {
     "name": "stdout",
     "output_type": "stream",
     "text": [
      "[1, 2, 2, 3, 5, 6]\n"
     ]
    }
   ],
   "source": [
    "nums1 = [1,2,3,0,0,0]\n",
    "m = 3\n",
    "nums2 = [2,5,6]\n",
    "n = 3\n",
    "x= mergeArray(nums1,m,nums2,n)\n",
    "print(x)  # Output: [1,2,2,3,5,6]"
   ]
  },
  {
   "cell_type": "code",
   "execution_count": null,
   "id": "865d5d14",
   "metadata": {},
   "outputs": [
    {
     "name": "stdout",
     "output_type": "stream",
     "text": [
      "[1, 2, 3, 2, 5, 6]\n"
     ]
    }
   ],
   "source": [
    "## 🔍 Problem: Find All K-Distant Indices in an Array\n",
    "\n",
    "You are given a 0-indexed integer array `nums`, an integer `key`, and an integer `k`.\n",
    "\n",
    "A `k-distant index` is an index `i` such that **there exists at least one index `j`** with:\n",
    "- `nums[j] == key`, and\n",
    "- `|i - j| <= k`\n",
    "\n",
    "Return a **sorted list** of all k-distant indices.\n",
    "\n",
    "---\n",
    "\n",
    "## 🧠 Approach:\n",
    "\n",
    "1. Initialize an empty `set` `ans` to store indices (to avoid duplicates).\n",
    "2. Traverse through `nums`:\n",
    "   - For every index `i` where `nums[i] == key`:\n",
    "     - Add all indices `j` in range `i-k` to `i+k` (within bounds) into the set.\n",
    "3. Return the sorted list of indices from the set.\n",
    "\n",
    "---\n",
    "\n",
    "## 📘 Example:\n",
    "\n",
    "```text\n",
    "Input: nums = [3, 4, 9, 1, 3, 9, 5], key = 9, k = 1\n",
    "Output: [1, 2, 3, 4, 5, 6]\n",
    "\n",
    "Explanation:\n",
    "Key `9` appears at index 2 and 5.\n",
    "For index 2: indices 1, 2, 3 are within k=1 distance.\n",
    "For index 5: indices 4, 5, 6 are within k=1 distance.\n",
    "Combined unique indices: [1, 2, 3, 4, 5, 6]\n",
    "```\n",
    "\n",
    "---\n",
    "\n",
    "## 💻 Code:\n",
    "\n",
    "```python\n",
    "def findKDistantIndices(nums, key, k):\n",
    "    ans = set()\n",
    "    n = len(nums)\n",
    "    for i in range(n):\n",
    "        if nums[i] == key:\n",
    "            for j in range(max(0, i - k), min(n, i + k + 1)):\n",
    "                ans.add(j)\n",
    "    return sorted(ans)\n",
    "```\n",
    "\n",
    "---\n",
    "\n",
    "## ▶️ Example Usage:\n",
    "\n",
    "```python\n",
    "nums = [3, 4, 9, 1, 3, 9, 5]\n",
    "key = 9\n",
    "k = 1\n",
    "print(findKDistantIndices(nums, key, k))  # Output: [1, 2, 3, 4, 5, 6]\n",
    "```\n",
    "\n",
    "---\n",
    "\n",
    "## ⏱ Time Complexity:\n",
    "- **O(n × k)** in worst case, when `key` appears at every index.\n",
    "  - For each key match, we check up to `2k+1` indices.\n",
    "\n",
    "## 🧮 Space Complexity:\n",
    "- **O(n)** in the worst case, due to storing up to `n` indices in the set.\n"
   ]
  },
  {
   "cell_type": "code",
   "execution_count": null,
   "id": "bd551bea",
   "metadata": {},
   "outputs": [],
   "source": []
  }
 ],
 "metadata": {
  "kernelspec": {
   "display_name": "Python 3",
   "language": "python",
   "name": "python3"
  },
  "language_info": {
   "codemirror_mode": {
    "name": "ipython",
    "version": 3
   },
   "file_extension": ".py",
   "mimetype": "text/x-python",
   "name": "python",
   "nbconvert_exporter": "python",
   "pygments_lexer": "ipython3",
   "version": "3.12.0"
  }
 },
 "nbformat": 4,
 "nbformat_minor": 5
}
