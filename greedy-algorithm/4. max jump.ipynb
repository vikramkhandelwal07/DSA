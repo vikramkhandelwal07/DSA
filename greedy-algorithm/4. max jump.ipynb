{
 "cells": [
  {
   "cell_type": "markdown",
   "metadata": {},
   "source": [
    "### 55. Jump Game\n",
    "\n",
    "**Difficulty**: Medium\n",
    "\n",
    "You are given an integer array `nums`. You are initially positioned at the array's first index, and each element in the array represents your maximum jump length at that position.\n",
    "\n",
    "Return `true` if you can reach the last index, or `false` otherwise.\n",
    "\n",
    "#### Example 1:\n",
    "\n",
    "**Input**: `nums = [2, 3, 1, 1, 4]`  \n",
    "**Output**: `true`  \n",
    "**Explanation**: Jump 1 step from index 0 to 1, then 3 steps to the last index.\n",
    "\n",
    "#### Example 2:\n",
    "\n",
    "**Input**: `nums = [3, 2, 1, 0, 4]`  \n",
    "**Output**: `false`  \n",
    "**Explanation**: You will always arrive at index 3 no matter what. Its maximum jump length is 0, which makes it impossible to reach the last index.\n",
    "\n",
    "#### Approach:\n",
    "\n",
    "To solve this problem, we use a greedy approach:\n",
    "\n",
    "1. **Initialization**: Start with `pos = 0`, which represents the farthest position you can reach at the beginning (index 0).\n",
    "   \n",
    "2. **Iterate Through the Array**: \n",
    "   - For each index `i`, check if `i > pos`. If `i > pos`, it means that index `i` is unreachable, and we return `false`.\n",
    "   - Otherwise, update `pos = max(pos, i + nums[i])`, which tells us the farthest we can reach from the current index `i`.\n",
    "\n",
    "3. **Early Exit**: If at any point `pos >= n - 1` (where `n` is the length of the array), we return `true` since we can reach the last index or beyond.\n",
    "\n",
    "4. **Return False**: If we finish the loop without reaching the last index, return `false`.\n",
    "\n",
    "### Time Complexity:\n",
    "- **O(n)** where `n` is the length of the array. We only iterate through the array once.\n",
    "\n",
    "### Space Complexity:\n",
    "- **O(1)** as we use a constant amount of extra space.\n"
   ]
  },
  {
   "cell_type": "code",
   "execution_count": null,
   "metadata": {},
   "outputs": [],
   "source": []
  },
  {
   "cell_type": "code",
   "execution_count": 2,
   "metadata": {},
   "outputs": [],
   "source": [
    "from typing import List\n",
    "\n",
    "\n",
    "def canJump(nums: List[int]) -> bool:\n",
    "  maxIndex = 0\n",
    "  n = len(nums)\n",
    "  for i in range(n):\n",
    "    if i > maxIndex:\n",
    "      return False\n",
    "    maxIndex = max(maxIndex , i + nums[i])\n",
    "  return True"
   ]
  },
  {
   "cell_type": "code",
   "execution_count": 3,
   "metadata": {},
   "outputs": [
    {
     "data": {
      "text/plain": [
       "False"
      ]
     },
     "execution_count": 3,
     "metadata": {},
     "output_type": "execute_result"
    }
   ],
   "source": [
    "nums = [3,2,1,0,4]\n",
    "canJump(nums)"
   ]
  },
  {
   "cell_type": "code",
   "execution_count": null,
   "metadata": {},
   "outputs": [],
   "source": []
  }
 ],
 "metadata": {
  "kernelspec": {
   "display_name": "Python 3",
   "language": "python",
   "name": "python3"
  },
  "language_info": {
   "codemirror_mode": {
    "name": "ipython",
    "version": 3
   },
   "file_extension": ".py",
   "mimetype": "text/x-python",
   "name": "python",
   "nbconvert_exporter": "python",
   "pygments_lexer": "ipython3",
   "version": "3.12.0"
  }
 },
 "nbformat": 4,
 "nbformat_minor": 2
}
