{
 "cells": [
  {
   "cell_type": "code",
   "execution_count": null,
   "metadata": {},
   "outputs": [],
   "source": [
    "def buildTree(inorder,preorder):\n",
    "    if not preorder or not inorder:\n",
    "        return None\n",
    "    idx_map = {val: idx for idx,val in enumerate(inorder)}\n",
    "    \n",
    "    def helper(preLeft, preRight, inLeft, inRight):\n",
    "        if preLeft > preRight:\n",
    "            return None\n",
    "        \n",
    "        rootVal = preorder[preLeft]\n",
    "        root = TreeNode(rootVal)\n",
    "        inRootINdex = idx_map[rootVal]\n",
    "        leftSize = inRootINdex - inLeft\n",
    "        \n",
    "        root.left = helper(preLeft+1, preLeft+leftSize , inLeft, inRootINdex-1)\n",
    "        root.right = helper(preLeft+leftSize+1, preRight, inRootINdex+1,inRight)\n",
    "        \n",
    "        return root\n",
    "    return helper(0,len(preorder)-1,0,len(inorder)-1)\n"
   ]
  },
  {
   "cell_type": "code",
   "execution_count": null,
   "id": "64a7562f",
   "metadata": {},
   "outputs": [],
   "source": []
  }
 ],
 "metadata": {
  "kernelspec": {
   "display_name": "Python 3",
   "language": "python",
   "name": "python3"
  },
  "language_info": {
   "codemirror_mode": {
    "name": "ipython",
    "version": 3
   },
   "file_extension": ".py",
   "mimetype": "text/x-python",
   "name": "python",
   "nbconvert_exporter": "python",
   "pygments_lexer": "ipython3",
   "version": "3.12.0"
  }
 },
 "nbformat": 4,
 "nbformat_minor": 5
}
