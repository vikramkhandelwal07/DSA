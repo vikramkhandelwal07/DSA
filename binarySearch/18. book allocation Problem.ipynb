{
 "cells": [
  {
   "cell_type": "code",
   "execution_count": 1,
   "metadata": {},
   "outputs": [
    {
     "name": "stdout",
     "output_type": "stream",
     "text": [
      "The answer is: 71\n"
     ]
    }
   ],
   "source": [
    "def countStudents(arr, pages):\n",
    "    n = len(arr)  \n",
    "    students = 1\n",
    "    pagesStudent = 0\n",
    "    for i in range(n):\n",
    "        if pagesStudent + arr[i] <= pages:\n",
    "            \n",
    "            pagesStudent += arr[i]\n",
    "        else:\n",
    "          \n",
    "            students += 1\n",
    "            pagesStudent = arr[i]\n",
    "    return students\n",
    "\n",
    "def findPages(arr, n, m):\n",
    "    \n",
    "    if m > n:\n",
    "        return -1\n",
    "\n",
    "    low = max(arr)\n",
    "    high = sum(arr)\n",
    "\n",
    "    for pages in range(low, high + 1):\n",
    "        if countStudents(arr, pages) == m:\n",
    "            return pages\n",
    "    return low\n",
    "\n",
    "arr = [25, 46, 28, 49, 24]\n",
    "n = 5\n",
    "m = 4\n",
    "ans = findPages(arr, n, m)\n",
    "print(\"The answer is:\", ans)"
   ]
  },
  {
   "cell_type": "code",
   "execution_count": 2,
   "metadata": {},
   "outputs": [
    {
     "name": "stdout",
     "output_type": "stream",
     "text": [
      "The answer is: 71\n"
     ]
    }
   ],
   "source": [
    "\n",
    "def countStudents(arr, pages):\n",
    "    n = len(arr)  \n",
    "    students = 1\n",
    "    pagesStudent = 0\n",
    "    for i in range(n):\n",
    "        if pagesStudent + arr[i] <= pages:\n",
    "            pagesStudent += arr[i]\n",
    "        else:\n",
    "            students += 1\n",
    "            pagesStudent = arr[i]\n",
    "    return students\n",
    "\n",
    "def findPages(arr, n, m):\n",
    "    if m > n:\n",
    "        return -1\n",
    "\n",
    "    low = max(arr)\n",
    "    high = sum(arr)\n",
    "    while low <= high:\n",
    "        mid = (low + high) // 2\n",
    "        students = countStudents(arr, mid)\n",
    "        if students > m:\n",
    "            low = mid + 1\n",
    "        else:\n",
    "            high = mid - 1\n",
    "    return low\n",
    "\n",
    "arr = [25, 46, 28, 49, 24]\n",
    "n = 5\n",
    "m = 4\n",
    "ans = findPages(arr, n, m)\n",
    "print(\"The answer is:\", ans)"
   ]
  },
  {
   "cell_type": "code",
   "execution_count": null,
   "metadata": {},
   "outputs": [],
   "source": []
  }
 ],
 "metadata": {
  "kernelspec": {
   "display_name": "Python 3",
   "language": "python",
   "name": "python3"
  },
  "language_info": {
   "codemirror_mode": {
    "name": "ipython",
    "version": 3
   },
   "file_extension": ".py",
   "mimetype": "text/x-python",
   "name": "python",
   "nbconvert_exporter": "python",
   "pygments_lexer": "ipython3",
   "version": "3.12.0"
  }
 },
 "nbformat": 4,
 "nbformat_minor": 2
}
