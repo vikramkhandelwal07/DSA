{
 "cells": [
  {
   "cell_type": "markdown",
   "id": "71ddeafd",
   "metadata": {},
   "source": [
    "- TC - On + O(V+2E) ~= 0(N)\n",
    "- SC - O(n) +O(n)"
   ]
  },
  {
   "cell_type": "code",
   "execution_count": 7,
   "id": "8af741c8",
   "metadata": {},
   "outputs": [],
   "source": [
    "def findCircleNum(isConnected):\n",
    "  def DFS(city):\n",
    "    for neighbour in range(len(isConnected)):\n",
    "      if isConnected[city][neighbour] == 1 and neighbour not in visited:\n",
    "        visited.add(neighbour)\n",
    "        DFS(neighbour)\n",
    "\n",
    "  visited = set()\n",
    "  provinces = 0\n",
    "\n",
    "  for city in range(len(isConnected)):\n",
    "    if city not in visited:\n",
    "      visited.add(city)\n",
    "      print(visited)\n",
    "      DFS(city)\n",
    "      provinces += 1\n",
    "  return provinces"
   ]
  },
  {
   "cell_type": "code",
   "execution_count": 8,
   "id": "f537db6a",
   "metadata": {},
   "outputs": [
    {
     "name": "stdout",
     "output_type": "stream",
     "text": [
      "{0}\n",
      "{0, 1, 2}\n"
     ]
    },
    {
     "data": {
      "text/plain": [
       "2"
      ]
     },
     "execution_count": 8,
     "metadata": {},
     "output_type": "execute_result"
    }
   ],
   "source": [
    "isConnected = [[1,1,0],[1,1,0],[0,0,1]]\n",
    "findCircleNum(isConnected)"
   ]
  },
  {
   "cell_type": "code",
   "execution_count": null,
   "id": "4096149a",
   "metadata": {},
   "outputs": [],
   "source": []
  }
 ],
 "metadata": {
  "kernelspec": {
   "display_name": "Python 3",
   "language": "python",
   "name": "python3"
  },
  "language_info": {
   "codemirror_mode": {
    "name": "ipython",
    "version": 3
   },
   "file_extension": ".py",
   "mimetype": "text/x-python",
   "name": "python",
   "nbconvert_exporter": "python",
   "pygments_lexer": "ipython3",
   "version": "3.12.0"
  }
 },
 "nbformat": 4,
 "nbformat_minor": 5
}
