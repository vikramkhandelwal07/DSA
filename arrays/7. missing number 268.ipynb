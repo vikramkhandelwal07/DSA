{
 "cells": [
  {
   "cell_type": "code",
   "execution_count": 13,
   "metadata": {},
   "outputs": [
    {
     "name": "stdout",
     "output_type": "stream",
     "text": [
      "8\n"
     ]
    }
   ],
   "source": [
    "def missingNumbers(nums):\n",
    "  n = len(nums)\n",
    "  for i in range(n+1):\n",
    "    if i not in nums:\n",
    "      return i\n",
    " \n",
    "nums = [9,6,4,2,3,5,7,0,1]\n",
    "ans = missingNumbers(nums)\n",
    "print(ans)"
   ]
  },
  {
   "cell_type": "code",
   "execution_count": 20,
   "metadata": {},
   "outputs": [
    {
     "name": "stdout",
     "output_type": "stream",
     "text": [
      "8\n"
     ]
    }
   ],
   "source": [
    "def missingNumbers(nums):\n",
    "  n = len(nums)\n",
    "  sum_ = (n*(n+1))//2\n",
    "  missing_sum = sum(nums)\n",
    "  number = sum_ - missing_sum\n",
    "  return number\n",
    "  \n",
    "nums = [9,6,4,2,3,5,7,0,1]\n",
    "ans = missingNumbers(nums)\n",
    "print(ans)"
   ]
  },
  {
   "cell_type": "code",
   "execution_count": 19,
   "metadata": {},
   "outputs": [
    {
     "name": "stdout",
     "output_type": "stream",
     "text": [
      "37\n"
     ]
    }
   ],
   "source": [
    "nums = [9,6,4,2,3,5,7,0,1]\n",
    "s= sum(nums)\n",
    "print(s)"
   ]
  },
  {
   "cell_type": "code",
   "execution_count": null,
   "metadata": {},
   "outputs": [
    {
     "name": "stdout",
     "output_type": "stream",
     "text": [
      "The missing number is: 8\n"
     ]
    }
   ],
   "source": [
    "def missingNumbers(nums):\n",
    "    xor_result = 0  \n",
    "    for i in range(len(nums)):\n",
    "        xor_result ^= i  \n",
    "        xor_result ^= nums[i]  \n",
    "\n",
    "    xor_result ^= len(nums) #last wale ke sath bhi xor karna padega kyuki loop mai last wala nhi hoga\n",
    "\n",
    "    return xor_result\n",
    "\n",
    "nums = [9, 6, 4, 2, 3, 5, 7, 0, 1]\n",
    "ans = missingNumbers(nums)\n",
    "print(\"The missing number is:\", ans)\n"
   ]
  },
  {
   "cell_type": "code",
   "execution_count": null,
   "metadata": {},
   "outputs": [],
   "source": []
  }
 ],
 "metadata": {
  "kernelspec": {
   "display_name": "Python 3",
   "language": "python",
   "name": "python3"
  },
  "language_info": {
   "codemirror_mode": {
    "name": "ipython",
    "version": 3
   },
   "file_extension": ".py",
   "mimetype": "text/x-python",
   "name": "python",
   "nbconvert_exporter": "python",
   "pygments_lexer": "ipython3",
   "version": "3.12.0"
  }
 },
 "nbformat": 4,
 "nbformat_minor": 2
}
