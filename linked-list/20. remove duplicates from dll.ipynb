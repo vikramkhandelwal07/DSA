{
 "cells": [
  {
   "cell_type": "code",
   "execution_count": 1,
   "id": "a39a3046",
   "metadata": {},
   "outputs": [],
   "source": [
    "class DllNode:\n",
    "    def __init__(self, val=0):\n",
    "        self.val = val\n",
    "        self.prev = None\n",
    "        self.next = None\n",
    "\n",
    "def removeDuplicates(head):\n",
    "    curr = head\n",
    "    while curr and curr.next:\n",
    "        if curr.val == curr.next.val:\n",
    "            next_node = curr.next.next\n",
    "            curr.next = next_node\n",
    "            if next_node:\n",
    "                next_node.prev = curr\n",
    "        else:\n",
    "            curr = curr.next\n",
    "    return head\n"
   ]
  },
  {
   "cell_type": "code",
   "execution_count": 2,
   "id": "bbfc0b84",
   "metadata": {},
   "outputs": [
    {
     "name": "stdout",
     "output_type": "stream",
     "text": [
      "Original DLL:\n",
      "1 <-> 2 <-> 2 <-> 3 <-> 3 <-> 3 <-> 4\n",
      "After removing duplicates:\n",
      "1 <-> 2 <-> 3 <-> 4\n"
     ]
    }
   ],
   "source": [
    "def create_dll(arr):\n",
    "    if not arr:\n",
    "        return None\n",
    "    head = DllNode(arr[0])\n",
    "    curr = head\n",
    "    for val in arr[1:]:\n",
    "        node = DllNode(val)\n",
    "        curr.next = node\n",
    "        node.prev = curr\n",
    "        curr = node\n",
    "    return head\n",
    "\n",
    "def print_dll(head):\n",
    "    while head:\n",
    "        print(head.val, end=' <-> ' if head.next else '')\n",
    "        head = head.next\n",
    "    print()\n",
    "\n",
    "# Input: 1 <-> 2 <-> 2 <-> 3 <-> 3 <-> 3 <-> 4\n",
    "arr = [1, 2, 2, 3, 3, 3, 4]\n",
    "head = create_dll(arr)\n",
    "print(\"Original DLL:\")\n",
    "print_dll(head)\n",
    "\n",
    "head = removeDuplicates(head)\n",
    "print(\"After removing duplicates:\")\n",
    "print_dll(head)\n"
   ]
  },
  {
   "cell_type": "code",
   "execution_count": null,
   "id": "2c1dcb4a",
   "metadata": {},
   "outputs": [],
   "source": []
  }
 ],
 "metadata": {
  "kernelspec": {
   "display_name": "Python 3",
   "language": "python",
   "name": "python3"
  },
  "language_info": {
   "codemirror_mode": {
    "name": "ipython",
    "version": 3
   },
   "file_extension": ".py",
   "mimetype": "text/x-python",
   "name": "python",
   "nbconvert_exporter": "python",
   "pygments_lexer": "ipython3",
   "version": "3.12.0"
  }
 },
 "nbformat": 4,
 "nbformat_minor": 5
}
