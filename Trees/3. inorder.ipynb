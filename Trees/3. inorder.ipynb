{
 "cells": [
  {
   "cell_type": "markdown",
   "metadata": {},
   "source": [
    "## InOrder Traversal"
   ]
  },
  {
   "cell_type": "code",
   "execution_count": 3,
   "metadata": {},
   "outputs": [
    {
     "name": "stdout",
     "output_type": "stream",
     "text": [
      "inorder Traversal:\n",
      "[8, 4, 9, 2, 10, 5, 11, 1, 6, 12, 3, 13, 7, 14]\n"
     ]
    }
   ],
   "source": [
    "class Node:\n",
    "  def __init__(self,value):\n",
    "    self.value = value\n",
    "    self.left = None\n",
    "    self.right = None\n",
    "\n",
    "def inorder(root,arr):\n",
    "  if not root:\n",
    "    return\n",
    "  inorder(root.left,arr)\n",
    "  arr.append(root.value)\n",
    "  inorder(root.right,arr)\n",
    "\n",
    "def inorderTraversal(root):\n",
    "  arr = []\n",
    "  inorder(root,arr)\n",
    "  return arr\n",
    "\n",
    "if __name__ == \"__main__\":\n",
    "    root = Node(1)\n",
    "    root.left = Node(2)\n",
    "    root.right = Node(3)\n",
    "    root.left.left = Node(4)\n",
    "    root.left.right = Node(5)\n",
    "    root.right.left = Node(6)\n",
    "    root.right.right = Node(7)\n",
    "    root.left.left.left = Node(8)\n",
    "    root.left.left.right = Node(9)\n",
    "    root.left.right.left = Node(10)\n",
    "    root.left.right.right = Node(11)\n",
    "    root.right.left.right = Node(12)\n",
    "    root.right.right.left = Node(13)\n",
    "    root.right.right.right = Node(14)\n",
    "\n",
    "    result = inorderTraversal(root)\n",
    "\n",
    "    print(\"inorder Traversal:\")\n",
    "    print(result)\n"
   ]
  },
  {
   "cell_type": "markdown",
   "metadata": {},
   "source": [
    "## Iterative"
   ]
  },
  {
   "cell_type": "code",
   "execution_count": 2,
   "metadata": {},
   "outputs": [],
   "source": [
    "class TreeNode:\n",
    "  def __init__(self,value):\n",
    "    self.value = value\n",
    "    self.left = None\n",
    "    self.right = None\n",
    "\n",
    "def Inorder(root):\n",
    "  stack = []\n",
    "  current = root\n",
    "  ans = []\n",
    "  \n",
    "  while current or stack:\n",
    "    while current:\n",
    "      stack.append(current)\n",
    "      current = current.left\n",
    "      \n",
    "    current = stack.pop()\n",
    "    ans.append(current.value)\n",
    "    current = current.right\n",
    "  \n",
    "  return ans "
   ]
  },
  {
   "cell_type": "code",
   "execution_count": 3,
   "metadata": {},
   "outputs": [
    {
     "name": "stdout",
     "output_type": "stream",
     "text": [
      "Preorder Traversal: 3 2 5 4 6 1 7 \n"
     ]
    }
   ],
   "source": [
    "root = TreeNode(1)\n",
    "root.left = TreeNode(2)\n",
    "root.right = TreeNode(7)\n",
    "root.left.left = TreeNode(3)\n",
    "root.left.right = TreeNode(4)\n",
    "root.left.right.left = TreeNode(5)\n",
    "root.left.right.right = TreeNode(6)\n",
    "\n",
    "result = Inorder(root)\n",
    "\n",
    "print(\"Preorder Traversal:\", end=\" \")\n",
    "for val in result:\n",
    "    print(val, end=\" \")\n",
    "print()"
   ]
  },
  {
   "cell_type": "code",
   "execution_count": null,
   "metadata": {},
   "outputs": [],
   "source": []
  }
 ],
 "metadata": {
  "kernelspec": {
   "display_name": "Python 3",
   "language": "python",
   "name": "python3"
  },
  "language_info": {
   "codemirror_mode": {
    "name": "ipython",
    "version": 3
   },
   "file_extension": ".py",
   "mimetype": "text/x-python",
   "name": "python",
   "nbconvert_exporter": "python",
   "pygments_lexer": "ipython3",
   "version": "3.12.0"
  }
 },
 "nbformat": 4,
 "nbformat_minor": 2
}
