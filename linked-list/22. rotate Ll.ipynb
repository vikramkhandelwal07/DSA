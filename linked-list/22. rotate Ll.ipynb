{
 "cells": [
  {
   "cell_type": "code",
   "execution_count": null,
   "id": "674963a5",
   "metadata": {},
   "outputs": [],
   "source": [
    "class ListNode:\n",
    "    def __init__(self, val=0, next=None):\n",
    "        self.val = val\n",
    "        self.next = next\n",
    "\n",
    "# Helper to find the k-th node (1-based index)\n",
    "def findKthNode(head, k):\n",
    "    current = head\n",
    "    count = 1\n",
    "    while current and count < k:\n",
    "        current = current.next\n",
    "        count += 1\n",
    "    return current  # returns None if k > length\n",
    "\n",
    "def rotate(head, k):\n",
    "    if not head or not head.next or k == 0:\n",
    "        return head\n",
    "\n",
    "    # Step 1: Find the length and the tail\n",
    "    tail = head\n",
    "    length = 1\n",
    "    while tail.next:\n",
    "        tail = tail.next\n",
    "        length += 1\n",
    "\n",
    "    # Step 2: Normalize k\n",
    "    k = k % length\n",
    "    if k == 0:\n",
    "        return head\n",
    "\n",
    "    # Step 3: Make the list circular\n",
    "    tail.next = head\n",
    "\n",
    "    # Step 4: Find new tail: (length - k)th node\n",
    "    new_tail = findKthNode(head, length - k)\n",
    "    new_head = new_tail.next\n",
    "\n",
    "    # Step 5: Break the circle\n",
    "    new_tail.next = None\n",
    "\n",
    "    return new_head\n"
   ]
  }
 ],
 "metadata": {
  "language_info": {
   "name": "python"
  }
 },
 "nbformat": 4,
 "nbformat_minor": 5
}
