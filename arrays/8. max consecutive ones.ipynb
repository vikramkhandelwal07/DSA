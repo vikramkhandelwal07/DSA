{
 "cells": [
  {
   "cell_type": "code",
   "execution_count": null,
   "metadata": {},
   "outputs": [
    {
     "name": "stdout",
     "output_type": "stream",
     "text": [
      "[1, 2, 2, 0, 1, 2, 3]\n",
      "3\n"
     ]
    }
   ],
   "source": [
    "def consecutiveOnes(nums):\n",
    "  \n",
    "  arr = []\n",
    "  count = 0\n",
    "  n = len(nums)\n",
    "  for i in range(n):\n",
    "    if nums[i] == 1:\n",
    "      count +=1\n",
    "    elif nums[i] !=1:\n",
    "      arr.append(count)  \n",
    "      count = 0\n",
    "    \n",
    "    arr.append(count)  \n",
    "  return max(arr)\n",
    "\n",
    "nums =[1,1,0,1,1,1]\n",
    "result = consecutiveOnes(nums)\n",
    "print(result)"
   ]
  },
  {
   "cell_type": "code",
   "execution_count": 9,
   "metadata": {},
   "outputs": [
    {
     "name": "stdout",
     "output_type": "stream",
     "text": [
      "1\n",
      "0\n",
      "1\n",
      "1\n",
      "0\n",
      "1\n"
     ]
    }
   ],
   "source": [
    "nums = [1,0,1,1,0,1]\n",
    "n = len(nums)\n",
    "for i in range(n):\n",
    "  print(nums[i])\n",
    "  "
   ]
  },
  {
   "cell_type": "code",
   "execution_count": 23,
   "metadata": {},
   "outputs": [
    {
     "name": "stdout",
     "output_type": "stream",
     "text": [
      "3\n"
     ]
    }
   ],
   "source": [
    "def consecutiveOnes(nums):\n",
    "  maxi = 0\n",
    "  count = 0\n",
    "  n = len(nums)\n",
    "  for i in range(n):\n",
    "    if nums[i] ==1:\n",
    "      count+=1\n",
    "      maxi = max(count , maxi)     \n",
    "    else:\n",
    "      count = 0\n",
    "     \n",
    "  return maxi\n",
    "  \n",
    "nums =[1,1,0,1,1,1,0]\n",
    "result = consecutiveOnes(nums)\n",
    "print(result)"
   ]
  },
  {
   "cell_type": "code",
   "execution_count": null,
   "metadata": {},
   "outputs": [],
   "source": []
  }
 ],
 "metadata": {
  "kernelspec": {
   "display_name": "Python 3",
   "language": "python",
   "name": "python3"
  },
  "language_info": {
   "codemirror_mode": {
    "name": "ipython",
    "version": 3
   },
   "file_extension": ".py",
   "mimetype": "text/x-python",
   "name": "python",
   "nbconvert_exporter": "python",
   "pygments_lexer": "ipython3",
   "version": "3.12.0"
  }
 },
 "nbformat": 4,
 "nbformat_minor": 2
}
