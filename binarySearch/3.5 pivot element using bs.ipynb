{
 "cells": [
  {
   "cell_type": "code",
   "execution_count": 1,
   "metadata": {},
   "outputs": [
    {
     "name": "stdout",
     "output_type": "stream",
     "text": [
      "The pivot is at index: 3\n"
     ]
    }
   ],
   "source": [
    "def search(nums):\n",
    "    n = len(nums)\n",
    "    low = 0\n",
    "    high = n - 1\n",
    "    \n",
    "    if nums[low] < nums[high]:\n",
    "        return 0  # Pivot is the first element\n",
    "    \n",
    "    while low <= high:\n",
    "        mid = (low + high) // 2\n",
    "        \n",
    "        if mid < n - 1 and nums[mid] > nums[mid + 1]:\n",
    "            return mid + 1  # Pivot found\n",
    "        elif mid > 0 and nums[mid] < nums[mid - 1]:\n",
    "            return mid  # Pivot found\n",
    "        \n",
    "        # Adjust the search range\n",
    "        if nums[mid] >= nums[low]:\n",
    "            low = mid + 1\n",
    "        else:\n",
    "            high = mid - 1\n",
    "    \n",
    "    return 0 \n",
    "  \n",
    "\n",
    "nums = [6, 7, 8, 1, 2, 3, 4, 5]  \n",
    "pivot = search(nums)\n",
    "print(f\"The pivot is at index: {pivot}\")\n"
   ]
  },
  {
   "cell_type": "code",
   "execution_count": null,
   "metadata": {},
   "outputs": [],
   "source": []
  },
  {
   "cell_type": "code",
   "execution_count": null,
   "metadata": {},
   "outputs": [],
   "source": []
  }
 ],
 "metadata": {
  "kernelspec": {
   "display_name": "Python 3",
   "language": "python",
   "name": "python3"
  },
  "language_info": {
   "codemirror_mode": {
    "name": "ipython",
    "version": 3
   },
   "file_extension": ".py",
   "mimetype": "text/x-python",
   "name": "python",
   "nbconvert_exporter": "python",
   "pygments_lexer": "ipython3",
   "version": "3.12.0"
  }
 },
 "nbformat": 4,
 "nbformat_minor": 2
}
