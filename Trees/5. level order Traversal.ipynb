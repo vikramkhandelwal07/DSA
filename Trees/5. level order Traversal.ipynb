{
 "cells": [
  {
   "cell_type": "markdown",
   "metadata": {},
   "source": [
    "## Level order Traversal"
   ]
  },
  {
   "cell_type": "code",
   "execution_count": 5,
   "metadata": {},
   "outputs": [
    {
     "name": "stdout",
     "output_type": "stream",
     "text": [
      "Level Order Traversal of Tree:\n",
      "1 \n",
      "2 3 \n",
      "4 5 \n"
     ]
    }
   ],
   "source": [
    "from collections import deque\n",
    "\n",
    "class TreeNode:\n",
    "  def __init__(self, value):\n",
    "    self.value = value\n",
    "    self.left = None\n",
    "    self.right = None\n",
    "\n",
    "def levelOrderTraversal(root):\n",
    "  ans = []\n",
    "  if not root:\n",
    "      return ans\n",
    "  q = deque()\n",
    "  q.append(root)\n",
    "\n",
    "  while q:\n",
    "    size = len(q)\n",
    "    level = []\n",
    "    for i in range(size):\n",
    "      node = q.popleft()\n",
    "      level.append(node.value) \n",
    "\n",
    "      if node.left:\n",
    "          q.append(node.left)\n",
    "      if node.right:\n",
    "          q.append(node.right)\n",
    "\n",
    "    ans.append(level)\n",
    "  return ans\n",
    "\n",
    "\n",
    "def printList(lst):\n",
    "    for num in lst:\n",
    "        print(num, end=\" \")\n",
    "    print()\n",
    "\n",
    "\n",
    "if __name__ == \"__main__\":\n",
    "    root = TreeNode(1)\n",
    "    root.left = TreeNode(2)\n",
    "    root.right = TreeNode(3)\n",
    "    root.left.left = TreeNode(4)\n",
    "    root.left.right = TreeNode(5)\n",
    "\n",
    "    result = levelOrderTraversal(root)\n",
    "\n",
    "    print(\"Level Order Traversal of Tree:\")\n",
    "    for level in result:\n",
    "        printList(level)\n"
   ]
  },
  {
   "cell_type": "code",
   "execution_count": null,
   "metadata": {},
   "outputs": [],
   "source": []
  },
  {
   "cell_type": "code",
   "execution_count": null,
   "metadata": {},
   "outputs": [],
   "source": []
  }
 ],
 "metadata": {
  "kernelspec": {
   "display_name": "Python 3",
   "language": "python",
   "name": "python3"
  },
  "language_info": {
   "codemirror_mode": {
    "name": "ipython",
    "version": 3
   },
   "file_extension": ".py",
   "mimetype": "text/x-python",
   "name": "python",
   "nbconvert_exporter": "python",
   "pygments_lexer": "ipython3",
   "version": "3.12.0"
  }
 },
 "nbformat": 4,
 "nbformat_minor": 2
}
