{
 "cells": [
  {
   "cell_type": "code",
   "execution_count": 1,
   "id": "5bf7e2d1",
   "metadata": {},
   "outputs": [
    {
     "name": "stdout",
     "output_type": "stream",
     "text": [
      "Time to infect entire tree starting from 2: 3\n"
     ]
    }
   ],
   "source": [
    "from collections import deque\n",
    "\n",
    "class Node:\n",
    "    def __init__(self, value):\n",
    "        self.value = value\n",
    "        self.left = None\n",
    "        self.right = None\n",
    "\n",
    "def markParent(root, parentMap):\n",
    "    queue = deque([root])\n",
    "    while queue:\n",
    "        node = queue.popleft()\n",
    "        if node.left:\n",
    "            parentMap[node.left] = node\n",
    "            queue.append(node.left)\n",
    "        if node.right:\n",
    "            parentMap[node.right] = node\n",
    "            queue.append(node.right)\n",
    "\n",
    "def findNode(root, value):\n",
    "    if not root:\n",
    "        return None\n",
    "    if root.value == value:\n",
    "        return root\n",
    "    left = findNode(root.left, value)\n",
    "    if left:\n",
    "        return left\n",
    "    return findNode(root.right, value)\n",
    "\n",
    "def timeToInfect(root, start):\n",
    "    if not root:\n",
    "        return 0\n",
    "    \n",
    "    # Step 1: build parent map\n",
    "    parentMap = {}\n",
    "    markParent(root, parentMap)\n",
    "    \n",
    "    # Step 2: find starting node\n",
    "    target = findNode(root, start)\n",
    "    if not target:\n",
    "        return 0  # start node not found\n",
    "    \n",
    "    # Step 3: BFS from target\n",
    "    visited = set()\n",
    "    queue = deque([target])\n",
    "    visited.add(target)\n",
    "    \n",
    "    time = 0\n",
    "    \n",
    "    while queue:\n",
    "        size = len(queue)\n",
    "        any_infected = False\n",
    "        \n",
    "        for _ in range(size):\n",
    "            node = queue.popleft()\n",
    "            for neighbor in (node.left, node.right, parentMap.get(node)):\n",
    "                if neighbor and neighbor not in visited:\n",
    "                    visited.add(neighbor)\n",
    "                    queue.append(neighbor)\n",
    "                    any_infected = True\n",
    "        if any_infected:\n",
    "            time += 1  # next level of infection\n",
    "    return time\n",
    "\n",
    "# 🧪 Example tree:\n",
    "root = Node(1)\n",
    "root.left = Node(2)\n",
    "root.right = Node(3)\n",
    "root.left.left = Node(4)\n",
    "root.left.right = Node(5)\n",
    "root.right.left = Node(6)\n",
    "root.right.right = Node(7)\n",
    "\n",
    "start = 2\n",
    "result = timeToInfect(root, start)\n",
    "print(f\"Time to infect entire tree starting from {start}: {result}\")\n"
   ]
  },
  {
   "cell_type": "code",
   "execution_count": null,
   "id": "11a3ca29",
   "metadata": {},
   "outputs": [],
   "source": []
  }
 ],
 "metadata": {
  "kernelspec": {
   "display_name": "Python 3",
   "language": "python",
   "name": "python3"
  },
  "language_info": {
   "codemirror_mode": {
    "name": "ipython",
    "version": 3
   },
   "file_extension": ".py",
   "mimetype": "text/x-python",
   "name": "python",
   "nbconvert_exporter": "python",
   "pygments_lexer": "ipython3",
   "version": "3.12.0"
  }
 },
 "nbformat": 4,
 "nbformat_minor": 5
}
