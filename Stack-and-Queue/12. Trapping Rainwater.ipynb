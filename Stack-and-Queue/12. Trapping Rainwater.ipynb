{
 "cells": [
  {
   "cell_type": "markdown",
   "metadata": {},
   "source": [
    "## Brute Force"
   ]
  },
  {
   "cell_type": "markdown",
   "metadata": {},
   "source": [
    "- `TC - O(3N)`\n",
    "- `SC - O(2N)` "
   ]
  },
  {
   "cell_type": "code",
   "execution_count": null,
   "metadata": {},
   "outputs": [
    {
     "name": "stdout",
     "output_type": "stream",
     "text": [
      "The water that can be trapped is 6\n"
     ]
    }
   ],
   "source": [
    "def prefixMax(nums):\n",
    "    n = len(nums)\n",
    "    prefix = [0] * n\n",
    "    prefix[0] = nums[0]\n",
    "    for i in range(1, n):\n",
    "        prefix[i] = max(prefix[i - 1], nums[i])\n",
    "    return prefix\n",
    "\n",
    "def suffixMax(nums):\n",
    "    n = len(nums)\n",
    "    suffix = [0] * n\n",
    "    suffix[n - 1] = nums[n - 1]\n",
    "    for i in range(n - 2, -1, -1):\n",
    "        suffix[i] = max(suffix[i + 1], nums[i])\n",
    "    return suffix\n",
    "\n",
    "def trappingWater(nums):\n",
    "    n = len(nums)\n",
    "    if n == 0:\n",
    "        return 0\n",
    "    \n",
    "    prefix = prefixMax(nums)\n",
    "    suffix = suffixMax(nums)\n",
    "    \n",
    "    total = 0\n",
    "    for i in range(n):\n",
    "        total += min(prefix[i], suffix[i]) - nums[i]\n",
    "    \n",
    "    return total\n",
    "\n",
    "\n",
    "nums = [0, 1, 0, 2, 1, 0, 1, 3, 2, 1, 2, 1]\n",
    "print(f\"The water that can be trapped is {trappingWater(nums)}\")"
   ]
  },
  {
   "cell_type": "markdown",
   "metadata": {},
   "source": [
    "## Optimal code"
   ]
  },
  {
   "cell_type": "code",
   "execution_count": 7,
   "metadata": {},
   "outputs": [
    {
     "name": "stdout",
     "output_type": "stream",
     "text": [
      "The water that can be trapped is 6\n"
     ]
    }
   ],
   "source": [
    "def trap(nums):\n",
    "  n = len(nums)\n",
    "  leftMax = rightMax = total = 0\n",
    "  l = 0\n",
    "  r = n-1\n",
    "  while (l <= r):\n",
    "    if nums[l] <= nums[r]:\n",
    "      if leftMax > nums[l]:\n",
    "        total += leftMax - nums[l]\n",
    "      else:\n",
    "        leftMax = nums[l]\n",
    "      l+=1\n",
    "    else:\n",
    "      if rightMax > nums[r]:\n",
    "        total += rightMax - nums[r]\n",
    "      else:\n",
    "        rightMax = nums[r]\n",
    "      r-=1\n",
    "      \n",
    "  return total\n",
    "\n",
    "nums = [0, 1, 0, 2, 1, 0, 1, 3, 2, 1, 2, 1]\n",
    "print(f\"The water that can be trapped is {trap(nums)}\")      "
   ]
  },
  {
   "cell_type": "code",
   "execution_count": null,
   "metadata": {},
   "outputs": [],
   "source": []
  }
 ],
 "metadata": {
  "kernelspec": {
   "display_name": "Python 3",
   "language": "python",
   "name": "python3"
  },
  "language_info": {
   "codemirror_mode": {
    "name": "ipython",
    "version": 3
   },
   "file_extension": ".py",
   "mimetype": "text/x-python",
   "name": "python",
   "nbconvert_exporter": "python",
   "pygments_lexer": "ipython3",
   "version": "3.12.0"
  }
 },
 "nbformat": 4,
 "nbformat_minor": 2
}
