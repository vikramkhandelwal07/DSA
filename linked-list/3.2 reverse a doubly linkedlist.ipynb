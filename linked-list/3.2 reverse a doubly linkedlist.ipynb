{
 "cells": [
  {
   "cell_type": "code",
   "execution_count": null,
   "metadata": {},
   "outputs": [],
   "source": []
  },
  {
   "cell_type": "markdown",
   "metadata": {},
   "source": [
    "## Brute Force "
   ]
  },
  {
   "cell_type": "code",
   "execution_count": 1,
   "metadata": {},
   "outputs": [
    {
     "name": "stdout",
     "output_type": "stream",
     "text": [
      "Doubly Linked List Initially:  \n",
      "12 <-> 5 <-> 6 <-> 8 <-> 4\n",
      "Doubly Linked List After Reversing :\n",
      "4 <-> 8 <-> 6 <-> 5 <-> 12\n"
     ]
    }
   ],
   "source": [
    "class Node:\n",
    "  def __init__(self,value):\n",
    "    self.value = value\n",
    "    self.next = None \n",
    "    self.prev = None\n",
    "\n",
    "def arrayToLinkedList(nums):\n",
    "  if not nums:\n",
    "    return None\n",
    "  \n",
    "  head = Node(nums[0])\n",
    "  \n",
    "  current = head\n",
    "  for number in nums[1:]:\n",
    "    new_node = Node(number)\n",
    "    current.next = new_node\n",
    "    new_node.prev = current\n",
    "    current = new_node\n",
    "    \n",
    "  return head\n",
    "\n",
    "def print_list(head):\n",
    "    current = head\n",
    "    while current:\n",
    "        print(f\"{current.value}\", end=\" <-> \" if current.next else \"\")\n",
    "        current = current.next\n",
    "    print()\n",
    "    \n",
    "    \n",
    "    # TC - O(2n)\n",
    "    # SC - O(N)\n",
    "def reverseDLL(head):\n",
    "  if head is None or head.next is None:\n",
    "    return head\n",
    "  \n",
    "  stack = []\n",
    "  current = head\n",
    "  while current:\n",
    "    stack.append(current.value)\n",
    "    current = current.next\n",
    "    \n",
    "  current = head\n",
    "  \n",
    "  while current:\n",
    "    current.value = stack.pop() \n",
    "    current = current.next\n",
    "    \n",
    "  return head\n",
    "  \n",
    "  \n",
    "arr = [12, 5, 6, 8, 4]\n",
    "head = arrayToLinkedList(arr)\n",
    "print('Doubly Linked List Initially:  ')\n",
    "print_list(head)\n",
    "\n",
    "print('Doubly Linked List After Reversing :')\n",
    "\n",
    "head = reverseDLL(head)\n",
    "print_list(head) \n",
    "    \n",
    "   "
   ]
  },
  {
   "cell_type": "markdown",
   "metadata": {},
   "source": [
    "## Optimal Code\n",
    "\n",
    "- in this dont directly tell the interviewer that four lines of code of swapping start from telling that you are thinking of swapping of two node and then u thought of swapping two numbers by using 3rd variable "
   ]
  },
  {
   "cell_type": "code",
   "execution_count": 3,
   "metadata": {},
   "outputs": [
    {
     "name": "stdout",
     "output_type": "stream",
     "text": [
      "Doubly Linked List Initially:  \n",
      "12 <-> 5 <-> 6 <-> 8 <-> 4\n",
      "Doubly Linked List After Reversing :\n",
      "4 <-> 8 <-> 6 <-> 5 <-> 12\n"
     ]
    }
   ],
   "source": [
    "\n",
    "class Node:\n",
    "  def __init__(self,value):\n",
    "    self.value = value\n",
    "    self.next = None \n",
    "    self.prev = None\n",
    "\n",
    "def arrayToLinkedList(nums):\n",
    "  if not nums:\n",
    "    return None\n",
    "  \n",
    "  head = Node(nums[0])\n",
    "  \n",
    "  current = head\n",
    "  for number in nums[1:]:\n",
    "    new_node = Node(number)\n",
    "    current.next = new_node\n",
    "    new_node.prev = current\n",
    "    current = new_node\n",
    "    \n",
    "  return head\n",
    "\n",
    "def print_list(head):\n",
    "    current = head\n",
    "    while current:\n",
    "        print(f\"{current.value}\", end=\" <-> \" if current.next else \"\")\n",
    "        current = current.next\n",
    "    print()\n",
    "    \n",
    "    \n",
    "    # TC - O(n)\n",
    "    # SC - O(1)\n",
    "def reverseDLL(head):\n",
    "  if head is None or head.next is None:\n",
    "    return head\n",
    "  current = head\n",
    "  last = None\n",
    "  while current:\n",
    "    last = current.prev           # a = temp\n",
    "    current.prev = current.next   # temp = b\n",
    "    current.next = last           # b = a\n",
    "    \n",
    "    current = current.prev    # to go to next node\n",
    "  \n",
    "  return last.prev   #new head after turning the DLL\n",
    "  \n",
    "  \n",
    "arr = [12, 5, 6, 8, 4]\n",
    "head = arrayToLinkedList(arr)\n",
    "print('Doubly Linked List Initially:  ')\n",
    "print_list(head)\n",
    "\n",
    "print('Doubly Linked List After Reversing :')\n",
    "\n",
    "head = reverseDLL(head)\n",
    "print_list(head) \n",
    "    \n",
    "   "
   ]
  },
  {
   "cell_type": "code",
   "execution_count": null,
   "metadata": {},
   "outputs": [],
   "source": []
  }
 ],
 "metadata": {
  "kernelspec": {
   "display_name": "Python 3",
   "language": "python",
   "name": "python3"
  },
  "language_info": {
   "codemirror_mode": {
    "name": "ipython",
    "version": 3
   },
   "file_extension": ".py",
   "mimetype": "text/x-python",
   "name": "python",
   "nbconvert_exporter": "python",
   "pygments_lexer": "ipython3",
   "version": "3.12.0"
  }
 },
 "nbformat": 4,
 "nbformat_minor": 2
}
