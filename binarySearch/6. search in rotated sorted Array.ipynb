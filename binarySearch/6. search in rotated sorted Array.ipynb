{
 "cells": [
  {
   "cell_type": "code",
   "execution_count": 7,
   "metadata": {},
   "outputs": [],
   "source": [
    "def search(nums,target):\n",
    "  n = len(nums)\n",
    "  low = 0\n",
    "  high = n -1\n",
    "  while low <= high:\n",
    "    mid = (low+high)//2\n",
    "    if nums[mid] == target:\n",
    "      return mid\n",
    "    \n",
    "    if nums[low] <= nums[mid]:\n",
    "      if (nums[low] <= target and target <= nums[mid]):\n",
    "        high = mid-1\n",
    "      else:\n",
    "        low = mid+1\n",
    "        \n",
    "    else:\n",
    "      if nums[mid] <= target and target <= nums[high]:\n",
    "        low = mid+1\n",
    "      else:\n",
    "        high = mid - 1\n",
    "        \n",
    "  \n",
    "  return -1"
   ]
  },
  {
   "cell_type": "code",
   "execution_count": 9,
   "metadata": {},
   "outputs": [
    {
     "name": "stdout",
     "output_type": "stream",
     "text": [
      "4\n"
     ]
    }
   ],
   "source": [
    "nums = [4,5,6,7,0,1,2]\n",
    "target = 0\n",
    "output = search(nums,target)\n",
    "print(output)\n"
   ]
  },
  {
   "cell_type": "code",
   "execution_count": null,
   "metadata": {},
   "outputs": [],
   "source": []
  }
 ],
 "metadata": {
  "kernelspec": {
   "display_name": "Python 3",
   "language": "python",
   "name": "python3"
  },
  "language_info": {
   "codemirror_mode": {
    "name": "ipython",
    "version": 3
   },
   "file_extension": ".py",
   "mimetype": "text/x-python",
   "name": "python",
   "nbconvert_exporter": "python",
   "pygments_lexer": "ipython3",
   "version": "3.12.0"
  }
 },
 "nbformat": 4,
 "nbformat_minor": 2
}
