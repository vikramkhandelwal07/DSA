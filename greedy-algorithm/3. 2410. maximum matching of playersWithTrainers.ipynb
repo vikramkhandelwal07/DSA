{
 "cells": [
  {
   "cell_type": "markdown",
   "metadata": {},
   "source": []
  },
  {
   "cell_type": "markdown",
   "metadata": {},
   "source": [
    "## 2410: Maximum Matching of Players With Trainers\n",
    "\n",
    "### Problem Description\n",
    "You are given:\n",
    "- A 0-indexed integer array `players`, where `players[i]` represents the ability of the *i-th* player.\n",
    "- A 0-indexed integer array `trainers`, where `trainers[j]` represents the training capacity of the *j-th* trainer.\n",
    "\n",
    "A player can match with a trainer if:\n",
    "1. The player's ability is less than or equal to the trainer's capacity.\n",
    "2. Each player can be matched with at most one trainer.\n",
    "3. Each trainer can be matched with at most one player.\n",
    "\n",
    "### Objective\n",
    "Return the **maximum number of matchings** that satisfy the above conditions.\n",
    "\n",
    "---\n",
    "\n",
    "### Examples\n",
    "\n",
    "#### Example 1:\n",
    "**Input**:  \n",
    "`players = [4, 7, 9]`  \n",
    "`trainers = [8, 2, 5, 8]`  \n",
    "\n",
    "**Output**:  \n",
    "`2`\n",
    "\n",
    "**Explanation**:  \n",
    "- Match player `players[0] = 4` with trainer `trainers[0] = 8` (since `4 <= 8`).\n",
    "- Match player `players[1] = 7` with trainer `trainers[3] = 8` (since `7 <= 8`).\n",
    "- Player `players[2] = 9` cannot be matched.\n",
    "\n",
    "---\n",
    "\n",
    "#### Example 2:\n",
    "**Input**:  \n",
    "`players = [1, 1, 1]`  \n",
    "`trainers = [10]`  \n",
    "\n",
    "**Output**:  \n",
    "`1`\n",
    "**Explanation**:  \n",
    "- The trainer `trainers[0] = 10` can match with any player, but only one match is allowed.  \n",
    "---\n",
    "### Constraints\n",
    "- `1 <= players.length, trainers.length <= 10^5`\n",
    "- `1 <= players[i], trainers[j] <= 10^9`\n",
    "---\n",
    "### Approach\n",
    "1. **Sort both arrays**: Sorting helps in efficiently matching players and trainers in ascending order of abilities and capacities.\n",
    "2. **Two-pointer technique**:\n",
    "   - Use one pointer for the `players` array and another for the `trainers` array.\n",
    "   - Iterate through both arrays to find valid matches.\n",
    "  \n",
    "### Algorithm\n",
    "1. Sort `players` and `trainers`.\n",
    "2. Initialize two pointers, `i` (for players) and `j` (for trainers), and a `count` variable to track the matches.\n",
    "3. While both pointers are within bounds:\n",
    "   - If `players[i] <= trainers[j]`, it’s a valid match. Increment both pointers and the `count`.\n",
    "   - Otherwise, move the trainer pointer `j` to find a better match.\n",
    "4. Return `count` as the result.\n",
    "---\n",
    "### Complexity\n",
    "- **Time Complexity**: \\(O(n \\log n + m \\log m)\\), where \\(n\\) is the size of `players` and \\(m\\) is the size of `trainers` (for sorting).\n",
    "- **Space Complexity**: \\(O(1)\\) (in-place sorting and two pointers)."
   ]
  },
  {
   "cell_type": "code",
   "execution_count": 1,
   "metadata": {},
   "outputs": [],
   "source": [
    "from typing import List\n",
    "def matchPlayersAndTrainers( players: List[int], trainers: List[int]) -> int:\n",
    "  player = 0\n",
    "  trainer = 0\n",
    "\n",
    "  players.sort()\n",
    "  trainers.sort()\n",
    "\n",
    "  p = len(players)\n",
    "  t = len(trainers)\n",
    "\n",
    "  while (player < p and trainer < t):\n",
    "    if trainers[trainer] >= players[player]:\n",
    "      player+=1\n",
    "    trainer+=1\n",
    "    \n",
    "  return player"
   ]
  },
  {
   "cell_type": "code",
   "execution_count": 2,
   "metadata": {},
   "outputs": [
    {
     "data": {
      "text/plain": [
       "3"
      ]
     },
     "execution_count": 2,
     "metadata": {},
     "output_type": "execute_result"
    }
   ],
   "source": [
    "players = [4,7,9]\n",
    "trainers = [2,5,8,9]\n",
    "matchPlayersAndTrainers(players,trainers)"
   ]
  },
  {
   "cell_type": "code",
   "execution_count": null,
   "metadata": {},
   "outputs": [],
   "source": []
  }
 ],
 "metadata": {
  "kernelspec": {
   "display_name": "Python 3",
   "language": "python",
   "name": "python3"
  },
  "language_info": {
   "codemirror_mode": {
    "name": "ipython",
    "version": 3
   },
   "file_extension": ".py",
   "mimetype": "text/x-python",
   "name": "python",
   "nbconvert_exporter": "python",
   "pygments_lexer": "ipython3",
   "version": "3.12.0"
  }
 },
 "nbformat": 4,
 "nbformat_minor": 2
}
