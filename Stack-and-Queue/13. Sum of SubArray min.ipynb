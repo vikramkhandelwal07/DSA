{
 "cells": [
  {
   "cell_type": "markdown",
   "metadata": {},
   "source": [
    "## Sum of SubArray Minimum"
   ]
  },
  {
   "cell_type": "markdown",
   "metadata": {},
   "source": [
    "### Brute force\n",
    "- generate all the subarrays and find min of each subarray and add in the minSum\n",
    "- TC - `O(N^2) TLE`\n",
    "- SC - `O(1)`"
   ]
  },
  {
   "cell_type": "code",
   "execution_count": 11,
   "metadata": {},
   "outputs": [
    {
     "data": {
      "text/plain": [
       "17"
      ]
     },
     "execution_count": 11,
     "metadata": {},
     "output_type": "execute_result"
    }
   ],
   "source": [
    "from typing import List\n",
    "def sumSubarrayMins(nums: List[int])-> int:\n",
    "  n = len(nums)\n",
    "  MOD = 10**9 + 7\n",
    "  minSum = 0\n",
    "  for i in range(n):\n",
    "    for j in range(i,n):\n",
    "      minSum+= min(nums[i:j+1])\n",
    "      minSum %= MOD\n",
    "  return minSum      \n",
    "  \n",
    "nums = [3,1,2,4]\n",
    "sumSubarrayMins(nums)"
   ]
  },
  {
   "cell_type": "code",
   "execution_count": 13,
   "metadata": {},
   "outputs": [],
   "source": [
    "class Solution:\n",
    "  def sumSubarrayMins(self, arr: List[int]) -> int:\n",
    "    n = len(arr)\n",
    "    left = [-1] * n \n",
    "    right = [n] * n\n",
    "    stack = []\n",
    "\n",
    "    for i, value in enumerate(arr):\n",
    "      while stack and arr[stack[-1]] >= value:  \n",
    "        stack.pop()  \n",
    "      if stack:\n",
    "        left[i] = stack[-1]  \n",
    "      stack.append(i) \n",
    "\n",
    "    stack = [] \n",
    "\n",
    "    \n",
    "    for i in range(n - 1, -1, -1):  \n",
    "      while stack and arr[stack[-1]] > arr[i]: \n",
    "        stack.pop()  \n",
    "      if stack:\n",
    "        right[i] = stack[-1]  \n",
    "      stack.append(i) \n",
    "\n",
    "    mod = 10**9 + 7 \n",
    "    result = sum((i - left[i]) * (right[i] - i) * value for i, value in enumerate(arr)) % mod\n",
    "    return result "
   ]
  },
  {
   "cell_type": "code",
   "execution_count": null,
   "metadata": {},
   "outputs": [],
   "source": []
  }
 ],
 "metadata": {
  "kernelspec": {
   "display_name": "Python 3",
   "language": "python",
   "name": "python3"
  },
  "language_info": {
   "codemirror_mode": {
    "name": "ipython",
    "version": 3
   },
   "file_extension": ".py",
   "mimetype": "text/x-python",
   "name": "python",
   "nbconvert_exporter": "python",
   "pygments_lexer": "ipython3",
   "version": "3.12.0"
  }
 },
 "nbformat": 4,
 "nbformat_minor": 2
}
