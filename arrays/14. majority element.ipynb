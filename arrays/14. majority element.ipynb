{
 "cells": [
  {
   "cell_type": "markdown",
   "metadata": {},
   "source": [
    "- Approach that came to my mind \n",
    "  ## better solution "
   ]
  },
  {
   "cell_type": "code",
   "execution_count": null,
   "metadata": {},
   "outputs": [
    {
     "name": "stdout",
     "output_type": "stream",
     "text": [
      "2\n"
     ]
    }
   ],
   "source": [
    "#Time Complexity: O(N)\n",
    "#Space Complexity: O(N)\n",
    "def majorityElement(nums):\n",
    "  dict1 = {}\n",
    "  n = len(nums)\n",
    "  for num in nums:\n",
    "    if num in dict1:\n",
    "      dict1[num] +=1\n",
    "    else:\n",
    "      dict1[num] = 1\n",
    "  max_key = max(dict1, key=dict1.get)  \n",
    "\n",
    "  if (dict1[max_key]) > n//2:\n",
    "    return max_key\n",
    "\n",
    "nums = [2,2,1,1,1,2,2]\n",
    "output = majorityElement(nums)\n",
    "print(output)"
   ]
  },
  {
   "cell_type": "markdown",
   "metadata": {},
   "source": [
    "## Optimal Moore Voting Algorithm\n",
    "- if someone is coming more than n//2 times it will not get cancelled by other elements "
   ]
  },
  {
   "cell_type": "code",
   "execution_count": 12,
   "metadata": {},
   "outputs": [
    {
     "name": "stdout",
     "output_type": "stream",
     "text": [
      "2\n"
     ]
    }
   ],
   "source": [
    "def majorityElement(nums):\n",
    "  element = nums[0]\n",
    "  count = 0\n",
    "  n = len(nums)\n",
    "  for i in range(n):\n",
    "    if count == 0 :\n",
    "      count =1\n",
    "      element = nums[i]\n",
    "    elif nums[i] == element:\n",
    "      count+=1\n",
    "    else:\n",
    "      count-=1\n",
    "      \n",
    "  count1 = 0\n",
    "  for i in range(n):\n",
    "    if nums[i] == element:\n",
    "      count1+=1\n",
    "      \n",
    "  if count1 > n//2:\n",
    "    return element\n",
    "\n",
    "nums = [2,2,1,1,1,2,2]\n",
    "output = majorityElement(nums)\n",
    "print(output)  \n",
    "  "
   ]
  },
  {
   "cell_type": "code",
   "execution_count": null,
   "metadata": {},
   "outputs": [
    {
     "name": "stdout",
     "output_type": "stream",
     "text": [
      "2\n"
     ]
    }
   ],
   "source": [
    "# TC - O(N)\n",
    "# SC - O(1)\n",
    "def majorityElement(nums):\n",
    "    element = None\n",
    "    count = 0\n",
    "    \n",
    "    for num in nums:\n",
    "        if count == 0:\n",
    "            element = num\n",
    "        count += 1 if num == element else -1\n",
    "    \n",
    "    if nums.count(element) > len(nums) // 2:\n",
    "        return element\n",
    "    return None  \n",
    "\n",
    "nums = [2, 2, 1, 1, 1, 2, 2]\n",
    "output = majorityElement(nums)\n",
    "print(output)  # Output: 2\n"
   ]
  },
  {
   "cell_type": "code",
   "execution_count": null,
   "metadata": {},
   "outputs": [],
   "source": []
  }
 ],
 "metadata": {
  "kernelspec": {
   "display_name": "Python 3",
   "language": "python",
   "name": "python3"
  },
  "language_info": {
   "codemirror_mode": {
    "name": "ipython",
    "version": 3
   },
   "file_extension": ".py",
   "mimetype": "text/x-python",
   "name": "python",
   "nbconvert_exporter": "python",
   "pygments_lexer": "ipython3",
   "version": "3.12.0"
  }
 },
 "nbformat": 4,
 "nbformat_minor": 2
}
