{
 "cells": [
  {
   "cell_type": "markdown",
   "id": "8424d5e7",
   "metadata": {},
   "source": [
    "## Number of islands"
   ]
  },
  {
   "cell_type": "code",
   "execution_count": null,
   "id": "e9f5277d",
   "metadata": {},
   "outputs": [],
   "source": [
    "from collections import deque\n",
    "\n",
    "\n",
    "def connectedCompoenents(matrix):\n",
    "  if not matrix or not matrix[0]:\n",
    "        return 0\n",
    "\n",
    "  rows, cols = len(matrix), len(matrix[0])\n",
    "  visited = [[False]*cols for _ in range(rows)]\n",
    "  directions = [(0,1), (1,0), (0,-1), (-1,0)]\n",
    "  \n",
    "  \n",
    "  def BFS(start_row, start_col):\n",
    "    queue = deque()\n",
    "    queue.append((start_row, start_col))\n",
    "    visited[start_row][start_col] = True\n",
    "    \n",
    "    while queue:\n",
    "      r, c = queue.popleft()\n",
    "      for dr, dc in directions:\n",
    "        nr, nc = r + dr, c + dc\n",
    "        if 0 <= nr < rows and 0 <= nc < cols:\n",
    "          if matrix[nr][nc] == 1 and not visited[nr][nc]:\n",
    "            visited[nr][nc] = True\n",
    "            queue.append((nr, nc))\n",
    "\n",
    "  count = 0\n",
    "  for r in range(rows):\n",
    "    for c in range(cols):\n",
    "      if matrix[r][c] == 1 and not visited[r][c]:\n",
    "        BFS(r, c)\n",
    "        count += 1\n",
    "  return count"
   ]
  },
  {
   "cell_type": "code",
   "execution_count": 3,
   "id": "4e925c8b",
   "metadata": {},
   "outputs": [
    {
     "name": "stdout",
     "output_type": "stream",
     "text": [
      "2\n"
     ]
    }
   ],
   "source": [
    "from collections import deque\n",
    "\n",
    "class Solution:\n",
    "  def bfs(self, row, col, visited, grid):\n",
    "    visited[row][col] = 1\n",
    "    queue = deque()\n",
    "    queue.append((row, col))\n",
    "    n = len(grid)\n",
    "    m = len(grid[0])\n",
    "\n",
    "      # Traverse 8 directions\n",
    "    for dr in [-1, 0, 1]:\n",
    "      for dc in [-1, 0, 1]:\n",
    "        if dr == 0 and dc == 0:\n",
    "          continue\n",
    "        queue.append((row, col))\n",
    "        while queue:\n",
    "          r, c = queue.popleft()\n",
    "          for dr in [-1, 0, 1]:\n",
    "            for dc in [-1, 0, 1]:\n",
    "              nr = r + dr\n",
    "              nc = c + dc\n",
    "              if (0 <= nr < n) and (0 <= nc < m) and grid[nr][nc] == '1' and not visited[nr][nc]:\n",
    "                visited[nr][nc] = 1\n",
    "                queue.append((nr, nc))\n",
    "\n",
    "  def numIslands(self, grid):\n",
    "      if not grid:\n",
    "          return 0\n",
    "\n",
    "      n = len(grid)\n",
    "      m = len(grid[0])\n",
    "      visited = [[0] * m for _ in range(n)]\n",
    "      count = 0\n",
    "\n",
    "      for row in range(n):\n",
    "          for col in range(m):\n",
    "              if grid[row][col] == '1' and not visited[row][col]:\n",
    "                  self.bfs(row, col, visited, grid)\n",
    "                  count += 1\n",
    "      return count\n",
    "\n",
    "\n",
    "# Example usage\n",
    "grid = [\n",
    "    ['0', '1', '1', '1', '0', '0', '0'],\n",
    "    ['0', '0', '1', '1', '0', '1', '0']\n",
    "]\n",
    "\n",
    "sol = Solution()\n",
    "print(sol.numIslands(grid))\n"
   ]
  },
  {
   "cell_type": "code",
   "execution_count": null,
   "id": "1d6bfe46",
   "metadata": {},
   "outputs": [],
   "source": []
  }
 ],
 "metadata": {
  "kernelspec": {
   "display_name": "Python 3",
   "language": "python",
   "name": "python3"
  },
  "language_info": {
   "codemirror_mode": {
    "name": "ipython",
    "version": 3
   },
   "file_extension": ".py",
   "mimetype": "text/x-python",
   "name": "python",
   "nbconvert_exporter": "python",
   "pygments_lexer": "ipython3",
   "version": "3.12.0"
  }
 },
 "nbformat": 4,
 "nbformat_minor": 5
}
