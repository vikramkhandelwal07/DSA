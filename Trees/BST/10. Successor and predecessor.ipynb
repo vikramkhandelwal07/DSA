{
 "cells": [
  {
   "cell_type": "code",
   "execution_count": 1,
   "id": "fecfdd89",
   "metadata": {},
   "outputs": [],
   "source": [
    "def inorderSucessor(root,p):\n",
    "    if not root:\n",
    "        return None\n",
    "    succesor = None\n",
    "    while root:\n",
    "        if p.val >= root.val:\n",
    "            root = root.right\n",
    "        else:\n",
    "            sucesssor = root\n",
    "            root = root.left\n",
    "            \n",
    "    return sucesssor\n",
    "        "
   ]
  },
  {
   "cell_type": "code",
   "execution_count": 2,
   "id": "cbf7abd2",
   "metadata": {},
   "outputs": [],
   "source": [
    "\n",
    "def inorderPredecessor(root, p):\n",
    "    predecessor = None\n",
    "    while root:\n",
    "        if root.val >= p.val:\n",
    "            root = root.left\n",
    "        else:\n",
    "           predecessor = root\n",
    "           root = root.right\n",
    "    \n",
    "    return predecessor"
   ]
  },
  {
   "cell_type": "code",
   "execution_count": null,
   "id": "41f06e52",
   "metadata": {},
   "outputs": [],
   "source": []
  }
 ],
 "metadata": {
  "kernelspec": {
   "display_name": "Python 3",
   "language": "python",
   "name": "python3"
  },
  "language_info": {
   "codemirror_mode": {
    "name": "ipython",
    "version": 3
   },
   "file_extension": ".py",
   "mimetype": "text/x-python",
   "name": "python",
   "nbconvert_exporter": "python",
   "pygments_lexer": "ipython3",
   "version": "3.12.0"
  }
 },
 "nbformat": 4,
 "nbformat_minor": 5
}
