{
 "cells": [
  {
   "cell_type": "code",
   "execution_count": 1,
   "id": "cde7a912",
   "metadata": {},
   "outputs": [],
   "source": [
    "def rootToNode(root,x):\n",
    "    def helper(root,ds,x):\n",
    "        if not root:\n",
    "            return False\n",
    "        ds.append(root.value)\n",
    "        if root.value == x:\n",
    "            return True\n",
    "\n",
    "        if rootToNode(root.left,ds,x) or rootToNode(root.right,ds,x) :\n",
    "            return True\n",
    "    ds= []\n",
    "    helper(root,ds,x)\n",
    "\n",
    "    return ds        "
   ]
  },
  {
   "cell_type": "code",
   "execution_count": null,
   "id": "dbbdb0d1",
   "metadata": {},
   "outputs": [],
   "source": []
  }
 ],
 "metadata": {
  "kernelspec": {
   "display_name": "Python 3",
   "language": "python",
   "name": "python3"
  },
  "language_info": {
   "codemirror_mode": {
    "name": "ipython",
    "version": 3
   },
   "file_extension": ".py",
   "mimetype": "text/x-python",
   "name": "python",
   "nbconvert_exporter": "python",
   "pygments_lexer": "ipython3",
   "version": "3.12.0"
  }
 },
 "nbformat": 4,
 "nbformat_minor": 5
}
