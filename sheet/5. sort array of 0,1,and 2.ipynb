{
 "cells": [
  {
   "cell_type": "code",
   "execution_count": null,
   "id": "07f5c3a1",
   "metadata": {},
   "outputs": [],
   "source": [
    "\n",
    "def sortColours(nums):\n",
    "  n = len(nums)\n",
    "  low = 0\n",
    "  mid = 0\n",
    "  high = n - 1\n",
    "\n",
    "  while mid <= high:\n",
    "    if nums[mid] == 0:\n",
    "      nums[low], nums[mid] = nums[mid] , nums[low]\n",
    "      low+=1\n",
    "      mid+=1\n",
    "    elif nums[mid] == 1:\n",
    "      mid+=1\n",
    "    else:\n",
    "      nums[mid], nums[high] = nums[high], nums[mid]\n",
    "      high -= 1\n",
    "  return  nums"
   ]
  },
  {
   "cell_type": "code",
   "execution_count": 2,
   "id": "1bb18d24",
   "metadata": {},
   "outputs": [
    {
     "name": "stdout",
     "output_type": "stream",
     "text": [
      "[0, 0, 1, 1, 2, 2]\n"
     ]
    }
   ],
   "source": [
    "nums = [2,0,2,1,1,0]\n",
    "print(sortColours(nums))"
   ]
  },
  {
   "cell_type": "code",
   "execution_count": null,
   "id": "49939b36",
   "metadata": {},
   "outputs": [],
   "source": []
  }
 ],
 "metadata": {
  "kernelspec": {
   "display_name": "Python 3",
   "language": "python",
   "name": "python3"
  },
  "language_info": {
   "codemirror_mode": {
    "name": "ipython",
    "version": 3
   },
   "file_extension": ".py",
   "mimetype": "text/x-python",
   "name": "python",
   "nbconvert_exporter": "python",
   "pygments_lexer": "ipython3",
   "version": "3.12.0"
  }
 },
 "nbformat": 4,
 "nbformat_minor": 5
}
