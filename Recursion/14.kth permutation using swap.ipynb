{
 "cells": [
  {
   "cell_type": "code",
   "execution_count": 1,
   "metadata": {},
   "outputs": [],
   "source": [
    "def getPermutations(nums):\n",
    "  result = []\n",
    "  \n",
    "  def backTrack(index):\n",
    "    if index == len(nums):\n",
    "      result.append(nums[:])\n",
    "      return\n",
    "    \n",
    "    for i in range(index, len(nums)):\n",
    "      nums[index], nums[i] = nums[i], nums[index]\n",
    "      backTrack(index+1)\n",
    "      nums[index], nums[i] = nums[i] , nums[index]\n",
    "      \n",
    "  backTrack(0)\n",
    "  return result\n",
    "\n",
    "\n",
    "  "
   ]
  },
  {
   "cell_type": "code",
   "execution_count": 6,
   "metadata": {},
   "outputs": [
    {
     "data": {
      "text/plain": [
       "[[1, 1, 2], [1, 2, 1], [1, 1, 2], [1, 2, 1], [2, 1, 1], [2, 1, 1]]"
      ]
     },
     "execution_count": 6,
     "metadata": {},
     "output_type": "execute_result"
    }
   ],
   "source": [
    "nums = [1,1,2]\n",
    "getPermutations(nums)"
   ]
  }
 ],
 "metadata": {
  "kernelspec": {
   "display_name": "Python 3",
   "language": "python",
   "name": "python3"
  },
  "language_info": {
   "codemirror_mode": {
    "name": "ipython",
    "version": 3
   },
   "file_extension": ".py",
   "mimetype": "text/x-python",
   "name": "python",
   "nbconvert_exporter": "python",
   "pygments_lexer": "ipython3",
   "version": "3.12.0"
  }
 },
 "nbformat": 4,
 "nbformat_minor": 2
}
