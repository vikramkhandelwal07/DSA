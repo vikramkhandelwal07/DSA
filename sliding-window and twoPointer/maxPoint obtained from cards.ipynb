{
 "cells": [
  {
   "cell_type": "markdown",
   "metadata": {},
   "source": [
    "# 1423. Maximum Points You Can Obtain from Cards\n",
    "\n",
    "**Status:** Solved  \n",
    "**Difficulty:** Medium  \n",
    "**Topics:** Array, Sliding Window  \n",
    "\n",
    "---\n",
    "\n",
    "There are several cards arranged in a row, and each card has an associated number of points. The points are given in the integer array `cardPoints`.\n",
    "\n",
    "In one step, you can take one card from the beginning or from the end of the row. You have to take exactly `k` cards.\n",
    "\n",
    "Your score is the sum of the points of the cards you have taken.\n",
    "\n",
    "Given the integer array `cardPoints` and the integer `k`, return the maximum score you can obtain.\n",
    "\n",
    "---\n",
    "\n",
    "## Examples\n",
    "\n",
    "### Example 1\n",
    "**Input:**  \n",
    "`cardPoints = [1,2,3,4,5,6,1]`, `k = 3`  \n",
    "**Output:**  \n",
    "`12`  \n",
    "**Explanation:**  \n",
    "After the first step, your score will always be 1. However, choosing the rightmost card first will maximize your total score. The optimal strategy is to take the three cards on the right, giving a final score of `1 + 6 + 5 = 12`.\n",
    "\n",
    "---\n",
    "\n",
    "### Example 2\n",
    "**Input:**  \n",
    "`cardPoints = [2,2,2]`, `k = 2`  \n",
    "**Output:**  \n",
    "`4`  \n",
    "**Explanation:**  \n",
    "Regardless of which two cards you take, your score will always be `4`.\n",
    "\n",
    "---\n",
    "\n",
    "### Example 3\n",
    "**Input:**  \n",
    "`cardPoints = [9,7,7,9,7,7,9]`, `k = 7`  \n",
    "**Output:**  \n",
    "`55`  \n",
    "**Explanation:**  \n",
    "You have to take all the cards. Your score is the sum of points of all cards.\n"
   ]
  },
  {
   "cell_type": "code",
   "execution_count": 6,
   "metadata": {},
   "outputs": [
    {
     "data": {
      "text/plain": [
       "12"
      ]
     },
     "execution_count": 6,
     "metadata": {},
     "output_type": "execute_result"
    }
   ],
   "source": [
    "def maxpoints(nums,k):\n",
    "  lsum = 0\n",
    "  rsum = 0 \n",
    "  n = len(nums)\n",
    "  if k > n:\n",
    "    return sum(nums)\n",
    "  \n",
    "  for i in range(k):\n",
    "    lsum +=nums[i]\n",
    "  maxsum = lsum\n",
    "\n",
    "  rightidx = n-1\n",
    "  for i in range(k-1,-1,-1):\n",
    "    lsum -=nums[i]\n",
    "    rsum +=nums[rightidx]\n",
    "    rightidx -=1\n",
    "    maxsum = max(lsum+rsum , maxsum)\n",
    "    \n",
    "  return maxsum\n",
    "\n",
    "nums = [1,2,3,4,5,6,1]\n",
    "k = 3\n",
    "maxpoints(nums,k)"
   ]
  },
  {
   "cell_type": "code",
   "execution_count": null,
   "metadata": {},
   "outputs": [],
   "source": []
  }
 ],
 "metadata": {
  "kernelspec": {
   "display_name": "Python 3",
   "language": "python",
   "name": "python3"
  },
  "language_info": {
   "codemirror_mode": {
    "name": "ipython",
    "version": 3
   },
   "file_extension": ".py",
   "mimetype": "text/x-python",
   "name": "python",
   "nbconvert_exporter": "python",
   "pygments_lexer": "ipython3",
   "version": "3.12.0"
  }
 },
 "nbformat": 4,
 "nbformat_minor": 2
}
