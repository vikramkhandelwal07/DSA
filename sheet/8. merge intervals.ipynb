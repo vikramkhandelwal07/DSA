{
 "cells": [
  {
   "cell_type": "code",
   "execution_count": null,
   "id": "bceec655",
   "metadata": {},
   "outputs": [],
   "source": [
    "def mergeIntervals(intervals):\n",
    "  if not intervals:\n",
    "    return\n",
    "  intervals.sort()\n",
    "  merged = [intervals[0]]\n",
    "  \n",
    "  for current in intervals[1:]:\n",
    "    lastMerged = merged[-1]\n",
    "    if current[0] <= lastMerged[1]:\n",
    "      lastMerged[1] = max(lastMerged[1], current[1])\n",
    "    else:\n",
    "      merged.append(current)\n",
    "        \n",
    "  return merged\n",
    "    "
   ]
  },
  {
   "cell_type": "code",
   "execution_count": 8,
   "id": "92551095",
   "metadata": {},
   "outputs": [
    {
     "name": "stdout",
     "output_type": "stream",
     "text": [
      "[[1, 6], [8, 10], [15, 18]]\n"
     ]
    }
   ],
   "source": [
    "intervals = [[1,3],[2,6],[8,10],[15,18]]\n",
    "print(mergeIntervals(intervals))"
   ]
  },
  {
   "cell_type": "code",
   "execution_count": null,
   "id": "f8dbebf0",
   "metadata": {},
   "outputs": [],
   "source": []
  }
 ],
 "metadata": {
  "kernelspec": {
   "display_name": "Python 3",
   "language": "python",
   "name": "python3"
  },
  "language_info": {
   "codemirror_mode": {
    "name": "ipython",
    "version": 3
   },
   "file_extension": ".py",
   "mimetype": "text/x-python",
   "name": "python",
   "nbconvert_exporter": "python",
   "pygments_lexer": "ipython3",
   "version": "3.12.0"
  }
 },
 "nbformat": 4,
 "nbformat_minor": 5
}
