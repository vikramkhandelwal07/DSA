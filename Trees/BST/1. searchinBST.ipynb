{
 "cells": [
  {
   "cell_type": "code",
   "execution_count": null,
   "id": "984ca3b6",
   "metadata": {},
   "outputs": [],
   "source": [
    "def search(root, key):\n",
    "  if not root:\n",
    "    return False\n",
    "  if root.value == key:\n",
    "    return True\n",
    "  if root.value > key:\n",
    "    return search(root.left,key)\n",
    "  else:\n",
    "    return search(root.right,key)  "
   ]
  }
 ],
 "metadata": {
  "language_info": {
   "name": "python"
  }
 },
 "nbformat": 4,
 "nbformat_minor": 5
}
