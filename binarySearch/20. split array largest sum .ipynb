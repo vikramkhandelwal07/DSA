{
 "cells": [
  {
   "cell_type": "markdown",
   "metadata": {},
   "source": [
    "Given an integer array `nums` and an integer `k`, split `nums` into `k` non-empty subarrays such that the largest sum of any subarray is **minimized**.\n",
    "Return _the minimized largest sum of the split_.\n",
    "A **subarray** is a contiguous part of the array.\n",
    "**Example 1:**\n",
    "\n",
    "**Input:** nums = [7,2,5,10,8], k = 2\n",
    "**Output:** 18\n",
    "**Explanation:** There are four ways to split nums into two subarrays.\n",
    "The best way is to split it into [7,2,5] and [10,8], where the largest sum among the two subarrays is only 18.\n",
    "\n",
    "**Example 2:**\n",
    "\n",
    "**Input:** nums = [1,2,3,4,5], k = 2\n",
    "**Output:** 9\n",
    "**Explanation:** There are four ways to split nums into two subarrays.\n",
    "The best way is to split it into [1,2,3] and [4,5], where the largest sum among the two subarrays is only 9.\n",
    "\n"
   ]
  },
  {
   "cell_type": "code",
   "execution_count": 2,
   "metadata": {},
   "outputs": [],
   "source": [
    "from typing import List\n",
    "\n",
    "class Solution:\n",
    "    def splitArray(self, nums: List[int], k: int) -> int:\n",
    "        def calculateSum(nums, mid):\n",
    "            subArray = 1\n",
    "            numberSum = 0\n",
    "            for num in nums:\n",
    "                if numberSum + num <= mid:\n",
    "                    numberSum += num\n",
    "                else:\n",
    "                    subArray += 1\n",
    "                    numberSum = num\n",
    "            return subArray\n",
    "\n",
    "       \n",
    "        low = max(nums)  \n",
    "        high = sum(nums)  \n",
    "\n",
    "        while low <= high:\n",
    "            mid = (low + high) // 2\n",
    "            if calculateSum(nums, mid) > k:\n",
    "                low = mid + 1\n",
    "            else:\n",
    "                high = mid - 1\n",
    "\n",
    "        return low\n"
   ]
  },
  {
   "cell_type": "code",
   "execution_count": null,
   "metadata": {},
   "outputs": [],
   "source": []
  }
 ],
 "metadata": {
  "kernelspec": {
   "display_name": "Python 3",
   "language": "python",
   "name": "python3"
  },
  "language_info": {
   "codemirror_mode": {
    "name": "ipython",
    "version": 3
   },
   "file_extension": ".py",
   "mimetype": "text/x-python",
   "name": "python",
   "nbconvert_exporter": "python",
   "pygments_lexer": "ipython3",
   "version": "3.12.0"
  }
 },
 "nbformat": 4,
 "nbformat_minor": 2
}
