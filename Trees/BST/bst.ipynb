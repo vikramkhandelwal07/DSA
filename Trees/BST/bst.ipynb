{
 "cells": [
  {
   "cell_type": "markdown",
   "metadata": {},
   "source": [
    "# Binary Search Tree"
   ]
  },
  {
   "cell_type": "code",
   "execution_count": 5,
   "metadata": {},
   "outputs": [],
   "source": [
    "class BST:\n",
    "  def __init__(self,value):\n",
    "    self.value = value\n",
    "    self.left = None\n",
    "    self.right = None\n",
    "  \n",
    "  def insert(self, value):\n",
    "    if value < self.value:\n",
    "      if self.left is None:\n",
    "        self.left = BST(value)\n",
    "      else:\n",
    "        self.left.insert(value)\n",
    "    else:\n",
    "      if self.right is None:\n",
    "        self.right = BST(value)\n",
    "      else:\n",
    "        self.right.insert(value)\n",
    "        \n",
    "  def inorder(self):\n",
    "    if self.left:\n",
    "      self.left.inorder()\n",
    "    print(self.value, end=\" \")\n",
    "    if self.right:\n",
    "      self.right.inorder()\n",
    "\n",
    "def print_tree(root):\n",
    "    if not root:\n",
    "        return\n",
    "    print_tree(root.left)\n",
    "    print(root.value, end=\" \")\n",
    "    print_tree(root.right)\n"
   ]
  },
  {
   "cell_type": "code",
   "execution_count": 6,
   "metadata": {},
   "outputs": [
    {
     "name": "stdout",
     "output_type": "stream",
     "text": [
      "2 5 7 10 12 15 18 "
     ]
    }
   ],
   "source": [
    "def BSTfromArray(arr):\n",
    "  if not arr:\n",
    "    return None\n",
    "  root = BST(arr[0])\n",
    "  for val in arr[1:]:\n",
    "    root.insert(val)\n",
    "  return root\n",
    "\n",
    "arr = [10, 5, 15, 2, 7, 12, 18]\n",
    "bst_root = BSTfromArray(arr)\n",
    "\n",
    "# Inorder traversal (should print sorted order)\n",
    "bst_root.inorder()"
   ]
  },
  {
   "cell_type": "markdown",
   "metadata": {},
   "source": [
    "## Search in BST \n",
    "- TC - `O(H)`"
   ]
  },
  {
   "cell_type": "code",
   "execution_count": 7,
   "metadata": {},
   "outputs": [
    {
     "data": {
      "text/plain": [
       "False"
      ]
     },
     "execution_count": 7,
     "metadata": {},
     "output_type": "execute_result"
    }
   ],
   "source": [
    "def search(root, key):\n",
    "  if not root:\n",
    "    return False\n",
    "  if root.value == key:\n",
    "    return True\n",
    "  if root.value > key:\n",
    "    return search(root.left,key)\n",
    "  else:\n",
    "    return search(root.right,key)\n",
    "  \n",
    "search(bst_root,11)  "
   ]
  },
  {
   "cell_type": "markdown",
   "metadata": {},
   "source": [
    "## Ceil in BST"
   ]
  },
  {
   "cell_type": "code",
   "execution_count": null,
   "metadata": {},
   "outputs": [],
   "source": [
    "def ceilBST(root, key):\n",
    "    ceil = -1\n",
    "    while root:\n",
    "        if root.value == key:\n",
    "            return root.value\n",
    "        if key > root.value:\n",
    "            root = root.right\n",
    "        else:\n",
    "            ceil = root.value\n",
    "            root = root.left\n",
    "    return ceil\n"
   ]
  },
  {
   "cell_type": "code",
   "execution_count": null,
   "metadata": {},
   "outputs": [],
   "source": [
    "def floorBST(root,key):\n",
    "    floor = -1\n",
    "    while root:\n",
    "        if root.val == key:\n",
    "            return root.value\n",
    "    \n",
    "        if key > root.value:\n",
    "            floor = root.value\n",
    "            root = root.right\n",
    "        else:\n",
    "            root = root.left\n",
    "            \n",
    "    return floor\n"
   ]
  },
  {
   "cell_type": "markdown",
   "metadata": {},
   "source": [
    "## Delete a Node\n",
    "\n",
    "- Three Cases\n",
    "1. No child leaf node - straight away return null\n",
    "2. one child - connect with child node\n",
    "3. two Children - find inorder sucessor i.e left most node of the right subtree"
   ]
  },
  {
   "cell_type": "code",
   "execution_count": 8,
   "metadata": {},
   "outputs": [],
   "source": [
    "def findInorderSuccessor(root):\n",
    "    while root.left:\n",
    "        root = root.left\n",
    "    return root\n",
    "\n",
    "def delete(root, val):\n",
    "    if root is None:\n",
    "        return root\n",
    "\n",
    "    if root.value < val:\n",
    "        root.right = delete(root.right, val)\n",
    "    elif root.value > val:\n",
    "        root.left = delete(root.left, val)\n",
    "    else:\n",
    "        # Case 1: Leaf Node\n",
    "        if root.left is None and root.right is None:\n",
    "            return None\n",
    "        # Case 2: One Child\n",
    "        if root.left is None:\n",
    "            return root.right\n",
    "        if root.right is None:\n",
    "            return root.left\n",
    "        # Case 3: Two Children\n",
    "        inorder_successor = findInorderSuccessor(root.right)\n",
    "        root.value = inorder_successor.value\n",
    "        root.right = delete(root.right, inorder_successor.value)\n",
    "\n",
    "    return root"
   ]
  },
  {
   "cell_type": "code",
   "execution_count": 9,
   "metadata": {},
   "outputs": [
    {
     "name": "stdout",
     "output_type": "stream",
     "text": [
      "Inorder before deletion:\n",
      "2 5 7 10 12 15 18 \n",
      "Deleting 10...\n",
      "Inorder after deletion:\n",
      "2 5 7 12 15 18 "
     ]
    }
   ],
   "source": [
    "arr = [10, 5, 15, 2, 7, 12, 18]\n",
    "bst_root = BST(arr[0])\n",
    "for num in arr[1:]:\n",
    "    bst_root.insert(num)\n",
    "\n",
    "print(\"Inorder before deletion:\")\n",
    "bst_root.inorder()\n",
    "print(\"\\nDeleting 10...\")\n",
    "bst_root = delete(bst_root, 10)\n",
    "print(\"Inorder after deletion:\")\n",
    "bst_root.inorder()"
   ]
  },
  {
   "cell_type": "markdown",
   "metadata": {},
   "source": [
    "## Print in Range"
   ]
  },
  {
   "cell_type": "code",
   "execution_count": 10,
   "metadata": {},
   "outputs": [],
   "source": [
    "def printInRange(root, k1, k2):\n",
    "  if not root:\n",
    "    return\n",
    "  \n",
    "  # If root value is greater than k2, search in left subtree\n",
    "  if root.value > k2:\n",
    "    printInRange(root.left, k1, k2)\n",
    "  \n",
    "  # If root value is within the range, print and check both subtrees\n",
    "  elif k1 <= root.value <= k2:\n",
    "    printInRange(root.left, k1, k2)\n",
    "    print(root.value, end=\" \")\n",
    "    printInRange(root.right, k1, k2)\n",
    "  \n",
    "  # If root value is smaller than k1, search in right subtree\n",
    "  else:\n",
    "    printInRange(root.right, k1, k2)\n"
   ]
  },
  {
   "cell_type": "code",
   "execution_count": 11,
   "metadata": {},
   "outputs": [
    {
     "name": "stdout",
     "output_type": "stream",
     "text": [
      "\n",
      "Values in range [5, 15]:\n",
      "5 7 10 12 15 "
     ]
    }
   ],
   "source": [
    "# Creating BST\n",
    "arr = [10, 5, 15, 2, 7, 12, 18]\n",
    "bst_root = BST(arr[0])\n",
    "for num in arr[1:]:\n",
    "    bst_root.insert(num)\n",
    "\n",
    "print(\"\\nValues in range [5, 15]:\")\n",
    "printInRange(bst_root, 5, 15)  # Expected output: 5 7 10 12 15\n"
   ]
  },
  {
   "cell_type": "markdown",
   "metadata": {},
   "source": [
    "## Print Root2leaf"
   ]
  },
  {
   "cell_type": "code",
   "execution_count": 12,
   "metadata": {},
   "outputs": [],
   "source": [
    "def printRoot2Leaf(root, path=[]):\n",
    "  if not root:\n",
    "      return\n",
    "\n",
    "  # Append the current node to the path\n",
    "  path.append(root.value)\n",
    "\n",
    "  # If leaf node, print the path\n",
    "  if not root.left and not root.right:\n",
    "      print(\" -> \".join(map(str, path)))\n",
    "\n",
    "  # Recur for left and right subtrees\n",
    "  printRoot2Leaf(root.left, path[:])  # Pass a copy of the path\n",
    "  printRoot2Leaf(root.right, path[:]) # Pass a copy of the path\n",
    "\n"
   ]
  },
  {
   "cell_type": "code",
   "execution_count": 13,
   "metadata": {},
   "outputs": [
    {
     "name": "stdout",
     "output_type": "stream",
     "text": [
      "10 -> 5 -> 2\n",
      "10 -> 5 -> 7\n",
      "10 -> 15 -> 12\n",
      "10 -> 15 -> 18\n"
     ]
    }
   ],
   "source": [
    "printRoot2Leaf(bst_root)"
   ]
  },
  {
   "cell_type": "markdown",
   "metadata": {},
   "source": [
    "## IsValidBST"
   ]
  },
  {
   "cell_type": "code",
   "execution_count": 14,
   "metadata": {},
   "outputs": [
    {
     "name": "stdout",
     "output_type": "stream",
     "text": [
      "True\n"
     ]
    }
   ],
   "source": [
    "def isValidBST(root, mini=None, maxi=None):\n",
    "    if not root:\n",
    "        return True\n",
    "    if mini is not None and root.value <= mini:\n",
    "        return False\n",
    "    if maxi is not None and root.value >= maxi:\n",
    "        return False\n",
    "    return isValidBST(root.left, mini, root.value) and isValidBST(root.right, root.value, maxi)\n",
    "\n",
    "\n",
    "root = BST(2)\n",
    "root.left = BST(1)\n",
    "root.right = BST(3)\n",
    "\n",
    "print(isValidBST(root))  # Output: True"
   ]
  },
  {
   "cell_type": "markdown",
   "metadata": {},
   "source": [
    "## Mirror a BST\n",
    "- TC - `O(N)`"
   ]
  },
  {
   "cell_type": "code",
   "execution_count": 15,
   "metadata": {},
   "outputs": [],
   "source": [
    "def mirror(root):\n",
    "    if root is None:\n",
    "        return None\n",
    "    root.left, root.right = mirror(root.right), mirror(root.left)\n",
    "    return root\n"
   ]
  },
  {
   "cell_type": "code",
   "execution_count": 16,
   "metadata": {},
   "outputs": [
    {
     "name": "stdout",
     "output_type": "stream",
     "text": [
      "Original Tree (Inorder):\n",
      "4 2 5 1 3 \n",
      "Mirrored Tree (Inorder):\n",
      "3 1 5 2 4 "
     ]
    }
   ],
   "source": [
    "# Example: Creating a Tree\n",
    "root = BST(1)\n",
    "root.left = BST(2)\n",
    "root.right = BST(3)\n",
    "root.left.left = BST(4)\n",
    "root.left.right = BST(5)\n",
    "\n",
    "print(\"Original Tree (Inorder):\")\n",
    "print_tree(root)\n",
    "\n",
    "mirrored_root = mirror(root)\n",
    "\n",
    "print(\"\\nMirrored Tree (Inorder):\")\n",
    "print_tree(mirrored_root)"
   ]
  },
  {
   "cell_type": "markdown",
   "metadata": {},
   "source": [
    "## Sorted Array to balanced BST"
   ]
  },
  {
   "cell_type": "code",
   "execution_count": 17,
   "metadata": {},
   "outputs": [],
   "source": [
    "def sortedArrayToBST(nums):\n",
    "  def create(nums, st, end):\n",
    "    if st > end:\n",
    "        return None\n",
    "    mid = (st + end) // 2\n",
    "    new_node = BST(nums[mid])\n",
    "    new_node.left = create(nums, st, mid - 1)\n",
    "    new_node.right = create(nums, mid + 1, end)\n",
    "    return new_node  # Return the created node\n",
    "\n",
    "  return create(nums, 0, len(nums) - 1)"
   ]
  },
  {
   "cell_type": "code",
   "execution_count": 20,
   "metadata": {},
   "outputs": [
    {
     "name": "stdout",
     "output_type": "stream",
     "text": [
      "Root: 0\n",
      "    L--- -10\n",
      "        R--- -3\n",
      "    R--- 5\n",
      "        R--- 9\n"
     ]
    }
   ],
   "source": [
    "def print_tree(node, level=0, prefix=\"Root: \"):\n",
    "    \"\"\" Helper function to print the binary tree structure \"\"\"\n",
    "    if node is not None:\n",
    "        print(\" \" * (level * 4) + prefix + str(node.value))\n",
    "        print_tree(node.left, level + 1, \"L--- \")\n",
    "        print_tree(node.right, level + 1, \"R--- \")\n",
    "\n",
    "# Example usage\n",
    "nums = [-10, -3, 0, 5, 9]\n",
    "bst_root = sortedArrayToBST(nums)\n",
    "\n",
    "# Print the BST structure\n",
    "print_tree(bst_root)\n"
   ]
  },
  {
   "cell_type": "markdown",
   "metadata": {},
   "source": [
    "## Size of largest BST in BT"
   ]
  },
  {
   "cell_type": "code",
   "execution_count": null,
   "metadata": {},
   "outputs": [],
   "source": [
    "class BSTInfo:\n",
    "  def _init_(self, size, min_val, max_val, is_bst):\n",
    "    self.size = size\n",
    "    self.min_val = min_val\n",
    "    self.max_val = max_val\n",
    "    self.is_bst = is_bst\n",
    "\n",
    "def largestBST(root):\n",
    "  def helper(node):\n",
    "    if not node:\n",
    "      return BSTInfo(0, float('inf'), float('-inf'), True)\n",
    "      \n",
    "    left = helper(node.left)\n",
    "    right = helper(node.right)\n",
    "\n",
    "    # Check if the current subtree is a BST\n",
    "    if left.is_bst and right.is_bst and left.max_val < node.value < right.min_val:\n",
    "      size = left.size + right.size + 1\n",
    "      return BSTInfo(size, min(node.value, left.min_val), max(node.value, right.max_val), True)\n",
    "      \n",
    "      # If not a BST, return the size of the largest BST found in left or right subtree\n",
    "    return BSTInfo(max(left.size, right.size), 0, 0, False)\n",
    "\n",
    "  return helper(root).size"
   ]
  },
  {
   "cell_type": "markdown",
   "metadata": {},
   "source": [
    "## Merge two BST"
   ]
  },
  {
   "cell_type": "code",
   "execution_count": null,
   "metadata": {},
   "outputs": [
    {
     "name": "stdout",
     "output_type": "stream",
     "text": [
      "0 1 2 3 4 5 "
     ]
    }
   ],
   "source": [
    "class TreeNode:\n",
    "  def __init__(self, val=0, left=None, right=None):\n",
    "    self.val = val\n",
    "    self.left = left\n",
    "    self.right = right\n",
    "\n",
    "# Function to perform inorder traversal and store it in an array\n",
    "def inorderTraversal(root, result):\n",
    "  if not root:\n",
    "    return\n",
    "  inorderTraversal(root.left, result)\n",
    "  result.append(root.val)\n",
    "  inorderTraversal(root.right, result)\n",
    "\n",
    "# Function to merge two sorted arrays\n",
    "def mergeSortedArrays(arr1, arr2):\n",
    "    i = j = 0\n",
    "    merged = []\n",
    "    \n",
    "    while i < len(arr1) and j < len(arr2):\n",
    "        if arr1[i] < arr2[j]:\n",
    "            merged.append(arr1[i])\n",
    "            i += 1\n",
    "        else:\n",
    "            merged.append(arr2[j])\n",
    "            j += 1\n",
    "            \n",
    "    while i < len(arr1):\n",
    "        merged.append(arr1[i])\n",
    "        i += 1\n",
    "        \n",
    "    while j < len(arr2):\n",
    "        merged.append(arr2[j])\n",
    "        j += 1\n",
    "    \n",
    "    return merged\n",
    "\n",
    "# Function to construct a BST from a sorted array\n",
    "def sortedArrayToBST(arr, start, end):\n",
    "    if start > end:\n",
    "        return None\n",
    "    \n",
    "    mid = (start + end) // 2\n",
    "    root = TreeNode(arr[mid])\n",
    "    root.left = sortedArrayToBST(arr, start, mid - 1)\n",
    "    root.right = sortedArrayToBST(arr, mid + 1, end)\n",
    "    \n",
    "    return root\n",
    "\n",
    "# Function to merge two BSTs\n",
    "def mergeTwoBSTs(root1, root2):\n",
    "    # Step 1: Get inorder traversal of both BSTs\n",
    "    inorder1, inorder2 = [], []\n",
    "    inorderTraversal(root1, inorder1)\n",
    "    inorderTraversal(root2, inorder2)\n",
    "    \n",
    "    # Step 2: Merge two sorted inorder arrays\n",
    "    mergedArray = mergeSortedArrays(inorder1, inorder2)\n",
    "    \n",
    "    # Step 3: Construct a balanced BST from the merged sorted array\n",
    "    return sortedArrayToBST(mergedArray, 0, len(mergedArray) - 1)\n",
    "\n",
    "# Helper function to print inorder of merged BST\n",
    "def printInorder(root):\n",
    "    if not root:\n",
    "        return\n",
    "    printInorder(root.left)\n",
    "    print(root.val, end=\" \")\n",
    "    printInorder(root.right)\n",
    "\n",
    "# Example Usage\n",
    "root1 = TreeNode(2)\n",
    "root1.left = TreeNode(1)\n",
    "root1.right = TreeNode(4)\n",
    "\n",
    "root2 = TreeNode(3)\n",
    "root2.left = TreeNode(0)\n",
    "root2.right = TreeNode(5)\n",
    "\n",
    "mergedBST = mergeTwoBSTs(root1, root2)\n",
    "printInorder(mergedBST)  # Output: 0 1 2 3 4 5 (Sorted inorder of merged BST)\n"
   ]
  },
  {
   "cell_type": "code",
   "execution_count": null,
   "metadata": {},
   "outputs": [],
   "source": []
  }
 ],
 "metadata": {
  "kernelspec": {
   "display_name": "Python 3",
   "language": "python",
   "name": "python3"
  },
  "language_info": {
   "codemirror_mode": {
    "name": "ipython",
    "version": 3
   },
   "file_extension": ".py",
   "mimetype": "text/x-python",
   "name": "python",
   "nbconvert_exporter": "python",
   "pygments_lexer": "ipython3",
   "version": "3.12.0"
  }
 },
 "nbformat": 4,
 "nbformat_minor": 2
}
