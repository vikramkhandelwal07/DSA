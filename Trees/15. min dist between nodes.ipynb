{
 "cells": [
  {
   "cell_type": "code",
   "execution_count": 3,
   "metadata": {},
   "outputs": [],
   "source": [
    "class TreeNode:\n",
    "    def __init__(self, val=0, left=None, right=None):\n",
    "        self.val = val\n",
    "        self.left = left\n",
    "        self.right = right\n",
    "\n",
    "class Solution:\n",
    "    def lca(self, root, n1, n2):\n",
    "        \"\"\"Finds the Lowest Common Ancestor (LCA) of two nodes.\"\"\"\n",
    "        if not root or root == n1 or root == n2:\n",
    "            return root\n",
    "        \n",
    "        left = self.lca(root.left, n1, n2)\n",
    "        right = self.lca(root.right, n1, n2)\n",
    "\n",
    "        if left and right:\n",
    "            return root  \n",
    "        \n",
    "        return left if left else right  \n",
    "\n",
    "    def lcaDist(self, root, n, dist=0):\n",
    "        \"\"\"Finds the distance from LCA to the given node.\"\"\"\n",
    "        if not root:\n",
    "            return -1  \n",
    "        \n",
    "        if root == n:\n",
    "            return dist  \n",
    "        \n",
    "        left_dist = self.lcaDist(root.left, n, dist + 1)\n",
    "        right_dist = self.lcaDist(root.right, n, dist + 1)\n",
    "\n",
    "        return left_dist if left_dist != -1 else right_dist  \n",
    "\n",
    "    def minDist(self, root, n1, n2):\n",
    "        \"\"\"Finds the minimum distance between two nodes in the tree.\"\"\"\n",
    "        if not root:\n",
    "            return -1\n",
    "        \n",
    "        lca = self.lca(root, n1, n2)  \n",
    "        return self.lcaDist(lca, n1) + self.lcaDist(lca, n2) \n"
   ]
  },
  {
   "cell_type": "code",
   "execution_count": 4,
   "metadata": {},
   "outputs": [
    {
     "name": "stdout",
     "output_type": "stream",
     "text": [
      "2\n",
      "4\n",
      "3\n"
     ]
    }
   ],
   "source": [
    "# Constructing the tree\n",
    "#         1\n",
    "#        / \\\n",
    "#       2   3\n",
    "#      / \\   \\\n",
    "#     4   5   6\n",
    "root = TreeNode(1)\n",
    "root.left = TreeNode(2)\n",
    "root.right = TreeNode(3)\n",
    "root.left.left = TreeNode(4)\n",
    "root.left.right = TreeNode(5)\n",
    "root.right.right = TreeNode(6)\n",
    "\n",
    "sol = Solution()\n",
    "\n",
    "print(sol.minDist(root, root.left.left, root.left.right))  # Output: 2 (Distance between 4 and 5)\n",
    "print(sol.minDist(root, root.left.left, root.right.right))  # Output: 4 (Distance between 4 and 6)\n",
    "print(sol.minDist(root, root.left, root.right.right))  # Output: 3 (Distance between 2 and 6)\n"
   ]
  },
  {
   "cell_type": "code",
   "execution_count": null,
   "metadata": {},
   "outputs": [],
   "source": []
  }
 ],
 "metadata": {
  "kernelspec": {
   "display_name": "Python 3",
   "language": "python",
   "name": "python3"
  },
  "language_info": {
   "codemirror_mode": {
    "name": "ipython",
    "version": 3
   },
   "file_extension": ".py",
   "mimetype": "text/x-python",
   "name": "python",
   "nbconvert_exporter": "python",
   "pygments_lexer": "ipython3",
   "version": "3.12.0"
  }
 },
 "nbformat": 4,
 "nbformat_minor": 2
}
