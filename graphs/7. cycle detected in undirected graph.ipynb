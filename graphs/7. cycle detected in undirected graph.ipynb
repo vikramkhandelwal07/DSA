{
 "cells": [
  {
   "cell_type": "code",
   "execution_count": 5,
   "id": "87a2c7f2",
   "metadata": {},
   "outputs": [
    {
     "name": "stdout",
     "output_type": "stream",
     "text": [
      "True\n"
     ]
    }
   ],
   "source": [
    "from collections import deque\n",
    "\n",
    "def matrixToAdjList(graph):\n",
    "    n = len(graph)\n",
    "    adj  = {i:[] for i in range(n)}\n",
    "    for i in range(n):\n",
    "        for j in range(i,n):\n",
    "            if graph[i][j] == 1 and i!=j:\n",
    "                    adj[i].append(j)\n",
    "    return adj\n",
    "\n",
    "\n",
    "def isCycle(graph):\n",
    "    n = len(graph)\n",
    "    adj = matrixToAdjList(graph)\n",
    "    visited = [False]*n\n",
    "   \n",
    "    for start in range(n):\n",
    "        if not visited[start]:\n",
    "            queue = deque([(start,-1)])\n",
    "            visited[start] = True\n",
    "            \n",
    "            while queue:\n",
    "                node , parent = queue.popleft()\n",
    "                for neighbour in adj[node]:\n",
    "                    if not visited[neighbour]:\n",
    "                        visited[neighbour] = True\n",
    "                        queue.append((neighbour,node))\n",
    "                    elif neighbour != parent:\n",
    "                        return True\n",
    "                \n",
    "    return False                    \n",
    "matrix = [\n",
    "    [0, 1, 1],\n",
    "    [1, 0, 1],\n",
    "    [1, 1, 0]\n",
    "]\n",
    "\n",
    "print(isCycle(matrix))            \n",
    "\n",
    "    "
   ]
  },
  {
   "cell_type": "code",
   "execution_count": null,
   "id": "3139b93f",
   "metadata": {},
   "outputs": [],
   "source": []
  }
 ],
 "metadata": {
  "kernelspec": {
   "display_name": "Python 3",
   "language": "python",
   "name": "python3"
  },
  "language_info": {
   "codemirror_mode": {
    "name": "ipython",
    "version": 3
   },
   "file_extension": ".py",
   "mimetype": "text/x-python",
   "name": "python",
   "nbconvert_exporter": "python",
   "pygments_lexer": "ipython3",
   "version": "3.12.0"
  }
 },
 "nbformat": 4,
 "nbformat_minor": 5
}
