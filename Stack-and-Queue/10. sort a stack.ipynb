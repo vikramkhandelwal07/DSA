{
 "cells": [
  {
   "cell_type": "markdown",
   "metadata": {},
   "source": [
    "# Idea:\n",
    "Recursively pop elements from the stack: First, we pop all the elements from the stack and store them temporarily in a recursive function call. We process one element at a time and push it back into the stack in sorted order.\n",
    "\n",
    "Insert the elements in sorted order: After popping all elements from the stack, we start inserting them back into the stack in a way that maintains the sorted order. We do this by comparing the element to be inserted with the top element of the stack and placing it at the correct position.\n",
    "\n",
    "### Base Case:\n",
    "If the stack is empty (i.e., `is_empty(S)`), stop the recursion.\n",
    "\n",
    "## Steps:\n",
    "1. **Base Case**: If the stack is empty, return.\n",
    "2. **Recursive Case**: Pop an element from the stack.\n",
    "3. **Insert the element back** into the sorted stack.\n",
    "4. **Recursively sort** the rest of the stack.\n",
    "5. **Insert in sorted order**: To insert an element back into the sorted stack, compare it with the top element of the stack. If it's larger, keep popping until you find the correct position, then push it back.\n"
   ]
  },
  {
   "cell_type": "code",
   "execution_count": 1,
   "metadata": {},
   "outputs": [
    {
     "name": "stdout",
     "output_type": "stream",
     "text": [
      "Original Stack: [3, 1, 4, 1, 5, 9, 2, 6, 5, 3, 5]\n",
      "Sorted Stack (Descending Order): [1, 1, 2, 3, 3, 4, 5, 5, 5, 6, 9]\n"
     ]
    }
   ],
   "source": [
    "def is_empty(stack):\n",
    "    # Returns True if stack is empty\n",
    "    return len(stack) == 0\n",
    "\n",
    "def push(stack, value):\n",
    "    # Pushes a value onto the stack\n",
    "    stack.append(value)\n",
    "\n",
    "def pop(stack):\n",
    "    # Pops the top value from the stack and returns it\n",
    "    if not is_empty(stack):\n",
    "        return stack.pop()\n",
    "    return None\n",
    "\n",
    "def top(stack):\n",
    "    # Returns the top value without removing it from the stack\n",
    "    if not is_empty(stack):\n",
    "        return stack[-1]\n",
    "    return None\n",
    "\n",
    "def insert_sorted(stack, element):\n",
    "    \"\"\"Helper function to insert an element into a sorted stack\"\"\"\n",
    "    if is_empty(stack) or element > top(stack):\n",
    "        push(stack, element)\n",
    "        return\n",
    "    \n",
    "    # Remove the top element, recursively call to insert the element\n",
    "    temp = pop(stack)\n",
    "    insert_sorted(stack, element)\n",
    "    \n",
    "    # Push the popped element back\n",
    "    push(stack, temp)\n",
    "\n",
    "def sort_stack(stack):\n",
    "    \"\"\"Sorts the stack in descending order using recursion\"\"\"\n",
    "    if not is_empty(stack):\n",
    "        # Pop the top element\n",
    "        temp = pop(stack)\n",
    "        \n",
    "        # Recursively sort the remaining stack\n",
    "        sort_stack(stack)\n",
    "        \n",
    "        # Insert the popped element in the sorted stack\n",
    "        insert_sorted(stack, temp)\n",
    "\n",
    "# Example usage\n",
    "stack = [3, 1, 4, 1, 5, 9, 2, 6, 5, 3, 5]\n",
    "print(\"Original Stack:\", stack)\n",
    "sort_stack(stack)\n",
    "print(\"Sorted Stack (Descending Order):\", stack)\n"
   ]
  },
  {
   "cell_type": "code",
   "execution_count": null,
   "metadata": {},
   "outputs": [],
   "source": [
    "\n"
   ]
  }
 ],
 "metadata": {
  "kernelspec": {
   "display_name": "Python 3",
   "language": "python",
   "name": "python3"
  },
  "language_info": {
   "codemirror_mode": {
    "name": "ipython",
    "version": 3
   },
   "file_extension": ".py",
   "mimetype": "text/x-python",
   "name": "python",
   "nbconvert_exporter": "python",
   "pygments_lexer": "ipython3",
   "version": "3.12.0"
  }
 },
 "nbformat": 4,
 "nbformat_minor": 2
}
