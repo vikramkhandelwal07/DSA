{
 "cells": [
  {
   "cell_type": "code",
   "execution_count": 4,
   "metadata": {},
   "outputs": [
    {
     "name": "stdout",
     "output_type": "stream",
     "text": [
      "[1, 2, 3, 6, 9, 8, 7, 4]\n"
     ]
    }
   ],
   "source": [
    "\n",
    "def spiralOrder( matrix):\n",
    "  n = len(matrix)\n",
    "  m = len(matrix[0])\n",
    "  left, right, top, bottom = 0, m - 1, 0, n - 1\n",
    "  answer = []\n",
    "  \n",
    "  while top <= bottom and left <= right:\n",
    "    \n",
    "    \n",
    "    # Traverse from left to right along the top\n",
    "    for i in range(left, right + 1):\n",
    "      answer.append(matrix[top][i])\n",
    "    top += 1\n",
    "    \n",
    "    \n",
    "    # Traverse from top to bottom along the right\n",
    "    for i in range(top, bottom + 1):\n",
    "      answer.append(matrix[i][right])\n",
    "    right -= 1\n",
    "    \n",
    "    \n",
    "    # Traverse from right to left along the bottom\n",
    "    if top <= bottom:\n",
    "      for i in range(right, left - 1, -1):\n",
    "        answer.append(matrix[bottom][i])\n",
    "      bottom -= 1\n",
    "      \n",
    "      \n",
    "    # Traverse from bottom to top along the left\n",
    "    if left <= right:\n",
    "      for i in range(bottom, top - 1, -1):\n",
    "        answer.append(matrix[i][left])\n",
    "      left += 1\n",
    "      \n",
    "    return answer\n",
    "  \n",
    "matrix =[[1,2,3],[4,5,6],[7,8,9]]\n",
    "o = spiralOrder(matrix)\n",
    "print(o)\n"
   ]
  },
  {
   "cell_type": "code",
   "execution_count": null,
   "metadata": {},
   "outputs": [],
   "source": []
  }
 ],
 "metadata": {
  "kernelspec": {
   "display_name": "Python 3",
   "language": "python",
   "name": "python3"
  },
  "language_info": {
   "codemirror_mode": {
    "name": "ipython",
    "version": 3
   },
   "file_extension": ".py",
   "mimetype": "text/x-python",
   "name": "python",
   "nbconvert_exporter": "python",
   "pygments_lexer": "ipython3",
   "version": "3.12.0"
  }
 },
 "nbformat": 4,
 "nbformat_minor": 2
}
