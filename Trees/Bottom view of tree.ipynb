{
 "cells": [
  {
   "cell_type": "code",
   "execution_count": null,
   "id": "de203a4a",
   "metadata": {},
   "outputs": [
    {
     "name": "stdout",
     "output_type": "stream",
     "text": [
      "[4, 5, 6, 3, 10]\n"
     ]
    }
   ],
   "source": [
    "from collections import deque, defaultdict\n",
    "\n",
    "# Node class to represent the binary tree\n",
    "class Node:\n",
    "    def __init__(self, val):\n",
    "        self.data = val\n",
    "        self.left = None\n",
    "        self.right = None\n",
    "\n",
    "def bottomView(root):\n",
    "    ans = []\n",
    "\n",
    "    if root is None:\n",
    "        return ans\n",
    "\n",
    "    # Map to store the bottom view nodes\n",
    "    # key = horizontal distance, value = node.data\n",
    "    mpp = defaultdict()\n",
    "\n",
    "    # Use deque for BFS: each element is (node, horizontal distance)\n",
    "    q = deque()\n",
    "    q.append((root, 0))\n",
    "\n",
    "    while q:\n",
    "        node, line = q.popleft()\n",
    "\n",
    "        # Always overwrite for bottom view\n",
    "        mpp[line] = node.data\n",
    "\n",
    "        if node.left:\n",
    "            q.append((node.left, line - 1))\n",
    "        if node.right:\n",
    "            q.append((node.right, line + 1))\n",
    "\n",
    "    for key in sorted(mpp.keys()):\n",
    "        ans.append(mpp[key])\n",
    "\n",
    "    return ans\n",
    "\n",
    "# Creating a sample binary tree\n",
    "root = Node(1)\n",
    "root.left = Node(2)\n",
    "root.left.left = Node(4)\n",
    "root.left.right = Node(10)\n",
    "root.left.left.right = Node(5)\n",
    "root.left.left.right.right = Node(6)\n",
    "root.right = Node(3)\n",
    "root.right.right = Node(10)\n",
    "root.right.left = Node(9)\n",
    "\n",
    "\n",
    "bottomView = bottomView(root)\n",
    "print(bottomView)\n"
   ]
  },
  {
   "cell_type": "code",
   "execution_count": null,
   "id": "4cf90acd",
   "metadata": {},
   "outputs": [],
   "source": []
  }
 ],
 "metadata": {
  "kernelspec": {
   "display_name": "Python 3",
   "language": "python",
   "name": "python3"
  },
  "language_info": {
   "codemirror_mode": {
    "name": "ipython",
    "version": 3
   },
   "file_extension": ".py",
   "mimetype": "text/x-python",
   "name": "python",
   "nbconvert_exporter": "python",
   "pygments_lexer": "ipython3",
   "version": "3.12.0"
  }
 },
 "nbformat": 4,
 "nbformat_minor": 5
}
