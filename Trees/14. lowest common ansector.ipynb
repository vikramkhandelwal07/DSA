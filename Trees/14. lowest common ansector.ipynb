{
 "cells": [
  {
   "cell_type": "code",
   "execution_count": 3,
   "metadata": {},
   "outputs": [],
   "source": [
    "\n",
    "class TreeNode:\n",
    "  def __init__(self,val = 0, left = None, right = None):\n",
    "    self.val = val\n",
    "    self.left = left\n",
    "    self.right = right\n",
    "    \n",
    "class Solution:\n",
    "  \n",
    "  def getpath(self,root,n,path):\n",
    "    if not root:\n",
    "      return False\n",
    "    path.append(root.val)\n",
    "    \n",
    "    if root.val == n:\n",
    "      return True\n",
    "\n",
    "    if (root.left and self.getpath(root.left,n,path)) or (root.right and self.getpath(root.right,n,path)):\n",
    "      return True\n",
    "    \n",
    "    path.pop()\n",
    "    return False\n",
    "  \n",
    "  def lca(self,root,n1,n2):\n",
    "    if not root:\n",
    "      return []\n",
    "\n",
    "    path1 ,path2 = [], []\n",
    "    if not self.getpath(root, n1, path1) or not self.getpath(root, n2, path2):\n",
    "      return None\n",
    "    \n",
    "    i = 0\n",
    "    while i < min(len(path1), len(path2)) and path1[i] == path2[i]:\n",
    "      i += 1 \n",
    "    return path1[i - 1]\n",
    "    \n",
    "    "
   ]
  },
  {
   "cell_type": "code",
   "execution_count": 4,
   "metadata": {},
   "outputs": [
    {
     "name": "stdout",
     "output_type": "stream",
     "text": [
      "2\n",
      "1\n",
      "3\n",
      "1\n"
     ]
    }
   ],
   "source": [
    "# Constructing the tree\n",
    "#         1\n",
    "#        / \\\n",
    "#       2   3\n",
    "#      / \\   \\\n",
    "#     4   5   6\n",
    "root = TreeNode(1)\n",
    "root.left = TreeNode(2)\n",
    "root.right = TreeNode(3)\n",
    "root.left.left = TreeNode(4)\n",
    "root.left.right = TreeNode(5)\n",
    "root.right.right = TreeNode(6)\n",
    "\n",
    "sol = Solution()\n",
    "print(sol.lca(root, 4, 5))  # Output: 2\n",
    "print(sol.lca(root, 4, 6))  # Output: 1\n",
    "print(sol.lca(root, 3, 6))  # Output: 3\n",
    "print(sol.lca(root, 2, 6))  # Output: 1\n"
   ]
  },
  {
   "cell_type": "markdown",
   "metadata": {},
   "source": [
    "## Optimised code"
   ]
  },
  {
   "cell_type": "code",
   "execution_count": 5,
   "metadata": {},
   "outputs": [],
   "source": [
    "class TreeNode:\n",
    "  def __init__(self, x):\n",
    "    self.val = x\n",
    "    self.left = None\n",
    "    self.right = None\n",
    "  \n",
    "class Solution:\n",
    "  def lowestCommonAncestor(self, root: TreeNode, p: TreeNode, q: TreeNode) -> TreeNode:\n",
    "    if not root or root == p or root == q:\n",
    "      return root  \n",
    "\n",
    "    left = self.lowestCommonAncestor(root.left, p, q)  \n",
    "    right = self.lowestCommonAncestor(root.right, p, q)  \n",
    "\n",
    "    if left and right:\n",
    "      return root  # If p and q are found in different subtrees, root is LCA\n",
    "\n",
    "    return left if left else right"
   ]
  },
  {
   "cell_type": "code",
   "execution_count": 6,
   "metadata": {},
   "outputs": [
    {
     "name": "stdout",
     "output_type": "stream",
     "text": [
      "5\n",
      "2\n",
      "3\n"
     ]
    }
   ],
   "source": [
    "# Constructing the tree\n",
    "#         3\n",
    "#        / \\\n",
    "#       5   1\n",
    "#      / \\   \\\n",
    "#     6   2   8\n",
    "#        / \\\n",
    "#       7   4\n",
    "\n",
    "root = TreeNode(3)\n",
    "root.left = TreeNode(5)\n",
    "root.right = TreeNode(1)\n",
    "root.left.left = TreeNode(6)\n",
    "root.left.right = TreeNode(2)\n",
    "root.left.right.left = TreeNode(7)\n",
    "root.left.right.right = TreeNode(4)\n",
    "root.right.right = TreeNode(8)\n",
    "\n",
    "sol = Solution()\n",
    "print(sol.lowestCommonAncestor(root, root.left, root.left.right.right).val)  # Output: 5\n",
    "print(sol.lowestCommonAncestor(root, root.left.right.left, root.left.right.right).val)  # Output: 2\n",
    "print(sol.lowestCommonAncestor(root, root.left, root.right).val)  # Output: 3\n"
   ]
  },
  {
   "cell_type": "code",
   "execution_count": null,
   "metadata": {},
   "outputs": [],
   "source": []
  }
 ],
 "metadata": {
  "kernelspec": {
   "display_name": "Python 3",
   "language": "python",
   "name": "python3"
  },
  "language_info": {
   "codemirror_mode": {
    "name": "ipython",
    "version": 3
   },
   "file_extension": ".py",
   "mimetype": "text/x-python",
   "name": "python",
   "nbconvert_exporter": "python",
   "pygments_lexer": "ipython3",
   "version": "3.12.0"
  }
 },
 "nbformat": 4,
 "nbformat_minor": 2
}
