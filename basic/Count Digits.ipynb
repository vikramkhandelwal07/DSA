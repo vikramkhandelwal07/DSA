{
 "cells": [
  {
   "cell_type": "markdown",
   "metadata": {},
   "source": [
    "# Count Digits\n",
    "Given a number n. Count the number of digits in n which evenly divide n. Return an integer, total number of digits of n which divides n evenly.\n",
    "\n",
    "Note :- Evenly divides means whether n is divisible by a digit i.e. leaves a remainder 0 when divided.\n",
    " \n",
    "\n",
    "Examples :\n",
    "\n",
    "Input: n = 12\n",
    "Output: 2\n",
    "Explanation: 1, 2 when both divide 12 leaves remainder 0.\n",
    "Input: n = 2446\n",
    "Output: 1\n",
    "Explanation: Here among 2, 4, 6 only 2 divides 2446 evenly while 4 and 6 do not.\n",
    "Input: n = 23\n",
    "Output: 0\n",
    "Explanation: 2 and 3, none of them divide 23 evenly.\n",
    "Expected Time Complexity: O(n)\n",
    "Expected Space Complexity: O(1)\n",
    " \n",
    "\n",
    "Constraints:\n",
    "1<= n <=105\n"
   ]
  },
  {
   "cell_type": "code",
   "execution_count": 10,
   "metadata": {},
   "outputs": [
    {
     "name": "stdout",
     "output_type": "stream",
     "text": [
      "1\n"
     ]
    }
   ],
   "source": [
    "class Solution:\n",
    "    def evenlyDivides(self, N):\n",
    "        original_N = N\n",
    "        count = 0\n",
    "        while N > 0:\n",
    "            last_digit = N % 10\n",
    "            if last_digit != 0 and original_N % last_digit == 0:\n",
    "                count += 1\n",
    "            N = N // 10\n",
    "        return count\n",
    "    \n",
    "    \n",
    "if __name__ == '__main__':\n",
    "    \n",
    "    N = int(input(\"enter the number :\"))\n",
    "    ob = Solution()\n",
    "    print(ob.evenlyDivides(N))   \n"
   ]
  },
  {
   "cell_type": "code",
   "execution_count": null,
   "metadata": {},
   "outputs": [],
   "source": []
  }
 ],
 "metadata": {
  "kernelspec": {
   "display_name": "Python 3",
   "language": "python",
   "name": "python3"
  },
  "language_info": {
   "codemirror_mode": {
    "name": "ipython",
    "version": 3
   },
   "file_extension": ".py",
   "mimetype": "text/x-python",
   "name": "python",
   "nbconvert_exporter": "python",
   "pygments_lexer": "ipython3",
   "version": "3.12.0"
  }
 },
 "nbformat": 4,
 "nbformat_minor": 2
}
