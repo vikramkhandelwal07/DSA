{
 "cells": [
  {
   "cell_type": "code",
   "execution_count": 2,
   "metadata": {},
   "outputs": [
    {
     "name": "stdout",
     "output_type": "stream",
     "text": [
      "[[7, 4, 1], [8, 5, 2], [9, 6, 3]]\n"
     ]
    }
   ],
   "source": [
    "def rotate(matrix):\n",
    "  \"\"\"\n",
    "  Do not return anything, modify matrix in-place instead.\n",
    "  \"\"\"\n",
    "  n = len(matrix)\n",
    "  for i in range(n-1):\n",
    "    for j in range(i+1,n):\n",
    "      matrix[i][j] ,matrix[j][i] = matrix[j][i] ,matrix[i][j]\n",
    "    \n",
    "  for i in range(n):\n",
    "    matrix[i].reverse()\n",
    "      \n",
    "  return matrix\n",
    "\n",
    "matrix = [[1,2,3],[4,5,6],[7,8,9]]\n",
    "output = rotate(matrix)\n",
    "print(output)\n"
   ]
  },
  {
   "cell_type": "code",
   "execution_count": null,
   "metadata": {},
   "outputs": [],
   "source": []
  }
 ],
 "metadata": {
  "kernelspec": {
   "display_name": "Python 3",
   "language": "python",
   "name": "python3"
  },
  "language_info": {
   "codemirror_mode": {
    "name": "ipython",
    "version": 3
   },
   "file_extension": ".py",
   "mimetype": "text/x-python",
   "name": "python",
   "nbconvert_exporter": "python",
   "pygments_lexer": "ipython3",
   "version": "3.12.0"
  }
 },
 "nbformat": 4,
 "nbformat_minor": 2
}
