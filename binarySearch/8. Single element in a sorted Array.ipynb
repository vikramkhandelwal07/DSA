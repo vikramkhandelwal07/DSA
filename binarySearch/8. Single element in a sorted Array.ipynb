{
 "cells": [
  {
   "cell_type": "markdown",
   "metadata": {},
   "source": [
    "## 540. Single Element in a Sorted Array\n",
    "\n",
    "Medium\n",
    "\n",
    "- You are given a sorted array consisting of only integers where every element appears exactly twice, except for one element which appears exactly once.\n",
    "- Return the single element that appears only once.\n",
    "- Your solution must run in O(log n) time and O(1) space.\n",
    "   \n",
    "`Example 1`:\n",
    "- Input: nums = [1,1,2,3,3,4,4,8,8]\n",
    "- Output: 2\n",
    "\n",
    "`Example 2`:\n",
    "- Input: nums = [3,3,7,7,10,11,11]\n",
    "- Output: 10"
   ]
  },
  {
   "cell_type": "code",
   "execution_count": 7,
   "metadata": {},
   "outputs": [],
   "source": [
    "def SearchSingleElement(nums):\n",
    "  n = len(nums)\n",
    "  if n == 1:\n",
    "      return nums[0]\n",
    "  if nums[0] != nums[1]:\n",
    "      return nums[0]\n",
    "  if nums[n - 1] != nums[n - 2]:\n",
    "      return nums[n - 1]\n",
    "  \n",
    "  low = 0\n",
    "  high = n - 1\n",
    "  \n",
    "  while low <= high:\n",
    "      mid = (low + high) // 2\n",
    "      if nums[mid] != nums[mid - 1] and nums[mid] != nums[mid + 1]:\n",
    "          return nums[mid]\n",
    "      if (mid % 2 == 1 and nums[mid] == nums[mid - 1]) or (mid % 2 == 0 and nums[mid] == nums[mid + 1]):\n",
    "          low = mid + 1\n",
    "      else:\n",
    "          high = mid - 1\n",
    "  \n",
    "  return -1\n",
    "\n",
    "\n",
    "   "
   ]
  },
  {
   "cell_type": "code",
   "execution_count": 8,
   "metadata": {},
   "outputs": [
    {
     "name": "stdout",
     "output_type": "stream",
     "text": [
      "2\n"
     ]
    }
   ],
   "source": [
    "nums = [1,1,2,3,3,4,4,8,8]\n",
    "output = SearchSingleElement(nums)\n",
    "print(output)"
   ]
  },
  {
   "cell_type": "code",
   "execution_count": null,
   "metadata": {},
   "outputs": [],
   "source": []
  }
 ],
 "metadata": {
  "kernelspec": {
   "display_name": "Python 3",
   "language": "python",
   "name": "python3"
  },
  "language_info": {
   "codemirror_mode": {
    "name": "ipython",
    "version": 3
   },
   "file_extension": ".py",
   "mimetype": "text/x-python",
   "name": "python",
   "nbconvert_exporter": "python",
   "pygments_lexer": "ipython3",
   "version": "3.12.0"
  }
 },
 "nbformat": 4,
 "nbformat_minor": 2
}
