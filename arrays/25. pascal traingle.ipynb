{
 "cells": [
  {
   "cell_type": "markdown",
   "metadata": {},
   "source": [
    "## Pascal triangle Type 1\n",
    "- In this case, we are given the row number r and the column number c, and we need to find out the element at position (r,c). "
   ]
  },
  {
   "cell_type": "code",
   "execution_count": null,
   "metadata": {},
   "outputs": [
    {
     "name": "stdout",
     "output_type": "stream",
     "text": [
      "1\n"
     ]
    }
   ],
   "source": []
  },
  {
   "cell_type": "code",
   "execution_count": null,
   "metadata": {},
   "outputs": [
    {
     "name": "stdout",
     "output_type": "stream",
     "text": [
      "The element at position (r,c) is: 6\n"
     ]
    }
   ],
   "source": [
    "\n",
    "def nCr(n, r):\n",
    "    res = 1\n",
    "    for i in range(r):\n",
    "        res = res * (n - i)\n",
    "        res = res // (i + 1)\n",
    "    return res\n",
    "\n",
    "def pascalTriangle(r, c):\n",
    "    element = nCr(r - 1, c - 1)\n",
    "    return element\n",
    "\n",
    "r = 5 # row number\n",
    "c = 3 # col number\n",
    "element = pascalTriangle(r, c)\n",
    "print(f\"The element at position (r,c) is: {element}\")\n",
    "    \n",
    "        \n",
    "        "
   ]
  },
  {
   "cell_type": "markdown",
   "metadata": {},
   "source": [
    "## Pascal triangle Type 2"
   ]
  },
  {
   "cell_type": "markdown",
   "metadata": {},
   "source": [
    "### Brute"
   ]
  },
  {
   "cell_type": "code",
   "execution_count": 3,
   "metadata": {},
   "outputs": [
    {
     "name": "stdout",
     "output_type": "stream",
     "text": [
      "[1, 4, 6, 4, 1]\n"
     ]
    }
   ],
   "source": [
    "def nCr(n, r):\n",
    "    res = 1\n",
    "    for i in range(r):\n",
    "        res = res * (n - i)\n",
    "        res = res // (i + 1)\n",
    "    return res\n",
    "\n",
    "def pascalTriangle(n):\n",
    "    ans = []\n",
    "    for c in range(1, n+1):\n",
    "        ans.append(nCr(n-1,c-1))\n",
    "    \n",
    "    return ans\n",
    "\n",
    "n = 5\n",
    "print(pascalTriangle(n))"
   ]
  },
  {
   "cell_type": "markdown",
   "metadata": {},
   "source": [
    "## optimal"
   ]
  },
  {
   "cell_type": "code",
   "execution_count": null,
   "metadata": {},
   "outputs": [
    {
     "name": "stdout",
     "output_type": "stream",
     "text": [
      "[1, 13, 78, 286, 715, 1287, 1716, 1716, 1287, 715, 286, 78, 13, 1]\n"
     ]
    }
   ],
   "source": [
    "def pascalTriangle(n):\n",
    "    ans = 1\n",
    "    result = [1]\n",
    "\n",
    "    for i in range(1, n):\n",
    "        ans = ans * (n - i)\n",
    "        ans = ans // i\n",
    "        result.append(ans)\n",
    "    \n",
    "    return result\n",
    "\n",
    "\n",
    "n = 14\n",
    "print(pascalTriangle(n))"
   ]
  },
  {
   "cell_type": "markdown",
   "metadata": {},
   "source": [
    "## pascal triangle type-3"
   ]
  },
  {
   "cell_type": "code",
   "execution_count": 4,
   "metadata": {},
   "outputs": [
    {
     "name": "stdout",
     "output_type": "stream",
     "text": [
      "1 \n",
      "1 1 \n",
      "1 2 1 \n",
      "1 3 3 1 \n",
      "1 4 6 4 1 \n"
     ]
    }
   ],
   "source": [
    "\n",
    "from typing import *\n",
    "\n",
    "def nCr(n, r):\n",
    "    res = 1\n",
    "\n",
    "    for i in range(r):\n",
    "        res = res * (n - i)\n",
    "        res = res // (i + 1)\n",
    "    return int(res)\n",
    "\n",
    "def pascalTriangle(n : int) -> List[List[int]]:\n",
    "    ans = []\n",
    "\n",
    "    for row in range(1, n+1):\n",
    "        tempLst = [] # temporary list\n",
    "        for col in range(1, row+1):\n",
    "            tempLst.append(nCr(row - 1, col - 1))\n",
    "        ans.append(tempLst)\n",
    "    return ans\n",
    "\n",
    "n = 5\n",
    "ans = pascalTriangle(n)\n",
    "for it in ans:\n",
    "  for ele in it:\n",
    "    print(ele, end=\" \")\n",
    "  print()\n"
   ]
  },
  {
   "cell_type": "code",
   "execution_count": null,
   "metadata": {},
   "outputs": [
    {
     "name": "stdout",
     "output_type": "stream",
     "text": [
      "1 \n",
      "1 1 \n",
      "1 2 1 \n",
      "1 3 3 1 \n",
      "1 4 6 4 1 \n"
     ]
    }
   ],
   "source": [
    "\n",
    "from typing import *\n",
    "\n",
    "def generateRow(row):\n",
    "    ans = 1\n",
    "    ansRow = [1] #inserting the 1st element\n",
    "    #calculate the rest of the elements:\n",
    "    for col in range(1, row):\n",
    "        ans *= (row - col)\n",
    "        ans //= col\n",
    "        ansRow.append(ans)\n",
    "    return ansRow\n",
    "\n",
    "def pascalTriangle(n : int) -> List[List[int]]:\n",
    "    ans = []\n",
    "    #store the entire pascal's triangle:\n",
    "    for row in range(1, n+1):\n",
    "        ans.append(generateRow(row))\n",
    "    return ans\n",
    "\n",
    "\n",
    "n = 5\n",
    "ans = pascalTriangle(n)\n",
    "for it in ans:\n",
    "  for ele in it:\n",
    "    print(ele, end=\" \")\n",
    "  print()\n"
   ]
  },
  {
   "cell_type": "code",
   "execution_count": null,
   "metadata": {},
   "outputs": [],
   "source": []
  }
 ],
 "metadata": {
  "kernelspec": {
   "display_name": "Python 3",
   "language": "python",
   "name": "python3"
  },
  "language_info": {
   "codemirror_mode": {
    "name": "ipython",
    "version": 3
   },
   "file_extension": ".py",
   "mimetype": "text/x-python",
   "name": "python",
   "nbconvert_exporter": "python",
   "pygments_lexer": "ipython3",
   "version": "3.12.0"
  }
 },
 "nbformat": 4,
 "nbformat_minor": 2
}
