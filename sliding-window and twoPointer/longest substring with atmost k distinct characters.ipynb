{
 "cells": [
  {
   "cell_type": "code",
   "execution_count": 1,
   "metadata": {},
   "outputs": [
    {
     "data": {
      "text/plain": [
       "5"
      ]
     },
     "execution_count": 1,
     "metadata": {},
     "output_type": "execute_result"
    }
   ],
   "source": [
    "def longestSubstring(s,k):\n",
    "  char_index = {}\n",
    "  n = len(s)\n",
    "  maxlength = 0\n",
    "  l = 0\n",
    "  r = 0\n",
    "  for r in range(n):\n",
    "    char_index[s[r]] = char_index.get(s[r],0) + 1\n",
    "    if len(char_index) > k:\n",
    "      char_index[s[l]] -=1\n",
    "      l+=1\n",
    "    \n",
    "    maxlength = max(maxlength,r-l+1)\n",
    "    \n",
    "  return maxlength\n",
    "        \n",
    "s = \"aaabbcccdd\"\n",
    "k = 2\n",
    "longestSubstring(s,k)\n",
    "  "
   ]
  },
  {
   "cell_type": "code",
   "execution_count": null,
   "metadata": {},
   "outputs": [],
   "source": []
  }
 ],
 "metadata": {
  "kernelspec": {
   "display_name": "Python 3",
   "language": "python",
   "name": "python3"
  },
  "language_info": {
   "codemirror_mode": {
    "name": "ipython",
    "version": 3
   },
   "file_extension": ".py",
   "mimetype": "text/x-python",
   "name": "python",
   "nbconvert_exporter": "python",
   "pygments_lexer": "ipython3",
   "version": "3.12.0"
  }
 },
 "nbformat": 4,
 "nbformat_minor": 2
}
