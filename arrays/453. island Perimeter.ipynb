{
 "cells": [
  {
   "cell_type": "code",
   "execution_count": 4,
   "id": "c8e100f5",
   "metadata": {},
   "outputs": [
    {
     "name": "stdout",
     "output_type": "stream",
     "text": [
      "16\n"
     ]
    }
   ],
   "source": [
    "def perimeter(grid, i, j):\n",
    "    ans = 0\n",
    "    n, m = len(grid), len(grid[0])\n",
    "\n",
    "    # Up\n",
    "    if i == 0 or grid[i-1][j] == 0:\n",
    "        ans += 1\n",
    "    # Down\n",
    "    if i == n - 1 or grid[i+1][j] == 0:\n",
    "        ans += 1\n",
    "    # Right\n",
    "    if j == m - 1 or grid[i][j+1] == 0:\n",
    "        ans += 1\n",
    "    # Left\n",
    "    if j == 0 or grid[i][j-1] == 0:\n",
    "        ans += 1\n",
    "\n",
    "    return ans\n",
    "\n",
    "def islandPerimeter(grid):\n",
    "    n = len(grid)\n",
    "    m = len(grid[0])\n",
    "    per = 0\n",
    "    for i in range(n):\n",
    "        for j in range(m):\n",
    "            if grid[i][j] == 1:\n",
    "                per += perimeter(grid, i, j)\n",
    "    return per\n",
    "\n",
    "grid = [[0,1,0,0],\n",
    "        [1,1,1,0],\n",
    "        [0,1,0,0],\n",
    "        [1,1,0,0]]\n",
    "\n",
    "o = islandPerimeter(grid)\n",
    "print(o)\n"
   ]
  },
  {
   "cell_type": "code",
   "execution_count": null,
   "id": "2cbd27be",
   "metadata": {},
   "outputs": [
    {
     "name": "stdout",
     "output_type": "stream",
     "text": [
      "16\n"
     ]
    }
   ],
   "source": [
    "def islandPerimeterOptimised(grid):\n",
    "    n = len(grid)\n",
    "    m = len(grid[0])\n",
    "    perimeter = 0\n",
    "\n",
    "    for i in range(n):\n",
    "        for j in range(m):\n",
    "            if grid[i][j] == 1:\n",
    "                perimeter += 4\n",
    "                if i > 0 and grid[i-1][j] == 1:\n",
    "                    perimeter -= 2\n",
    "                if j > 0 and grid[i][j-1] == 1:\n",
    "                    perimeter -= 2\n",
    "\n",
    "    return perimeter\n",
    "\n",
    "grid = [[0,1,0,0],\n",
    "        [1,1,1,0],\n",
    "        [0,1,0,0],\n",
    "        [1,1,0,0]]\n",
    "\n",
    "print(islandPerimeterOptimised(grid))  \n"
   ]
  },
  {
   "cell_type": "code",
   "execution_count": null,
   "id": "432d2f87",
   "metadata": {},
   "outputs": [
    {
     "name": "stdout",
     "output_type": "stream",
     "text": [
      "4\n"
     ]
    }
   ],
   "source": []
  },
  {
   "cell_type": "code",
   "execution_count": null,
   "id": "0931e1f1",
   "metadata": {},
   "outputs": [],
   "source": []
  }
 ],
 "metadata": {
  "kernelspec": {
   "display_name": "Python 3",
   "language": "python",
   "name": "python3"
  },
  "language_info": {
   "codemirror_mode": {
    "name": "ipython",
    "version": 3
   },
   "file_extension": ".py",
   "mimetype": "text/x-python",
   "name": "python",
   "nbconvert_exporter": "python",
   "pygments_lexer": "ipython3",
   "version": "3.12.0"
  }
 },
 "nbformat": 4,
 "nbformat_minor": 5
}
