{
 "cells": [
  {
   "cell_type": "code",
   "execution_count": 3,
   "id": "bd4b3abd",
   "metadata": {},
   "outputs": [],
   "source": [
    "def rotate_matrix_90_brute(matrix):\n",
    "    n = len(matrix)\n",
    "    rotated = [[0 for _ in range(n)] for _ in range(n)]\n",
    "\n",
    "    for i in range(n):\n",
    "        for j in range(n):\n",
    "            rotated[j][n - 1 - i] = matrix[i][j]\n",
    "    \n",
    "    return rotated\n"
   ]
  },
  {
   "cell_type": "code",
   "execution_count": 5,
   "id": "d57e4958",
   "metadata": {},
   "outputs": [
    {
     "name": "stdout",
     "output_type": "stream",
     "text": [
      "[[7, 4, 1], [8, 5, 2], [9, 6, 3]]\n"
     ]
    }
   ],
   "source": [
    "original = [\n",
    "    [1, 2, 3],\n",
    "    [4, 5, 6],\n",
    "    [7, 8, 9]\n",
    "]\n",
    "\n",
    "rotated = rotate_matrix_90_brute(original)\n",
    "print(rotated)"
   ]
  },
  {
   "cell_type": "markdown",
   "id": "a7196fe5",
   "metadata": {},
   "source": [
    "## optimal"
   ]
  },
  {
   "cell_type": "code",
   "execution_count": null,
   "id": "48e79d12",
   "metadata": {},
   "outputs": [],
   "source": [
    "def rotateMatrix(matrix):\n",
    "  n = len(matrix)\n",
    "  # doing the transpose\n",
    "  for i in range(n-1):\n",
    "    for j in range(i+1,n):\n",
    "      matrix[i][j] , matrix[j][i] = matrix[j][i] , matrix[i][j]\n",
    "  # reverse kardo \n",
    "  for row in matrix:\n",
    "    row.reverse()  \n",
    "      \n",
    "  return matrix"
   ]
  },
  {
   "cell_type": "code",
   "execution_count": 2,
   "id": "3887f33c",
   "metadata": {},
   "outputs": [
    {
     "name": "stdout",
     "output_type": "stream",
     "text": [
      "[[15, 13, 2, 5], [14, 3, 4, 1], [12, 6, 8, 9], [16, 7, 10, 11]]\n"
     ]
    }
   ],
   "source": [
    "matrix = [[5,1,9,11],[2,4,8,10],[13,3,6,7],[15,14,12,16]]\n",
    "print(rotateMatrix(matrix))"
   ]
  },
  {
   "cell_type": "code",
   "execution_count": null,
   "id": "14ef7b48",
   "metadata": {},
   "outputs": [],
   "source": []
  }
 ],
 "metadata": {
  "kernelspec": {
   "display_name": "Python 3",
   "language": "python",
   "name": "python3"
  },
  "language_info": {
   "codemirror_mode": {
    "name": "ipython",
    "version": 3
   },
   "file_extension": ".py",
   "mimetype": "text/x-python",
   "name": "python",
   "nbconvert_exporter": "python",
   "pygments_lexer": "ipython3",
   "version": "3.12.0"
  }
 },
 "nbformat": 4,
 "nbformat_minor": 5
}
