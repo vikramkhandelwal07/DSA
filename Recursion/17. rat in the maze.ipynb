{
 "cells": [
  {
   "cell_type": "markdown",
   "metadata": {},
   "source": [
    "## Rat in the maze"
   ]
  },
  {
   "cell_type": "code",
   "execution_count": 12,
   "metadata": {},
   "outputs": [],
   "source": [
    "def solve(i,j,a,n,ans,move,vis,di,dj):\n",
    "  if i == n-1 and j == n-1:\n",
    "    ans.append(move)\n",
    "    return\n",
    "  dir = \"DLRU\"\n",
    "  for ind in range(4):\n",
    "    nexti = i + di[ind]\n",
    "    nextj = j + dj[ind]\n",
    "    if nexti >=0 and nextj >= 0 and nexti < n and nextj < n and not vis[nexti][nextj] and a[nexti][nextj] == 1:\n",
    "      vis[i][j] = 1\n",
    "      solve(nexti, nextj, a, n, ans,move + dir[ind], vis, di, dj)\n",
    "      vis[i][j] = 0\n",
    "\n",
    "\n",
    "def findPath(m,n):\n",
    "  ans = []\n",
    "  vis = [[0 for i in range(n)]for _ in range(n)]\n",
    "  di = [1,0,0,-1]\n",
    "  dj = [0,-1,1,0]\n",
    "  if m[0][0] == 1:\n",
    "    solve(0,0,m,n,ans,\"\",vis,di,dj)\n",
    "  return ans"
   ]
  },
  {
   "cell_type": "code",
   "execution_count": 13,
   "metadata": {},
   "outputs": [
    {
     "name": "stdout",
     "output_type": "stream",
     "text": [
      "DDRDRR DRDDRR \n"
     ]
    }
   ],
   "source": [
    "if __name__ == \"__main__\":\n",
    "    n = 4\n",
    "    m = [[1, 0, 0, 0], [1, 1, 0, 1], [1, 1, 0, 0], [0, 1, 1, 1]]\n",
    "    result = findPath(m, n)\n",
    "    if len(result) == 0:\n",
    "        print(-1)\n",
    "    else:\n",
    "        for i in range(len(result)):\n",
    "            print(result[i], end=\" \")\n",
    "    print()"
   ]
  },
  {
   "cell_type": "code",
   "execution_count": null,
   "metadata": {},
   "outputs": [],
   "source": []
  }
 ],
 "metadata": {
  "kernelspec": {
   "display_name": "Python 3",
   "language": "python",
   "name": "python3"
  },
  "language_info": {
   "codemirror_mode": {
    "name": "ipython",
    "version": 3
   },
   "file_extension": ".py",
   "mimetype": "text/x-python",
   "name": "python",
   "nbconvert_exporter": "python",
   "pygments_lexer": "ipython3",
   "version": "3.12.0"
  }
 },
 "nbformat": 4,
 "nbformat_minor": 2
}
