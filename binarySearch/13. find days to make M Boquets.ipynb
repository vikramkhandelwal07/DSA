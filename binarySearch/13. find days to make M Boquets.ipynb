{
 "cells": [
  {
   "cell_type": "markdown",
   "metadata": {},
   "source": [
    "# 1482. Minimum Number of Days to Make `m` Bouquets\n",
    "\n",
    "## Problem Statement\n",
    "\n",
    "You are given an integer array `bloomDay`, an integer `m`, and an integer `k`.\n",
    "\n",
    "You want to make `m` bouquets. To make a bouquet, you need to use `k` adjacent flowers from the garden.\n",
    "\n",
    "The garden consists of `n` flowers, the \\(i^{th}\\) flower will bloom in the `bloomDay[i]` and then can be used in exactly one bouquet.\n",
    "\n",
    "Return the minimum number of days you need to wait to be able to make `m` bouquets from the garden. If it is impossible to make `m` bouquets, return `-1`.\n",
    "\n",
    "---\n",
    "\n",
    "## Examples\n",
    "\n",
    "### Example 1\n",
    "\n",
    "**Input**:\n",
    "bloomDay = [1,10,3,10,2], m = 3, k = 1\n",
    "\n",
    "makefile\n",
    "Copy code\n",
    "\n",
    "**Output**:\n",
    "3\n",
    "\n",
    "markdown\n",
    "Copy code\n",
    "\n",
    "**Explanation**:\n",
    "Let us see what happened in the first three days. `x` means flower bloomed and `_` means flower did not bloom in the garden.\n",
    "- We need 3 bouquets each should contain 1 flower.\n",
    "- After day 1: `[x, _, _, _, _]` → we can only make one bouquet.\n",
    "- After day 2: `[x, _, _, _, x]` → we can only make two bouquets.\n",
    "- After day 3: `[x, _, x, _, x]` → we can make 3 bouquets.\n",
    "\n",
    "The answer is **3**.\n",
    "\n",
    "---\n",
    "\n",
    "### Example 2\n",
    "\n",
    "**Input**:\n",
    "bloomDay = [1,10,3,10,2], m = 3, k = 2\n",
    "\n",
    "makefile\n",
    "Copy code\n",
    "\n",
    "**Output**:\n",
    "-1\n",
    "\n",
    "yaml\n",
    "Copy code\n",
    "\n",
    "**Explanation**:\n",
    "We need 3 bouquets each having 2 flowers, which means we need 6 flowers. The garden only has 5 flowers, so it is impossible to get the needed bouquets. We return `-1`.\n",
    "\n",
    "---\n",
    "\n",
    "### Example 3\n",
    "\n",
    "**Input**:\n",
    "bloomDay = [7,7,7,7,12,7,7], m = 2, k = 3\n",
    "\n",
    "makefile\n",
    "Copy code\n",
    "\n",
    "**Output**:\n",
    "12\n",
    "\n",
    "sql\n",
    "Copy code\n",
    "\n",
    "**Explanation**:\n",
    "We need 2 bouquets each should have 3 flowers.  \n",
    "Here is the garden after the 7th and 12th days:\n",
    "- After day 7: `[x, x, x, x, _, x, x]` → We can make one bouquet of the first three flowers that bloomed. We cannot make another bouquet from the last three flowers that bloomed because they are not adjacent.\n",
    "- After day 12: `[x, x, x, x, x, x, x]` → We can make two bouquets in different ways.\n",
    "\n",
    "The answer is **12**.\n",
    "\n",
    "\n",
    "\n",
    "\n",
    "\n"
   ]
  },
  {
   "cell_type": "code",
   "execution_count": 3,
   "metadata": {},
   "outputs": [],
   "source": [
    "from typing import List\n",
    "def minDays( bloomDay, m, k):\n",
    "    if m * k > len(bloomDay):\n",
    "        return -1\n",
    "    def canMakeBouquets(day):\n",
    "        bouquets = 0\n",
    "        flowers = 0\n",
    "        for bloom in bloomDay:\n",
    "            if bloom <= day:\n",
    "                flowers += 1\n",
    "                if flowers == k:\n",
    "                    bouquets += 1\n",
    "                    flowers = 0\n",
    "            else:\n",
    "                flowers = 0\n",
    "        return bouquets >= m\n",
    "  \n",
    "    low, high = min(bloomDay), max(bloomDay)\n",
    "    result = -1\n",
    "\n",
    "    while low <= high:\n",
    "        mid = (low + high) // 2\n",
    "        if canMakeBouquets(mid):\n",
    "            result = mid\n",
    "            high = mid - 1\n",
    "        else:\n",
    "            low = mid + 1\n",
    "\n",
    "    return result\n"
   ]
  },
  {
   "cell_type": "code",
   "execution_count": 4,
   "metadata": {},
   "outputs": [
    {
     "data": {
      "text/plain": [
       "3"
      ]
     },
     "execution_count": 4,
     "metadata": {},
     "output_type": "execute_result"
    }
   ],
   "source": [
    "bloomDay = [1,10,3,10,2]\n",
    "m = 3\n",
    "k = 1\n",
    "minDays(bloomDay,m,k)"
   ]
  },
  {
   "cell_type": "code",
   "execution_count": 5,
   "metadata": {},
   "outputs": [
    {
     "data": {
      "text/plain": [
       "5"
      ]
     },
     "execution_count": 5,
     "metadata": {},
     "output_type": "execute_result"
    }
   ],
   "source": [
    "import math\n",
    "def totalSum(nums,threshold,mid):\n",
    "        Sum = 0\n",
    "        for num in nums:\n",
    "            Sum += math.ceil(num/mid)\n",
    "        return Sum\n",
    "nums = [1,2,5,9]\n",
    "threshold = 6\n",
    "totalSum(nums,threshold,5) \n"
   ]
  },
  {
   "cell_type": "code",
   "execution_count": null,
   "metadata": {},
   "outputs": [],
   "source": []
  }
 ],
 "metadata": {
  "kernelspec": {
   "display_name": "Python 3",
   "language": "python",
   "name": "python3"
  },
  "language_info": {
   "codemirror_mode": {
    "name": "ipython",
    "version": 3
   },
   "file_extension": ".py",
   "mimetype": "text/x-python",
   "name": "python",
   "nbconvert_exporter": "python",
   "pygments_lexer": "ipython3",
   "version": "3.12.0"
  }
 },
 "nbformat": 4,
 "nbformat_minor": 2
}
