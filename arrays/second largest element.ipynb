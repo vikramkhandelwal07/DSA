{
 "cells": [
  {
   "cell_type": "code",
   "execution_count": null,
   "metadata": {},
   "outputs": [],
   "source": []
  },
  {
   "cell_type": "code",
   "execution_count": 1,
   "metadata": {},
   "outputs": [
    {
     "name": "stdout",
     "output_type": "stream",
     "text": [
      "34\n"
     ]
    }
   ],
   "source": [
    "def print2largest(arr):\n",
    "    largest = arr[0]\n",
    "    secondLargest = -1\n",
    "    for i in range(len(arr)):\n",
    "        if arr[i] > largest:\n",
    "            secondLargest = largest\n",
    "            largest = arr[i]   \n",
    "        elif (arr[i] < largest and arr[i] > secondLargest):\n",
    "            secondLargest = arr[i]\n",
    "        \n",
    "        \n",
    "    return secondLargest\n",
    "    \n",
    "\n",
    "arr = [12, 35, 35, 1, 10, 34 ,1]\n",
    "result = print2largest(arr)\n",
    "print(result)"
   ]
  },
  {
   "cell_type": "code",
   "execution_count": null,
   "metadata": {},
   "outputs": [],
   "source": []
  }
 ],
 "metadata": {
  "kernelspec": {
   "display_name": "Python 3",
   "language": "python",
   "name": "python3"
  },
  "language_info": {
   "codemirror_mode": {
    "name": "ipython",
    "version": 3
   },
   "file_extension": ".py",
   "mimetype": "text/x-python",
   "name": "python",
   "nbconvert_exporter": "python",
   "pygments_lexer": "ipython3",
   "version": "3.12.0"
  }
 },
 "nbformat": 4,
 "nbformat_minor": 2
}
