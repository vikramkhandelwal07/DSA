{
 "cells": [
  {
   "cell_type": "markdown",
   "id": "4f192284",
   "metadata": {},
   "source": [
    "x = XR^k"
   ]
  },
  {
   "cell_type": "code",
   "execution_count": 8,
   "id": "2d5a1b66",
   "metadata": {},
   "outputs": [
    {
     "name": "stdout",
     "output_type": "stream",
     "text": [
      "4\n"
     ]
    }
   ],
   "source": [
    "def xorSubArray(nums, k):\n",
    "    n = len(nums)\n",
    "    cnt = 0\n",
    "    for i in range(n):\n",
    "        xor1 = 0\n",
    "        for j in range(i, n):\n",
    "            xor1 ^= nums[j]  \n",
    "            if xor1 == k:\n",
    "                cnt += 1\n",
    "    return cnt\n",
    "\n",
    "nums = [4, 2, 2, 4, 6]\n",
    "print(xorSubArray(nums, k=6))\n"
   ]
  },
  {
   "cell_type": "code",
   "execution_count": null,
   "id": "8154c5ef",
   "metadata": {},
   "outputs": [
    {
     "ename": "KeyError",
     "evalue": "2",
     "output_type": "error",
     "traceback": [
      "\u001b[1;31m---------------------------------------------------------------------------\u001b[0m",
      "\u001b[1;31mKeyError\u001b[0m                                  Traceback (most recent call last)",
      "Cell \u001b[1;32mIn[11], line 15\u001b[0m\n\u001b[0;32m     12\u001b[0m     \u001b[38;5;28;01mreturn\u001b[39;00m cnt\n\u001b[0;32m     14\u001b[0m nums \u001b[38;5;241m=\u001b[39m [\u001b[38;5;241m4\u001b[39m, \u001b[38;5;241m2\u001b[39m, \u001b[38;5;241m2\u001b[39m, \u001b[38;5;241m4\u001b[39m, \u001b[38;5;241m6\u001b[39m]\n\u001b[1;32m---> 15\u001b[0m \u001b[38;5;28mprint\u001b[39m(\u001b[43mxorSubArray\u001b[49m\u001b[43m(\u001b[49m\u001b[43mnums\u001b[49m\u001b[43m,\u001b[49m\u001b[43m \u001b[49m\u001b[43mk\u001b[49m\u001b[38;5;241;43m=\u001b[39;49m\u001b[38;5;241;43m6\u001b[39;49m\u001b[43m)\u001b[49m)\n",
      "Cell \u001b[1;32mIn[11], line 11\u001b[0m, in \u001b[0;36mxorSubArray\u001b[1;34m(nums, k)\u001b[0m\n\u001b[0;32m      9\u001b[0m     \u001b[38;5;28;01mif\u001b[39;00m x \u001b[38;5;129;01min\u001b[39;00m hashMap:\n\u001b[0;32m     10\u001b[0m         cnt\u001b[38;5;241m+\u001b[39m\u001b[38;5;241m=\u001b[39mhashMap[x]\n\u001b[1;32m---> 11\u001b[0m     \u001b[43mhashMap\u001b[49m\u001b[43m[\u001b[49m\u001b[43mx\u001b[49m\u001b[43m]\u001b[49m \u001b[38;5;241m+\u001b[39m\u001b[38;5;241m=\u001b[39m\u001b[38;5;241m1\u001b[39m\n\u001b[0;32m     12\u001b[0m \u001b[38;5;28;01mreturn\u001b[39;00m cnt\n",
      "\u001b[1;31mKeyError\u001b[0m: 2"
     ]
    }
   ],
   "source": [
    "def xorSubArray(nums,k):\n",
    "    n = len(nums)\n",
    "    cnt = 0\n",
    "    hashMap = {0:1}\n",
    "    xr= 0\n",
    "    for i in range(n):\n",
    "        xr = xr ^ nums[i]\n",
    "        x = xr^k\n",
    "        cnt+=hashMap.get(x,0)\n",
    "        hashMap[xr] = hashMap.get(xr,0) + 1\n",
    "    return cnt\n",
    "nums = [4, 2, 2, 4, 6]\n",
    "print(xorSubArray(nums, k=6))"
   ]
  },
  {
   "cell_type": "code",
   "execution_count": null,
   "id": "c78dd269",
   "metadata": {},
   "outputs": [],
   "source": []
  }
 ],
 "metadata": {
  "kernelspec": {
   "display_name": "Python 3",
   "language": "python",
   "name": "python3"
  },
  "language_info": {
   "codemirror_mode": {
    "name": "ipython",
    "version": 3
   },
   "file_extension": ".py",
   "mimetype": "text/x-python",
   "name": "python",
   "nbconvert_exporter": "python",
   "pygments_lexer": "ipython3",
   "version": "3.12.0"
  }
 },
 "nbformat": 4,
 "nbformat_minor": 5
}
