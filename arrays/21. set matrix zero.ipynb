{
 "cells": [
  {
   "cell_type": "code",
   "execution_count": 1,
   "metadata": {},
   "outputs": [
    {
     "name": "stdout",
     "output_type": "stream",
     "text": [
      "[[1, 0, 1], [0, 0, 0], [1, 0, 1]]\n"
     ]
    }
   ],
   "source": [
    "def markRow(matrix,i,m):\n",
    "  for j in range(m):\n",
    "    if matrix[i][j] != 0:\n",
    "      matrix[i][j] = -1\n",
    "      \n",
    "def markCol(matrix,j,n):\n",
    "  for i in range(n):\n",
    "    if matrix[i][j] !=0:\n",
    "      matrix[i][j] = -1\n",
    "      \n",
    "def markZeros(matrix):\n",
    "  m = len(matrix)\n",
    "  n = len(matrix[0])\n",
    "  for i in range(m):\n",
    "    for j in range(n):\n",
    "      if matrix[i][j] == 0:\n",
    "        markRow(matrix,i,m)\n",
    "        markCol(matrix,j,n)\n",
    "      \n",
    "  for i in range(n):\n",
    "    for j in range(m):\n",
    "      if matrix[i][j] == -1:\n",
    "        matrix[i][j] = 0\n",
    "         \n",
    "  return matrix  \n",
    "\n",
    "matrix = [[1,1,1],[1,0,1],[1,1,1]]\n",
    "o = markZeros(matrix)\n",
    "print(o)  "
   ]
  },
  {
   "cell_type": "code",
   "execution_count": 3,
   "metadata": {},
   "outputs": [
    {
     "name": "stdout",
     "output_type": "stream",
     "text": [
      "[[1, 0, 1], [0, 0, 0], [1, 0, 1]]\n"
     ]
    }
   ],
   "source": [
    "def markRow(matrix, n, m, i):\n",
    "    for j in range(m):\n",
    "        if matrix[i][j] != 0:\n",
    "            matrix[i][j] = -1\n",
    "\n",
    "def markCol(matrix, n, m, j):\n",
    "    for i in range(n):\n",
    "        if matrix[i][j] != 0:\n",
    "            matrix[i][j] = -1\n",
    "  \n",
    "\n",
    "def setZeros(matrix, n ,m ):\n",
    "  for i in range(n):\n",
    "    for j in range(m):\n",
    "      if matrix[i][j] == 0:\n",
    "        markRow(matrix,n,m,i)\n",
    "        markCol(matrix,n,m,j)\n",
    "        \n",
    "        \n",
    "  for i in range(n):\n",
    "    for j in range(m):\n",
    "      if matrix[i][j] == -1:\n",
    "        matrix[i][j] = 0\n",
    "         \n",
    "  return matrix      \n",
    "      \n",
    "matrix = [[1,1,1],[1,0,1],[1,1,1]]\n",
    "n = len(matrix)\n",
    "m = len(matrix[0])\n",
    "\n",
    "o = setZeros(matrix,n,m)\n",
    "print(o)"
   ]
  },
  {
   "cell_type": "markdown",
   "metadata": {},
   "source": [
    "## Better"
   ]
  },
  {
   "cell_type": "code",
   "execution_count": 6,
   "metadata": {},
   "outputs": [
    {
     "name": "stdout",
     "output_type": "stream",
     "text": [
      "[[0, 0, 0, 0], [0, 4, 0, 0], [0, 0, 0, 0]]\n"
     ]
    }
   ],
   "source": [
    "def ZeroMatrix(matrix,n,m):\n",
    "  row = [0]*n\n",
    "  col = [0]*m\n",
    "  for i in range(n):\n",
    "    for j in range(m):\n",
    "      if matrix[i][j] == 0:\n",
    "        row[i] = 1\n",
    "        col[j] = 1\n",
    "        \n",
    "  for i in range(n):\n",
    "    for j in range(m):\n",
    "      if row[i] or col[j]:\n",
    "        matrix[i][j] = 0\n",
    "\n",
    "  return matrix    \n",
    "      \n",
    "  \n",
    "matrix = [[0,1,2,0],[3,4,5,2],[1,3,0,5]]\n",
    "n = len(matrix)\n",
    "m = len(matrix[0])\n",
    "o = ZeroMatrix(matrix,n,m)\n",
    "print(o)"
   ]
  },
  {
   "cell_type": "markdown",
   "metadata": {},
   "source": [
    "## Optimal"
   ]
  },
  {
   "cell_type": "code",
   "execution_count": null,
   "metadata": {},
   "outputs": [
    {
     "name": "stdout",
     "output_type": "stream",
     "text": [
      "The Final matrix is:\n",
      "1 0 1 0 0 0 1 0 1 \n"
     ]
    }
   ],
   "source": [
    "def zeroMatrix(matrix, n, m):\n",
    "   \n",
    "    col0 = 1\n",
    "    \n",
    "    for i in range(n):\n",
    "        for j in range(m):\n",
    "            if matrix[i][j] == 0:\n",
    "                matrix[i][0] = 0\n",
    "                if j != 0:\n",
    "                    matrix[0][j] = 0\n",
    "                else:\n",
    "                    col0 = 0\n",
    "\n",
    "    for i in range(1, n):\n",
    "        for j in range(1, m):\n",
    "            if matrix[i][j] != 0:\n",
    "                if (matrix[i][0]) or (matrix[0][j] == 0):\n",
    "                    matrix[i][j] = 0\n",
    "\n",
    "    if matrix[0][0] == 0:\n",
    "        for j in range(m):\n",
    "            matrix[0][j] = 0\n",
    "    if col0 == 0:\n",
    "        for i in range(n):\n",
    "            matrix[i][0] = 0\n",
    "\n",
    "    return matrix\n",
    "\n",
    "\n",
    "\n",
    "matrix = [[1, 1, 1], [1, 0, 1], [1, 1, 1]]\n",
    "n = len(matrix)\n",
    "m = len(matrix[0])\n",
    "ans = zeroMatrix(matrix, n, m)\n",
    "print(\"The Final matrix is:\")\n",
    "for row in ans:\n",
    "  for ele in row:\n",
    "    print(ele, end=\" \")\n",
    "print(\"\")\n",
    " "
   ]
  },
  {
   "cell_type": "code",
   "execution_count": null,
   "metadata": {},
   "outputs": [],
   "source": []
  }
 ],
 "metadata": {
  "kernelspec": {
   "display_name": "Python 3",
   "language": "python",
   "name": "python3"
  },
  "language_info": {
   "codemirror_mode": {
    "name": "ipython",
    "version": 3
   },
   "file_extension": ".py",
   "mimetype": "text/x-python",
   "name": "python",
   "nbconvert_exporter": "python",
   "pygments_lexer": "ipython3",
   "version": "3.12.0"
  }
 },
 "nbformat": 4,
 "nbformat_minor": 2
}
