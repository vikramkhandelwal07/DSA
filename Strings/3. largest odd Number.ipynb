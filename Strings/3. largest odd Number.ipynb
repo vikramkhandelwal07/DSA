{
 "cells": [
  {
   "cell_type": "code",
   "execution_count": 4,
   "id": "d9829891",
   "metadata": {},
   "outputs": [
    {
     "data": {
      "text/plain": [
       "'123'"
      ]
     },
     "execution_count": 4,
     "metadata": {},
     "output_type": "execute_result"
    }
   ],
   "source": [
    "def longestOddNumber(s):\n",
    "    for i in range(len(s)-1,-1,-1):\n",
    "        if int(s[i]) % 2 == 1:\n",
    "            return s[:i+1]\n",
    "    return \"\"\n",
    "\n",
    "s = \"1234\"\n",
    "longestOddNumber(s)"
   ]
  },
  {
   "cell_type": "code",
   "execution_count": null,
   "id": "1365c085",
   "metadata": {},
   "outputs": [],
   "source": []
  }
 ],
 "metadata": {
  "kernelspec": {
   "display_name": "Python 3",
   "language": "python",
   "name": "python3"
  },
  "language_info": {
   "codemirror_mode": {
    "name": "ipython",
    "version": 3
   },
   "file_extension": ".py",
   "mimetype": "text/x-python",
   "name": "python",
   "nbconvert_exporter": "python",
   "pygments_lexer": "ipython3",
   "version": "3.12.0"
  }
 },
 "nbformat": 4,
 "nbformat_minor": 5
}
