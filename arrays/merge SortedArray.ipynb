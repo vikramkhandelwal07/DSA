{
 "cells": [
  {
   "cell_type": "code",
   "execution_count": 9,
   "id": "a6f9e975",
   "metadata": {},
   "outputs": [],
   "source": [
    "def mergeArray(nums1,m,nums2,n):\n",
    "  i = m-1\n",
    "  j = n-1\n",
    "  k = m+n-1\n",
    "  while i>= 0 and j>=0:\n",
    "    if nums1[i] > nums2[j]:\n",
    "      nums1[k] =  nums1[i]\n",
    "      i-=1\n",
    "    else:\n",
    "      nums1[k] = nums2[j]\n",
    "      j-=1\n",
    "    k-=1\n",
    "    \n",
    "  while j >= 0:\n",
    "    nums1[k] = nums2[j]\n",
    "    j -= 1\n",
    "    k -= 1\n",
    "    \n",
    "  return nums1"
   ]
  },
  {
   "cell_type": "code",
   "execution_count": 10,
   "id": "bc83fe67",
   "metadata": {},
   "outputs": [
    {
     "name": "stdout",
     "output_type": "stream",
     "text": [
      "[1, 2, 2, 3, 5, 6]\n"
     ]
    }
   ],
   "source": [
    "nums1 = [1,2,3,0,0,0]\n",
    "m = 3\n",
    "nums2 = [2,5,6]\n",
    "n = 3\n",
    "x= mergeArray(nums1,m,nums2,n)\n",
    "print(x)  # Output: [1,2,2,3,5,6]"
   ]
  },
  {
   "cell_type": "code",
   "execution_count": null,
   "id": "865d5d14",
   "metadata": {},
   "outputs": [],
   "source": []
  }
 ],
 "metadata": {
  "kernelspec": {
   "display_name": "Python 3",
   "language": "python",
   "name": "python3"
  },
  "language_info": {
   "codemirror_mode": {
    "name": "ipython",
    "version": 3
   },
   "file_extension": ".py",
   "mimetype": "text/x-python",
   "name": "python",
   "nbconvert_exporter": "python",
   "pygments_lexer": "ipython3",
   "version": "3.12.0"
  }
 },
 "nbformat": 4,
 "nbformat_minor": 5
}
