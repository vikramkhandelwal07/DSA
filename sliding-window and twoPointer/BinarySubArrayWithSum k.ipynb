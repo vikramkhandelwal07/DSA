{
 "cells": [
  {
   "cell_type": "code",
   "execution_count": 4,
   "id": "963b86ef",
   "metadata": {},
   "outputs": [
    {
     "data": {
      "text/plain": [
       "4"
      ]
     },
     "execution_count": 4,
     "metadata": {},
     "output_type": "execute_result"
    }
   ],
   "source": [
    "def numSubarraysWithSum(nums,goal):\n",
    "    def atmost(goal):\n",
    "        if goal < 0:\n",
    "            return 0\n",
    "        \n",
    "        n = len(nums)\n",
    "        r = 0\n",
    "        l = 0\n",
    "        Sum = 0\n",
    "        cnt = 0\n",
    "        while r < n:\n",
    "            Sum += nums[r]\n",
    "            while Sum > goal:\n",
    "                Sum = Sum - nums[l]\n",
    "                l+=1\n",
    "            cnt += r-l+1\n",
    "            r+=1\n",
    "        return cnt\n",
    "\n",
    "    return atmost(goal) - atmost(goal-1)\n",
    "   \n",
    "nums = [1,0,1,0,1]\n",
    "goal = 2\n",
    "numSubarraysWithSum(nums,goal)\n",
    "\n",
    "            "
   ]
  },
  {
   "cell_type": "code",
   "execution_count": null,
   "id": "60829f39",
   "metadata": {},
   "outputs": [],
   "source": []
  }
 ],
 "metadata": {
  "kernelspec": {
   "display_name": "Python 3",
   "language": "python",
   "name": "python3"
  },
  "language_info": {
   "codemirror_mode": {
    "name": "ipython",
    "version": 3
   },
   "file_extension": ".py",
   "mimetype": "text/x-python",
   "name": "python",
   "nbconvert_exporter": "python",
   "pygments_lexer": "ipython3",
   "version": "3.12.0"
  }
 },
 "nbformat": 4,
 "nbformat_minor": 5
}
