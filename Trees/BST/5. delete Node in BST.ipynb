{
 "cells": [
  {
   "cell_type": "code",
   "execution_count": null,
   "id": "1048082f",
   "metadata": {},
   "outputs": [],
   "source": [
    "def findInorderSuccessor(root):\n",
    "    while root.left:\n",
    "        root = root.left\n",
    "    return root\n",
    "\n",
    "def delete(root, val):\n",
    "    if root is None:\n",
    "        return root\n",
    "\n",
    "    if root.value < val:\n",
    "        root.right = delete(root.right, val)\n",
    "    elif root.value > val:\n",
    "        root.left = delete(root.left, val)\n",
    "    else:\n",
    "        # Case 1: Leaf Node\n",
    "        if root.left is None and root.right is None:\n",
    "            return None\n",
    "        # Case 2: One Child\n",
    "        if root.left is None:\n",
    "            return root.right\n",
    "        if root.right is None:\n",
    "            return root.left\n",
    "        # Case 3: Two Children\n",
    "        inorder_successor = findInorderSuccessor(root.right)\n",
    "        root.value = inorder_successor.value\n",
    "        root.right = delete(root.right, inorder_successor.value)\n",
    "\n",
    "    return root"
   ]
  },
  {
   "cell_type": "code",
   "execution_count": 1,
   "id": "0dd792ec",
   "metadata": {},
   "outputs": [],
   "source": [
    "def findInorderSuccessor(root):\n",
    "    while root.left:\n",
    "        root = root.left\n",
    "    return root\n",
    "\n",
    "def deleteNode(root,val):\n",
    "    if root is None:\n",
    "        return root\n",
    "    if root.value < val:\n",
    "        root.right = deleteNode(root.right,val)\n",
    "    elif root.value > val:\n",
    "        root.left = deleteNode(root.left,val)\n",
    "    else:\n",
    "        if root.left is None and root.right is None:\n",
    "            return None\n",
    "        if root.left is None:\n",
    "            return root.right\n",
    "        if root.right is None:\n",
    "            return root.left\n",
    "        inorder_successor = findInorderSuccessor(root.right)\n",
    "        root.value = inorder_successor.value\n",
    "        root.right = delete(root.right, inorder_successor.value)\n",
    "\n",
    "    return root\n",
    "    "
   ]
  },
  {
   "cell_type": "code",
   "execution_count": null,
   "id": "b6d345a9",
   "metadata": {},
   "outputs": [],
   "source": []
  }
 ],
 "metadata": {
  "kernelspec": {
   "display_name": "Python 3",
   "language": "python",
   "name": "python3"
  },
  "language_info": {
   "codemirror_mode": {
    "name": "ipython",
    "version": 3
   },
   "file_extension": ".py",
   "mimetype": "text/x-python",
   "name": "python",
   "nbconvert_exporter": "python",
   "pygments_lexer": "ipython3",
   "version": "3.12.0"
  }
 },
 "nbformat": 4,
 "nbformat_minor": 5
}
