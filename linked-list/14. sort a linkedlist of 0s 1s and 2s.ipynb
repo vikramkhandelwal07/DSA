{
 "cells": [
  {
   "cell_type": "markdown",
   "metadata": {},
   "source": [
    "## Brute Force"
   ]
  },
  {
   "cell_type": "code",
   "execution_count": 1,
   "metadata": {},
   "outputs": [],
   "source": [
    "class Node:\n",
    "    def __init__(self, value):\n",
    "        self.value = value\n",
    "        self.next = None\n",
    "        self.prev = None\n",
    "\n",
    "def arrayToLinkedList(nums):\n",
    "    if not nums:\n",
    "        return None\n",
    "    \n",
    "    head = Node(nums[0])\n",
    "    current = head\n",
    "    for number in nums[1:]:\n",
    "        new_node = Node(number)\n",
    "        current.next = new_node\n",
    "        new_node.prev = current\n",
    "        current = new_node\n",
    "    return head\n",
    "\n",
    "def print_list(head):\n",
    "    current = head\n",
    "    while current:\n",
    "        print(f\"{current.value}\", end=\" <-> \" if current.next else \"\")\n",
    "        current = current.next\n",
    "    print()"
   ]
  },
  {
   "cell_type": "code",
   "execution_count": null,
   "metadata": {},
   "outputs": [],
   "source": [
    "def segregate(head):\n",
    "    #code here\n",
    "    current = head\n",
    "    cnt0 = 0\n",
    "    cnt1 = 0\n",
    "    cnt2 = 0\n",
    "    while current:\n",
    "        if current.value == 0:\n",
    "            cnt0 +=1\n",
    "        elif current.value == 1:\n",
    "            cnt1+=1\n",
    "        else:\n",
    "            cnt2+=1\n",
    "        current = current.next\n",
    "      \n",
    "    current = head\n",
    "  \n",
    "    while current:\n",
    "        if cnt0:\n",
    "            current.value = 0\n",
    "            cnt0-=1\n",
    "        elif cnt1:\n",
    "            current.value = 1\n",
    "            cnt1 -=1\n",
    "        elif cnt2:\n",
    "            current.value = 2\n",
    "            cnt2-=1\n",
    "        current = current.next\n",
    "    \n",
    "    return head\n",
    "          \n",
    "  "
   ]
  },
  {
   "cell_type": "markdown",
   "metadata": {},
   "source": [
    "## Optimal"
   ]
  },
  {
   "cell_type": "code",
   "execution_count": 3,
   "metadata": {},
   "outputs": [],
   "source": [
    "def segregate(head):\n",
    "    if not head or not head.next:\n",
    "        return head\n",
    "\n",
    "    zerohead = Node(-1)\n",
    "    zero = zerohead\n",
    "\n",
    "    onehead = Node(-1)\n",
    "    one = onehead\n",
    "\n",
    "    twohead = Node(-1)\n",
    "    two = twohead\n",
    "\n",
    "    current = head\n",
    "\n",
    "    while current:\n",
    "        if current.value == 0:\n",
    "            zero.next = current\n",
    "            zero = current\n",
    "        elif current.value == 1:\n",
    "            one.next = current\n",
    "            one = current\n",
    "        else:\n",
    "            two.next = current\n",
    "            two = current\n",
    "\n",
    "        current = current.next\n",
    "\n",
    "    zero.next = onehead.next if onehead.next else twohead.next\n",
    "    one.next = twohead.next\n",
    "    two.next = None  # Terminate the list\n",
    "\n",
    "    new_head = zerohead.next\n",
    "\n",
    "    return new_head\n"
   ]
  },
  {
   "cell_type": "code",
   "execution_count": 4,
   "metadata": {},
   "outputs": [
    {
     "name": "stdout",
     "output_type": "stream",
     "text": [
      "Doubly Linked List  Initially:\n",
      "1 <-> 2 <-> 2 <-> 1 <-> 0 <-> 0 <-> 0 <-> 2 <-> 2 <-> 1 <-> 1\n",
      "list after sorting using brute force\n",
      "0 <-> 0 <-> 0 <-> 1 <-> 1 <-> 1 <-> 1 <-> 2 <-> 2 <-> 2 <-> 2\n"
     ]
    }
   ],
   "source": [
    "arr1 = [1,2,2,1,0,0,0,2,2,1,1]  \n",
    "head1 = arrayToLinkedList(arr1)\n",
    "print(\"Doubly Linked List  Initially:\")\n",
    "print_list(head1)\n",
    "\n",
    "output = segregate(head1)\n",
    "print(\"list after sorting using brute force\")\n",
    "\n",
    "print_list(output)"
   ]
  },
  {
   "cell_type": "code",
   "execution_count": null,
   "metadata": {},
   "outputs": [],
   "source": []
  },
  {
   "cell_type": "code",
   "execution_count": null,
   "metadata": {},
   "outputs": [],
   "source": []
  }
 ],
 "metadata": {
  "kernelspec": {
   "display_name": "Python 3",
   "language": "python",
   "name": "python3"
  },
  "language_info": {
   "codemirror_mode": {
    "name": "ipython",
    "version": 3
   },
   "file_extension": ".py",
   "mimetype": "text/x-python",
   "name": "python",
   "nbconvert_exporter": "python",
   "pygments_lexer": "ipython3",
   "version": "3.12.0"
  }
 },
 "nbformat": 4,
 "nbformat_minor": 2
}
