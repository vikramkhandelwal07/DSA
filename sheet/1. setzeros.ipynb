{
 "cells": [
  {
   "cell_type": "code",
   "execution_count": 1,
   "id": "edec9a3d",
   "metadata": {},
   "outputs": [
    {
     "name": "stdout",
     "output_type": "stream",
     "text": [
      "The Final matrix is:\n",
      "1 0 1 0 0 0 1 0 1 \n"
     ]
    }
   ],
   "source": [
    "\n",
    "def setZeroes(matrix):\n",
    "    col0 = 1\n",
    "    n = len(matrix)\n",
    "    m = len(matrix[0])\n",
    "\n",
    "    # Step 1: Mark the rows and columns that need to be zeroed\n",
    "    for i in range(n):\n",
    "        for j in range(m):\n",
    "            if matrix[i][j] == 0:\n",
    "                matrix[i][0] = 0\n",
    "                if j == 0:\n",
    "                    col0 = 0\n",
    "                else:\n",
    "                    matrix[0][j] = 0\n",
    "\n",
    "    # Step 2: Use markers to set inner matrix cells to zero\n",
    "    for i in range(1, n):\n",
    "        for j in range(1, m):\n",
    "            if matrix[i][0] == 0 or matrix[0][j] == 0:\n",
    "                matrix[i][j] = 0\n",
    "\n",
    "    # Step 3: Zero out the first row if needed\n",
    "    if matrix[0][0] == 0:\n",
    "        for j in range(m):\n",
    "            matrix[0][j] = 0\n",
    "\n",
    "    # Step 4: Zero out the first column if needed\n",
    "    if col0 == 0:\n",
    "        for i in range(n):\n",
    "            matrix[i][0] = 0\n",
    "\n",
    "    return matrix\n",
    "\n",
    "matrix = [[1, 1, 1], [1, 0, 1], [1, 1, 1]]\n",
    "\n",
    "ans = setZeroes(matrix)\n",
    "print(\"The Final matrix is:\")\n",
    "for row in ans:\n",
    "  for ele in row:\n",
    "    print(ele, end=\" \")\n",
    "print(\"\")\n",
    " "
   ]
  },
  {
   "cell_type": "code",
   "execution_count": 2,
   "id": "f61a5f78",
   "metadata": {},
   "outputs": [
    {
     "name": "stdout",
     "output_type": "stream",
     "text": [
      "The Final matrix is:\n",
      "1 0 1 0 0 0 1 0 1 \n"
     ]
    }
   ],
   "source": [
    "\n",
    "def setZeroes(matrix):\n",
    "    col0 = 1\n",
    "    n = len(matrix)\n",
    "    m = len(matrix[0])\n",
    "\n",
    "    # Step 1: Mark the rows and columns that need to be zeroed\n",
    "    for i in range(n):\n",
    "        for j in range(m):\n",
    "            if matrix[i][j] == 0:\n",
    "                matrix[i][0] = 0\n",
    "                if j == 0:\n",
    "                    col0 = 0\n",
    "                else:\n",
    "                    matrix[0][j] = 0\n",
    "\n",
    "    # Step 2: Use markers to set inner matrix cells to zero\n",
    "    for i in range(1, n):\n",
    "        for j in range(1, m):\n",
    "            if matrix[i][0] == 0 or matrix[0][j] == 0:\n",
    "                matrix[i][j] = 0\n",
    "\n",
    "    # Step 3: Zero out the first row if needed\n",
    "    if matrix[0][0] == 0:\n",
    "        for j in range(m):\n",
    "            matrix[0][j] = 0\n",
    "\n",
    "    # Step 4: Zero out the first column if needed\n",
    "    if col0 == 0:\n",
    "        for i in range(n):\n",
    "            matrix[i][0] = 0\n",
    "\n",
    "    return matrix\n",
    "\n",
    "matrix = [[1, 1, 1], [1, 0, 1], [1, 1, 1]]\n",
    "\n",
    "ans = setZeroes(matrix)\n",
    "print(\"The Final matrix is:\")\n",
    "for row in ans:\n",
    "  for ele in row:\n",
    "    print(ele, end=\" \")\n",
    "print(\"\")\n",
    " "
   ]
  },
  {
   "cell_type": "code",
   "execution_count": null,
   "id": "4909597b",
   "metadata": {},
   "outputs": [],
   "source": []
  }
 ],
 "metadata": {
  "kernelspec": {
   "display_name": "Python 3",
   "language": "python",
   "name": "python3"
  },
  "language_info": {
   "codemirror_mode": {
    "name": "ipython",
    "version": 3
   },
   "file_extension": ".py",
   "mimetype": "text/x-python",
   "name": "python",
   "nbconvert_exporter": "python",
   "pygments_lexer": "ipython3",
   "version": "3.12.0"
  }
 },
 "nbformat": 4,
 "nbformat_minor": 5
}
