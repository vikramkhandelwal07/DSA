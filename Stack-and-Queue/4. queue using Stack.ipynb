{
 "cells": [
  {
   "cell_type": "markdown",
   "metadata": {},
   "source": [
    "# Queue using Stack"
   ]
  },
  {
   "cell_type": "code",
   "execution_count": 4,
   "metadata": {},
   "outputs": [
    {
     "name": "stdout",
     "output_type": "stream",
     "text": [
      "Queue: [1, 2, 3, 4]\n",
      "Dequeued: 1\n",
      "Queue: [2, 3, 4]\n",
      "Front element: 2\n",
      "Is empty: False\n"
     ]
    }
   ],
   "source": [
    "class QueueUsingStack:\n",
    "  def __init__(self):\n",
    "    self.stack1 = []\n",
    "    self.stack2 = []\n",
    "    \n",
    "  def enqueue(self,data):\n",
    "    \"\"\"Push data to stack1.\"\"\"\n",
    "    self.stack1.append(data)\n",
    "    \n",
    "  def dequeue(self):\n",
    "    if not self.stack2:\n",
    "      if not self.stack1:\n",
    "        print(\"Queue Underflow: Cannot dequeue, queue is empty.\")\n",
    "        return -1\n",
    "      while self.stack1:\n",
    "        self.stack2.append(self.stack1.pop())\n",
    "    return self.stack2.pop()\n",
    "    \n",
    "  def top(self):\n",
    "    if not self.stack2:\n",
    "      if not self.stack1:\n",
    "        print(\"Queue is empty.\")\n",
    "        return None\n",
    "      while self.stack1:\n",
    "        self.stack2.append(self.stack1.pop())\n",
    "    return self.stack2[-1]\n",
    "\n",
    "  \n",
    "  def is_empty(self):\n",
    "    \"\"\"Check if the queue is empty.\"\"\"\n",
    "    return not self.stack1 and not self.stack2\n",
    "\n",
    "  def display(self):\n",
    "    \"\"\"Display the queue elements.\"\"\"\n",
    "    if self.is_empty():\n",
    "      print(\"Queue is empty.\")\n",
    "    else:\n",
    "      queue_representation = self.stack2[::-1] + self.stack1\n",
    "      print(\"Queue:\", queue_representation)\n",
    "\n",
    "# Example usage\n",
    "if __name__ == \"__main__\":\n",
    "  q = QueueUsingStack()\n",
    "  q.enqueue(1)\n",
    "  q.enqueue(2)\n",
    "  q.enqueue(3)\n",
    "  q.enqueue(4)\n",
    "  q.display()\n",
    "  print(\"Dequeued:\", q.dequeue())\n",
    "  q.display()\n",
    "  print(\"Front element:\", q.top())\n",
    "  print(\"Is empty:\", q.is_empty())"
   ]
  },
  {
   "cell_type": "code",
   "execution_count": null,
   "metadata": {},
   "outputs": [],
   "source": []
  },
  {
   "cell_type": "code",
   "execution_count": null,
   "metadata": {},
   "outputs": [],
   "source": []
  }
 ],
 "metadata": {
  "kernelspec": {
   "display_name": "Python 3",
   "language": "python",
   "name": "python3"
  },
  "language_info": {
   "codemirror_mode": {
    "name": "ipython",
    "version": 3
   },
   "file_extension": ".py",
   "mimetype": "text/x-python",
   "name": "python",
   "nbconvert_exporter": "python",
   "pygments_lexer": "ipython3",
   "version": "3.12.0"
  }
 },
 "nbformat": 4,
 "nbformat_minor": 2
}
