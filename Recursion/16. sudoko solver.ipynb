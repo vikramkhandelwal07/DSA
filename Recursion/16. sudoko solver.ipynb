{
 "cells": [
  {
   "cell_type": "code",
   "execution_count": 1,
   "metadata": {},
   "outputs": [],
   "source": [
    "from typing import List\n",
    "\n",
    "def isValid(board,row,col,c):\n",
    "  block_row_start = 3 * (row // 3)\n",
    "  block_col_start = 3 * (col // 3)\n",
    "  for i in range(9):\n",
    "    # Check the row and column\n",
    "    if board[row][i] == c or board[i][col] == c:\n",
    "        return False\n",
    "    # Check the 3x3 block\n",
    "    if board[block_row_start + i // 3][block_col_start + i % 3] == c:\n",
    "        return False\n",
    "  return True\n",
    "\n",
    "\n",
    "def solveSudoku(board):\n",
    "  \"solving using backtracking\"\n",
    "  for row in range(9):\n",
    "    for col in range(9):\n",
    "      if board[row][col] == \".\":\n",
    "        # Try filling the cell with numbers 1 to 9\n",
    "        for c in \"123456789\":\n",
    "          if isValid(board,row,col,c):\n",
    "            board[row][col] = c\n",
    "            if solveSudoku(board):   # again doing the recursion\n",
    "              return True\n",
    "            # Undo the current cell for backtracking\n",
    "            board[row][col] = \".\"\n",
    "             # If no number works, return False (backtracking step)\n",
    "        return False\n",
    "        # If the entire board is filled correctly, return True\n",
    "  return True\n",
    "  \n",
    "      \n",
    "  \n"
   ]
  },
  {
   "cell_type": "code",
   "execution_count": 2,
   "metadata": {},
   "outputs": [
    {
     "name": "stdout",
     "output_type": "stream",
     "text": [
      "Solved Sudoku Board:\n",
      "9 5 7 6 1 3 2 8 4\n",
      "4 8 3 2 5 7 1 9 6\n",
      "6 1 2 8 4 9 5 3 7\n",
      "1 7 8 3 6 4 9 5 2\n",
      "5 2 4 9 7 1 3 6 8\n",
      "3 6 9 5 2 8 7 4 1\n",
      "8 4 5 7 9 2 6 1 3\n",
      "2 9 1 4 3 6 8 7 5\n",
      "7 3 6 1 8 5 4 2 9\n"
     ]
    }
   ],
   "source": [
    "def printBoard(board: List[List[str]]) -> None:\n",
    "    \"\"\"\n",
    "    Print the Sudoku board in a readable format.\n",
    "    \"\"\"\n",
    "    for row in board:\n",
    "        print(\" \".join(row))\n",
    "\n",
    "\n",
    "if __name__ == \"__main__\":\n",
    "    board = [\n",
    "        [\"9\", \"5\", \"7\", \".\", \"1\", \"3\", \".\", \"8\", \"4\"],\n",
    "        [\"4\", \"8\", \"3\", \".\", \"5\", \"7\", \"1\", \".\", \"6\"],\n",
    "        [\".\", \"1\", \"2\", \".\", \"4\", \"9\", \"5\", \"3\", \"7\"],\n",
    "        [\"1\", \"7\", \".\", \"3\", \".\", \"4\", \"9\", \".\", \"2\"],\n",
    "        [\"5\", \".\", \"4\", \"9\", \"7\", \".\", \"3\", \"6\", \".\"],\n",
    "        [\"3\", \".\", \"9\", \"5\", \".\", \"8\", \"7\", \".\", \"1\"],\n",
    "        [\"8\", \"4\", \"5\", \"7\", \"9\", \".\", \"6\", \"1\", \"3\"],\n",
    "        [\".\", \"9\", \"1\", \".\", \"3\", \"6\", \".\", \"7\", \"5\"],\n",
    "        [\"7\", \".\", \"6\", \"1\", \"8\", \"5\", \"4\", \".\", \"9\"],\n",
    "    ]\n",
    "\n",
    "    if solveSudoku(board):\n",
    "        print(\"Solved Sudoku Board:\")\n",
    "        printBoard(board)\n",
    "    else:\n",
    "        print(\"No solution exists!\")"
   ]
  },
  {
   "cell_type": "code",
   "execution_count": null,
   "metadata": {},
   "outputs": [],
   "source": []
  }
 ],
 "metadata": {
  "kernelspec": {
   "display_name": "Python 3",
   "language": "python",
   "name": "python3"
  },
  "language_info": {
   "codemirror_mode": {
    "name": "ipython",
    "version": 3
   },
   "file_extension": ".py",
   "mimetype": "text/x-python",
   "name": "python",
   "nbconvert_exporter": "python",
   "pygments_lexer": "ipython3",
   "version": "3.12.0"
  }
 },
 "nbformat": 4,
 "nbformat_minor": 2
}
