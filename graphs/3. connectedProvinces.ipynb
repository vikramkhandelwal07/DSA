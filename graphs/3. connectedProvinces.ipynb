{
 "cells": [
  {
   "cell_type": "markdown",
   "id": "71ddeafd",
   "metadata": {},
   "source": [
    "- TC - On + O(V+2E) ~= 0(N)\n",
    "- SC - O(n) +O(n)"
   ]
  },
  {
   "cell_type": "code",
   "execution_count": null,
   "id": "8af741c8",
   "metadata": {},
   "outputs": [],
   "source": [
    "def findCircleNum(isConnected):\n",
    "  \n",
    "  def DFS(city):\n",
    "    for neighbour in range(len(isConnected)):\n",
    "      if isConnected[city][neighbour] == 1 and neighbour not in visited:\n",
    "        visited.add(neighbour)\n",
    "        DFS(neighbour)\n",
    "\n",
    "  visited = set()\n",
    "  provinces = 0\n",
    "\n",
    "  for city in range(len(isConnected)):\n",
    "    if city not in visited:\n",
    "      visited.add(city)\n",
    "      DFS(city)\n",
    "      provinces += 1\n",
    "  return provinces"
   ]
  },
  {
   "cell_type": "code",
   "execution_count": 4,
   "id": "f537db6a",
   "metadata": {},
   "outputs": [
    {
     "name": "stdout",
     "output_type": "stream",
     "text": [
      "0\n",
      "{0}\n",
      "1\n",
      "2\n",
      "{0, 1, 2}\n"
     ]
    },
    {
     "data": {
      "text/plain": [
       "2"
      ]
     },
     "execution_count": 4,
     "metadata": {},
     "output_type": "execute_result"
    }
   ],
   "source": [
    "isConnected = [[1,1,0],[1,1,0],[0,0,1]]\n",
    "findCircleNum(isConnected)"
   ]
  },
  {
   "cell_type": "markdown",
   "id": "fed13007",
   "metadata": {},
   "source": [
    "SC - O(2N)\n",
    "TC - O(N) + O(V+2E) ~ O(N)"
   ]
  },
  {
   "cell_type": "code",
   "execution_count": null,
   "id": "4096149a",
   "metadata": {},
   "outputs": [],
   "source": [
    "from typing import List\n",
    "\n",
    "class Solution:\n",
    "    def findCircleNum(self, isConnected: List[List[int]]) -> int:\n",
    "        def adjList(matrix):\n",
    "            n = len(matrix)\n",
    "            adj = {i: [] for i in range(n)}\n",
    "\n",
    "            for i in range(n):\n",
    "                for j in range(n):\n",
    "                    if matrix[i][j] == 1 and i != j:\n",
    "                        adj[i].append(j)\n",
    "            \n",
    "            return adj\n",
    "\n",
    "        def dfs(node):\n",
    "            for neighbor in adj[node]:\n",
    "                if neighbor not in visited:\n",
    "                    visited.add(neighbor)\n",
    "                    dfs(neighbor)\n",
    "\n",
    "        adj = adjList(isConnected)\n",
    "        visited = set()\n",
    "        ans = 0\n",
    "\n",
    "        for city in range(len(isConnected)):\n",
    "            if city not in visited:\n",
    "                visited.add(city)\n",
    "                dfs(city)\n",
    "                ans += 1\n",
    "\n",
    "        return ans\n"
   ]
  },
  {
   "cell_type": "code",
   "execution_count": null,
   "id": "61b3bca5",
   "metadata": {},
   "outputs": [
    {
     "name": "stdout",
     "output_type": "stream",
     "text": [
      "{0: [], 1: [], 2: []}\n"
     ]
    },
    {
     "data": {
      "text/plain": [
       "{0: [1], 1: [0], 2: []}"
      ]
     },
     "execution_count": 7,
     "metadata": {},
     "output_type": "execute_result"
    }
   ],
   "source": [
    "def adjList(matrix):\n",
    "        n = len(matrix)\n",
    "        adj = {i:[] for i in range(n)}\n",
    "        for i in range(n):\n",
    "            for j in range(n):\n",
    "                if matrix[i][j] == 1 and i!=j:\n",
    "                    adj[i].append(j)\n",
    "        \n",
    "        return adj\n",
    "    \n",
    "isConnected = [[1,1,0],[1,1,0],[0,0,1]]\n",
    "adjList(isConnected)  "
   ]
  },
  {
   "cell_type": "code",
   "execution_count": null,
   "id": "a7991881",
   "metadata": {},
   "outputs": [],
   "source": []
  }
 ],
 "metadata": {
  "kernelspec": {
   "display_name": "Python 3",
   "language": "python",
   "name": "python3"
  },
  "language_info": {
   "codemirror_mode": {
    "name": "ipython",
    "version": 3
   },
   "file_extension": ".py",
   "mimetype": "text/x-python",
   "name": "python",
   "nbconvert_exporter": "python",
   "pygments_lexer": "ipython3",
   "version": "3.12.0"
  }
 },
 "nbformat": 4,
 "nbformat_minor": 5
}
