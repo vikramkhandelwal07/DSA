{
 "cells": [
  {
   "cell_type": "markdown",
   "id": "d4cc3250",
   "metadata": {},
   "source": [
    "## Binary Tree"
   ]
  },
  {
   "cell_type": "code",
   "execution_count": 2,
   "id": "f1e1c336",
   "metadata": {},
   "outputs": [],
   "source": [
    "class Node:\n",
    "    def __init__(self,value):\n",
    "        self.value = value\n",
    "        self.left = None\n",
    "        self.right = None"
   ]
  },
  {
   "cell_type": "markdown",
   "id": "768554e3",
   "metadata": {},
   "source": [
    "### preOrder Traversal"
   ]
  },
  {
   "cell_type": "code",
   "execution_count": 3,
   "id": "d2f7bbae",
   "metadata": {},
   "outputs": [
    {
     "name": "stdout",
     "output_type": "stream",
     "text": [
      "Preorder Traversal:\n",
      "[1, 2, 4, 8, 9, 5, 10, 11, 3, 6, 12, 7, 13, 14]\n"
     ]
    }
   ],
   "source": [
    "def preorder(root,arr):\n",
    "    if not root:\n",
    "        return \n",
    "    arr.append(root.value)\n",
    "    preorder(root.left,arr)\n",
    "    preorder(root.right,arr)\n",
    "    \n",
    "def preOrder(root):\n",
    "    arr = []\n",
    "    preorder(root,arr)\n",
    "    return arr\n",
    "\n",
    "if __name__ == \"__main__\":\n",
    "    root = Node(1)\n",
    "    root.left = Node(2)\n",
    "    root.right = Node(3)\n",
    "    root.left.left = Node(4)\n",
    "    root.left.right = Node(5)\n",
    "    root.right.left = Node(6)\n",
    "    root.right.right = Node(7)\n",
    "    root.left.left.left = Node(8)\n",
    "    root.left.left.right = Node(9)\n",
    "    root.left.right.left = Node(10)\n",
    "    root.left.right.right = Node(11)\n",
    "    root.right.left.right = Node(12)\n",
    "    root.right.right.left = Node(13)\n",
    "    root.right.right.right = Node(14)\n",
    "\n",
    "    result = preOrder(root)\n",
    "\n",
    "    print(\"Preorder Traversal:\")\n",
    "    print(result)"
   ]
  },
  {
   "cell_type": "markdown",
   "id": "d51840ec",
   "metadata": {},
   "source": [
    "## Preorder Iterative"
   ]
  },
  {
   "cell_type": "code",
   "execution_count": 5,
   "id": "8f540aae",
   "metadata": {},
   "outputs": [
    {
     "name": "stdout",
     "output_type": "stream",
     "text": [
      "Preorder Traversal: 1 2 3 4 5 6 7 \n"
     ]
    }
   ],
   "source": [
    "def preOrderIterative(root):\n",
    "    ans= []\n",
    "    if not root:\n",
    "        return ans\n",
    "    stack = []\n",
    "    stack.append(root)\n",
    "    \n",
    "    while stack:\n",
    "        root = stack.pop()\n",
    "        ans.append(root.value)\n",
    "        if root.right:\n",
    "            stack.append(root.right)\n",
    "        if root.left:\n",
    "            stack.append(root.left)\n",
    "    \n",
    "    return ans\n",
    "\n",
    "root = Node(1)\n",
    "root.left = Node(2)\n",
    "root.right = Node(7)\n",
    "root.left.left = Node(3)\n",
    "root.left.right = Node(4)\n",
    "root.left.right.left = Node(5)\n",
    "root.left.right.right = Node(6)\n",
    "\n",
    "result = preOrderIterative(root)\n",
    "\n",
    "print(\"Preorder Traversal:\", end=\" \")\n",
    "for val in result:\n",
    "    print(val, end=\" \")\n",
    "print()\n",
    "        "
   ]
  },
  {
   "cell_type": "markdown",
   "id": "9073dc9a",
   "metadata": {},
   "source": [
    "## Inorder Traversal"
   ]
  },
  {
   "cell_type": "code",
   "execution_count": 6,
   "id": "0c6f7e92",
   "metadata": {},
   "outputs": [],
   "source": [
    "def inorder(root,arr):\n",
    "    if not root:\n",
    "        return \n",
    "    inorder(root.left,arr)\n",
    "    arr.append(root.value)\n",
    "    inorder(root.right,arr)\n",
    "    \n",
    "def inorderTraversal(root):\n",
    "    arr = []\n",
    "    inorder(root,arr)\n",
    "    return arr\n",
    "\n",
    "    "
   ]
  },
  {
   "cell_type": "markdown",
   "id": "4bc793d5",
   "metadata": {},
   "source": [
    "## InorderIterative"
   ]
  },
  {
   "cell_type": "code",
   "execution_count": null,
   "id": "3214a7f4",
   "metadata": {},
   "outputs": [],
   "source": [
    "def inorderIterative(root):\n",
    "    ans = []\n",
    "    stack = []\n",
    "    curr = root\n",
    "\n",
    "    while curr or stack:\n",
    "        while curr:\n",
    "            stack.append(curr)\n",
    "            curr = curr.left\n",
    "        \n",
    "        curr = stack.pop()\n",
    "        ans.append(curr.value)\n",
    "        curr = curr.right\n",
    "\n",
    "    return ans\n"
   ]
  },
  {
   "cell_type": "markdown",
   "id": "32df7e9f",
   "metadata": {},
   "source": [
    "## Post Order Traversal"
   ]
  },
  {
   "cell_type": "code",
   "execution_count": null,
   "id": "ae55789e",
   "metadata": {},
   "outputs": [],
   "source": [
    "def postOrderTraversal(root):\n",
    "    arr =[]\n",
    "    postorder(root,arr)\n",
    "    return arr\n",
    "\n",
    "\n",
    "def postorder(root,arr):\n",
    "    if not root:\n",
    "        return \n",
    "    postorder(root.left,arr)\n",
    "    postorder(root.right,arr)\n",
    "    arr.append(root.value)\n",
    "    "
   ]
  },
  {
   "cell_type": "markdown",
   "id": "4614e887",
   "metadata": {},
   "source": [
    "## postOrderIterative"
   ]
  },
  {
   "cell_type": "code",
   "execution_count": 7,
   "id": "ca9d7956",
   "metadata": {},
   "outputs": [],
   "source": [
    "def postOrderIterative(root):\n",
    "    if not root:\n",
    "        return\n",
    "    \n",
    "    stack1 = [root]\n",
    "    stack2 = []\n",
    "    ans = []\n",
    "    \n",
    "    while stack1:\n",
    "        node = stack1.pop()\n",
    "        stack2.append(node)\n",
    "        \n",
    "        if node.left:\n",
    "            stack1.append(node.left)\n",
    "        if node.right:\n",
    "            stack2.append(node.right)\n",
    "    \n",
    "    while stack2:\n",
    "        ans.append(stack2.pop().value)\n",
    "        \n",
    "    return ans\n",
    "        "
   ]
  },
  {
   "cell_type": "markdown",
   "id": "19bc0936",
   "metadata": {},
   "source": [
    "## postorderIterative 2"
   ]
  },
  {
   "cell_type": "code",
   "execution_count": 1,
   "id": "9c75effc",
   "metadata": {},
   "outputs": [
    {
     "name": "stdout",
     "output_type": "stream",
     "text": [
      "[4, 5, 2, 3, 1]\n"
     ]
    }
   ],
   "source": [
    "class Node:\n",
    "    def __init__(self, val):\n",
    "        self.val = val\n",
    "        self.left = None\n",
    "        self.right = None\n",
    "\n",
    "def postorderIterative(root):\n",
    "    ans = []\n",
    "    stack = []\n",
    "    last_visited = None\n",
    "    current = root\n",
    "\n",
    "    while stack or current:\n",
    "        if current:\n",
    "            stack.append(current)\n",
    "            current = current.left\n",
    "        else:\n",
    "            peek = stack[-1]\n",
    "            if peek.right and last_visited != peek.right:\n",
    "                current = peek.right\n",
    "            else:\n",
    "                ans.append(peek.val)\n",
    "                last_visited = stack.pop()\n",
    "    return ans\n",
    "\n",
    "# Example\n",
    "root = Node(1)\n",
    "root.left = Node(2)\n",
    "root.right = Node(3)\n",
    "root.left.left = Node(4)\n",
    "root.left.right = Node(5)\n",
    "\n",
    "print(postorderIterative(root))  # Output: [4, 5, 2, 3, 1]\n"
   ]
  },
  {
   "cell_type": "markdown",
   "id": "054f47ca",
   "metadata": {},
   "source": [
    "## Level Order "
   ]
  },
  {
   "cell_type": "code",
   "execution_count": null,
   "id": "b8c8dc64",
   "metadata": {},
   "outputs": [],
   "source": [
    "from collections import deque\n",
    "\n",
    "def levelOrderTraversal(root):\n",
    "    ans = []\n",
    "    if not root:\n",
    "        return ans\n",
    "    q = deque()\n",
    "    q.append(root)\n",
    "    \n",
    "    while q:\n",
    "        sizeOfQueue = len(q)\n",
    "        level = []\n",
    "        for i in range(sizeOfQueue):\n",
    "            node = q.popleft()\n",
    "            level.append(node.value)\n",
    "            if node.left:\n",
    "                q.append(node.left)\n",
    "            if node.right:\n",
    "                q.append(node.right)\n",
    "    ans.append(level)\n",
    "    return ans\n",
    "            \n",
    "            "
   ]
  },
  {
   "cell_type": "markdown",
   "id": "bf150b99",
   "metadata": {},
   "source": [
    "## Pre In Post order traversal together"
   ]
  },
  {
   "cell_type": "code",
   "execution_count": 6,
   "id": "95ef9463",
   "metadata": {},
   "outputs": [
    {
     "name": "stdout",
     "output_type": "stream",
     "text": [
      "Preorder: [1, 2, 4, 5, 3]\n",
      "Inorder: [4, 2, 5, 1, 3]\n",
      "Postorder: [4, 5, 2, 3, 1]\n"
     ]
    }
   ],
   "source": [
    "class Node:\n",
    "    def __init__(self, val):\n",
    "        self.val = val\n",
    "        self.left = None\n",
    "        self.right = None\n",
    "\n",
    "def allTraversal(root):\n",
    "    if not root:\n",
    "        return [], [], []\n",
    "    \n",
    "    stack = [(root, 1)]\n",
    "    pre = []\n",
    "    ino = []\n",
    "    post = []\n",
    "\n",
    "    while stack:\n",
    "        node, state = stack.pop()\n",
    "        if state == 1:\n",
    "            pre.append(node.val)\n",
    "            stack.append((node, 2))\n",
    "            if node.left:\n",
    "                stack.append((node.left, 1))\n",
    "        elif state == 2:\n",
    "            ino.append(node.val)\n",
    "            stack.append((node, 3))\n",
    "            if node.right:\n",
    "                stack.append((node.right, 1))\n",
    "        else:\n",
    "            post.append(node.val)\n",
    "\n",
    "    return pre, ino, post\n",
    "\n",
    "# Example\n",
    "root = Node(1)\n",
    "root.left = Node(2)\n",
    "root.right = Node(3)\n",
    "root.left.left = Node(4)\n",
    "root.left.right = Node(5)\n",
    "\n",
    "pre, ino, post = allTraversal(root)\n",
    "print(\"Preorder:\", pre)    # [1, 2, 4, 5, 3]\n",
    "print(\"Inorder:\", ino)     # [4, 2, 5, 1, 3]\n",
    "print(\"Postorder:\", post)  # [4, 5, 2, 3, 1]\n"
   ]
  },
  {
   "cell_type": "markdown",
   "id": "76b06461",
   "metadata": {},
   "source": [
    "## Height of tree"
   ]
  },
  {
   "cell_type": "code",
   "execution_count": 7,
   "id": "05fc62f4",
   "metadata": {},
   "outputs": [],
   "source": [
    "def height(root):\n",
    "        if not root:\n",
    "            return 0  \n",
    "        \n",
    "        lh = height(root.left)   \n",
    "        rh = height(root.right)  \n",
    "        \n",
    "        return max(lh, rh) + 1  "
   ]
  },
  {
   "cell_type": "markdown",
   "id": "b7a3c146",
   "metadata": {},
   "source": [
    "## isTree balanced"
   ]
  },
  {
   "cell_type": "code",
   "execution_count": 9,
   "id": "eb03effa",
   "metadata": {},
   "outputs": [],
   "source": [
    "def check(root):\n",
    "    if not root:\n",
    "        return 0  # height of empty tree is 0\n",
    "\n",
    "    lh = check(root.left)\n",
    "    if lh == -1:  # left subtree is unbalanced\n",
    "        return -1\n",
    "\n",
    "    rh = check(root.right)\n",
    "    if rh == -1:  # right subtree is unbalanced\n",
    "        return -1\n",
    "\n",
    "    if abs(lh - rh) > 1:  # current node is unbalanced\n",
    "        return -1\n",
    "\n",
    "    return max(lh, rh) + 1  # return height if balanced\n",
    "\n",
    "def isBalanced(root):\n",
    "    return check(root) != -1\n"
   ]
  },
  {
   "cell_type": "code",
   "execution_count": 10,
   "id": "9dc96014",
   "metadata": {},
   "outputs": [],
   "source": [
    "\n",
    "class Solution:\n",
    "    def height(self, root):\n",
    "        if not root:\n",
    "            return 0\n",
    "        return max(self.height(root.left), self.height(root.right)) + 1\n",
    "    \n",
    "    def isBalanced(self, root):\n",
    "        if not root:\n",
    "            return True\n",
    "        \n",
    "        lh = self.height(root.left)\n",
    "        rh = self.height(root.right)\n",
    "\n",
    "        if abs(lh - rh) > 1:\n",
    "            return False\n",
    "        \n",
    "        return self.isBalanced(root.left) and self.isBalanced(root.right)\n"
   ]
  },
  {
   "cell_type": "code",
   "execution_count": null,
   "id": "e7497413",
   "metadata": {},
   "outputs": [],
   "source": []
  }
 ],
 "metadata": {
  "kernelspec": {
   "display_name": "Python 3",
   "language": "python",
   "name": "python3"
  },
  "language_info": {
   "codemirror_mode": {
    "name": "ipython",
    "version": 3
   },
   "file_extension": ".py",
   "mimetype": "text/x-python",
   "name": "python",
   "nbconvert_exporter": "python",
   "pygments_lexer": "ipython3",
   "version": "3.12.0"
  }
 },
 "nbformat": 4,
 "nbformat_minor": 5
}
