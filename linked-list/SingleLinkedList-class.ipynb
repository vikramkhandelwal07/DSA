{
 "cells": [
  {
   "cell_type": "code",
   "execution_count": 10,
   "metadata": {},
   "outputs": [],
   "source": [
    "class Node:\n",
    "  def __init__(self, value):\n",
    "    self.value = value\n",
    "    self.next = None\n",
    "\n",
    "class LinkedList:\n",
    "  def __init__(self):\n",
    "    self.head = None\n",
    "    \n",
    "  # to convert array to single linkedlist\n",
    "  \n",
    "  def arrayToLinkedList(self, array):\n",
    "    if not array:\n",
    "      return None \n",
    "\n",
    "    self.head = Node(array[0])\n",
    "    current = self.head\n",
    "\n",
    "    for value in array[1:]:\n",
    "      current.next = Node(value)\n",
    "      current = current.next\n",
    "\n",
    "# print Linkedlist\n",
    "  def printList(self):\n",
    "    current = self.head\n",
    "    while current:\n",
    "      print(current.value, end=\" -> \")\n",
    "      current = current.next\n",
    "    print(\"None\")\n",
    "    \n",
    "# traversal linked list\n",
    "  def lengthLinkedList(self,head):\n",
    "    cnt = 0\n",
    "    current = self.head\n",
    "    while current:\n",
    "      current = current.next\n",
    "      cnt+=1\n",
    "    return cnt\n",
    "  \n",
    "# search in linkedlist\n",
    "  def searchInLinkedList(self,element):\n",
    "    current = self.head\n",
    "    while current:\n",
    "      if current.value == element:\n",
    "        return True\n",
    "      current = current.next\n",
    "    return False\n",
    "  \n",
    "    \n",
    "    \n",
    "    "
   ]
  },
  {
   "cell_type": "code",
   "execution_count": 11,
   "metadata": {},
   "outputs": [
    {
     "name": "stdout",
     "output_type": "stream",
     "text": [
      "Linked List:\n",
      "10 -> 20 -> 30 -> 40 -> None\n"
     ]
    }
   ],
   "source": [
    "array = [10, 20, 30, 40]\n",
    "\n",
    "ll = LinkedList()\n",
    "ll.arrayToLinkedList(array)\n",
    "\n",
    "print(\"Linked List:\")\n",
    "ll.printList()\n"
   ]
  },
  {
   "cell_type": "code",
   "execution_count": null,
   "metadata": {},
   "outputs": [],
   "source": []
  }
 ],
 "metadata": {
  "kernelspec": {
   "display_name": "Python 3",
   "language": "python",
   "name": "python3"
  },
  "language_info": {
   "codemirror_mode": {
    "name": "ipython",
    "version": 3
   },
   "file_extension": ".py",
   "mimetype": "text/x-python",
   "name": "python",
   "nbconvert_exporter": "python",
   "pygments_lexer": "ipython3",
   "version": "3.12.0"
  }
 },
 "nbformat": 4,
 "nbformat_minor": 2
}
