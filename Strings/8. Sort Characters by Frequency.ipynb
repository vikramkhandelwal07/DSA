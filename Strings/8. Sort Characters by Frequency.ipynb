{
 "cells": [
  {
   "cell_type": "code",
   "execution_count": 2,
   "id": "be8654bc",
   "metadata": {},
   "outputs": [
    {
     "data": {
      "text/plain": [
       "'eetr'"
      ]
     },
     "execution_count": 2,
     "metadata": {},
     "output_type": "execute_result"
    }
   ],
   "source": [
    "def frequencySort(s):\n",
    "    freq = {}\n",
    "    for ch in s:\n",
    "        freq[ch] = freq.get(ch,0) + 1\n",
    "    \n",
    "    sortedChars = sorted(freq.items(),key=lambda x: -x[1])\n",
    "    \n",
    "    result = \"\".join(ch*count for ch, count in sortedChars)\n",
    "    \n",
    "    return result\n",
    "\n",
    "s = \"tree\"\n",
    "frequencySort(s)"
   ]
  },
  {
   "cell_type": "code",
   "execution_count": 5,
   "id": "7e404eff",
   "metadata": {},
   "outputs": [
    {
     "data": {
      "text/plain": [
       "'eetr'"
      ]
     },
     "execution_count": 5,
     "metadata": {},
     "output_type": "execute_result"
    }
   ],
   "source": [
    "from collections import Counter\n",
    "\n",
    "\n",
    "def frequencySort2(s):\n",
    "    freq = Counter(s)\n",
    "    sortedChars = sorted(freq.items(),key=lambda x: -x[1])\n",
    "    return \"\".join(ch*count for ch, count in sortedChars)\n",
    "s = \"tree\"\n",
    "frequencySort2(s)"
   ]
  },
  {
   "cell_type": "code",
   "execution_count": null,
   "id": "0d128aef",
   "metadata": {},
   "outputs": [],
   "source": []
  }
 ],
 "metadata": {
  "kernelspec": {
   "display_name": "Python 3",
   "language": "python",
   "name": "python3"
  },
  "language_info": {
   "codemirror_mode": {
    "name": "ipython",
    "version": 3
   },
   "file_extension": ".py",
   "mimetype": "text/x-python",
   "name": "python",
   "nbconvert_exporter": "python",
   "pygments_lexer": "ipython3",
   "version": "3.12.0"
  }
 },
 "nbformat": 4,
 "nbformat_minor": 5
}
