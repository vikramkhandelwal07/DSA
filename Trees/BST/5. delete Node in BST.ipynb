{
 "cells": [
  {
   "cell_type": "code",
   "execution_count": null,
   "id": "1048082f",
   "metadata": {},
   "outputs": [],
   "source": [
    "def deleteNodeBST(root,value):\n",
    "    "
   ]
  }
 ],
 "metadata": {
  "language_info": {
   "name": "python"
  }
 },
 "nbformat": 4,
 "nbformat_minor": 5
}
