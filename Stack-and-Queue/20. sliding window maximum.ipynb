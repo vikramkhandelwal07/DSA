{
 "cells": [
  {
   "cell_type": "markdown",
   "metadata": {},
   "source": [
    "TLE if i use this \n",
    "- TC - O(n-k)*k\n",
    "- SC - O(N-k)"
   ]
  },
  {
   "cell_type": "code",
   "execution_count": 1,
   "metadata": {},
   "outputs": [],
   "source": [
    "def maxSlidingWindow(nums, k):\n",
    "  ans = []\n",
    "  n = len(nums)\n",
    "  maxi = 0\n",
    "  for i in range(n):\n",
    "    maxi = max(nums[i:i+k])\n",
    "    ans.append(maxi)\n",
    "\n",
    "  return ans"
   ]
  },
  {
   "cell_type": "code",
   "execution_count": 3,
   "metadata": {},
   "outputs": [
    {
     "data": {
      "text/plain": [
       "[3, 3, 5, 5, 6, 7, 7, 7]"
      ]
     },
     "execution_count": 3,
     "metadata": {},
     "output_type": "execute_result"
    }
   ],
   "source": [
    "nums = [1,3,-1,-3,5,3,6,7]\n",
    "maxSlidingWindow(nums,3)"
   ]
  },
  {
   "cell_type": "code",
   "execution_count": 6,
   "metadata": {},
   "outputs": [
    {
     "name": "stdout",
     "output_type": "stream",
     "text": [
      "Maximum element in every 3 window:\n",
      "[4, 3, 5, 5, 6, 8]\n"
     ]
    }
   ],
   "source": [
    "from collections import deque\n",
    "\n",
    "def maxSlidingWindow(nums, k):\n",
    "  n = len(nums)\n",
    "  dq = deque()\n",
    "  ans = []\n",
    "  for i in range(n):\n",
    "    if dq and dq[0] == i-k:\n",
    "      dq.popleft()\n",
    "    \n",
    "    while dq and nums[dq[-1]] < nums[i]:\n",
    "      dq.pop()\n",
    "    dq.append(i)\n",
    "  \n",
    "    if i >= k - 1:\n",
    "      ans.append(nums[dq[0]])\n",
    "        \n",
    "  return ans\n",
    "arr = [4, 0, -1, 3, 5, 3, 6, 8]\n",
    "k = 3\n",
    "ans = maxSlidingWindow(arr, k)\n",
    "print(\"Maximum element in every\", k, \"window:\")\n",
    "print(ans)    \n",
    "    "
   ]
  },
  {
   "cell_type": "code",
   "execution_count": null,
   "metadata": {},
   "outputs": [],
   "source": []
  }
 ],
 "metadata": {
  "kernelspec": {
   "display_name": "Python 3",
   "language": "python",
   "name": "python3"
  },
  "language_info": {
   "codemirror_mode": {
    "name": "ipython",
    "version": 3
   },
   "file_extension": ".py",
   "mimetype": "text/x-python",
   "name": "python",
   "nbconvert_exporter": "python",
   "pygments_lexer": "ipython3",
   "version": "3.12.0"
  }
 },
 "nbformat": 4,
 "nbformat_minor": 2
}
