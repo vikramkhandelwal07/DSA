{
 "cells": [
  {
   "cell_type": "markdown",
   "metadata": {},
   "source": [
    "### Problem: Lemonade Change\n",
    "\n",
    "At a lemonade stand, each lemonade costs $5. Customers pay with either a $5, $10, or $20 bill. You must provide the correct change to each customer so that the net transaction is that the customer pays $5. You start with no change.\n",
    "\n",
    "#### Task:\n",
    "Given an integer array `bills`, where `bills[i]` is the bill the ith customer pays, return `true` if you can provide every customer with the correct change, or `false` otherwise.\n",
    "\n",
    "#### Approach:\n",
    "1. Track the number of $5, $10, and $20 bills using a dictionary.\n",
    "2. For each bill:\n",
    "   - If the bill is $5, add it to the change pool.\n",
    "   - If the bill is $10, check if you have a $5 bill to give as change.\n",
    "   - If the bill is $20, try to give a $10 and $5 as change, otherwise give three $5 bills.\n",
    "3. Return `true` if you can give change to all customers, otherwise return `false`.\n",
    "\n",
    "#### Example 1:\n",
    "**Input:** `[5, 5, 5, 10, 20]`  \n",
    "**Output:** `true`  \n",
    "Explanation:  \n",
    "- From the first 3 customers, we collect three $5 bills.\n",
    "- From the fourth customer, we collect a $10 bill and give back a $5.\n",
    "- From the fifth customer, we give a $10 bill and a $5 bill.\n",
    "Since all customers got correct change, the output is `true`.\n",
    "\n",
    "#### Example 2:\n",
    "**Input:** `[5, 5, 10, 10, 20]`  \n",
    "**Output:** `false`  \n",
    "Explanation:  \n",
    "- From the first two customers, we collect two $5 bills.\n",
    "- For the next two customers, we collect a $10 bill and give back a $5 bill.\n",
    "- For the last customer, we cannot give the change of $15 because we only have two $10 bills.\n",
    "Thus, the output is `false`.\n"
   ]
  },
  {
   "cell_type": "code",
   "execution_count": null,
   "metadata": {},
   "outputs": [],
   "source": []
  },
  {
   "cell_type": "code",
   "execution_count": 5,
   "metadata": {},
   "outputs": [
    {
     "data": {
      "text/plain": [
       "False"
      ]
     },
     "execution_count": 5,
     "metadata": {},
     "output_type": "execute_result"
    }
   ],
   "source": [
    "class Solution:\n",
    "    def lemonadeChange(self, bills: List[int]) -> bool:\n",
    "        change = {5: 0, 10: 0, 20: 0}\n",
    "        for bill in bills:\n",
    "            if bill == 5:\n",
    "                change[5] += 1\n",
    "            elif bill == 10:\n",
    "                if change[5] > 0:\n",
    "                    change[10] += 1\n",
    "                    change[5] -= 1\n",
    "                else:\n",
    "                    return False\n",
    "            else:  # bill == 20\n",
    "                if change[10] > 0 and change[5] > 0:\n",
    "                    change[20] += 1\n",
    "                    change[10] -= 1\n",
    "                    change[5] -= 1\n",
    "                elif change[5] >= 3:\n",
    "                    change[20] += 1\n",
    "                    change[5] -= 3\n",
    "                else:\n",
    "                    return False\n",
    "      \n",
    "        return True\n",
    "bills =[5,5,10,10,20]\n",
    "a = Solution()\n",
    "a.lemonadeChange(bills)\n"
   ]
  },
  {
   "cell_type": "code",
   "execution_count": 4,
   "metadata": {},
   "outputs": [
    {
     "data": {
      "text/plain": [
       "False"
      ]
     },
     "execution_count": 4,
     "metadata": {},
     "output_type": "execute_result"
    }
   ],
   "source": [
    "from typing import List\n",
    "\n",
    "\n",
    "class Solution:\n",
    "  def lemonadeChange(self, bills: List[int]) -> bool:\n",
    "    f = 0\n",
    "    t = 0\n",
    "    for i in bills:\n",
    "      if i==5:\n",
    "        f+=1\n",
    "      elif i==10:\n",
    "        if f:\n",
    "          f-=1\n",
    "          t+=1\n",
    "        else:\n",
    "          return False\n",
    "      else:\n",
    "        if t and f:\n",
    "          f-=1\n",
    "          t-=1\n",
    "        elif f>=3:\n",
    "          f-=3\n",
    "        else:\n",
    "          return False\n",
    "    return True \n",
    "  \n",
    "bills =[5,5,10,10,20]\n",
    "a = Solution()\n",
    "a.lemonadeChange(bills)"
   ]
  },
  {
   "cell_type": "code",
   "execution_count": 6,
   "metadata": {},
   "outputs": [
    {
     "name": "stdout",
     "output_type": "stream",
     "text": [
      "False\n"
     ]
    }
   ],
   "source": [
    "\n",
    "from typing import List\n",
    "\n",
    "class Solution:\n",
    "    # Function to check if we can provide change to all customers\n",
    "    def lemonadeChange(self, bills: List[int]) -> bool:\n",
    "        # Initialize variables to track the number of $5 and $10 bills\n",
    "        f = 0  # f will store the count of $5 bills\n",
    "        t = 0  # t will store the count of $10 bills\n",
    "        \n",
    "        # Iterate through each bill paid by the customer\n",
    "        for i in bills:\n",
    "            # If the customer pays with a $5 bill, increase the count of $5 bills\n",
    "            if i == 5:\n",
    "                f += 1  # Increment $5 bill count\n",
    "            # If the customer pays with a $10 bill, check if we can provide change\n",
    "            elif i == 10:\n",
    "                # If we have at least one $5 bill, we can give change for a $10 bill\n",
    "                if f:\n",
    "                    f -= 1  # Decrease $5 bill count\n",
    "                    t += 1  # Increase $10 bill count\n",
    "                else:\n",
    "                    # If no $5 bills are available, return False\n",
    "                    return False\n",
    "            # If the customer pays with a $20 bill, check if we can provide change\n",
    "            else:  # i == 20\n",
    "                # Try to give one $10 bill and one $5 bill as change\n",
    "                if t and f:\n",
    "                    f -= 1  # Decrease $5 bill count\n",
    "                    t -= 1  # Decrease $10 bill count\n",
    "                # If that's not possible, try to give three $5 bills as change\n",
    "                elif f >= 3:\n",
    "                    f -= 3  # Decrease three $5 bills\n",
    "                else:\n",
    "                    # If neither option is available, return False\n",
    "                    return False\n",
    "        # If all customers were processed and we could give change, return True\n",
    "        return True\n",
    "\n",
    "# Example input\n",
    "bills = [5, 5, 10, 10, 20]\n",
    "a = Solution()  # Create an instance of the Solution class\n",
    "print(a.lemonadeChange(bills))  # Call the lemonadeChange function with the example bills list\n"
   ]
  },
  {
   "cell_type": "code",
   "execution_count": null,
   "metadata": {},
   "outputs": [],
   "source": []
  }
 ],
 "metadata": {
  "kernelspec": {
   "display_name": "Python 3",
   "language": "python",
   "name": "python3"
  },
  "language_info": {
   "codemirror_mode": {
    "name": "ipython",
    "version": 3
   },
   "file_extension": ".py",
   "mimetype": "text/x-python",
   "name": "python",
   "nbconvert_exporter": "python",
   "pygments_lexer": "ipython3",
   "version": "3.12.0"
  }
 },
 "nbformat": 4,
 "nbformat_minor": 2
}
