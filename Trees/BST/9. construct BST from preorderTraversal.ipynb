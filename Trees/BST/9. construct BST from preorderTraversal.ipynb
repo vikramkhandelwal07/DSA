{
 "cells": [
  {
   "cell_type": "code",
   "execution_count": 2,
   "id": "3c91f69a",
   "metadata": {},
   "outputs": [],
   "source": [
    "# Definition for a binary tree node.\n",
    "# class TreeNode:\n",
    "#     def __init__(self, val=0, left=None, right=None):\n",
    "#         self.val = val\n",
    "#         self.left = left\n",
    "#         self.right = right\n",
    "\n",
    "class Solution:\n",
    "    def bstFromPreorder(self, preorder):\n",
    "        i = 0\n",
    "\n",
    "        def build(upper=float('inf')):\n",
    "            nonlocal i\n",
    "            if i == len(preorder) or preorder[i] > upper:\n",
    "                return None\n",
    "            root = TreeNode(preorder[i])\n",
    "            i += 1\n",
    "            root.left = build(root.val)      # left subtree must be < root.val\n",
    "            root.right = build(upper)        # right subtree must be <= upper\n",
    "            return root\n",
    "\n",
    "        return build(float('inf'))\n"
   ]
  },
  {
   "cell_type": "code",
   "execution_count": null,
   "id": "e662e021",
   "metadata": {},
   "outputs": [],
   "source": []
  }
 ],
 "metadata": {
  "kernelspec": {
   "display_name": "Python 3",
   "language": "python",
   "name": "python3"
  },
  "language_info": {
   "codemirror_mode": {
    "name": "ipython",
    "version": 3
   },
   "file_extension": ".py",
   "mimetype": "text/x-python",
   "name": "python",
   "nbconvert_exporter": "python",
   "pygments_lexer": "ipython3",
   "version": "3.12.0"
  }
 },
 "nbformat": 4,
 "nbformat_minor": 5
}
