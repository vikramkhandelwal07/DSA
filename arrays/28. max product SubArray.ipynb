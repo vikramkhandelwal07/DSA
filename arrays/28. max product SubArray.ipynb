{
 "cells": [
  {
   "cell_type": "code",
   "execution_count": 2,
   "metadata": {},
   "outputs": [
    {
     "name": "stdout",
     "output_type": "stream",
     "text": [
      "The maximum product subarray is: 20\n"
     ]
    }
   ],
   "source": [
    "def maxProductSubArray(arr):\n",
    "    n = len(arr) # size of array.\n",
    "\n",
    "    pre, suff = 1, 1\n",
    "    ans = float('-inf')\n",
    "    for i in range(n):\n",
    "        if pre == 0:\n",
    "            pre = 1\n",
    "        if suff == 0:\n",
    "            suff = 1\n",
    "        pre *= arr[i]\n",
    "        suff *= arr[n - i - 1]\n",
    "        ans = max(ans, max(pre, suff))\n",
    "    return ans\n",
    "\n",
    "arr = [1, 2, -3, 0, -4, -5]\n",
    "print(\"The maximum product subarray is:\", maxProductSubArray(arr))\n",
    "\n",
    "\n"
   ]
  },
  {
   "cell_type": "code",
   "execution_count": null,
   "metadata": {},
   "outputs": [],
   "source": []
  }
 ],
 "metadata": {
  "kernelspec": {
   "display_name": "Python 3",
   "language": "python",
   "name": "python3"
  },
  "language_info": {
   "codemirror_mode": {
    "name": "ipython",
    "version": 3
   },
   "file_extension": ".py",
   "mimetype": "text/x-python",
   "name": "python",
   "nbconvert_exporter": "python",
   "pygments_lexer": "ipython3",
   "version": "3.12.0"
  }
 },
 "nbformat": 4,
 "nbformat_minor": 2
}
