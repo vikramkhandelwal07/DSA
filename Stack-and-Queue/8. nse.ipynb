{
 "cells": [
  {
   "cell_type": "code",
   "execution_count": 1,
   "metadata": {},
   "outputs": [
    {
     "data": {
      "text/plain": [
       "[2, 2, -1, 8, -1]"
      ]
     },
     "execution_count": 1,
     "metadata": {},
     "output_type": "execute_result"
    }
   ],
   "source": [
    "def nse(nums):\n",
    "  n = len(nums)\n",
    "  nse = [-1]*n\n",
    "  stack = []\n",
    "  \n",
    "  for i in range(n):\n",
    "    while stack and nums[stack[-1]] > nums[i]:\n",
    "      nse[stack.pop()] = nums[i]\n",
    "    stack.append(i)\n",
    "    \n",
    "  return nse\n",
    "\n",
    "nums = [4,5,2,10,8]\n",
    "nse(nums)\n",
    "    "
   ]
  },
  {
   "cell_type": "code",
   "execution_count": null,
   "metadata": {},
   "outputs": [],
   "source": [
    "\n"
   ]
  }
 ],
 "metadata": {
  "kernelspec": {
   "display_name": "Python 3",
   "language": "python",
   "name": "python3"
  },
  "language_info": {
   "codemirror_mode": {
    "name": "ipython",
    "version": 3
   },
   "file_extension": ".py",
   "mimetype": "text/x-python",
   "name": "python",
   "nbconvert_exporter": "python",
   "pygments_lexer": "ipython3",
   "version": "3.12.0"
  }
 },
 "nbformat": 4,
 "nbformat_minor": 2
}
