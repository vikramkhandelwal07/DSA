{
 "cells": [
  {
   "cell_type": "code",
   "execution_count": 1,
   "metadata": {},
   "outputs": [],
   "source": [
    "class MinStack:\n",
    "  def __init__(self):\n",
    "    self.stack = []\n",
    "  \n",
    "  def push(self, val: int) -> None:\n",
    "    min_val = self.getMin()\n",
    "    if min_val == None or min_val > val:\n",
    "        min_val = val\n",
    "    self.stack.append([val,min_val])\n",
    "\n",
    "  def pop(self) -> None:\n",
    "    if len(self.stack) == 0:\n",
    "        return -1\n",
    "    self.stack.pop()\n",
    "      \n",
    "  def top(self) -> int:\n",
    "    return self.stack[-1][0] if self.stack else None\n",
    "\n",
    "  def getMin(self) -> int:\n",
    "    return self.stack[-1][1] if self.stack else None\n",
    "\n",
    "\n"
   ]
  },
  {
   "cell_type": "code",
   "execution_count": null,
   "metadata": {},
   "outputs": [],
   "source": []
  }
 ],
 "metadata": {
  "kernelspec": {
   "display_name": "Python 3",
   "language": "python",
   "name": "python3"
  },
  "language_info": {
   "codemirror_mode": {
    "name": "ipython",
    "version": 3
   },
   "file_extension": ".py",
   "mimetype": "text/x-python",
   "name": "python",
   "nbconvert_exporter": "python",
   "pygments_lexer": "ipython3",
   "version": "3.12.0"
  }
 },
 "nbformat": 4,
 "nbformat_minor": 2
}
