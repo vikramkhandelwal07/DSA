{
 "cells": [
  {
   "cell_type": "code",
   "execution_count": 2,
   "metadata": {},
   "outputs": [],
   "source": [
    "from typing import List\n",
    "\n",
    "class Solution:\n",
    "    def majorityElement(self, nums: List[int]) -> List[int]:\n",
    "        n = len(nums)\n",
    "        cnt1, cnt2 = 0, 0\n",
    "        element1, element2 = None, None\n",
    "\n",
    "        # First pass: Find potential candidates for majority elements\n",
    "        for num in nums:\n",
    "            if element1 == num:\n",
    "                cnt1 += 1\n",
    "            elif element2 == num:\n",
    "                cnt2 += 1\n",
    "            elif cnt1 == 0:\n",
    "                element1, cnt1 = num, 1\n",
    "            elif cnt2 == 0:\n",
    "                element2, cnt2 = num, 1\n",
    "            else:\n",
    "                cnt1 -= 1\n",
    "                cnt2 -= 1\n",
    "\n",
    "        # Second pass: Verify candidates\n",
    "        cnt1, cnt2 = 0, 0\n",
    "        for num in nums:\n",
    "            if num == element1:\n",
    "                cnt1 += 1\n",
    "            elif num == element2:\n",
    "                cnt2 += 1\n",
    "\n",
    "        # Check if counts are greater than n // 3\n",
    "        result = []\n",
    "        if cnt1 > n // 3:\n",
    "            result.append(element1)\n",
    "        if cnt2 > n // 3:\n",
    "            result.append(element2)\n",
    "\n",
    "        return result\n"
   ]
  },
  {
   "cell_type": "code",
   "execution_count": 3,
   "metadata": {},
   "outputs": [
    {
     "name": "stdout",
     "output_type": "stream",
     "text": [
      "[1]\n"
     ]
    }
   ],
   "source": [
    "nums = [2, 1, 3, 4, 1, 5, 6, 1]\n",
    "sol = Solution()\n",
    "print(sol.majorityElement(nums))  # Expected Output: [1]\n"
   ]
  },
  {
   "cell_type": "code",
   "execution_count": null,
   "metadata": {},
   "outputs": [],
   "source": []
  }
 ],
 "metadata": {
  "kernelspec": {
   "display_name": "Python 3",
   "language": "python",
   "name": "python3"
  },
  "language_info": {
   "codemirror_mode": {
    "name": "ipython",
    "version": 3
   },
   "file_extension": ".py",
   "mimetype": "text/x-python",
   "name": "python",
   "nbconvert_exporter": "python",
   "pygments_lexer": "ipython3",
   "version": "3.12.0"
  }
 },
 "nbformat": 4,
 "nbformat_minor": 2
}
