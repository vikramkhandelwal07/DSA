{
 "cells": [
  {
   "cell_type": "code",
   "execution_count": 2,
   "metadata": {},
   "outputs": [],
   "source": [
    "class StockSpanner:\n",
    "  def __init__(self):\n",
    "    self.stack = []  \n",
    "\n",
    "  def next(self, price: int) -> int:\n",
    "    span = 1\n",
    "    while self.stack and self.stack[-1][0] <= price:\n",
    "      prev_price, prev_span = self.stack.pop()\n",
    "      span += prev_span  \n",
    "\n",
    "    self.stack.append((price, span))  \n",
    "    return span\n"
   ]
  },
  {
   "cell_type": "code",
   "execution_count": 3,
   "metadata": {},
   "outputs": [
    {
     "name": "stdout",
     "output_type": "stream",
     "text": [
      "1\n",
      "1\n",
      "1\n",
      "2\n",
      "1\n",
      "4\n",
      "6\n"
     ]
    }
   ],
   "source": [
    "spanner = StockSpanner()\n",
    "print(spanner.next(100))  # 1\n",
    "print(spanner.next(80))   # 1\n",
    "print(spanner.next(60))   # 1\n",
    "print(spanner.next(70))   # 2\n",
    "print(spanner.next(60))   # 1\n",
    "print(spanner.next(75))   # 4\n",
    "print(spanner.next(85))   # 6\n"
   ]
  },
  {
   "cell_type": "code",
   "execution_count": null,
   "metadata": {},
   "outputs": [],
   "source": []
  }
 ],
 "metadata": {
  "kernelspec": {
   "display_name": "Python 3",
   "language": "python",
   "name": "python3"
  },
  "language_info": {
   "codemirror_mode": {
    "name": "ipython",
    "version": 3
   },
   "file_extension": ".py",
   "mimetype": "text/x-python",
   "name": "python",
   "nbconvert_exporter": "python",
   "pygments_lexer": "ipython3",
   "version": "3.12.0"
  }
 },
 "nbformat": 4,
 "nbformat_minor": 2
}
