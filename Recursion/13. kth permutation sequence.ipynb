{
 "cells": [
  {
   "cell_type": "code",
   "execution_count": 14,
   "metadata": {},
   "outputs": [],
   "source": [
    "from typing import List\n",
    "def getPermutations(n,k):\n",
    "  numbers = list(range(1,n+1))\n",
    "  result = []\n",
    "  k = k-1\n",
    "  \n",
    "  def factorial(x):\n",
    "    fact = 1\n",
    "    for i in range(1,x+1):\n",
    "      fact*=i\n",
    "    return fact\n",
    "  \n",
    "  while n > 0:\n",
    "    fact = factorial(n-1)\n",
    "    index = k // fact\n",
    "    result.append(str(numbers[index]))\n",
    "    numbers.pop(index)\n",
    "    k %= fact\n",
    "    n -=1\n",
    "  \n",
    "  return \"\".join(result)\n",
    "    "
   ]
  },
  {
   "cell_type": "code",
   "execution_count": 15,
   "metadata": {},
   "outputs": [
    {
     "data": {
      "text/plain": [
       "'15243'"
      ]
     },
     "execution_count": 15,
     "metadata": {},
     "output_type": "execute_result"
    }
   ],
   "source": [
    "n = 5\n",
    "k = 20\n",
    "getPermutations(n,k)"
   ]
  },
  {
   "cell_type": "code",
   "execution_count": null,
   "metadata": {},
   "outputs": [],
   "source": []
  }
 ],
 "metadata": {
  "kernelspec": {
   "display_name": "Python 3",
   "language": "python",
   "name": "python3"
  },
  "language_info": {
   "codemirror_mode": {
    "name": "ipython",
    "version": 3
   },
   "file_extension": ".py",
   "mimetype": "text/x-python",
   "name": "python",
   "nbconvert_exporter": "python",
   "pygments_lexer": "ipython3",
   "version": "3.12.0"
  }
 },
 "nbformat": 4,
 "nbformat_minor": 2
}
