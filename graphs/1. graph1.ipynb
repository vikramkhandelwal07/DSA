{
 "cells": [
  {
   "cell_type": "code",
   "execution_count": 2,
   "metadata": {},
   "outputs": [
    {
     "name": "stdout",
     "output_type": "stream",
     "text": [
      "Graph Adjacency Matrix:\n",
      "[0, 1, 1, 0]\n",
      "[1, 0, 0, 1]\n",
      "[1, 0, 0, 1]\n",
      "[0, 1, 1, 0]\n"
     ]
    }
   ],
   "source": [
    "## adjacency matrix representation of a graph\n",
    "graph = [\n",
    "    [0, 1, 1, 0],\n",
    "    [1, 0, 0, 1],\n",
    "    [1, 0, 0, 1],\n",
    "    [0, 1, 1, 0]\n",
    "]\n",
    "print(\"Graph Adjacency Matrix:\")\n",
    "for row in graph:\n",
    "    print(row)"
   ]
  },
  {
   "cell_type": "code",
   "execution_count": 3,
   "metadata": {},
   "outputs": [
    {
     "name": "stdout",
     "output_type": "stream",
     "text": [
      "Graph Adjacency List:\n",
      "A -> ['B', 'C']\n",
      "B -> ['A', 'D']\n",
      "C -> ['A', 'D']\n",
      "D -> ['B', 'C']\n"
     ]
    }
   ],
   "source": [
    "# Adjacency List Representation\n",
    "graph = {\n",
    "    'A': ['B', 'C'],\n",
    "    'B': ['A', 'D'],\n",
    "    'C': ['A', 'D'],\n",
    "    'D': ['B', 'C']\n",
    "}\n",
    "\n",
    "print(\"Graph Adjacency List:\")\n",
    "for node in graph:\n",
    "    print(node, \"->\", graph[node])\n"
   ]
  },
  {
   "cell_type": "code",
   "execution_count": 4,
   "metadata": {},
   "outputs": [
    {
     "name": "stdout",
     "output_type": "stream",
     "text": [
      "Graph Edge List:\n",
      "('A', 'B')\n",
      "('A', 'C')\n",
      "('B', 'D')\n",
      "('C', 'D')\n",
      "('D', 'E')\n"
     ]
    }
   ],
   "source": [
    "# Edge list representation of a graph\n",
    "edge_list = [\n",
    "    ('A', 'B'),\n",
    "    ('A', 'C'),\n",
    "    ('B', 'D'),\n",
    "    ('C', 'D'),\n",
    "    ('D', 'E')\n",
    "]\n",
    "\n",
    "print(\"Graph Edge List:\")\n",
    "for edge in edge_list:\n",
    "    print(edge)\n"
   ]
  },
  {
   "cell_type": "code",
   "execution_count": null,
   "metadata": {},
   "outputs": [
    {
     "name": "stdout",
     "output_type": "stream",
     "text": [
      "Edge List Representation:\n",
      "(1 -> 2, wt=10)\n",
      "(1 -> 3, wt=15)\n",
      "(2 -> 4, wt=5)\n",
      "(3 -> 4, wt=20)\n",
      "(4 -> 5, wt=25)\n",
      "[(1 -> 2, wt=10), (1 -> 3, wt=15), (2 -> 4, wt=5), (3 -> 4, wt=20), (4 -> 5, wt=25)]\n"
     ]
    }
   ],
   "source": [
    "class Edge:\n",
    "  def __init__(self, src, dest, wt):\n",
    "    self.src = src\n",
    "    self.dest = dest\n",
    "    self.wt = wt\n",
    "\n",
    "  def __repr__(self):\n",
    "    return f\"({self.src} -> {self.dest}, wt={self.wt})\"\n",
    "\n",
    "class Graph:\n",
    "  def __init__(self):\n",
    "    self.edges = []  # List to store all edges\n",
    "\n",
    "  def add_edge(self, src, dest, wt):\n",
    "    self.edges.append(Edge(src, dest, wt))\n",
    "\n",
    "  def display(self):\n",
    "    for edge in self.edges:\n",
    "        print(edge)\n",
    "    # print(self.edges)\n",
    "\n",
    "# Example Usage\n",
    "g = Graph()\n",
    "g.add_edge(1, 2, 10)\n",
    "g.add_edge(1, 3, 15)\n",
    "g.add_edge(2, 4, 5)\n",
    "g.add_edge(3, 4, 20)\n",
    "g.add_edge(4, 5, 25)\n",
    "\n",
    "print(\"Edge List Representation:\")\n",
    "g.display()\n"
   ]
  },
  {
   "cell_type": "code",
   "execution_count": null,
   "metadata": {},
   "outputs": [],
   "source": []
  }
 ],
 "metadata": {
  "kernelspec": {
   "display_name": "Python 3",
   "language": "python",
   "name": "python3"
  },
  "language_info": {
   "codemirror_mode": {
    "name": "ipython",
    "version": 3
   },
   "file_extension": ".py",
   "mimetype": "text/x-python",
   "name": "python",
   "nbconvert_exporter": "python",
   "pygments_lexer": "ipython3",
   "version": "3.12.0"
  }
 },
 "nbformat": 4,
 "nbformat_minor": 2
}
