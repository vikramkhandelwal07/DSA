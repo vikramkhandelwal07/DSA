{
 "cells": [
  {
   "cell_type": "markdown",
   "metadata": {},
   "source": [
    "# 3. Longest Substring Without Repeating Characters\n",
    "\n",
    "**Difficulty:** Medium  \n",
    "**Topics:** Sliding Window, Hash Table  \n",
    "\n",
    "Find the length of the longest substring in a given string `s` without repeating characters.\n",
    "\n",
    "---\n",
    "\n",
    "## Examples\n",
    "\n",
    "### Example 1\n",
    "**Input:**  \n",
    "`s = \"abcabcbb\"`  \n",
    "**Output:**  \n",
    "`3`  \n",
    "**Explanation:** The longest substring is `\"abc\"`, with a length of `3`.\n",
    "\n",
    "### Example 2\n",
    "**Input:**  \n",
    "`s = \"bbbbb\"`  \n",
    "**Output:**  \n",
    "`1`  \n",
    "**Explanation:** The longest substring is `\"b\"`, with a length of `1`.\n",
    "\n",
    "### Example 3\n",
    "**Input:**  \n",
    "`s = \"pwwkew\"`  \n",
    "**Output:**  \n",
    "`3`  \n",
    "**Explanation:** The longest substring is `\"wke\"`, with a length of `3`. Note: `\"pwke\"` is not valid as it is not a substring.\n"
   ]
  },
  {
   "cell_type": "markdown",
   "metadata": {},
   "source": [
    "- TC-O(N^2)\n",
    "- SC-O(256)"
   ]
  },
  {
   "cell_type": "code",
   "execution_count": 19,
   "metadata": {},
   "outputs": [
    {
     "data": {
      "text/plain": [
       "3"
      ]
     },
     "execution_count": 19,
     "metadata": {},
     "output_type": "execute_result"
    }
   ],
   "source": [
    "\n",
    "def lengthOfLongestSubstring(s):\n",
    "  n = len(s)\n",
    "  maxlength = 0\n",
    "\n",
    "  for i in range(n):\n",
    "    hash = [0] * 256\n",
    "    for j in range(i, n):\n",
    "      if hash[ord(s[j])] == 1:  \n",
    "          break\n",
    "      hash[ord(s[j])] = 1\n",
    "      \n",
    "      maxlength = max(maxlength, j - i + 1)\n",
    "\n",
    "  return maxlength\n",
    "\n",
    "s = \"pwwkew\"\n",
    "lengthOfLongestSubstring(s)\n"
   ]
  },
  {
   "cell_type": "code",
   "execution_count": 21,
   "metadata": {},
   "outputs": [
    {
     "name": "stdout",
     "output_type": "stream",
     "text": [
      "3\n"
     ]
    }
   ],
   "source": [
    "def lengthOfLongestSubstring(s: str) -> int:\n",
    "  char_index = {}\n",
    "  n = len(s)\n",
    "  maxlength = 0\n",
    "  l = 0  \n",
    "  for r in range(n):  \n",
    "    if s[r] in char_index and char_index[s[r]] >= l:\n",
    "      l = char_index[s[r]] + 1\n",
    "    char_index[s[r]] = r\n",
    "    maxlength = max(maxlength, r - l + 1)\n",
    "  \n",
    "  return maxlength\n",
    "\n",
    "s = \"pwwkew\"\n",
    "print(lengthOfLongestSubstring(s))  # Output: 3\n",
    "\n"
   ]
  },
  {
   "cell_type": "code",
   "execution_count": null,
   "metadata": {},
   "outputs": [],
   "source": []
  }
 ],
 "metadata": {
  "kernelspec": {
   "display_name": "Python 3",
   "language": "python",
   "name": "python3"
  },
  "language_info": {
   "codemirror_mode": {
    "name": "ipython",
    "version": 3
   },
   "file_extension": ".py",
   "mimetype": "text/x-python",
   "name": "python",
   "nbconvert_exporter": "python",
   "pygments_lexer": "ipython3",
   "version": "3.12.0"
  }
 },
 "nbformat": 4,
 "nbformat_minor": 2
}
