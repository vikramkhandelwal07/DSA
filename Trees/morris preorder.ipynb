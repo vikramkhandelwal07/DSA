{
 "cells": [
  {
   "cell_type": "code",
   "execution_count": 1,
   "id": "be2a76f0",
   "metadata": {},
   "outputs": [],
   "source": [
    "def morrisInorder(root):\n",
    "    ans = []\n",
    "    curr = root\n",
    "\n",
    "    while curr:\n",
    "        if not curr.left:\n",
    "            ans.append(curr.val)\n",
    "            curr = curr.right\n",
    "        else:\n",
    "            # Find the inorder predecessor (rightmost in left subtree)\n",
    "            Ip = curr.left\n",
    "            while Ip.right and Ip.right != curr:\n",
    "                Ip = Ip.right\n",
    "            \n",
    "            if not Ip.right:\n",
    "                # Make a temporary thread to current\n",
    "                Ip.right = curr\n",
    "                curr = curr.left\n",
    "            else:\n",
    "                # Thread already exists; remove it\n",
    "                Ip.right = None\n",
    "                ans.append(curr.val)\n",
    "                curr = curr.right\n",
    "\n",
    "    return ans\n"
   ]
  },
  {
   "cell_type": "code",
   "execution_count": null,
   "id": "015d54f3",
   "metadata": {},
   "outputs": [],
   "source": []
  }
 ],
 "metadata": {
  "kernelspec": {
   "display_name": "Python 3",
   "language": "python",
   "name": "python3"
  },
  "language_info": {
   "codemirror_mode": {
    "name": "ipython",
    "version": 3
   },
   "file_extension": ".py",
   "mimetype": "text/x-python",
   "name": "python",
   "nbconvert_exporter": "python",
   "pygments_lexer": "ipython3",
   "version": "3.12.0"
  }
 },
 "nbformat": 4,
 "nbformat_minor": 5
}
