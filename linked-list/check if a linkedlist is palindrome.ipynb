{
 "cells": [
  {
   "cell_type": "markdown",
   "metadata": {},
   "source": [
    "- the problem will be solved in three parts \n",
    "  1. find the middle element using tortoise and hare algorihm\n",
    "  2. reverse the second half of the linkedlist\n",
    "  3. comparing the two half"
   ]
  },
  {
   "cell_type": "code",
   "execution_count": 8,
   "metadata": {},
   "outputs": [],
   "source": [
    "class Node:\n",
    "    def __init__(self, value):\n",
    "        self.value = value\n",
    "        self.next = None\n",
    "\n",
    "def array_to_linkedlist(array):\n",
    "    if not array:  # Handle empty array\n",
    "        return None\n",
    "    head = Node(array[0])\n",
    "    current = head\n",
    "    for value in array[1:]:\n",
    "        current.next = Node(value)\n",
    "        # print(current.next)\n",
    "        current = current.next\n",
    "    return head\n",
    "\n",
    "def display_linkedlist(head):\n",
    "    current = head\n",
    "    while current:\n",
    "        print(current.value, end=\" -> \")\n",
    "        current = current.next\n",
    "\n",
    "def reverseLinkedlist(head):\n",
    "  if head is None or head.next is None:\n",
    "    return head\n",
    "  \n",
    "  prev = None\n",
    "  current = head\n",
    "  while current:\n",
    "    front = current.next\n",
    "    current.next = prev\n",
    "    prev = current \n",
    "    current  = front\n",
    "  \n",
    "  return prev\n"
   ]
  },
  {
   "cell_type": "markdown",
   "metadata": {},
   "source": [
    "## TC-O(n/2 + n/2 + n/2 + n/2) = O(2n)\n",
    "## SC-O(1)"
   ]
  },
  {
   "cell_type": "code",
   "execution_count": 9,
   "metadata": {},
   "outputs": [],
   "source": [
    "\n",
    "def checkPalindrome(head):\n",
    "  if head is None or head.next is None:\n",
    "        return True\n",
    "  # find the middle element\n",
    "  slow = head\n",
    "  fast = head\n",
    "  while fast.next and fast.next.next:\n",
    "    slow = slow.next\n",
    "    fast = fast.next.next\n",
    "    \n",
    "  # 2nd step reverse\n",
    "  newHead = reverseLinkedlist(slow.next)\n",
    "\n",
    "  # 3rd step compare \n",
    "  first = head\n",
    "  second = newHead\n",
    "  while second:\n",
    "    if first.value != second.value:\n",
    "      reverseLinkedlist(newHead)\n",
    "      return False\n",
    "    \n",
    "    first = first.next\n",
    "    second = second.next\n",
    "  reverseLinkedlist(newHead)\n",
    "  return True"
   ]
  },
  {
   "cell_type": "code",
   "execution_count": 10,
   "metadata": {},
   "outputs": [
    {
     "name": "stdout",
     "output_type": "stream",
     "text": [
      "Original Linked List: 1 -> 1 -> 2 -> 1 -> The linked list is not a palindrome.\n"
     ]
    }
   ],
   "source": [
    "head = Node(1)\n",
    "head.next = Node(1)\n",
    "head.next.next = Node(2)\n",
    "head.next.next.next = Node(1)\n",
    "# head.next.next.next.next = Node(1)/\n",
    "\n",
    "# Print the original linked list\n",
    "print(\"Original Linked List: \", end=\"\")\n",
    "display_linkedlist(head)\n",
    "\n",
    "# Check if the linked list is a palindrome\n",
    "if checkPalindrome(head):\n",
    "    print(\"The linked list is a palindrome.\")\n",
    "else:\n",
    "    print(\"The linked list is not a palindrome.\")"
   ]
  },
  {
   "cell_type": "code",
   "execution_count": null,
   "metadata": {},
   "outputs": [],
   "source": []
  }
 ],
 "metadata": {
  "kernelspec": {
   "display_name": "Python 3",
   "language": "python",
   "name": "python3"
  },
  "language_info": {
   "codemirror_mode": {
    "name": "ipython",
    "version": 3
   },
   "file_extension": ".py",
   "mimetype": "text/x-python",
   "name": "python",
   "nbconvert_exporter": "python",
   "pygments_lexer": "ipython3",
   "version": "3.12.0"
  }
 },
 "nbformat": 4,
 "nbformat_minor": 2
}
