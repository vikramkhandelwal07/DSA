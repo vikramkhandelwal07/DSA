{
 "cells": [
  {
   "cell_type": "code",
   "execution_count": 3,
   "id": "64797985",
   "metadata": {},
   "outputs": [
    {
     "name": "stdout",
     "output_type": "stream",
     "text": [
      "[1, 2, 3, 4, 5, 6]\n"
     ]
    }
   ],
   "source": [
    "\n",
    "def findKDistantIndices(nums, key,k):\n",
    "    ans = set()\n",
    "    n = len(nums)\n",
    "    for i in range(n):\n",
    "        if nums[i] == key:\n",
    "            for j in range(max(0,i-k), min(n,i+k+1)):\n",
    "                ans.add(j)\n",
    "    \n",
    "    return sorted(ans)\n",
    "\n",
    "nums = [3,4,9,1,3,9,5]\n",
    "key = 9 \n",
    "k = 1\n",
    "print(findKDistantIndices(nums,key,k))"
   ]
  },
  {
   "cell_type": "code",
   "execution_count": null,
   "id": "4dd73162",
   "metadata": {},
   "outputs": [],
   "source": []
  }
 ],
 "metadata": {
  "kernelspec": {
   "display_name": "Python 3",
   "language": "python",
   "name": "python3"
  },
  "language_info": {
   "codemirror_mode": {
    "name": "ipython",
    "version": 3
   },
   "file_extension": ".py",
   "mimetype": "text/x-python",
   "name": "python",
   "nbconvert_exporter": "python",
   "pygments_lexer": "ipython3",
   "version": "3.12.0"
  }
 },
 "nbformat": 4,
 "nbformat_minor": 5
}
