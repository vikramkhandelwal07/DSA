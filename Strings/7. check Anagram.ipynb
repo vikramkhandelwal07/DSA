{
 "cells": [
  {
   "cell_type": "code",
   "execution_count": 3,
   "id": "72653bd9",
   "metadata": {},
   "outputs": [
    {
     "data": {
      "text/plain": [
       "True"
      ]
     },
     "execution_count": 3,
     "metadata": {},
     "output_type": "execute_result"
    }
   ],
   "source": [
    "def isAnagram(s,t):\n",
    "    if len(s) != len(t):\n",
    "        return False\n",
    "    map1 = {}\n",
    "    \n",
    "    for ch in s:\n",
    "        map1[ch] = map1.get(ch, 0) + 1\n",
    "        \n",
    "    for ch in t:\n",
    "        if ch not in map1:\n",
    "            return False\n",
    "        map1[ch] -=1\n",
    "        if map1[ch] < 0:\n",
    "            return False\n",
    "        \n",
    "    return True\n",
    "    \n",
    "s = \"listen\"\n",
    "t = \"silent\"\n",
    "isAnagram(s,t)        \n",
    "         "
   ]
  },
  {
   "cell_type": "code",
   "execution_count": 2,
   "id": "f696d9de",
   "metadata": {},
   "outputs": [
    {
     "data": {
      "text/plain": [
       "True"
      ]
     },
     "execution_count": 2,
     "metadata": {},
     "output_type": "execute_result"
    }
   ],
   "source": [
    "from collections import Counter\n",
    "\n",
    "\n",
    "def isAnagram2(s,t):\n",
    "    return Counter(s) == Counter(t)\n",
    "\n",
    "s = \"listen\"\n",
    "t = \"silent\"\n",
    "isAnagram2(s,t)"
   ]
  },
  {
   "cell_type": "code",
   "execution_count": null,
   "id": "de87b7b3",
   "metadata": {},
   "outputs": [],
   "source": []
  }
 ],
 "metadata": {
  "kernelspec": {
   "display_name": "Python 3",
   "language": "python",
   "name": "python3"
  },
  "language_info": {
   "codemirror_mode": {
    "name": "ipython",
    "version": 3
   },
   "file_extension": ".py",
   "mimetype": "text/x-python",
   "name": "python",
   "nbconvert_exporter": "python",
   "pygments_lexer": "ipython3",
   "version": "3.12.0"
  }
 },
 "nbformat": 4,
 "nbformat_minor": 5
}
