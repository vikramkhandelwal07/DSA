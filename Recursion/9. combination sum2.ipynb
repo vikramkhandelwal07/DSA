{
 "cells": [
  {
   "cell_type": "markdown",
   "metadata": {},
   "source": []
  },
  {
   "cell_type": "markdown",
   "metadata": {},
   "source": [
    "\n",
    "## Combination Sum II\n",
    "\n",
    "### Problem Description\n",
    "Given a collection of candidate numbers (`candidates`) and a target number (`target`), find all unique combinations in `candidates` where the candidate numbers sum to `target`.\n",
    "\n",
    "Each number in `candidates` may only be used once in the combination.\n",
    "\n",
    "### Note:\n",
    "- All numbers (including `target`) will be positive integers.\n",
    "- The solution set must not contain duplicate combinations.\n",
    "\n",
    "### Example:\n",
    "#### Example 1\n",
    "  - All numbers (including `target`) will be positive integers.\n",
    "  - The solution set must not contain duplicate combinations.\n",
    " \n",
    "  @example\n",
    "  Example 1:\n",
    "  Input: candidates = [10,1,2,7,6,1,5], target = 8\n",
    "  Output: \n",
    "  [\n",
    "    [1,1,6],\n",
    "    [1,2,5],\n",
    "    [1,7],\n",
    "    [2,6]\n",
    "  ]\n",
    " \n",
    "  Example 2:\n",
    "  Input: candidates = [2,5,2,1,2], target = 5\n",
    "  Output: \n",
    "  [\n",
    "    [1,2,2],\n",
    "    [5]\n",
    "  ]"
   ]
  },
  {
   "cell_type": "markdown",
   "metadata": {},
   "source": [
    "it is basically that on a index i am checking whentehr i can take which all values \n",
    "- basically looping from index to n-1 and checking whether i can take it or not\n"
   ]
  },
  {
   "cell_type": "code",
   "execution_count": 14,
   "metadata": {},
   "outputs": [],
   "source": [
    "def combinationSum2(candidates,target):\n",
    "  ans = []\n",
    "  candidates.sort()\n",
    "  def findCombination(index,target,ds):\n",
    "    if target == 0:\n",
    "      ans.append(ds[:])\n",
    "      return\n",
    "    \n",
    "    for i in range(index,len(candidates)):\n",
    "      if i > index and candidates[i] == candidates[i-1]:\n",
    "        continue\n",
    "      if candidates[i] > target:\n",
    "        break\n",
    "      \n",
    "      ds.append(candidates[i])\n",
    "      findCombination(i+1,target-candidates[i],ds)\n",
    "      ds.pop()\n",
    "    \n",
    "  findCombination(0,target,[])\n",
    "  return ans \n",
    "      "
   ]
  },
  {
   "cell_type": "code",
   "execution_count": 15,
   "metadata": {},
   "outputs": [
    {
     "data": {
      "text/plain": [
       "[[1, 1, 5], [1, 6], [2, 5], [7]]"
      ]
     },
     "execution_count": 15,
     "metadata": {},
     "output_type": "execute_result"
    }
   ],
   "source": [
    "v = [10, 1, 2, 7, 6, 1, 5]\n",
    "target = 7\n",
    "combinationSum2(v,target)"
   ]
  },
  {
   "cell_type": "code",
   "execution_count": null,
   "metadata": {},
   "outputs": [],
   "source": []
  }
 ],
 "metadata": {
  "kernelspec": {
   "display_name": "Python 3",
   "language": "python",
   "name": "python3"
  },
  "language_info": {
   "codemirror_mode": {
    "name": "ipython",
    "version": 3
   },
   "file_extension": ".py",
   "mimetype": "text/x-python",
   "name": "python",
   "nbconvert_exporter": "python",
   "pygments_lexer": "ipython3",
   "version": "3.12.0"
  }
 },
 "nbformat": 4,
 "nbformat_minor": 2
}
