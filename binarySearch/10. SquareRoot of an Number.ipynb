{
 "cells": [
  {
   "cell_type": "markdown",
   "metadata": {},
   "source": [
    "Given an integer n, find the square root of n. If n is not a perfect square, then return the floor value.\n",
    "\n",
    "Floor value of any number is the greatest Integer which is less than or equal to that number"
   ]
  },
  {
   "cell_type": "code",
   "execution_count": 3,
   "metadata": {},
   "outputs": [
    {
     "data": {
      "text/plain": [
       "5"
      ]
     },
     "execution_count": 3,
     "metadata": {},
     "output_type": "execute_result"
    }
   ],
   "source": [
    "import math\n",
    "def SqaureRoot(n):\n",
    "  return math.floor(math.sqrt(n))\n",
    "\n",
    "SqaureRoot(28)"
   ]
  },
  {
   "cell_type": "code",
   "execution_count": 6,
   "metadata": {},
   "outputs": [
    {
     "data": {
      "text/plain": [
       "5"
      ]
     },
     "execution_count": 6,
     "metadata": {},
     "output_type": "execute_result"
    }
   ],
   "source": [
    "def SqaureRoot(n):\n",
    "  ans = 0\n",
    "  for i in range(n):\n",
    "    if i*i < n:\n",
    "      ans = i\n",
    "    else:\n",
    "      break\n",
    "  return ans\n",
    "\n",
    "SqaureRoot(28)"
   ]
  },
  {
   "cell_type": "code",
   "execution_count": 10,
   "metadata": {},
   "outputs": [
    {
     "data": {
      "text/plain": [
       "2"
      ]
     },
     "execution_count": 10,
     "metadata": {},
     "output_type": "execute_result"
    }
   ],
   "source": [
    "def SqaureRoot(n):\n",
    "  ans = 0\n",
    "  low = 0\n",
    "  high = n//2\n",
    "  while (low <= high):\n",
    "    mid = (low+high)//2\n",
    "    if mid * mid > n:\n",
    "      high = mid -1\n",
    "    else:\n",
    "      ans = mid \n",
    "      low = mid + 1\n",
    "      \n",
    "  return ans \n",
    "\n",
    "SqaureRoot(5)"
   ]
  },
  {
   "cell_type": "code",
   "execution_count": null,
   "metadata": {},
   "outputs": [],
   "source": []
  }
 ],
 "metadata": {
  "kernelspec": {
   "display_name": "Python 3",
   "language": "python",
   "name": "python3"
  },
  "language_info": {
   "codemirror_mode": {
    "name": "ipython",
    "version": 3
   },
   "file_extension": ".py",
   "mimetype": "text/x-python",
   "name": "python",
   "nbconvert_exporter": "python",
   "pygments_lexer": "ipython3",
   "version": "3.12.0"
  }
 },
 "nbformat": 4,
 "nbformat_minor": 2
}
