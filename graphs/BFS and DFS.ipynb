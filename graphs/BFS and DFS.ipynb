{
 "cells": [
  {
   "cell_type": "code",
   "execution_count": 4,
   "metadata": {},
   "outputs": [
    {
     "name": "stdout",
     "output_type": "stream",
     "text": [
      "BFS Traversal: [0, 1, 2, 3, 4, 5, 6]\n",
      "DFS Traversal: [0, 1, 3, 4, 2, 5, 6]\n"
     ]
    }
   ],
   "source": [
    "from collections import deque\n",
    "\n",
    "class Solution:\n",
    "    def bfs(self, adj):\n",
    "        \"\"\"\n",
    "        Perform Breadth-First Search (BFS) traversal on a graph.\n",
    "        \n",
    "        Parameters:\n",
    "        adj (dict): Adjacency list representation of the graph.\n",
    "        \n",
    "        Returns:\n",
    "        list: BFS traversal order of nodes.\n",
    "        \"\"\"\n",
    "        visited = set([0])  # Set to track visited nodes\n",
    "        result = []  # List to store BFS traversal order\n",
    "        queue = deque([0])  # Queue for BFS traversal\n",
    "        \n",
    "        while queue:\n",
    "            node = queue.popleft()  # Dequeue a node\n",
    "            result.append(node)  # Add to result list\n",
    "            \n",
    "            # Visit all unvisited neighbors\n",
    "            for neighbor in adj[node]:\n",
    "                if neighbor not in visited:\n",
    "                    visited.add(neighbor)\n",
    "                    queue.append(neighbor)\n",
    "        \n",
    "        return result\n",
    "\n",
    "\n",
    "    def dfs(self, adj):\n",
    "        \"\"\"\n",
    "        Perform Depth-First Search (DFS) traversal on a graph.\n",
    "        \n",
    "        Parameters:\n",
    "        adj (dict): Adjacency list representation of the graph.\n",
    "        \n",
    "        Returns:\n",
    "        list: DFS traversal order of nodes.\n",
    "        \"\"\"\n",
    "        visited = set()\n",
    "        result = []\n",
    "        \n",
    "        def dfs_helper(node):\n",
    "            if node in visited:\n",
    "                return\n",
    "            visited.add(node)\n",
    "            result.append(node)\n",
    "            for neighbor in adj[node]:\n",
    "                dfs_helper(neighbor)\n",
    "        \n",
    "        dfs_helper(0)\n",
    "        return result\n",
    "\n",
    "            \n",
    "        \n",
    "# Example Usage\n",
    "graph = {\n",
    "    0: [1, 2],\n",
    "    1: [0, 3, 4],\n",
    "    2: [0, 5, 6],\n",
    "    3: [1],\n",
    "    4: [1],\n",
    "    5: [2],\n",
    "    6: [2]\n",
    "}\n",
    "\n",
    "sol = Solution()\n",
    "print(\"BFS Traversal:\", sol.bfs(graph))\n",
    "print(\"DFS Traversal:\", sol.dfs(graph))"
   ]
  },
  {
   "cell_type": "code",
   "execution_count": 3,
   "metadata": {},
   "outputs": [],
   "source": [
    "def BFS(adj):\n",
    "  visited = {[0]}\n",
    "  result = []\n",
    "  queue = deque([0])\n",
    "  \n",
    "  while queue:\n",
    "    node = queue.popleft()\n",
    "    result.append(node)\n",
    "    for neighbour in adj[node]:\n",
    "      if neighbour not in visited:\n",
    "        visited.add(neighbour)\n",
    "        queue.append(neighbour)\n",
    "  return result\n",
    "\n",
    "    "
   ]
  },
  {
   "cell_type": "code",
   "execution_count": 2,
   "metadata": {},
   "outputs": [],
   "source": [
    "def DFS(adj):\n",
    "  visited = set()\n",
    "  result = []\n",
    "  \n",
    "  def dfs_helper(node):\n",
    "    if node in visited:\n",
    "      return \n",
    "    visited.add(node)\n",
    "    result.append(node)\n",
    "    for i in range(adj[node]):\n",
    "      dfs_helper(i)\n",
    "        \n",
    "    dfs_helper(0)\n",
    "    return result\n",
    "      \n",
    "      \n",
    "  \n",
    "  "
   ]
  },
  {
   "cell_type": "code",
   "execution_count": null,
   "metadata": {},
   "outputs": [],
   "source": []
  }
 ],
 "metadata": {
  "kernelspec": {
   "display_name": "Python 3",
   "language": "python",
   "name": "python3"
  },
  "language_info": {
   "codemirror_mode": {
    "name": "ipython",
    "version": 3
   },
   "file_extension": ".py",
   "mimetype": "text/x-python",
   "name": "python",
   "nbconvert_exporter": "python",
   "pygments_lexer": "ipython3",
   "version": "3.12.0"
  }
 },
 "nbformat": 4,
 "nbformat_minor": 2
}
