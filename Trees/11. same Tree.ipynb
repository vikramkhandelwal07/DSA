{
 "cells": [
  {
   "cell_type": "code",
   "execution_count": 1,
   "metadata": {},
   "outputs": [],
   "source": [
    "class TreeNode:\n",
    "  def __init__(self,val = 0, left = None, right = None):\n",
    "    self.val = val\n",
    "    self.left = left\n",
    "    self.right = right\n",
    "  \n",
    "class Solution:\n",
    "  def isSameTree(self,p,q):\n",
    "    if not p and not q:\n",
    "      return True\n",
    "    if not p or not q or p.val != q.val:\n",
    "      return False\n",
    "    return self.isSameTree(p.left,q.left) and self.isSameTree(p.right,q.right)\n",
    "\n"
   ]
  },
  {
   "cell_type": "code",
   "execution_count": 2,
   "metadata": {},
   "outputs": [
    {
     "name": "stdout",
     "output_type": "stream",
     "text": [
      "True\n",
      "False\n",
      "False\n"
     ]
    }
   ],
   "source": [
    "# Creating test cases for isSameTree function\n",
    "\n",
    "# Test case 1: Identical trees\n",
    "p = TreeNode(1)\n",
    "p.left = TreeNode(2)\n",
    "p.right = TreeNode(3)\n",
    "\n",
    "q = TreeNode(1)\n",
    "q.left = TreeNode(2)\n",
    "q.right = TreeNode(3)\n",
    "\n",
    "sol = Solution()\n",
    "print(sol.isSameTree(p, q))  # Expected Output: True\n",
    "\n",
    "# Test case 2: Different structures\n",
    "p = TreeNode(1)\n",
    "p.left = TreeNode(2)\n",
    "\n",
    "q = TreeNode(1)\n",
    "q.right = TreeNode(2)\n",
    "\n",
    "print(sol.isSameTree(p, q))  # Expected Output: False\n",
    "\n",
    "# Test case 3: Different values\n",
    "p = TreeNode(1)\n",
    "p.left = TreeNode(2)\n",
    "p.right = TreeNode(3)\n",
    "\n",
    "q = TreeNode(1)\n",
    "q.left = TreeNode(3)\n",
    "q.right = TreeNode(2)\n",
    "\n",
    "print(sol.isSameTree(p, q))  # Expected Output: False\n",
    "\n",
    "# Test\n"
   ]
  },
  {
   "cell_type": "code",
   "execution_count": null,
   "metadata": {},
   "outputs": [],
   "source": []
  }
 ],
 "metadata": {
  "kernelspec": {
   "display_name": "Python 3",
   "language": "python",
   "name": "python3"
  },
  "language_info": {
   "codemirror_mode": {
    "name": "ipython",
    "version": 3
   },
   "file_extension": ".py",
   "mimetype": "text/x-python",
   "name": "python",
   "nbconvert_exporter": "python",
   "pygments_lexer": "ipython3",
   "version": "3.12.0"
  }
 },
 "nbformat": 4,
 "nbformat_minor": 2
}
