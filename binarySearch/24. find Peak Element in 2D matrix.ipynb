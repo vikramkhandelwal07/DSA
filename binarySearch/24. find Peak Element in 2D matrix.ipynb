{
 "cells": [
  {
   "cell_type": "code",
   "execution_count": 4,
   "metadata": {},
   "outputs": [],
   "source": [
    "from typing import List\n",
    "\n",
    "\n",
    "def findMaxIndex(mat, n, m, col):\n",
    "  maxValue = -1\n",
    "  index = -1\n",
    "  for i in range(n):\n",
    "    if mat[i][col] > maxValue:\n",
    "      maxValue = mat[i][col]\n",
    "      index = i\n",
    "  return index\n",
    "\n",
    "def findPeakGrid(mat):\n",
    "  n = len(mat)\n",
    "  m = len(mat[0])\n",
    "  low = 0\n",
    "  high = m - 1\n",
    "\n",
    "  while low <= high:\n",
    "    mid = (low + high) // 2\n",
    "    maxRowIndex = findMaxIndex(mat, n, m, mid)\n",
    "\n",
    "    left = mat[maxRowIndex][mid - 1] if mid > 0 else -1\n",
    "    right = mat[maxRowIndex][mid + 1] if mid < m - 1 else -1\n",
    "\n",
    "    if mat[maxRowIndex][mid] > left and mat[maxRowIndex][mid] > right:\n",
    "        return [maxRowIndex, mid]\n",
    "    elif mat[maxRowIndex][mid] < left:  \n",
    "        high = mid - 1\n",
    "    else:  \n",
    "        low = mid + 1\n",
    "\n",
    "  return [-1, -1]  \n"
   ]
  },
  {
   "cell_type": "code",
   "execution_count": 5,
   "metadata": {},
   "outputs": [
    {
     "data": {
      "text/plain": [
       "[1, 0]"
      ]
     },
     "execution_count": 5,
     "metadata": {},
     "output_type": "execute_result"
    }
   ],
   "source": [
    "mat = [[1,4],[3,2]]\n",
    "findPeakGrid(mat)\n"
   ]
  },
  {
   "cell_type": "code",
   "execution_count": null,
   "metadata": {},
   "outputs": [],
   "source": [
    "from typing import List\n",
    "\n",
    "class Solution:\n",
    "    def findRowIndex(self, mat: List[List[int]], m: int, n: int, col: int) -> int:\n",
    "        maxValue = -1\n",
    "        index = -1\n",
    "        for i in range(n):\n",
    "            if mat[i][col] > maxValue:\n",
    "                maxValue = mat[i][col]\n",
    "                index = i\n",
    "        return index\n",
    "\n",
    "    def findPeakGrid(self, mat: List[List[int]]) -> List[int]:\n",
    "        m = len(mat[0])\n",
    "        n = len(mat)\n",
    "        low = 0\n",
    "        high = m - 1\n",
    "        \n",
    "        while low <= high:\n",
    "            mid = (low + high) // 2\n",
    "            maxRowIndex = self.findRowIndex(mat, m, n, mid)\n",
    "\n",
    "            left = mat[maxRowIndex][mid - 1] if mid - 1 >= 0 else -1\n",
    "            right = mat[maxRowIndex][mid + 1] if mid + 1 < m else -1\n",
    "\n",
    "            if mat[maxRowIndex][mid] > left and mat[maxRowIndex][mid] > right:\n",
    "                return [maxRowIndex, mid]\n",
    "            elif mat[maxRowIndex][mid] < left:\n",
    "                high = mid - 1\n",
    "            else:\n",
    "                low = mid + 1\n",
    "                \n",
    "        return [-1, -1]\n"
   ]
  },
  {
   "cell_type": "code",
   "execution_count": null,
   "metadata": {},
   "outputs": [],
   "source": []
  }
 ],
 "metadata": {
  "kernelspec": {
   "display_name": "Python 3",
   "language": "python",
   "name": "python3"
  },
  "language_info": {
   "codemirror_mode": {
    "name": "ipython",
    "version": 3
   },
   "file_extension": ".py",
   "mimetype": "text/x-python",
   "name": "python",
   "nbconvert_exporter": "python",
   "pygments_lexer": "ipython3",
   "version": "3.12.0"
  }
 },
 "nbformat": 4,
 "nbformat_minor": 2
}
