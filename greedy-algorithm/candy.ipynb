{
 "cells": [
  {
   "cell_type": "markdown",
   "metadata": {},
   "source": [
    "There are n children standing in a line. Each child is assigned a rating value given in the integer array ratings.\n",
    "\n",
    "You are giving candies to these children subjected to the following requirements:\n",
    "\n",
    "Each child must have at least one candy.\n",
    "Children with a higher rating get more candies than their neighbors.\n",
    "Return the minimum number of candies you need to have to distribute the candies to the children.\n",
    "\n",
    " \n",
    "\n",
    "Example 1:\n",
    "\n",
    "Input: ratings = [1,0,2]\n",
    "Output: 5\n",
    "Explanation: You can allocate to the first, second and third child with 2, 1, 2 candies respectively.\n",
    "Example 2:\n",
    "\n",
    "Input: ratings = [1,2,2]\n",
    "Output: 4\n",
    "Explanation: You can allocate to the first, second and third child with 1, 2, 1 candies respectively.\n",
    "The third child gets 1 candy because it satisfies the above two conditions.\n"
   ]
  },
  {
   "cell_type": "code",
   "execution_count": 2,
   "metadata": {},
   "outputs": [
    {
     "name": "stdout",
     "output_type": "stream",
     "text": [
      "4\n"
     ]
    }
   ],
   "source": [
    "def candy(ratings):\n",
    "    n = len(ratings)\n",
    "    left = [1] * n  \n",
    "    right = [1] * n  \n",
    "\n",
    "    # Left-to-right pass\n",
    "    for i in range(1, n):\n",
    "        if ratings[i] > ratings[i-1]:\n",
    "            left[i] = left[i-1] + 1\n",
    "\n",
    "    for i in range(n-2, -1, -1):  \n",
    "        if ratings[i] > ratings[i+1]:\n",
    "            right[i] = right[i+1] + 1\n",
    "\n",
    "    total = 0\n",
    "    for i in range(n):\n",
    "        total += max(left[i], right[i])\n",
    "\n",
    "    return total\n",
    "\n",
    "# Test the function\n",
    "ratings = [1, 2, 2]\n",
    "print(candy(ratings))  # Output: 4\n"
   ]
  },
  {
   "cell_type": "code",
   "execution_count": null,
   "metadata": {},
   "outputs": [],
   "source": []
  }
 ],
 "metadata": {
  "kernelspec": {
   "display_name": "Python 3",
   "language": "python",
   "name": "python3"
  },
  "language_info": {
   "codemirror_mode": {
    "name": "ipython",
    "version": 3
   },
   "file_extension": ".py",
   "mimetype": "text/x-python",
   "name": "python",
   "nbconvert_exporter": "python",
   "pygments_lexer": "ipython3",
   "version": "3.12.0"
  }
 },
 "nbformat": 4,
 "nbformat_minor": 2
}
