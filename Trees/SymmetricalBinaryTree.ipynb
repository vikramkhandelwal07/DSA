{
 "cells": [
  {
   "cell_type": "code",
   "execution_count": null,
   "id": "b4c9fa91",
   "metadata": {},
   "outputs": [],
   "source": [
    "from turtle import right\n",
    "\n",
    "\n",
    "def isSymmetric(root):\n",
    "    if not root:\n",
    "        return True\n",
    "\n",
    "    def isMirror(t1,t2):\n",
    "        if not t1 and not t2:\n",
    "            return True\n",
    "        if not t1 or not t2:\n",
    "            return False\n",
    "        \n",
    "        return (t1.value == t2.value and isMirror(t1.left,t2.right) and isMirror(t1.right,t2.left))\n",
    "\n",
    "    return isMirror(root.left,root.right)\n",
    "\n"
   ]
  },
  {
   "cell_type": "code",
   "execution_count": null,
   "id": "4274ebe5",
   "metadata": {},
   "outputs": [],
   "source": []
  }
 ],
 "metadata": {
  "language_info": {
   "name": "python"
  }
 },
 "nbformat": 4,
 "nbformat_minor": 5
}
