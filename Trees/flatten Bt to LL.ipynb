{
 "cells": [
  {
   "cell_type": "code",
   "execution_count": null,
   "id": "1e48ccd3",
   "metadata": {},
   "outputs": [],
   "source": [
    "def flattenTree(root):\n",
    "    prev = None\n",
    "    def flatten(root):\n",
    "        nonlocal prev \n",
    "        if not root:\n",
    "            return \n",
    "        flatten(root.right)\n",
    "        flatten(root.left)\n",
    "        \n",
    "        root.right = prev\n",
    "        root.left = None\n",
    "        prev = root\n",
    "        \n",
    "        return root"
   ]
  }
 ],
 "metadata": {
  "language_info": {
   "name": "python"
  }
 },
 "nbformat": 4,
 "nbformat_minor": 5
}
