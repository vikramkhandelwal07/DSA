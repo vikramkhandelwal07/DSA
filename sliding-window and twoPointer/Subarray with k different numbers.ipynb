{
 "cells": [
  {
   "cell_type": "markdown",
   "id": "e98c0875",
   "metadata": {},
   "source": [
    "### Brute Force"
   ]
  },
  {
   "cell_type": "code",
   "execution_count": 5,
   "id": "fa37146e",
   "metadata": {},
   "outputs": [
    {
     "data": {
      "text/plain": [
       "7"
      ]
     },
     "execution_count": 5,
     "metadata": {},
     "output_type": "execute_result"
    }
   ],
   "source": [
    "def countSubArray(nums,k):\n",
    "    n = len(nums)\n",
    "    cnt = 0\n",
    "    for i in range(n):\n",
    "        seen = {}\n",
    "        for j in range(i,n):\n",
    "            seen[nums[j]] = seen.get(nums[j],0)+1\n",
    "            if len(seen) == k:\n",
    "                cnt +=1\n",
    "            elif len(seen) > k:\n",
    "                break\n",
    "    return cnt\n",
    "\n",
    "nums = [1,2,1,2,3]\n",
    "k = 2\n",
    "countSubArray(nums,k)      \n",
    "    "
   ]
  },
  {
   "cell_type": "code",
   "execution_count": 12,
   "id": "c1a08930",
   "metadata": {},
   "outputs": [
    {
     "name": "stdout",
     "output_type": "stream",
     "text": [
      "7\n"
     ]
    }
   ],
   "source": [
    "def distinctSubArraySumk(nums, k):\n",
    "    def atmost(k):\n",
    "        n = len(nums)\n",
    "        l = 0\n",
    "        cnt = 0\n",
    "        seen = {}\n",
    "        for r in range(n):\n",
    "            seen[nums[r]] = seen.get(nums[r], 0) + 1\n",
    "            while len(seen) > k:\n",
    "                seen[nums[l]] -= 1\n",
    "                if seen[nums[l]] == 0:\n",
    "                    del seen[nums[l]]\n",
    "                l += 1\n",
    "            cnt += (r - l + 1)\n",
    "        return cnt\n",
    "    return atmost(k) - atmost(k - 1)\n",
    "\n",
    "nums = [1, 2, 1, 2, 3]\n",
    "k = 2\n",
    "print(distinctSubArraySumk(nums, k))\n"
   ]
  },
  {
   "cell_type": "code",
   "execution_count": null,
   "id": "6815557e",
   "metadata": {},
   "outputs": [],
   "source": []
  },
  {
   "cell_type": "code",
   "execution_count": null,
   "id": "8e84d1b4",
   "metadata": {},
   "outputs": [],
   "source": []
  }
 ],
 "metadata": {
  "kernelspec": {
   "display_name": "Python 3",
   "language": "python",
   "name": "python3"
  },
  "language_info": {
   "codemirror_mode": {
    "name": "ipython",
    "version": 3
   },
   "file_extension": ".py",
   "mimetype": "text/x-python",
   "name": "python",
   "nbconvert_exporter": "python",
   "pygments_lexer": "ipython3",
   "version": "3.12.0"
  }
 },
 "nbformat": 4,
 "nbformat_minor": 5
}
