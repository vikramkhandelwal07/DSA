{
 "cells": [
  {
   "cell_type": "code",
   "execution_count": null,
   "id": "cb5bc542",
   "metadata": {},
   "outputs": [],
   "source": [
    "import sys\n",
    "def maxSubArray(nums):\n",
    "  n = len(nums)\n",
    "  maxi = -sys.maxsize -1\n",
    "  sum_ = 0\n",
    "  \n",
    "  for i in range(n):\n",
    "    sum_ += nums[i]\n",
    "    if sum_ > maxi:\n",
    "      maxi = sum_\n",
    "      \n",
    "    if sum_ < 0:\n",
    "      sum_ = 0\n",
    "    if maxi < 0: maxi = 0\n",
    "    \n",
    "  return maxi\n",
    "    "
   ]
  },
  {
   "cell_type": "code",
   "execution_count": 4,
   "id": "147c91f1",
   "metadata": {},
   "outputs": [
    {
     "name": "stdout",
     "output_type": "stream",
     "text": [
      "sum of maximum subarray: 6\n"
     ]
    }
   ],
   "source": [
    "\n",
    "nums = [-2,1,-3,4,-1,2,1,-5,4]\n",
    "output = maxSubArray(nums)\n",
    "print(\"sum of maximum subarray:\",output)"
   ]
  },
  {
   "cell_type": "code",
   "execution_count": null,
   "id": "c11ef747",
   "metadata": {},
   "outputs": [],
   "source": [
    "import sys\n",
    "def maxSubArray(nums):\n",
    "  \n",
    "  n = len(nums)\n",
    "  maxi = -sys.maxsize-1\n",
    "  sum_ = 0\n",
    "  \n",
    "  for i in range(n):\n",
    "    if sum_ == 0:\n",
    "      start = i\n",
    "    sum_ += nums[i]\n",
    "    \n",
    "    if sum_ > maxi:\n",
    "      maxi = sum_\n",
    "      ansStart = start\n",
    "      ansEnd = i\n",
    "      \n",
    "    if sum_ < 0:\n",
    "      sum_ = 0\n",
    "  \n",
    "  if maxi < 0:\n",
    "    return 0\n",
    "\n",
    "  print(f\"The subarray is: {nums[ansStart:ansEnd+1]}\")\n",
    "  return maxi"
   ]
  },
  {
   "cell_type": "code",
   "execution_count": 6,
   "id": "f2d5c813",
   "metadata": {},
   "outputs": [
    {
     "name": "stdout",
     "output_type": "stream",
     "text": [
      "The subarray is: [4, -1, 2, 1]\n",
      "Sum of maximum subarray: 6\n"
     ]
    }
   ],
   "source": [
    "nums = [-2, 1, -3, 4, -1, 2, 1, -5, 4]\n",
    "output = maxSubArray(nums)\n",
    "print(\"Sum of maximum subarray:\", output)"
   ]
  },
  {
   "cell_type": "code",
   "execution_count": null,
   "id": "fa632d6a",
   "metadata": {},
   "outputs": [],
   "source": []
  }
 ],
 "metadata": {
  "kernelspec": {
   "display_name": "Python 3",
   "language": "python",
   "name": "python3"
  },
  "language_info": {
   "codemirror_mode": {
    "name": "ipython",
    "version": 3
   },
   "file_extension": ".py",
   "mimetype": "text/x-python",
   "name": "python",
   "nbconvert_exporter": "python",
   "pygments_lexer": "ipython3",
   "version": "3.12.0"
  }
 },
 "nbformat": 4,
 "nbformat_minor": 5
}
