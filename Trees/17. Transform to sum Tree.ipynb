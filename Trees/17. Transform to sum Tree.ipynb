{
 "cells": [
  {
   "cell_type": "code",
   "execution_count": null,
   "metadata": {},
   "outputs": [
    {
     "name": "stdout",
     "output_type": "stream",
     "text": [
      "Total Sum of Original Tree: 28\n"
     ]
    }
   ],
   "source": [
    "class TreeNode:\n",
    "  def __init__(self,value):\n",
    "    self.value = value\n",
    "    self.left = None\n",
    "    self.right = None\n",
    "class Solution:\n",
    "  def transformSumTree(self, root):\n",
    "    if not root:\n",
    "      return 0\n",
    "    left_sum = self.transformSumTree(root.left)\n",
    "    right_sum = self.transformSumTree(root.right)\n",
    "\n",
    "    old_value = root.value\n",
    "    root.value = left_sum + right_sum\n",
    "    return root.value + old_value"
   ]
  },
  {
   "cell_type": "code",
   "execution_count": 14,
   "metadata": {},
   "outputs": [
    {
     "data": {
      "text/plain": [
       "28"
      ]
     },
     "execution_count": 14,
     "metadata": {},
     "output_type": "execute_result"
    }
   ],
   "source": [
    "# Example tree\n",
    "root = TreeNode(1)\n",
    "root.left = TreeNode(2)\n",
    "root.right = TreeNode(3)\n",
    "root.left.left = TreeNode(4)\n",
    "root.left.right = TreeNode(5)\n",
    "root.right.left = TreeNode(6)\n",
    "root.right.right = TreeNode(7)\n",
    "\n",
    "sol = Solution()\n",
    "sol.transformSumTree(root)"
   ]
  }
 ],
 "metadata": {
  "kernelspec": {
   "display_name": "Python 3",
   "language": "python",
   "name": "python3"
  },
  "language_info": {
   "codemirror_mode": {
    "name": "ipython",
    "version": 3
   },
   "file_extension": ".py",
   "mimetype": "text/x-python",
   "name": "python",
   "nbconvert_exporter": "python",
   "pygments_lexer": "ipython3",
   "version": "3.12.0"
  }
 },
 "nbformat": 4,
 "nbformat_minor": 2
}
