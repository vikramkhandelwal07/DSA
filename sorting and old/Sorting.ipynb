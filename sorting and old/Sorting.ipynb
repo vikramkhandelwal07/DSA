{
 "cells": [
  {
   "cell_type": "markdown",
   "metadata": {},
   "source": [
    "## Selection Sort\n"
   ]
  },
  {
   "cell_type": "code",
   "execution_count": null,
   "metadata": {},
   "outputs": [
    {
     "name": "stdout",
     "output_type": "stream",
     "text": [
      "[2, 3, 11, 23, 32, 65, 76, 98, 199]\n"
     ]
    }
   ],
   "source": [
    "#  time complexity is O(n^2)\n",
    "def selectionSort(arr):\n",
    "  n = len(arr)\n",
    "  for i in range(n):\n",
    "    mini = i\n",
    "    for j in range(i+1,n):\n",
    "      if arr[j] < arr[mini]:\n",
    "        arr[j], arr[mini] = arr[mini],arr[j]\n",
    "  return arr\n",
    "\n",
    "arr = [76,23,199,3,98,65,32,11,2]\n",
    "output = selectionSort(arr)\n",
    "print(output)"
   ]
  },
  {
   "cell_type": "markdown",
   "metadata": {},
   "source": [
    "## Bubble Sort"
   ]
  },
  {
   "cell_type": "code",
   "execution_count": null,
   "metadata": {},
   "outputs": [
    {
     "name": "stdout",
     "output_type": "stream",
     "text": [
      "[2, 3, 3, 11, 23, 32, 65, 76, 98, 98, 199]\n"
     ]
    }
   ],
   "source": [
    "# time complexity O(n^2)\n",
    "def BubbleSort(arr):\n",
    "  n = len(arr)\n",
    "  for i in range(n):\n",
    "    for j in range(n,i,-1):\n",
    "      if arr[j] < arr[j+1]:\n",
    "        arr[j], arr[j+1] = arr[j+1], arr[j]\n",
    "  return arr\n",
    "\n",
    "\n",
    "arr = [76,23,199,3,3,98,98,65,32,11,2]\n",
    "output = selectionSort(arr)\n",
    "print(output)"
   ]
  },
  {
   "cell_type": "code",
   "execution_count": null,
   "metadata": {},
   "outputs": [
    {
     "name": "stdout",
     "output_type": "stream",
     "text": [
      "[2, 3, 3, 11, 23, 32, 65, 76, 98, 98, 199]\n"
     ]
    }
   ],
   "source": [
    "# time complexity O(n^2)-for worst and avg\n",
    "# for best - O(n)\n",
    "# \n",
    "def BubbleSort(arr):\n",
    "  n = len(arr)\n",
    "  for i in range(n):\n",
    "    didSwap = 0\n",
    "    for j in range(n,i,-1):\n",
    "      if arr[j] < arr[j+1]:\n",
    "        arr[j], arr[j+1] = arr[j+1], arr[j]\n",
    "        didSwap = 1\n",
    "    \n",
    "    if didSwap == 0:\n",
    "      break\n",
    "  return arr\n",
    "\n",
    "# some improvement in algo\n",
    "arr = [76,23,199,3,3,98,98,65,32,11,2]\n",
    "output = selectionSort(arr)\n",
    "print(output)"
   ]
  },
  {
   "cell_type": "markdown",
   "metadata": {},
   "source": [
    "## Insertion Sort\n"
   ]
  },
  {
   "cell_type": "code",
   "execution_count": null,
   "metadata": {},
   "outputs": [
    {
     "name": "stdout",
     "output_type": "stream",
     "text": [
      "Your array after insertion sort is: [76, 2, 3, 3, 11, 23, 32, 65, 98, 98, 199]\n"
     ]
    }
   ],
   "source": [
    "# time complexity O(n^2)\n",
    "# best case O(n )\n",
    "def insertionSort(arr):\n",
    "    n = len(arr)\n",
    "    for i in range(1, n):  # Start from 1 since the first element is already considered sorted\n",
    "        key = arr[i]\n",
    "        j = i - 1\n",
    "        while j >=0 and arr[j] > key:\n",
    "            arr[j + 1] = arr[j]\n",
    "            j -= 1\n",
    "        arr[j + 1] = key\n",
    "    return arr\n",
    "\n",
    "# Driver code\n",
    "arr = [76,23,199,3,3,98,98,65,32,11,2]\n",
    "result = insertionSort(arr)\n",
    "print(\"Your array after insertion sort is:\", result)\n",
    "   "
   ]
  },
  {
   "cell_type": "markdown",
   "metadata": {},
   "source": [
    "## Merge Sort\n",
    "- Divide and merge"
   ]
  },
  {
   "cell_type": "code",
   "execution_count": null,
   "metadata": {},
   "outputs": [],
   "source": []
  },
  {
   "cell_type": "code",
   "execution_count": null,
   "metadata": {},
   "outputs": [],
   "source": []
  }
 ],
 "metadata": {
  "kernelspec": {
   "display_name": "Python 3",
   "language": "python",
   "name": "python3"
  },
  "language_info": {
   "codemirror_mode": {
    "name": "ipython",
    "version": 3
   },
   "file_extension": ".py",
   "mimetype": "text/x-python",
   "name": "python",
   "nbconvert_exporter": "python",
   "pygments_lexer": "ipython3",
   "version": "3.12.0"
  }
 },
 "nbformat": 4,
 "nbformat_minor": 2
}
