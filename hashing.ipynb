{
 "cells": [
  {
   "cell_type": "code",
   "execution_count": 2,
   "metadata": {},
   "outputs": [
    {
     "name": "stdout",
     "output_type": "stream",
     "text": [
      "Frequency of 1: 2\n",
      "Frequency of 2: 2\n",
      "Frequency of 4: 0\n",
      "Program completed.\n"
     ]
    }
   ],
   "source": [
    "def get_integer_input(prompt):\n",
    "    while True:\n",
    "        user_input = input(prompt)\n",
    "        if user_input.isdigit() or (user_input.startswith('-') and user_input[1:].isdigit()):\n",
    "            return int(user_input)\n",
    "        else:\n",
    "            print(\"Invalid input. Please enter a valid integer.\")\n",
    "\n",
    "def get_list_input(prompt, size):\n",
    "    while True:\n",
    "        user_input = input(prompt).split()\n",
    "        if len(user_input) == size and all(num.lstrip('-').isdigit() for num in user_input):\n",
    "            return [int(num) for num in user_input]\n",
    "        else:\n",
    "            print(f\"Invalid input. Please enter exactly {size} valid integers.\")\n",
    "\n",
    "# Get array size\n",
    "n = get_integer_input(\"Enter the size of the array: \")\n",
    "\n",
    "# Get array elements\n",
    "arr = get_list_input(f\"Enter {n} integers separated by spaces: \", n)\n",
    "\n",
    "# Precompute frequencies\n",
    "hash_map = [0] * 13\n",
    "for num in arr:\n",
    "    if 0 <= num <= 12:\n",
    "        hash_map[num] += 1\n",
    "\n",
    "# Get number of queries\n",
    "q = get_integer_input(\"Enter the number of queries: \")\n",
    "\n",
    "# Process queries\n",
    "for i in range(q):\n",
    "    number = get_integer_input(f\"Query {i+1}: Enter a number to check its frequency: \")\n",
    "    if 0 <= number <= 12:\n",
    "        print(f\"Frequency of {number}: {hash_map[number]}\")\n",
    "    else:\n",
    "        print(f\"Frequency of {number}: 0\")\n",
    "\n",
    "print(\"Program completed.\")\n"
   ]
  },
  {
   "cell_type": "code",
   "execution_count": null,
   "metadata": {},
   "outputs": [],
   "source": []
  }
 ],
 "metadata": {
  "kernelspec": {
   "display_name": "Python 3",
   "language": "python",
   "name": "python3"
  },
  "language_info": {
   "codemirror_mode": {
    "name": "ipython",
    "version": 3
   },
   "file_extension": ".py",
   "mimetype": "text/x-python",
   "name": "python",
   "nbconvert_exporter": "python",
   "pygments_lexer": "ipython3",
   "version": "3.12.0"
  }
 },
 "nbformat": 4,
 "nbformat_minor": 2
}
